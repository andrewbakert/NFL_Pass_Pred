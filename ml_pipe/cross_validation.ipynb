{
 "cells": [
  {
   "cell_type": "code",
   "execution_count": 1,
   "metadata": {
    "collapsed": true
   },
   "outputs": [],
   "source": [
    "import numpy as np\n",
    "\n",
    "np.random.seed(0)\n",
    "X = np.random.randint(size=(10000, 5), low=1, high=100)\n",
    "y = 2 * X[:, 0] + 10 * X[:, 1] + 28 * X[:, 2] + 67 * X[:, 3] + 102 * X[:, 4] + 100 * np.random.random(size=(10000))"
   ]
  },
  {
   "cell_type": "code",
   "execution_count": 2,
   "outputs": [
    {
     "name": "stderr",
     "output_type": "stream",
     "text": [
      "/opt/anaconda3/lib/python3.8/site-packages/statsmodels/genmod/generalized_linear_model.py:1323: UserWarning: Elastic net fitting did not converge\n",
      "  warnings.warn(\"Elastic net fitting did not converge\")\n",
      "/opt/anaconda3/lib/python3.8/site-packages/statsmodels/genmod/generalized_linear_model.py:1323: UserWarning: Elastic net fitting did not converge\n",
      "  warnings.warn(\"Elastic net fitting did not converge\")\n",
      "/opt/anaconda3/lib/python3.8/site-packages/statsmodels/genmod/generalized_linear_model.py:1323: UserWarning: Elastic net fitting did not converge\n",
      "  warnings.warn(\"Elastic net fitting did not converge\")\n",
      "/opt/anaconda3/lib/python3.8/site-packages/statsmodels/genmod/generalized_linear_model.py:1323: UserWarning: Elastic net fitting did not converge\n",
      "  warnings.warn(\"Elastic net fitting did not converge\")\n",
      "/opt/anaconda3/lib/python3.8/site-packages/statsmodels/genmod/generalized_linear_model.py:1323: UserWarning: Elastic net fitting did not converge\n",
      "  warnings.warn(\"Elastic net fitting did not converge\")\n",
      "/opt/anaconda3/lib/python3.8/site-packages/statsmodels/genmod/generalized_linear_model.py:1323: UserWarning: Elastic net fitting did not converge\n",
      "  warnings.warn(\"Elastic net fitting did not converge\")\n",
      "/opt/anaconda3/lib/python3.8/site-packages/statsmodels/genmod/generalized_linear_model.py:1323: UserWarning: Elastic net fitting did not converge\n",
      "  warnings.warn(\"Elastic net fitting did not converge\")\n",
      "/opt/anaconda3/lib/python3.8/site-packages/statsmodels/genmod/generalized_linear_model.py:1323: UserWarning: Elastic net fitting did not converge\n",
      "  warnings.warn(\"Elastic net fitting did not converge\")\n",
      "/opt/anaconda3/lib/python3.8/site-packages/statsmodels/genmod/generalized_linear_model.py:1323: UserWarning: Elastic net fitting did not converge\n",
      "  warnings.warn(\"Elastic net fitting did not converge\")\n",
      "/opt/anaconda3/lib/python3.8/site-packages/statsmodels/genmod/generalized_linear_model.py:1323: UserWarning: Elastic net fitting did not converge\n",
      "  warnings.warn(\"Elastic net fitting did not converge\")\n",
      "/opt/anaconda3/lib/python3.8/site-packages/statsmodels/genmod/generalized_linear_model.py:1323: UserWarning: Elastic net fitting did not converge\n",
      "  warnings.warn(\"Elastic net fitting did not converge\")\n"
     ]
    },
    {
     "ename": "KeyboardInterrupt",
     "evalue": "",
     "output_type": "error",
     "traceback": [
      "\u001B[0;31m---------------------------------------------------------------------------\u001B[0m",
      "\u001B[0;31mKeyboardInterrupt\u001B[0m                         Traceback (most recent call last)",
      "\u001B[0;32m/var/folders/6v/8jcf0jcn7_vfm2q2r4tz44gh0000gn/T/ipykernel_84747/3484482299.py\u001B[0m in \u001B[0;36m<module>\u001B[0;34m\u001B[0m\n\u001B[1;32m     43\u001B[0m     \u001B[0;32mreturn\u001B[0m \u001B[0;34m(\u001B[0m\u001B[0mbest_model\u001B[0m\u001B[0;34m,\u001B[0m \u001B[0mbest_params\u001B[0m\u001B[0;34m,\u001B[0m \u001B[0mbest_score\u001B[0m\u001B[0;34m)\u001B[0m\u001B[0;34m,\u001B[0m \u001B[0mcv_results\u001B[0m\u001B[0;34m\u001B[0m\u001B[0;34m\u001B[0m\u001B[0m\n\u001B[1;32m     44\u001B[0m \u001B[0;34m\u001B[0m\u001B[0m\n\u001B[0;32m---> 45\u001B[0;31m \u001B[0mbest\u001B[0m\u001B[0;34m,\u001B[0m \u001B[0mcv_results\u001B[0m \u001B[0;34m=\u001B[0m \u001B[0mgrid_search_sm\u001B[0m\u001B[0;34m(\u001B[0m\u001B[0mmodel\u001B[0m\u001B[0;34m,\u001B[0m \u001B[0mparam_grid\u001B[0m\u001B[0;34m,\u001B[0m \u001B[0mcv\u001B[0m\u001B[0;34m,\u001B[0m \u001B[0mmetric_name\u001B[0m\u001B[0;34m,\u001B[0m \u001B[0mrandom_seed\u001B[0m\u001B[0;34m)\u001B[0m\u001B[0;34m\u001B[0m\u001B[0;34m\u001B[0m\u001B[0m\n\u001B[0m",
      "\u001B[0;32m/var/folders/6v/8jcf0jcn7_vfm2q2r4tz44gh0000gn/T/ipykernel_84747/3484482299.py\u001B[0m in \u001B[0;36mgrid_search_sm\u001B[0;34m(model, param_grid, cv, metric_name, random_seed)\u001B[0m\n\u001B[1;32m     36\u001B[0m         \u001B[0;32mfor\u001B[0m \u001B[0mparam_comb\u001B[0m \u001B[0;32min\u001B[0m \u001B[0mparam_lst\u001B[0m\u001B[0;34m:\u001B[0m\u001B[0;34m\u001B[0m\u001B[0;34m\u001B[0m\u001B[0m\n\u001B[1;32m     37\u001B[0m             \u001B[0mmodel_comb\u001B[0m \u001B[0;34m=\u001B[0m \u001B[0mmodel\u001B[0m\u001B[0;34m(\u001B[0m\u001B[0my_train\u001B[0m\u001B[0;34m,\u001B[0m \u001B[0mX_train\u001B[0m\u001B[0;34m)\u001B[0m\u001B[0;34m\u001B[0m\u001B[0;34m\u001B[0m\u001B[0m\n\u001B[0;32m---> 38\u001B[0;31m             \u001B[0mresults\u001B[0m \u001B[0;34m=\u001B[0m \u001B[0mmodel_comb\u001B[0m\u001B[0;34m.\u001B[0m\u001B[0mfit_regularized\u001B[0m\u001B[0;34m(\u001B[0m\u001B[0;34m**\u001B[0m\u001B[0mparam_comb\u001B[0m\u001B[0;34m)\u001B[0m\u001B[0;34m\u001B[0m\u001B[0;34m\u001B[0m\u001B[0m\n\u001B[0m\u001B[1;32m     39\u001B[0m             \u001B[0my_pred\u001B[0m \u001B[0;34m=\u001B[0m \u001B[0mresults\u001B[0m\u001B[0;34m.\u001B[0m\u001B[0mpredict\u001B[0m\u001B[0;34m(\u001B[0m\u001B[0mX_valid\u001B[0m\u001B[0;34m)\u001B[0m\u001B[0;34m\u001B[0m\u001B[0;34m\u001B[0m\u001B[0m\n\u001B[1;32m     40\u001B[0m             \u001B[0mmetric_val\u001B[0m \u001B[0;34m=\u001B[0m \u001B[0mmetric\u001B[0m\u001B[0;34m(\u001B[0m\u001B[0my_valid\u001B[0m\u001B[0;34m,\u001B[0m \u001B[0my_pred\u001B[0m\u001B[0;34m)\u001B[0m\u001B[0;34m\u001B[0m\u001B[0;34m\u001B[0m\u001B[0m\n",
      "\u001B[0;32m/opt/anaconda3/lib/python3.8/site-packages/statsmodels/genmod/generalized_linear_model.py\u001B[0m in \u001B[0;36mfit_regularized\u001B[0;34m(self, method, alpha, start_params, refit, opt_method, **kwargs)\u001B[0m\n\u001B[1;32m   1311\u001B[0m         \u001B[0mdefaults\u001B[0m\u001B[0;34m.\u001B[0m\u001B[0mupdate\u001B[0m\u001B[0;34m(\u001B[0m\u001B[0mkwargs\u001B[0m\u001B[0;34m)\u001B[0m\u001B[0;34m\u001B[0m\u001B[0;34m\u001B[0m\u001B[0m\n\u001B[1;32m   1312\u001B[0m \u001B[0;34m\u001B[0m\u001B[0m\n\u001B[0;32m-> 1313\u001B[0;31m         result = fit_elasticnet(self, method=method,\n\u001B[0m\u001B[1;32m   1314\u001B[0m                                 \u001B[0malpha\u001B[0m\u001B[0;34m=\u001B[0m\u001B[0malpha\u001B[0m\u001B[0;34m,\u001B[0m\u001B[0;34m\u001B[0m\u001B[0;34m\u001B[0m\u001B[0m\n\u001B[1;32m   1315\u001B[0m                                 \u001B[0mstart_params\u001B[0m\u001B[0;34m=\u001B[0m\u001B[0mstart_params\u001B[0m\u001B[0;34m,\u001B[0m\u001B[0;34m\u001B[0m\u001B[0;34m\u001B[0m\u001B[0m\n",
      "\u001B[0;32m/opt/anaconda3/lib/python3.8/site-packages/statsmodels/base/elastic_net.py\u001B[0m in \u001B[0;36mfit_elasticnet\u001B[0;34m(model, method, maxiter, alpha, L1_wt, start_params, cnvrg_tol, zero_tol, refit, check_step, loglike_kwds, score_kwds, hess_kwds)\u001B[0m\n\u001B[1;32m    195\u001B[0m             \u001B[0;31m# Do the one-dimensional optimization.\u001B[0m\u001B[0;34m\u001B[0m\u001B[0;34m\u001B[0m\u001B[0;34m\u001B[0m\u001B[0m\n\u001B[1;32m    196\u001B[0m             \u001B[0mfunc\u001B[0m\u001B[0;34m,\u001B[0m \u001B[0mgrad\u001B[0m\u001B[0;34m,\u001B[0m \u001B[0mhess\u001B[0m \u001B[0;34m=\u001B[0m \u001B[0mfgh_list\u001B[0m\u001B[0;34m[\u001B[0m\u001B[0mk\u001B[0m\u001B[0;34m]\u001B[0m\u001B[0;34m\u001B[0m\u001B[0;34m\u001B[0m\u001B[0m\n\u001B[0;32m--> 197\u001B[0;31m             params[k] = _opt_1d(\n\u001B[0m\u001B[1;32m    198\u001B[0m                 \u001B[0mfunc\u001B[0m\u001B[0;34m,\u001B[0m \u001B[0mgrad\u001B[0m\u001B[0;34m,\u001B[0m \u001B[0mhess\u001B[0m\u001B[0;34m,\u001B[0m \u001B[0mmodel_1var\u001B[0m\u001B[0;34m,\u001B[0m \u001B[0mparams\u001B[0m\u001B[0;34m[\u001B[0m\u001B[0mk\u001B[0m\u001B[0;34m]\u001B[0m\u001B[0;34m,\u001B[0m \u001B[0malpha\u001B[0m\u001B[0;34m[\u001B[0m\u001B[0mk\u001B[0m\u001B[0;34m]\u001B[0m\u001B[0;34m*\u001B[0m\u001B[0mL1_wt\u001B[0m\u001B[0;34m,\u001B[0m\u001B[0;34m\u001B[0m\u001B[0;34m\u001B[0m\u001B[0m\n\u001B[1;32m    199\u001B[0m                 tol=btol, check_step=check_step)\n",
      "\u001B[0;32m/opt/anaconda3/lib/python3.8/site-packages/statsmodels/base/elastic_net.py\u001B[0m in \u001B[0;36m_opt_1d\u001B[0;34m(func, grad, hess, model, start, L1_wt, tol, check_step)\u001B[0m\n\u001B[1;32m    324\u001B[0m \u001B[0;34m\u001B[0m\u001B[0m\n\u001B[1;32m    325\u001B[0m     \u001B[0mx\u001B[0m \u001B[0;34m=\u001B[0m \u001B[0mstart\u001B[0m\u001B[0;34m\u001B[0m\u001B[0;34m\u001B[0m\u001B[0m\n\u001B[0;32m--> 326\u001B[0;31m     \u001B[0mf\u001B[0m \u001B[0;34m=\u001B[0m \u001B[0mfunc\u001B[0m\u001B[0;34m(\u001B[0m\u001B[0mx\u001B[0m\u001B[0;34m,\u001B[0m \u001B[0mmodel\u001B[0m\u001B[0;34m)\u001B[0m\u001B[0;34m\u001B[0m\u001B[0;34m\u001B[0m\u001B[0m\n\u001B[0m\u001B[1;32m    327\u001B[0m     \u001B[0mb\u001B[0m \u001B[0;34m=\u001B[0m \u001B[0mgrad\u001B[0m\u001B[0;34m(\u001B[0m\u001B[0mx\u001B[0m\u001B[0;34m,\u001B[0m \u001B[0mmodel\u001B[0m\u001B[0;34m)\u001B[0m\u001B[0;34m\u001B[0m\u001B[0;34m\u001B[0m\u001B[0m\n\u001B[1;32m    328\u001B[0m     \u001B[0mc\u001B[0m \u001B[0;34m=\u001B[0m \u001B[0mhess\u001B[0m\u001B[0;34m(\u001B[0m\u001B[0mx\u001B[0m\u001B[0;34m,\u001B[0m \u001B[0mmodel\u001B[0m\u001B[0;34m)\u001B[0m\u001B[0;34m\u001B[0m\u001B[0;34m\u001B[0m\u001B[0m\n",
      "\u001B[0;32m/opt/anaconda3/lib/python3.8/site-packages/statsmodels/base/elastic_net.py\u001B[0m in \u001B[0;36mnploglike\u001B[0;34m(params, model)\u001B[0m\n\u001B[1;32m     42\u001B[0m         \u001B[0mnobs\u001B[0m \u001B[0;34m=\u001B[0m \u001B[0mmodel\u001B[0m\u001B[0;34m.\u001B[0m\u001B[0mnobs\u001B[0m\u001B[0;34m\u001B[0m\u001B[0;34m\u001B[0m\u001B[0m\n\u001B[1;32m     43\u001B[0m         \u001B[0mpen_llf\u001B[0m \u001B[0;34m=\u001B[0m \u001B[0malpha\u001B[0m\u001B[0;34m[\u001B[0m\u001B[0mk\u001B[0m\u001B[0;34m]\u001B[0m \u001B[0;34m*\u001B[0m \u001B[0;34m(\u001B[0m\u001B[0;36m1\u001B[0m \u001B[0;34m-\u001B[0m \u001B[0mL1_wt\u001B[0m\u001B[0;34m)\u001B[0m \u001B[0;34m*\u001B[0m \u001B[0mnp\u001B[0m\u001B[0;34m.\u001B[0m\u001B[0msum\u001B[0m\u001B[0;34m(\u001B[0m\u001B[0mparams\u001B[0m\u001B[0;34m**\u001B[0m\u001B[0;36m2\u001B[0m\u001B[0;34m)\u001B[0m \u001B[0;34m/\u001B[0m \u001B[0;36m2\u001B[0m\u001B[0;34m\u001B[0m\u001B[0;34m\u001B[0m\u001B[0m\n\u001B[0;32m---> 44\u001B[0;31m         \u001B[0mllf\u001B[0m \u001B[0;34m=\u001B[0m \u001B[0mmodel\u001B[0m\u001B[0;34m.\u001B[0m\u001B[0mloglike\u001B[0m\u001B[0;34m(\u001B[0m\u001B[0mnp\u001B[0m\u001B[0;34m.\u001B[0m\u001B[0mr_\u001B[0m\u001B[0;34m[\u001B[0m\u001B[0mparams\u001B[0m\u001B[0;34m]\u001B[0m\u001B[0;34m,\u001B[0m \u001B[0;34m**\u001B[0m\u001B[0mloglike_kwds\u001B[0m\u001B[0;34m)\u001B[0m\u001B[0;34m\u001B[0m\u001B[0;34m\u001B[0m\u001B[0m\n\u001B[0m\u001B[1;32m     45\u001B[0m         \u001B[0;32mreturn\u001B[0m \u001B[0;34m-\u001B[0m \u001B[0mllf\u001B[0m \u001B[0;34m/\u001B[0m \u001B[0mnobs\u001B[0m \u001B[0;34m+\u001B[0m \u001B[0mpen_llf\u001B[0m\u001B[0;34m\u001B[0m\u001B[0;34m\u001B[0m\u001B[0m\n\u001B[1;32m     46\u001B[0m \u001B[0;34m\u001B[0m\u001B[0m\n",
      "\u001B[0;32m/opt/anaconda3/lib/python3.8/site-packages/statsmodels/genmod/generalized_linear_model.py\u001B[0m in \u001B[0;36mloglike\u001B[0;34m(self, params, scale)\u001B[0m\n\u001B[1;32m    431\u001B[0m         \u001B[0mexpval\u001B[0m \u001B[0;34m=\u001B[0m \u001B[0mself\u001B[0m\u001B[0;34m.\u001B[0m\u001B[0mfamily\u001B[0m\u001B[0;34m.\u001B[0m\u001B[0mlink\u001B[0m\u001B[0;34m.\u001B[0m\u001B[0minverse\u001B[0m\u001B[0;34m(\u001B[0m\u001B[0mlin_pred\u001B[0m\u001B[0;34m)\u001B[0m\u001B[0;34m\u001B[0m\u001B[0;34m\u001B[0m\u001B[0m\n\u001B[1;32m    432\u001B[0m         \u001B[0;32mif\u001B[0m \u001B[0mscale\u001B[0m \u001B[0;32mis\u001B[0m \u001B[0;32mNone\u001B[0m\u001B[0;34m:\u001B[0m\u001B[0;34m\u001B[0m\u001B[0;34m\u001B[0m\u001B[0m\n\u001B[0;32m--> 433\u001B[0;31m             \u001B[0mscale\u001B[0m \u001B[0;34m=\u001B[0m \u001B[0mself\u001B[0m\u001B[0;34m.\u001B[0m\u001B[0mestimate_scale\u001B[0m\u001B[0;34m(\u001B[0m\u001B[0mexpval\u001B[0m\u001B[0;34m)\u001B[0m\u001B[0;34m\u001B[0m\u001B[0;34m\u001B[0m\u001B[0m\n\u001B[0m\u001B[1;32m    434\u001B[0m         llf = self.family.loglike(self.endog, expval, self.var_weights,\n\u001B[1;32m    435\u001B[0m                                   self.freq_weights, scale)\n",
      "\u001B[0;32m/opt/anaconda3/lib/python3.8/site-packages/statsmodels/genmod/generalized_linear_model.py\u001B[0m in \u001B[0;36mestimate_scale\u001B[0;34m(self, mu)\u001B[0m\n\u001B[1;32m    775\u001B[0m                 \u001B[0;32mreturn\u001B[0m \u001B[0;36m1.\u001B[0m\u001B[0;34m\u001B[0m\u001B[0;34m\u001B[0m\u001B[0m\n\u001B[1;32m    776\u001B[0m             \u001B[0;32melse\u001B[0m\u001B[0;34m:\u001B[0m\u001B[0;34m\u001B[0m\u001B[0;34m\u001B[0m\u001B[0m\n\u001B[0;32m--> 777\u001B[0;31m                 \u001B[0;32mreturn\u001B[0m \u001B[0mself\u001B[0m\u001B[0;34m.\u001B[0m\u001B[0m_estimate_x2_scale\u001B[0m\u001B[0;34m(\u001B[0m\u001B[0mmu\u001B[0m\u001B[0;34m)\u001B[0m\u001B[0;34m\u001B[0m\u001B[0;34m\u001B[0m\u001B[0m\n\u001B[0m\u001B[1;32m    778\u001B[0m \u001B[0;34m\u001B[0m\u001B[0m\n\u001B[1;32m    779\u001B[0m         \u001B[0;32mif\u001B[0m \u001B[0misinstance\u001B[0m\u001B[0;34m(\u001B[0m\u001B[0mself\u001B[0m\u001B[0;34m.\u001B[0m\u001B[0mscaletype\u001B[0m\u001B[0;34m,\u001B[0m \u001B[0mfloat\u001B[0m\u001B[0;34m)\u001B[0m\u001B[0;34m:\u001B[0m\u001B[0;34m\u001B[0m\u001B[0;34m\u001B[0m\u001B[0m\n",
      "\u001B[0;32m/opt/anaconda3/lib/python3.8/site-packages/statsmodels/genmod/generalized_linear_model.py\u001B[0m in \u001B[0;36m_estimate_x2_scale\u001B[0;34m(self, mu)\u001B[0m\n\u001B[1;32m    795\u001B[0m \u001B[0;34m\u001B[0m\u001B[0m\n\u001B[1;32m    796\u001B[0m     \u001B[0;32mdef\u001B[0m \u001B[0m_estimate_x2_scale\u001B[0m\u001B[0;34m(\u001B[0m\u001B[0mself\u001B[0m\u001B[0;34m,\u001B[0m \u001B[0mmu\u001B[0m\u001B[0;34m)\u001B[0m\u001B[0;34m:\u001B[0m\u001B[0;34m\u001B[0m\u001B[0;34m\u001B[0m\u001B[0m\n\u001B[0;32m--> 797\u001B[0;31m         \u001B[0mresid\u001B[0m \u001B[0;34m=\u001B[0m \u001B[0mnp\u001B[0m\u001B[0;34m.\u001B[0m\u001B[0mpower\u001B[0m\u001B[0;34m(\u001B[0m\u001B[0mself\u001B[0m\u001B[0;34m.\u001B[0m\u001B[0mendog\u001B[0m \u001B[0;34m-\u001B[0m \u001B[0mmu\u001B[0m\u001B[0;34m,\u001B[0m \u001B[0;36m2\u001B[0m\u001B[0;34m)\u001B[0m \u001B[0;34m*\u001B[0m \u001B[0mself\u001B[0m\u001B[0;34m.\u001B[0m\u001B[0miweights\u001B[0m\u001B[0;34m\u001B[0m\u001B[0;34m\u001B[0m\u001B[0m\n\u001B[0m\u001B[1;32m    798\u001B[0m         \u001B[0;32mreturn\u001B[0m \u001B[0mnp\u001B[0m\u001B[0;34m.\u001B[0m\u001B[0msum\u001B[0m\u001B[0;34m(\u001B[0m\u001B[0mresid\u001B[0m \u001B[0;34m/\u001B[0m \u001B[0mself\u001B[0m\u001B[0;34m.\u001B[0m\u001B[0mfamily\u001B[0m\u001B[0;34m.\u001B[0m\u001B[0mvariance\u001B[0m\u001B[0;34m(\u001B[0m\u001B[0mmu\u001B[0m\u001B[0;34m)\u001B[0m\u001B[0;34m)\u001B[0m \u001B[0;34m/\u001B[0m \u001B[0mself\u001B[0m\u001B[0;34m.\u001B[0m\u001B[0mdf_resid\u001B[0m\u001B[0;34m\u001B[0m\u001B[0;34m\u001B[0m\u001B[0m\n\u001B[1;32m    799\u001B[0m \u001B[0;34m\u001B[0m\u001B[0m\n",
      "\u001B[0;31mKeyboardInterrupt\u001B[0m: "
     ]
    }
   ],
   "source": [
    "import statsmodels.api as sm\n",
    "from sklearn.metrics import r2_score\n",
    "from itertools import permutations, product\n",
    "\n",
    "model = sm.GLM\n",
    "param_grid = {'L1_wt': [0.1 * x for x in range(0, 5)], 'alpha': [0.1 * x for x in range(0, 5)]}\n",
    "cv = 5\n",
    "metric_name = 'r2_score'\n",
    "random_seed = 0\n",
    "\n",
    "def grid_search_sm(model, param_grid, cv, metric_name, random_seed):\n",
    "    if metric_name == 'r2_score':\n",
    "        metric = r2_score\n",
    "    np.random.seed(random_seed)\n",
    "    arr = np.array(range(X.shape[0]))\n",
    "    np.random.shuffle(arr)\n",
    "    breaks = [X.shape[0] // cv * i for i in range(cv)] + [X.shape[0] + 1]\n",
    "    arr_cv = np.array([arr[breaks[i]:breaks[i+1]] for i in range(len(breaks) - 1)])\n",
    "    param_lens_pos = product(*[list(range(len(v))) for k, v in param_grid.items()])\n",
    "    param_lst = []\n",
    "    for prod in param_lens_pos:\n",
    "        params = {}\n",
    "        for idx, key in enumerate(param_grid.keys()):\n",
    "            param_idx = prod[idx]\n",
    "            params[key] = param_grid[key][param_idx]\n",
    "        param_lst.append(params)\n",
    "    cv_results = []\n",
    "    for i in range(cv):\n",
    "        X_valid = X[arr_cv[i]]\n",
    "        y_valid = y[arr_cv[i]]\n",
    "        non_i = list(range(cv))\n",
    "        non_i.pop(i)\n",
    "        train_idx = arr_cv[non_i].ravel()\n",
    "        X_train = X[train_idx]\n",
    "        y_train = y[train_idx]\n",
    "        for param_comb in param_lst:\n",
    "            model_comb = model(y_train, X_train)\n",
    "            results = model_comb.fit_regularized(**param_comb)\n",
    "            y_pred = results.predict(X_valid)\n",
    "            metric_val = metric(y_valid, y_pred)\n",
    "            cv_results.append((param_comb, results, metric_val))\n",
    "    best_params, best_model, best_score = sorted(cv_results, key=lambda x: x[-1])[::-1][0]\n",
    "    return (best_model, best_params, best_score), cv_results\n",
    "\n",
    "best, cv_results = grid_search_sm(model, param_grid, cv, metric_name, random_seed)"
   ],
   "metadata": {
    "collapsed": false,
    "pycharm": {
     "name": "#%%\n"
    }
   }
  },
  {
   "cell_type": "code",
   "execution_count": 3,
   "outputs": [
    {
     "name": "stderr",
     "output_type": "stream",
     "text": [
      "/opt/anaconda3/lib/python3.8/site-packages/statsmodels/genmod/generalized_linear_model.py:1323: UserWarning: Elastic net fitting did not converge\n",
      "  warnings.warn(\"Elastic net fitting did not converge\")\n"
     ]
    }
   ],
   "source": [
    "glm = sm.GLM(y, X)\n",
    "result = glm.fit_regularized()"
   ],
   "metadata": {
    "collapsed": false,
    "pycharm": {
     "name": "#%%\n"
    }
   }
  },
  {
   "cell_type": "code",
   "execution_count": 6,
   "outputs": [
    {
     "data": {
      "text/plain": "<statsmodels.base.elastic_net.RegularizedResultsWrapper at 0x7fa0355568e0>"
     },
     "execution_count": 6,
     "metadata": {},
     "output_type": "execute_result"
    }
   ],
   "source": [
    "result"
   ],
   "metadata": {
    "collapsed": false,
    "pycharm": {
     "name": "#%%\n"
    }
   }
  },
  {
   "cell_type": "code",
   "execution_count": null,
   "outputs": [],
   "source": [],
   "metadata": {
    "collapsed": false,
    "pycharm": {
     "name": "#%%\n"
    }
   }
  }
 ],
 "metadata": {
  "kernelspec": {
   "display_name": "Python 3",
   "language": "python",
   "name": "python3"
  },
  "language_info": {
   "codemirror_mode": {
    "name": "ipython",
    "version": 2
   },
   "file_extension": ".py",
   "mimetype": "text/x-python",
   "name": "python",
   "nbconvert_exporter": "python",
   "pygments_lexer": "ipython2",
   "version": "2.7.6"
  }
 },
 "nbformat": 4,
 "nbformat_minor": 0
}