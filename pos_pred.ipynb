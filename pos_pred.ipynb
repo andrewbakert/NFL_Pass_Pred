{
 "cells": [
  {
   "cell_type": "code",
   "execution_count": 1,
   "metadata": {
    "collapsed": true
   },
   "outputs": [],
   "source": [
    "import pandas as pd\n",
    "import numpy as np\n",
    "import os\n",
    "\n",
    "dir = 'assets'\n",
    "fp = dir + '/full_position.csv'\n",
    "if not os.path.exists(fp):\n",
    "    os.mkdir(dir)\n",
    "    positions = pd.DataFrame()\n",
    "    for week in range(1, 18):\n",
    "        week = pd.read_csv(f'nfl-big-data-bowl-2021/week{week}.csv')\n",
    "        positions = pd.concat([positions, week], axis=0)\n",
    "    positions.to_csv(fp, index=False)\n",
    "else:\n",
    "    positions = pd.read_csv(fp)"
   ]
  },
  {
   "cell_type": "code",
   "execution_count": 2,
   "outputs": [
    {
     "data": {
      "text/plain": "(18309388, 19)"
     },
     "execution_count": 2,
     "metadata": {},
     "output_type": "execute_result"
    }
   ],
   "source": [
    "positions.shape"
   ],
   "metadata": {
    "collapsed": false,
    "pycharm": {
     "name": "#%%\n"
    }
   }
  },
  {
   "cell_type": "code",
   "execution_count": 3,
   "outputs": [],
   "source": [
    "plays = pd.read_csv('nfl-big-data-bowl-2021/plays.csv')"
   ],
   "metadata": {
    "collapsed": false,
    "pycharm": {
     "name": "#%%\n"
    }
   }
  },
  {
   "cell_type": "code",
   "execution_count": 4,
   "outputs": [],
   "source": [
    "positions['time'] = pd.to_datetime(positions['time'], format='%Y-%m-%dT%H:%M:%S')"
   ],
   "metadata": {
    "collapsed": false,
    "pycharm": {
     "name": "#%%\n"
    }
   }
  },
  {
   "cell_type": "code",
   "execution_count": 5,
   "outputs": [],
   "source": [
    "starting_pos = positions.groupby(['gameId', 'playId', 'position', 'nflId', 'team'])[['x', 'y']].first().reset_index()"
   ],
   "metadata": {
    "collapsed": false,
    "pycharm": {
     "name": "#%%\n"
    }
   }
  },
  {
   "cell_type": "code",
   "execution_count": 6,
   "outputs": [],
   "source": [
    "starting_pos_plays = starting_pos.merge(plays, on=['gameId', 'playId'], how='left')"
   ],
   "metadata": {
    "collapsed": false,
    "pycharm": {
     "name": "#%%\n"
    }
   }
  },
  {
   "cell_type": "code",
   "execution_count": 7,
   "outputs": [
    {
     "data": {
      "text/plain": "       gameId  playId position      nflId  team      x      y  \\\n0  2018090600      75       CB  2552689.0  home  82.67  20.53   \n1  2018090600      75       CB  2555383.0  home  84.00  43.49   \n2  2018090600      75       FB  2559033.0  away  95.13  26.71   \n3  2018090600      75       FS  2495613.0  home  86.31  22.01   \n4  2018090600      75       FS  2534832.0  home  73.64  28.70   \n\n                                     playDescription  quarter  down  ...  \\\n0  (15:00) M.Ryan pass short right to J.Jones pus...        1     1  ...   \n1  (15:00) M.Ryan pass short right to J.Jones pus...        1     1  ...   \n2  (15:00) M.Ryan pass short right to J.Jones pus...        1     1  ...   \n3  (15:00) M.Ryan pass short right to J.Jones pus...        1     1  ...   \n4  (15:00) M.Ryan pass short right to J.Jones pus...        1     1  ...   \n\n   preSnapHomeScore gameClock absoluteYardlineNumber penaltyCodes  \\\n0               0.0  15:00:00                   90.0          NaN   \n1               0.0  15:00:00                   90.0          NaN   \n2               0.0  15:00:00                   90.0          NaN   \n3               0.0  15:00:00                   90.0          NaN   \n4               0.0  15:00:00                   90.0          NaN   \n\n   penaltyJerseyNumbers passResult offensePlayResult  playResult       epa  \\\n0                   NaN          C                10          10  0.261827   \n1                   NaN          C                10          10  0.261827   \n2                   NaN          C                10          10  0.261827   \n3                   NaN          C                10          10  0.261827   \n4                   NaN          C                10          10  0.261827   \n\n  isDefensivePI  \n0         False  \n1         False  \n2         False  \n3         False  \n4         False  \n\n[5 rows x 32 columns]",
      "text/html": "<div>\n<style scoped>\n    .dataframe tbody tr th:only-of-type {\n        vertical-align: middle;\n    }\n\n    .dataframe tbody tr th {\n        vertical-align: top;\n    }\n\n    .dataframe thead th {\n        text-align: right;\n    }\n</style>\n<table border=\"1\" class=\"dataframe\">\n  <thead>\n    <tr style=\"text-align: right;\">\n      <th></th>\n      <th>gameId</th>\n      <th>playId</th>\n      <th>position</th>\n      <th>nflId</th>\n      <th>team</th>\n      <th>x</th>\n      <th>y</th>\n      <th>playDescription</th>\n      <th>quarter</th>\n      <th>down</th>\n      <th>...</th>\n      <th>preSnapHomeScore</th>\n      <th>gameClock</th>\n      <th>absoluteYardlineNumber</th>\n      <th>penaltyCodes</th>\n      <th>penaltyJerseyNumbers</th>\n      <th>passResult</th>\n      <th>offensePlayResult</th>\n      <th>playResult</th>\n      <th>epa</th>\n      <th>isDefensivePI</th>\n    </tr>\n  </thead>\n  <tbody>\n    <tr>\n      <th>0</th>\n      <td>2018090600</td>\n      <td>75</td>\n      <td>CB</td>\n      <td>2552689.0</td>\n      <td>home</td>\n      <td>82.67</td>\n      <td>20.53</td>\n      <td>(15:00) M.Ryan pass short right to J.Jones pus...</td>\n      <td>1</td>\n      <td>1</td>\n      <td>...</td>\n      <td>0.0</td>\n      <td>15:00:00</td>\n      <td>90.0</td>\n      <td>NaN</td>\n      <td>NaN</td>\n      <td>C</td>\n      <td>10</td>\n      <td>10</td>\n      <td>0.261827</td>\n      <td>False</td>\n    </tr>\n    <tr>\n      <th>1</th>\n      <td>2018090600</td>\n      <td>75</td>\n      <td>CB</td>\n      <td>2555383.0</td>\n      <td>home</td>\n      <td>84.00</td>\n      <td>43.49</td>\n      <td>(15:00) M.Ryan pass short right to J.Jones pus...</td>\n      <td>1</td>\n      <td>1</td>\n      <td>...</td>\n      <td>0.0</td>\n      <td>15:00:00</td>\n      <td>90.0</td>\n      <td>NaN</td>\n      <td>NaN</td>\n      <td>C</td>\n      <td>10</td>\n      <td>10</td>\n      <td>0.261827</td>\n      <td>False</td>\n    </tr>\n    <tr>\n      <th>2</th>\n      <td>2018090600</td>\n      <td>75</td>\n      <td>FB</td>\n      <td>2559033.0</td>\n      <td>away</td>\n      <td>95.13</td>\n      <td>26.71</td>\n      <td>(15:00) M.Ryan pass short right to J.Jones pus...</td>\n      <td>1</td>\n      <td>1</td>\n      <td>...</td>\n      <td>0.0</td>\n      <td>15:00:00</td>\n      <td>90.0</td>\n      <td>NaN</td>\n      <td>NaN</td>\n      <td>C</td>\n      <td>10</td>\n      <td>10</td>\n      <td>0.261827</td>\n      <td>False</td>\n    </tr>\n    <tr>\n      <th>3</th>\n      <td>2018090600</td>\n      <td>75</td>\n      <td>FS</td>\n      <td>2495613.0</td>\n      <td>home</td>\n      <td>86.31</td>\n      <td>22.01</td>\n      <td>(15:00) M.Ryan pass short right to J.Jones pus...</td>\n      <td>1</td>\n      <td>1</td>\n      <td>...</td>\n      <td>0.0</td>\n      <td>15:00:00</td>\n      <td>90.0</td>\n      <td>NaN</td>\n      <td>NaN</td>\n      <td>C</td>\n      <td>10</td>\n      <td>10</td>\n      <td>0.261827</td>\n      <td>False</td>\n    </tr>\n    <tr>\n      <th>4</th>\n      <td>2018090600</td>\n      <td>75</td>\n      <td>FS</td>\n      <td>2534832.0</td>\n      <td>home</td>\n      <td>73.64</td>\n      <td>28.70</td>\n      <td>(15:00) M.Ryan pass short right to J.Jones pus...</td>\n      <td>1</td>\n      <td>1</td>\n      <td>...</td>\n      <td>0.0</td>\n      <td>15:00:00</td>\n      <td>90.0</td>\n      <td>NaN</td>\n      <td>NaN</td>\n      <td>C</td>\n      <td>10</td>\n      <td>10</td>\n      <td>0.261827</td>\n      <td>False</td>\n    </tr>\n  </tbody>\n</table>\n<p>5 rows × 32 columns</p>\n</div>"
     },
     "execution_count": 7,
     "metadata": {},
     "output_type": "execute_result"
    }
   ],
   "source": [
    "starting_pos_plays.head()"
   ],
   "metadata": {
    "collapsed": false,
    "pycharm": {
     "name": "#%%\n"
    }
   }
  },
  {
   "cell_type": "code",
   "execution_count": 8,
   "outputs": [
    {
     "data": {
      "text/plain": "(263173, 32)"
     },
     "execution_count": 8,
     "metadata": {},
     "output_type": "execute_result"
    }
   ],
   "source": [
    "starting_pos_plays.shape"
   ],
   "metadata": {
    "collapsed": false,
    "pycharm": {
     "name": "#%%\n"
    }
   }
  },
  {
   "cell_type": "code",
   "execution_count": 9,
   "outputs": [],
   "source": [
    "games = pd.read_csv('nfl-big-data-bowl-2021/games.csv')"
   ],
   "metadata": {
    "collapsed": false,
    "pycharm": {
     "name": "#%%\n"
    }
   }
  },
  {
   "cell_type": "code",
   "execution_count": 10,
   "outputs": [],
   "source": [
    "starting_pos_play_game = starting_pos_plays.merge(games, on='gameId', how='left')"
   ],
   "metadata": {
    "collapsed": false,
    "pycharm": {
     "name": "#%%\n"
    }
   }
  },
  {
   "cell_type": "code",
   "execution_count": 11,
   "outputs": [],
   "source": [
    "starting_pos_play_game['offdef'] = np.where((starting_pos_play_game['team'] == 'away') &\n",
    "                                            (starting_pos_play_game['possessionTeam'] == starting_pos_play_game['visitorTeamAbbr']),\n",
    "                                            'offense', 'defense')"
   ],
   "metadata": {
    "collapsed": false,
    "pycharm": {
     "name": "#%%\n"
    }
   }
  },
  {
   "cell_type": "code",
   "execution_count": 12,
   "outputs": [],
   "source": [
    "starting_off = starting_pos_play_game[starting_pos_play_game['offdef'] == 'offense']"
   ],
   "metadata": {
    "collapsed": false,
    "pycharm": {
     "name": "#%%\n"
    }
   }
  },
  {
   "cell_type": "code",
   "execution_count": 13,
   "outputs": [],
   "source": [
    "personnel = starting_off['personnelO'].str.extract('(?P<RB>\\d+)\\sRB\\,\\s(?P<TE>\\d+)\\sTE\\,\\s(?P<WR>\\d+)\\sWR')\n",
    "personnel = personnel.astype(float)"
   ],
   "metadata": {
    "collapsed": false,
    "pycharm": {
     "name": "#%%\n"
    }
   }
  },
  {
   "cell_type": "code",
   "execution_count": 14,
   "outputs": [],
   "source": [
    "starting_off_pers = pd.concat([starting_off, personnel], axis=1)"
   ],
   "metadata": {
    "collapsed": false,
    "pycharm": {
     "name": "#%%\n"
    }
   }
  },
  {
   "cell_type": "code",
   "execution_count": 15,
   "outputs": [],
   "source": [
    "starting_off_pers['yardline_100'] = starting_off_pers['absoluteYardlineNumber'].sub(10)"
   ],
   "metadata": {
    "collapsed": false,
    "pycharm": {
     "name": "#%%\n"
    }
   }
  },
  {
   "cell_type": "code",
   "execution_count": 16,
   "outputs": [],
   "source": [
    "starting_off_pers['x_behind_line'] = np.where(starting_off_pers['x'].lt(starting_off_pers['yardline_100']),\n",
    "                                              starting_off_pers['yardline_100'].sub(starting_off_pers['x']),\n",
    "                                              starting_off_pers['x'].sub(starting_off_pers['yardline_100']))"
   ],
   "metadata": {
    "collapsed": false,
    "pycharm": {
     "name": "#%%\n"
    }
   }
  },
  {
   "cell_type": "code",
   "execution_count": 17,
   "outputs": [],
   "source": [
    "starting_pos_count = starting_off_pers.groupby(['gameId', 'playId', 'position', 'team']).apply(lambda x: x.cumsum())['position']"
   ],
   "metadata": {
    "collapsed": false,
    "pycharm": {
     "name": "#%%\n"
    }
   }
  },
  {
   "cell_type": "code",
   "execution_count": 18,
   "outputs": [],
   "source": [
    "position = starting_pos_count.map(lambda x: x[:2] + str(int(len(x) / 2)))"
   ],
   "metadata": {
    "collapsed": false,
    "pycharm": {
     "name": "#%%\n"
    }
   }
  },
  {
   "cell_type": "code",
   "execution_count": 19,
   "outputs": [],
   "source": [
    "starting_off_pers['position'] = position"
   ],
   "metadata": {
    "collapsed": false,
    "pycharm": {
     "name": "#%%\n"
    }
   }
  },
  {
   "cell_type": "code",
   "execution_count": 20,
   "outputs": [],
   "source": [
    "starting_x = starting_off_pers.pivot_table(columns='position', index=['gameId', 'playId'], values='x_behind_line').rename(lambda x: x + '_x', axis=1)"
   ],
   "metadata": {
    "collapsed": false,
    "pycharm": {
     "name": "#%%\n"
    }
   }
  },
  {
   "cell_type": "code",
   "execution_count": 21,
   "outputs": [],
   "source": [
    "starting_y = starting_off_pers.pivot_table(columns='position', index=['gameId', 'playId'], values='y').rename(lambda x: x + '_y', axis=1)"
   ],
   "metadata": {
    "collapsed": false,
    "pycharm": {
     "name": "#%%\n"
    }
   }
  },
  {
   "cell_type": "code",
   "execution_count": 22,
   "outputs": [],
   "source": [
    "starting_pos = starting_x.merge(starting_y, left_index=True, right_index=True)"
   ],
   "metadata": {
    "collapsed": false,
    "pycharm": {
     "name": "#%%\n"
    }
   }
  },
  {
   "cell_type": "code",
   "execution_count": 23,
   "outputs": [],
   "source": [
    "perc_null = starting_pos.isnull().sum() / starting_pos.shape[0]"
   ],
   "metadata": {
    "collapsed": false,
    "pycharm": {
     "name": "#%%\n"
    }
   }
  },
  {
   "cell_type": "code",
   "execution_count": 27,
   "outputs": [],
   "source": [
    "starting_pos_notnull = starting_pos.copy()"
   ],
   "metadata": {
    "collapsed": false,
    "pycharm": {
     "name": "#%%\n"
    }
   }
  },
  {
   "cell_type": "code",
   "execution_count": 28,
   "outputs": [
    {
     "data": {
      "text/plain": "['CB1_in',\n 'CB2_in',\n 'DB1_in',\n 'DB2_in',\n 'DE1_in',\n 'DL1_in',\n 'DT1_in',\n 'FB1_in',\n 'FS1_in',\n 'HB1_in',\n 'HB2_in',\n 'IL1_in',\n 'IL3_in',\n 'K0__in',\n 'LB1_in',\n 'LB2_in',\n 'LB3_in',\n 'LS1_in',\n 'NT1_in',\n 'OL1_in',\n 'OL3_in',\n 'OL4_in',\n 'P0__in',\n 'QB1_in',\n 'QB2_in',\n 'RB1_in',\n 'RB2_in',\n 'RB3_in',\n 'S0__in',\n 'SS1_in',\n 'SS2_in',\n 'TE1_in',\n 'TE2_in',\n 'TE3_in',\n 'TE4_in',\n 'WR1_in',\n 'WR2_in',\n 'WR3_in',\n 'WR4_in',\n 'WR5_in']"
     },
     "execution_count": 28,
     "metadata": {},
     "output_type": "execute_result"
    }
   ],
   "source": [
    "x_col = starting_pos_notnull.columns[starting_pos_notnull.columns.str.match('.*\\_x$')]\n",
    "cols = [col[:3] + '_in' for col in x_col]\n",
    "cols"
   ],
   "metadata": {
    "collapsed": false,
    "pycharm": {
     "name": "#%%\n"
    }
   }
  },
  {
   "cell_type": "code",
   "execution_count": 29,
   "outputs": [],
   "source": [
    "starting_pos_notnull[cols] = starting_pos_notnull[x_col].notnull()"
   ],
   "metadata": {
    "collapsed": false,
    "pycharm": {
     "name": "#%%\n"
    }
   }
  },
  {
   "cell_type": "code",
   "execution_count": 30,
   "outputs": [],
   "source": [
    "starting_pos_notnull.fillna(0, inplace=True)"
   ],
   "metadata": {
    "collapsed": false,
    "pycharm": {
     "name": "#%%\n"
    }
   }
  },
  {
   "cell_type": "code",
   "execution_count": 31,
   "outputs": [],
   "source": [
    "data = starting_pos_notnull.merge(starting_off_pers[['gameId', 'playId', 'offenseFormation']],\n",
    "                   left_index=True,\n",
    "                   right_on=['gameId', 'playId']).drop(['gameId', 'playId'], axis=1)"
   ],
   "metadata": {
    "collapsed": false,
    "pycharm": {
     "name": "#%%\n"
    }
   }
  },
  {
   "cell_type": "code",
   "execution_count": 32,
   "outputs": [],
   "source": [
    "data.drop_duplicates(inplace=True)"
   ],
   "metadata": {
    "collapsed": false,
    "pycharm": {
     "name": "#%%\n"
    }
   }
  },
  {
   "cell_type": "code",
   "execution_count": 33,
   "outputs": [],
   "source": [
    "data.dropna(axis=0, inplace=True)"
   ],
   "metadata": {
    "collapsed": false,
    "pycharm": {
     "name": "#%%\n"
    }
   }
  },
  {
   "cell_type": "code",
   "execution_count": 34,
   "outputs": [],
   "source": [
    "X = data.iloc[:, :-1]\n",
    "y = data['offenseFormation']"
   ],
   "metadata": {
    "collapsed": false,
    "pycharm": {
     "name": "#%%\n"
    }
   }
  },
  {
   "cell_type": "code",
   "execution_count": 35,
   "outputs": [
    {
     "data": {
      "text/plain": "        CB1_x  CB2_x  DB1_x  DB2_x  DE1_x  DL1_x  DT1_x  FB1_x  FS1_x  HB1_x  \\\n2         0.0    0.0    0.0    0.0    0.0    0.0    0.0  15.13    0.0    0.0   \n19        0.0    0.0    0.0    0.0    0.0    0.0    0.0   0.00    0.0    0.0   \n32        0.0    0.0    0.0    0.0    0.0    0.0    0.0   0.00    0.0    0.0   \n45        0.0    0.0    0.0    0.0    0.0    0.0    0.0   0.00    0.0    0.0   \n52        0.0    0.0    0.0    0.0    0.0    0.0    0.0  14.66    0.0    0.0   \n...       ...    ...    ...    ...    ...    ...    ...    ...    ...    ...   \n262370    0.0    0.0    0.0    0.0    0.0    0.0    0.0   0.00    0.0    0.0   \n262383    0.0    0.0    0.0    0.0    0.0    0.0    0.0   0.00    0.0    0.0   \n262970    0.0    0.0    0.0    0.0    0.0    0.0    0.0   0.00    0.0    0.0   \n263097    0.0    0.0    0.0    0.0    0.0    0.0    0.0  14.77    0.0    0.0   \n263113    0.0    0.0    0.0    0.0    0.0    0.0    0.0   0.00    0.0    0.0   \n\n        ...  TE1_in  TE2_in  TE3_in  TE4_in  WR1_in  WR2_in  WR3_in  WR4_in  \\\n2       ...    True   False   False   False    True    True   False   False   \n19      ...    True   False   False   False    True    True    True   False   \n32      ...    True   False   False   False    True    True   False   False   \n45      ...    True   False   False   False    True    True    True   False   \n52      ...    True    True    True   False   False   False   False   False   \n...     ...     ...     ...     ...     ...     ...     ...     ...     ...   \n262370  ...    True   False   False   False    True    True    True   False   \n262383  ...    True   False   False   False    True    True    True   False   \n262970  ...    True   False   False   False    True    True    True   False   \n263097  ...    True   False   False   False    True    True   False   False   \n263113  ...    True    True   False   False    True    True   False   False   \n\n        WR5_in  offenseFormation  \n2        False            I_FORM  \n19       False        SINGLEBACK  \n32       False           SHOTGUN  \n45       False           SHOTGUN  \n52       False           SHOTGUN  \n...        ...               ...  \n262370   False        SINGLEBACK  \n262383   False           SHOTGUN  \n262970   False           SHOTGUN  \n263097   False            I_FORM  \n263113   False        SINGLEBACK  \n\n[9250 rows x 121 columns]",
      "text/html": "<div>\n<style scoped>\n    .dataframe tbody tr th:only-of-type {\n        vertical-align: middle;\n    }\n\n    .dataframe tbody tr th {\n        vertical-align: top;\n    }\n\n    .dataframe thead th {\n        text-align: right;\n    }\n</style>\n<table border=\"1\" class=\"dataframe\">\n  <thead>\n    <tr style=\"text-align: right;\">\n      <th></th>\n      <th>CB1_x</th>\n      <th>CB2_x</th>\n      <th>DB1_x</th>\n      <th>DB2_x</th>\n      <th>DE1_x</th>\n      <th>DL1_x</th>\n      <th>DT1_x</th>\n      <th>FB1_x</th>\n      <th>FS1_x</th>\n      <th>HB1_x</th>\n      <th>...</th>\n      <th>TE1_in</th>\n      <th>TE2_in</th>\n      <th>TE3_in</th>\n      <th>TE4_in</th>\n      <th>WR1_in</th>\n      <th>WR2_in</th>\n      <th>WR3_in</th>\n      <th>WR4_in</th>\n      <th>WR5_in</th>\n      <th>offenseFormation</th>\n    </tr>\n  </thead>\n  <tbody>\n    <tr>\n      <th>2</th>\n      <td>0.0</td>\n      <td>0.0</td>\n      <td>0.0</td>\n      <td>0.0</td>\n      <td>0.0</td>\n      <td>0.0</td>\n      <td>0.0</td>\n      <td>15.13</td>\n      <td>0.0</td>\n      <td>0.0</td>\n      <td>...</td>\n      <td>True</td>\n      <td>False</td>\n      <td>False</td>\n      <td>False</td>\n      <td>True</td>\n      <td>True</td>\n      <td>False</td>\n      <td>False</td>\n      <td>False</td>\n      <td>I_FORM</td>\n    </tr>\n    <tr>\n      <th>19</th>\n      <td>0.0</td>\n      <td>0.0</td>\n      <td>0.0</td>\n      <td>0.0</td>\n      <td>0.0</td>\n      <td>0.0</td>\n      <td>0.0</td>\n      <td>0.00</td>\n      <td>0.0</td>\n      <td>0.0</td>\n      <td>...</td>\n      <td>True</td>\n      <td>False</td>\n      <td>False</td>\n      <td>False</td>\n      <td>True</td>\n      <td>True</td>\n      <td>True</td>\n      <td>False</td>\n      <td>False</td>\n      <td>SINGLEBACK</td>\n    </tr>\n    <tr>\n      <th>32</th>\n      <td>0.0</td>\n      <td>0.0</td>\n      <td>0.0</td>\n      <td>0.0</td>\n      <td>0.0</td>\n      <td>0.0</td>\n      <td>0.0</td>\n      <td>0.00</td>\n      <td>0.0</td>\n      <td>0.0</td>\n      <td>...</td>\n      <td>True</td>\n      <td>False</td>\n      <td>False</td>\n      <td>False</td>\n      <td>True</td>\n      <td>True</td>\n      <td>False</td>\n      <td>False</td>\n      <td>False</td>\n      <td>SHOTGUN</td>\n    </tr>\n    <tr>\n      <th>45</th>\n      <td>0.0</td>\n      <td>0.0</td>\n      <td>0.0</td>\n      <td>0.0</td>\n      <td>0.0</td>\n      <td>0.0</td>\n      <td>0.0</td>\n      <td>0.00</td>\n      <td>0.0</td>\n      <td>0.0</td>\n      <td>...</td>\n      <td>True</td>\n      <td>False</td>\n      <td>False</td>\n      <td>False</td>\n      <td>True</td>\n      <td>True</td>\n      <td>True</td>\n      <td>False</td>\n      <td>False</td>\n      <td>SHOTGUN</td>\n    </tr>\n    <tr>\n      <th>52</th>\n      <td>0.0</td>\n      <td>0.0</td>\n      <td>0.0</td>\n      <td>0.0</td>\n      <td>0.0</td>\n      <td>0.0</td>\n      <td>0.0</td>\n      <td>14.66</td>\n      <td>0.0</td>\n      <td>0.0</td>\n      <td>...</td>\n      <td>True</td>\n      <td>True</td>\n      <td>True</td>\n      <td>False</td>\n      <td>False</td>\n      <td>False</td>\n      <td>False</td>\n      <td>False</td>\n      <td>False</td>\n      <td>SHOTGUN</td>\n    </tr>\n    <tr>\n      <th>...</th>\n      <td>...</td>\n      <td>...</td>\n      <td>...</td>\n      <td>...</td>\n      <td>...</td>\n      <td>...</td>\n      <td>...</td>\n      <td>...</td>\n      <td>...</td>\n      <td>...</td>\n      <td>...</td>\n      <td>...</td>\n      <td>...</td>\n      <td>...</td>\n      <td>...</td>\n      <td>...</td>\n      <td>...</td>\n      <td>...</td>\n      <td>...</td>\n      <td>...</td>\n      <td>...</td>\n    </tr>\n    <tr>\n      <th>262370</th>\n      <td>0.0</td>\n      <td>0.0</td>\n      <td>0.0</td>\n      <td>0.0</td>\n      <td>0.0</td>\n      <td>0.0</td>\n      <td>0.0</td>\n      <td>0.00</td>\n      <td>0.0</td>\n      <td>0.0</td>\n      <td>...</td>\n      <td>True</td>\n      <td>False</td>\n      <td>False</td>\n      <td>False</td>\n      <td>True</td>\n      <td>True</td>\n      <td>True</td>\n      <td>False</td>\n      <td>False</td>\n      <td>SINGLEBACK</td>\n    </tr>\n    <tr>\n      <th>262383</th>\n      <td>0.0</td>\n      <td>0.0</td>\n      <td>0.0</td>\n      <td>0.0</td>\n      <td>0.0</td>\n      <td>0.0</td>\n      <td>0.0</td>\n      <td>0.00</td>\n      <td>0.0</td>\n      <td>0.0</td>\n      <td>...</td>\n      <td>True</td>\n      <td>False</td>\n      <td>False</td>\n      <td>False</td>\n      <td>True</td>\n      <td>True</td>\n      <td>True</td>\n      <td>False</td>\n      <td>False</td>\n      <td>SHOTGUN</td>\n    </tr>\n    <tr>\n      <th>262970</th>\n      <td>0.0</td>\n      <td>0.0</td>\n      <td>0.0</td>\n      <td>0.0</td>\n      <td>0.0</td>\n      <td>0.0</td>\n      <td>0.0</td>\n      <td>0.00</td>\n      <td>0.0</td>\n      <td>0.0</td>\n      <td>...</td>\n      <td>True</td>\n      <td>False</td>\n      <td>False</td>\n      <td>False</td>\n      <td>True</td>\n      <td>True</td>\n      <td>True</td>\n      <td>False</td>\n      <td>False</td>\n      <td>SHOTGUN</td>\n    </tr>\n    <tr>\n      <th>263097</th>\n      <td>0.0</td>\n      <td>0.0</td>\n      <td>0.0</td>\n      <td>0.0</td>\n      <td>0.0</td>\n      <td>0.0</td>\n      <td>0.0</td>\n      <td>14.77</td>\n      <td>0.0</td>\n      <td>0.0</td>\n      <td>...</td>\n      <td>True</td>\n      <td>False</td>\n      <td>False</td>\n      <td>False</td>\n      <td>True</td>\n      <td>True</td>\n      <td>False</td>\n      <td>False</td>\n      <td>False</td>\n      <td>I_FORM</td>\n    </tr>\n    <tr>\n      <th>263113</th>\n      <td>0.0</td>\n      <td>0.0</td>\n      <td>0.0</td>\n      <td>0.0</td>\n      <td>0.0</td>\n      <td>0.0</td>\n      <td>0.0</td>\n      <td>0.00</td>\n      <td>0.0</td>\n      <td>0.0</td>\n      <td>...</td>\n      <td>True</td>\n      <td>True</td>\n      <td>False</td>\n      <td>False</td>\n      <td>True</td>\n      <td>True</td>\n      <td>False</td>\n      <td>False</td>\n      <td>False</td>\n      <td>SINGLEBACK</td>\n    </tr>\n  </tbody>\n</table>\n<p>9250 rows × 121 columns</p>\n</div>"
     },
     "execution_count": 35,
     "metadata": {},
     "output_type": "execute_result"
    }
   ],
   "source": [
    "data"
   ],
   "metadata": {
    "collapsed": false,
    "pycharm": {
     "name": "#%%\n"
    }
   }
  },
  {
   "cell_type": "code",
   "execution_count": 36,
   "outputs": [
    {
     "data": {
      "text/plain": "2          I_FORM\n19     SINGLEBACK\n32        SHOTGUN\n45        SHOTGUN\n52        SHOTGUN\n97     SINGLEBACK\n110    SINGLEBACK\n123    SINGLEBACK\n136    SINGLEBACK\n149       SHOTGUN\nName: offenseFormation, dtype: object"
     },
     "execution_count": 36,
     "metadata": {},
     "output_type": "execute_result"
    }
   ],
   "source": [
    "y.iloc[:10]"
   ],
   "metadata": {
    "collapsed": false,
    "pycharm": {
     "name": "#%%\n"
    }
   }
  },
  {
   "cell_type": "code",
   "execution_count": 37,
   "outputs": [],
   "source": [
    "from sklearn.model_selection import train_test_split\n",
    "\n",
    "X_train, X_test, y_train, y_test = train_test_split(X, y, random_state=0, stratify=y)"
   ],
   "metadata": {
    "collapsed": false,
    "pycharm": {
     "name": "#%%\n"
    }
   }
  },
  {
   "cell_type": "code",
   "execution_count": 38,
   "outputs": [
    {
     "data": {
      "text/plain": "        CB1_x  CB2_x  DB1_x  DB2_x  DE1_x  DL1_x  DT1_x  FB1_x  FS1_x  HB1_x  \\\n96030     0.0    0.0    0.0    0.0    0.0    0.0    0.0   0.00    0.0    0.0   \n146862    0.0    0.0    0.0    0.0    0.0    0.0    0.0   0.00    0.0    0.0   \n105848    0.0    0.0    0.0    0.0    0.0    0.0    0.0   0.00    0.0    0.0   \n159027    0.0    0.0    0.0    0.0    0.0    0.0    0.0   0.00    0.0    0.0   \n228785    0.0    0.0    0.0    0.0    0.0    0.0    0.0  14.05    0.0    0.0   \n...       ...    ...    ...    ...    ...    ...    ...    ...    ...    ...   \n118788    0.0    0.0    0.0    0.0    0.0    0.0    0.0   0.00    0.0    0.0   \n84571     0.0    0.0    0.0    0.0    0.0    0.0    0.0   0.00    0.0    0.0   \n107247    0.0    0.0    0.0    0.0    0.0    0.0    0.0   0.00    0.0    0.0   \n189711    0.0    0.0    0.0    0.0    0.0    0.0    0.0  13.50    0.0    0.0   \n173286    0.0    0.0    0.0    0.0    0.0    0.0    0.0   0.00    0.0    0.0   \n\n        ...  SS2_in  TE1_in  TE2_in  TE3_in  TE4_in  WR1_in  WR2_in  WR3_in  \\\n96030   ...   False    True    True   False   False    True    True   False   \n146862  ...   False    True   False   False   False    True    True    True   \n105848  ...   False    True   False   False   False    True    True    True   \n159027  ...   False    True    True   False   False    True    True   False   \n228785  ...   False    True   False   False   False    True    True   False   \n...     ...     ...     ...     ...     ...     ...     ...     ...     ...   \n118788  ...   False    True   False   False   False    True    True    True   \n84571   ...   False    True    True   False   False    True    True   False   \n107247  ...   False    True   False   False   False    True    True    True   \n189711  ...   False   False   False   False   False    True    True    True   \n173286  ...   False    True   False   False   False    True    True   False   \n\n        WR4_in  WR5_in  \n96030    False   False  \n146862   False   False  \n105848   False   False  \n159027   False   False  \n228785   False   False  \n...        ...     ...  \n118788   False   False  \n84571    False   False  \n107247   False   False  \n189711   False   False  \n173286   False   False  \n\n[6937 rows x 120 columns]",
      "text/html": "<div>\n<style scoped>\n    .dataframe tbody tr th:only-of-type {\n        vertical-align: middle;\n    }\n\n    .dataframe tbody tr th {\n        vertical-align: top;\n    }\n\n    .dataframe thead th {\n        text-align: right;\n    }\n</style>\n<table border=\"1\" class=\"dataframe\">\n  <thead>\n    <tr style=\"text-align: right;\">\n      <th></th>\n      <th>CB1_x</th>\n      <th>CB2_x</th>\n      <th>DB1_x</th>\n      <th>DB2_x</th>\n      <th>DE1_x</th>\n      <th>DL1_x</th>\n      <th>DT1_x</th>\n      <th>FB1_x</th>\n      <th>FS1_x</th>\n      <th>HB1_x</th>\n      <th>...</th>\n      <th>SS2_in</th>\n      <th>TE1_in</th>\n      <th>TE2_in</th>\n      <th>TE3_in</th>\n      <th>TE4_in</th>\n      <th>WR1_in</th>\n      <th>WR2_in</th>\n      <th>WR3_in</th>\n      <th>WR4_in</th>\n      <th>WR5_in</th>\n    </tr>\n  </thead>\n  <tbody>\n    <tr>\n      <th>96030</th>\n      <td>0.0</td>\n      <td>0.0</td>\n      <td>0.0</td>\n      <td>0.0</td>\n      <td>0.0</td>\n      <td>0.0</td>\n      <td>0.0</td>\n      <td>0.00</td>\n      <td>0.0</td>\n      <td>0.0</td>\n      <td>...</td>\n      <td>False</td>\n      <td>True</td>\n      <td>True</td>\n      <td>False</td>\n      <td>False</td>\n      <td>True</td>\n      <td>True</td>\n      <td>False</td>\n      <td>False</td>\n      <td>False</td>\n    </tr>\n    <tr>\n      <th>146862</th>\n      <td>0.0</td>\n      <td>0.0</td>\n      <td>0.0</td>\n      <td>0.0</td>\n      <td>0.0</td>\n      <td>0.0</td>\n      <td>0.0</td>\n      <td>0.00</td>\n      <td>0.0</td>\n      <td>0.0</td>\n      <td>...</td>\n      <td>False</td>\n      <td>True</td>\n      <td>False</td>\n      <td>False</td>\n      <td>False</td>\n      <td>True</td>\n      <td>True</td>\n      <td>True</td>\n      <td>False</td>\n      <td>False</td>\n    </tr>\n    <tr>\n      <th>105848</th>\n      <td>0.0</td>\n      <td>0.0</td>\n      <td>0.0</td>\n      <td>0.0</td>\n      <td>0.0</td>\n      <td>0.0</td>\n      <td>0.0</td>\n      <td>0.00</td>\n      <td>0.0</td>\n      <td>0.0</td>\n      <td>...</td>\n      <td>False</td>\n      <td>True</td>\n      <td>False</td>\n      <td>False</td>\n      <td>False</td>\n      <td>True</td>\n      <td>True</td>\n      <td>True</td>\n      <td>False</td>\n      <td>False</td>\n    </tr>\n    <tr>\n      <th>159027</th>\n      <td>0.0</td>\n      <td>0.0</td>\n      <td>0.0</td>\n      <td>0.0</td>\n      <td>0.0</td>\n      <td>0.0</td>\n      <td>0.0</td>\n      <td>0.00</td>\n      <td>0.0</td>\n      <td>0.0</td>\n      <td>...</td>\n      <td>False</td>\n      <td>True</td>\n      <td>True</td>\n      <td>False</td>\n      <td>False</td>\n      <td>True</td>\n      <td>True</td>\n      <td>False</td>\n      <td>False</td>\n      <td>False</td>\n    </tr>\n    <tr>\n      <th>228785</th>\n      <td>0.0</td>\n      <td>0.0</td>\n      <td>0.0</td>\n      <td>0.0</td>\n      <td>0.0</td>\n      <td>0.0</td>\n      <td>0.0</td>\n      <td>14.05</td>\n      <td>0.0</td>\n      <td>0.0</td>\n      <td>...</td>\n      <td>False</td>\n      <td>True</td>\n      <td>False</td>\n      <td>False</td>\n      <td>False</td>\n      <td>True</td>\n      <td>True</td>\n      <td>False</td>\n      <td>False</td>\n      <td>False</td>\n    </tr>\n    <tr>\n      <th>...</th>\n      <td>...</td>\n      <td>...</td>\n      <td>...</td>\n      <td>...</td>\n      <td>...</td>\n      <td>...</td>\n      <td>...</td>\n      <td>...</td>\n      <td>...</td>\n      <td>...</td>\n      <td>...</td>\n      <td>...</td>\n      <td>...</td>\n      <td>...</td>\n      <td>...</td>\n      <td>...</td>\n      <td>...</td>\n      <td>...</td>\n      <td>...</td>\n      <td>...</td>\n      <td>...</td>\n    </tr>\n    <tr>\n      <th>118788</th>\n      <td>0.0</td>\n      <td>0.0</td>\n      <td>0.0</td>\n      <td>0.0</td>\n      <td>0.0</td>\n      <td>0.0</td>\n      <td>0.0</td>\n      <td>0.00</td>\n      <td>0.0</td>\n      <td>0.0</td>\n      <td>...</td>\n      <td>False</td>\n      <td>True</td>\n      <td>False</td>\n      <td>False</td>\n      <td>False</td>\n      <td>True</td>\n      <td>True</td>\n      <td>True</td>\n      <td>False</td>\n      <td>False</td>\n    </tr>\n    <tr>\n      <th>84571</th>\n      <td>0.0</td>\n      <td>0.0</td>\n      <td>0.0</td>\n      <td>0.0</td>\n      <td>0.0</td>\n      <td>0.0</td>\n      <td>0.0</td>\n      <td>0.00</td>\n      <td>0.0</td>\n      <td>0.0</td>\n      <td>...</td>\n      <td>False</td>\n      <td>True</td>\n      <td>True</td>\n      <td>False</td>\n      <td>False</td>\n      <td>True</td>\n      <td>True</td>\n      <td>False</td>\n      <td>False</td>\n      <td>False</td>\n    </tr>\n    <tr>\n      <th>107247</th>\n      <td>0.0</td>\n      <td>0.0</td>\n      <td>0.0</td>\n      <td>0.0</td>\n      <td>0.0</td>\n      <td>0.0</td>\n      <td>0.0</td>\n      <td>0.00</td>\n      <td>0.0</td>\n      <td>0.0</td>\n      <td>...</td>\n      <td>False</td>\n      <td>True</td>\n      <td>False</td>\n      <td>False</td>\n      <td>False</td>\n      <td>True</td>\n      <td>True</td>\n      <td>True</td>\n      <td>False</td>\n      <td>False</td>\n    </tr>\n    <tr>\n      <th>189711</th>\n      <td>0.0</td>\n      <td>0.0</td>\n      <td>0.0</td>\n      <td>0.0</td>\n      <td>0.0</td>\n      <td>0.0</td>\n      <td>0.0</td>\n      <td>13.50</td>\n      <td>0.0</td>\n      <td>0.0</td>\n      <td>...</td>\n      <td>False</td>\n      <td>False</td>\n      <td>False</td>\n      <td>False</td>\n      <td>False</td>\n      <td>True</td>\n      <td>True</td>\n      <td>True</td>\n      <td>False</td>\n      <td>False</td>\n    </tr>\n    <tr>\n      <th>173286</th>\n      <td>0.0</td>\n      <td>0.0</td>\n      <td>0.0</td>\n      <td>0.0</td>\n      <td>0.0</td>\n      <td>0.0</td>\n      <td>0.0</td>\n      <td>0.00</td>\n      <td>0.0</td>\n      <td>0.0</td>\n      <td>...</td>\n      <td>False</td>\n      <td>True</td>\n      <td>False</td>\n      <td>False</td>\n      <td>False</td>\n      <td>True</td>\n      <td>True</td>\n      <td>False</td>\n      <td>False</td>\n      <td>False</td>\n    </tr>\n  </tbody>\n</table>\n<p>6937 rows × 120 columns</p>\n</div>"
     },
     "execution_count": 38,
     "metadata": {},
     "output_type": "execute_result"
    }
   ],
   "source": [
    "X_train"
   ],
   "metadata": {
    "collapsed": false,
    "pycharm": {
     "name": "#%%\n"
    }
   }
  },
  {
   "cell_type": "code",
   "execution_count": 39,
   "outputs": [],
   "source": [
    "from sklearn.preprocessing import StandardScaler\n",
    "\n",
    "scaler = StandardScaler()\n",
    "X_train_scaled = scaler.fit_transform(X_train)"
   ],
   "metadata": {
    "collapsed": false,
    "pycharm": {
     "name": "#%%\n"
    }
   }
  },
  {
   "cell_type": "code",
   "execution_count": 40,
   "outputs": [
    {
     "name": "stderr",
     "output_type": "stream",
     "text": [
      "/opt/anaconda3/lib/python3.8/site-packages/sklearn/model_selection/_split.py:676: UserWarning: The least populated class in y has only 4 members, which is less than n_splits=5.\n",
      "  warnings.warn(\n"
     ]
    },
    {
     "data": {
      "text/plain": "array([0.69596542, 0.68371758, 0.68781543, 0.68493151, 0.69286229])"
     },
     "execution_count": 40,
     "metadata": {},
     "output_type": "execute_result"
    }
   ],
   "source": [
    "from sklearn.linear_model import LogisticRegression\n",
    "from sklearn.model_selection import cross_val_score\n",
    "\n",
    "log_reg = LogisticRegression(max_iter=10000)\n",
    "cross_val_score(log_reg, X_train_scaled, y_train, cv=5)"
   ],
   "metadata": {
    "collapsed": false,
    "pycharm": {
     "name": "#%%\n"
    }
   }
  },
  {
   "cell_type": "code",
   "execution_count": 41,
   "outputs": [
    {
     "name": "stderr",
     "output_type": "stream",
     "text": [
      "/opt/anaconda3/lib/python3.8/site-packages/sklearn/model_selection/_split.py:676: UserWarning: The least populated class in y has only 4 members, which is less than n_splits=5.\n",
      "  warnings.warn(\n"
     ]
    },
    {
     "data": {
      "text/plain": "array([0.9481268 , 0.94308357, 0.95962509, 0.94736842, 0.95529921])"
     },
     "execution_count": 41,
     "metadata": {},
     "output_type": "execute_result"
    }
   ],
   "source": [
    "from sklearn.ensemble import RandomForestClassifier\n",
    "\n",
    "rfor = RandomForestClassifier()\n",
    "cross_val_score(rfor, X_train_scaled, y_train, cv=5)"
   ],
   "metadata": {
    "collapsed": false,
    "pycharm": {
     "name": "#%%\n"
    }
   }
  },
  {
   "cell_type": "code",
   "execution_count": 54,
   "outputs": [
    {
     "data": {
      "text/plain": "0.9470951385055434"
     },
     "execution_count": 54,
     "metadata": {},
     "output_type": "execute_result"
    }
   ],
   "source": [
    "from sklearn.model_selection import GridSearchCV\n",
    "\n",
    "rfor = RandomForestClassifier()\n",
    "params = {'max_depth': [None] + list(range(1, 5))}\n",
    "grid_rfor = GridSearchCV(rfor, param_grid=params, cv=3, scoring='f1_micro')\n",
    "grid_rfor.fit(X_train_scaled, y_train)\n",
    "grid_rfor.best_score_"
   ],
   "metadata": {
    "collapsed": false,
    "pycharm": {
     "name": "#%%\n"
    }
   }
  },
  {
   "cell_type": "code",
   "execution_count": 57,
   "outputs": [
    {
     "data": {
      "text/plain": "{'max_depth': None}"
     },
     "execution_count": 57,
     "metadata": {},
     "output_type": "execute_result"
    }
   ],
   "source": [
    "grid_rfor.best_params_"
   ],
   "metadata": {
    "collapsed": false,
    "pycharm": {
     "name": "#%%\n"
    }
   }
  },
  {
   "cell_type": "code",
   "execution_count": 55,
   "outputs": [
    {
     "name": "stderr",
     "output_type": "stream",
     "text": [
      "/opt/anaconda3/lib/python3.8/site-packages/sklearn/model_selection/_split.py:676: UserWarning: The least populated class in y has only 4 members, which is less than n_splits=5.\n",
      "  warnings.warn(\n"
     ]
    },
    {
     "data": {
      "text/plain": "array([0.94092219, 0.94020173, 0.94953136, 0.94592646, 0.93366979])"
     },
     "execution_count": 55,
     "metadata": {},
     "output_type": "execute_result"
    }
   ],
   "source": [
    "from sklearn.tree import DecisionTreeClassifier\n",
    "\n",
    "dtree = DecisionTreeClassifier()\n",
    "cross_val_score(dtree, X_train_scaled, y_train)"
   ],
   "metadata": {
    "collapsed": false,
    "pycharm": {
     "name": "#%%\n"
    }
   }
  },
  {
   "cell_type": "code",
   "execution_count": 56,
   "outputs": [
    {
     "data": {
      "text/plain": "0.9387349024195523"
     },
     "execution_count": 56,
     "metadata": {},
     "output_type": "execute_result"
    }
   ],
   "source": [
    "dtree = DecisionTreeClassifier(random_state=0)\n",
    "params = {'max_depth': [None] + list(range(1, 5)), 'min_samples_split': range(2, 10)}\n",
    "grid_dtree = GridSearchCV(dtree, param_grid=params, cv=3, scoring='f1_micro')\n",
    "grid_dtree.fit(X_train_scaled, y_train)\n",
    "grid_dtree.best_score_"
   ],
   "metadata": {
    "collapsed": false,
    "pycharm": {
     "name": "#%%\n"
    }
   }
  },
  {
   "cell_type": "code",
   "execution_count": 58,
   "outputs": [],
   "source": [
    "X_test_scaled = scaler.transform(X_test)"
   ],
   "metadata": {
    "collapsed": false,
    "pycharm": {
     "name": "#%%\n"
    }
   }
  },
  {
   "cell_type": "code",
   "execution_count": 61,
   "outputs": [
    {
     "name": "stdout",
     "output_type": "stream",
     "text": [
      "              precision    recall  f1-score   support\n",
      "\n",
      "       EMPTY       0.95      0.91      0.93       298\n",
      "      I_FORM       0.83      0.82      0.83       114\n",
      "       JUMBO       0.71      0.71      0.71         7\n",
      "      PISTOL       1.00      0.06      0.12        31\n",
      "     SHOTGUN       0.96      0.99      0.98      1528\n",
      "  SINGLEBACK       0.94      0.94      0.94       334\n",
      "     WILDCAT       0.00      0.00      0.00         1\n",
      "\n",
      "    accuracy                           0.95      2313\n",
      "   macro avg       0.77      0.64      0.64      2313\n",
      "weighted avg       0.95      0.95      0.95      2313\n",
      "\n",
      "[[ 272    0    0    0   26    0    0]\n",
      " [   0   94    0    0    0   20    0]\n",
      " [   0    2    5    0    0    0    0]\n",
      " [   1    2    0    2   26    0    0]\n",
      " [  12    0    1    0 1515    0    0]\n",
      " [   0   15    1    0    4  314    0]\n",
      " [   0    0    0    0    1    0    0]]\n"
     ]
    },
    {
     "name": "stderr",
     "output_type": "stream",
     "text": [
      "/opt/anaconda3/lib/python3.8/site-packages/sklearn/metrics/_classification.py:1318: UndefinedMetricWarning: Precision and F-score are ill-defined and being set to 0.0 in labels with no predicted samples. Use `zero_division` parameter to control this behavior.\n",
      "  _warn_prf(average, modifier, msg_start, len(result))\n",
      "/opt/anaconda3/lib/python3.8/site-packages/sklearn/metrics/_classification.py:1318: UndefinedMetricWarning: Precision and F-score are ill-defined and being set to 0.0 in labels with no predicted samples. Use `zero_division` parameter to control this behavior.\n",
      "  _warn_prf(average, modifier, msg_start, len(result))\n",
      "/opt/anaconda3/lib/python3.8/site-packages/sklearn/metrics/_classification.py:1318: UndefinedMetricWarning: Precision and F-score are ill-defined and being set to 0.0 in labels with no predicted samples. Use `zero_division` parameter to control this behavior.\n",
      "  _warn_prf(average, modifier, msg_start, len(result))\n"
     ]
    }
   ],
   "source": [
    "from sklearn.metrics import classification_report\n",
    "from sklearn.metrics import confusion_matrix\n",
    "\n",
    "y_pred = grid_rfor.predict(X_test_scaled)\n",
    "print(classification_report(y_test, y_pred))\n",
    "print(confusion_matrix(y_test, y_pred))"
   ],
   "metadata": {
    "collapsed": false,
    "pycharm": {
     "name": "#%%\n"
    }
   }
  },
  {
   "cell_type": "code",
   "execution_count": 62,
   "outputs": [
    {
     "name": "stdout",
     "output_type": "stream",
     "text": [
      "              precision    recall  f1-score   support\n",
      "\n",
      "       EMPTY       1.00      1.00      1.00       894\n",
      "      I_FORM       1.00      1.00      1.00       342\n",
      "       JUMBO       1.00      1.00      1.00        20\n",
      "      PISTOL       1.00      1.00      1.00        92\n",
      "     SHOTGUN       1.00      1.00      1.00      4581\n",
      "  SINGLEBACK       1.00      1.00      1.00      1004\n",
      "     WILDCAT       1.00      1.00      1.00         4\n",
      "\n",
      "    accuracy                           1.00      6937\n",
      "   macro avg       1.00      1.00      1.00      6937\n",
      "weighted avg       1.00      1.00      1.00      6937\n",
      "\n",
      "[[ 894    0    0    0    0    0    0]\n",
      " [   0  342    0    0    0    0    0]\n",
      " [   0    0   20    0    0    0    0]\n",
      " [   0    0    0   92    0    0    0]\n",
      " [   0    0    0    0 4581    0    0]\n",
      " [   0    0    0    0    0 1004    0]\n",
      " [   0    0    0    0    0    0    4]]\n"
     ]
    }
   ],
   "source": [
    "y_pred_train = grid_rfor.predict(X_train_scaled)\n",
    "print(classification_report(y_train, y_pred_train))\n",
    "print(confusion_matrix(y_train, y_pred_train))"
   ],
   "metadata": {
    "collapsed": false,
    "pycharm": {
     "name": "#%%\n"
    }
   }
  },
  {
   "cell_type": "code",
   "execution_count": 63,
   "outputs": [
    {
     "data": {
      "text/plain": "0.6606139213143104"
     },
     "execution_count": 63,
     "metadata": {},
     "output_type": "execute_result"
    }
   ],
   "source": [
    "from sklearn.dummy import DummyClassifier\n",
    "\n",
    "dummy = DummyClassifier(strategy='most_frequent')\n",
    "dummy.fit(X_train_scaled, y_train)\n",
    "y_pred_dummy = dummy.predict(X_test_scaled)\n",
    "np.mean(y_test == y_pred_dummy)"
   ],
   "metadata": {
    "collapsed": false,
    "pycharm": {
     "name": "#%%\n"
    }
   }
  },
  {
   "cell_type": "code",
   "execution_count": null,
   "outputs": [],
   "source": [],
   "metadata": {
    "collapsed": false,
    "pycharm": {
     "name": "#%%\n"
    }
   }
  }
 ],
 "metadata": {
  "kernelspec": {
   "display_name": "Python 3",
   "language": "python",
   "name": "python3"
  },
  "language_info": {
   "codemirror_mode": {
    "name": "ipython",
    "version": 2
   },
   "file_extension": ".py",
   "mimetype": "text/x-python",
   "name": "python",
   "nbconvert_exporter": "python",
   "pygments_lexer": "ipython2",
   "version": "2.7.6"
  }
 },
 "nbformat": 4,
 "nbformat_minor": 0
}