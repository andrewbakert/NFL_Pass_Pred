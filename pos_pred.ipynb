{
 "cells": [
  {
   "cell_type": "code",
   "execution_count": 2,
   "metadata": {
    "collapsed": true
   },
   "outputs": [],
   "source": [
    "import pandas as pd\n",
    "import numpy as np\n",
    "import os\n",
    "\n",
    "dir = 'assets'\n",
    "fp = dir + '/full_position.csv'\n",
    "if not os.path.exists(fp):\n",
    "    os.mkdir(dir)\n",
    "    positions = pd.DataFrame()\n",
    "    for week in range(1, 18):\n",
    "        week = pd.read_csv(f'nfl-big-data-bowl-2021/week{week}.csv')\n",
    "        positions = pd.concat([positions, week], axis=0)\n",
    "    positions.to_csv(fp, index=False)\n",
    "else:\n",
    "    positions = pd.read_csv(fp)"
   ]
  },
  {
   "cell_type": "code",
   "execution_count": 3,
   "outputs": [
    {
     "data": {
      "text/plain": "(18309388, 19)"
     },
     "execution_count": 3,
     "metadata": {},
     "output_type": "execute_result"
    }
   ],
   "source": [
    "positions.shape"
   ],
   "metadata": {
    "collapsed": false,
    "pycharm": {
     "name": "#%%\n"
    }
   }
  },
  {
   "cell_type": "code",
   "execution_count": 4,
   "outputs": [],
   "source": [
    "plays = pd.read_csv('nfl-big-data-bowl-2021/plays.csv')"
   ],
   "metadata": {
    "collapsed": false,
    "pycharm": {
     "name": "#%%\n"
    }
   }
  },
  {
   "cell_type": "code",
   "execution_count": 5,
   "outputs": [],
   "source": [
    "positions['time'] = pd.to_datetime(positions['time'], format='%Y-%m-%dT%H:%M:%S')"
   ],
   "metadata": {
    "collapsed": false,
    "pycharm": {
     "name": "#%%\n"
    }
   }
  },
  {
   "cell_type": "code",
   "execution_count": 6,
   "outputs": [],
   "source": [
    "starting_pos = positions.groupby(['gameId', 'playId', 'position', 'nflId', 'team'])[['x', 'y']].first().reset_index()"
   ],
   "metadata": {
    "collapsed": false,
    "pycharm": {
     "name": "#%%\n"
    }
   }
  },
  {
   "cell_type": "code",
   "execution_count": 7,
   "outputs": [],
   "source": [
    "starting_pos_plays = starting_pos.merge(plays, on=['gameId', 'playId'], how='left')"
   ],
   "metadata": {
    "collapsed": false,
    "pycharm": {
     "name": "#%%\n"
    }
   }
  },
  {
   "cell_type": "code",
   "execution_count": 8,
   "outputs": [
    {
     "data": {
      "text/plain": "       gameId  playId position      nflId  team      x      y  \\\n0  2018090600      75       CB  2552689.0  home  82.67  20.53   \n1  2018090600      75       CB  2555383.0  home  84.00  43.49   \n2  2018090600      75       FB  2559033.0  away  95.13  26.71   \n3  2018090600      75       FS  2495613.0  home  86.31  22.01   \n4  2018090600      75       FS  2534832.0  home  73.64  28.70   \n\n                                     playDescription  quarter  down  ...  \\\n0  (15:00) M.Ryan pass short right to J.Jones pus...        1     1  ...   \n1  (15:00) M.Ryan pass short right to J.Jones pus...        1     1  ...   \n2  (15:00) M.Ryan pass short right to J.Jones pus...        1     1  ...   \n3  (15:00) M.Ryan pass short right to J.Jones pus...        1     1  ...   \n4  (15:00) M.Ryan pass short right to J.Jones pus...        1     1  ...   \n\n   preSnapHomeScore gameClock absoluteYardlineNumber penaltyCodes  \\\n0               0.0  15:00:00                   90.0          NaN   \n1               0.0  15:00:00                   90.0          NaN   \n2               0.0  15:00:00                   90.0          NaN   \n3               0.0  15:00:00                   90.0          NaN   \n4               0.0  15:00:00                   90.0          NaN   \n\n   penaltyJerseyNumbers passResult offensePlayResult  playResult       epa  \\\n0                   NaN          C                10          10  0.261827   \n1                   NaN          C                10          10  0.261827   \n2                   NaN          C                10          10  0.261827   \n3                   NaN          C                10          10  0.261827   \n4                   NaN          C                10          10  0.261827   \n\n  isDefensivePI  \n0         False  \n1         False  \n2         False  \n3         False  \n4         False  \n\n[5 rows x 32 columns]",
      "text/html": "<div>\n<style scoped>\n    .dataframe tbody tr th:only-of-type {\n        vertical-align: middle;\n    }\n\n    .dataframe tbody tr th {\n        vertical-align: top;\n    }\n\n    .dataframe thead th {\n        text-align: right;\n    }\n</style>\n<table border=\"1\" class=\"dataframe\">\n  <thead>\n    <tr style=\"text-align: right;\">\n      <th></th>\n      <th>gameId</th>\n      <th>playId</th>\n      <th>position</th>\n      <th>nflId</th>\n      <th>team</th>\n      <th>x</th>\n      <th>y</th>\n      <th>playDescription</th>\n      <th>quarter</th>\n      <th>down</th>\n      <th>...</th>\n      <th>preSnapHomeScore</th>\n      <th>gameClock</th>\n      <th>absoluteYardlineNumber</th>\n      <th>penaltyCodes</th>\n      <th>penaltyJerseyNumbers</th>\n      <th>passResult</th>\n      <th>offensePlayResult</th>\n      <th>playResult</th>\n      <th>epa</th>\n      <th>isDefensivePI</th>\n    </tr>\n  </thead>\n  <tbody>\n    <tr>\n      <th>0</th>\n      <td>2018090600</td>\n      <td>75</td>\n      <td>CB</td>\n      <td>2552689.0</td>\n      <td>home</td>\n      <td>82.67</td>\n      <td>20.53</td>\n      <td>(15:00) M.Ryan pass short right to J.Jones pus...</td>\n      <td>1</td>\n      <td>1</td>\n      <td>...</td>\n      <td>0.0</td>\n      <td>15:00:00</td>\n      <td>90.0</td>\n      <td>NaN</td>\n      <td>NaN</td>\n      <td>C</td>\n      <td>10</td>\n      <td>10</td>\n      <td>0.261827</td>\n      <td>False</td>\n    </tr>\n    <tr>\n      <th>1</th>\n      <td>2018090600</td>\n      <td>75</td>\n      <td>CB</td>\n      <td>2555383.0</td>\n      <td>home</td>\n      <td>84.00</td>\n      <td>43.49</td>\n      <td>(15:00) M.Ryan pass short right to J.Jones pus...</td>\n      <td>1</td>\n      <td>1</td>\n      <td>...</td>\n      <td>0.0</td>\n      <td>15:00:00</td>\n      <td>90.0</td>\n      <td>NaN</td>\n      <td>NaN</td>\n      <td>C</td>\n      <td>10</td>\n      <td>10</td>\n      <td>0.261827</td>\n      <td>False</td>\n    </tr>\n    <tr>\n      <th>2</th>\n      <td>2018090600</td>\n      <td>75</td>\n      <td>FB</td>\n      <td>2559033.0</td>\n      <td>away</td>\n      <td>95.13</td>\n      <td>26.71</td>\n      <td>(15:00) M.Ryan pass short right to J.Jones pus...</td>\n      <td>1</td>\n      <td>1</td>\n      <td>...</td>\n      <td>0.0</td>\n      <td>15:00:00</td>\n      <td>90.0</td>\n      <td>NaN</td>\n      <td>NaN</td>\n      <td>C</td>\n      <td>10</td>\n      <td>10</td>\n      <td>0.261827</td>\n      <td>False</td>\n    </tr>\n    <tr>\n      <th>3</th>\n      <td>2018090600</td>\n      <td>75</td>\n      <td>FS</td>\n      <td>2495613.0</td>\n      <td>home</td>\n      <td>86.31</td>\n      <td>22.01</td>\n      <td>(15:00) M.Ryan pass short right to J.Jones pus...</td>\n      <td>1</td>\n      <td>1</td>\n      <td>...</td>\n      <td>0.0</td>\n      <td>15:00:00</td>\n      <td>90.0</td>\n      <td>NaN</td>\n      <td>NaN</td>\n      <td>C</td>\n      <td>10</td>\n      <td>10</td>\n      <td>0.261827</td>\n      <td>False</td>\n    </tr>\n    <tr>\n      <th>4</th>\n      <td>2018090600</td>\n      <td>75</td>\n      <td>FS</td>\n      <td>2534832.0</td>\n      <td>home</td>\n      <td>73.64</td>\n      <td>28.70</td>\n      <td>(15:00) M.Ryan pass short right to J.Jones pus...</td>\n      <td>1</td>\n      <td>1</td>\n      <td>...</td>\n      <td>0.0</td>\n      <td>15:00:00</td>\n      <td>90.0</td>\n      <td>NaN</td>\n      <td>NaN</td>\n      <td>C</td>\n      <td>10</td>\n      <td>10</td>\n      <td>0.261827</td>\n      <td>False</td>\n    </tr>\n  </tbody>\n</table>\n<p>5 rows × 32 columns</p>\n</div>"
     },
     "execution_count": 8,
     "metadata": {},
     "output_type": "execute_result"
    }
   ],
   "source": [
    "starting_pos_plays.head()"
   ],
   "metadata": {
    "collapsed": false,
    "pycharm": {
     "name": "#%%\n"
    }
   }
  },
  {
   "cell_type": "code",
   "execution_count": 9,
   "outputs": [
    {
     "data": {
      "text/plain": "(263173, 32)"
     },
     "execution_count": 9,
     "metadata": {},
     "output_type": "execute_result"
    }
   ],
   "source": [
    "starting_pos_plays.shape"
   ],
   "metadata": {
    "collapsed": false,
    "pycharm": {
     "name": "#%%\n"
    }
   }
  },
  {
   "cell_type": "code",
   "execution_count": 10,
   "outputs": [],
   "source": [
    "games = pd.read_csv('nfl-big-data-bowl-2021/games.csv')"
   ],
   "metadata": {
    "collapsed": false,
    "pycharm": {
     "name": "#%%\n"
    }
   }
  },
  {
   "cell_type": "code",
   "execution_count": 11,
   "outputs": [],
   "source": [
    "starting_pos_play_game = starting_pos_plays.merge(games, on='gameId', how='left')"
   ],
   "metadata": {
    "collapsed": false,
    "pycharm": {
     "name": "#%%\n"
    }
   }
  },
  {
   "cell_type": "code",
   "execution_count": 12,
   "outputs": [],
   "source": [
    "starting_pos_play_game['offdef'] = np.where((starting_pos_play_game['team'] == 'away') &\n",
    "                                            (starting_pos_play_game['possessionTeam'] == starting_pos_play_game['visitorTeamAbbr']),\n",
    "                                            'offense', 'defense')"
   ],
   "metadata": {
    "collapsed": false,
    "pycharm": {
     "name": "#%%\n"
    }
   }
  },
  {
   "cell_type": "code",
   "execution_count": 13,
   "outputs": [],
   "source": [
    "starting_off = starting_pos_play_game[starting_pos_play_game['offdef'] == 'offense']"
   ],
   "metadata": {
    "collapsed": false,
    "pycharm": {
     "name": "#%%\n"
    }
   }
  },
  {
   "cell_type": "code",
   "execution_count": 14,
   "outputs": [],
   "source": [
    "personnel = starting_off['personnelO'].str.extract('(?P<RB>\\d+)\\sRB\\,\\s(?P<TE>\\d+)\\sTE\\,\\s(?P<WR>\\d+)\\sWR')\n",
    "personnel = personnel.astype(float)"
   ],
   "metadata": {
    "collapsed": false,
    "pycharm": {
     "name": "#%%\n"
    }
   }
  },
  {
   "cell_type": "code",
   "execution_count": 15,
   "outputs": [],
   "source": [
    "starting_off_pers = pd.concat([starting_off, personnel], axis=1)"
   ],
   "metadata": {
    "collapsed": false,
    "pycharm": {
     "name": "#%%\n"
    }
   }
  },
  {
   "cell_type": "code",
   "execution_count": 16,
   "outputs": [],
   "source": [
    "starting_off_pers['yardline_100'] = starting_off_pers['absoluteYardlineNumber'].sub(10)"
   ],
   "metadata": {
    "collapsed": false,
    "pycharm": {
     "name": "#%%\n"
    }
   }
  },
  {
   "cell_type": "code",
   "execution_count": 17,
   "outputs": [],
   "source": [
    "starting_off_pers['x_behind_line'] = np.where(starting_off_pers['x'].lt(starting_off_pers['yardline_100']),\n",
    "                                              starting_off_pers['yardline_100'].sub(starting_off_pers['x']),\n",
    "                                              starting_off_pers['x'].sub(starting_off_pers['yardline_100']))"
   ],
   "metadata": {
    "collapsed": false,
    "pycharm": {
     "name": "#%%\n"
    }
   }
  },
  {
   "cell_type": "code",
   "execution_count": 18,
   "outputs": [],
   "source": [
    "starting_pos_count = starting_off_pers.groupby(['gameId', 'playId', 'position', 'team']).apply(lambda x: x.cumsum())['position']"
   ],
   "metadata": {
    "collapsed": false,
    "pycharm": {
     "name": "#%%\n"
    }
   }
  },
  {
   "cell_type": "code",
   "execution_count": 19,
   "outputs": [],
   "source": [
    "position = starting_pos_count.map(lambda x: x[:2] + str(int(len(x) / 2)))"
   ],
   "metadata": {
    "collapsed": false,
    "pycharm": {
     "name": "#%%\n"
    }
   }
  },
  {
   "cell_type": "code",
   "execution_count": 20,
   "outputs": [],
   "source": [
    "starting_off_pers['position'] = position"
   ],
   "metadata": {
    "collapsed": false,
    "pycharm": {
     "name": "#%%\n"
    }
   }
  },
  {
   "cell_type": "code",
   "execution_count": 21,
   "outputs": [],
   "source": [
    "starting_x = starting_off_pers.pivot_table(columns='position', index=['gameId', 'playId'], values='x_behind_line').rename(lambda x: x + '_x', axis=1)"
   ],
   "metadata": {
    "collapsed": false,
    "pycharm": {
     "name": "#%%\n"
    }
   }
  },
  {
   "cell_type": "code",
   "execution_count": 22,
   "outputs": [],
   "source": [
    "starting_y = starting_off_pers.pivot_table(columns='position', index=['gameId', 'playId'], values='y').rename(lambda x: x + '_y', axis=1)"
   ],
   "metadata": {
    "collapsed": false,
    "pycharm": {
     "name": "#%%\n"
    }
   }
  },
  {
   "cell_type": "code",
   "execution_count": 23,
   "outputs": [],
   "source": [
    "starting_pos = starting_x.merge(starting_y, left_index=True, right_index=True)"
   ],
   "metadata": {
    "collapsed": false,
    "pycharm": {
     "name": "#%%\n"
    }
   }
  },
  {
   "cell_type": "code",
   "execution_count": 24,
   "outputs": [],
   "source": [
    "perc_null = starting_pos.isnull().sum() / starting_pos.shape[0]"
   ],
   "metadata": {
    "collapsed": false,
    "pycharm": {
     "name": "#%%\n"
    }
   }
  },
  {
   "cell_type": "code",
   "execution_count": 25,
   "outputs": [],
   "source": [
    "starting_pos_notnull = starting_pos[perc_null[perc_null < 0.5].index]"
   ],
   "metadata": {
    "collapsed": false,
    "pycharm": {
     "name": "#%%\n"
    }
   }
  },
  {
   "cell_type": "code",
   "execution_count": 26,
   "outputs": [
    {
     "data": {
      "text/plain": "['QB1_in', 'RB1_in', 'TE1_in', 'WR1_in', 'WR2_in', 'WR3_in']"
     },
     "execution_count": 26,
     "metadata": {},
     "output_type": "execute_result"
    }
   ],
   "source": [
    "x_col = starting_pos_notnull.columns[starting_pos_notnull.columns.str.match('.*\\_x$')]\n",
    "cols = [col[:3] + '_in' for col in x_col]\n",
    "cols"
   ],
   "metadata": {
    "collapsed": false,
    "pycharm": {
     "name": "#%%\n"
    }
   }
  },
  {
   "cell_type": "code",
   "execution_count": 27,
   "outputs": [
    {
     "name": "stderr",
     "output_type": "stream",
     "text": [
      "/opt/anaconda3/lib/python3.8/site-packages/pandas/core/frame.py:3641: SettingWithCopyWarning: \n",
      "A value is trying to be set on a copy of a slice from a DataFrame.\n",
      "Try using .loc[row_indexer,col_indexer] = value instead\n",
      "\n",
      "See the caveats in the documentation: https://pandas.pydata.org/pandas-docs/stable/user_guide/indexing.html#returning-a-view-versus-a-copy\n",
      "  self[k1] = value[k2]\n"
     ]
    }
   ],
   "source": [
    "starting_pos_notnull[cols] = starting_pos_notnull[x_col].notnull()"
   ],
   "metadata": {
    "collapsed": false,
    "pycharm": {
     "name": "#%%\n"
    }
   }
  },
  {
   "cell_type": "code",
   "execution_count": 28,
   "outputs": [
    {
     "name": "stderr",
     "output_type": "stream",
     "text": [
      "/opt/anaconda3/lib/python3.8/site-packages/pandas/core/frame.py:5176: SettingWithCopyWarning: \n",
      "A value is trying to be set on a copy of a slice from a DataFrame\n",
      "\n",
      "See the caveats in the documentation: https://pandas.pydata.org/pandas-docs/stable/user_guide/indexing.html#returning-a-view-versus-a-copy\n",
      "  return super().fillna(\n"
     ]
    }
   ],
   "source": [
    "starting_pos_notnull.fillna(0, inplace=True)"
   ],
   "metadata": {
    "collapsed": false,
    "pycharm": {
     "name": "#%%\n"
    }
   }
  },
  {
   "cell_type": "code",
   "execution_count": 29,
   "outputs": [],
   "source": [
    "data = starting_pos_notnull.merge(starting_off_pers[['gameId', 'playId', 'offenseFormation']],\n",
    "                   left_index=True,\n",
    "                   right_on=['gameId', 'playId']).drop(['gameId', 'playId'], axis=1)"
   ],
   "metadata": {
    "collapsed": false,
    "pycharm": {
     "name": "#%%\n"
    }
   }
  },
  {
   "cell_type": "code",
   "execution_count": 30,
   "outputs": [
    {
     "data": {
      "text/plain": "QB1_x                 0\nRB1_x                 0\nTE1_x                 0\nWR1_x                 0\nWR2_x                 0\nWR3_x                 0\nQB1_y                 0\nRB1_y                 0\nTE1_y                 0\nWR1_y                 0\nWR2_y                 0\nWR3_y                 0\nQB1_in                0\nRB1_in                0\nTE1_in                0\nWR1_in                0\nWR2_in                0\nWR3_in                0\noffenseFormation    304\ndtype: int64"
     },
     "execution_count": 30,
     "metadata": {},
     "output_type": "execute_result"
    }
   ],
   "source": [
    "data.isnull().sum()"
   ],
   "metadata": {
    "collapsed": false,
    "pycharm": {
     "name": "#%%\n"
    }
   }
  },
  {
   "cell_type": "code",
   "execution_count": 31,
   "outputs": [],
   "source": [
    "data.dropna(axis=0, inplace=True)"
   ],
   "metadata": {
    "collapsed": false,
    "pycharm": {
     "name": "#%%\n"
    }
   }
  },
  {
   "cell_type": "code",
   "execution_count": 32,
   "outputs": [],
   "source": [
    "X = data.iloc[:, :-1]\n",
    "y = data['offenseFormation']"
   ],
   "metadata": {
    "collapsed": false,
    "pycharm": {
     "name": "#%%\n"
    }
   }
  },
  {
   "cell_type": "code",
   "execution_count": 33,
   "outputs": [],
   "source": [
    "from sklearn.model_selection import train_test_split\n",
    "\n",
    "X_train, X_test, y_train, y_test = train_test_split(X, y, random_state=0, stratify=y)"
   ],
   "metadata": {
    "collapsed": false,
    "pycharm": {
     "name": "#%%\n"
    }
   }
  },
  {
   "cell_type": "code",
   "execution_count": 34,
   "outputs": [],
   "source": [
    "from sklearn.preprocessing import StandardScaler\n",
    "\n",
    "scaler = StandardScaler()\n",
    "X_train_scaled = scaler.fit_transform(X_train)"
   ],
   "metadata": {
    "collapsed": false,
    "pycharm": {
     "name": "#%%\n"
    }
   }
  },
  {
   "cell_type": "code",
   "execution_count": 35,
   "outputs": [
    {
     "data": {
      "text/plain": "array([0.66927522, 0.67080072, 0.66959663, 0.67116195, 0.67670078])"
     },
     "execution_count": 35,
     "metadata": {},
     "output_type": "execute_result"
    }
   ],
   "source": [
    "from sklearn.linear_model import LogisticRegression\n",
    "from sklearn.model_selection import cross_val_score\n",
    "\n",
    "log_reg = LogisticRegression(max_iter=10000)\n",
    "cross_val_score(log_reg, X_train_scaled, y_train, cv=5)"
   ],
   "metadata": {
    "collapsed": false,
    "pycharm": {
     "name": "#%%\n"
    }
   }
  },
  {
   "cell_type": "code",
   "execution_count": 36,
   "outputs": [
    {
     "data": {
      "text/plain": "array([0.99891645, 0.99963877, 0.9986755 , 0.99891632, 1.        ])"
     },
     "execution_count": 36,
     "metadata": {},
     "output_type": "execute_result"
    }
   ],
   "source": [
    "from sklearn.ensemble import RandomForestClassifier\n",
    "\n",
    "rfor = RandomForestClassifier()\n",
    "cross_val_score(rfor, X_train_scaled, y_train, cv=5)"
   ],
   "metadata": {
    "collapsed": false,
    "pycharm": {
     "name": "#%%\n"
    }
   }
  },
  {
   "cell_type": "code",
   "execution_count": 37,
   "outputs": [
    {
     "data": {
      "text/plain": "GridSearchCV(cv=5, estimator=RandomForestClassifier(),\n             param_grid={'max_depth': [None, 1, 2, 3, 4]})"
     },
     "execution_count": 37,
     "metadata": {},
     "output_type": "execute_result"
    }
   ],
   "source": [
    "from sklearn.model_selection import GridSearchCV\n",
    "\n",
    "rfor = RandomForestClassifier()\n",
    "params = {'max_depth': [None] + list(range(1, 5))}\n",
    "grid_rfor = GridSearchCV(rfor, param_grid=params, cv=5)\n",
    "grid_rfor.fit(X_train_scaled, y_train)"
   ],
   "metadata": {
    "collapsed": false,
    "pycharm": {
     "name": "#%%\n"
    }
   }
  },
  {
   "cell_type": "code",
   "execution_count": 38,
   "outputs": [
    {
     "data": {
      "text/plain": "0.9993498066795755"
     },
     "execution_count": 38,
     "metadata": {},
     "output_type": "execute_result"
    }
   ],
   "source": [
    "grid_rfor.best_score_"
   ],
   "metadata": {
    "collapsed": false,
    "pycharm": {
     "name": "#%%\n"
    }
   }
  },
  {
   "cell_type": "code",
   "execution_count": 39,
   "outputs": [],
   "source": [
    "X_test_scaled = scaler.transform(X_test)"
   ],
   "metadata": {
    "collapsed": false,
    "pycharm": {
     "name": "#%%\n"
    }
   }
  },
  {
   "cell_type": "code",
   "execution_count": 40,
   "outputs": [
    {
     "name": "stdout",
     "output_type": "stream",
     "text": [
      "              precision    recall  f1-score   support\n",
      "\n",
      "       EMPTY       1.00      1.00      1.00      1787\n",
      "      I_FORM       1.00      1.00      1.00       681\n",
      "       JUMBO       1.00      1.00      1.00        36\n",
      "      PISTOL       1.00      1.00      1.00       185\n",
      "     SHOTGUN       1.00      1.00      1.00      9154\n",
      "  SINGLEBACK       1.00      1.00      1.00      1992\n",
      "     WILDCAT       1.00      1.00      1.00         7\n",
      "\n",
      "    accuracy                           1.00     13842\n",
      "   macro avg       1.00      1.00      1.00     13842\n",
      "weighted avg       1.00      1.00      1.00     13842\n",
      "\n",
      "[[1787    0    0    0    0    0    0]\n",
      " [   0  681    0    0    0    0    0]\n",
      " [   0    0   36    0    0    0    0]\n",
      " [   0    0    0  185    0    0    0]\n",
      " [   0    0    0    0 9154    0    0]\n",
      " [   0    0    0    0    0 1992    0]\n",
      " [   0    0    0    0    0    0    7]]\n"
     ]
    }
   ],
   "source": [
    "from sklearn.metrics import classification_report\n",
    "from sklearn.metrics import confusion_matrix\n",
    "\n",
    "y_pred = grid_rfor.predict(X_test_scaled)\n",
    "print(classification_report(y_test, y_pred))\n",
    "print(confusion_matrix(y_test, y_pred))"
   ],
   "metadata": {
    "collapsed": false,
    "pycharm": {
     "name": "#%%\n"
    }
   }
  },
  {
   "cell_type": "code",
   "execution_count": 41,
   "outputs": [
    {
     "name": "stdout",
     "output_type": "stream",
     "text": [
      "              precision    recall  f1-score   support\n",
      "\n",
      "       EMPTY       1.00      1.00      1.00      5362\n",
      "      I_FORM       1.00      1.00      1.00      2042\n",
      "       JUMBO       1.00      1.00      1.00       109\n",
      "      PISTOL       1.00      1.00      1.00       553\n",
      "     SHOTGUN       1.00      1.00      1.00     27460\n",
      "  SINGLEBACK       1.00      1.00      1.00      5977\n",
      "     WILDCAT       1.00      1.00      1.00        23\n",
      "\n",
      "    accuracy                           1.00     41526\n",
      "   macro avg       1.00      1.00      1.00     41526\n",
      "weighted avg       1.00      1.00      1.00     41526\n",
      "\n",
      "[[ 5362     0     0     0     0     0     0]\n",
      " [    0  2042     0     0     0     0     0]\n",
      " [    0     0   109     0     0     0     0]\n",
      " [    0     0     0   553     0     0     0]\n",
      " [    0     0     0     0 27460     0     0]\n",
      " [    0     0     0     0     0  5977     0]\n",
      " [    0     0     0     0     0     0    23]]\n"
     ]
    }
   ],
   "source": [
    "y_pred_train = grid_rfor.predict(X_train_scaled)\n",
    "print(classification_report(y_train, y_pred_train))\n",
    "print(confusion_matrix(y_train, y_pred_train))"
   ],
   "metadata": {
    "collapsed": false,
    "pycharm": {
     "name": "#%%\n"
    }
   }
  },
  {
   "cell_type": "code",
   "execution_count": 47,
   "outputs": [],
   "source": [
    "week_data = pd.read_csv('nfl-big-data-bowl-2021/week1.csv')"
   ],
   "metadata": {
    "collapsed": false,
    "pycharm": {
     "name": "#%%\n"
    }
   }
  },
  {
   "cell_type": "code",
   "execution_count": 48,
   "outputs": [],
   "source": [
    "starting_pos = positions.groupby(['gameId', 'playId', 'position', 'nflId', 'team'])[['x', 'y']].first().reset_index()"
   ],
   "metadata": {
    "collapsed": false,
    "pycharm": {
     "name": "#%%\n"
    }
   }
  },
  {
   "cell_type": "code",
   "execution_count": 50,
   "outputs": [
    {
     "data": {
      "text/plain": "                            time      x      y     s     a   dis       o  \\\n0       2018-09-07T01:07:14.599Z  91.73  26.67  0.00  0.01  0.02  289.57   \n1       2018-09-07T01:07:14.599Z  88.89  36.47  0.01  0.01  0.01  105.63   \n2       2018-09-07T01:07:14.599Z  91.35  44.16  0.02  0.03  0.01  290.45   \n3       2018-09-07T01:07:14.599Z  86.31  22.01  0.09  0.42  0.01   70.12   \n4       2018-09-07T01:07:14.599Z  90.78  36.15  0.00  0.00  0.00  257.61   \n...                          ...    ...    ...   ...   ...   ...     ...   \n986017  2018-09-11T05:29:39.900Z  33.68  43.14  1.96  3.79  0.22  281.35   \n986018  2018-09-11T05:29:39.900Z  36.02  40.21  0.81  1.52  0.09  308.07   \n986019  2018-09-11T05:29:39.900Z  33.02  43.81  2.63  4.57  0.27  183.83   \n986020  2018-09-11T05:29:39.900Z  34.13  40.86  0.15  0.72  0.02    6.17   \n986021  2018-09-11T05:29:39.900Z  33.29  43.92  1.81  4.24  0.20     NaN   \n\n           dir event      nflId       displayName  jerseyNumber position  \\\n0       240.93  None      310.0         Matt Ryan           2.0       QB   \n1        66.66  None    79848.0   Malcolm Jenkins          27.0       SS   \n2        16.86  None  2495454.0       Julio Jones          11.0       WR   \n3       168.91  None  2495613.0      Corey Graham          24.0       FS   \n4       193.97  None  2533040.0      Mohamed Sanu          12.0       WR   \n...        ...   ...        ...               ...           ...      ...   \n986017  309.70  None  2556277.0  Marqui Christian          41.0       SS   \n986018  234.06  None  2556593.0    Cory Littleton          58.0      ILB   \n986019  314.39  None  2556885.0     Jalen Richard          30.0       RB   \n986020  267.87  None  2558183.0      John Johnson          43.0       SS   \n986021     NaN  None        NaN          Football           NaN      NaN   \n\n        frameId      team      gameId  playId playDirection   route  \n0             1      away  2018090600      75          left     NaN  \n1             1      home  2018090600      75          left     NaN  \n2             1      away  2018090600      75          left   HITCH  \n3             1      home  2018090600      75          left     NaN  \n4             1      away  2018090600      75          left   HITCH  \n...         ...       ...         ...     ...           ...     ...  \n986017       65      away  2018091001    4192          left     NaN  \n986018       65      away  2018091001    4192          left     NaN  \n986019       65      home  2018091001    4192          left  SCREEN  \n986020       65      away  2018091001    4192          left     NaN  \n986021       65  football  2018091001    4192          left     NaN  \n\n[986022 rows x 19 columns]",
      "text/html": "<div>\n<style scoped>\n    .dataframe tbody tr th:only-of-type {\n        vertical-align: middle;\n    }\n\n    .dataframe tbody tr th {\n        vertical-align: top;\n    }\n\n    .dataframe thead th {\n        text-align: right;\n    }\n</style>\n<table border=\"1\" class=\"dataframe\">\n  <thead>\n    <tr style=\"text-align: right;\">\n      <th></th>\n      <th>time</th>\n      <th>x</th>\n      <th>y</th>\n      <th>s</th>\n      <th>a</th>\n      <th>dis</th>\n      <th>o</th>\n      <th>dir</th>\n      <th>event</th>\n      <th>nflId</th>\n      <th>displayName</th>\n      <th>jerseyNumber</th>\n      <th>position</th>\n      <th>frameId</th>\n      <th>team</th>\n      <th>gameId</th>\n      <th>playId</th>\n      <th>playDirection</th>\n      <th>route</th>\n    </tr>\n  </thead>\n  <tbody>\n    <tr>\n      <th>0</th>\n      <td>2018-09-07T01:07:14.599Z</td>\n      <td>91.73</td>\n      <td>26.67</td>\n      <td>0.00</td>\n      <td>0.01</td>\n      <td>0.02</td>\n      <td>289.57</td>\n      <td>240.93</td>\n      <td>None</td>\n      <td>310.0</td>\n      <td>Matt Ryan</td>\n      <td>2.0</td>\n      <td>QB</td>\n      <td>1</td>\n      <td>away</td>\n      <td>2018090600</td>\n      <td>75</td>\n      <td>left</td>\n      <td>NaN</td>\n    </tr>\n    <tr>\n      <th>1</th>\n      <td>2018-09-07T01:07:14.599Z</td>\n      <td>88.89</td>\n      <td>36.47</td>\n      <td>0.01</td>\n      <td>0.01</td>\n      <td>0.01</td>\n      <td>105.63</td>\n      <td>66.66</td>\n      <td>None</td>\n      <td>79848.0</td>\n      <td>Malcolm Jenkins</td>\n      <td>27.0</td>\n      <td>SS</td>\n      <td>1</td>\n      <td>home</td>\n      <td>2018090600</td>\n      <td>75</td>\n      <td>left</td>\n      <td>NaN</td>\n    </tr>\n    <tr>\n      <th>2</th>\n      <td>2018-09-07T01:07:14.599Z</td>\n      <td>91.35</td>\n      <td>44.16</td>\n      <td>0.02</td>\n      <td>0.03</td>\n      <td>0.01</td>\n      <td>290.45</td>\n      <td>16.86</td>\n      <td>None</td>\n      <td>2495454.0</td>\n      <td>Julio Jones</td>\n      <td>11.0</td>\n      <td>WR</td>\n      <td>1</td>\n      <td>away</td>\n      <td>2018090600</td>\n      <td>75</td>\n      <td>left</td>\n      <td>HITCH</td>\n    </tr>\n    <tr>\n      <th>3</th>\n      <td>2018-09-07T01:07:14.599Z</td>\n      <td>86.31</td>\n      <td>22.01</td>\n      <td>0.09</td>\n      <td>0.42</td>\n      <td>0.01</td>\n      <td>70.12</td>\n      <td>168.91</td>\n      <td>None</td>\n      <td>2495613.0</td>\n      <td>Corey Graham</td>\n      <td>24.0</td>\n      <td>FS</td>\n      <td>1</td>\n      <td>home</td>\n      <td>2018090600</td>\n      <td>75</td>\n      <td>left</td>\n      <td>NaN</td>\n    </tr>\n    <tr>\n      <th>4</th>\n      <td>2018-09-07T01:07:14.599Z</td>\n      <td>90.78</td>\n      <td>36.15</td>\n      <td>0.00</td>\n      <td>0.00</td>\n      <td>0.00</td>\n      <td>257.61</td>\n      <td>193.97</td>\n      <td>None</td>\n      <td>2533040.0</td>\n      <td>Mohamed Sanu</td>\n      <td>12.0</td>\n      <td>WR</td>\n      <td>1</td>\n      <td>away</td>\n      <td>2018090600</td>\n      <td>75</td>\n      <td>left</td>\n      <td>HITCH</td>\n    </tr>\n    <tr>\n      <th>...</th>\n      <td>...</td>\n      <td>...</td>\n      <td>...</td>\n      <td>...</td>\n      <td>...</td>\n      <td>...</td>\n      <td>...</td>\n      <td>...</td>\n      <td>...</td>\n      <td>...</td>\n      <td>...</td>\n      <td>...</td>\n      <td>...</td>\n      <td>...</td>\n      <td>...</td>\n      <td>...</td>\n      <td>...</td>\n      <td>...</td>\n      <td>...</td>\n    </tr>\n    <tr>\n      <th>986017</th>\n      <td>2018-09-11T05:29:39.900Z</td>\n      <td>33.68</td>\n      <td>43.14</td>\n      <td>1.96</td>\n      <td>3.79</td>\n      <td>0.22</td>\n      <td>281.35</td>\n      <td>309.70</td>\n      <td>None</td>\n      <td>2556277.0</td>\n      <td>Marqui Christian</td>\n      <td>41.0</td>\n      <td>SS</td>\n      <td>65</td>\n      <td>away</td>\n      <td>2018091001</td>\n      <td>4192</td>\n      <td>left</td>\n      <td>NaN</td>\n    </tr>\n    <tr>\n      <th>986018</th>\n      <td>2018-09-11T05:29:39.900Z</td>\n      <td>36.02</td>\n      <td>40.21</td>\n      <td>0.81</td>\n      <td>1.52</td>\n      <td>0.09</td>\n      <td>308.07</td>\n      <td>234.06</td>\n      <td>None</td>\n      <td>2556593.0</td>\n      <td>Cory Littleton</td>\n      <td>58.0</td>\n      <td>ILB</td>\n      <td>65</td>\n      <td>away</td>\n      <td>2018091001</td>\n      <td>4192</td>\n      <td>left</td>\n      <td>NaN</td>\n    </tr>\n    <tr>\n      <th>986019</th>\n      <td>2018-09-11T05:29:39.900Z</td>\n      <td>33.02</td>\n      <td>43.81</td>\n      <td>2.63</td>\n      <td>4.57</td>\n      <td>0.27</td>\n      <td>183.83</td>\n      <td>314.39</td>\n      <td>None</td>\n      <td>2556885.0</td>\n      <td>Jalen Richard</td>\n      <td>30.0</td>\n      <td>RB</td>\n      <td>65</td>\n      <td>home</td>\n      <td>2018091001</td>\n      <td>4192</td>\n      <td>left</td>\n      <td>SCREEN</td>\n    </tr>\n    <tr>\n      <th>986020</th>\n      <td>2018-09-11T05:29:39.900Z</td>\n      <td>34.13</td>\n      <td>40.86</td>\n      <td>0.15</td>\n      <td>0.72</td>\n      <td>0.02</td>\n      <td>6.17</td>\n      <td>267.87</td>\n      <td>None</td>\n      <td>2558183.0</td>\n      <td>John Johnson</td>\n      <td>43.0</td>\n      <td>SS</td>\n      <td>65</td>\n      <td>away</td>\n      <td>2018091001</td>\n      <td>4192</td>\n      <td>left</td>\n      <td>NaN</td>\n    </tr>\n    <tr>\n      <th>986021</th>\n      <td>2018-09-11T05:29:39.900Z</td>\n      <td>33.29</td>\n      <td>43.92</td>\n      <td>1.81</td>\n      <td>4.24</td>\n      <td>0.20</td>\n      <td>NaN</td>\n      <td>NaN</td>\n      <td>None</td>\n      <td>NaN</td>\n      <td>Football</td>\n      <td>NaN</td>\n      <td>NaN</td>\n      <td>65</td>\n      <td>football</td>\n      <td>2018091001</td>\n      <td>4192</td>\n      <td>left</td>\n      <td>NaN</td>\n    </tr>\n  </tbody>\n</table>\n<p>986022 rows × 19 columns</p>\n</div>"
     },
     "execution_count": 50,
     "metadata": {},
     "output_type": "execute_result"
    }
   ],
   "source": [
    "def extract_play_pos(play_data, line_scrimmage):\n",
    "    for\n",
    "    if 'QB' in\n",
    "    starting_pos = play_data.groupby(['position', 'nflId', 'team'])[['x', 'y']].first().reset_index()"
   ],
   "metadata": {
    "collapsed": false,
    "pycharm": {
     "name": "#%%\n"
    }
   }
  },
  {
   "cell_type": "code",
   "execution_count": null,
   "outputs": [],
   "source": [],
   "metadata": {
    "collapsed": false,
    "pycharm": {
     "name": "#%%\n"
    }
   }
  }
 ],
 "metadata": {
  "kernelspec": {
   "display_name": "Python 3",
   "language": "python",
   "name": "python3"
  },
  "language_info": {
   "codemirror_mode": {
    "name": "ipython",
    "version": 2
   },
   "file_extension": ".py",
   "mimetype": "text/x-python",
   "name": "python",
   "nbconvert_exporter": "python",
   "pygments_lexer": "ipython2",
   "version": "2.7.6"
  }
 },
 "nbformat": 4,
 "nbformat_minor": 0
}