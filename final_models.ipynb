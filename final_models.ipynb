{
 "cells": [
  {
   "cell_type": "code",
   "execution_count": 31,
   "metadata": {
    "collapsed": true
   },
   "outputs": [],
   "source": [
    "from pipeline import FullPipeWrapper\n",
    "from sklearn.linear_model import LogisticRegression\n",
    "from sklearn.model_selection import GridSearchCV"
   ]
  },
  {
   "cell_type": "code",
   "execution_count": 2,
   "outputs": [
    {
     "name": "stdout",
     "output_type": "stream",
     "text": [
      "positional data already downloaded.\n",
      "reading positional data.\n",
      "returning positional data.\n"
     ]
    }
   ],
   "source": [
    "full_pipe = FullPipeWrapper()"
   ],
   "metadata": {
    "collapsed": false,
    "pycharm": {
     "name": "#%%\n"
    }
   }
  },
  {
   "cell_type": "code",
   "execution_count": 32,
   "outputs": [
    {
     "data": {
      "text/plain": "GridSearchCV(cv=5,\n             estimator=Pipeline(steps=[('select_cols',\n                                        FunctionTransformer(func=<function FullPipeWrapper.build_pipe.<locals>.<lambda> at 0x7fae1cc73c10>)),\n                                       ('off_full_pipe',\n                                        Pipeline(steps=[('full_cols',\n                                                         Pipeline(steps=[('off_pre_one',\n                                                                          ColumnTransformer(transformers=[('info_scale',\n                                                                                                           StandardScaler(),\n                                                                                                           Index(['perc_left', 'perc_right', 'perc_behind_los', 'FB...\n                         'off_full_pipe__full_cols__select_cols__columns': [['possessionTeam',\n                                                                             'down',\n                                                                             'offenseFormation',\n                                                                             'score_differential',\n                                                                             'timeRemaining',\n                                                                             'yardline_first_dir',\n                                                                             'yardline_100_dir',\n                                                                             'FBL0_x',\n                                                                             'FBR0_x',\n                                                                             'HBL0_x',\n                                                                             'HBL1_x',\n                                                                             'HBR0_x',\n                                                                             'HBR1_x',\n                                                                             'QB0_x',\n                                                                             'QB1_x',\n                                                                             'RBL0_x',\n                                                                             'RBL1_x',\n                                                                             'RBL2_x',\n                                                                             'RBR0_x',\n                                                                             'RBR1_x',\n                                                                             'RBR2_x',\n                                                                             'TEL0_x',\n                                                                             'TEL1_x',\n                                                                             'TEL2_x',\n                                                                             'TER0_x',\n                                                                             'TER1_x',\n                                                                             'TER2_x',\n                                                                             'WRL0_x',\n                                                                             'WRL1_x',\n                                                                             'WRL2_x', ...]]},\n             scoring='f1_macro')"
     },
     "execution_count": 32,
     "metadata": {},
     "output_type": "execute_result"
    }
   ],
   "source": [
    "lr_model = LogisticRegression(random_state=0)\n",
    "\n",
    "perm_feats = ['possessionTeam','down','offenseFormation']\n",
    "situational = ['score_differential', 'timeRemaining','yardline_first_dir','yardline_100_dir']\n",
    "reduction = ['perc_left','perc_right','perc_behind_los']\n",
    "pos = ['FB','HB','QB','RB','TE','WR']\n",
    "coords = ['FBL0_x','FBR0_x','HBL0_x','HBL1_x','HBR0_x','HBR1_x','QB0_x','QB1_x','RBL0_x','RBL1_x','RBL2_x','RBR0_x','RBR1_x','RBR2_x','TEL0_x','TEL1_x','TEL2_x','TER0_x','TER1_x','TER2_x','WRL0_x','WRL1_x','WRL2_x','WRL3_x','WRR0_x','WRR1_x','WRR2_x','WRR3_x','FBL0_y','FBR0_y','HBL0_y','HBL1_y','HBR0_y','HBR1_y','QB0_y','QB1_y','RBL0_y','RBL1_y','RBL2_y','RBR0_y','RBR1_y','RBR2_y','TEL0_y','TEL1_y','TEL2_y','TER0_y','TER1_y','TER2_y','WRL0_y','WRL1_y','WRL2_y','WRL3_y','WRR0_y','WRR1_y','WRR2_y','WRR3_y','FBL0_in','FBR0_in','HBL0_in','HBL1_in','HBR0_in','HBR1_in','QB0_in','QB1_in','RBL0_in','RBL1_in','RBL2_in','RBR0_in','RBR1_in','RBR2_in','TEL0_in','TEL1_in','TEL2_in','TER0_in','TER1_in','TER2_in','WRL0_in','WRL1_in','WRL2_in','WRL3_in','WRR0_in','WRR1_in','WRR2_in','WRR3_in']\n",
    "\n",
    "best_params_off_x = {'model__C': [1],\n",
    "'model__class_weight': ['balanced'],\n",
    "'model__penalty': ['l2'],\n",
    "'model__solver': ['newton-cg'],\n",
    "'off_full_pipe__full_cols__select_cols__columns': [perm_feats + situational + coords]}\n",
    "\n",
    "lr_pipe_off_x = full_pipe.build_pipe(side='off', model=lr_model)\n",
    "best_off_x = GridSearchCV(lr_pipe_off_x, best_params_off_x, cv=5, scoring=\"f1_macro\")\n",
    "best_off_x.fit(full_pipe.X_train, full_pipe.y_train_x)"
   ],
   "metadata": {
    "collapsed": false,
    "pycharm": {
     "name": "#%%\n"
    }
   }
  },
  {
   "cell_type": "code",
   "execution_count": 10,
   "outputs": [
    {
     "data": {
      "text/plain": "Pipeline(steps=[('select_cols',\n                 FunctionTransformer(func=<function FullPipeWrapper.build_pipe.<locals>.<lambda> at 0x7fb183d31e50>)),\n                ('off_full_pipe',\n                 Pipeline(steps=[('full_cols',\n                                  Pipeline(steps=[('off_pre_one',\n                                                   ColumnTransformer(transformers=[('info_scale',\n                                                                                    StandardScaler(),\n                                                                                    Index(['perc_left', 'perc_right', 'perc_behind_los', 'FB', 'HB', 'QB', 'RB',\n       'TE', 'WR', '...\n                                                                            'TEL0_x',\n                                                                            'TEL1_x',\n                                                                            'TEL2_x',\n                                                                            'TER0_x',\n                                                                            'TER1_x',\n                                                                            'TER2_x',\n                                                                            'WRL0_x',\n                                                                            'WRL1_x',\n                                                                            'WRL2_x', ...]))])),\n                                 ('one_hot',\n                                  ColumnTransformer(remainder='passthrough',\n                                                    transformers=[('off_form_one',\n                                                                   OneHotEncoder(handle_unknown='ignore'),\n                                                                   ['down',\n                                                                    'possessionTeam',\n                                                                    'offenseFormation'])]))])),\n                ('model',\n                 LogisticRegression(C=1, class_weight='balanced',\n                                    random_state=0, solver='newton-cg'))])"
     },
     "execution_count": 10,
     "metadata": {},
     "output_type": "execute_result"
    }
   ],
   "source": [
    "lr_pipe_off_x.fit(full_pipe.X_train, full_pipe.y_train_x)"
   ],
   "metadata": {
    "collapsed": false,
    "pycharm": {
     "name": "#%%\n"
    }
   }
  },
  {
   "cell_type": "code",
   "execution_count": 35,
   "outputs": [
    {
     "data": {
      "text/plain": "GridSearchCV(cv=5,\n             estimator=Pipeline(steps=[('select_cols',\n                                        FunctionTransformer(func=<function FullPipeWrapper.build_pipe.<locals>.<lambda> at 0x7fadd2382790>)),\n                                       ('off_full_pipe',\n                                        Pipeline(steps=[('full_cols',\n                                                         Pipeline(steps=[('off_pre_one',\n                                                                          ColumnTransformer(transformers=[('info_scale',\n                                                                                                           StandardScaler(),\n                                                                                                           Index(['perc_left', 'perc_right', 'perc_behind_los', 'FB...\n                         'off_full_pipe__full_cols__select_cols__columns': [['possessionTeam',\n                                                                             'down',\n                                                                             'offenseFormation',\n                                                                             'score_differential',\n                                                                             'timeRemaining',\n                                                                             'yardline_first_dir',\n                                                                             'yardline_100_dir',\n                                                                             'FBL0_x',\n                                                                             'FBR0_x',\n                                                                             'HBL0_x',\n                                                                             'HBL1_x',\n                                                                             'HBR0_x',\n                                                                             'HBR1_x',\n                                                                             'QB0_x',\n                                                                             'QB1_x',\n                                                                             'RBL0_x',\n                                                                             'RBL1_x',\n                                                                             'RBL2_x',\n                                                                             'RBR0_x',\n                                                                             'RBR1_x',\n                                                                             'RBR2_x',\n                                                                             'TEL0_x',\n                                                                             'TEL1_x',\n                                                                             'TEL2_x',\n                                                                             'TER0_x',\n                                                                             'TER1_x',\n                                                                             'TER2_x',\n                                                                             'WRL0_x',\n                                                                             'WRL1_x',\n                                                                             'WRL2_x', ...]]},\n             scoring='f1_macro')"
     },
     "execution_count": 35,
     "metadata": {},
     "output_type": "execute_result"
    }
   ],
   "source": [
    "best_params_off_y = {'model__C': [0.001],\n",
    "                      'model__class_weight': ['balanced'],\n",
    "                      'model__penalty': ['none'],\n",
    "                      'model__solver': ['newton-cg'],\n",
    "                      'off_full_pipe__full_cols__select_cols__columns': [perm_feats + situational + coords]}\n",
    "lr_pipe_off_y = full_pipe.build_pipe(side='off', model=lr_model)\n",
    "best_off_y = GridSearchCV(lr_pipe_off_y, best_params_off_y, cv=5, scoring = 'f1_macro')\n",
    "best_off_y.fit(full_pipe.X_train, full_pipe.y_train_y)"
   ],
   "metadata": {
    "collapsed": false,
    "pycharm": {
     "name": "#%%\n"
    }
   }
  },
  {
   "cell_type": "code",
   "execution_count": 43,
   "outputs": [
    {
     "data": {
      "text/plain": "GridSearchCV(cv=5,\n             estimator=Pipeline(steps=[('full_pipe',\n                                        ColumnTransformer(transformers=[('off',\n                                                                         Pipeline(steps=[('full_cols',\n                                                                                          Pipeline(steps=[('off_pre_one',\n                                                                                                           ColumnTransformer(transformers=[('info_scale',\n                                                                                                                                            StandardScaler(),\n                                                                                                                                            Index(['perc_left', 'perc_right', 'perc_behind_los', 'FB', 'HB', 'QB', 'RB',\n       'TE', 'WR', 'score_differential', 'timeRemaining', 'yardline_firs...\n             param_grid={'full_pipe__def__def_clust_pass__def_clust__cols': [['%B',\n                                                                              '%M',\n                                                                              '%Z']],\n                         'full_pipe__def__def_clust_pass__def_clust__n_clusters': [13],\n                         'full_pipe__def__def_clust_pass__def_clust__pca_variance': [0.55],\n                         'full_pipe__def__def_clust_pass__pass__select_cols__columns': [[]],\n                         'model__C': [100], 'model__multi_class': ['auto'],\n                         'model__penalty': ['l2'],\n                         'model__solver': ['newton-cg']},\n             scoring='f1_macro')"
     },
     "execution_count": 43,
     "metadata": {},
     "output_type": "execute_result"
    }
   ],
   "source": [
    "best_params_full_x = {'full_pipe__def__def_clust_pass__def_clust__cols': [['%B', '%M', '%Z']],\n",
    "                      'full_pipe__def__def_clust_pass__def_clust__n_clusters': [13],\n",
    "                      'full_pipe__def__def_clust_pass__def_clust__pca_variance': [0.55],\n",
    "                      'full_pipe__def__def_clust_pass__pass__select_cols__columns': [[]],\n",
    "                      'model__C': [100],\n",
    "                      'model__multi_class': ['auto'],\n",
    "                      'model__penalty': ['l2'],\n",
    "                      'model__solver': ['newton-cg']}\n",
    "lr_pipe_full_x = full_pipe.build_pipe(side='both', model=lr_model)\n",
    "best_full_x = GridSearchCV(lr_pipe_full_x, best_params_full_x, cv=5, scoring = 'f1_macro')\n",
    "best_full_x.fit(full_pipe.X_train, full_pipe.y_train_x)"
   ],
   "metadata": {
    "collapsed": false,
    "pycharm": {
     "name": "#%%\n"
    }
   }
  },
  {
   "cell_type": "code",
   "execution_count": 46,
   "outputs": [
    {
     "data": {
      "text/plain": "GridSearchCV(cv=5,\n             estimator=Pipeline(steps=[('full_pipe',\n                                        ColumnTransformer(transformers=[('off',\n                                                                         Pipeline(steps=[('full_cols',\n                                                                                          Pipeline(steps=[('off_pre_one',\n                                                                                                           ColumnTransformer(transformers=[('info_scale',\n                                                                                                                                            StandardScaler(),\n                                                                                                                                            Index(['perc_left', 'perc_right', 'perc_behind_los', 'FB', 'HB', 'QB', 'RB',\n       'TE', 'WR', 'score_differential', 'timeRemaining', 'yardline_firs...\n                                                                                         'DEL0_x_start',\n                                                                                         'DER0_x_start',\n                                                                                         'DLL0_x_start',\n                                                                                         'DLR0_x_start',\n                                                                                         'FSL0_x_start',\n                                                                                         'FSL1_x_start',\n                                                                                         'FSL2_x_start',\n                                                                                         'FSR0_x_start',\n                                                                                         'FSR1_x_start',\n                                                                                         'FSR2_x_start',\n                                                                                         'ILBL0_x_start',\n                                                                                         'ILBL1_x_start',\n                                                                                         'ILBL2_x_start',\n                                                                                         'ILBR0_x_start',\n                                                                                         'ILBR1_x_start', ...]],\n                         'model__C': [0.1], 'model__multi_class': ['auto'],\n                         'model__penalty': ['l2'], 'model__solver': ['lbfgs']},\n             scoring='f1_macro')"
     },
     "execution_count": 46,
     "metadata": {},
     "output_type": "execute_result"
    }
   ],
   "source": [
    "best_params_full_y = {'full_pipe__def__def_clust_pass__def_clust__cols': [['DB',\n",
    "                                                     'LB',\n",
    "                                                     'DL',\n",
    "                                                     '%B',\n",
    "                                                     '%M',\n",
    "                                                     '%Z']],\n",
    "                      'full_pipe__def__def_clust_pass__def_clust__n_clusters': [5],\n",
    "                      'full_pipe__def__def_clust_pass__def_clust__pca_variance': [0.95],\n",
    "                      'full_pipe__def__def_clust_pass__pass__select_cols__columns': [full_pipe.def_start_col_x],\n",
    "                      'model__C': [0.1],\n",
    "                      'model__multi_class': ['auto'],\n",
    "                      'model__penalty': ['l2'],\n",
    "                      'model__solver': ['lbfgs']}\n",
    "lr_pipe_full_y = full_pipe.build_pipe(side='both', model=lr_model)\n",
    "best_full_y = GridSearchCV(lr_pipe_full_y, best_params_full_y, cv=5, scoring = 'f1_macro')\n",
    "best_full_y.fit(full_pipe.X_train, full_pipe.y_train_y)"
   ],
   "metadata": {
    "collapsed": false,
    "pycharm": {
     "name": "#%%\n"
    }
   }
  },
  {
   "cell_type": "markdown",
   "source": [
    "## Full model X"
   ],
   "metadata": {
    "collapsed": false,
    "pycharm": {
     "name": "#%% md\n"
    }
   }
  },
  {
   "cell_type": "code",
   "execution_count": 47,
   "outputs": [
    {
     "name": "stdout",
     "output_type": "stream",
     "text": [
      "              precision    recall  f1-score   support\n",
      "\n",
      "           1       0.40      0.17      0.24       551\n",
      "           2       0.48      0.77      0.59      1213\n",
      "           3       0.43      0.45      0.44       806\n",
      "           4       0.18      0.01      0.03       492\n",
      "\n",
      "    accuracy                           0.46      3062\n",
      "   macro avg       0.37      0.35      0.32      3062\n",
      "weighted avg       0.40      0.46      0.40      3062\n",
      "\n"
     ]
    }
   ],
   "source": [
    "from sklearn.metrics import classification_report\n",
    "\n",
    "y_pred_full_x = best_full_x.predict(full_pipe.X_test)\n",
    "print(classification_report(full_pipe.y_test_x, y_pred_full_x))"
   ],
   "metadata": {
    "collapsed": false,
    "pycharm": {
     "name": "#%%\n"
    }
   }
  },
  {
   "cell_type": "markdown",
   "source": [
    "## Full model Y"
   ],
   "metadata": {
    "collapsed": false,
    "pycharm": {
     "name": "#%% md\n"
    }
   }
  },
  {
   "cell_type": "code",
   "execution_count": 48,
   "outputs": [
    {
     "name": "stdout",
     "output_type": "stream",
     "text": [
      "              precision    recall  f1-score   support\n",
      "\n",
      "           0       0.32      0.27      0.29       806\n",
      "           1       0.29      0.41      0.34       842\n",
      "           2       0.28      0.33      0.30       741\n",
      "           3       0.31      0.16      0.21       673\n",
      "\n",
      "    accuracy                           0.30      3062\n",
      "   macro avg       0.30      0.29      0.29      3062\n",
      "weighted avg       0.30      0.30      0.29      3062\n",
      "\n"
     ]
    }
   ],
   "source": [
    "y_pred_full_y = best_full_y.predict(full_pipe.X_test)\n",
    "print(classification_report(full_pipe.y_test_y, y_pred_full_y))"
   ],
   "metadata": {
    "collapsed": false,
    "pycharm": {
     "name": "#%%\n"
    }
   }
  },
  {
   "cell_type": "markdown",
   "source": [
    "## Offensive model X"
   ],
   "metadata": {
    "collapsed": false,
    "pycharm": {
     "name": "#%% md\n"
    }
   }
  },
  {
   "cell_type": "code",
   "execution_count": 49,
   "outputs": [
    {
     "name": "stdout",
     "output_type": "stream",
     "text": [
      "              precision    recall  f1-score   support\n",
      "\n",
      "           1       0.28      0.39      0.33       551\n",
      "           2       0.54      0.44      0.48      1213\n",
      "           3       0.42      0.35      0.38       806\n",
      "           4       0.21      0.28      0.24       492\n",
      "\n",
      "    accuracy                           0.38      3062\n",
      "   macro avg       0.36      0.36      0.36      3062\n",
      "weighted avg       0.41      0.38      0.39      3062\n",
      "\n"
     ]
    }
   ],
   "source": [
    "y_pred_off_x = best_off_x.predict(full_pipe.X_test)\n",
    "print(classification_report(full_pipe.y_test_x, y_pred_off_x))"
   ],
   "metadata": {
    "collapsed": false,
    "pycharm": {
     "name": "#%%\n"
    }
   }
  },
  {
   "cell_type": "markdown",
   "source": [
    "## Offensive model Y"
   ],
   "metadata": {
    "collapsed": false,
    "pycharm": {
     "name": "#%% md\n"
    }
   }
  },
  {
   "cell_type": "code",
   "execution_count": 50,
   "outputs": [
    {
     "name": "stdout",
     "output_type": "stream",
     "text": [
      "              precision    recall  f1-score   support\n",
      "\n",
      "           0       0.32      0.33      0.33       806\n",
      "           1       0.30      0.23      0.26       842\n",
      "           2       0.29      0.33      0.31       741\n",
      "           3       0.28      0.30      0.29       673\n",
      "\n",
      "    accuracy                           0.30      3062\n",
      "   macro avg       0.30      0.30      0.30      3062\n",
      "weighted avg       0.30      0.30      0.30      3062\n",
      "\n"
     ]
    }
   ],
   "source": [
    "y_pred_off_y = best_off_y.predict(full_pipe.X_test)\n",
    "print(classification_report(full_pipe.y_test_y, y_pred_off_y))"
   ],
   "metadata": {
    "collapsed": false,
    "pycharm": {
     "name": "#%%\n"
    }
   }
  },
  {
   "cell_type": "code",
   "execution_count": 51,
   "outputs": [
    {
     "data": {
      "text/plain": "DummyClassifier(strategy='most_frequent')"
     },
     "execution_count": 51,
     "metadata": {},
     "output_type": "execute_result"
    }
   ],
   "source": [
    "from sklearn.dummy import DummyClassifier\n",
    "\n",
    "dummy_x = DummyClassifier(strategy=\"most_frequent\")\n",
    "dummy_x.fit(full_pipe.X_train, full_pipe.y_train_x)"
   ],
   "metadata": {
    "collapsed": false,
    "pycharm": {
     "name": "#%%\n"
    }
   }
  },
  {
   "cell_type": "markdown",
   "source": [
    "## Dummy classifier X"
   ],
   "metadata": {
    "collapsed": false,
    "pycharm": {
     "name": "#%% md\n"
    }
   }
  },
  {
   "cell_type": "code",
   "execution_count": 52,
   "outputs": [
    {
     "name": "stdout",
     "output_type": "stream",
     "text": [
      "              precision    recall  f1-score   support\n",
      "\n",
      "           1       0.00      0.00      0.00       551\n",
      "           2       0.40      1.00      0.57      1213\n",
      "           3       0.00      0.00      0.00       806\n",
      "           4       0.00      0.00      0.00       492\n",
      "\n",
      "    accuracy                           0.40      3062\n",
      "   macro avg       0.10      0.25      0.14      3062\n",
      "weighted avg       0.16      0.40      0.22      3062\n",
      "\n"
     ]
    }
   ],
   "source": [
    "y_pred_dummy_x = dummy_x.predict(full_pipe.X_test)\n",
    "print(classification_report(full_pipe.y_test_x, y_pred_dummy_x))"
   ],
   "metadata": {
    "collapsed": false,
    "pycharm": {
     "name": "#%%\n"
    }
   }
  },
  {
   "cell_type": "markdown",
   "source": [
    "## Dummy Strat X"
   ],
   "metadata": {
    "collapsed": false,
    "pycharm": {
     "name": "#%% md\n"
    }
   }
  },
  {
   "cell_type": "code",
   "execution_count": 58,
   "outputs": [
    {
     "name": "stdout",
     "output_type": "stream",
     "text": [
      "              precision    recall  f1-score   support\n",
      "\n",
      "           1       0.17      0.18      0.17       551\n",
      "           2       0.40      0.42      0.41      1213\n",
      "           3       0.27      0.27      0.27       806\n",
      "           4       0.17      0.15      0.16       492\n",
      "\n",
      "    accuracy                           0.29      3062\n",
      "   macro avg       0.25      0.25      0.25      3062\n",
      "weighted avg       0.29      0.29      0.29      3062\n",
      "\n"
     ]
    }
   ],
   "source": [
    "dummy_strat = DummyClassifier(strategy=\"stratified\")\n",
    "dummy_strat.fit(full_pipe.X_train, full_pipe.y_train_x)\n",
    "print(classification_report(full_pipe.y_test_x, dummy_strat.predict(full_pipe.X_test)))"
   ],
   "metadata": {
    "collapsed": false,
    "pycharm": {
     "name": "#%%\n"
    }
   }
  },
  {
   "cell_type": "markdown",
   "source": [
    "## Dummy classifier Y"
   ],
   "metadata": {
    "collapsed": false,
    "pycharm": {
     "name": "#%% md\n"
    }
   }
  },
  {
   "cell_type": "code",
   "execution_count": 54,
   "outputs": [
    {
     "name": "stdout",
     "output_type": "stream",
     "text": [
      "              precision    recall  f1-score   support\n",
      "\n",
      "           0       0.00      0.00      0.00       806\n",
      "           1       0.27      1.00      0.43       842\n",
      "           2       0.00      0.00      0.00       741\n",
      "           3       0.00      0.00      0.00       673\n",
      "\n",
      "    accuracy                           0.27      3062\n",
      "   macro avg       0.07      0.25      0.11      3062\n",
      "weighted avg       0.08      0.27      0.12      3062\n",
      "\n"
     ]
    }
   ],
   "source": [
    "dummy_y = DummyClassifier(strategy=\"most_frequent\")\n",
    "dummy_y.fit(full_pipe.X_train, full_pipe.y_train_y)\n",
    "y_pred_dummy_y = dummy_y.predict(full_pipe.X_test)\n",
    "print(classification_report(full_pipe.y_test_y, y_pred_dummy_y))"
   ],
   "metadata": {
    "collapsed": false,
    "pycharm": {
     "name": "#%%\n"
    }
   }
  },
  {
   "cell_type": "markdown",
   "source": [
    "## Dummy Strat Y"
   ],
   "metadata": {
    "collapsed": false,
    "pycharm": {
     "name": "#%% md\n"
    }
   }
  },
  {
   "cell_type": "code",
   "execution_count": 59,
   "outputs": [
    {
     "name": "stdout",
     "output_type": "stream",
     "text": [
      "              precision    recall  f1-score   support\n",
      "\n",
      "           0       0.24      0.22      0.23       806\n",
      "           1       0.27      0.27      0.27       842\n",
      "           2       0.24      0.27      0.25       741\n",
      "           3       0.21      0.21      0.21       673\n",
      "\n",
      "    accuracy                           0.24      3062\n",
      "   macro avg       0.24      0.24      0.24      3062\n",
      "weighted avg       0.24      0.24      0.24      3062\n",
      "\n"
     ]
    }
   ],
   "source": [
    "dummy_strat = DummyClassifier(strategy=\"stratified\")\n",
    "dummy_strat.fit(full_pipe.X_train, full_pipe.y_train_y)\n",
    "print(classification_report(full_pipe.y_test_y, dummy_strat.predict(full_pipe.X_test)))"
   ],
   "metadata": {
    "collapsed": false,
    "pycharm": {
     "name": "#%%\n"
    }
   }
  },
  {
   "cell_type": "code",
   "execution_count": null,
   "outputs": [],
   "source": [],
   "metadata": {
    "collapsed": false,
    "pycharm": {
     "name": "#%%\n"
    }
   }
  }
 ],
 "metadata": {
  "kernelspec": {
   "display_name": "Python 3",
   "language": "python",
   "name": "python3"
  },
  "language_info": {
   "codemirror_mode": {
    "name": "ipython",
    "version": 2
   },
   "file_extension": ".py",
   "mimetype": "text/x-python",
   "name": "python",
   "nbconvert_exporter": "python",
   "pygments_lexer": "ipython2",
   "version": "2.7.6"
  }
 },
 "nbformat": 4,
 "nbformat_minor": 0
}