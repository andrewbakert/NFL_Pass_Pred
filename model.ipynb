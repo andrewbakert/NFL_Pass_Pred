{
 "cells": [
  {
   "cell_type": "code",
   "execution_count": 1,
   "metadata": {},
   "outputs": [],
   "source": [
    "# IMPORTING LOCAL MODULES\n",
    "\n",
    "import importlib\n",
    "import form_pred\n",
    "import ball_movement\n",
    "import get_data\n",
    "import def_clean\n",
    "import TrainTestNFL\n",
    "\n",
    "# REFRESHING LOCAL CHANGES\n",
    "importlib.reload(get_data)\n",
    "importlib.reload(form_pred)\n",
    "importlib.reload(def_clean)\n",
    "importlib.reload(ball_movement)\n",
    "importlib.reload(TrainTestNFL)\n",
    "\n",
    "# IMPORTING LOCAL PACKAGES\n",
    "from get_data import get_assets, get_positional_data\n",
    "from form_pred import clean_positional\n",
    "from ball_movement import ball_quadrants, make_quad_chart\n",
    "from def_clean import DefensiveCleaning\n",
    "from TrainTestNFL import TrainTestNFL\n",
    "\n",
    "# IMPORTS\n",
    "import pandas as pd\n",
    "import numpy as np"
   ]
  },
  {
   "cell_type": "code",
   "execution_count": 2,
   "metadata": {},
   "outputs": [
    {
     "name": "stdout",
     "output_type": "stream",
     "text": [
      "positional data already downloaded.\n",
      "reading positional data.\n",
      "returning positional data.\n"
     ]
    }
   ],
   "source": [
    "from pipeline import FullPipeWrapper\n",
    "\n",
    "pipe_wrap = FullPipeWrapper()"
   ]
  },
  {
   "cell_type": "code",
   "execution_count": 3,
   "metadata": {},
   "outputs": [],
   "source": [
    "from sklearn.linear_model import LogisticRegression\n",
    "\n",
    "pipe_off_logit_coords = pipe_wrap.build_pipe(side=\"off\", model=LogisticRegression())"
   ]
  },
  {
   "cell_type": "code",
   "execution_count": 4,
   "metadata": {},
   "outputs": [],
   "source": [
    "from sklearn.model_selection import GridSearchCV\n",
    "\n",
    "perm_feats = ['possessionTeam','down','offenseFormation']\n",
    "situational = ['score_differential', 'timeRemaining','yardline_first_dir','yardline_100_dir']\n",
    "reduction = ['perc_left','perc_right','perc_behind_los']\n",
    "pos = ['FB','HB','QB','RB','TE','WR']\n",
    "coords = ['FBL0_x','FBR0_x','HBL0_x','HBL1_x','HBR0_x','HBR1_x','QB0_x','QB1_x','RBL0_x','RBL1_x','RBL2_x','RBR0_x','RBR1_x','RBR2_x','TEL0_x','TEL1_x','TEL2_x','TER0_x','TER1_x','TER2_x','WRL0_x','WRL1_x','WRL2_x','WRL3_x','WRR0_x','WRR1_x','WRR2_x','WRR3_x','FBL0_y','FBR0_y','HBL0_y','HBL1_y','HBR0_y','HBR1_y','QB0_y','QB1_y','RBL0_y','RBL1_y','RBL2_y','RBR0_y','RBR1_y','RBR2_y','TEL0_y','TEL1_y','TEL2_y','TER0_y','TER1_y','TER2_y','WRL0_y','WRL1_y','WRL2_y','WRL3_y','WRR0_y','WRR1_y','WRR2_y','WRR3_y','FBL0_in','FBR0_in','HBL0_in','HBL1_in','HBR0_in','HBR1_in','QB0_in','QB1_in','RBL0_in','RBL1_in','RBL2_in','RBR0_in','RBR1_in','RBR2_in','TEL0_in','TEL1_in','TEL2_in','TER0_in','TER1_in','TER2_in','WRL0_in','WRL1_in','WRL2_in','WRL3_in','WRR0_in','WRR1_in','WRR2_in','WRR3_in']\n",
    "\n",
    "params = {'model__penalty': ['l1', 'l2', 'elasticnet', 'none'],\n",
    "          'model__solver': ['newton-cg', 'sag', 'saga','lbfgs'],\n",
    "          'model__C': [0.001, .01,.1, 1, 10],\n",
    "          'model__class_weight' : ['balanced', 'none'],\n",
    "          'off_full_pipe__full_cols__select_cols__columns' : [\n",
    "              perm_feats + situational,\n",
    "              perm_feats + reduction, \n",
    "              perm_feats + pos,\n",
    "              perm_feats + coords,\n",
    "              perm_feats + situational + coords,\n",
    "              perm_feats + reduction + pos + coords + situational,\n",
    "              perm_feats + situational + reduction,\n",
    "          ]}\n",
    "\n",
    "grid_logit_paramX = GridSearchCV(pipe_off_logit_coords, params, scoring = 'f1_macro')\n",
    "grid_logit_paramY = GridSearchCV(pipe_off_logit_coords, params, scoring = 'f1_macro')"
   ]
  },
  {
   "cell_type": "code",
   "execution_count": null,
   "metadata": {
    "pycharm": {
     "is_executing": true
    }
   },
   "outputs": [],
   "source": [
    "grid_logit_paramX.fit(pipe_wrap.X_train, pipe_wrap.y_train_x)"
   ]
  },
  {
   "cell_type": "code",
   "execution_count": null,
   "metadata": {
    "pycharm": {
     "is_executing": true
    }
   },
   "outputs": [],
   "source": [
    "grid_logit_paramY.fit(pipe_wrap.X_train, pipe_wrap.y_train_y)"
   ]
  },
  {
   "cell_type": "code",
   "execution_count": null,
   "metadata": {
    "collapsed": false,
    "jupyter": {
     "outputs_hidden": false
    },
    "pycharm": {
     "name": "#%%\n",
     "is_executing": true
    }
   },
   "outputs": [],
   "source": [
    "grid_logit_paramX.best_params_"
   ]
  },
  {
   "cell_type": "code",
   "execution_count": null,
   "metadata": {
    "pycharm": {
     "is_executing": true
    }
   },
   "outputs": [],
   "source": [
    "grid_logit_paramY.best_params_"
   ]
  },
  {
   "cell_type": "code",
   "execution_count": null,
   "metadata": {
    "pycharm": {
     "is_executing": true
    }
   },
   "outputs": [],
   "source": [
    "grid_logit_paramX.best_score_"
   ]
  },
  {
   "cell_type": "code",
   "execution_count": null,
   "metadata": {
    "pycharm": {
     "is_executing": true
    }
   },
   "outputs": [],
   "source": [
    "from grid_result_plot import create_result_plot\n",
    "\n",
    "create_result_plot(grid_logit_paramY, \"model__class_weight\")"
   ]
  },
  {
   "cell_type": "code",
   "execution_count": null,
   "metadata": {
    "pycharm": {
     "is_executing": true
    }
   },
   "outputs": [],
   "source": [
    "grid_logit_paramX"
   ]
  },
  {
   "cell_type": "code",
   "execution_count": null,
   "metadata": {
    "pycharm": {
     "is_executing": true
    }
   },
   "outputs": [],
   "source": [
    "import dill as pickle\n",
    "\n",
    "with open(\"models/grid_logit_paramX.pkl\", \"wb\") as logit_X:\n",
    "    pickle.dump(grid_logit_paramX, logit_X)"
   ]
  },
  {
   "cell_type": "code",
   "execution_count": null,
   "metadata": {
    "pycharm": {
     "is_executing": true
    }
   },
   "outputs": [],
   "source": [
    "import dill as pickle\n",
    "\n",
    "with open(\"models/grid_logit_paramY.pkl\", \"wb\") as logit_Y:\n",
    "    pickle.dump(grid_logit_paramX, logit_Y)"
   ]
  },
  {
   "cell_type": "code",
   "execution_count": null,
   "metadata": {},
   "outputs": [],
   "source": []
  }
 ],
 "metadata": {
  "interpreter": {
   "hash": "40d3a090f54c6569ab1632332b64b2c03c39dcf918b08424e98f38b5ae0af88f"
  },
  "kernelspec": {
   "display_name": "Python 3 (ipykernel)",
   "language": "python",
   "name": "python3"
  },
  "language_info": {
   "codemirror_mode": {
    "name": "ipython",
    "version": 3
   },
   "file_extension": ".py",
   "mimetype": "text/x-python",
   "name": "python",
   "nbconvert_exporter": "python",
   "pygments_lexer": "ipython3",
   "version": "3.8.12"
  },
  "widgets": {
   "application/vnd.jupyter.widget-state+json": {
    "state": {},
    "version_major": 2,
    "version_minor": 0
   }
  }
 },
 "nbformat": 4,
 "nbformat_minor": 4
}