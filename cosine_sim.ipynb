{
 "cells": [
  {
   "cell_type": "code",
   "execution_count": 1,
   "metadata": {
    "collapsed": true,
    "pycharm": {
     "name": "#%%\n"
    }
   },
   "outputs": [
    {
     "name": "stdout",
     "output_type": "stream",
     "text": [
      "..............................initializing\n",
      "positional data already downloaded.\n",
      "reading positional data.\n",
      "returning positional data.\n",
      "..data downloaded...\n"
     ]
    }
   ],
   "source": [
    "import pandas as pd\n",
    "\n",
    "from def_clean import DefensiveCleaning\n",
    "\n",
    "def_cleaning = DefensiveCleaning(n_cuts=11)"
   ]
  },
  {
   "cell_type": "code",
   "execution_count": 2,
   "outputs": [
    {
     "name": "stdout",
     "output_type": "stream",
     "text": [
      "...Week 1 loaded...\n",
      "...filtered...\n",
      "...transformed...\n",
      "...time reduced...\n",
      "...starting dataframe generated...\n",
      "...action type generated...\n",
      ".....Week 1 COMPLETE.....\n"
     ]
    }
   ],
   "source": [
    "week = def_cleaning.combine_week(1)"
   ],
   "metadata": {
    "collapsed": false,
    "pycharm": {
     "name": "#%%\n"
    }
   }
  }
 ],
 "metadata": {
  "kernelspec": {
   "display_name": "Python 3",
   "language": "python",
   "name": "python3"
  },
  "language_info": {
   "codemirror_mode": {
    "name": "ipython",
    "version": 2
   },
   "file_extension": ".py",
   "mimetype": "text/x-python",
   "name": "python",
   "nbconvert_exporter": "python",
   "pygments_lexer": "ipython2",
   "version": "2.7.6"
  }
 },
 "nbformat": 4,
 "nbformat_minor": 0
}