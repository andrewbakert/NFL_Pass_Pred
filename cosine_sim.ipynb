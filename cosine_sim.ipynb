{
 "cells": [
  {
   "cell_type": "code",
   "execution_count": 1,
   "metadata": {
    "collapsed": true,
    "pycharm": {
     "name": "#%%\n"
    }
   },
   "outputs": [
    {
     "name": "stdout",
     "output_type": "stream",
     "text": [
      "..............................initializing\n",
      "positional data already downloaded.\n",
      "reading positional data.\n",
      "returning positional data.\n",
      "..data downloaded...\n"
     ]
    }
   ],
   "source": [
    "import pandas as pd\n",
    "\n",
    "from def_clean import DefensiveCleaning\n",
    "\n",
    "def_cleaning = DefensiveCleaning(n_cuts=11)"
   ]
  },
  {
   "cell_type": "code",
   "execution_count": 2,
   "outputs": [
    {
     "name": "stdout",
     "output_type": "stream",
     "text": [
      "...Week 1 loaded...\n",
      "...filtered...\n",
      "...transformed...\n",
      "...time reduced...\n",
      "...starting dataframe generated...\n",
      "...action type generated...\n",
      ".....Week 1 COMPLETE.....\n"
     ]
    }
   ],
   "source": [
    "week = def_cleaning.combine_week(1)"
   ],
   "metadata": {
    "collapsed": false,
    "pycharm": {
     "name": "#%%\n"
    }
   }
  },
  {
   "cell_type": "code",
   "execution_count": 3,
   "outputs": [
    {
     "data": {
      "text/plain": "(21239, 12)"
     },
     "execution_count": 3,
     "metadata": {},
     "output_type": "execute_result"
    }
   ],
   "source": [
    "week.shape"
   ],
   "metadata": {
    "collapsed": false,
    "pycharm": {
     "name": "#%%\n"
    }
   }
  },
  {
   "cell_type": "code",
   "execution_count": 9,
   "outputs": [
    {
     "data": {
      "text/plain": "           gameId  playId          posId  value  defendersInTheBox  \\\n0      2018090600      75       CBL0_act      M                7.0   \n1      2018090600      75       CBR0_act      M                7.0   \n2      2018090600      75       FSL0_act      M                7.0   \n3      2018090600      75       FSR0_act      M                7.0   \n4      2018090600      75       LBR0_act      M                7.0   \n...           ...     ...            ...    ...                ...   \n21234  2018091001    4192   SSL0_x_start   5.11                5.0   \n21235  2018091001    4192  ILBR0_y_start -12.53                5.0   \n21236  2018091001    4192  ILBR0_x_start   4.09                5.0   \n21237  2018091001    4192   SSR0_y_start -11.34                5.0   \n21238  2018091001    4192   SSR0_x_start  11.99                5.0   \n\n       numberOfPassRushers DB LB DL  yardline_first  yardline_100  week  \n0                      4.0  5  2  4            65.0          80.0     1  \n1                      4.0  5  2  4            65.0          80.0     1  \n2                      4.0  5  2  4            65.0          80.0     1  \n3                      4.0  5  2  4            65.0          80.0     1  \n4                      4.0  5  2  4            65.0          80.0     1  \n...                    ... .. .. ..             ...           ...   ...  \n21234                  4.0  6  2  3            29.0          31.0     1  \n21235                  4.0  6  2  3            29.0          31.0     1  \n21236                  4.0  6  2  3            29.0          31.0     1  \n21237                  4.0  6  2  3            29.0          31.0     1  \n21238                  4.0  6  2  3            29.0          31.0     1  \n\n[21239 rows x 12 columns]",
      "text/html": "<div>\n<style scoped>\n    .dataframe tbody tr th:only-of-type {\n        vertical-align: middle;\n    }\n\n    .dataframe tbody tr th {\n        vertical-align: top;\n    }\n\n    .dataframe thead th {\n        text-align: right;\n    }\n</style>\n<table border=\"1\" class=\"dataframe\">\n  <thead>\n    <tr style=\"text-align: right;\">\n      <th></th>\n      <th>gameId</th>\n      <th>playId</th>\n      <th>posId</th>\n      <th>value</th>\n      <th>defendersInTheBox</th>\n      <th>numberOfPassRushers</th>\n      <th>DB</th>\n      <th>LB</th>\n      <th>DL</th>\n      <th>yardline_first</th>\n      <th>yardline_100</th>\n      <th>week</th>\n    </tr>\n  </thead>\n  <tbody>\n    <tr>\n      <th>0</th>\n      <td>2018090600</td>\n      <td>75</td>\n      <td>CBL0_act</td>\n      <td>M</td>\n      <td>7.0</td>\n      <td>4.0</td>\n      <td>5</td>\n      <td>2</td>\n      <td>4</td>\n      <td>65.0</td>\n      <td>80.0</td>\n      <td>1</td>\n    </tr>\n    <tr>\n      <th>1</th>\n      <td>2018090600</td>\n      <td>75</td>\n      <td>CBR0_act</td>\n      <td>M</td>\n      <td>7.0</td>\n      <td>4.0</td>\n      <td>5</td>\n      <td>2</td>\n      <td>4</td>\n      <td>65.0</td>\n      <td>80.0</td>\n      <td>1</td>\n    </tr>\n    <tr>\n      <th>2</th>\n      <td>2018090600</td>\n      <td>75</td>\n      <td>FSL0_act</td>\n      <td>M</td>\n      <td>7.0</td>\n      <td>4.0</td>\n      <td>5</td>\n      <td>2</td>\n      <td>4</td>\n      <td>65.0</td>\n      <td>80.0</td>\n      <td>1</td>\n    </tr>\n    <tr>\n      <th>3</th>\n      <td>2018090600</td>\n      <td>75</td>\n      <td>FSR0_act</td>\n      <td>M</td>\n      <td>7.0</td>\n      <td>4.0</td>\n      <td>5</td>\n      <td>2</td>\n      <td>4</td>\n      <td>65.0</td>\n      <td>80.0</td>\n      <td>1</td>\n    </tr>\n    <tr>\n      <th>4</th>\n      <td>2018090600</td>\n      <td>75</td>\n      <td>LBR0_act</td>\n      <td>M</td>\n      <td>7.0</td>\n      <td>4.0</td>\n      <td>5</td>\n      <td>2</td>\n      <td>4</td>\n      <td>65.0</td>\n      <td>80.0</td>\n      <td>1</td>\n    </tr>\n    <tr>\n      <th>...</th>\n      <td>...</td>\n      <td>...</td>\n      <td>...</td>\n      <td>...</td>\n      <td>...</td>\n      <td>...</td>\n      <td>...</td>\n      <td>...</td>\n      <td>...</td>\n      <td>...</td>\n      <td>...</td>\n      <td>...</td>\n    </tr>\n    <tr>\n      <th>21234</th>\n      <td>2018091001</td>\n      <td>4192</td>\n      <td>SSL0_x_start</td>\n      <td>5.11</td>\n      <td>5.0</td>\n      <td>4.0</td>\n      <td>6</td>\n      <td>2</td>\n      <td>3</td>\n      <td>29.0</td>\n      <td>31.0</td>\n      <td>1</td>\n    </tr>\n    <tr>\n      <th>21235</th>\n      <td>2018091001</td>\n      <td>4192</td>\n      <td>ILBR0_y_start</td>\n      <td>-12.53</td>\n      <td>5.0</td>\n      <td>4.0</td>\n      <td>6</td>\n      <td>2</td>\n      <td>3</td>\n      <td>29.0</td>\n      <td>31.0</td>\n      <td>1</td>\n    </tr>\n    <tr>\n      <th>21236</th>\n      <td>2018091001</td>\n      <td>4192</td>\n      <td>ILBR0_x_start</td>\n      <td>4.09</td>\n      <td>5.0</td>\n      <td>4.0</td>\n      <td>6</td>\n      <td>2</td>\n      <td>3</td>\n      <td>29.0</td>\n      <td>31.0</td>\n      <td>1</td>\n    </tr>\n    <tr>\n      <th>21237</th>\n      <td>2018091001</td>\n      <td>4192</td>\n      <td>SSR0_y_start</td>\n      <td>-11.34</td>\n      <td>5.0</td>\n      <td>4.0</td>\n      <td>6</td>\n      <td>2</td>\n      <td>3</td>\n      <td>29.0</td>\n      <td>31.0</td>\n      <td>1</td>\n    </tr>\n    <tr>\n      <th>21238</th>\n      <td>2018091001</td>\n      <td>4192</td>\n      <td>SSR0_x_start</td>\n      <td>11.99</td>\n      <td>5.0</td>\n      <td>4.0</td>\n      <td>6</td>\n      <td>2</td>\n      <td>3</td>\n      <td>29.0</td>\n      <td>31.0</td>\n      <td>1</td>\n    </tr>\n  </tbody>\n</table>\n<p>21239 rows × 12 columns</p>\n</div>"
     },
     "execution_count": 9,
     "metadata": {},
     "output_type": "execute_result"
    }
   ],
   "source": [
    "week"
   ],
   "metadata": {
    "collapsed": false,
    "pycharm": {
     "name": "#%%\n"
    }
   }
  },
  {
   "cell_type": "code",
   "execution_count": 2,
   "outputs": [
    {
     "name": "stdout",
     "output_type": "stream",
     "text": [
      "...Week 1 loaded...\n",
      "...filtered...\n",
      "...transformed...\n",
      "...time reduced...\n",
      "...starting dataframe generated...\n",
      "...action type generated...\n",
      ".....Week 1 COMPLETE.....\n",
      "\n",
      "   50.0% COMPLETE   \n",
      "\n",
      "--- 0.3 minutes elapsed ---\n",
      "\n",
      "the weeks complete:  [1]\n",
      "...Week 2 loaded...\n",
      "...filtered...\n",
      "...transformed...\n",
      "...time reduced...\n",
      "...starting dataframe generated...\n",
      "...action type generated...\n",
      ".....Week 2 COMPLETE.....\n",
      "\n",
      "   100.0% COMPLETE   \n",
      "\n",
      "--- 0.8 minutes elapsed ---\n",
      "\n",
      "the weeks complete:  [1 2]\n",
      "Defensive cleaning complete --- check assets/def_clean_output.csv\n"
     ]
    }
   ],
   "source": [
    "df = def_cleaning.generate_full_df(1, 2)"
   ],
   "metadata": {
    "collapsed": false,
    "pycharm": {
     "name": "#%%\n"
    }
   }
  },
  {
   "cell_type": "code",
   "execution_count": 3,
   "outputs": [
    {
     "name": "stdout",
     "output_type": "stream",
     "text": [
      "['CBL0' nan 'CBL1' 'CBL2' 'CBL3' 'CBR0' 'CBR1' 'CBR2' 'DBL0' 'DBR0' 'DEL0'\n",
      " 'DER0' 'DLL0' 'DLR0' 'FSL0' 'FSL1' 'FSL2' 'FSR0' 'FSR1' 'FSR2' 'ILBL0'\n",
      " 'ILBL1' 'ILBL2' 'ILBR0' 'ILBR1' 'ILBR2' 'LBL0' 'LBL1' 'LBR0' 'LBR1'\n",
      " 'MLBL0' 'MLBL1' 'MLBR0' 'MLBR1' 'NTL0' 'OLBL0' 'OLBL1' 'OLBL2' 'OLBL3'\n",
      " 'OLBR0' 'OLBR1' 'OLBR2' 'OLBR3' 'QB0' 'RBL0' 'RBL1' 'RBR0' 'SL0' 'SR0'\n",
      " 'SSL0' 'SSL1' 'SSR0' 'SSR1' 'WRL0']\n"
     ]
    }
   ],
   "source": [
    "print(df.columns.str.extract('^(?P<position>[A-Z\\d]+)\\_act')['position'].unique())"
   ],
   "metadata": {
    "collapsed": false,
    "pycharm": {
     "name": "#%%\n"
    }
   }
  },
  {
   "cell_type": "code",
   "execution_count": 12,
   "outputs": [
    {
     "name": "stdout",
     "output_type": "stream",
     "text": [
      "posId                                                                                        CBL0_act  \\\n",
      "gameId     playId defendersInTheBox numberOfPassRushers DB LB DL yardline_first yardline_100            \n",
      "2018091607 329    NaN               5.0                 4  3  0  40.0           34.0                Z   \n",
      "\n",
      "posId                                                                                        CBL0_x_start  \\\n",
      "gameId     playId defendersInTheBox numberOfPassRushers DB LB DL yardline_first yardline_100                \n",
      "2018091607 329    NaN               5.0                 4  3  0  40.0           34.0                 0.54   \n",
      "\n",
      "posId                                                                                        CBL0_y_start  \\\n",
      "gameId     playId defendersInTheBox numberOfPassRushers DB LB DL yardline_first yardline_100                \n",
      "2018091607 329    NaN               5.0                 4  3  0  40.0           34.0                10.93   \n",
      "\n",
      "posId                                                                                        CBL1_act  \\\n",
      "gameId     playId defendersInTheBox numberOfPassRushers DB LB DL yardline_first yardline_100            \n",
      "2018091607 329    NaN               5.0                 4  3  0  40.0           34.0              NaN   \n",
      "\n",
      "posId                                                                                        CBL1_x_start  \\\n",
      "gameId     playId defendersInTheBox numberOfPassRushers DB LB DL yardline_first yardline_100                \n",
      "2018091607 329    NaN               5.0                 4  3  0  40.0           34.0                  NaN   \n",
      "\n",
      "posId                                                                                        CBL1_y_start  \\\n",
      "gameId     playId defendersInTheBox numberOfPassRushers DB LB DL yardline_first yardline_100                \n",
      "2018091607 329    NaN               5.0                 4  3  0  40.0           34.0                  NaN   \n",
      "\n",
      "posId                                                                                        CBL2_act  \\\n",
      "gameId     playId defendersInTheBox numberOfPassRushers DB LB DL yardline_first yardline_100            \n",
      "2018091607 329    NaN               5.0                 4  3  0  40.0           34.0              NaN   \n",
      "\n",
      "posId                                                                                        CBL2_x_start  \\\n",
      "gameId     playId defendersInTheBox numberOfPassRushers DB LB DL yardline_first yardline_100                \n",
      "2018091607 329    NaN               5.0                 4  3  0  40.0           34.0                  NaN   \n",
      "\n",
      "posId                                                                                        CBL2_y_start  \\\n",
      "gameId     playId defendersInTheBox numberOfPassRushers DB LB DL yardline_first yardline_100                \n",
      "2018091607 329    NaN               5.0                 4  3  0  40.0           34.0                  NaN   \n",
      "\n",
      "posId                                                                                        CBL3_act  \\\n",
      "gameId     playId defendersInTheBox numberOfPassRushers DB LB DL yardline_first yardline_100            \n",
      "2018091607 329    NaN               5.0                 4  3  0  40.0           34.0              NaN   \n",
      "\n",
      "posId                                                                                         ...  \\\n",
      "gameId     playId defendersInTheBox numberOfPassRushers DB LB DL yardline_first yardline_100  ...   \n",
      "2018091607 329    NaN               5.0                 4  3  0  40.0           34.0          ...   \n",
      "\n",
      "posId                                                                                        SSR0_x_start  \\\n",
      "gameId     playId defendersInTheBox numberOfPassRushers DB LB DL yardline_first yardline_100                \n",
      "2018091607 329    NaN               5.0                 4  3  0  40.0           34.0                  NaN   \n",
      "\n",
      "posId                                                                                        SSR0_y_start  \\\n",
      "gameId     playId defendersInTheBox numberOfPassRushers DB LB DL yardline_first yardline_100                \n",
      "2018091607 329    NaN               5.0                 4  3  0  40.0           34.0                  NaN   \n",
      "\n",
      "posId                                                                                        SSR1_act  \\\n",
      "gameId     playId defendersInTheBox numberOfPassRushers DB LB DL yardline_first yardline_100            \n",
      "2018091607 329    NaN               5.0                 4  3  0  40.0           34.0              NaN   \n",
      "\n",
      "posId                                                                                        SSR1_x_start  \\\n",
      "gameId     playId defendersInTheBox numberOfPassRushers DB LB DL yardline_first yardline_100                \n",
      "2018091607 329    NaN               5.0                 4  3  0  40.0           34.0                  NaN   \n",
      "\n",
      "posId                                                                                        SSR1_y_start  \\\n",
      "gameId     playId defendersInTheBox numberOfPassRushers DB LB DL yardline_first yardline_100                \n",
      "2018091607 329    NaN               5.0                 4  3  0  40.0           34.0                  NaN   \n",
      "\n",
      "posId                                                                                        TEL0_x_start  \\\n",
      "gameId     playId defendersInTheBox numberOfPassRushers DB LB DL yardline_first yardline_100                \n",
      "2018091607 329    NaN               5.0                 4  3  0  40.0           34.0                  NaN   \n",
      "\n",
      "posId                                                                                        TEL0_y_start  \\\n",
      "gameId     playId defendersInTheBox numberOfPassRushers DB LB DL yardline_first yardline_100                \n",
      "2018091607 329    NaN               5.0                 4  3  0  40.0           34.0                  NaN   \n",
      "\n",
      "posId                                                                                        WRL0_act  \\\n",
      "gameId     playId defendersInTheBox numberOfPassRushers DB LB DL yardline_first yardline_100            \n",
      "2018091607 329    NaN               5.0                 4  3  0  40.0           34.0              NaN   \n",
      "\n",
      "posId                                                                                        WRL0_x_start  \\\n",
      "gameId     playId defendersInTheBox numberOfPassRushers DB LB DL yardline_first yardline_100                \n",
      "2018091607 329    NaN               5.0                 4  3  0  40.0           34.0                  NaN   \n",
      "\n",
      "posId                                                                                        WRL0_y_start  \n",
      "gameId     playId defendersInTheBox numberOfPassRushers DB LB DL yardline_first yardline_100               \n",
      "2018091607 329    NaN               5.0                 4  3  0  40.0           34.0                  NaN  \n",
      "\n",
      "[1 rows x 161 columns]\n"
     ]
    }
   ],
   "source": [
    "print(df[df['RBL0_act'].notnull()])"
   ],
   "metadata": {
    "collapsed": false,
    "pycharm": {
     "name": "#%%\n"
    }
   }
  },
  {
   "cell_type": "code",
   "execution_count": 16,
   "outputs": [
    {
     "name": "stdout",
     "output_type": "stream",
     "text": [
      "        position      team\n",
      "1120227      ILB      home\n",
      "1120228        P      home\n",
      "1120229       QB      away\n",
      "1120230       TE      home\n",
      "1120231       CB      away\n",
      "1120233       LS      home\n",
      "1120236       FS      home\n",
      "1120237       RB      away\n",
      "1120238      ILB      away\n",
      "1120241       CB      home\n",
      "1120244       DB      away\n",
      "1120245       LB      away\n",
      "1120246       DB      home\n",
      "1120249      NaN  football\n"
     ]
    }
   ],
   "source": [
    "print(def_cleaning.weeks_data[(def_cleaning.weeks_data['gameId'] == 2018091607)\n",
    "    & (def_cleaning.weeks_data['playId'] == 329)\n",
    "][['position', 'team']].drop_duplicates())"
   ],
   "metadata": {
    "collapsed": false,
    "pycharm": {
     "name": "#%%\n"
    }
   }
  },
  {
   "cell_type": "code",
   "execution_count": 13,
   "outputs": [
    {
     "name": "stdout",
     "output_type": "stream",
     "text": [
      "Play description: (Punt formation) K.Byard pass deep right to D.Cruikshank for 66 yards, TOUCHDOWN.\n"
     ]
    },
    {
     "data": {
      "text/html": "\n<div id=\"altair-viz-2c390221132c4a9fabde2c22cdac23c0\"></div>\n<script type=\"text/javascript\">\n  (function(spec, embedOpt){\n    let outputDiv = document.currentScript.previousElementSibling;\n    if (outputDiv.id !== \"altair-viz-2c390221132c4a9fabde2c22cdac23c0\") {\n      outputDiv = document.getElementById(\"altair-viz-2c390221132c4a9fabde2c22cdac23c0\");\n    }\n    const paths = {\n      \"vega\": \"https://cdn.jsdelivr.net/npm//vega@5?noext\",\n      \"vega-lib\": \"https://cdn.jsdelivr.net/npm//vega-lib?noext\",\n      \"vega-lite\": \"https://cdn.jsdelivr.net/npm//vega-lite@4.8.1?noext\",\n      \"vega-embed\": \"https://cdn.jsdelivr.net/npm//vega-embed@6?noext\",\n    };\n\n    function loadScript(lib) {\n      return new Promise(function(resolve, reject) {\n        var s = document.createElement('script');\n        s.src = paths[lib];\n        s.async = true;\n        s.onload = () => resolve(paths[lib]);\n        s.onerror = () => reject(`Error loading script: ${paths[lib]}`);\n        document.getElementsByTagName(\"head\")[0].appendChild(s);\n      });\n    }\n\n    function showError(err) {\n      outputDiv.innerHTML = `<div class=\"error\" style=\"color:red;\">${err}</div>`;\n      throw err;\n    }\n\n    function displayChart(vegaEmbed) {\n      vegaEmbed(outputDiv, spec, embedOpt)\n        .catch(err => showError(`Javascript Error: ${err.message}<br>This usually means there's a typo in your chart specification. See the javascript console for the full traceback.`));\n    }\n\n    if(typeof define === \"function\" && define.amd) {\n      requirejs.config({paths});\n      require([\"vega-embed\"], displayChart, err => showError(`Error loading script: ${err.message}`));\n    } else if (typeof vegaEmbed === \"function\") {\n      displayChart(vegaEmbed);\n    } else {\n      loadScript(\"vega\")\n        .then(() => loadScript(\"vega-lite\"))\n        .then(() => loadScript(\"vega-embed\"))\n        .catch(showError)\n        .then(() => displayChart(vegaEmbed));\n    }\n  })({\"usermeta\": {\"embedOptions\": {\"theme\": \"fivethirtyeight\"}}, \"config\": {\"view\": {\"continuousWidth\": 400, \"continuousHeight\": 300}}, \"layer\": [{\"mark\": {\"type\": \"circle\", \"dx\": 5, \"dy\": 5, \"size\": 100}, \"encoding\": {\"color\": {\"type\": \"nominal\", \"field\": \"off\", \"title\": null}, \"x\": {\"type\": \"quantitative\", \"field\": \"y_dir\", \"scale\": {\"domain\": [0, 53.3]}}, \"y\": {\"type\": \"quantitative\", \"field\": \"x_dir\"}}}, {\"mark\": {\"type\": \"text\", \"dx\": -15, \"fontSize\": 10}, \"encoding\": {\"text\": {\"type\": \"nominal\", \"field\": \"position\"}, \"x\": {\"type\": \"quantitative\", \"field\": \"y_dir\", \"scale\": {\"domain\": [0, 53.3]}, \"title\": null}, \"y\": {\"type\": \"quantitative\", \"field\": \"x_dir\", \"scale\": {\"zero\": false}, \"title\": \"Yardline\"}}}, {\"mark\": {\"type\": \"rule\", \"color\": \"blue\"}, \"encoding\": {\"y\": {\"type\": \"quantitative\", \"field\": \"yardline_dir\"}}}, {\"mark\": {\"type\": \"rule\", \"color\": \"#ECEC01\"}, \"encoding\": {\"y\": {\"type\": \"quantitative\", \"field\": \"yardline_first_dir\"}}}], \"data\": {\"name\": \"data-5f09fa9a67c2210b6b92e726a46af3ee\"}, \"height\": 606.4, \"width\": 533.0, \"$schema\": \"https://vega.github.io/schema/vega-lite/v4.8.1.json\", \"datasets\": {\"data-5f09fa9a67c2210b6b92e726a46af3ee\": [{\"nflId\": 2354.0, \"x_100\": 32.39, \"y\": 28.57, \"position\": \"ILB\", \"yardline_100\": 34.0, \"yardline_first\": 28.0, \"off\": \"Defense\", \"x_dir\": 67.61, \"yardline_dir\": 66.0, \"yardline_first_dir\": 72.0, \"y_dir\": 28.57}, {\"nflId\": 4263.0, \"x_100\": 20.1, \"y\": 29.49, \"position\": \"P\", \"yardline_100\": 34.0, \"yardline_first\": 28.0, \"off\": \"Defense\", \"x_dir\": 79.9, \"yardline_dir\": 66.0, \"yardline_first_dir\": 72.0, \"y_dir\": 29.49}, {\"nflId\": 1037347.0, \"x_100\": 35.8, \"y\": 27.53, \"position\": \"QB\", \"yardline_100\": 34.0, \"yardline_first\": 28.0, \"off\": \"Offense\", \"x_dir\": 64.2, \"yardline_dir\": 66.0, \"yardline_first_dir\": 72.0, \"y_dir\": 27.53}, {\"nflId\": 2495234.0, \"x_100\": 32.06, \"y\": 31.78, \"position\": \"TE\", \"yardline_100\": 34.0, \"yardline_first\": 28.0, \"off\": \"Defense\", \"x_dir\": 67.94, \"yardline_dir\": 66.0, \"yardline_first_dir\": 72.0, \"y_dir\": 31.78}, {\"nflId\": 2495251.0, \"x_100\": 34.69, \"y\": 24.17, \"position\": \"CB\", \"yardline_100\": 34.0, \"yardline_first\": 28.0, \"off\": \"Offense\", \"x_dir\": 65.31, \"yardline_dir\": 66.0, \"yardline_first_dir\": 72.0, \"y_dir\": 24.17}, {\"nflId\": 2535693.0, \"x_100\": 34.54, \"y\": 34.58, \"position\": \"CB\", \"yardline_100\": 34.0, \"yardline_first\": 28.0, \"off\": \"Offense\", \"x_dir\": 65.46000000000001, \"yardline_dir\": 66.0, \"yardline_first_dir\": 72.0, \"y_dir\": 34.58}, {\"nflId\": 2535701.0, \"x_100\": 33.35, \"y\": 29.85, \"position\": \"LS\", \"yardline_100\": 34.0, \"yardline_first\": 28.0, \"off\": \"Defense\", \"x_dir\": 66.65, \"yardline_dir\": 66.0, \"yardline_first_dir\": 72.0, \"y_dir\": 29.85}, {\"nflId\": 2540013.0, \"x_100\": 32.37, \"y\": 30.82, \"position\": \"ILB\", \"yardline_100\": 34.0, \"yardline_first\": 28.0, \"off\": \"Defense\", \"x_dir\": 67.63, \"yardline_dir\": 66.0, \"yardline_first_dir\": 72.0, \"y_dir\": 30.82}, {\"nflId\": 2541539.0, \"x_100\": 32.5, \"y\": 27.7, \"position\": \"ILB\", \"yardline_100\": 34.0, \"yardline_first\": 28.0, \"off\": \"Defense\", \"x_dir\": 67.5, \"yardline_dir\": 66.0, \"yardline_first_dir\": 72.0, \"y_dir\": 27.7}, {\"nflId\": 2541756.0, \"x_100\": 30.32, \"y\": 26.99, \"position\": \"FS\", \"yardline_100\": 34.0, \"yardline_first\": 28.0, \"off\": \"Defense\", \"x_dir\": 69.68, \"yardline_dir\": 66.0, \"yardline_first_dir\": 72.0, \"y_dir\": 26.99}, {\"nflId\": 2543600.0, \"x_100\": 36.64, \"y\": 29.4, \"position\": \"RB\", \"yardline_100\": 34.0, \"yardline_first\": 28.0, \"off\": \"Offense\", \"x_dir\": 63.36, \"yardline_dir\": 66.0, \"yardline_first_dir\": 72.0, \"y_dir\": 29.4}, {\"nflId\": 2552730.0, \"x_100\": 34.42, \"y\": 28.86, \"position\": \"ILB\", \"yardline_100\": 34.0, \"yardline_first\": 28.0, \"off\": \"Offense\", \"x_dir\": 65.58, \"yardline_dir\": 66.0, \"yardline_first_dir\": 72.0, \"y_dir\": 28.86}, {\"nflId\": 2555158.0, \"x_100\": 28.090000000000003, \"y\": 28.59, \"position\": \"FS\", \"yardline_100\": 34.0, \"yardline_first\": 28.0, \"off\": \"Defense\", \"x_dir\": 71.91, \"yardline_dir\": 66.0, \"yardline_first_dir\": 72.0, \"y_dir\": 28.59}, {\"nflId\": 2555234.0, \"x_100\": 80.74, \"y\": 31.66, \"position\": \"RB\", \"yardline_100\": 34.0, \"yardline_first\": 28.0, \"off\": \"Offense\", \"x_dir\": 19.260000000000005, \"yardline_dir\": 66.0, \"yardline_first_dir\": 72.0, \"y_dir\": 31.66}, {\"nflId\": 2555551.0, \"x_100\": 32.61, \"y\": 44.55, \"position\": \"CB\", \"yardline_100\": 34.0, \"yardline_first\": 28.0, \"off\": \"Defense\", \"x_dir\": 67.39, \"yardline_dir\": 66.0, \"yardline_first_dir\": 72.0, \"y_dir\": 44.55}, {\"nflId\": 2558942.0, \"x_100\": 30.53, \"y\": 32.32, \"position\": \"TE\", \"yardline_100\": 34.0, \"yardline_first\": 28.0, \"off\": \"Defense\", \"x_dir\": 69.47, \"yardline_dir\": 66.0, \"yardline_first_dir\": 72.0, \"y_dir\": 32.32}, {\"nflId\": 2559152.0, \"x_100\": 34.03, \"y\": 28.33, \"position\": \"ILB\", \"yardline_100\": 34.0, \"yardline_first\": 28.0, \"off\": \"Offense\", \"x_dir\": 65.97, \"yardline_dir\": 66.0, \"yardline_first_dir\": 72.0, \"y_dir\": 28.33}, {\"nflId\": 2560759.0, \"x_100\": 35.02, \"y\": 25.49, \"position\": \"DB\", \"yardline_100\": 34.0, \"yardline_first\": 28.0, \"off\": \"Offense\", \"x_dir\": 64.97999999999999, \"yardline_dir\": 66.0, \"yardline_first_dir\": 72.0, \"y_dir\": 25.49}, {\"nflId\": 2560774.0, \"x_100\": 34.8, \"y\": 30.65, \"position\": \"LB\", \"yardline_100\": 34.0, \"yardline_first\": 28.0, \"off\": \"Offense\", \"x_dir\": 65.2, \"yardline_dir\": 66.0, \"yardline_first_dir\": 72.0, \"y_dir\": 30.65}, {\"nflId\": 2561033.0, \"x_100\": 33.39, \"y\": 7.0, \"position\": \"DB\", \"yardline_100\": 34.0, \"yardline_first\": 28.0, \"off\": \"Defense\", \"x_dir\": 66.61, \"yardline_dir\": 66.0, \"yardline_first_dir\": 72.0, \"y_dir\": 7.0}, {\"nflId\": 2561344.0, \"x_100\": 34.53, \"y\": 31.95, \"position\": \"RB\", \"yardline_100\": 34.0, \"yardline_first\": 28.0, \"off\": \"Offense\", \"x_dir\": 65.47, \"yardline_dir\": 66.0, \"yardline_first_dir\": 72.0, \"y_dir\": 31.95}, {\"nflId\": 2561538.0, \"x_100\": 35.18, \"y\": 33.62, \"position\": \"DB\", \"yardline_100\": 34.0, \"yardline_first\": 28.0, \"off\": \"Offense\", \"x_dir\": 64.82, \"yardline_dir\": 66.0, \"yardline_first_dir\": 72.0, \"y_dir\": 33.62}]}}, {\"mode\": \"vega-lite\"});\n</script>",
      "text/plain": "alt.LayerChart(...)"
     },
     "execution_count": 13,
     "metadata": {},
     "output_type": "execute_result"
    }
   ],
   "source": [
    "from play_vis import create_starting_chart\n",
    "\n",
    "create_starting_chart(def_cleaning.weeks_data, 2018091607, 329)"
   ],
   "metadata": {
    "collapsed": false,
    "pycharm": {
     "name": "#%%\n"
    }
   }
  },
  {
   "cell_type": "code",
   "execution_count": 1,
   "outputs": [
    {
     "name": "stdout",
     "output_type": "stream",
     "text": [
      "assets previously downloaded\n",
      "positional data already downloaded.\n",
      "reading positional data.\n",
      "returning positional data.\n"
     ]
    }
   ],
   "source": [
    "from get_data import get_assets, get_positional_data\n",
    "\n",
    "get_assets()\n",
    "positions = get_positional_data()"
   ],
   "metadata": {
    "collapsed": false,
    "pycharm": {
     "name": "#%%\n"
    }
   }
  },
  {
   "cell_type": "code",
   "execution_count": 2,
   "outputs": [],
   "source": [
    "from form_pred import clean_positional\n",
    "\n"
   ],
   "metadata": {
    "collapsed": false,
    "pycharm": {
     "name": "#%%\n"
    }
   }
  },
  {
   "cell_type": "code",
   "execution_count": 3,
   "outputs": [
    {
     "name": "stderr",
     "output_type": "stream",
     "text": [
      "/Users/andrewbakert/Documents/nfl_big_data/NFL_Pass_Pred/form_pred.py:16: SettingWithCopyWarning: \n",
      "A value is trying to be set on a copy of a slice from a DataFrame.\n",
      "Try using .loc[row_indexer,col_indexer] = value instead\n",
      "\n",
      "See the caveats in the documentation: https://pandas.pydata.org/pandas-docs/stable/user_guide/indexing.html#returning-a-view-versus-a-copy\n",
      "  positions['time'] = pd.to_datetime(positions['time'], format='%Y-%m-%dT%H:%M:%S')\n"
     ]
    },
    {
     "name": "stdout",
     "output_type": "stream",
     "text": [
      "CPU times: user 55.4 s, sys: 7.61 s, total: 1min 2s\n",
      "Wall time: 1min 3s\n"
     ]
    }
   ],
   "source": [
    "%%time\n",
    "\n",
    "data = clean_positional(positions)"
   ],
   "metadata": {
    "collapsed": false,
    "pycharm": {
     "name": "#%%\n"
    }
   }
  },
  {
   "cell_type": "code",
   "execution_count": null,
   "outputs": [],
   "source": [],
   "metadata": {
    "collapsed": false,
    "pycharm": {
     "name": "#%%\n"
    }
   }
  }
 ],
 "metadata": {
  "kernelspec": {
   "display_name": "Python 3",
   "language": "python",
   "name": "python3"
  },
  "language_info": {
   "codemirror_mode": {
    "name": "ipython",
    "version": 2
   },
   "file_extension": ".py",
   "mimetype": "text/x-python",
   "name": "python",
   "nbconvert_exporter": "python",
   "pygments_lexer": "ipython2",
   "version": "2.7.6"
  }
 },
 "nbformat": 4,
 "nbformat_minor": 0
}