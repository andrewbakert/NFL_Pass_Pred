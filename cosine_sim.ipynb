{
 "cells": [
  {
   "cell_type": "code",
   "execution_count": null,
   "outputs": [],
   "source": [
    "from pipeline import PrepPipe, OffensiveFormation, DefensiveClustering, StandardScalerColumns"
   ],
   "metadata": {
    "collapsed": false,
    "pycharm": {
     "name": "#%%\n"
    }
   }
  },
  {
   "cell_type": "code",
   "execution_count": 186,
   "outputs": [
    {
     "name": "stdout",
     "output_type": "stream",
     "text": [
      "positional data already downloaded.\n",
      "reading positional data.\n",
      "returning positional data.\n"
     ]
    }
   ],
   "source": [
    "prep_pipe = PrepPipe()"
   ],
   "metadata": {
    "collapsed": false,
    "pycharm": {
     "name": "#%%\n"
    }
   }
  },
  {
   "cell_type": "code",
   "execution_count": 187,
   "outputs": [],
   "source": [
    "X_train, X_test, y_train, y_test = prep_pipe.clean_data()"
   ],
   "metadata": {
    "collapsed": false,
    "pycharm": {
     "name": "#%%\n"
    }
   }
  },
  {
   "cell_type": "code",
   "execution_count": 188,
   "outputs": [],
   "source": [
    "off_col = prep_pipe.train_test.ofc.drop(['gameId', 'playId', 'gamePlayId', 'week'], axis=1).columns"
   ],
   "metadata": {
    "collapsed": false,
    "pycharm": {
     "name": "#%%\n"
    }
   }
  },
  {
   "cell_type": "code",
   "execution_count": 189,
   "outputs": [],
   "source": [
    "def_col = prep_pipe.train_test.dfc.drop(['week', 'index'], axis=1).columns"
   ],
   "metadata": {
    "collapsed": false,
    "pycharm": {
     "name": "#%%\n"
    }
   }
  },
  {
   "cell_type": "code",
   "execution_count": 190,
   "outputs": [],
   "source": [
    "off_form_cols = off_col[:-9]\n",
    "off_info_cols = off_col[-9:]\n",
    "off_form"
   ],
   "metadata": {
    "collapsed": false,
    "pycharm": {
     "name": "#%%\n"
    }
   }
  },
  {
   "cell_type": "code",
   "execution_count": 211,
   "outputs": [],
   "source": [
    "from sklearn.pipeline import Pipeline\n",
    "from sklearn.compose import ColumnTransformer\n",
    "from sklearn.preprocessing import OneHotEncoder\n",
    "from sklearn.preprocessing import FunctionTransformer\n",
    "from sklearn.linear_model import LogisticRegression\n",
    "import pandas as pd\n",
    "\n",
    "off_form_pipe = Pipeline([('off_form_pred', OffensiveFormation())])\n",
    "off_info_pipe = Pipeline([('scaler', StandardScalerColumns())])\n",
    "off_pre_one_pipe = ColumnTransformer([('info', off_info_pipe, off_info_cols),\n",
    "                                      ('form', off_form_pipe, off_form_cols),\n",
    "                                   ])\n",
    "off_pre_one_add_col = Pipeline([('off_pre_one', off_pre_one_pipe),\n",
    "                               ('func_trans', FunctionTransformer(lambda x: pd.DataFrame(x,\n",
    "                                columns=list(off_info_cols) + list(off_form_cols))))])\n",
    "form_one_pipe = ColumnTransformer([('off_form_one', OneHotEncoder(), [-1]),\n",
    "                                   ('nothing', FunctionTransformer(lambda x: x), slice(0, -1))])\n",
    "off_full_pipe = Pipeline([('full_cols', off_pre_one_add_col), ('one_hot', form_one_pipe)])\n",
    "\n",
    "def_cluster_pipe = Pipeline([('def_clust', DefensiveClustering())])\n",
    "form_one_pipe = ColumnTransformer([('def_clust_one', OneHotEncoder(), [-1]),\n",
    "                                   ('nothing', FunctionTransformer(lambda x: x), slice(0, -1, 1))])\n",
    "def_full_pipe = Pipeline([('def_clust_full', def_cluster_pipe), ('def_clust_one', form_one_pipe)])\n",
    "\n",
    "full_pipe = ColumnTransformer([('off', off_full_pipe, off_col), ('def', def_full_pipe, def_col)])\n",
    "full_pipe_model = Pipeline([('full_pipe', full_pipe), ('model', LogisticRegression())])"
   ],
   "metadata": {
    "collapsed": false,
    "pycharm": {
     "name": "#%%\n"
    }
   }
  },
  {
   "cell_type": "code",
   "execution_count": 212,
   "outputs": [
    {
     "name": "stdout",
     "output_type": "stream",
     "text": [
      "Offensive formation model fitted\n",
      "Offensive formation predicted\n"
     ]
    }
   ],
   "source": [
    "arr = off_full_pipe.fit_transform(X_train[off_col])"
   ],
   "metadata": {
    "collapsed": false,
    "pycharm": {
     "name": "#%%\n"
    }
   }
  },
  {
   "cell_type": "code",
   "execution_count": 220,
   "outputs": [
    {
     "data": {
      "text/plain": "(13920, 97)"
     },
     "execution_count": 220,
     "metadata": {},
     "output_type": "execute_result"
    }
   ],
   "source": [
    "arr[:, 1:-2].shape"
   ],
   "metadata": {
    "collapsed": false,
    "pycharm": {
     "name": "#%%\n"
    }
   }
  },
  {
   "cell_type": "code",
   "execution_count": 169,
   "outputs": [
    {
     "name": "stdout",
     "output_type": "stream",
     "text": [
      "KMeans and PCA fitted\n",
      "Defensive position transformed\n"
     ]
    },
    {
     "data": {
      "text/plain": "<13920x5 sparse matrix of type '<class 'numpy.float64'>'\n\twith 13920 stored elements in Compressed Sparse Row format>"
     },
     "execution_count": 169,
     "metadata": {},
     "output_type": "execute_result"
    }
   ],
   "source": [
    "def_full_pipe.fit_transform(X_train[def_col])"
   ],
   "metadata": {
    "collapsed": false,
    "pycharm": {
     "name": "#%%\n"
    }
   }
  },
  {
   "cell_type": "code",
   "execution_count": 107,
   "outputs": [
    {
     "data": {
      "text/plain": "         FBL0_x    FBR0_x    HBL0_x    HBL1_x    HBR0_x    HBR1_x     QB0_x  \\\n0     -5.051531  0.059902  0.095219  0.001447  0.086014  0.000468  2.541775   \n1      0.068469  0.059902  0.095219  0.001447  0.086014  0.000468  2.671775   \n2      0.068469  0.059902  0.095219  0.001447  0.086014  0.000468 -1.288225   \n3      0.068469  0.059902  0.095219  0.001447  0.086014  0.000468 -0.898225   \n4      0.068469 -4.530098  0.095219  0.001447  0.086014  0.000468 -0.608225   \n...         ...       ...       ...       ...       ...       ...       ...   \n13915  0.068469  0.059902  0.095219  0.001447  0.086014  0.000468 -0.098225   \n13916  0.068469  0.059902  0.095219  0.001447  0.086014  0.000468 -0.338225   \n13917  0.068469  0.059902  0.095219  0.001447  0.086014  0.000468 -0.578225   \n13918  0.068469  0.059902  0.095219  0.001447  0.086014  0.000468 -0.258225   \n13919  0.068469  0.059902  0.095219  0.001447  0.086014  0.000468 -0.208225   \n\n          QB1_x    RBL0_x    RBL1_x  \n0      0.013234  2.420381  0.031098  \n1      0.013234 -4.949619  0.031098  \n2      0.013234  2.420381  0.031098  \n3      0.013234 -1.819619  0.031098  \n4      0.013234  1.090381  0.031098  \n...         ...       ...       ...  \n13915  0.013234 -2.439619  0.031098  \n13916  0.013234  2.420381  0.031098  \n13917  0.013234  2.420381  0.031098  \n13918  0.013234  2.420381  0.031098  \n13919  0.013234  2.420381  0.031098  \n\n[13920 rows x 10 columns]",
      "text/html": "<div>\n<style scoped>\n    .dataframe tbody tr th:only-of-type {\n        vertical-align: middle;\n    }\n\n    .dataframe tbody tr th {\n        vertical-align: top;\n    }\n\n    .dataframe thead th {\n        text-align: right;\n    }\n</style>\n<table border=\"1\" class=\"dataframe\">\n  <thead>\n    <tr style=\"text-align: right;\">\n      <th></th>\n      <th>FBL0_x</th>\n      <th>FBR0_x</th>\n      <th>HBL0_x</th>\n      <th>HBL1_x</th>\n      <th>HBR0_x</th>\n      <th>HBR1_x</th>\n      <th>QB0_x</th>\n      <th>QB1_x</th>\n      <th>RBL0_x</th>\n      <th>RBL1_x</th>\n    </tr>\n  </thead>\n  <tbody>\n    <tr>\n      <th>0</th>\n      <td>-5.051531</td>\n      <td>0.059902</td>\n      <td>0.095219</td>\n      <td>0.001447</td>\n      <td>0.086014</td>\n      <td>0.000468</td>\n      <td>2.541775</td>\n      <td>0.013234</td>\n      <td>2.420381</td>\n      <td>0.031098</td>\n    </tr>\n    <tr>\n      <th>1</th>\n      <td>0.068469</td>\n      <td>0.059902</td>\n      <td>0.095219</td>\n      <td>0.001447</td>\n      <td>0.086014</td>\n      <td>0.000468</td>\n      <td>2.671775</td>\n      <td>0.013234</td>\n      <td>-4.949619</td>\n      <td>0.031098</td>\n    </tr>\n    <tr>\n      <th>2</th>\n      <td>0.068469</td>\n      <td>0.059902</td>\n      <td>0.095219</td>\n      <td>0.001447</td>\n      <td>0.086014</td>\n      <td>0.000468</td>\n      <td>-1.288225</td>\n      <td>0.013234</td>\n      <td>2.420381</td>\n      <td>0.031098</td>\n    </tr>\n    <tr>\n      <th>3</th>\n      <td>0.068469</td>\n      <td>0.059902</td>\n      <td>0.095219</td>\n      <td>0.001447</td>\n      <td>0.086014</td>\n      <td>0.000468</td>\n      <td>-0.898225</td>\n      <td>0.013234</td>\n      <td>-1.819619</td>\n      <td>0.031098</td>\n    </tr>\n    <tr>\n      <th>4</th>\n      <td>0.068469</td>\n      <td>-4.530098</td>\n      <td>0.095219</td>\n      <td>0.001447</td>\n      <td>0.086014</td>\n      <td>0.000468</td>\n      <td>-0.608225</td>\n      <td>0.013234</td>\n      <td>1.090381</td>\n      <td>0.031098</td>\n    </tr>\n    <tr>\n      <th>...</th>\n      <td>...</td>\n      <td>...</td>\n      <td>...</td>\n      <td>...</td>\n      <td>...</td>\n      <td>...</td>\n      <td>...</td>\n      <td>...</td>\n      <td>...</td>\n      <td>...</td>\n    </tr>\n    <tr>\n      <th>13915</th>\n      <td>0.068469</td>\n      <td>0.059902</td>\n      <td>0.095219</td>\n      <td>0.001447</td>\n      <td>0.086014</td>\n      <td>0.000468</td>\n      <td>-0.098225</td>\n      <td>0.013234</td>\n      <td>-2.439619</td>\n      <td>0.031098</td>\n    </tr>\n    <tr>\n      <th>13916</th>\n      <td>0.068469</td>\n      <td>0.059902</td>\n      <td>0.095219</td>\n      <td>0.001447</td>\n      <td>0.086014</td>\n      <td>0.000468</td>\n      <td>-0.338225</td>\n      <td>0.013234</td>\n      <td>2.420381</td>\n      <td>0.031098</td>\n    </tr>\n    <tr>\n      <th>13917</th>\n      <td>0.068469</td>\n      <td>0.059902</td>\n      <td>0.095219</td>\n      <td>0.001447</td>\n      <td>0.086014</td>\n      <td>0.000468</td>\n      <td>-0.578225</td>\n      <td>0.013234</td>\n      <td>2.420381</td>\n      <td>0.031098</td>\n    </tr>\n    <tr>\n      <th>13918</th>\n      <td>0.068469</td>\n      <td>0.059902</td>\n      <td>0.095219</td>\n      <td>0.001447</td>\n      <td>0.086014</td>\n      <td>0.000468</td>\n      <td>-0.258225</td>\n      <td>0.013234</td>\n      <td>2.420381</td>\n      <td>0.031098</td>\n    </tr>\n    <tr>\n      <th>13919</th>\n      <td>0.068469</td>\n      <td>0.059902</td>\n      <td>0.095219</td>\n      <td>0.001447</td>\n      <td>0.086014</td>\n      <td>0.000468</td>\n      <td>-0.208225</td>\n      <td>0.013234</td>\n      <td>2.420381</td>\n      <td>0.031098</td>\n    </tr>\n  </tbody>\n</table>\n<p>13920 rows × 10 columns</p>\n</div>"
     },
     "execution_count": 107,
     "metadata": {},
     "output_type": "execute_result"
    }
   ],
   "source": [
    "(X_train.iloc[:, :10] - X_train.iloc[:, :10].mean(axis=0).values.reshape(1, -1)) /"
   ],
   "metadata": {
    "collapsed": false,
    "pycharm": {
     "name": "#%%\n"
    }
   }
  },
  {
   "cell_type": "code",
   "execution_count": 104,
   "outputs": [
    {
     "data": {
      "text/plain": "       FBL0_x  FBR0_x  HBL0_x  HBL1_x  HBR0_x  HBR1_x  QB0_x  QB1_x  RBL0_x  \\\n0       -5.12    0.00     0.0     0.0     0.0     0.0  -1.73    0.0    0.00   \n1        0.00    0.00     0.0     0.0     0.0     0.0  -1.60    0.0   -7.37   \n2        0.00    0.00     0.0     0.0     0.0     0.0  -5.56    0.0    0.00   \n3        0.00    0.00     0.0     0.0     0.0     0.0  -5.17    0.0   -4.24   \n4        0.00   -4.59     0.0     0.0     0.0     0.0  -4.88    0.0   -1.33   \n...       ...     ...     ...     ...     ...     ...    ...    ...     ...   \n13915    0.00    0.00     0.0     0.0     0.0     0.0  -4.37    0.0   -4.86   \n13916    0.00    0.00     0.0     0.0     0.0     0.0  -4.61    0.0    0.00   \n13917    0.00    0.00     0.0     0.0     0.0     0.0  -4.85    0.0    0.00   \n13918    0.00    0.00     0.0     0.0     0.0     0.0  -4.53    0.0    0.00   \n13919    0.00    0.00     0.0     0.0     0.0     0.0  -4.48    0.0    0.00   \n\n       RBL1_x  ...  SSL2_y_start  SSR0_act  SSR0_x_start  SSR0_y_start  \\\n0         0.0  ...           0.0         M          1.11         -9.87   \n1         0.0  ...           0.0         Z          2.45        -12.48   \n2         0.0  ...           0.0         0          0.00          0.00   \n3         0.0  ...           0.0         0          0.00          0.00   \n4         0.0  ...           0.0         M          1.23        -15.01   \n...       ...  ...           ...       ...           ...           ...   \n13915     0.0  ...           0.0         M         11.58        -11.14   \n13916     0.0  ...           0.0         M          5.69        -10.15   \n13917     0.0  ...           0.0         0          0.00          0.00   \n13918     0.0  ...           0.0         M         13.88         -5.15   \n13919     0.0  ...           0.0         M          9.04         -2.74   \n\n       SSR1_act  SSR1_x_start  SSR1_y_start  SSR2_act  SSR2_x_start  \\\n0             0          0.00          0.00         0           0.0   \n1             0          0.00          0.00         0           0.0   \n2             0          0.00          0.00         0           0.0   \n3             0          0.00          0.00         0           0.0   \n4             0          0.00          0.00         0           0.0   \n...         ...           ...           ...       ...           ...   \n13915         M          5.33        -11.15         0           0.0   \n13916         M         13.78        -11.31         0           0.0   \n13917         0          0.00          0.00         0           0.0   \n13918         0          0.00          0.00         0           0.0   \n13919         0          0.00          0.00         0           0.0   \n\n       SSR2_y_start  \n0               0.0  \n1               0.0  \n2               0.0  \n3               0.0  \n4               0.0  \n...             ...  \n13915           0.0  \n13916           0.0  \n13917           0.0  \n13918           0.0  \n13919           0.0  \n\n[13920 rows x 286 columns]",
      "text/html": "<div>\n<style scoped>\n    .dataframe tbody tr th:only-of-type {\n        vertical-align: middle;\n    }\n\n    .dataframe tbody tr th {\n        vertical-align: top;\n    }\n\n    .dataframe thead th {\n        text-align: right;\n    }\n</style>\n<table border=\"1\" class=\"dataframe\">\n  <thead>\n    <tr style=\"text-align: right;\">\n      <th></th>\n      <th>FBL0_x</th>\n      <th>FBR0_x</th>\n      <th>HBL0_x</th>\n      <th>HBL1_x</th>\n      <th>HBR0_x</th>\n      <th>HBR1_x</th>\n      <th>QB0_x</th>\n      <th>QB1_x</th>\n      <th>RBL0_x</th>\n      <th>RBL1_x</th>\n      <th>...</th>\n      <th>SSL2_y_start</th>\n      <th>SSR0_act</th>\n      <th>SSR0_x_start</th>\n      <th>SSR0_y_start</th>\n      <th>SSR1_act</th>\n      <th>SSR1_x_start</th>\n      <th>SSR1_y_start</th>\n      <th>SSR2_act</th>\n      <th>SSR2_x_start</th>\n      <th>SSR2_y_start</th>\n    </tr>\n  </thead>\n  <tbody>\n    <tr>\n      <th>0</th>\n      <td>-5.12</td>\n      <td>0.00</td>\n      <td>0.0</td>\n      <td>0.0</td>\n      <td>0.0</td>\n      <td>0.0</td>\n      <td>-1.73</td>\n      <td>0.0</td>\n      <td>0.00</td>\n      <td>0.0</td>\n      <td>...</td>\n      <td>0.0</td>\n      <td>M</td>\n      <td>1.11</td>\n      <td>-9.87</td>\n      <td>0</td>\n      <td>0.00</td>\n      <td>0.00</td>\n      <td>0</td>\n      <td>0.0</td>\n      <td>0.0</td>\n    </tr>\n    <tr>\n      <th>1</th>\n      <td>0.00</td>\n      <td>0.00</td>\n      <td>0.0</td>\n      <td>0.0</td>\n      <td>0.0</td>\n      <td>0.0</td>\n      <td>-1.60</td>\n      <td>0.0</td>\n      <td>-7.37</td>\n      <td>0.0</td>\n      <td>...</td>\n      <td>0.0</td>\n      <td>Z</td>\n      <td>2.45</td>\n      <td>-12.48</td>\n      <td>0</td>\n      <td>0.00</td>\n      <td>0.00</td>\n      <td>0</td>\n      <td>0.0</td>\n      <td>0.0</td>\n    </tr>\n    <tr>\n      <th>2</th>\n      <td>0.00</td>\n      <td>0.00</td>\n      <td>0.0</td>\n      <td>0.0</td>\n      <td>0.0</td>\n      <td>0.0</td>\n      <td>-5.56</td>\n      <td>0.0</td>\n      <td>0.00</td>\n      <td>0.0</td>\n      <td>...</td>\n      <td>0.0</td>\n      <td>0</td>\n      <td>0.00</td>\n      <td>0.00</td>\n      <td>0</td>\n      <td>0.00</td>\n      <td>0.00</td>\n      <td>0</td>\n      <td>0.0</td>\n      <td>0.0</td>\n    </tr>\n    <tr>\n      <th>3</th>\n      <td>0.00</td>\n      <td>0.00</td>\n      <td>0.0</td>\n      <td>0.0</td>\n      <td>0.0</td>\n      <td>0.0</td>\n      <td>-5.17</td>\n      <td>0.0</td>\n      <td>-4.24</td>\n      <td>0.0</td>\n      <td>...</td>\n      <td>0.0</td>\n      <td>0</td>\n      <td>0.00</td>\n      <td>0.00</td>\n      <td>0</td>\n      <td>0.00</td>\n      <td>0.00</td>\n      <td>0</td>\n      <td>0.0</td>\n      <td>0.0</td>\n    </tr>\n    <tr>\n      <th>4</th>\n      <td>0.00</td>\n      <td>-4.59</td>\n      <td>0.0</td>\n      <td>0.0</td>\n      <td>0.0</td>\n      <td>0.0</td>\n      <td>-4.88</td>\n      <td>0.0</td>\n      <td>-1.33</td>\n      <td>0.0</td>\n      <td>...</td>\n      <td>0.0</td>\n      <td>M</td>\n      <td>1.23</td>\n      <td>-15.01</td>\n      <td>0</td>\n      <td>0.00</td>\n      <td>0.00</td>\n      <td>0</td>\n      <td>0.0</td>\n      <td>0.0</td>\n    </tr>\n    <tr>\n      <th>...</th>\n      <td>...</td>\n      <td>...</td>\n      <td>...</td>\n      <td>...</td>\n      <td>...</td>\n      <td>...</td>\n      <td>...</td>\n      <td>...</td>\n      <td>...</td>\n      <td>...</td>\n      <td>...</td>\n      <td>...</td>\n      <td>...</td>\n      <td>...</td>\n      <td>...</td>\n      <td>...</td>\n      <td>...</td>\n      <td>...</td>\n      <td>...</td>\n      <td>...</td>\n      <td>...</td>\n    </tr>\n    <tr>\n      <th>13915</th>\n      <td>0.00</td>\n      <td>0.00</td>\n      <td>0.0</td>\n      <td>0.0</td>\n      <td>0.0</td>\n      <td>0.0</td>\n      <td>-4.37</td>\n      <td>0.0</td>\n      <td>-4.86</td>\n      <td>0.0</td>\n      <td>...</td>\n      <td>0.0</td>\n      <td>M</td>\n      <td>11.58</td>\n      <td>-11.14</td>\n      <td>M</td>\n      <td>5.33</td>\n      <td>-11.15</td>\n      <td>0</td>\n      <td>0.0</td>\n      <td>0.0</td>\n    </tr>\n    <tr>\n      <th>13916</th>\n      <td>0.00</td>\n      <td>0.00</td>\n      <td>0.0</td>\n      <td>0.0</td>\n      <td>0.0</td>\n      <td>0.0</td>\n      <td>-4.61</td>\n      <td>0.0</td>\n      <td>0.00</td>\n      <td>0.0</td>\n      <td>...</td>\n      <td>0.0</td>\n      <td>M</td>\n      <td>5.69</td>\n      <td>-10.15</td>\n      <td>M</td>\n      <td>13.78</td>\n      <td>-11.31</td>\n      <td>0</td>\n      <td>0.0</td>\n      <td>0.0</td>\n    </tr>\n    <tr>\n      <th>13917</th>\n      <td>0.00</td>\n      <td>0.00</td>\n      <td>0.0</td>\n      <td>0.0</td>\n      <td>0.0</td>\n      <td>0.0</td>\n      <td>-4.85</td>\n      <td>0.0</td>\n      <td>0.00</td>\n      <td>0.0</td>\n      <td>...</td>\n      <td>0.0</td>\n      <td>0</td>\n      <td>0.00</td>\n      <td>0.00</td>\n      <td>0</td>\n      <td>0.00</td>\n      <td>0.00</td>\n      <td>0</td>\n      <td>0.0</td>\n      <td>0.0</td>\n    </tr>\n    <tr>\n      <th>13918</th>\n      <td>0.00</td>\n      <td>0.00</td>\n      <td>0.0</td>\n      <td>0.0</td>\n      <td>0.0</td>\n      <td>0.0</td>\n      <td>-4.53</td>\n      <td>0.0</td>\n      <td>0.00</td>\n      <td>0.0</td>\n      <td>...</td>\n      <td>0.0</td>\n      <td>M</td>\n      <td>13.88</td>\n      <td>-5.15</td>\n      <td>0</td>\n      <td>0.00</td>\n      <td>0.00</td>\n      <td>0</td>\n      <td>0.0</td>\n      <td>0.0</td>\n    </tr>\n    <tr>\n      <th>13919</th>\n      <td>0.00</td>\n      <td>0.00</td>\n      <td>0.0</td>\n      <td>0.0</td>\n      <td>0.0</td>\n      <td>0.0</td>\n      <td>-4.48</td>\n      <td>0.0</td>\n      <td>0.00</td>\n      <td>0.0</td>\n      <td>...</td>\n      <td>0.0</td>\n      <td>M</td>\n      <td>9.04</td>\n      <td>-2.74</td>\n      <td>0</td>\n      <td>0.00</td>\n      <td>0.00</td>\n      <td>0</td>\n      <td>0.0</td>\n      <td>0.0</td>\n    </tr>\n  </tbody>\n</table>\n<p>13920 rows × 286 columns</p>\n</div>"
     },
     "execution_count": 104,
     "metadata": {},
     "output_type": "execute_result"
    }
   ],
   "source": [
    "X_train"
   ],
   "metadata": {
    "collapsed": false,
    "pycharm": {
     "name": "#%%\n"
    }
   }
  },
  {
   "cell_type": "code",
   "execution_count": null,
   "outputs": [],
   "source": [],
   "metadata": {
    "collapsed": false,
    "pycharm": {
     "name": "#%%\n"
    }
   }
  }
 ],
 "metadata": {
  "kernelspec": {
   "display_name": "Python 3",
   "language": "python",
   "name": "python3"
  },
  "language_info": {
   "codemirror_mode": {
    "name": "ipython",
    "version": 2
   },
   "file_extension": ".py",
   "mimetype": "text/x-python",
   "name": "python",
   "nbconvert_exporter": "python",
   "pygments_lexer": "ipython2",
   "version": "2.7.6"
  }
 },
 "nbformat": 4,
 "nbformat_minor": 0
}