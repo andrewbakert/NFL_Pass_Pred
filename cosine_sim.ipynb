{
 "cells": [
  {
   "cell_type": "code",
   "execution_count": 1,
   "metadata": {
    "collapsed": true,
    "pycharm": {
     "name": "#%%\n"
    }
   },
   "outputs": [
    {
     "name": "stdout",
     "output_type": "stream",
     "text": [
      "..............................initializing\n",
      "..data downloaded...\n"
     ]
    }
   ],
   "source": [
    "import pandas as pd\n",
    "\n",
    "from def_clean import DefensiveCleaning\n",
    "\n",
    "def_cleaning = DefensiveCleaning(n_cuts=11)"
   ]
  },
  {
   "cell_type": "code",
   "execution_count": 2,
   "outputs": [
    {
     "name": "stdout",
     "output_type": "stream",
     "text": [
      "...Week 1 loaded...\n",
      "...filtered...\n",
      "...transformed...\n",
      "...time reduced...\n"
     ]
    }
   ],
   "source": [
    "full_df, cut_df = def_cleaning.reduce_time(1)"
   ],
   "metadata": {
    "collapsed": false,
    "pycharm": {
     "name": "#%%\n"
    }
   }
  },
  {
   "cell_type": "code",
   "execution_count": 4,
   "outputs": [
    {
     "name": "stdout",
     "output_type": "stream",
     "text": [
      "...closest player based on cosine similarity calculated...\n"
     ]
    }
   ],
   "source": [
    "df = def_cleaning.cosine_closest_player(cut_df)"
   ],
   "metadata": {
    "collapsed": false,
    "pycharm": {
     "name": "#%%\n"
    }
   }
  },
  {
   "cell_type": "code",
   "execution_count": 7,
   "outputs": [
    {
     "data": {
      "text/plain": "           gameId  playId posId_def  time_cut_time2 posId_off_max  \\\n5579   2018090900      71      FSR0               3           QB0   \n5580   2018090900      71      FSR0               4           QB0   \n5585   2018090900      71      FSR0               9           QB0   \n5589   2018090900      71      LBR0               3           QB0   \n5595   2018090900      71      LBR0               9           QB0   \n...           ...     ...       ...             ...           ...   \n44054  2018090910    3526      CBL0               7           QB0   \n44062  2018090910    3526      CBL1               5           QB0   \n44071  2018090910    3526      DBR0               4           QB0   \n44092  2018090910    3526      FSR0               5           QB0   \n44112  2018090910    3526     OLBR0               5           QB0   \n\n      posId_off_min  \n5579           RBL0  \n5580           TER1  \n5585           TER1  \n5589           RBL0  \n5595           WRL0  \n...             ...  \n44054          RBR0  \n44062          TER0  \n44071          RBR0  \n44092          TER0  \n44112          TER0  \n\n[3632 rows x 6 columns]",
      "text/html": "<div>\n<style scoped>\n    .dataframe tbody tr th:only-of-type {\n        vertical-align: middle;\n    }\n\n    .dataframe tbody tr th {\n        vertical-align: top;\n    }\n\n    .dataframe thead th {\n        text-align: right;\n    }\n</style>\n<table border=\"1\" class=\"dataframe\">\n  <thead>\n    <tr style=\"text-align: right;\">\n      <th></th>\n      <th>gameId</th>\n      <th>playId</th>\n      <th>posId_def</th>\n      <th>time_cut_time2</th>\n      <th>posId_off_max</th>\n      <th>posId_off_min</th>\n    </tr>\n  </thead>\n  <tbody>\n    <tr>\n      <th>5579</th>\n      <td>2018090900</td>\n      <td>71</td>\n      <td>FSR0</td>\n      <td>3</td>\n      <td>QB0</td>\n      <td>RBL0</td>\n    </tr>\n    <tr>\n      <th>5580</th>\n      <td>2018090900</td>\n      <td>71</td>\n      <td>FSR0</td>\n      <td>4</td>\n      <td>QB0</td>\n      <td>TER1</td>\n    </tr>\n    <tr>\n      <th>5585</th>\n      <td>2018090900</td>\n      <td>71</td>\n      <td>FSR0</td>\n      <td>9</td>\n      <td>QB0</td>\n      <td>TER1</td>\n    </tr>\n    <tr>\n      <th>5589</th>\n      <td>2018090900</td>\n      <td>71</td>\n      <td>LBR0</td>\n      <td>3</td>\n      <td>QB0</td>\n      <td>RBL0</td>\n    </tr>\n    <tr>\n      <th>5595</th>\n      <td>2018090900</td>\n      <td>71</td>\n      <td>LBR0</td>\n      <td>9</td>\n      <td>QB0</td>\n      <td>WRL0</td>\n    </tr>\n    <tr>\n      <th>...</th>\n      <td>...</td>\n      <td>...</td>\n      <td>...</td>\n      <td>...</td>\n      <td>...</td>\n      <td>...</td>\n    </tr>\n    <tr>\n      <th>44054</th>\n      <td>2018090910</td>\n      <td>3526</td>\n      <td>CBL0</td>\n      <td>7</td>\n      <td>QB0</td>\n      <td>RBR0</td>\n    </tr>\n    <tr>\n      <th>44062</th>\n      <td>2018090910</td>\n      <td>3526</td>\n      <td>CBL1</td>\n      <td>5</td>\n      <td>QB0</td>\n      <td>TER0</td>\n    </tr>\n    <tr>\n      <th>44071</th>\n      <td>2018090910</td>\n      <td>3526</td>\n      <td>DBR0</td>\n      <td>4</td>\n      <td>QB0</td>\n      <td>RBR0</td>\n    </tr>\n    <tr>\n      <th>44092</th>\n      <td>2018090910</td>\n      <td>3526</td>\n      <td>FSR0</td>\n      <td>5</td>\n      <td>QB0</td>\n      <td>TER0</td>\n    </tr>\n    <tr>\n      <th>44112</th>\n      <td>2018090910</td>\n      <td>3526</td>\n      <td>OLBR0</td>\n      <td>5</td>\n      <td>QB0</td>\n      <td>TER0</td>\n    </tr>\n  </tbody>\n</table>\n<p>3632 rows × 6 columns</p>\n</div>"
     },
     "execution_count": 7,
     "metadata": {},
     "output_type": "execute_result"
    }
   ],
   "source": [
    "df[df['posId_off_max'] == 'QB0']"
   ],
   "metadata": {
    "collapsed": false,
    "pycharm": {
     "name": "#%%\n"
    }
   }
  },
  {
   "cell_type": "code",
   "execution_count": 3,
   "outputs": [
    {
     "data": {
      "text/html": "\n<div id=\"altair-viz-c8280a6c617b48359e4db5eb5f1b715f\"></div>\n<script type=\"text/javascript\">\n  (function(spec, embedOpt){\n    let outputDiv = document.currentScript.previousElementSibling;\n    if (outputDiv.id !== \"altair-viz-c8280a6c617b48359e4db5eb5f1b715f\") {\n      outputDiv = document.getElementById(\"altair-viz-c8280a6c617b48359e4db5eb5f1b715f\");\n    }\n    const paths = {\n      \"vega\": \"https://cdn.jsdelivr.net/npm//vega@5?noext\",\n      \"vega-lib\": \"https://cdn.jsdelivr.net/npm//vega-lib?noext\",\n      \"vega-lite\": \"https://cdn.jsdelivr.net/npm//vega-lite@4.8.1?noext\",\n      \"vega-embed\": \"https://cdn.jsdelivr.net/npm//vega-embed@6?noext\",\n    };\n\n    function loadScript(lib) {\n      return new Promise(function(resolve, reject) {\n        var s = document.createElement('script');\n        s.src = paths[lib];\n        s.async = true;\n        s.onload = () => resolve(paths[lib]);\n        s.onerror = () => reject(`Error loading script: ${paths[lib]}`);\n        document.getElementsByTagName(\"head\")[0].appendChild(s);\n      });\n    }\n\n    function showError(err) {\n      outputDiv.innerHTML = `<div class=\"error\" style=\"color:red;\">${err}</div>`;\n      throw err;\n    }\n\n    function displayChart(vegaEmbed) {\n      vegaEmbed(outputDiv, spec, embedOpt)\n        .catch(err => showError(`Javascript Error: ${err.message}<br>This usually means there's a typo in your chart specification. See the javascript console for the full traceback.`));\n    }\n\n    if(typeof define === \"function\" && define.amd) {\n      requirejs.config({paths});\n      require([\"vega-embed\"], displayChart, err => showError(`Error loading script: ${err.message}`));\n    } else if (typeof vegaEmbed === \"function\") {\n      displayChart(vegaEmbed);\n    } else {\n      loadScript(\"vega\")\n        .then(() => loadScript(\"vega-lite\"))\n        .then(() => loadScript(\"vega-embed\"))\n        .catch(showError)\n        .then(() => displayChart(vegaEmbed));\n    }\n  })({\"usermeta\": {\"embedOptions\": {\"theme\": \"fivethirtyeight\"}}, \"config\": {\"view\": {\"continuousWidth\": 400, \"continuousHeight\": 300}}, \"layer\": [{\"mark\": {\"type\": \"circle\", \"dx\": 5, \"dy\": 5, \"size\": 100}, \"encoding\": {\"color\": {\"type\": \"nominal\", \"field\": \"off\", \"title\": null}, \"x\": {\"type\": \"quantitative\", \"field\": \"y_dir\", \"scale\": {\"domain\": [0, 53.3]}}, \"y\": {\"type\": \"quantitative\", \"field\": \"x_dir\"}}}, {\"mark\": {\"type\": \"text\", \"dx\": -15, \"fontSize\": 10}, \"encoding\": {\"text\": {\"type\": \"nominal\", \"field\": \"position\"}, \"x\": {\"type\": \"quantitative\", \"field\": \"y_dir\", \"scale\": {\"domain\": [0, 53.3]}, \"title\": null}, \"y\": {\"type\": \"quantitative\", \"field\": \"x_dir\", \"scale\": {\"zero\": false}, \"title\": \"Yardline\"}}}, {\"mark\": {\"type\": \"rule\", \"color\": \"blue\"}, \"encoding\": {\"y\": {\"type\": \"quantitative\", \"field\": \"yardline_dir\"}}}, {\"mark\": {\"type\": \"rule\", \"color\": \"#ECEC01\"}, \"encoding\": {\"y\": {\"type\": \"quantitative\", \"field\": \"yardline_first_dir\"}}}], \"data\": {\"name\": \"data-fb77a0a1db58fdc4a83e796cbb641904\"}, \"height\": 201.59999999999997, \"width\": 533.0, \"$schema\": \"https://vega.github.io/schema/vega-lite/v4.8.1.json\", \"datasets\": {\"data-fb77a0a1db58fdc4a83e796cbb641904\": [{\"nflId\": 80668.0, \"x_100\": 43.76, \"y\": 19.0, \"position\": \"CB\", \"yardline_100\": 38.0, \"yardline_first\": 48.0, \"off\": \"Defense\", \"x_dir\": 43.76, \"yardline_dir\": 38.0, \"yardline_first_dir\": 48.0, \"y_dir\": 34.3}, {\"nflId\": 2499257.0, \"x_100\": 52.97, \"y\": 34.58, \"position\": \"FS\", \"yardline_100\": 38.0, \"yardline_first\": 48.0, \"off\": \"Defense\", \"x_dir\": 52.97, \"yardline_dir\": 38.0, \"yardline_first_dir\": 48.0, \"y_dir\": 18.72}, {\"nflId\": 2505708.0, \"x_100\": 52.12, \"y\": 18.48, \"position\": \"FS\", \"yardline_100\": 38.0, \"yardline_first\": 48.0, \"off\": \"Defense\", \"x_dir\": 52.12, \"yardline_dir\": 38.0, \"yardline_first_dir\": 48.0, \"y_dir\": 34.81999999999999}, {\"nflId\": 2533056.0, \"x_100\": 42.02, \"y\": 26.21, \"position\": \"MLB\", \"yardline_100\": 38.0, \"yardline_first\": 48.0, \"off\": \"Defense\", \"x_dir\": 42.02, \"yardline_dir\": 38.0, \"yardline_first_dir\": 48.0, \"y_dir\": 27.089999999999996}, {\"nflId\": 2534436.0, \"x_100\": 36.75, \"y\": 42.15, \"position\": \"WR\", \"yardline_100\": 38.0, \"yardline_first\": 48.0, \"off\": \"Offense\", \"x_dir\": 36.75, \"yardline_dir\": 38.0, \"yardline_first_dir\": 48.0, \"y_dir\": 11.149999999999999}, {\"nflId\": 2535698.0, \"x_100\": 36.08, \"y\": 17.75, \"position\": \"WR\", \"yardline_100\": 38.0, \"yardline_first\": 48.0, \"off\": \"Offense\", \"x_dir\": 36.08, \"yardline_dir\": 38.0, \"yardline_first_dir\": 48.0, \"y_dir\": 35.55}, {\"nflId\": 2550353.0, \"x_100\": 35.98, \"y\": 6.53, \"position\": \"WR\", \"yardline_100\": 38.0, \"yardline_first\": 48.0, \"off\": \"Offense\", \"x_dir\": 35.98, \"yardline_dir\": 38.0, \"yardline_first_dir\": 48.0, \"y_dir\": 46.769999999999996}, {\"nflId\": 2552447.0, \"x_100\": 42.01, \"y\": 31.06, \"position\": \"OLB\", \"yardline_100\": 38.0, \"yardline_first\": 48.0, \"off\": \"Defense\", \"x_dir\": 42.01, \"yardline_dir\": 38.0, \"yardline_first_dir\": 48.0, \"y_dir\": 22.24}, {\"nflId\": 2553454.0, \"x_100\": 37.24, \"y\": 24.29, \"position\": \"TE\", \"yardline_100\": 38.0, \"yardline_first\": 48.0, \"off\": \"Offense\", \"x_dir\": 37.24, \"yardline_dir\": 38.0, \"yardline_first_dir\": 48.0, \"y_dir\": 29.009999999999998}, {\"nflId\": 2555175.0, \"x_100\": 46.32, \"y\": 6.7, \"position\": \"CB\", \"yardline_100\": 38.0, \"yardline_first\": 48.0, \"off\": \"Defense\", \"x_dir\": 46.32, \"yardline_dir\": 38.0, \"yardline_first_dir\": 48.0, \"y_dir\": 46.599999999999994}, {\"nflId\": 2555224.0, \"x_100\": 32.81, \"y\": 31.18, \"position\": \"RB\", \"yardline_100\": 38.0, \"yardline_first\": 48.0, \"off\": \"Offense\", \"x_dir\": 32.81, \"yardline_dir\": 38.0, \"yardline_first_dir\": 48.0, \"y_dir\": 22.119999999999997}, {\"nflId\": 2555260.0, \"x_100\": 33.19, \"y\": 28.85, \"position\": \"QB\", \"yardline_100\": 38.0, \"yardline_first\": 48.0, \"off\": \"Offense\", \"x_dir\": 33.19, \"yardline_dir\": 38.0, \"yardline_first_dir\": 48.0, \"y_dir\": 24.449999999999996}, {\"nflId\": 2560753.0, \"x_100\": 43.41, \"y\": 42.95, \"position\": \"DB\", \"yardline_100\": 38.0, \"yardline_first\": 48.0, \"off\": \"Defense\", \"x_dir\": 43.41, \"yardline_dir\": 38.0, \"yardline_first_dir\": 48.0, \"y_dir\": 10.349999999999994}]}}, {\"mode\": \"vega-lite\"});\n</script>",
      "text/plain": "alt.LayerChart(...)"
     },
     "execution_count": 3,
     "metadata": {},
     "output_type": "execute_result"
    }
   ],
   "source": [
    "from play_vis import create_starting_chart\n",
    "\n",
    "create_starting_chart(def_cleaning.weeks_data, 2018090910, 3526)"
   ],
   "metadata": {
    "collapsed": false,
    "pycharm": {
     "name": "#%%\n"
    }
   }
  },
  {
   "cell_type": "code",
   "execution_count": null,
   "outputs": [],
   "source": [],
   "metadata": {
    "collapsed": false,
    "pycharm": {
     "name": "#%%\n"
    }
   }
  }
 ],
 "metadata": {
  "kernelspec": {
   "display_name": "Python 3",
   "language": "python",
   "name": "python3"
  },
  "language_info": {
   "codemirror_mode": {
    "name": "ipython",
    "version": 2
   },
   "file_extension": ".py",
   "mimetype": "text/x-python",
   "name": "python",
   "nbconvert_exporter": "python",
   "pygments_lexer": "ipython2",
   "version": "2.7.6"
  }
 },
 "nbformat": 4,
 "nbformat_minor": 0
}