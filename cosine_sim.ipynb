{
 "cells": [
  {
   "cell_type": "code",
   "execution_count": null,
   "outputs": [],
   "source": [
    "from pipeline import PrepPipe, OffensiveFormation, DefensiveClustering"
   ],
   "metadata": {
    "collapsed": false,
    "pycharm": {
     "name": "#%%\n"
    }
   }
  },
  {
   "cell_type": "code",
   "execution_count": 186,
   "outputs": [
    {
     "name": "stdout",
     "output_type": "stream",
     "text": [
      "positional data already downloaded.\n",
      "reading positional data.\n",
      "returning positional data.\n"
     ]
    }
   ],
   "source": [
    "prep_pipe = PrepPipe()"
   ],
   "metadata": {
    "collapsed": false,
    "pycharm": {
     "name": "#%%\n"
    }
   }
  },
  {
   "cell_type": "code",
   "execution_count": 256,
   "outputs": [],
   "source": [
    "X_train, X_test, y_train, y_test = prep_pipe.clean_data()\n",
    "y_train_x = y_train.iloc[:, 0]\n",
    "y_yrain_y = y_train.iloc[:, 1]\n",
    "y_test_x = y_test.iloc[:, 0]\n",
    "y_test_y = y_test.iloc[:, 1]"
   ],
   "metadata": {
    "collapsed": false,
    "pycharm": {
     "name": "#%%\n"
    }
   }
  },
  {
   "cell_type": "code",
   "execution_count": 188,
   "outputs": [],
   "source": [
    "off_col = prep_pipe.train_test.ofc.drop(['gameId', 'playId', 'gamePlayId', 'week'], axis=1).columns"
   ],
   "metadata": {
    "collapsed": false,
    "pycharm": {
     "name": "#%%\n"
    }
   }
  },
  {
   "cell_type": "code",
   "execution_count": 189,
   "outputs": [],
   "source": [
    "def_col = prep_pipe.train_test.dfc.drop(['week', 'index'], axis=1).columns"
   ],
   "metadata": {
    "collapsed": false,
    "pycharm": {
     "name": "#%%\n"
    }
   }
  },
  {
   "cell_type": "code",
   "execution_count": 190,
   "outputs": [],
   "source": [
    "off_form_cols = off_col[:-9]\n",
    "off_info_cols = off_col[-9:]"
   ],
   "metadata": {
    "collapsed": false,
    "pycharm": {
     "name": "#%%\n"
    }
   }
  },
  {
   "cell_type": "code",
   "execution_count": 273,
   "outputs": [],
   "source": [
    "from sklearn.pipeline import Pipeline\n",
    "from sklearn.compose import ColumnTransformer\n",
    "from sklearn.preprocessing import OneHotEncoder\n",
    "from sklearn.preprocessing import FunctionTransformer\n",
    "from sklearn.linear_model import LogisticRegression\n",
    "from sklearn.preprocessing import StandardScaler\n",
    "import pandas as pd\n",
    "\n",
    "off_form_pipe = Pipeline([('off_form_pred', OffensiveFormation())])\n",
    "off_info_pipe = Pipeline([('scaler', StandardScaler())])\n",
    "off_pre_one_pipe = ColumnTransformer([('info', off_info_pipe, off_info_cols),\n",
    "                                      ('form', off_form_pipe, off_form_cols),\n",
    "                                   ])\n",
    "off_pre_one_add_col = Pipeline([('off_pre_one', off_pre_one_pipe),\n",
    "                               ('func_trans', FunctionTransformer(lambda x: pd.DataFrame(x,\n",
    "                                columns=list(off_info_cols) + list(off_form_cols))))])\n",
    "form_one_pipe = ColumnTransformer([('off_form_one', OneHotEncoder(), [-1]),\n",
    "                                   ('nothing', FunctionTransformer(lambda x: x), slice(-1))])\n",
    "off_full_pipe = Pipeline([('full_cols', off_pre_one_add_col), ('one_hot', form_one_pipe)])\n",
    "\n",
    "def_cluster_pipe = Pipeline([('def_clust', DefensiveClustering())])\n",
    "form_one_pipe = ColumnTransformer([('def_clust_one', OneHotEncoder(), [-1]),\n",
    "                                   ('nothing', FunctionTransformer(lambda x: x), slice(-1))])\n",
    "def_full_pipe = Pipeline([('def_clust_full', def_cluster_pipe), ('def_clust_one', form_one_pipe)])\n",
    "\n",
    "full_pipe = ColumnTransformer([('off', off_full_pipe, off_col), ('def', def_full_pipe, def_col)])\n",
    "full_pipe_model = Pipeline([('full_pipe', full_pipe), ('model', LogisticRegression())])"
   ],
   "metadata": {
    "collapsed": false,
    "pycharm": {
     "name": "#%%\n"
    }
   }
  },
  {
   "cell_type": "code",
   "execution_count": 310,
   "outputs": [
    {
     "name": "stdout",
     "output_type": "stream",
     "text": [
      "Offensive formation model fitted\n",
      "Offensive formation predicted\n",
      "KMeans and PCA fitted\n",
      "Defensive position transformed\n",
      "Offensive formation model fitted\n",
      "Offensive formation predicted\n"
     ]
    }
   ],
   "source": [
    "X_scaled = full_pipe.fit_transform(X_test)\n",
    "X_scaled_off = off_full_pipe.fit_transform(X_test[off_col])"
   ],
   "metadata": {
    "collapsed": false,
    "pycharm": {
     "name": "#%%\n"
    }
   }
  },
  {
   "cell_type": "code",
   "execution_count": 337,
   "outputs": [],
   "source": [
    "model1 = LogisticRegression()"
   ],
   "metadata": {
    "collapsed": false,
    "pycharm": {
     "name": "#%%\n"
    }
   }
  },
  {
   "cell_type": "code",
   "execution_count": 340,
   "outputs": [
    {
     "data": {
      "text/plain": "LogisticRegression()"
     },
     "execution_count": 340,
     "metadata": {},
     "output_type": "execute_result"
    }
   ],
   "source": [
    "model1.fit(X_scaled, y_test_x)"
   ],
   "metadata": {
    "collapsed": false,
    "pycharm": {
     "name": "#%%\n"
    }
   }
  },
  {
   "cell_type": "code",
   "execution_count": 342,
   "outputs": [],
   "source": [
    "y_pred = model1.predict(X_scaled)"
   ],
   "metadata": {
    "collapsed": false,
    "pycharm": {
     "name": "#%%\n"
    }
   }
  },
  {
   "cell_type": "code",
   "execution_count": 343,
   "outputs": [
    {
     "data": {
      "text/plain": "array([[ 91, 385,  66,   9],\n       [ 60, 993, 140,  20],\n       [ 42, 540, 215,   9],\n       [ 25, 357,  82,  28]])"
     },
     "execution_count": 343,
     "metadata": {},
     "output_type": "execute_result"
    }
   ],
   "source": [
    "from sklearn.metrics import confusion_matrix\n",
    "\n",
    "confusion_matrix(y_test_x, y_pred)"
   ],
   "metadata": {
    "collapsed": false,
    "pycharm": {
     "name": "#%%\n"
    }
   }
  },
  {
   "cell_type": "code",
   "execution_count": null,
   "outputs": [],
   "source": [],
   "metadata": {
    "collapsed": false,
    "pycharm": {
     "name": "#%%\n"
    }
   }
  }
 ],
 "metadata": {
  "kernelspec": {
   "display_name": "Python 3",
   "language": "python",
   "name": "python3"
  },
  "language_info": {
   "codemirror_mode": {
    "name": "ipython",
    "version": 2
   },
   "file_extension": ".py",
   "mimetype": "text/x-python",
   "name": "python",
   "nbconvert_exporter": "python",
   "pygments_lexer": "ipython2",
   "version": "2.7.6"
  }
 },
 "nbformat": 4,
 "nbformat_minor": 0
}