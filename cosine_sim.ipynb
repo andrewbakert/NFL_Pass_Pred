{
 "cells": [
  {
   "cell_type": "code",
   "execution_count": 1,
   "metadata": {
    "collapsed": true,
    "pycharm": {
     "name": "#%%\n"
    }
   },
   "outputs": [
    {
     "name": "stdout",
     "output_type": "stream",
     "text": [
      "..............................initializing\n",
      "..data downloaded...\n"
     ]
    }
   ],
   "source": [
    "import pandas as pd\n",
    "\n",
    "from def_clean import DefensiveCleaning\n",
    "\n",
    "def_cleaning = DefensiveCleaning(n_cuts=11)"
   ]
  },
  {
   "cell_type": "code",
   "execution_count": 2,
   "outputs": [
    {
     "name": "stdout",
     "output_type": "stream",
     "text": [
      "...Week 1 loaded...\n",
      "...filtered...\n",
      "...transformed...\n",
      "...time reduced...\n",
      "...starting dataframe generated...\n",
      "...distance calculated...\n",
      ".....Week 1 COMPLETE.....\n",
      "\n",
      "   7.14% COMPLETE   \n",
      "\n",
      "--- 0.6 minutes elapsed ---\n",
      "\n",
      "the weeks complete:  [1]\n",
      "...Week 2 loaded...\n",
      "...filtered...\n",
      "...transformed...\n",
      "...time reduced...\n",
      "...starting dataframe generated...\n",
      "...distance calculated...\n",
      ".....Week 2 COMPLETE.....\n",
      "\n",
      "   14.29% COMPLETE   \n",
      "\n",
      "--- 1.4 minutes elapsed ---\n",
      "\n",
      "the weeks complete:  [1 2]\n",
      "...Week 3 loaded...\n",
      "...filtered...\n",
      "...transformed...\n",
      "...time reduced...\n",
      "...starting dataframe generated...\n",
      "...distance calculated...\n",
      ".....Week 3 COMPLETE.....\n",
      "\n",
      "   21.43% COMPLETE   \n",
      "\n",
      "--- 2.2 minutes elapsed ---\n",
      "\n",
      "the weeks complete:  [1 2 3]\n",
      "...Week 4 loaded...\n",
      "...filtered...\n",
      "...transformed...\n",
      "...time reduced...\n",
      "...starting dataframe generated...\n",
      "...distance calculated...\n",
      ".....Week 4 COMPLETE.....\n",
      "\n",
      "   28.57% COMPLETE   \n",
      "\n",
      "--- 3.0 minutes elapsed ---\n",
      "\n",
      "the weeks complete:  [1 2 3 4]\n",
      "...Week 5 loaded...\n",
      "...filtered...\n",
      "...transformed...\n",
      "...time reduced...\n",
      "...starting dataframe generated...\n",
      "...distance calculated...\n",
      ".....Week 5 COMPLETE.....\n",
      "\n",
      "   35.71% COMPLETE   \n",
      "\n",
      "--- 3.7 minutes elapsed ---\n",
      "\n",
      "the weeks complete:  [1 2 3 4 5]\n",
      "...Week 6 loaded...\n",
      "...filtered...\n",
      "...transformed...\n",
      "...time reduced...\n",
      "...starting dataframe generated...\n",
      "...distance calculated...\n",
      ".....Week 6 COMPLETE.....\n",
      "\n",
      "   42.86% COMPLETE   \n",
      "\n",
      "--- 4.4 minutes elapsed ---\n",
      "\n",
      "the weeks complete:  [1 2 3 4 5 6]\n",
      "...Week 7 loaded...\n",
      "...filtered...\n",
      "...transformed...\n",
      "...time reduced...\n",
      "...starting dataframe generated...\n",
      "...distance calculated...\n",
      ".....Week 7 COMPLETE.....\n",
      "\n",
      "   50.0% COMPLETE   \n",
      "\n",
      "--- 5.0 minutes elapsed ---\n",
      "\n",
      "the weeks complete:  [1 2 3 4 5 6 7]\n",
      "...Week 8 loaded...\n",
      "...filtered...\n",
      "...transformed...\n",
      "...time reduced...\n",
      "...starting dataframe generated...\n",
      "...distance calculated...\n",
      ".....Week 8 COMPLETE.....\n",
      "\n",
      "   57.14% COMPLETE   \n",
      "\n",
      "--- 5.6 minutes elapsed ---\n",
      "\n",
      "the weeks complete:  [1 2 3 4 5 6 7 8]\n",
      "...Week 9 loaded...\n",
      "...filtered...\n",
      "...transformed...\n",
      "...time reduced...\n",
      "...starting dataframe generated...\n",
      "...distance calculated...\n",
      ".....Week 9 COMPLETE.....\n",
      "\n",
      "   64.29% COMPLETE   \n",
      "\n",
      "--- 6.3 minutes elapsed ---\n",
      "\n",
      "the weeks complete:  [1 2 3 4 5 6 7 8 9]\n",
      "...Week 10 loaded...\n",
      "...filtered...\n",
      "...transformed...\n",
      "...time reduced...\n",
      "...starting dataframe generated...\n",
      "...distance calculated...\n",
      ".....Week 10 COMPLETE.....\n",
      "\n",
      "   71.43% COMPLETE   \n",
      "\n",
      "--- 6.9 minutes elapsed ---\n",
      "\n",
      "the weeks complete:  [ 1  2  3  4  5  6  7  8  9 10]\n",
      "...Week 11 loaded...\n",
      "...filtered...\n",
      "...transformed...\n",
      "...time reduced...\n",
      "...starting dataframe generated...\n",
      "...distance calculated...\n",
      ".....Week 11 COMPLETE.....\n",
      "\n",
      "   78.57% COMPLETE   \n",
      "\n",
      "--- 7.5 minutes elapsed ---\n",
      "\n",
      "the weeks complete:  [ 1  2  3  4  5  6  7  8  9 10 11]\n",
      "...Week 12 loaded...\n",
      "...filtered...\n",
      "...transformed...\n",
      "...time reduced...\n",
      "...starting dataframe generated...\n",
      "...distance calculated...\n",
      ".....Week 12 COMPLETE.....\n",
      "\n",
      "   85.71% COMPLETE   \n",
      "\n",
      "--- 8.1 minutes elapsed ---\n",
      "\n",
      "the weeks complete:  [ 1  2  3  4  5  6  7  8  9 10 11 12]\n",
      "...Week 13 loaded...\n",
      "...filtered...\n",
      "...transformed...\n",
      "...time reduced...\n",
      "...starting dataframe generated...\n",
      "...distance calculated...\n",
      ".....Week 13 COMPLETE.....\n",
      "\n",
      "   92.86% COMPLETE   \n",
      "\n",
      "--- 8.9 minutes elapsed ---\n",
      "\n",
      "the weeks complete:  [ 1  2  3  4  5  6  7  8  9 10 11 12 13]\n",
      "...Week 14 loaded...\n",
      "...filtered...\n",
      "...transformed...\n",
      "...time reduced...\n",
      "...starting dataframe generated...\n",
      "...distance calculated...\n",
      ".....Week 14 COMPLETE.....\n",
      "\n",
      "   100.0% COMPLETE   \n",
      "\n",
      "--- 9.6 minutes elapsed ---\n",
      "\n",
      "the weeks complete:  [ 1  2  3  4  5  6  7  8  9 10 11 12 13 14]\n",
      "Defensive cleaning complete --- check assets/def_clean_output.csv\n"
     ]
    }
   ],
   "source": [
    "df = def_cleaning.generate_full_df(1, 14)"
   ],
   "metadata": {
    "collapsed": false,
    "pycharm": {
     "name": "#%%\n"
    }
   }
  },
  {
   "cell_type": "code",
   "execution_count": 3,
   "outputs": [
    {
     "data": {
      "text/plain": "posId                                                                    CBL0_act  \\\ngameId     playId defendersInTheBox DB LB DL yardline_first yardline_100            \n2018090600 75     7.0               5  2  4  65.0           80.0                M   \n           146    7.0               5  2  4  29.0           39.0                M   \n           168    6.0               5  2  4  29.0           39.0                M   \n           190    6.0               6  1  4  29.0           39.0                Z   \n           256    8.0               2  3  6  0.0            1.0               NaN   \n...                                                                           ...   \n2018121000 3747   5.0               6  1  4  75.0           65.0                M   \n           3786   5.0               6  1  4  75.0           65.0                Z   \n           3817   5.0               6  1  4  87.0           77.0                M   \n           3839   5.0               6  1  4  87.0           77.0                Z   \n           3864   6.0               6  1  4  100.0          94.0                Z   \n\nposId                                                                    CBL0_x_start  \\\ngameId     playId defendersInTheBox DB LB DL yardline_first yardline_100                \n2018090600 75     7.0               5  2  4  65.0           80.0                 6.08   \n           146    7.0               5  2  4  29.0           39.0                 7.39   \n           168    6.0               5  2  4  29.0           39.0                 3.48   \n           190    6.0               6  1  4  29.0           39.0                 5.09   \n           256    8.0               2  3  6  0.0            1.0                   NaN   \n...                                                                               ...   \n2018121000 3747   5.0               6  1  4  75.0           65.0                 3.53   \n           3786   5.0               6  1  4  75.0           65.0                 5.51   \n           3817   5.0               6  1  4  87.0           77.0                 0.46   \n           3839   5.0               6  1  4  87.0           77.0                  4.1   \n           3864   6.0               6  1  4  100.0          94.0                 2.88   \n\nposId                                                                    CBL0_y_start  \\\ngameId     playId defendersInTheBox DB LB DL yardline_first yardline_100                \n2018090600 75     7.0               5  2  4  65.0           80.0                 9.86   \n           146    7.0               5  2  4  29.0           39.0                13.33   \n           168    6.0               5  2  4  29.0           39.0                 9.49   \n           190    6.0               6  1  4  29.0           39.0                16.05   \n           256    8.0               2  3  6  0.0            1.0                   NaN   \n...                                                                               ...   \n2018121000 3747   5.0               6  1  4  75.0           65.0                12.41   \n           3786   5.0               6  1  4  75.0           65.0                10.63   \n           3817   5.0               6  1  4  87.0           77.0                18.65   \n           3839   5.0               6  1  4  87.0           77.0                 19.0   \n           3864   6.0               6  1  4  100.0          94.0                20.17   \n\nposId                                                                    CBL1_act  \\\ngameId     playId defendersInTheBox DB LB DL yardline_first yardline_100            \n2018090600 75     7.0               5  2  4  65.0           80.0              NaN   \n           146    7.0               5  2  4  29.0           39.0              NaN   \n           168    6.0               5  2  4  29.0           39.0              NaN   \n           190    6.0               6  1  4  29.0           39.0              NaN   \n           256    8.0               2  3  6  0.0            1.0               NaN   \n...                                                                           ...   \n2018121000 3747   5.0               6  1  4  75.0           65.0              NaN   \n           3786   5.0               6  1  4  75.0           65.0              NaN   \n           3817   5.0               6  1  4  87.0           77.0                M   \n           3839   5.0               6  1  4  87.0           77.0                M   \n           3864   6.0               6  1  4  100.0          94.0                Z   \n\nposId                                                                    CBL1_x_start  \\\ngameId     playId defendersInTheBox DB LB DL yardline_first yardline_100                \n2018090600 75     7.0               5  2  4  65.0           80.0                  NaN   \n           146    7.0               5  2  4  29.0           39.0                  NaN   \n           168    6.0               5  2  4  29.0           39.0                  NaN   \n           190    6.0               6  1  4  29.0           39.0                  NaN   \n           256    8.0               2  3  6  0.0            1.0                   NaN   \n...                                                                               ...   \n2018121000 3747   5.0               6  1  4  75.0           65.0                  NaN   \n           3786   5.0               6  1  4  75.0           65.0                  NaN   \n           3817   5.0               6  1  4  87.0           77.0                 5.76   \n           3839   5.0               6  1  4  87.0           77.0                 2.32   \n           3864   6.0               6  1  4  100.0          94.0                 6.24   \n\nposId                                                                    CBL1_y_start  \\\ngameId     playId defendersInTheBox DB LB DL yardline_first yardline_100                \n2018090600 75     7.0               5  2  4  65.0           80.0                  NaN   \n           146    7.0               5  2  4  29.0           39.0                  NaN   \n           168    6.0               5  2  4  29.0           39.0                  NaN   \n           190    6.0               6  1  4  29.0           39.0                  NaN   \n           256    8.0               2  3  6  0.0            1.0                   NaN   \n...                                                                               ...   \n2018121000 3747   5.0               6  1  4  75.0           65.0                  NaN   \n           3786   5.0               6  1  4  75.0           65.0                  NaN   \n           3817   5.0               6  1  4  87.0           77.0                 8.06   \n           3839   5.0               6  1  4  87.0           77.0                 7.76   \n           3864   6.0               6  1  4  100.0          94.0                 7.62   \n\nposId                                                                    CBL2_act  \\\ngameId     playId defendersInTheBox DB LB DL yardline_first yardline_100            \n2018090600 75     7.0               5  2  4  65.0           80.0              NaN   \n           146    7.0               5  2  4  29.0           39.0              NaN   \n           168    6.0               5  2  4  29.0           39.0              NaN   \n           190    6.0               6  1  4  29.0           39.0              NaN   \n           256    8.0               2  3  6  0.0            1.0               NaN   \n...                                                                           ...   \n2018121000 3747   5.0               6  1  4  75.0           65.0              NaN   \n           3786   5.0               6  1  4  75.0           65.0              NaN   \n           3817   5.0               6  1  4  87.0           77.0              NaN   \n           3839   5.0               6  1  4  87.0           77.0              NaN   \n           3864   6.0               6  1  4  100.0          94.0              NaN   \n\nposId                                                                    CBL2_x_start  \\\ngameId     playId defendersInTheBox DB LB DL yardline_first yardline_100                \n2018090600 75     7.0               5  2  4  65.0           80.0                  NaN   \n           146    7.0               5  2  4  29.0           39.0                  NaN   \n           168    6.0               5  2  4  29.0           39.0                  NaN   \n           190    6.0               6  1  4  29.0           39.0                  NaN   \n           256    8.0               2  3  6  0.0            1.0                   NaN   \n...                                                                               ...   \n2018121000 3747   5.0               6  1  4  75.0           65.0                  NaN   \n           3786   5.0               6  1  4  75.0           65.0                  NaN   \n           3817   5.0               6  1  4  87.0           77.0                  NaN   \n           3839   5.0               6  1  4  87.0           77.0                  NaN   \n           3864   6.0               6  1  4  100.0          94.0                  NaN   \n\nposId                                                                    CBL2_y_start  \\\ngameId     playId defendersInTheBox DB LB DL yardline_first yardline_100                \n2018090600 75     7.0               5  2  4  65.0           80.0                  NaN   \n           146    7.0               5  2  4  29.0           39.0                  NaN   \n           168    6.0               5  2  4  29.0           39.0                  NaN   \n           190    6.0               6  1  4  29.0           39.0                  NaN   \n           256    8.0               2  3  6  0.0            1.0                   NaN   \n...                                                                               ...   \n2018121000 3747   5.0               6  1  4  75.0           65.0                  NaN   \n           3786   5.0               6  1  4  75.0           65.0                  NaN   \n           3817   5.0               6  1  4  87.0           77.0                  NaN   \n           3839   5.0               6  1  4  87.0           77.0                  NaN   \n           3864   6.0               6  1  4  100.0          94.0                  NaN   \n\nposId                                                                    CBL3_act  \\\ngameId     playId defendersInTheBox DB LB DL yardline_first yardline_100            \n2018090600 75     7.0               5  2  4  65.0           80.0              NaN   \n           146    7.0               5  2  4  29.0           39.0              NaN   \n           168    6.0               5  2  4  29.0           39.0              NaN   \n           190    6.0               6  1  4  29.0           39.0              NaN   \n           256    8.0               2  3  6  0.0            1.0               NaN   \n...                                                                           ...   \n2018121000 3747   5.0               6  1  4  75.0           65.0              NaN   \n           3786   5.0               6  1  4  75.0           65.0              NaN   \n           3817   5.0               6  1  4  87.0           77.0              NaN   \n           3839   5.0               6  1  4  87.0           77.0              NaN   \n           3864   6.0               6  1  4  100.0          94.0              NaN   \n\nposId                                                                     ...  \\\ngameId     playId defendersInTheBox DB LB DL yardline_first yardline_100  ...   \n2018090600 75     7.0               5  2  4  65.0           80.0          ...   \n           146    7.0               5  2  4  29.0           39.0          ...   \n           168    6.0               5  2  4  29.0           39.0          ...   \n           190    6.0               6  1  4  29.0           39.0          ...   \n           256    8.0               2  3  6  0.0            1.0           ...   \n...                                                                       ...   \n2018121000 3747   5.0               6  1  4  75.0           65.0          ...   \n           3786   5.0               6  1  4  75.0           65.0          ...   \n           3817   5.0               6  1  4  87.0           77.0          ...   \n           3839   5.0               6  1  4  87.0           77.0          ...   \n           3864   6.0               6  1  4  100.0          94.0          ...   \n\nposId                                                                    SSL2_y_start  \\\ngameId     playId defendersInTheBox DB LB DL yardline_first yardline_100                \n2018090600 75     7.0               5  2  4  65.0           80.0                  NaN   \n           146    7.0               5  2  4  29.0           39.0                  NaN   \n           168    6.0               5  2  4  29.0           39.0                  NaN   \n           190    6.0               6  1  4  29.0           39.0                  NaN   \n           256    8.0               2  3  6  0.0            1.0                   NaN   \n...                                                                               ...   \n2018121000 3747   5.0               6  1  4  75.0           65.0                  NaN   \n           3786   5.0               6  1  4  75.0           65.0                  NaN   \n           3817   5.0               6  1  4  87.0           77.0                  NaN   \n           3839   5.0               6  1  4  87.0           77.0                  NaN   \n           3864   6.0               6  1  4  100.0          94.0                  NaN   \n\nposId                                                                    SSR0_act  \\\ngameId     playId defendersInTheBox DB LB DL yardline_first yardline_100            \n2018090600 75     7.0               5  2  4  65.0           80.0              NaN   \n           146    7.0               5  2  4  29.0           39.0              NaN   \n           168    6.0               5  2  4  29.0           39.0                M   \n           190    6.0               6  1  4  29.0           39.0                M   \n           256    8.0               2  3  6  0.0            1.0               NaN   \n...                                                                           ...   \n2018121000 3747   5.0               6  1  4  75.0           65.0              NaN   \n           3786   5.0               6  1  4  75.0           65.0              NaN   \n           3817   5.0               6  1  4  87.0           77.0                M   \n           3839   5.0               6  1  4  87.0           77.0                M   \n           3864   6.0               6  1  4  100.0          94.0                M   \n\nposId                                                                    SSR0_x_start  \\\ngameId     playId defendersInTheBox DB LB DL yardline_first yardline_100                \n2018090600 75     7.0               5  2  4  65.0           80.0                  NaN   \n           146    7.0               5  2  4  29.0           39.0                  NaN   \n           168    6.0               5  2  4  29.0           39.0                 2.57   \n           190    6.0               6  1  4  29.0           39.0                 3.31   \n           256    8.0               2  3  6  0.0            1.0                   NaN   \n...                                                                               ...   \n2018121000 3747   5.0               6  1  4  75.0           65.0                  NaN   \n           3786   5.0               6  1  4  75.0           65.0                  NaN   \n           3817   5.0               6  1  4  87.0           77.0                10.86   \n           3839   5.0               6  1  4  87.0           77.0                  5.5   \n           3864   6.0               6  1  4  100.0          94.0                 4.27   \n\nposId                                                                    SSR0_y_start  \\\ngameId     playId defendersInTheBox DB LB DL yardline_first yardline_100                \n2018090600 75     7.0               5  2  4  65.0           80.0                  NaN   \n           146    7.0               5  2  4  29.0           39.0                  NaN   \n           168    6.0               5  2  4  29.0           39.0                32.56   \n           190    6.0               6  1  4  29.0           39.0                30.94   \n           256    8.0               2  3  6  0.0            1.0                   NaN   \n...                                                                               ...   \n2018121000 3747   5.0               6  1  4  75.0           65.0                  NaN   \n           3786   5.0               6  1  4  75.0           65.0                  NaN   \n           3817   5.0               6  1  4  87.0           77.0                30.81   \n           3839   5.0               6  1  4  87.0           77.0                34.31   \n           3864   6.0               6  1  4  100.0          94.0                33.62   \n\nposId                                                                    SSR1_act  \\\ngameId     playId defendersInTheBox DB LB DL yardline_first yardline_100            \n2018090600 75     7.0               5  2  4  65.0           80.0              NaN   \n           146    7.0               5  2  4  29.0           39.0              NaN   \n           168    6.0               5  2  4  29.0           39.0              NaN   \n           190    6.0               6  1  4  29.0           39.0              NaN   \n           256    8.0               2  3  6  0.0            1.0               NaN   \n...                                                                           ...   \n2018121000 3747   5.0               6  1  4  75.0           65.0              NaN   \n           3786   5.0               6  1  4  75.0           65.0              NaN   \n           3817   5.0               6  1  4  87.0           77.0                Z   \n           3839   5.0               6  1  4  87.0           77.0              NaN   \n           3864   6.0               6  1  4  100.0          94.0              NaN   \n\nposId                                                                    SSR1_x_start  \\\ngameId     playId defendersInTheBox DB LB DL yardline_first yardline_100                \n2018090600 75     7.0               5  2  4  65.0           80.0                  NaN   \n           146    7.0               5  2  4  29.0           39.0                  NaN   \n           168    6.0               5  2  4  29.0           39.0                  NaN   \n           190    6.0               6  1  4  29.0           39.0                  NaN   \n           256    8.0               2  3  6  0.0            1.0                   NaN   \n...                                                                               ...   \n2018121000 3747   5.0               6  1  4  75.0           65.0                  NaN   \n           3786   5.0               6  1  4  75.0           65.0                  NaN   \n           3817   5.0               6  1  4  87.0           77.0                 3.54   \n           3839   5.0               6  1  4  87.0           77.0                  NaN   \n           3864   6.0               6  1  4  100.0          94.0                  NaN   \n\nposId                                                                    SSR1_y_start  \\\ngameId     playId defendersInTheBox DB LB DL yardline_first yardline_100                \n2018090600 75     7.0               5  2  4  65.0           80.0                  NaN   \n           146    7.0               5  2  4  29.0           39.0                  NaN   \n           168    6.0               5  2  4  29.0           39.0                  NaN   \n           190    6.0               6  1  4  29.0           39.0                  NaN   \n           256    8.0               2  3  6  0.0            1.0                   NaN   \n...                                                                               ...   \n2018121000 3747   5.0               6  1  4  75.0           65.0                  NaN   \n           3786   5.0               6  1  4  75.0           65.0                  NaN   \n           3817   5.0               6  1  4  87.0           77.0                 34.9   \n           3839   5.0               6  1  4  87.0           77.0                  NaN   \n           3864   6.0               6  1  4  100.0          94.0                  NaN   \n\nposId                                                                    SSR2_act  \\\ngameId     playId defendersInTheBox DB LB DL yardline_first yardline_100            \n2018090600 75     7.0               5  2  4  65.0           80.0              NaN   \n           146    7.0               5  2  4  29.0           39.0              NaN   \n           168    6.0               5  2  4  29.0           39.0              NaN   \n           190    6.0               6  1  4  29.0           39.0              NaN   \n           256    8.0               2  3  6  0.0            1.0               NaN   \n...                                                                           ...   \n2018121000 3747   5.0               6  1  4  75.0           65.0              NaN   \n           3786   5.0               6  1  4  75.0           65.0              NaN   \n           3817   5.0               6  1  4  87.0           77.0              NaN   \n           3839   5.0               6  1  4  87.0           77.0              NaN   \n           3864   6.0               6  1  4  100.0          94.0              NaN   \n\nposId                                                                    SSR2_x_start  \\\ngameId     playId defendersInTheBox DB LB DL yardline_first yardline_100                \n2018090600 75     7.0               5  2  4  65.0           80.0                  NaN   \n           146    7.0               5  2  4  29.0           39.0                  NaN   \n           168    6.0               5  2  4  29.0           39.0                  NaN   \n           190    6.0               6  1  4  29.0           39.0                  NaN   \n           256    8.0               2  3  6  0.0            1.0                   NaN   \n...                                                                               ...   \n2018121000 3747   5.0               6  1  4  75.0           65.0                  NaN   \n           3786   5.0               6  1  4  75.0           65.0                  NaN   \n           3817   5.0               6  1  4  87.0           77.0                  NaN   \n           3839   5.0               6  1  4  87.0           77.0                  NaN   \n           3864   6.0               6  1  4  100.0          94.0                  NaN   \n\nposId                                                                    SSR2_y_start  \ngameId     playId defendersInTheBox DB LB DL yardline_first yardline_100               \n2018090600 75     7.0               5  2  4  65.0           80.0                  NaN  \n           146    7.0               5  2  4  29.0           39.0                  NaN  \n           168    6.0               5  2  4  29.0           39.0                  NaN  \n           190    6.0               6  1  4  29.0           39.0                  NaN  \n           256    8.0               2  3  6  0.0            1.0                   NaN  \n...                                                                               ...  \n2018121000 3747   5.0               6  1  4  75.0           65.0                  NaN  \n           3786   5.0               6  1  4  75.0           65.0                  NaN  \n           3817   5.0               6  1  4  87.0           77.0                  NaN  \n           3839   5.0               6  1  4  87.0           77.0                  NaN  \n           3864   6.0               6  1  4  100.0          94.0                  NaN  \n\n[13964 rows x 216 columns]",
      "text/html": "<div>\n<style scoped>\n    .dataframe tbody tr th:only-of-type {\n        vertical-align: middle;\n    }\n\n    .dataframe tbody tr th {\n        vertical-align: top;\n    }\n\n    .dataframe thead th {\n        text-align: right;\n    }\n</style>\n<table border=\"1\" class=\"dataframe\">\n  <thead>\n    <tr style=\"text-align: right;\">\n      <th></th>\n      <th></th>\n      <th></th>\n      <th></th>\n      <th></th>\n      <th></th>\n      <th></th>\n      <th>posId</th>\n      <th>CBL0_act</th>\n      <th>CBL0_x_start</th>\n      <th>CBL0_y_start</th>\n      <th>CBL1_act</th>\n      <th>CBL1_x_start</th>\n      <th>CBL1_y_start</th>\n      <th>CBL2_act</th>\n      <th>CBL2_x_start</th>\n      <th>CBL2_y_start</th>\n      <th>CBL3_act</th>\n      <th>...</th>\n      <th>SSL2_y_start</th>\n      <th>SSR0_act</th>\n      <th>SSR0_x_start</th>\n      <th>SSR0_y_start</th>\n      <th>SSR1_act</th>\n      <th>SSR1_x_start</th>\n      <th>SSR1_y_start</th>\n      <th>SSR2_act</th>\n      <th>SSR2_x_start</th>\n      <th>SSR2_y_start</th>\n    </tr>\n    <tr>\n      <th>gameId</th>\n      <th>playId</th>\n      <th>defendersInTheBox</th>\n      <th>DB</th>\n      <th>LB</th>\n      <th>DL</th>\n      <th>yardline_first</th>\n      <th>yardline_100</th>\n      <th></th>\n      <th></th>\n      <th></th>\n      <th></th>\n      <th></th>\n      <th></th>\n      <th></th>\n      <th></th>\n      <th></th>\n      <th></th>\n      <th></th>\n      <th></th>\n      <th></th>\n      <th></th>\n      <th></th>\n      <th></th>\n      <th></th>\n      <th></th>\n      <th></th>\n      <th></th>\n      <th></th>\n    </tr>\n  </thead>\n  <tbody>\n    <tr>\n      <th rowspan=\"5\" valign=\"top\">2018090600</th>\n      <th>75</th>\n      <th>7.0</th>\n      <th>5</th>\n      <th>2</th>\n      <th>4</th>\n      <th>65.0</th>\n      <th>80.0</th>\n      <td>M</td>\n      <td>6.08</td>\n      <td>9.86</td>\n      <td>NaN</td>\n      <td>NaN</td>\n      <td>NaN</td>\n      <td>NaN</td>\n      <td>NaN</td>\n      <td>NaN</td>\n      <td>NaN</td>\n      <td>...</td>\n      <td>NaN</td>\n      <td>NaN</td>\n      <td>NaN</td>\n      <td>NaN</td>\n      <td>NaN</td>\n      <td>NaN</td>\n      <td>NaN</td>\n      <td>NaN</td>\n      <td>NaN</td>\n      <td>NaN</td>\n    </tr>\n    <tr>\n      <th>146</th>\n      <th>7.0</th>\n      <th>5</th>\n      <th>2</th>\n      <th>4</th>\n      <th>29.0</th>\n      <th>39.0</th>\n      <td>M</td>\n      <td>7.39</td>\n      <td>13.33</td>\n      <td>NaN</td>\n      <td>NaN</td>\n      <td>NaN</td>\n      <td>NaN</td>\n      <td>NaN</td>\n      <td>NaN</td>\n      <td>NaN</td>\n      <td>...</td>\n      <td>NaN</td>\n      <td>NaN</td>\n      <td>NaN</td>\n      <td>NaN</td>\n      <td>NaN</td>\n      <td>NaN</td>\n      <td>NaN</td>\n      <td>NaN</td>\n      <td>NaN</td>\n      <td>NaN</td>\n    </tr>\n    <tr>\n      <th>168</th>\n      <th>6.0</th>\n      <th>5</th>\n      <th>2</th>\n      <th>4</th>\n      <th>29.0</th>\n      <th>39.0</th>\n      <td>M</td>\n      <td>3.48</td>\n      <td>9.49</td>\n      <td>NaN</td>\n      <td>NaN</td>\n      <td>NaN</td>\n      <td>NaN</td>\n      <td>NaN</td>\n      <td>NaN</td>\n      <td>NaN</td>\n      <td>...</td>\n      <td>NaN</td>\n      <td>M</td>\n      <td>2.57</td>\n      <td>32.56</td>\n      <td>NaN</td>\n      <td>NaN</td>\n      <td>NaN</td>\n      <td>NaN</td>\n      <td>NaN</td>\n      <td>NaN</td>\n    </tr>\n    <tr>\n      <th>190</th>\n      <th>6.0</th>\n      <th>6</th>\n      <th>1</th>\n      <th>4</th>\n      <th>29.0</th>\n      <th>39.0</th>\n      <td>Z</td>\n      <td>5.09</td>\n      <td>16.05</td>\n      <td>NaN</td>\n      <td>NaN</td>\n      <td>NaN</td>\n      <td>NaN</td>\n      <td>NaN</td>\n      <td>NaN</td>\n      <td>NaN</td>\n      <td>...</td>\n      <td>NaN</td>\n      <td>M</td>\n      <td>3.31</td>\n      <td>30.94</td>\n      <td>NaN</td>\n      <td>NaN</td>\n      <td>NaN</td>\n      <td>NaN</td>\n      <td>NaN</td>\n      <td>NaN</td>\n    </tr>\n    <tr>\n      <th>256</th>\n      <th>8.0</th>\n      <th>2</th>\n      <th>3</th>\n      <th>6</th>\n      <th>0.0</th>\n      <th>1.0</th>\n      <td>NaN</td>\n      <td>NaN</td>\n      <td>NaN</td>\n      <td>NaN</td>\n      <td>NaN</td>\n      <td>NaN</td>\n      <td>NaN</td>\n      <td>NaN</td>\n      <td>NaN</td>\n      <td>NaN</td>\n      <td>...</td>\n      <td>NaN</td>\n      <td>NaN</td>\n      <td>NaN</td>\n      <td>NaN</td>\n      <td>NaN</td>\n      <td>NaN</td>\n      <td>NaN</td>\n      <td>NaN</td>\n      <td>NaN</td>\n      <td>NaN</td>\n    </tr>\n    <tr>\n      <th>...</th>\n      <th>...</th>\n      <th>...</th>\n      <th>...</th>\n      <th>...</th>\n      <th>...</th>\n      <th>...</th>\n      <th>...</th>\n      <td>...</td>\n      <td>...</td>\n      <td>...</td>\n      <td>...</td>\n      <td>...</td>\n      <td>...</td>\n      <td>...</td>\n      <td>...</td>\n      <td>...</td>\n      <td>...</td>\n      <td>...</td>\n      <td>...</td>\n      <td>...</td>\n      <td>...</td>\n      <td>...</td>\n      <td>...</td>\n      <td>...</td>\n      <td>...</td>\n      <td>...</td>\n      <td>...</td>\n      <td>...</td>\n    </tr>\n    <tr>\n      <th rowspan=\"5\" valign=\"top\">2018121000</th>\n      <th>3747</th>\n      <th>5.0</th>\n      <th>6</th>\n      <th>1</th>\n      <th>4</th>\n      <th>75.0</th>\n      <th>65.0</th>\n      <td>M</td>\n      <td>3.53</td>\n      <td>12.41</td>\n      <td>NaN</td>\n      <td>NaN</td>\n      <td>NaN</td>\n      <td>NaN</td>\n      <td>NaN</td>\n      <td>NaN</td>\n      <td>NaN</td>\n      <td>...</td>\n      <td>NaN</td>\n      <td>NaN</td>\n      <td>NaN</td>\n      <td>NaN</td>\n      <td>NaN</td>\n      <td>NaN</td>\n      <td>NaN</td>\n      <td>NaN</td>\n      <td>NaN</td>\n      <td>NaN</td>\n    </tr>\n    <tr>\n      <th>3786</th>\n      <th>5.0</th>\n      <th>6</th>\n      <th>1</th>\n      <th>4</th>\n      <th>75.0</th>\n      <th>65.0</th>\n      <td>Z</td>\n      <td>5.51</td>\n      <td>10.63</td>\n      <td>NaN</td>\n      <td>NaN</td>\n      <td>NaN</td>\n      <td>NaN</td>\n      <td>NaN</td>\n      <td>NaN</td>\n      <td>NaN</td>\n      <td>...</td>\n      <td>NaN</td>\n      <td>NaN</td>\n      <td>NaN</td>\n      <td>NaN</td>\n      <td>NaN</td>\n      <td>NaN</td>\n      <td>NaN</td>\n      <td>NaN</td>\n      <td>NaN</td>\n      <td>NaN</td>\n    </tr>\n    <tr>\n      <th>3817</th>\n      <th>5.0</th>\n      <th>6</th>\n      <th>1</th>\n      <th>4</th>\n      <th>87.0</th>\n      <th>77.0</th>\n      <td>M</td>\n      <td>0.46</td>\n      <td>18.65</td>\n      <td>M</td>\n      <td>5.76</td>\n      <td>8.06</td>\n      <td>NaN</td>\n      <td>NaN</td>\n      <td>NaN</td>\n      <td>NaN</td>\n      <td>...</td>\n      <td>NaN</td>\n      <td>M</td>\n      <td>10.86</td>\n      <td>30.81</td>\n      <td>Z</td>\n      <td>3.54</td>\n      <td>34.9</td>\n      <td>NaN</td>\n      <td>NaN</td>\n      <td>NaN</td>\n    </tr>\n    <tr>\n      <th>3839</th>\n      <th>5.0</th>\n      <th>6</th>\n      <th>1</th>\n      <th>4</th>\n      <th>87.0</th>\n      <th>77.0</th>\n      <td>Z</td>\n      <td>4.1</td>\n      <td>19.0</td>\n      <td>M</td>\n      <td>2.32</td>\n      <td>7.76</td>\n      <td>NaN</td>\n      <td>NaN</td>\n      <td>NaN</td>\n      <td>NaN</td>\n      <td>...</td>\n      <td>NaN</td>\n      <td>M</td>\n      <td>5.5</td>\n      <td>34.31</td>\n      <td>NaN</td>\n      <td>NaN</td>\n      <td>NaN</td>\n      <td>NaN</td>\n      <td>NaN</td>\n      <td>NaN</td>\n    </tr>\n    <tr>\n      <th>3864</th>\n      <th>6.0</th>\n      <th>6</th>\n      <th>1</th>\n      <th>4</th>\n      <th>100.0</th>\n      <th>94.0</th>\n      <td>Z</td>\n      <td>2.88</td>\n      <td>20.17</td>\n      <td>Z</td>\n      <td>6.24</td>\n      <td>7.62</td>\n      <td>NaN</td>\n      <td>NaN</td>\n      <td>NaN</td>\n      <td>NaN</td>\n      <td>...</td>\n      <td>NaN</td>\n      <td>M</td>\n      <td>4.27</td>\n      <td>33.62</td>\n      <td>NaN</td>\n      <td>NaN</td>\n      <td>NaN</td>\n      <td>NaN</td>\n      <td>NaN</td>\n      <td>NaN</td>\n    </tr>\n  </tbody>\n</table>\n<p>13964 rows × 216 columns</p>\n</div>"
     },
     "execution_count": 3,
     "metadata": {},
     "output_type": "execute_result"
    }
   ],
   "source": [
    "df"
   ],
   "metadata": {
    "collapsed": false,
    "pycharm": {
     "name": "#%%\n"
    }
   }
  },
  {
   "cell_type": "code",
   "execution_count": null,
   "outputs": [],
   "source": [],
   "metadata": {
    "collapsed": false,
    "pycharm": {
     "name": "#%%\n"
    }
   }
  }
 ],
 "metadata": {
  "kernelspec": {
   "display_name": "Python 3",
   "language": "python",
   "name": "python3"
  },
  "language_info": {
   "codemirror_mode": {
    "name": "ipython",
    "version": 2
   },
   "file_extension": ".py",
   "mimetype": "text/x-python",
   "name": "python",
   "nbconvert_exporter": "python",
   "pygments_lexer": "ipython2",
   "version": "2.7.6"
  }
 },
 "nbformat": 4,
 "nbformat_minor": 0
}