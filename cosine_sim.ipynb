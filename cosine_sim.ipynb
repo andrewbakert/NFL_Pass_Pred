{
 "cells": [
  {
   "cell_type": "code",
   "execution_count": 182,
   "outputs": [],
   "source": [
    "# IMPORTING LOCAL MODULES\n",
    "import importlib\n",
    "import form_pred\n",
    "import ball_movement\n",
    "import get_data\n",
    "import def_clean\n",
    "import TrainTestNFL\n",
    "\n",
    "# REFRESHING LOCAL CHANGES\n",
    "importlib.reload(get_data)\n",
    "importlib.reload(form_pred)\n",
    "importlib.reload(def_clean)\n",
    "importlib.reload(ball_movement)\n",
    "importlib.reload(TrainTestNFL)\n",
    "\n",
    "# IMPORTING LOCAL PACKAGES\n",
    "from get_data import get_assets, get_positional_data\n",
    "from form_pred import clean_positional\n",
    "from ball_movement import ball_quadrants, make_quad_chart\n",
    "from def_clean import DefensiveCleaning\n",
    "from TrainTestNFL import TrainTestNFL\n",
    "import os\n",
    "import pandas as pd\n",
    "\n",
    "class PrepPipe:\n",
    "    def __init__(self, first=1, last=14, n_cuts=11, frameLimit=11,\n",
    "                 simMethod='distance', quad_num=4, def_fp='assets/def_clean_output.csv'):\n",
    "        self.first = first\n",
    "        self.last = last\n",
    "        self.n_cuts = n_cuts\n",
    "        self.frameLimit = frameLimit\n",
    "        self.simMethod = simMethod\n",
    "        self.quad_num = quad_num\n",
    "        self.def_fp = def_fp\n",
    "        if not os.path.exists('Kaggle-Data-Files'):\n",
    "            get_assets()\n",
    "        self.positions = get_positional_data()\n",
    "\n",
    "    def clean_data(self):\n",
    "        quads = ball_quadrants(self.positions,self.quad_num)\n",
    "        offense = clean_positional(self.positions)\n",
    "        try:\n",
    "            defense = pd.read_csv(self.def_fp).reset_index()\n",
    "            if 2018123015 not in defense['gameId'].to_list():\n",
    "                print('missing full 17 week dataset')\n",
    "                print('getting dataset now.')\n",
    "                raise LookupError\n",
    "        except (FileNotFoundError, LookupError):\n",
    "            def_cleaning = DefensiveCleaning(weeks_data=self.positions, n_cuts=self.n_cuts,\n",
    "                                             frameLimit=self.frameLimit, simMethod=self.simMethod,\n",
    "                                             )\n",
    "            defense = def_cleaning.generate_full_df(1, 17, fp=self.def_fp).reset_index()\n",
    "        self.train_test = TrainTestNFL(offense,defense,quads)\n",
    "        X_train, X_test, y_train, y_test = self.train_test.split(self.first, self.last)\n",
    "        y_train = y_train[['x_quad', 'y_quad']]\n",
    "        y_test = y_test[['x_quad', 'y_quad']]\n",
    "        return X_train, X_test, y_train, y_test"
   ],
   "metadata": {
    "collapsed": false,
    "pycharm": {
     "name": "#%%\n"
    }
   }
  },
  {
   "cell_type": "code",
   "execution_count": 183,
   "outputs": [],
   "source": [
    "from sklearn.base import BaseEstimator, TransformerMixin\n",
    "from sklearn.linear_model import LogisticRegression\n",
    "from sklearn.model_selection import GridSearchCV\n",
    "import os\n",
    "import pickle\n",
    "from def_clust import return_pca_and_clusters\n",
    "from sklearn.preprocessing import StandardScaler\n",
    "from sklearn.decomposition import PCA\n",
    "import numpy as np\n",
    "from sklearn.cluster import KMeans\n",
    "from sklearn.metrics import silhouette_score\n",
    "\n",
    "class OffensiveFormation(BaseEstimator, TransformerMixin):\n",
    "    def __init__(self, model=None, model_params=None, model_fp='models/off_form.pkl',\n",
    "                 cv=5, scoring='f1_micro'):\n",
    "        if not model:\n",
    "            self.model = LogisticRegression(max_iter=10000)\n",
    "        else:\n",
    "            self.model = model\n",
    "        if not model_params:\n",
    "            self.model_params = {'C': [10**x for x in range(-4, 4)]}\n",
    "        else:\n",
    "            self.model_params = model_params\n",
    "        self.model_fp = model_fp\n",
    "        self.cv = cv\n",
    "        self.scoring = scoring\n",
    "\n",
    "    def fit(self, X, y=None):\n",
    "        if os.path.exists(self.model_fp):\n",
    "            with open(self.model_fp, 'rb') as model:\n",
    "                 self.grid = pickle.load(model)\n",
    "            X_train = X.drop('offenseFormation', axis=1)\n",
    "            self.scaler = StandardScaler()\n",
    "            self.scaler.fit_transform(X_train)\n",
    "        else:\n",
    "            self.grid = GridSearchCV(self.model, param_grid=self.model_params, cv=self.cv,\n",
    "                                     scoring=self.scoring)\n",
    "            X_train = X.drop('offenseFormation', axis=1)\n",
    "            y_train = X['offenseFormation']\n",
    "            self.scaler = StandardScaler()\n",
    "            X_train_scaled = self.scaler.fit_transform(X_train)\n",
    "            self.grid.fit(X_train_scaled, y_train)\n",
    "            base = self.model_fp.split('/')[0]\n",
    "            if not os.path.exists(base):\n",
    "                os.mkdir(base)\n",
    "            with open(self.model_fp, 'wb') as model:\n",
    "                pickle.dump(self.grid, model)\n",
    "        print(\"Offensive formation model fitted\")\n",
    "        return self\n",
    "\n",
    "    def transform(self, X):\n",
    "        X = X.drop('offenseFormation', axis=1)\n",
    "        X_scaled = self.scaler.transform(X)\n",
    "        y = self.grid.predict(X_scaled)\n",
    "        X_scaled_df = pd.DataFrame(X_scaled, columns=X.columns)\n",
    "        X_scaled_df['offenseFormation'] = y\n",
    "        print(\"Offensive formation predicted\")\n",
    "        return X_scaled_df\n",
    "\n",
    "\n",
    "class DefensiveClustering(BaseEstimator, TransformerMixin):\n",
    "    def __init__(self, columns='all', n_clusters=5, pca_variance=0.8):\n",
    "        self.columns = columns\n",
    "        self.n_clusters = n_clusters\n",
    "        self.pca_variance = pca_variance\n",
    "\n",
    "    def fit(self, X, y=None):\n",
    "        actions = [action for action in X.columns if '_act' in action]\n",
    "        self.melt_cols = ['gameId','playId'] + actions\n",
    "\n",
    "        melt_df = X[self.melt_cols]\n",
    "        melt_df = melt_df.melt(['gameId','playId']).dropna()\n",
    "        melt_df = melt_df.groupby(['gameId','playId','value']).count()\n",
    "        melt_df = melt_df.reset_index().pivot(index=['gameId','playId'],\n",
    "                                              columns='value',values='variable').fillna(0)\n",
    "        melt_df['TOT'] = melt_df['B'] + melt_df['M'] + melt_df['Z']\n",
    "        melt_df['%B'] = melt_df['B'] / melt_df['TOT']\n",
    "        melt_df['%M'] = melt_df['M'] / melt_df['TOT']\n",
    "        melt_df['%Z'] = melt_df['Z'] / melt_df['TOT']\n",
    "        melt_df = melt_df.fillna(0)\n",
    "\n",
    "        self.orig_cols =  ['gameId','playId','defendersInTheBox','numberOfPassRushers','DB','LB','DL','yardline_first_dir','yardline_100_dir']\n",
    "        orig_df = X[self.orig_cols].set_index(['gameId','playId'])\n",
    "\n",
    "        orig_df = orig_df.merge(melt_df[['%B','%M','%Z']], on=['gameId','playId']).fillna(0)\n",
    "        self.scaler = StandardScaler()\n",
    "        X = self.scaler.fit_transform(orig_df)\n",
    "        self.pca = PCA(n_components=self.pca_variance)\n",
    "        scores_pca = self.pca.fit_transform(X)\n",
    "        self.kmeans_pca = KMeans(n_clusters=self.n_clusters, init='k-means++', random_state=42)\n",
    "        self.kmeans_pca.fit(scores_pca)\n",
    "        print('KMeans and PCA fitted')\n",
    "        return self\n",
    "\n",
    "    def transform(self, X):\n",
    "        melt_df = pd.DataFrame()\n",
    "        for col in self.melt_cols:\n",
    "            if col in X.columns:\n",
    "                melt_df[col] = X[col]\n",
    "            else:\n",
    "                melt_df[col] = np.nan\n",
    "        melt_df = melt_df.melt(['gameId','playId']).dropna()\n",
    "        melt_df = melt_df.groupby(['gameId','playId','value']).count()\n",
    "        melt_df = melt_df.reset_index().pivot(index=['gameId','playId'],\n",
    "                                              columns='value',values='variable').fillna(0)\n",
    "        melt_df['TOT'] = melt_df['B'] + melt_df['M'] + melt_df['Z']\n",
    "        melt_df['%B'] = melt_df['B'] / melt_df['TOT']\n",
    "        melt_df['%M'] = melt_df['M'] / melt_df['TOT']\n",
    "        melt_df['%Z'] = melt_df['Z'] / melt_df['TOT']\n",
    "        melt_df = melt_df.fillna(0)\n",
    "        orig_df = X[self.orig_cols].set_index(['gameId','playId'])\n",
    "        orig_df = orig_df.merge(melt_df[['%B','%M','%Z']], on=['gameId','playId']).fillna(0)\n",
    "        X = self.scaler.transform(orig_df)\n",
    "\n",
    "        scores_pca = self.pca.transform(X)\n",
    "        kmeans_vals = self.kmeans_pca.transform(scores_pca)\n",
    "        kmeans_vals_df = pd.DataFrame(kmeans_vals, columns=[f'cluster_{i}'\n",
    "                                                            for i in range(kmeans_vals.shape[1])])\n",
    "        pca_df = pd.DataFrame(scores_pca, columns=[f'pc_{i}' for i in range(scores_pca.shape[1])])\n",
    "        df_seg = pd.concat([orig_df.reset_index()[['gameId','playId']], kmeans_vals_df, pca_df], axis=1)\n",
    "        df_seg['cluster'] = self.kmeans_pca.labels_\n",
    "        df_seg.drop(['gameId', 'playId'], axis=1, inplace=True)\n",
    "        print(\"Defensive position transformed\")\n",
    "        return df_seg\n",
    "\n",
    "class StandardScalerColumns(BaseEstimator, TransformerMixin):\n",
    "    def fit(self, X, y=None):\n",
    "        self.means = X.mean(axis=0).values.reshape(1, -1)\n",
    "        self.stds = X.std(axis=0).values.reshape(1, -1)\n",
    "        return self\n",
    "    def transform(self, X):\n",
    "        X_scaled = (X - self.means) / self.stds\n",
    "        return X_scaled"
   ],
   "metadata": {
    "collapsed": false,
    "pycharm": {
     "name": "#%%\n"
    }
   }
  },
  {
   "cell_type": "code",
   "execution_count": null,
   "outputs": [
    {
     "name": "stdout",
     "output_type": "stream",
     "text": [
      "positional data already downloaded.\n",
      "reading positional data.\n"
     ]
    }
   ],
   "source": [
    "prep_pipe = PrepPipe()"
   ],
   "metadata": {
    "collapsed": false,
    "pycharm": {
     "name": "#%%\n",
     "is_executing": true
    }
   }
  },
  {
   "cell_type": "code",
   "execution_count": null,
   "outputs": [],
   "source": [
    "X_train, X_test, y_train, y_test = prep_pipe.clean_data()"
   ],
   "metadata": {
    "collapsed": false,
    "pycharm": {
     "name": "#%%\n",
     "is_executing": true
    }
   }
  },
  {
   "cell_type": "code",
   "execution_count": null,
   "outputs": [],
   "source": [
    "off_col = prep_pipe.train_test.ofc.drop(['gameId', 'playId', 'gamePlayId', 'week'], axis=1).columns"
   ],
   "metadata": {
    "collapsed": false,
    "pycharm": {
     "name": "#%%\n"
    }
   }
  },
  {
   "cell_type": "code",
   "execution_count": null,
   "outputs": [],
   "source": [
    "def_col = prep_pipe.train_test.dfc.drop(['week', 'index'], axis=1).columns"
   ],
   "metadata": {
    "collapsed": false,
    "pycharm": {
     "name": "#%%\n"
    }
   }
  },
  {
   "cell_type": "code",
   "execution_count": 61,
   "outputs": [],
   "source": [
    "off_form_cols = off_col[:-9]\n",
    "off_info_cols = off_col[-9:]"
   ],
   "metadata": {
    "collapsed": false,
    "pycharm": {
     "name": "#%%\n"
    }
   }
  },
  {
   "cell_type": "code",
   "execution_count": 114,
   "outputs": [],
   "source": [
    "form_col = [off_form_cols[-1]]"
   ],
   "metadata": {
    "collapsed": false,
    "pycharm": {
     "name": "#%%\n"
    }
   }
  },
  {
   "cell_type": "code",
   "execution_count": 176,
   "outputs": [],
   "source": [
    "from sklearn.pipeline import Pipeline\n",
    "from sklearn.compose import ColumnTransformer\n",
    "from sklearn.preprocessing import OneHotEncoder\n",
    "from sklearn.preprocessing import FunctionTransformer\n",
    "from sklearn.linear_model import LogisticRegression\n",
    "\n",
    "off_form_pipe = Pipeline([('off_form_pred', OffensiveFormation())])\n",
    "off_info_pipe = Pipeline([('scaler', StandardScalerColumns())])\n",
    "off_pre_one_pipe = ColumnTransformer([('form', off_form_pipe, off_form_cols),\n",
    "                                   ('info', off_info_pipe, off_info_cols)])\n",
    "off_pre_one_add_col = Pipeline([('off_pre_one', off_pre_one_pipe),\n",
    "                               ('func_trans', FunctionTransformer(lambda x: pd.DataFrame(x,\n",
    "                                columns=list(off_form_cols) + list(off_info_cols))))])\n",
    "form_one_pipe = ColumnTransformer([('off_form_one', OneHotEncoder(), form_col),\n",
    "                                   ('nothing', FunctionTransformer(lambda x: x), slice(0, -1))])\n",
    "off_full_pipe = Pipeline([('full_cols', off_pre_one_add_col), ('one_hot', form_one_pipe)])\n",
    "\n",
    "def_cluster_pipe = Pipeline([('def_clust', DefensiveClustering())])\n",
    "form_one_pipe = ColumnTransformer([('def_clust_one', OneHotEncoder(), [-1]),\n",
    "                                   ('nothing', FunctionTransformer(lambda x: x), slice(0, -1))])\n",
    "def_full_pipe = Pipeline([('def_clust_full', def_cluster_pipe), ('def_clust_one', form_one_pipe)])\n",
    "\n",
    "full_pipe = ColumnTransformer([('off', off_full_pipe, off_col), ('def', def_full_pipe, def_col)])\n",
    "full_pipe_model = Pipeline([('full_pipe', full_pipe), ('model', LogisticRegression())])"
   ],
   "metadata": {
    "collapsed": false,
    "pycharm": {
     "name": "#%%\n"
    }
   }
  },
  {
   "cell_type": "code",
   "execution_count": 181,
   "outputs": [
    {
     "data": {
      "text/plain": "           gameId  playId      x0     y0  x_zero_base0  y_zero_base0      x1  \\\n0      2018090600      75   90.11  26.85         29.89         26.45   83.29   \n1      2018090600     146   49.17  29.86         70.83         23.44   45.31   \n2      2018090600     168   49.05  29.80         70.95         23.50   51.59   \n3      2018090600     190   50.00  29.68         70.00         23.62   27.17   \n4      2018090600     256   11.74  23.82        108.26         29.48    9.05   \n...           ...     ...     ...    ...           ...           ...     ...   \n13907  2018121000    3747   74.85  23.43         74.85         23.43   77.34   \n13908  2018121000    3786   74.91  23.77         74.91         23.77   85.24   \n13909  2018121000    3817   86.71  29.66         86.71         29.66  109.75   \n13910  2018121000    3839   86.89  29.79         86.89         29.79   82.40   \n13911  2018121000    3864  103.75  29.76        103.75         29.76  106.46   \n\n          y1  x_zero_base1  y_zero_base1  x_vec  y_vec passResult  \\\n0      46.47         36.71          6.83   6.82 -19.62          C   \n1      36.39         74.69         16.91   3.86  -6.53          I   \n2       5.81         68.41         47.49  -2.54  23.99          I   \n3      11.83         92.83         41.47  22.83  17.85          C   \n4      42.42        110.95         10.88   2.69 -18.60          I   \n...      ...           ...           ...    ...    ...        ...   \n13907   4.73         77.34          4.73   2.49 -18.70          I   \n13908  51.15         85.24         51.15  10.33  27.38          C   \n13909  27.32        109.75         27.32  23.04  -2.34          I   \n13910  38.56         82.40         38.56  -4.49   8.77          C   \n13911  32.41        106.46         32.41   2.71   2.65         TD   \n\n                                         playDescription  down  yardsToGo  \\\n0      (15:00) M.Ryan pass short right to J.Jones pus...     1         15   \n1      (13:10) M.Ryan pass incomplete short right to ...     1         10   \n2      (13:05) (Shotgun) M.Ryan pass incomplete short...     2         10   \n3      (13:01) (Shotgun) M.Ryan pass deep left to J.J...     3         10   \n4      (10:59) (Shotgun) M.Ryan pass incomplete short...     3          1   \n...                                                  ...   ...        ...   \n13907  (2:01) (No Huddle, Shotgun) K.Cousins pass inc...     1         10   \n13908  (1:56) (Shotgun) K.Cousins pass short left to ...     2         10   \n13909  (1:51) (Shotgun) K.Cousins pass incomplete dee...     1         10   \n13910  (1:45) (Shotgun) K.Cousins pass short left to ...     2         10   \n13911  (1:17) (No Huddle, Shotgun) K.Cousins pass sho...     1          6   \n\n       x_quad  y_quad  week  \n0           2       0     1  \n1           2       1     1  \n2           1       3     1  \n3           4       3     1  \n4           3       0     1  \n...       ...     ...   ...  \n13907       2       0    14  \n13908       3       3    14  \n13909       4       1    14  \n13910       1       2    14  \n13911       2       2    14  \n\n[13912 rows x 19 columns]",
      "text/html": "<div>\n<style scoped>\n    .dataframe tbody tr th:only-of-type {\n        vertical-align: middle;\n    }\n\n    .dataframe tbody tr th {\n        vertical-align: top;\n    }\n\n    .dataframe thead th {\n        text-align: right;\n    }\n</style>\n<table border=\"1\" class=\"dataframe\">\n  <thead>\n    <tr style=\"text-align: right;\">\n      <th></th>\n      <th>gameId</th>\n      <th>playId</th>\n      <th>x0</th>\n      <th>y0</th>\n      <th>x_zero_base0</th>\n      <th>y_zero_base0</th>\n      <th>x1</th>\n      <th>y1</th>\n      <th>x_zero_base1</th>\n      <th>y_zero_base1</th>\n      <th>x_vec</th>\n      <th>y_vec</th>\n      <th>passResult</th>\n      <th>playDescription</th>\n      <th>down</th>\n      <th>yardsToGo</th>\n      <th>x_quad</th>\n      <th>y_quad</th>\n      <th>week</th>\n    </tr>\n  </thead>\n  <tbody>\n    <tr>\n      <th>0</th>\n      <td>2018090600</td>\n      <td>75</td>\n      <td>90.11</td>\n      <td>26.85</td>\n      <td>29.89</td>\n      <td>26.45</td>\n      <td>83.29</td>\n      <td>46.47</td>\n      <td>36.71</td>\n      <td>6.83</td>\n      <td>6.82</td>\n      <td>-19.62</td>\n      <td>C</td>\n      <td>(15:00) M.Ryan pass short right to J.Jones pus...</td>\n      <td>1</td>\n      <td>15</td>\n      <td>2</td>\n      <td>0</td>\n      <td>1</td>\n    </tr>\n    <tr>\n      <th>1</th>\n      <td>2018090600</td>\n      <td>146</td>\n      <td>49.17</td>\n      <td>29.86</td>\n      <td>70.83</td>\n      <td>23.44</td>\n      <td>45.31</td>\n      <td>36.39</td>\n      <td>74.69</td>\n      <td>16.91</td>\n      <td>3.86</td>\n      <td>-6.53</td>\n      <td>I</td>\n      <td>(13:10) M.Ryan pass incomplete short right to ...</td>\n      <td>1</td>\n      <td>10</td>\n      <td>2</td>\n      <td>1</td>\n      <td>1</td>\n    </tr>\n    <tr>\n      <th>2</th>\n      <td>2018090600</td>\n      <td>168</td>\n      <td>49.05</td>\n      <td>29.80</td>\n      <td>70.95</td>\n      <td>23.50</td>\n      <td>51.59</td>\n      <td>5.81</td>\n      <td>68.41</td>\n      <td>47.49</td>\n      <td>-2.54</td>\n      <td>23.99</td>\n      <td>I</td>\n      <td>(13:05) (Shotgun) M.Ryan pass incomplete short...</td>\n      <td>2</td>\n      <td>10</td>\n      <td>1</td>\n      <td>3</td>\n      <td>1</td>\n    </tr>\n    <tr>\n      <th>3</th>\n      <td>2018090600</td>\n      <td>190</td>\n      <td>50.00</td>\n      <td>29.68</td>\n      <td>70.00</td>\n      <td>23.62</td>\n      <td>27.17</td>\n      <td>11.83</td>\n      <td>92.83</td>\n      <td>41.47</td>\n      <td>22.83</td>\n      <td>17.85</td>\n      <td>C</td>\n      <td>(13:01) (Shotgun) M.Ryan pass deep left to J.J...</td>\n      <td>3</td>\n      <td>10</td>\n      <td>4</td>\n      <td>3</td>\n      <td>1</td>\n    </tr>\n    <tr>\n      <th>4</th>\n      <td>2018090600</td>\n      <td>256</td>\n      <td>11.74</td>\n      <td>23.82</td>\n      <td>108.26</td>\n      <td>29.48</td>\n      <td>9.05</td>\n      <td>42.42</td>\n      <td>110.95</td>\n      <td>10.88</td>\n      <td>2.69</td>\n      <td>-18.60</td>\n      <td>I</td>\n      <td>(10:59) (Shotgun) M.Ryan pass incomplete short...</td>\n      <td>3</td>\n      <td>1</td>\n      <td>3</td>\n      <td>0</td>\n      <td>1</td>\n    </tr>\n    <tr>\n      <th>...</th>\n      <td>...</td>\n      <td>...</td>\n      <td>...</td>\n      <td>...</td>\n      <td>...</td>\n      <td>...</td>\n      <td>...</td>\n      <td>...</td>\n      <td>...</td>\n      <td>...</td>\n      <td>...</td>\n      <td>...</td>\n      <td>...</td>\n      <td>...</td>\n      <td>...</td>\n      <td>...</td>\n      <td>...</td>\n      <td>...</td>\n      <td>...</td>\n    </tr>\n    <tr>\n      <th>13907</th>\n      <td>2018121000</td>\n      <td>3747</td>\n      <td>74.85</td>\n      <td>23.43</td>\n      <td>74.85</td>\n      <td>23.43</td>\n      <td>77.34</td>\n      <td>4.73</td>\n      <td>77.34</td>\n      <td>4.73</td>\n      <td>2.49</td>\n      <td>-18.70</td>\n      <td>I</td>\n      <td>(2:01) (No Huddle, Shotgun) K.Cousins pass inc...</td>\n      <td>1</td>\n      <td>10</td>\n      <td>2</td>\n      <td>0</td>\n      <td>14</td>\n    </tr>\n    <tr>\n      <th>13908</th>\n      <td>2018121000</td>\n      <td>3786</td>\n      <td>74.91</td>\n      <td>23.77</td>\n      <td>74.91</td>\n      <td>23.77</td>\n      <td>85.24</td>\n      <td>51.15</td>\n      <td>85.24</td>\n      <td>51.15</td>\n      <td>10.33</td>\n      <td>27.38</td>\n      <td>C</td>\n      <td>(1:56) (Shotgun) K.Cousins pass short left to ...</td>\n      <td>2</td>\n      <td>10</td>\n      <td>3</td>\n      <td>3</td>\n      <td>14</td>\n    </tr>\n    <tr>\n      <th>13909</th>\n      <td>2018121000</td>\n      <td>3817</td>\n      <td>86.71</td>\n      <td>29.66</td>\n      <td>86.71</td>\n      <td>29.66</td>\n      <td>109.75</td>\n      <td>27.32</td>\n      <td>109.75</td>\n      <td>27.32</td>\n      <td>23.04</td>\n      <td>-2.34</td>\n      <td>I</td>\n      <td>(1:51) (Shotgun) K.Cousins pass incomplete dee...</td>\n      <td>1</td>\n      <td>10</td>\n      <td>4</td>\n      <td>1</td>\n      <td>14</td>\n    </tr>\n    <tr>\n      <th>13910</th>\n      <td>2018121000</td>\n      <td>3839</td>\n      <td>86.89</td>\n      <td>29.79</td>\n      <td>86.89</td>\n      <td>29.79</td>\n      <td>82.40</td>\n      <td>38.56</td>\n      <td>82.40</td>\n      <td>38.56</td>\n      <td>-4.49</td>\n      <td>8.77</td>\n      <td>C</td>\n      <td>(1:45) (Shotgun) K.Cousins pass short left to ...</td>\n      <td>2</td>\n      <td>10</td>\n      <td>1</td>\n      <td>2</td>\n      <td>14</td>\n    </tr>\n    <tr>\n      <th>13911</th>\n      <td>2018121000</td>\n      <td>3864</td>\n      <td>103.75</td>\n      <td>29.76</td>\n      <td>103.75</td>\n      <td>29.76</td>\n      <td>106.46</td>\n      <td>32.41</td>\n      <td>106.46</td>\n      <td>32.41</td>\n      <td>2.71</td>\n      <td>2.65</td>\n      <td>TD</td>\n      <td>(1:17) (No Huddle, Shotgun) K.Cousins pass sho...</td>\n      <td>1</td>\n      <td>6</td>\n      <td>2</td>\n      <td>2</td>\n      <td>14</td>\n    </tr>\n  </tbody>\n</table>\n<p>13912 rows × 19 columns</p>\n</div>"
     },
     "execution_count": 181,
     "metadata": {},
     "output_type": "execute_result"
    }
   ],
   "source": [
    "y_train"
   ],
   "metadata": {
    "collapsed": false,
    "pycharm": {
     "name": "#%%\n"
    }
   }
  },
  {
   "cell_type": "code",
   "execution_count": 180,
   "outputs": [
    {
     "ename": "ValueError",
     "evalue": "could not convert string to float: 'I_FORM'",
     "output_type": "error",
     "traceback": [
      "\u001B[0;31m---------------------------------------------------------------------------\u001B[0m",
      "\u001B[0;31mValueError\u001B[0m                                Traceback (most recent call last)",
      "\u001B[0;32m/var/folders/6v/8jcf0jcn7_vfm2q2r4tz44gh0000gn/T/ipykernel_68454/3499375106.py\u001B[0m in \u001B[0;36m<module>\u001B[0;34m\u001B[0m\n\u001B[0;32m----> 1\u001B[0;31m \u001B[0mLogisticRegression\u001B[0m\u001B[0;34m(\u001B[0m\u001B[0;34m)\u001B[0m\u001B[0;34m.\u001B[0m\u001B[0mfit\u001B[0m\u001B[0;34m(\u001B[0m\u001B[0mdata\u001B[0m\u001B[0;34m,\u001B[0m \u001B[0my_train\u001B[0m\u001B[0;34m)\u001B[0m\u001B[0;34m\u001B[0m\u001B[0;34m\u001B[0m\u001B[0m\n\u001B[0m",
      "\u001B[0;32m/opt/anaconda3/lib/python3.8/site-packages/sklearn/linear_model/_logistic.py\u001B[0m in \u001B[0;36mfit\u001B[0;34m(self, X, y, sample_weight)\u001B[0m\n\u001B[1;32m   1506\u001B[0m             \u001B[0m_dtype\u001B[0m \u001B[0;34m=\u001B[0m \u001B[0;34m[\u001B[0m\u001B[0mnp\u001B[0m\u001B[0;34m.\u001B[0m\u001B[0mfloat64\u001B[0m\u001B[0;34m,\u001B[0m \u001B[0mnp\u001B[0m\u001B[0;34m.\u001B[0m\u001B[0mfloat32\u001B[0m\u001B[0;34m]\u001B[0m\u001B[0;34m\u001B[0m\u001B[0;34m\u001B[0m\u001B[0m\n\u001B[1;32m   1507\u001B[0m \u001B[0;34m\u001B[0m\u001B[0m\n\u001B[0;32m-> 1508\u001B[0;31m         X, y = self._validate_data(\n\u001B[0m\u001B[1;32m   1509\u001B[0m             \u001B[0mX\u001B[0m\u001B[0;34m,\u001B[0m\u001B[0;34m\u001B[0m\u001B[0;34m\u001B[0m\u001B[0m\n\u001B[1;32m   1510\u001B[0m             \u001B[0my\u001B[0m\u001B[0;34m,\u001B[0m\u001B[0;34m\u001B[0m\u001B[0;34m\u001B[0m\u001B[0m\n",
      "\u001B[0;32m/opt/anaconda3/lib/python3.8/site-packages/sklearn/base.py\u001B[0m in \u001B[0;36m_validate_data\u001B[0;34m(self, X, y, reset, validate_separately, **check_params)\u001B[0m\n\u001B[1;32m    579\u001B[0m                 \u001B[0my\u001B[0m \u001B[0;34m=\u001B[0m \u001B[0mcheck_array\u001B[0m\u001B[0;34m(\u001B[0m\u001B[0my\u001B[0m\u001B[0;34m,\u001B[0m \u001B[0;34m**\u001B[0m\u001B[0mcheck_y_params\u001B[0m\u001B[0;34m)\u001B[0m\u001B[0;34m\u001B[0m\u001B[0;34m\u001B[0m\u001B[0m\n\u001B[1;32m    580\u001B[0m             \u001B[0;32melse\u001B[0m\u001B[0;34m:\u001B[0m\u001B[0;34m\u001B[0m\u001B[0;34m\u001B[0m\u001B[0m\n\u001B[0;32m--> 581\u001B[0;31m                 \u001B[0mX\u001B[0m\u001B[0;34m,\u001B[0m \u001B[0my\u001B[0m \u001B[0;34m=\u001B[0m \u001B[0mcheck_X_y\u001B[0m\u001B[0;34m(\u001B[0m\u001B[0mX\u001B[0m\u001B[0;34m,\u001B[0m \u001B[0my\u001B[0m\u001B[0;34m,\u001B[0m \u001B[0;34m**\u001B[0m\u001B[0mcheck_params\u001B[0m\u001B[0;34m)\u001B[0m\u001B[0;34m\u001B[0m\u001B[0;34m\u001B[0m\u001B[0m\n\u001B[0m\u001B[1;32m    582\u001B[0m             \u001B[0mout\u001B[0m \u001B[0;34m=\u001B[0m \u001B[0mX\u001B[0m\u001B[0;34m,\u001B[0m \u001B[0my\u001B[0m\u001B[0;34m\u001B[0m\u001B[0;34m\u001B[0m\u001B[0m\n\u001B[1;32m    583\u001B[0m \u001B[0;34m\u001B[0m\u001B[0m\n",
      "\u001B[0;32m/opt/anaconda3/lib/python3.8/site-packages/sklearn/utils/validation.py\u001B[0m in \u001B[0;36mcheck_X_y\u001B[0;34m(X, y, accept_sparse, accept_large_sparse, dtype, order, copy, force_all_finite, ensure_2d, allow_nd, multi_output, ensure_min_samples, ensure_min_features, y_numeric, estimator)\u001B[0m\n\u001B[1;32m    962\u001B[0m         \u001B[0;32mraise\u001B[0m \u001B[0mValueError\u001B[0m\u001B[0;34m(\u001B[0m\u001B[0;34m\"y cannot be None\"\u001B[0m\u001B[0;34m)\u001B[0m\u001B[0;34m\u001B[0m\u001B[0;34m\u001B[0m\u001B[0m\n\u001B[1;32m    963\u001B[0m \u001B[0;34m\u001B[0m\u001B[0m\n\u001B[0;32m--> 964\u001B[0;31m     X = check_array(\n\u001B[0m\u001B[1;32m    965\u001B[0m         \u001B[0mX\u001B[0m\u001B[0;34m,\u001B[0m\u001B[0;34m\u001B[0m\u001B[0;34m\u001B[0m\u001B[0m\n\u001B[1;32m    966\u001B[0m         \u001B[0maccept_sparse\u001B[0m\u001B[0;34m=\u001B[0m\u001B[0maccept_sparse\u001B[0m\u001B[0;34m,\u001B[0m\u001B[0;34m\u001B[0m\u001B[0;34m\u001B[0m\u001B[0m\n",
      "\u001B[0;32m/opt/anaconda3/lib/python3.8/site-packages/sklearn/utils/validation.py\u001B[0m in \u001B[0;36mcheck_array\u001B[0;34m(array, accept_sparse, accept_large_sparse, dtype, order, copy, force_all_finite, ensure_2d, allow_nd, ensure_min_samples, ensure_min_features, estimator)\u001B[0m\n\u001B[1;32m    744\u001B[0m                     \u001B[0marray\u001B[0m \u001B[0;34m=\u001B[0m \u001B[0marray\u001B[0m\u001B[0;34m.\u001B[0m\u001B[0mastype\u001B[0m\u001B[0;34m(\u001B[0m\u001B[0mdtype\u001B[0m\u001B[0;34m,\u001B[0m \u001B[0mcasting\u001B[0m\u001B[0;34m=\u001B[0m\u001B[0;34m\"unsafe\"\u001B[0m\u001B[0;34m,\u001B[0m \u001B[0mcopy\u001B[0m\u001B[0;34m=\u001B[0m\u001B[0;32mFalse\u001B[0m\u001B[0;34m)\u001B[0m\u001B[0;34m\u001B[0m\u001B[0;34m\u001B[0m\u001B[0m\n\u001B[1;32m    745\u001B[0m                 \u001B[0;32melse\u001B[0m\u001B[0;34m:\u001B[0m\u001B[0;34m\u001B[0m\u001B[0;34m\u001B[0m\u001B[0m\n\u001B[0;32m--> 746\u001B[0;31m                     \u001B[0marray\u001B[0m \u001B[0;34m=\u001B[0m \u001B[0mnp\u001B[0m\u001B[0;34m.\u001B[0m\u001B[0masarray\u001B[0m\u001B[0;34m(\u001B[0m\u001B[0marray\u001B[0m\u001B[0;34m,\u001B[0m \u001B[0morder\u001B[0m\u001B[0;34m=\u001B[0m\u001B[0morder\u001B[0m\u001B[0;34m,\u001B[0m \u001B[0mdtype\u001B[0m\u001B[0;34m=\u001B[0m\u001B[0mdtype\u001B[0m\u001B[0;34m)\u001B[0m\u001B[0;34m\u001B[0m\u001B[0;34m\u001B[0m\u001B[0m\n\u001B[0m\u001B[1;32m    747\u001B[0m             \u001B[0;32mexcept\u001B[0m \u001B[0mComplexWarning\u001B[0m \u001B[0;32mas\u001B[0m \u001B[0mcomplex_warning\u001B[0m\u001B[0;34m:\u001B[0m\u001B[0;34m\u001B[0m\u001B[0;34m\u001B[0m\u001B[0m\n\u001B[1;32m    748\u001B[0m                 raise ValueError(\n",
      "\u001B[0;32m/opt/anaconda3/lib/python3.8/site-packages/numpy/core/_asarray.py\u001B[0m in \u001B[0;36masarray\u001B[0;34m(a, dtype, order, like)\u001B[0m\n\u001B[1;32m    100\u001B[0m         \u001B[0;32mreturn\u001B[0m \u001B[0m_asarray_with_like\u001B[0m\u001B[0;34m(\u001B[0m\u001B[0ma\u001B[0m\u001B[0;34m,\u001B[0m \u001B[0mdtype\u001B[0m\u001B[0;34m=\u001B[0m\u001B[0mdtype\u001B[0m\u001B[0;34m,\u001B[0m \u001B[0morder\u001B[0m\u001B[0;34m=\u001B[0m\u001B[0morder\u001B[0m\u001B[0;34m,\u001B[0m \u001B[0mlike\u001B[0m\u001B[0;34m=\u001B[0m\u001B[0mlike\u001B[0m\u001B[0;34m)\u001B[0m\u001B[0;34m\u001B[0m\u001B[0;34m\u001B[0m\u001B[0m\n\u001B[1;32m    101\u001B[0m \u001B[0;34m\u001B[0m\u001B[0m\n\u001B[0;32m--> 102\u001B[0;31m     \u001B[0;32mreturn\u001B[0m \u001B[0marray\u001B[0m\u001B[0;34m(\u001B[0m\u001B[0ma\u001B[0m\u001B[0;34m,\u001B[0m \u001B[0mdtype\u001B[0m\u001B[0;34m,\u001B[0m \u001B[0mcopy\u001B[0m\u001B[0;34m=\u001B[0m\u001B[0;32mFalse\u001B[0m\u001B[0;34m,\u001B[0m \u001B[0morder\u001B[0m\u001B[0;34m=\u001B[0m\u001B[0morder\u001B[0m\u001B[0;34m)\u001B[0m\u001B[0;34m\u001B[0m\u001B[0;34m\u001B[0m\u001B[0m\n\u001B[0m\u001B[1;32m    103\u001B[0m \u001B[0;34m\u001B[0m\u001B[0m\n\u001B[1;32m    104\u001B[0m \u001B[0;34m\u001B[0m\u001B[0m\n",
      "\u001B[0;31mValueError\u001B[0m: could not convert string to float: 'I_FORM'"
     ]
    }
   ],
   "source": [
    "LogisticRegression().fit(data, y_train)"
   ],
   "metadata": {
    "collapsed": false,
    "pycharm": {
     "name": "#%%\n"
    }
   }
  },
  {
   "cell_type": "code",
   "execution_count": 169,
   "outputs": [
    {
     "name": "stdout",
     "output_type": "stream",
     "text": [
      "KMeans and PCA fitted\n",
      "Defensive position transformed\n"
     ]
    },
    {
     "data": {
      "text/plain": "<13920x5 sparse matrix of type '<class 'numpy.float64'>'\n\twith 13920 stored elements in Compressed Sparse Row format>"
     },
     "execution_count": 169,
     "metadata": {},
     "output_type": "execute_result"
    }
   ],
   "source": [
    "def_full_pipe.fit_transform(X_train[def_col])"
   ],
   "metadata": {
    "collapsed": false,
    "pycharm": {
     "name": "#%%\n"
    }
   }
  },
  {
   "cell_type": "code",
   "execution_count": 107,
   "outputs": [
    {
     "data": {
      "text/plain": "         FBL0_x    FBR0_x    HBL0_x    HBL1_x    HBR0_x    HBR1_x     QB0_x  \\\n0     -5.051531  0.059902  0.095219  0.001447  0.086014  0.000468  2.541775   \n1      0.068469  0.059902  0.095219  0.001447  0.086014  0.000468  2.671775   \n2      0.068469  0.059902  0.095219  0.001447  0.086014  0.000468 -1.288225   \n3      0.068469  0.059902  0.095219  0.001447  0.086014  0.000468 -0.898225   \n4      0.068469 -4.530098  0.095219  0.001447  0.086014  0.000468 -0.608225   \n...         ...       ...       ...       ...       ...       ...       ...   \n13915  0.068469  0.059902  0.095219  0.001447  0.086014  0.000468 -0.098225   \n13916  0.068469  0.059902  0.095219  0.001447  0.086014  0.000468 -0.338225   \n13917  0.068469  0.059902  0.095219  0.001447  0.086014  0.000468 -0.578225   \n13918  0.068469  0.059902  0.095219  0.001447  0.086014  0.000468 -0.258225   \n13919  0.068469  0.059902  0.095219  0.001447  0.086014  0.000468 -0.208225   \n\n          QB1_x    RBL0_x    RBL1_x  \n0      0.013234  2.420381  0.031098  \n1      0.013234 -4.949619  0.031098  \n2      0.013234  2.420381  0.031098  \n3      0.013234 -1.819619  0.031098  \n4      0.013234  1.090381  0.031098  \n...         ...       ...       ...  \n13915  0.013234 -2.439619  0.031098  \n13916  0.013234  2.420381  0.031098  \n13917  0.013234  2.420381  0.031098  \n13918  0.013234  2.420381  0.031098  \n13919  0.013234  2.420381  0.031098  \n\n[13920 rows x 10 columns]",
      "text/html": "<div>\n<style scoped>\n    .dataframe tbody tr th:only-of-type {\n        vertical-align: middle;\n    }\n\n    .dataframe tbody tr th {\n        vertical-align: top;\n    }\n\n    .dataframe thead th {\n        text-align: right;\n    }\n</style>\n<table border=\"1\" class=\"dataframe\">\n  <thead>\n    <tr style=\"text-align: right;\">\n      <th></th>\n      <th>FBL0_x</th>\n      <th>FBR0_x</th>\n      <th>HBL0_x</th>\n      <th>HBL1_x</th>\n      <th>HBR0_x</th>\n      <th>HBR1_x</th>\n      <th>QB0_x</th>\n      <th>QB1_x</th>\n      <th>RBL0_x</th>\n      <th>RBL1_x</th>\n    </tr>\n  </thead>\n  <tbody>\n    <tr>\n      <th>0</th>\n      <td>-5.051531</td>\n      <td>0.059902</td>\n      <td>0.095219</td>\n      <td>0.001447</td>\n      <td>0.086014</td>\n      <td>0.000468</td>\n      <td>2.541775</td>\n      <td>0.013234</td>\n      <td>2.420381</td>\n      <td>0.031098</td>\n    </tr>\n    <tr>\n      <th>1</th>\n      <td>0.068469</td>\n      <td>0.059902</td>\n      <td>0.095219</td>\n      <td>0.001447</td>\n      <td>0.086014</td>\n      <td>0.000468</td>\n      <td>2.671775</td>\n      <td>0.013234</td>\n      <td>-4.949619</td>\n      <td>0.031098</td>\n    </tr>\n    <tr>\n      <th>2</th>\n      <td>0.068469</td>\n      <td>0.059902</td>\n      <td>0.095219</td>\n      <td>0.001447</td>\n      <td>0.086014</td>\n      <td>0.000468</td>\n      <td>-1.288225</td>\n      <td>0.013234</td>\n      <td>2.420381</td>\n      <td>0.031098</td>\n    </tr>\n    <tr>\n      <th>3</th>\n      <td>0.068469</td>\n      <td>0.059902</td>\n      <td>0.095219</td>\n      <td>0.001447</td>\n      <td>0.086014</td>\n      <td>0.000468</td>\n      <td>-0.898225</td>\n      <td>0.013234</td>\n      <td>-1.819619</td>\n      <td>0.031098</td>\n    </tr>\n    <tr>\n      <th>4</th>\n      <td>0.068469</td>\n      <td>-4.530098</td>\n      <td>0.095219</td>\n      <td>0.001447</td>\n      <td>0.086014</td>\n      <td>0.000468</td>\n      <td>-0.608225</td>\n      <td>0.013234</td>\n      <td>1.090381</td>\n      <td>0.031098</td>\n    </tr>\n    <tr>\n      <th>...</th>\n      <td>...</td>\n      <td>...</td>\n      <td>...</td>\n      <td>...</td>\n      <td>...</td>\n      <td>...</td>\n      <td>...</td>\n      <td>...</td>\n      <td>...</td>\n      <td>...</td>\n    </tr>\n    <tr>\n      <th>13915</th>\n      <td>0.068469</td>\n      <td>0.059902</td>\n      <td>0.095219</td>\n      <td>0.001447</td>\n      <td>0.086014</td>\n      <td>0.000468</td>\n      <td>-0.098225</td>\n      <td>0.013234</td>\n      <td>-2.439619</td>\n      <td>0.031098</td>\n    </tr>\n    <tr>\n      <th>13916</th>\n      <td>0.068469</td>\n      <td>0.059902</td>\n      <td>0.095219</td>\n      <td>0.001447</td>\n      <td>0.086014</td>\n      <td>0.000468</td>\n      <td>-0.338225</td>\n      <td>0.013234</td>\n      <td>2.420381</td>\n      <td>0.031098</td>\n    </tr>\n    <tr>\n      <th>13917</th>\n      <td>0.068469</td>\n      <td>0.059902</td>\n      <td>0.095219</td>\n      <td>0.001447</td>\n      <td>0.086014</td>\n      <td>0.000468</td>\n      <td>-0.578225</td>\n      <td>0.013234</td>\n      <td>2.420381</td>\n      <td>0.031098</td>\n    </tr>\n    <tr>\n      <th>13918</th>\n      <td>0.068469</td>\n      <td>0.059902</td>\n      <td>0.095219</td>\n      <td>0.001447</td>\n      <td>0.086014</td>\n      <td>0.000468</td>\n      <td>-0.258225</td>\n      <td>0.013234</td>\n      <td>2.420381</td>\n      <td>0.031098</td>\n    </tr>\n    <tr>\n      <th>13919</th>\n      <td>0.068469</td>\n      <td>0.059902</td>\n      <td>0.095219</td>\n      <td>0.001447</td>\n      <td>0.086014</td>\n      <td>0.000468</td>\n      <td>-0.208225</td>\n      <td>0.013234</td>\n      <td>2.420381</td>\n      <td>0.031098</td>\n    </tr>\n  </tbody>\n</table>\n<p>13920 rows × 10 columns</p>\n</div>"
     },
     "execution_count": 107,
     "metadata": {},
     "output_type": "execute_result"
    }
   ],
   "source": [
    "(X_train.iloc[:, :10] - X_train.iloc[:, :10].mean(axis=0).values.reshape(1, -1)) /"
   ],
   "metadata": {
    "collapsed": false,
    "pycharm": {
     "name": "#%%\n"
    }
   }
  },
  {
   "cell_type": "code",
   "execution_count": 104,
   "outputs": [
    {
     "data": {
      "text/plain": "       FBL0_x  FBR0_x  HBL0_x  HBL1_x  HBR0_x  HBR1_x  QB0_x  QB1_x  RBL0_x  \\\n0       -5.12    0.00     0.0     0.0     0.0     0.0  -1.73    0.0    0.00   \n1        0.00    0.00     0.0     0.0     0.0     0.0  -1.60    0.0   -7.37   \n2        0.00    0.00     0.0     0.0     0.0     0.0  -5.56    0.0    0.00   \n3        0.00    0.00     0.0     0.0     0.0     0.0  -5.17    0.0   -4.24   \n4        0.00   -4.59     0.0     0.0     0.0     0.0  -4.88    0.0   -1.33   \n...       ...     ...     ...     ...     ...     ...    ...    ...     ...   \n13915    0.00    0.00     0.0     0.0     0.0     0.0  -4.37    0.0   -4.86   \n13916    0.00    0.00     0.0     0.0     0.0     0.0  -4.61    0.0    0.00   \n13917    0.00    0.00     0.0     0.0     0.0     0.0  -4.85    0.0    0.00   \n13918    0.00    0.00     0.0     0.0     0.0     0.0  -4.53    0.0    0.00   \n13919    0.00    0.00     0.0     0.0     0.0     0.0  -4.48    0.0    0.00   \n\n       RBL1_x  ...  SSL2_y_start  SSR0_act  SSR0_x_start  SSR0_y_start  \\\n0         0.0  ...           0.0         M          1.11         -9.87   \n1         0.0  ...           0.0         Z          2.45        -12.48   \n2         0.0  ...           0.0         0          0.00          0.00   \n3         0.0  ...           0.0         0          0.00          0.00   \n4         0.0  ...           0.0         M          1.23        -15.01   \n...       ...  ...           ...       ...           ...           ...   \n13915     0.0  ...           0.0         M         11.58        -11.14   \n13916     0.0  ...           0.0         M          5.69        -10.15   \n13917     0.0  ...           0.0         0          0.00          0.00   \n13918     0.0  ...           0.0         M         13.88         -5.15   \n13919     0.0  ...           0.0         M          9.04         -2.74   \n\n       SSR1_act  SSR1_x_start  SSR1_y_start  SSR2_act  SSR2_x_start  \\\n0             0          0.00          0.00         0           0.0   \n1             0          0.00          0.00         0           0.0   \n2             0          0.00          0.00         0           0.0   \n3             0          0.00          0.00         0           0.0   \n4             0          0.00          0.00         0           0.0   \n...         ...           ...           ...       ...           ...   \n13915         M          5.33        -11.15         0           0.0   \n13916         M         13.78        -11.31         0           0.0   \n13917         0          0.00          0.00         0           0.0   \n13918         0          0.00          0.00         0           0.0   \n13919         0          0.00          0.00         0           0.0   \n\n       SSR2_y_start  \n0               0.0  \n1               0.0  \n2               0.0  \n3               0.0  \n4               0.0  \n...             ...  \n13915           0.0  \n13916           0.0  \n13917           0.0  \n13918           0.0  \n13919           0.0  \n\n[13920 rows x 286 columns]",
      "text/html": "<div>\n<style scoped>\n    .dataframe tbody tr th:only-of-type {\n        vertical-align: middle;\n    }\n\n    .dataframe tbody tr th {\n        vertical-align: top;\n    }\n\n    .dataframe thead th {\n        text-align: right;\n    }\n</style>\n<table border=\"1\" class=\"dataframe\">\n  <thead>\n    <tr style=\"text-align: right;\">\n      <th></th>\n      <th>FBL0_x</th>\n      <th>FBR0_x</th>\n      <th>HBL0_x</th>\n      <th>HBL1_x</th>\n      <th>HBR0_x</th>\n      <th>HBR1_x</th>\n      <th>QB0_x</th>\n      <th>QB1_x</th>\n      <th>RBL0_x</th>\n      <th>RBL1_x</th>\n      <th>...</th>\n      <th>SSL2_y_start</th>\n      <th>SSR0_act</th>\n      <th>SSR0_x_start</th>\n      <th>SSR0_y_start</th>\n      <th>SSR1_act</th>\n      <th>SSR1_x_start</th>\n      <th>SSR1_y_start</th>\n      <th>SSR2_act</th>\n      <th>SSR2_x_start</th>\n      <th>SSR2_y_start</th>\n    </tr>\n  </thead>\n  <tbody>\n    <tr>\n      <th>0</th>\n      <td>-5.12</td>\n      <td>0.00</td>\n      <td>0.0</td>\n      <td>0.0</td>\n      <td>0.0</td>\n      <td>0.0</td>\n      <td>-1.73</td>\n      <td>0.0</td>\n      <td>0.00</td>\n      <td>0.0</td>\n      <td>...</td>\n      <td>0.0</td>\n      <td>M</td>\n      <td>1.11</td>\n      <td>-9.87</td>\n      <td>0</td>\n      <td>0.00</td>\n      <td>0.00</td>\n      <td>0</td>\n      <td>0.0</td>\n      <td>0.0</td>\n    </tr>\n    <tr>\n      <th>1</th>\n      <td>0.00</td>\n      <td>0.00</td>\n      <td>0.0</td>\n      <td>0.0</td>\n      <td>0.0</td>\n      <td>0.0</td>\n      <td>-1.60</td>\n      <td>0.0</td>\n      <td>-7.37</td>\n      <td>0.0</td>\n      <td>...</td>\n      <td>0.0</td>\n      <td>Z</td>\n      <td>2.45</td>\n      <td>-12.48</td>\n      <td>0</td>\n      <td>0.00</td>\n      <td>0.00</td>\n      <td>0</td>\n      <td>0.0</td>\n      <td>0.0</td>\n    </tr>\n    <tr>\n      <th>2</th>\n      <td>0.00</td>\n      <td>0.00</td>\n      <td>0.0</td>\n      <td>0.0</td>\n      <td>0.0</td>\n      <td>0.0</td>\n      <td>-5.56</td>\n      <td>0.0</td>\n      <td>0.00</td>\n      <td>0.0</td>\n      <td>...</td>\n      <td>0.0</td>\n      <td>0</td>\n      <td>0.00</td>\n      <td>0.00</td>\n      <td>0</td>\n      <td>0.00</td>\n      <td>0.00</td>\n      <td>0</td>\n      <td>0.0</td>\n      <td>0.0</td>\n    </tr>\n    <tr>\n      <th>3</th>\n      <td>0.00</td>\n      <td>0.00</td>\n      <td>0.0</td>\n      <td>0.0</td>\n      <td>0.0</td>\n      <td>0.0</td>\n      <td>-5.17</td>\n      <td>0.0</td>\n      <td>-4.24</td>\n      <td>0.0</td>\n      <td>...</td>\n      <td>0.0</td>\n      <td>0</td>\n      <td>0.00</td>\n      <td>0.00</td>\n      <td>0</td>\n      <td>0.00</td>\n      <td>0.00</td>\n      <td>0</td>\n      <td>0.0</td>\n      <td>0.0</td>\n    </tr>\n    <tr>\n      <th>4</th>\n      <td>0.00</td>\n      <td>-4.59</td>\n      <td>0.0</td>\n      <td>0.0</td>\n      <td>0.0</td>\n      <td>0.0</td>\n      <td>-4.88</td>\n      <td>0.0</td>\n      <td>-1.33</td>\n      <td>0.0</td>\n      <td>...</td>\n      <td>0.0</td>\n      <td>M</td>\n      <td>1.23</td>\n      <td>-15.01</td>\n      <td>0</td>\n      <td>0.00</td>\n      <td>0.00</td>\n      <td>0</td>\n      <td>0.0</td>\n      <td>0.0</td>\n    </tr>\n    <tr>\n      <th>...</th>\n      <td>...</td>\n      <td>...</td>\n      <td>...</td>\n      <td>...</td>\n      <td>...</td>\n      <td>...</td>\n      <td>...</td>\n      <td>...</td>\n      <td>...</td>\n      <td>...</td>\n      <td>...</td>\n      <td>...</td>\n      <td>...</td>\n      <td>...</td>\n      <td>...</td>\n      <td>...</td>\n      <td>...</td>\n      <td>...</td>\n      <td>...</td>\n      <td>...</td>\n      <td>...</td>\n    </tr>\n    <tr>\n      <th>13915</th>\n      <td>0.00</td>\n      <td>0.00</td>\n      <td>0.0</td>\n      <td>0.0</td>\n      <td>0.0</td>\n      <td>0.0</td>\n      <td>-4.37</td>\n      <td>0.0</td>\n      <td>-4.86</td>\n      <td>0.0</td>\n      <td>...</td>\n      <td>0.0</td>\n      <td>M</td>\n      <td>11.58</td>\n      <td>-11.14</td>\n      <td>M</td>\n      <td>5.33</td>\n      <td>-11.15</td>\n      <td>0</td>\n      <td>0.0</td>\n      <td>0.0</td>\n    </tr>\n    <tr>\n      <th>13916</th>\n      <td>0.00</td>\n      <td>0.00</td>\n      <td>0.0</td>\n      <td>0.0</td>\n      <td>0.0</td>\n      <td>0.0</td>\n      <td>-4.61</td>\n      <td>0.0</td>\n      <td>0.00</td>\n      <td>0.0</td>\n      <td>...</td>\n      <td>0.0</td>\n      <td>M</td>\n      <td>5.69</td>\n      <td>-10.15</td>\n      <td>M</td>\n      <td>13.78</td>\n      <td>-11.31</td>\n      <td>0</td>\n      <td>0.0</td>\n      <td>0.0</td>\n    </tr>\n    <tr>\n      <th>13917</th>\n      <td>0.00</td>\n      <td>0.00</td>\n      <td>0.0</td>\n      <td>0.0</td>\n      <td>0.0</td>\n      <td>0.0</td>\n      <td>-4.85</td>\n      <td>0.0</td>\n      <td>0.00</td>\n      <td>0.0</td>\n      <td>...</td>\n      <td>0.0</td>\n      <td>0</td>\n      <td>0.00</td>\n      <td>0.00</td>\n      <td>0</td>\n      <td>0.00</td>\n      <td>0.00</td>\n      <td>0</td>\n      <td>0.0</td>\n      <td>0.0</td>\n    </tr>\n    <tr>\n      <th>13918</th>\n      <td>0.00</td>\n      <td>0.00</td>\n      <td>0.0</td>\n      <td>0.0</td>\n      <td>0.0</td>\n      <td>0.0</td>\n      <td>-4.53</td>\n      <td>0.0</td>\n      <td>0.00</td>\n      <td>0.0</td>\n      <td>...</td>\n      <td>0.0</td>\n      <td>M</td>\n      <td>13.88</td>\n      <td>-5.15</td>\n      <td>0</td>\n      <td>0.00</td>\n      <td>0.00</td>\n      <td>0</td>\n      <td>0.0</td>\n      <td>0.0</td>\n    </tr>\n    <tr>\n      <th>13919</th>\n      <td>0.00</td>\n      <td>0.00</td>\n      <td>0.0</td>\n      <td>0.0</td>\n      <td>0.0</td>\n      <td>0.0</td>\n      <td>-4.48</td>\n      <td>0.0</td>\n      <td>0.00</td>\n      <td>0.0</td>\n      <td>...</td>\n      <td>0.0</td>\n      <td>M</td>\n      <td>9.04</td>\n      <td>-2.74</td>\n      <td>0</td>\n      <td>0.00</td>\n      <td>0.00</td>\n      <td>0</td>\n      <td>0.0</td>\n      <td>0.0</td>\n    </tr>\n  </tbody>\n</table>\n<p>13920 rows × 286 columns</p>\n</div>"
     },
     "execution_count": 104,
     "metadata": {},
     "output_type": "execute_result"
    }
   ],
   "source": [
    "X_train"
   ],
   "metadata": {
    "collapsed": false,
    "pycharm": {
     "name": "#%%\n"
    }
   }
  },
  {
   "cell_type": "code",
   "execution_count": null,
   "outputs": [],
   "source": [],
   "metadata": {
    "collapsed": false,
    "pycharm": {
     "name": "#%%\n"
    }
   }
  }
 ],
 "metadata": {
  "kernelspec": {
   "display_name": "Python 3",
   "language": "python",
   "name": "python3"
  },
  "language_info": {
   "codemirror_mode": {
    "name": "ipython",
    "version": 2
   },
   "file_extension": ".py",
   "mimetype": "text/x-python",
   "name": "python",
   "nbconvert_exporter": "python",
   "pygments_lexer": "ipython2",
   "version": "2.7.6"
  }
 },
 "nbformat": 4,
 "nbformat_minor": 0
}