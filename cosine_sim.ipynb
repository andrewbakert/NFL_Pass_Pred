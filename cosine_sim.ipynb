{
 "cells": [
  {
   "cell_type": "code",
   "execution_count": 2,
   "metadata": {
    "collapsed": true
   },
   "outputs": [
    {
     "name": "stdout",
     "output_type": "stream",
     "text": [
      "..............................initializing\n",
      "..data downloaded...\n",
      "...filtered...\n",
      "...transformed...\n",
      "...time reduced...\n",
      "...starting dataframe generated...\n",
      "...distance calculated...\n",
      "...action type dataframe generated...\n",
      ".....Week 1 COMPLETE.....\n",
      "\n",
      "   100.0% COMPLETE   \n",
      "\n",
      "--- 1.2 minutes elapsed ---\n",
      "\n",
      "the weeks complete:  [1]\n",
      "...filtered...\n",
      "...transformed...\n",
      "...time reduced...\n",
      "...starting dataframe generated...\n",
      "...distance calculated...\n",
      "...action type dataframe generated...\n",
      ".....Week 2 COMPLETE.....\n",
      "\n",
      "   200.0% COMPLETE   \n",
      "\n",
      "--- 2.7 minutes elapsed ---\n",
      "\n",
      "the weeks complete:  [1 2]\n",
      "Defensive cleaning complete --- check assets/def_clean_output.csv\n"
     ]
    }
   ],
   "source": [
    "from def_clean import DefensiveCleaning\n",
    "\n",
    "def_cleaning = DefensiveCleaning(n_cuts=5)\n",
    "trans = def_cleaning.generate_full_df(1, 2)"
   ]
  },
  {
   "cell_type": "code",
   "execution_count": 3,
   "outputs": [
    {
     "data": {
      "text/plain": "posId             CBL0_act CBL0_x_start CBL0_y_start CBL1_act CBL1_x_start  \\\ngameId     playId                                                            \n2018090600 75            M        83.92        43.44      NaN          NaN   \n           146           M        41.61        39.97      NaN          NaN   \n           168           M        45.52        43.81      NaN          NaN   \n           190           Z        43.91        37.25      NaN          NaN   \n           256         NaN          NaN          NaN      NaN          NaN   \n...                    ...          ...          ...      ...          ...   \n2018091700 4004          M        53.15        40.11      NaN          NaN   \n           4037          M       44.535        43.71      NaN          NaN   \n           4104          Z        31.84        39.34        M        25.43   \n           4128          M        14.32        36.26        M        12.65   \n           4174          M       10.555       39.975      NaN          NaN   \n\nposId             CBL1_y_start CBL2_act CBL2_x_start CBL2_y_start CBR0_act  \\\ngameId     playId                                                            \n2018090600 75              NaN      NaN          NaN          NaN        M   \n           146             NaN      NaN          NaN          NaN        M   \n           168             NaN      NaN          NaN          NaN        M   \n           190             NaN      NaN          NaN          NaN        M   \n           256             NaN      NaN          NaN          NaN      NaN   \n...                        ...      ...          ...          ...      ...   \n2018091700 4004            NaN      NaN          NaN          NaN      NaN   \n           4037            NaN      NaN          NaN          NaN      NaN   \n           4104          46.21      NaN          NaN          NaN        M   \n           4128           44.9      NaN          NaN          NaN        M   \n           4174            NaN      NaN          NaN          NaN      NaN   \n\nposId              ... SSL0_y_start SSL1_act SSL1_x_start SSL1_y_start  \\\ngameId     playId  ...                                                   \n2018090600 75      ...         36.5      NaN          NaN          NaN   \n           146     ...        36.07      NaN          NaN          NaN   \n           168     ...          NaN      NaN          NaN          NaN   \n           190     ...          NaN      NaN          NaN          NaN   \n           256     ...        44.83      NaN          NaN          NaN   \n...                ...          ...      ...          ...          ...   \n2018091700 4004    ...          NaN      NaN          NaN          NaN   \n           4037    ...          NaN      NaN          NaN          NaN   \n           4104    ...          NaN      NaN          NaN          NaN   \n           4128    ...          NaN      NaN          NaN          NaN   \n           4174    ...          NaN      NaN          NaN          NaN   \n\nposId             SSR0_act SSR0_x_start SSR0_y_start SSR1_act SSR1_x_start  \\\ngameId     playId                                                            \n2018090600 75          NaN          NaN          NaN      NaN          NaN   \n           146         NaN          NaN          NaN      NaN          NaN   \n           168           M        46.43        20.74      NaN          NaN   \n           190           M        45.69        22.36      NaN          NaN   \n           256         NaN          NaN          NaN      NaN          NaN   \n...                    ...          ...          ...      ...          ...   \n2018091700 4004        NaN          NaN          NaN      NaN          NaN   \n           4037        NaN          NaN          NaN      NaN          NaN   \n           4104        NaN          NaN          NaN      NaN          NaN   \n           4128        NaN          NaN          NaN      NaN          NaN   \n           4174        NaN          NaN          NaN      NaN          NaN   \n\nposId             SSR1_y_start  \ngameId     playId               \n2018090600 75              NaN  \n           146             NaN  \n           168             NaN  \n           190             NaN  \n           256             NaN  \n...                        ...  \n2018091700 4004            NaN  \n           4037            NaN  \n           4104            NaN  \n           4128            NaN  \n           4174            NaN  \n\n[2060 rows x 162 columns]",
      "text/html": "<div>\n<style scoped>\n    .dataframe tbody tr th:only-of-type {\n        vertical-align: middle;\n    }\n\n    .dataframe tbody tr th {\n        vertical-align: top;\n    }\n\n    .dataframe thead th {\n        text-align: right;\n    }\n</style>\n<table border=\"1\" class=\"dataframe\">\n  <thead>\n    <tr style=\"text-align: right;\">\n      <th></th>\n      <th>posId</th>\n      <th>CBL0_act</th>\n      <th>CBL0_x_start</th>\n      <th>CBL0_y_start</th>\n      <th>CBL1_act</th>\n      <th>CBL1_x_start</th>\n      <th>CBL1_y_start</th>\n      <th>CBL2_act</th>\n      <th>CBL2_x_start</th>\n      <th>CBL2_y_start</th>\n      <th>CBR0_act</th>\n      <th>...</th>\n      <th>SSL0_y_start</th>\n      <th>SSL1_act</th>\n      <th>SSL1_x_start</th>\n      <th>SSL1_y_start</th>\n      <th>SSR0_act</th>\n      <th>SSR0_x_start</th>\n      <th>SSR0_y_start</th>\n      <th>SSR1_act</th>\n      <th>SSR1_x_start</th>\n      <th>SSR1_y_start</th>\n    </tr>\n    <tr>\n      <th>gameId</th>\n      <th>playId</th>\n      <th></th>\n      <th></th>\n      <th></th>\n      <th></th>\n      <th></th>\n      <th></th>\n      <th></th>\n      <th></th>\n      <th></th>\n      <th></th>\n      <th></th>\n      <th></th>\n      <th></th>\n      <th></th>\n      <th></th>\n      <th></th>\n      <th></th>\n      <th></th>\n      <th></th>\n      <th></th>\n      <th></th>\n    </tr>\n  </thead>\n  <tbody>\n    <tr>\n      <th rowspan=\"5\" valign=\"top\">2018090600</th>\n      <th>75</th>\n      <td>M</td>\n      <td>83.92</td>\n      <td>43.44</td>\n      <td>NaN</td>\n      <td>NaN</td>\n      <td>NaN</td>\n      <td>NaN</td>\n      <td>NaN</td>\n      <td>NaN</td>\n      <td>M</td>\n      <td>...</td>\n      <td>36.5</td>\n      <td>NaN</td>\n      <td>NaN</td>\n      <td>NaN</td>\n      <td>NaN</td>\n      <td>NaN</td>\n      <td>NaN</td>\n      <td>NaN</td>\n      <td>NaN</td>\n      <td>NaN</td>\n    </tr>\n    <tr>\n      <th>146</th>\n      <td>M</td>\n      <td>41.61</td>\n      <td>39.97</td>\n      <td>NaN</td>\n      <td>NaN</td>\n      <td>NaN</td>\n      <td>NaN</td>\n      <td>NaN</td>\n      <td>NaN</td>\n      <td>M</td>\n      <td>...</td>\n      <td>36.07</td>\n      <td>NaN</td>\n      <td>NaN</td>\n      <td>NaN</td>\n      <td>NaN</td>\n      <td>NaN</td>\n      <td>NaN</td>\n      <td>NaN</td>\n      <td>NaN</td>\n      <td>NaN</td>\n    </tr>\n    <tr>\n      <th>168</th>\n      <td>M</td>\n      <td>45.52</td>\n      <td>43.81</td>\n      <td>NaN</td>\n      <td>NaN</td>\n      <td>NaN</td>\n      <td>NaN</td>\n      <td>NaN</td>\n      <td>NaN</td>\n      <td>M</td>\n      <td>...</td>\n      <td>NaN</td>\n      <td>NaN</td>\n      <td>NaN</td>\n      <td>NaN</td>\n      <td>M</td>\n      <td>46.43</td>\n      <td>20.74</td>\n      <td>NaN</td>\n      <td>NaN</td>\n      <td>NaN</td>\n    </tr>\n    <tr>\n      <th>190</th>\n      <td>Z</td>\n      <td>43.91</td>\n      <td>37.25</td>\n      <td>NaN</td>\n      <td>NaN</td>\n      <td>NaN</td>\n      <td>NaN</td>\n      <td>NaN</td>\n      <td>NaN</td>\n      <td>M</td>\n      <td>...</td>\n      <td>NaN</td>\n      <td>NaN</td>\n      <td>NaN</td>\n      <td>NaN</td>\n      <td>M</td>\n      <td>45.69</td>\n      <td>22.36</td>\n      <td>NaN</td>\n      <td>NaN</td>\n      <td>NaN</td>\n    </tr>\n    <tr>\n      <th>256</th>\n      <td>NaN</td>\n      <td>NaN</td>\n      <td>NaN</td>\n      <td>NaN</td>\n      <td>NaN</td>\n      <td>NaN</td>\n      <td>NaN</td>\n      <td>NaN</td>\n      <td>NaN</td>\n      <td>NaN</td>\n      <td>...</td>\n      <td>44.83</td>\n      <td>NaN</td>\n      <td>NaN</td>\n      <td>NaN</td>\n      <td>NaN</td>\n      <td>NaN</td>\n      <td>NaN</td>\n      <td>NaN</td>\n      <td>NaN</td>\n      <td>NaN</td>\n    </tr>\n    <tr>\n      <th>...</th>\n      <th>...</th>\n      <td>...</td>\n      <td>...</td>\n      <td>...</td>\n      <td>...</td>\n      <td>...</td>\n      <td>...</td>\n      <td>...</td>\n      <td>...</td>\n      <td>...</td>\n      <td>...</td>\n      <td>...</td>\n      <td>...</td>\n      <td>...</td>\n      <td>...</td>\n      <td>...</td>\n      <td>...</td>\n      <td>...</td>\n      <td>...</td>\n      <td>...</td>\n      <td>...</td>\n      <td>...</td>\n    </tr>\n    <tr>\n      <th rowspan=\"5\" valign=\"top\">2018091700</th>\n      <th>4004</th>\n      <td>M</td>\n      <td>53.15</td>\n      <td>40.11</td>\n      <td>NaN</td>\n      <td>NaN</td>\n      <td>NaN</td>\n      <td>NaN</td>\n      <td>NaN</td>\n      <td>NaN</td>\n      <td>NaN</td>\n      <td>...</td>\n      <td>NaN</td>\n      <td>NaN</td>\n      <td>NaN</td>\n      <td>NaN</td>\n      <td>NaN</td>\n      <td>NaN</td>\n      <td>NaN</td>\n      <td>NaN</td>\n      <td>NaN</td>\n      <td>NaN</td>\n    </tr>\n    <tr>\n      <th>4037</th>\n      <td>M</td>\n      <td>44.535</td>\n      <td>43.71</td>\n      <td>NaN</td>\n      <td>NaN</td>\n      <td>NaN</td>\n      <td>NaN</td>\n      <td>NaN</td>\n      <td>NaN</td>\n      <td>NaN</td>\n      <td>...</td>\n      <td>NaN</td>\n      <td>NaN</td>\n      <td>NaN</td>\n      <td>NaN</td>\n      <td>NaN</td>\n      <td>NaN</td>\n      <td>NaN</td>\n      <td>NaN</td>\n      <td>NaN</td>\n      <td>NaN</td>\n    </tr>\n    <tr>\n      <th>4104</th>\n      <td>Z</td>\n      <td>31.84</td>\n      <td>39.34</td>\n      <td>M</td>\n      <td>25.43</td>\n      <td>46.21</td>\n      <td>NaN</td>\n      <td>NaN</td>\n      <td>NaN</td>\n      <td>M</td>\n      <td>...</td>\n      <td>NaN</td>\n      <td>NaN</td>\n      <td>NaN</td>\n      <td>NaN</td>\n      <td>NaN</td>\n      <td>NaN</td>\n      <td>NaN</td>\n      <td>NaN</td>\n      <td>NaN</td>\n      <td>NaN</td>\n    </tr>\n    <tr>\n      <th>4128</th>\n      <td>M</td>\n      <td>14.32</td>\n      <td>36.26</td>\n      <td>M</td>\n      <td>12.65</td>\n      <td>44.9</td>\n      <td>NaN</td>\n      <td>NaN</td>\n      <td>NaN</td>\n      <td>M</td>\n      <td>...</td>\n      <td>NaN</td>\n      <td>NaN</td>\n      <td>NaN</td>\n      <td>NaN</td>\n      <td>NaN</td>\n      <td>NaN</td>\n      <td>NaN</td>\n      <td>NaN</td>\n      <td>NaN</td>\n      <td>NaN</td>\n    </tr>\n    <tr>\n      <th>4174</th>\n      <td>M</td>\n      <td>10.555</td>\n      <td>39.975</td>\n      <td>NaN</td>\n      <td>NaN</td>\n      <td>NaN</td>\n      <td>NaN</td>\n      <td>NaN</td>\n      <td>NaN</td>\n      <td>NaN</td>\n      <td>...</td>\n      <td>NaN</td>\n      <td>NaN</td>\n      <td>NaN</td>\n      <td>NaN</td>\n      <td>NaN</td>\n      <td>NaN</td>\n      <td>NaN</td>\n      <td>NaN</td>\n      <td>NaN</td>\n      <td>NaN</td>\n    </tr>\n  </tbody>\n</table>\n<p>2060 rows × 162 columns</p>\n</div>"
     },
     "execution_count": 3,
     "metadata": {},
     "output_type": "execute_result"
    }
   ],
   "source": [
    "trans"
   ],
   "metadata": {
    "collapsed": false,
    "pycharm": {
     "name": "#%%\n"
    }
   }
  },
  {
   "cell_type": "code",
   "execution_count": null,
   "outputs": [],
   "source": [],
   "metadata": {
    "collapsed": false,
    "pycharm": {
     "name": "#%%\n"
    }
   }
  }
 ],
 "metadata": {
  "kernelspec": {
   "display_name": "Python 3",
   "language": "python",
   "name": "python3"
  },
  "language_info": {
   "codemirror_mode": {
    "name": "ipython",
    "version": 2
   },
   "file_extension": ".py",
   "mimetype": "text/x-python",
   "name": "python",
   "nbconvert_exporter": "python",
   "pygments_lexer": "ipython2",
   "version": "2.7.6"
  }
 },
 "nbformat": 4,
 "nbformat_minor": 0
}