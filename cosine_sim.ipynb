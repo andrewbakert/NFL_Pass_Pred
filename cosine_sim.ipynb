{
 "cells": [
  {
   "cell_type": "code",
   "execution_count": 7,
   "outputs": [],
   "source": [
    "from pipeline import PrepPipe, OffensiveFormation, DefensiveClustering, FeatureSelector\n",
    "from sklearn.pipeline import Pipeline\n",
    "from sklearn.compose import ColumnTransformer\n",
    "from sklearn.preprocessing import OneHotEncoder\n",
    "from sklearn.preprocessing import FunctionTransformer\n",
    "from sklearn.linear_model import LogisticRegression\n",
    "from sklearn.preprocessing import StandardScaler\n",
    "import pandas as pd\n",
    "\n",
    "class SideNotValidError(Exception):\n",
    "    def __init__(self, message=\"Side not valid. Choose 'off', 'def', or 'both'\"):\n",
    "        self.message = message\n",
    "        super().__init__(self.message)\n",
    "\n",
    "class FullPipeWrapper(PrepPipe):\n",
    "    def __init__(self, first=1, last=14, n_cuts=11, frameLimit=11,\n",
    "                 simMethod='distance', quad_num=4, def_fp='assets/def_clean_output.csv'):\n",
    "        super().__init__(first, last, n_cuts, frameLimit, simMethod,\n",
    "                         quad_num, def_fp)\n",
    "\n",
    "    def extract_data_cols(self):\n",
    "        self.X_train, self.X_test, y_train, y_test = self.clean_data()\n",
    "        self.y_train_x = y_train.iloc[:, 0]\n",
    "        self.y_train_y = y_train.iloc[:, 1]\n",
    "        self.y_test_x = y_test.iloc[:, 0]\n",
    "        self.y_test_y = y_test.iloc[:, 1]\n",
    "        self.off_col = self.train_test.ofc.drop(['gameId', 'playId', 'gamePlayId', 'week'], axis=1).columns\n",
    "        self.def_col = self.train_test.dfc.drop(['week', 'index'], axis=1).columns\n",
    "        self.off_info_cols = self.off_col[-9:]\n",
    "        self.off_form_cols = self.off_col[:-9]\n",
    "\n",
    "    def build_pipe(self, side='both', model=LogisticRegression()):\n",
    "        if not hasattr(self, \"X_train\"):\n",
    "            self.extract_data_cols()\n",
    "        off_pre_one_pipe = ColumnTransformer([('info_scale', StandardScaler(), self.off_info_cols),\n",
    "                                              ('form', OffensiveFormation(), self.off_form_cols),\n",
    "                                              ])\n",
    "        off_pre_one_add_col = Pipeline([('off_pre_one', off_pre_one_pipe),\n",
    "                                        ('func_trans', FunctionTransformer(lambda x:\n",
    "                                                                           pd.DataFrame(x,\n",
    "                                    columns=list(self.off_info_cols) + list(self.off_form_cols)))),\n",
    "                                        ('select_cols', FeatureSelector(list(self.off_info_cols) +\n",
    "                                                                        list(self.off_form_cols)))])\n",
    "\n",
    "        form_one_pipe = ColumnTransformer([('off_form_one', OneHotEncoder(), [-1])], remainder='passthrough')\n",
    "        off_full_pipe = Pipeline([('full_cols', off_pre_one_add_col), ('one_hot', form_one_pipe)])\n",
    "\n",
    "        def_one_pipe = ColumnTransformer([('def_clust_one', OneHotEncoder(), [-1])], remainder='passthrough')\n",
    "        def_full_pipe = Pipeline([('def_clust', DefensiveClustering()), ('def_clust_one', def_one_pipe)])\n",
    "\n",
    "        full_pipe = ColumnTransformer([('off', off_full_pipe, self.off_col),\n",
    "                                       ('def', def_full_pipe, self.def_col)])\n",
    "\n",
    "        if side == 'off':\n",
    "            # Offensive pipeline alone\n",
    "            pipe = Pipeline([('off_full_pipe', off_full_pipe), ('model', model)])\n",
    "        elif side == 'def':\n",
    "            pipe = Pipeline([('def_full_pipe', def_full_pipe),\n",
    "                                   ('model', model)])\n",
    "        elif side == 'both':\n",
    "            pipe = Pipeline([('full_pipe', full_pipe),\n",
    "                                    ('to_float', FunctionTransformer(lambda x: x.astype(float))),\n",
    "                                    ('model', model)])\n",
    "        else:\n",
    "            raise SideNotValidError\n",
    "        return pipe"
   ],
   "metadata": {
    "collapsed": false,
    "pycharm": {
     "name": "#%%\n"
    }
   }
  },
  {
   "cell_type": "code",
   "execution_count": 8,
   "outputs": [
    {
     "name": "stdout",
     "output_type": "stream",
     "text": [
      "positional data already downloaded.\n",
      "reading positional data.\n",
      "returning positional data.\n"
     ]
    }
   ],
   "source": [
    "pipe_wrap = FullPipeWrapper()\n",
    "pipe = pipe_wrap.build_pipe('off')"
   ],
   "metadata": {
    "collapsed": false,
    "pycharm": {
     "name": "#%%\n"
    }
   }
  },
  {
   "cell_type": "code",
   "execution_count": 13,
   "outputs": [],
   "source": [
    "from sklearn.tree import DecisionTreeClassifier\n",
    "\n",
    "pipe_def_tree = pipe_wrap.build_pipe('both', DecisionTreeClassifier())"
   ],
   "metadata": {
    "collapsed": false,
    "pycharm": {
     "name": "#%%\n"
    }
   }
  },
  {
   "cell_type": "code",
   "execution_count": 14,
   "outputs": [],
   "source": [
    "from sklearn.model_selection import GridSearchCV\n",
    "\n",
    "params = {'model__max_depth': range(3, 6)}\n",
    "grid = GridSearchCV(pipe_def_tree, params)"
   ],
   "metadata": {
    "collapsed": false,
    "pycharm": {
     "name": "#%%\n"
    }
   }
  },
  {
   "cell_type": "code",
   "execution_count": 15,
   "outputs": [
    {
     "data": {
      "text/plain": "GridSearchCV(estimator=Pipeline(steps=[('full_pipe',\n                                        ColumnTransformer(transformers=[('off',\n                                                                         Pipeline(steps=[('full_cols',\n                                                                                          Pipeline(steps=[('off_pre_one',\n                                                                                                           ColumnTransformer(transformers=[('info_scale',\n                                                                                                                                            StandardScaler(),\n                                                                                                                                            Index(['perc_left', 'perc_right', 'perc_behind_los', 'FB', 'HB', 'QB', 'RB',\n       'TE', 'WR'],\n      dtype='object')),\n                                                                                                                                           ('form',\n                                                                                                                                            OffensiveFormation(model=Logis...\n       'SSL2_y_start', 'SSR0_act', 'SSR0_x_start', 'SSR0_y_start', 'SSR1_act',\n       'SSR1_x_start', 'SSR1_y_start', 'SSR2_act', 'SSR2_x_start',\n       'SSR2_y_start'],\n      dtype='object', length=189))])),\n                                       ('to_float',\n                                        FunctionTransformer(func=<function FullPipeWrapper.build_pipe.<locals>.<lambda> at 0x7fa530c534c0>)),\n                                       ('model', DecisionTreeClassifier())]),\n             param_grid={'model__max_depth': range(3, 6)})"
     },
     "execution_count": 15,
     "metadata": {},
     "output_type": "execute_result"
    }
   ],
   "source": [
    "grid.fit(pipe_wrap.X_train, pipe_wrap.y_train_x)"
   ],
   "metadata": {
    "collapsed": false,
    "pycharm": {
     "name": "#%%\n"
    }
   }
  },
  {
   "cell_type": "code",
   "execution_count": 16,
   "outputs": [
    {
     "data": {
      "text/plain": "0.40224292349075325"
     },
     "execution_count": 16,
     "metadata": {},
     "output_type": "execute_result"
    }
   ],
   "source": [
    "grid.best_score_"
   ],
   "metadata": {
    "collapsed": false,
    "pycharm": {
     "name": "#%%\n"
    }
   }
  },
  {
   "cell_type": "code",
   "execution_count": null,
   "outputs": [],
   "source": [],
   "metadata": {
    "collapsed": false,
    "pycharm": {
     "name": "#%%\n"
    }
   }
  }
 ],
 "metadata": {
  "kernelspec": {
   "display_name": "Python 3",
   "language": "python",
   "name": "python3"
  },
  "language_info": {
   "codemirror_mode": {
    "name": "ipython",
    "version": 2
   },
   "file_extension": ".py",
   "mimetype": "text/x-python",
   "name": "python",
   "nbconvert_exporter": "python",
   "pygments_lexer": "ipython2",
   "version": "2.7.6"
  }
 },
 "nbformat": 4,
 "nbformat_minor": 0
}