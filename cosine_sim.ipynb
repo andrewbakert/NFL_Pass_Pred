{
 "cells": [
  {
   "cell_type": "code",
   "execution_count": 1,
   "outputs": [
    {
     "name": "stdout",
     "output_type": "stream",
     "text": [
      "positional data already downloaded.\n",
      "reading positional data.\n",
      "returning positional data.\n"
     ]
    }
   ],
   "source": [
    "from pipeline import FullPipeWrapper\n",
    "\n",
    "pipe_wrap = FullPipeWrapper()"
   ],
   "metadata": {
    "collapsed": false,
    "pycharm": {
     "name": "#%%\n"
    }
   }
  },
  {
   "cell_type": "code",
   "execution_count": 3,
   "outputs": [],
   "source": [
    "from sklearn.tree import DecisionTreeClassifier\n",
    "\n",
    "pipe_full_dtree = pipe_wrap.build_pipe(side=\"both\", model=DecisionTreeClassifier())"
   ],
   "metadata": {
    "collapsed": false,
    "pycharm": {
     "name": "#%%\n"
    }
   }
  },
  {
   "cell_type": "code",
   "execution_count": 7,
   "outputs": [
    {
     "data": {
      "text/plain": "       FBL0_x  FBR0_x  HBL0_x  HBL1_x  HBR0_x  HBR1_x  QB0_x  QB1_x  RBL0_x  \\\n0       -5.12    0.00     0.0     0.0     0.0     0.0  -1.73    0.0    0.00   \n1        0.00    0.00     0.0     0.0     0.0     0.0  -1.60    0.0   -7.37   \n2        0.00    0.00     0.0     0.0     0.0     0.0  -5.56    0.0    0.00   \n3        0.00    0.00     0.0     0.0     0.0     0.0  -5.17    0.0   -4.24   \n4        0.00   -4.59     0.0     0.0     0.0     0.0  -4.88    0.0   -1.33   \n...       ...     ...     ...     ...     ...     ...    ...    ...     ...   \n13907    0.00    0.00     0.0     0.0     0.0     0.0  -4.37    0.0   -4.86   \n13908    0.00    0.00     0.0     0.0     0.0     0.0  -4.61    0.0    0.00   \n13909    0.00    0.00     0.0     0.0     0.0     0.0  -4.85    0.0    0.00   \n13910    0.00    0.00     0.0     0.0     0.0     0.0  -4.53    0.0    0.00   \n13911    0.00    0.00     0.0     0.0     0.0     0.0  -4.48    0.0    0.00   \n\n       RBL1_x  ...  SSL2_y_start  SSR0_act  SSR0_x_start  SSR0_y_start  \\\n0         0.0  ...           0.0         M          1.11         -9.87   \n1         0.0  ...           0.0         Z          2.45        -12.48   \n2         0.0  ...           0.0         0          0.00          0.00   \n3         0.0  ...           0.0         0          0.00          0.00   \n4         0.0  ...           0.0         M          1.23        -15.01   \n...       ...  ...           ...       ...           ...           ...   \n13907     0.0  ...           0.0         M         11.58        -11.14   \n13908     0.0  ...           0.0         M          5.69        -10.15   \n13909     0.0  ...           0.0         0          0.00          0.00   \n13910     0.0  ...           0.0         M         13.88         -5.15   \n13911     0.0  ...           0.0         M          9.04         -2.74   \n\n       SSR1_act  SSR1_x_start  SSR1_y_start  SSR2_act  SSR2_x_start  \\\n0             0          0.00          0.00         0           0.0   \n1             0          0.00          0.00         0           0.0   \n2             0          0.00          0.00         0           0.0   \n3             0          0.00          0.00         0           0.0   \n4             0          0.00          0.00         0           0.0   \n...         ...           ...           ...       ...           ...   \n13907         M          5.33        -11.15         0           0.0   \n13908         M         13.78        -11.31         0           0.0   \n13909         0          0.00          0.00         0           0.0   \n13910         0          0.00          0.00         0           0.0   \n13911         0          0.00          0.00         0           0.0   \n\n       SSR2_y_start  \n0               0.0  \n1               0.0  \n2               0.0  \n3               0.0  \n4               0.0  \n...             ...  \n13907           0.0  \n13908           0.0  \n13909           0.0  \n13910           0.0  \n13911           0.0  \n\n[13912 rows x 286 columns]",
      "text/html": "<div>\n<style scoped>\n    .dataframe tbody tr th:only-of-type {\n        vertical-align: middle;\n    }\n\n    .dataframe tbody tr th {\n        vertical-align: top;\n    }\n\n    .dataframe thead th {\n        text-align: right;\n    }\n</style>\n<table border=\"1\" class=\"dataframe\">\n  <thead>\n    <tr style=\"text-align: right;\">\n      <th></th>\n      <th>FBL0_x</th>\n      <th>FBR0_x</th>\n      <th>HBL0_x</th>\n      <th>HBL1_x</th>\n      <th>HBR0_x</th>\n      <th>HBR1_x</th>\n      <th>QB0_x</th>\n      <th>QB1_x</th>\n      <th>RBL0_x</th>\n      <th>RBL1_x</th>\n      <th>...</th>\n      <th>SSL2_y_start</th>\n      <th>SSR0_act</th>\n      <th>SSR0_x_start</th>\n      <th>SSR0_y_start</th>\n      <th>SSR1_act</th>\n      <th>SSR1_x_start</th>\n      <th>SSR1_y_start</th>\n      <th>SSR2_act</th>\n      <th>SSR2_x_start</th>\n      <th>SSR2_y_start</th>\n    </tr>\n  </thead>\n  <tbody>\n    <tr>\n      <th>0</th>\n      <td>-5.12</td>\n      <td>0.00</td>\n      <td>0.0</td>\n      <td>0.0</td>\n      <td>0.0</td>\n      <td>0.0</td>\n      <td>-1.73</td>\n      <td>0.0</td>\n      <td>0.00</td>\n      <td>0.0</td>\n      <td>...</td>\n      <td>0.0</td>\n      <td>M</td>\n      <td>1.11</td>\n      <td>-9.87</td>\n      <td>0</td>\n      <td>0.00</td>\n      <td>0.00</td>\n      <td>0</td>\n      <td>0.0</td>\n      <td>0.0</td>\n    </tr>\n    <tr>\n      <th>1</th>\n      <td>0.00</td>\n      <td>0.00</td>\n      <td>0.0</td>\n      <td>0.0</td>\n      <td>0.0</td>\n      <td>0.0</td>\n      <td>-1.60</td>\n      <td>0.0</td>\n      <td>-7.37</td>\n      <td>0.0</td>\n      <td>...</td>\n      <td>0.0</td>\n      <td>Z</td>\n      <td>2.45</td>\n      <td>-12.48</td>\n      <td>0</td>\n      <td>0.00</td>\n      <td>0.00</td>\n      <td>0</td>\n      <td>0.0</td>\n      <td>0.0</td>\n    </tr>\n    <tr>\n      <th>2</th>\n      <td>0.00</td>\n      <td>0.00</td>\n      <td>0.0</td>\n      <td>0.0</td>\n      <td>0.0</td>\n      <td>0.0</td>\n      <td>-5.56</td>\n      <td>0.0</td>\n      <td>0.00</td>\n      <td>0.0</td>\n      <td>...</td>\n      <td>0.0</td>\n      <td>0</td>\n      <td>0.00</td>\n      <td>0.00</td>\n      <td>0</td>\n      <td>0.00</td>\n      <td>0.00</td>\n      <td>0</td>\n      <td>0.0</td>\n      <td>0.0</td>\n    </tr>\n    <tr>\n      <th>3</th>\n      <td>0.00</td>\n      <td>0.00</td>\n      <td>0.0</td>\n      <td>0.0</td>\n      <td>0.0</td>\n      <td>0.0</td>\n      <td>-5.17</td>\n      <td>0.0</td>\n      <td>-4.24</td>\n      <td>0.0</td>\n      <td>...</td>\n      <td>0.0</td>\n      <td>0</td>\n      <td>0.00</td>\n      <td>0.00</td>\n      <td>0</td>\n      <td>0.00</td>\n      <td>0.00</td>\n      <td>0</td>\n      <td>0.0</td>\n      <td>0.0</td>\n    </tr>\n    <tr>\n      <th>4</th>\n      <td>0.00</td>\n      <td>-4.59</td>\n      <td>0.0</td>\n      <td>0.0</td>\n      <td>0.0</td>\n      <td>0.0</td>\n      <td>-4.88</td>\n      <td>0.0</td>\n      <td>-1.33</td>\n      <td>0.0</td>\n      <td>...</td>\n      <td>0.0</td>\n      <td>M</td>\n      <td>1.23</td>\n      <td>-15.01</td>\n      <td>0</td>\n      <td>0.00</td>\n      <td>0.00</td>\n      <td>0</td>\n      <td>0.0</td>\n      <td>0.0</td>\n    </tr>\n    <tr>\n      <th>...</th>\n      <td>...</td>\n      <td>...</td>\n      <td>...</td>\n      <td>...</td>\n      <td>...</td>\n      <td>...</td>\n      <td>...</td>\n      <td>...</td>\n      <td>...</td>\n      <td>...</td>\n      <td>...</td>\n      <td>...</td>\n      <td>...</td>\n      <td>...</td>\n      <td>...</td>\n      <td>...</td>\n      <td>...</td>\n      <td>...</td>\n      <td>...</td>\n      <td>...</td>\n      <td>...</td>\n    </tr>\n    <tr>\n      <th>13907</th>\n      <td>0.00</td>\n      <td>0.00</td>\n      <td>0.0</td>\n      <td>0.0</td>\n      <td>0.0</td>\n      <td>0.0</td>\n      <td>-4.37</td>\n      <td>0.0</td>\n      <td>-4.86</td>\n      <td>0.0</td>\n      <td>...</td>\n      <td>0.0</td>\n      <td>M</td>\n      <td>11.58</td>\n      <td>-11.14</td>\n      <td>M</td>\n      <td>5.33</td>\n      <td>-11.15</td>\n      <td>0</td>\n      <td>0.0</td>\n      <td>0.0</td>\n    </tr>\n    <tr>\n      <th>13908</th>\n      <td>0.00</td>\n      <td>0.00</td>\n      <td>0.0</td>\n      <td>0.0</td>\n      <td>0.0</td>\n      <td>0.0</td>\n      <td>-4.61</td>\n      <td>0.0</td>\n      <td>0.00</td>\n      <td>0.0</td>\n      <td>...</td>\n      <td>0.0</td>\n      <td>M</td>\n      <td>5.69</td>\n      <td>-10.15</td>\n      <td>M</td>\n      <td>13.78</td>\n      <td>-11.31</td>\n      <td>0</td>\n      <td>0.0</td>\n      <td>0.0</td>\n    </tr>\n    <tr>\n      <th>13909</th>\n      <td>0.00</td>\n      <td>0.00</td>\n      <td>0.0</td>\n      <td>0.0</td>\n      <td>0.0</td>\n      <td>0.0</td>\n      <td>-4.85</td>\n      <td>0.0</td>\n      <td>0.00</td>\n      <td>0.0</td>\n      <td>...</td>\n      <td>0.0</td>\n      <td>0</td>\n      <td>0.00</td>\n      <td>0.00</td>\n      <td>0</td>\n      <td>0.00</td>\n      <td>0.00</td>\n      <td>0</td>\n      <td>0.0</td>\n      <td>0.0</td>\n    </tr>\n    <tr>\n      <th>13910</th>\n      <td>0.00</td>\n      <td>0.00</td>\n      <td>0.0</td>\n      <td>0.0</td>\n      <td>0.0</td>\n      <td>0.0</td>\n      <td>-4.53</td>\n      <td>0.0</td>\n      <td>0.00</td>\n      <td>0.0</td>\n      <td>...</td>\n      <td>0.0</td>\n      <td>M</td>\n      <td>13.88</td>\n      <td>-5.15</td>\n      <td>0</td>\n      <td>0.00</td>\n      <td>0.00</td>\n      <td>0</td>\n      <td>0.0</td>\n      <td>0.0</td>\n    </tr>\n    <tr>\n      <th>13911</th>\n      <td>0.00</td>\n      <td>0.00</td>\n      <td>0.0</td>\n      <td>0.0</td>\n      <td>0.0</td>\n      <td>0.0</td>\n      <td>-4.48</td>\n      <td>0.0</td>\n      <td>0.00</td>\n      <td>0.0</td>\n      <td>...</td>\n      <td>0.0</td>\n      <td>M</td>\n      <td>9.04</td>\n      <td>-2.74</td>\n      <td>0</td>\n      <td>0.00</td>\n      <td>0.00</td>\n      <td>0</td>\n      <td>0.0</td>\n      <td>0.0</td>\n    </tr>\n  </tbody>\n</table>\n<p>13912 rows × 286 columns</p>\n</div>"
     },
     "execution_count": 7,
     "metadata": {},
     "output_type": "execute_result"
    }
   ],
   "source": [
    "from sklearn.model_selection import GridSearchCV\n",
    "\n",
    "grid ="
   ],
   "metadata": {
    "collapsed": false,
    "pycharm": {
     "name": "#%%\n"
    }
   }
  },
  {
   "cell_type": "code",
   "execution_count": 2,
   "outputs": [
    {
     "ename": "AttributeError",
     "evalue": "'FullPipeWrapper' object has no attribute 'X_train'",
     "output_type": "error",
     "traceback": [
      "\u001B[0;31m---------------------------------------------------------------------------\u001B[0m",
      "\u001B[0;31mAttributeError\u001B[0m                            Traceback (most recent call last)",
      "\u001B[0;32m/var/folders/6v/8jcf0jcn7_vfm2q2r4tz44gh0000gn/T/ipykernel_55778/1850220223.py\u001B[0m in \u001B[0;36m<module>\u001B[0;34m\u001B[0m\n\u001B[0;32m----> 1\u001B[0;31m \u001B[0mpipe_wrap\u001B[0m\u001B[0;34m.\u001B[0m\u001B[0mX_train\u001B[0m\u001B[0;34m.\u001B[0m\u001B[0mcolunms\u001B[0m\u001B[0;34m\u001B[0m\u001B[0;34m\u001B[0m\u001B[0m\n\u001B[0m",
      "\u001B[0;31mAttributeError\u001B[0m: 'FullPipeWrapper' object has no attribute 'X_train'"
     ]
    }
   ],
   "source": [
    "pipe_wrap.X_train.columns"
   ],
   "metadata": {
    "collapsed": false,
    "pycharm": {
     "name": "#%%\n"
    }
   }
  },
  {
   "cell_type": "code",
   "execution_count": 4,
   "outputs": [
    {
     "data": {
      "text/plain": "Pipeline(steps=[('full_pipe',\n                 ColumnTransformer(transformers=[('off',\n                                                  Pipeline(steps=[('full_cols',\n                                                                   Pipeline(steps=[('off_pre_one',\n                                                                                    ColumnTransformer(transformers=[('info_scale',\n                                                                                                                     StandardScaler(),\n                                                                                                                     Index(['perc_left', 'perc_right', 'perc_behind_los', 'FB', 'HB', 'QB', 'RB',\n       'TE', 'WR'],\n      dtype='object')),\n                                                                                                                    ('form',\n                                                                                                                     OffensiveFormation(model=LogisticRegression(max_iter=...\n       'DB', 'LB', 'DL', 'yardline_first_dir', 'yardline_100_dir',\n       ...\n       'SSL2_y_start', 'SSR0_act', 'SSR0_x_start', 'SSR0_y_start', 'SSR1_act',\n       'SSR1_x_start', 'SSR1_y_start', 'SSR2_act', 'SSR2_x_start',\n       'SSR2_y_start'],\n      dtype='object', length=190))])),\n                ('to_float',\n                 FunctionTransformer(func=<function FullPipeWrapper.build_pipe.<locals>.<lambda> at 0x7fc3fb69de50>)),\n                ('model', DecisionTreeClassifier())])"
     },
     "execution_count": 4,
     "metadata": {},
     "output_type": "execute_result"
    }
   ],
   "source": [
    "pipe_full_dtree.fit(pipe_wrap.X_train, pipe_wrap.y_train_x)"
   ],
   "metadata": {
    "collapsed": false,
    "pycharm": {
     "name": "#%%\n"
    }
   }
  },
  {
   "cell_type": "code",
   "execution_count": 9,
   "outputs": [
    {
     "data": {
      "text/plain": "1.0"
     },
     "execution_count": 9,
     "metadata": {},
     "output_type": "execute_result"
    }
   ],
   "source": [
    "pipe_full_dtree.score(pipe_wrap.X_train, pipe_wrap.y_train_x)"
   ],
   "metadata": {
    "collapsed": false,
    "pycharm": {
     "name": "#%%\n"
    }
   }
  },
  {
   "cell_type": "code",
   "execution_count": null,
   "outputs": [],
   "source": [],
   "metadata": {
    "collapsed": false,
    "pycharm": {
     "name": "#%%\n"
    }
   }
  }
 ],
 "metadata": {
  "kernelspec": {
   "display_name": "Python 3",
   "language": "python",
   "name": "python3"
  },
  "language_info": {
   "codemirror_mode": {
    "name": "ipython",
    "version": 2
   },
   "file_extension": ".py",
   "mimetype": "text/x-python",
   "name": "python",
   "nbconvert_exporter": "python",
   "pygments_lexer": "ipython2",
   "version": "2.7.6"
  }
 },
 "nbformat": 4,
 "nbformat_minor": 0
}