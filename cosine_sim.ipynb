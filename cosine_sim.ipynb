{
 "cells": [
  {
   "cell_type": "code",
   "execution_count": 13,
   "metadata": {
    "collapsed": true,
    "pycharm": {
     "name": "#%%\n"
    }
   },
   "outputs": [
    {
     "name": "stdout",
     "output_type": "stream",
     "text": [
      "..............................initializing\n",
      "..data downloaded...\n"
     ]
    }
   ],
   "source": [
    "import pandas as pd\n",
    "\n",
    "from def_clean import DefensiveCleaning\n",
    "\n",
    "def_cleaning = DefensiveCleaning(n_cuts=11)"
   ]
  },
  {
   "cell_type": "code",
   "execution_count": 14,
   "outputs": [
    {
     "name": "stdout",
     "output_type": "stream",
     "text": [
      "...Week 1 loaded...\n",
      "...filtered...\n",
      "...transformed...\n",
      "...time reduced...\n",
      "...starting dataframe generated...\n",
      "...distance calculated...\n",
      "...action type generated...\n",
      ".....Week 1 COMPLETE.....\n",
      "CPU times: user 37.8 s, sys: 6.13 s, total: 43.9 s\n",
      "Wall time: 44 s\n"
     ]
    },
    {
     "data": {
      "text/plain": "           gameId  playId          posId  value  defendersInTheBox DB LB DL  \\\n0      2018090600      75       CBL0_act      M                7.0  5  2  4   \n1      2018090600      75       CBR0_act      M                7.0  5  2  4   \n2      2018090600      75       FSL0_act      M                7.0  5  2  4   \n3      2018090600      75       FSR0_act      M                7.0  5  2  4   \n4      2018090600      75       LBL0_act      M                7.0  5  2  4   \n...           ...     ...            ...    ...                ... .. .. ..   \n21235  2018091001    4192   SSR0_x_start   5.11                5.0  6  2  3   \n21236  2018091001    4192  ILBL0_y_start  -6.99                5.0  6  2  3   \n21237  2018091001    4192  ILBL0_x_start   4.09                5.0  6  2  3   \n21238  2018091001    4192   SSL0_y_start   -5.8                5.0  6  2  3   \n21239  2018091001    4192   SSL0_x_start  11.99                5.0  6  2  3   \n\n       yardline_first  yardline_100  week  \n0                65.0          80.0     1  \n1                65.0          80.0     1  \n2                65.0          80.0     1  \n3                65.0          80.0     1  \n4                65.0          80.0     1  \n...               ...           ...   ...  \n21235            29.0          31.0     1  \n21236            29.0          31.0     1  \n21237            29.0          31.0     1  \n21238            29.0          31.0     1  \n21239            29.0          31.0     1  \n\n[21240 rows x 11 columns]",
      "text/html": "<div>\n<style scoped>\n    .dataframe tbody tr th:only-of-type {\n        vertical-align: middle;\n    }\n\n    .dataframe tbody tr th {\n        vertical-align: top;\n    }\n\n    .dataframe thead th {\n        text-align: right;\n    }\n</style>\n<table border=\"1\" class=\"dataframe\">\n  <thead>\n    <tr style=\"text-align: right;\">\n      <th></th>\n      <th>gameId</th>\n      <th>playId</th>\n      <th>posId</th>\n      <th>value</th>\n      <th>defendersInTheBox</th>\n      <th>DB</th>\n      <th>LB</th>\n      <th>DL</th>\n      <th>yardline_first</th>\n      <th>yardline_100</th>\n      <th>week</th>\n    </tr>\n  </thead>\n  <tbody>\n    <tr>\n      <th>0</th>\n      <td>2018090600</td>\n      <td>75</td>\n      <td>CBL0_act</td>\n      <td>M</td>\n      <td>7.0</td>\n      <td>5</td>\n      <td>2</td>\n      <td>4</td>\n      <td>65.0</td>\n      <td>80.0</td>\n      <td>1</td>\n    </tr>\n    <tr>\n      <th>1</th>\n      <td>2018090600</td>\n      <td>75</td>\n      <td>CBR0_act</td>\n      <td>M</td>\n      <td>7.0</td>\n      <td>5</td>\n      <td>2</td>\n      <td>4</td>\n      <td>65.0</td>\n      <td>80.0</td>\n      <td>1</td>\n    </tr>\n    <tr>\n      <th>2</th>\n      <td>2018090600</td>\n      <td>75</td>\n      <td>FSL0_act</td>\n      <td>M</td>\n      <td>7.0</td>\n      <td>5</td>\n      <td>2</td>\n      <td>4</td>\n      <td>65.0</td>\n      <td>80.0</td>\n      <td>1</td>\n    </tr>\n    <tr>\n      <th>3</th>\n      <td>2018090600</td>\n      <td>75</td>\n      <td>FSR0_act</td>\n      <td>M</td>\n      <td>7.0</td>\n      <td>5</td>\n      <td>2</td>\n      <td>4</td>\n      <td>65.0</td>\n      <td>80.0</td>\n      <td>1</td>\n    </tr>\n    <tr>\n      <th>4</th>\n      <td>2018090600</td>\n      <td>75</td>\n      <td>LBL0_act</td>\n      <td>M</td>\n      <td>7.0</td>\n      <td>5</td>\n      <td>2</td>\n      <td>4</td>\n      <td>65.0</td>\n      <td>80.0</td>\n      <td>1</td>\n    </tr>\n    <tr>\n      <th>...</th>\n      <td>...</td>\n      <td>...</td>\n      <td>...</td>\n      <td>...</td>\n      <td>...</td>\n      <td>...</td>\n      <td>...</td>\n      <td>...</td>\n      <td>...</td>\n      <td>...</td>\n      <td>...</td>\n    </tr>\n    <tr>\n      <th>21235</th>\n      <td>2018091001</td>\n      <td>4192</td>\n      <td>SSR0_x_start</td>\n      <td>5.11</td>\n      <td>5.0</td>\n      <td>6</td>\n      <td>2</td>\n      <td>3</td>\n      <td>29.0</td>\n      <td>31.0</td>\n      <td>1</td>\n    </tr>\n    <tr>\n      <th>21236</th>\n      <td>2018091001</td>\n      <td>4192</td>\n      <td>ILBL0_y_start</td>\n      <td>-6.99</td>\n      <td>5.0</td>\n      <td>6</td>\n      <td>2</td>\n      <td>3</td>\n      <td>29.0</td>\n      <td>31.0</td>\n      <td>1</td>\n    </tr>\n    <tr>\n      <th>21237</th>\n      <td>2018091001</td>\n      <td>4192</td>\n      <td>ILBL0_x_start</td>\n      <td>4.09</td>\n      <td>5.0</td>\n      <td>6</td>\n      <td>2</td>\n      <td>3</td>\n      <td>29.0</td>\n      <td>31.0</td>\n      <td>1</td>\n    </tr>\n    <tr>\n      <th>21238</th>\n      <td>2018091001</td>\n      <td>4192</td>\n      <td>SSL0_y_start</td>\n      <td>-5.8</td>\n      <td>5.0</td>\n      <td>6</td>\n      <td>2</td>\n      <td>3</td>\n      <td>29.0</td>\n      <td>31.0</td>\n      <td>1</td>\n    </tr>\n    <tr>\n      <th>21239</th>\n      <td>2018091001</td>\n      <td>4192</td>\n      <td>SSL0_x_start</td>\n      <td>11.99</td>\n      <td>5.0</td>\n      <td>6</td>\n      <td>2</td>\n      <td>3</td>\n      <td>29.0</td>\n      <td>31.0</td>\n      <td>1</td>\n    </tr>\n  </tbody>\n</table>\n<p>21240 rows × 11 columns</p>\n</div>"
     },
     "execution_count": 14,
     "metadata": {},
     "output_type": "execute_result"
    }
   ],
   "source": [
    "%%time\n",
    "\n",
    "def_cleaning.combine_week(1)"
   ],
   "metadata": {
    "collapsed": false,
    "pycharm": {
     "name": "#%%\n"
    }
   }
  },
  {
   "cell_type": "code",
   "execution_count": null,
   "outputs": [],
   "source": [],
   "metadata": {
    "collapsed": false,
    "pycharm": {
     "name": "#%%\n"
    }
   }
  }
 ],
 "metadata": {
  "kernelspec": {
   "display_name": "Python 3",
   "language": "python",
   "name": "python3"
  },
  "language_info": {
   "codemirror_mode": {
    "name": "ipython",
    "version": 2
   },
   "file_extension": ".py",
   "mimetype": "text/x-python",
   "name": "python",
   "nbconvert_exporter": "python",
   "pygments_lexer": "ipython2",
   "version": "2.7.6"
  }
 },
 "nbformat": 4,
 "nbformat_minor": 0
}