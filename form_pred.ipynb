{
 "cells": [
  {
   "cell_type": "code",
   "execution_count": 1,
   "metadata": {
    "collapsed": true
   },
   "outputs": [],
   "source": [
    "import pandas as pd\n",
    "import numpy as np\n",
    "import os\n",
    "\n",
    "dir = 'assets'\n",
    "fp = dir + '/full_position.csv'\n",
    "if not os.path.exists(fp):\n",
    "    os.mkdir(dir)\n",
    "    positions = pd.DataFrame()\n",
    "    for week in range(1, 18):\n",
    "        week = pd.read_csv(f'nfl-big-data-bowl-2021/week{week}.csv')\n",
    "        positions = pd.concat([positions, week], axis=0)\n",
    "    positions.to_csv(fp, index=False)\n",
    "else:\n",
    "    positions = pd.read_csv(fp)"
   ]
  },
  {
   "cell_type": "code",
   "execution_count": 2,
   "outputs": [
    {
     "data": {
      "text/plain": "(18309388, 19)"
     },
     "execution_count": 2,
     "metadata": {},
     "output_type": "execute_result"
    }
   ],
   "source": [
    "positions.shape"
   ],
   "metadata": {
    "collapsed": false,
    "pycharm": {
     "name": "#%%\n"
    }
   }
  },
  {
   "cell_type": "code",
   "execution_count": 3,
   "outputs": [],
   "source": [
    "plays = pd.read_csv('nfl-big-data-bowl-2021/plays.csv')"
   ],
   "metadata": {
    "collapsed": false,
    "pycharm": {
     "name": "#%%\n"
    }
   }
  },
  {
   "cell_type": "code",
   "execution_count": 4,
   "outputs": [],
   "source": [
    "positions['time'] = pd.to_datetime(positions['time'], format='%Y-%m-%dT%H:%M:%S')"
   ],
   "metadata": {
    "collapsed": false,
    "pycharm": {
     "name": "#%%\n"
    }
   }
  },
  {
   "cell_type": "code",
   "execution_count": 5,
   "outputs": [],
   "source": [
    "starting_pos = positions.groupby(['gameId', 'playId', 'position', 'nflId', 'team'])[['x', 'y']].first().reset_index()"
   ],
   "metadata": {
    "collapsed": false,
    "pycharm": {
     "name": "#%%\n"
    }
   }
  },
  {
   "cell_type": "code",
   "execution_count": 6,
   "outputs": [],
   "source": [
    "starting_pos_plays = starting_pos.merge(plays, on=['gameId', 'playId'], how='left')"
   ],
   "metadata": {
    "collapsed": false,
    "pycharm": {
     "name": "#%%\n"
    }
   }
  },
  {
   "cell_type": "code",
   "execution_count": 7,
   "outputs": [
    {
     "data": {
      "text/plain": "       gameId  playId position      nflId  team      x      y  \\\n0  2018090600      75       CB  2552689.0  home  82.67  20.53   \n1  2018090600      75       CB  2555383.0  home  84.00  43.49   \n2  2018090600      75       FB  2559033.0  away  95.13  26.71   \n3  2018090600      75       FS  2495613.0  home  86.31  22.01   \n4  2018090600      75       FS  2534832.0  home  73.64  28.70   \n\n                                     playDescription  quarter  down  ...  \\\n0  (15:00) M.Ryan pass short right to J.Jones pus...        1     1  ...   \n1  (15:00) M.Ryan pass short right to J.Jones pus...        1     1  ...   \n2  (15:00) M.Ryan pass short right to J.Jones pus...        1     1  ...   \n3  (15:00) M.Ryan pass short right to J.Jones pus...        1     1  ...   \n4  (15:00) M.Ryan pass short right to J.Jones pus...        1     1  ...   \n\n   preSnapHomeScore gameClock absoluteYardlineNumber penaltyCodes  \\\n0               0.0  15:00:00                   90.0          NaN   \n1               0.0  15:00:00                   90.0          NaN   \n2               0.0  15:00:00                   90.0          NaN   \n3               0.0  15:00:00                   90.0          NaN   \n4               0.0  15:00:00                   90.0          NaN   \n\n   penaltyJerseyNumbers passResult offensePlayResult  playResult       epa  \\\n0                   NaN          C                10          10  0.261827   \n1                   NaN          C                10          10  0.261827   \n2                   NaN          C                10          10  0.261827   \n3                   NaN          C                10          10  0.261827   \n4                   NaN          C                10          10  0.261827   \n\n  isDefensivePI  \n0         False  \n1         False  \n2         False  \n3         False  \n4         False  \n\n[5 rows x 32 columns]",
      "text/html": "<div>\n<style scoped>\n    .dataframe tbody tr th:only-of-type {\n        vertical-align: middle;\n    }\n\n    .dataframe tbody tr th {\n        vertical-align: top;\n    }\n\n    .dataframe thead th {\n        text-align: right;\n    }\n</style>\n<table border=\"1\" class=\"dataframe\">\n  <thead>\n    <tr style=\"text-align: right;\">\n      <th></th>\n      <th>gameId</th>\n      <th>playId</th>\n      <th>position</th>\n      <th>nflId</th>\n      <th>team</th>\n      <th>x</th>\n      <th>y</th>\n      <th>playDescription</th>\n      <th>quarter</th>\n      <th>down</th>\n      <th>...</th>\n      <th>preSnapHomeScore</th>\n      <th>gameClock</th>\n      <th>absoluteYardlineNumber</th>\n      <th>penaltyCodes</th>\n      <th>penaltyJerseyNumbers</th>\n      <th>passResult</th>\n      <th>offensePlayResult</th>\n      <th>playResult</th>\n      <th>epa</th>\n      <th>isDefensivePI</th>\n    </tr>\n  </thead>\n  <tbody>\n    <tr>\n      <th>0</th>\n      <td>2018090600</td>\n      <td>75</td>\n      <td>CB</td>\n      <td>2552689.0</td>\n      <td>home</td>\n      <td>82.67</td>\n      <td>20.53</td>\n      <td>(15:00) M.Ryan pass short right to J.Jones pus...</td>\n      <td>1</td>\n      <td>1</td>\n      <td>...</td>\n      <td>0.0</td>\n      <td>15:00:00</td>\n      <td>90.0</td>\n      <td>NaN</td>\n      <td>NaN</td>\n      <td>C</td>\n      <td>10</td>\n      <td>10</td>\n      <td>0.261827</td>\n      <td>False</td>\n    </tr>\n    <tr>\n      <th>1</th>\n      <td>2018090600</td>\n      <td>75</td>\n      <td>CB</td>\n      <td>2555383.0</td>\n      <td>home</td>\n      <td>84.00</td>\n      <td>43.49</td>\n      <td>(15:00) M.Ryan pass short right to J.Jones pus...</td>\n      <td>1</td>\n      <td>1</td>\n      <td>...</td>\n      <td>0.0</td>\n      <td>15:00:00</td>\n      <td>90.0</td>\n      <td>NaN</td>\n      <td>NaN</td>\n      <td>C</td>\n      <td>10</td>\n      <td>10</td>\n      <td>0.261827</td>\n      <td>False</td>\n    </tr>\n    <tr>\n      <th>2</th>\n      <td>2018090600</td>\n      <td>75</td>\n      <td>FB</td>\n      <td>2559033.0</td>\n      <td>away</td>\n      <td>95.13</td>\n      <td>26.71</td>\n      <td>(15:00) M.Ryan pass short right to J.Jones pus...</td>\n      <td>1</td>\n      <td>1</td>\n      <td>...</td>\n      <td>0.0</td>\n      <td>15:00:00</td>\n      <td>90.0</td>\n      <td>NaN</td>\n      <td>NaN</td>\n      <td>C</td>\n      <td>10</td>\n      <td>10</td>\n      <td>0.261827</td>\n      <td>False</td>\n    </tr>\n    <tr>\n      <th>3</th>\n      <td>2018090600</td>\n      <td>75</td>\n      <td>FS</td>\n      <td>2495613.0</td>\n      <td>home</td>\n      <td>86.31</td>\n      <td>22.01</td>\n      <td>(15:00) M.Ryan pass short right to J.Jones pus...</td>\n      <td>1</td>\n      <td>1</td>\n      <td>...</td>\n      <td>0.0</td>\n      <td>15:00:00</td>\n      <td>90.0</td>\n      <td>NaN</td>\n      <td>NaN</td>\n      <td>C</td>\n      <td>10</td>\n      <td>10</td>\n      <td>0.261827</td>\n      <td>False</td>\n    </tr>\n    <tr>\n      <th>4</th>\n      <td>2018090600</td>\n      <td>75</td>\n      <td>FS</td>\n      <td>2534832.0</td>\n      <td>home</td>\n      <td>73.64</td>\n      <td>28.70</td>\n      <td>(15:00) M.Ryan pass short right to J.Jones pus...</td>\n      <td>1</td>\n      <td>1</td>\n      <td>...</td>\n      <td>0.0</td>\n      <td>15:00:00</td>\n      <td>90.0</td>\n      <td>NaN</td>\n      <td>NaN</td>\n      <td>C</td>\n      <td>10</td>\n      <td>10</td>\n      <td>0.261827</td>\n      <td>False</td>\n    </tr>\n  </tbody>\n</table>\n<p>5 rows × 32 columns</p>\n</div>"
     },
     "execution_count": 7,
     "metadata": {},
     "output_type": "execute_result"
    }
   ],
   "source": [
    "starting_pos_plays.head()"
   ],
   "metadata": {
    "collapsed": false,
    "pycharm": {
     "name": "#%%\n"
    }
   }
  },
  {
   "cell_type": "code",
   "execution_count": 8,
   "outputs": [
    {
     "data": {
      "text/plain": "(263173, 32)"
     },
     "execution_count": 8,
     "metadata": {},
     "output_type": "execute_result"
    }
   ],
   "source": [
    "starting_pos_plays.shape"
   ],
   "metadata": {
    "collapsed": false,
    "pycharm": {
     "name": "#%%\n"
    }
   }
  },
  {
   "cell_type": "code",
   "execution_count": 9,
   "outputs": [],
   "source": [
    "games = pd.read_csv('nfl-big-data-bowl-2021/games.csv')"
   ],
   "metadata": {
    "collapsed": false,
    "pycharm": {
     "name": "#%%\n"
    }
   }
  },
  {
   "cell_type": "code",
   "execution_count": 10,
   "outputs": [],
   "source": [
    "starting_pos_play_game = starting_pos_plays.merge(games, on='gameId', how='left')"
   ],
   "metadata": {
    "collapsed": false,
    "pycharm": {
     "name": "#%%\n"
    }
   }
  },
  {
   "cell_type": "code",
   "execution_count": 11,
   "outputs": [],
   "source": [
    "starting_pos_play_game['offdef'] = np.where((starting_pos_play_game['team'] == 'away') &\n",
    "                                            (starting_pos_play_game['possessionTeam'] == starting_pos_play_game['visitorTeamAbbr']),\n",
    "                                            'offense', 'defense')"
   ],
   "metadata": {
    "collapsed": false,
    "pycharm": {
     "name": "#%%\n"
    }
   }
  },
  {
   "cell_type": "code",
   "execution_count": 12,
   "outputs": [],
   "source": [
    "starting_off = starting_pos_play_game[starting_pos_play_game['offdef'] == 'offense']"
   ],
   "metadata": {
    "collapsed": false,
    "pycharm": {
     "name": "#%%\n"
    }
   }
  },
  {
   "cell_type": "code",
   "execution_count": 13,
   "outputs": [],
   "source": [
    "personnel = starting_off['personnelO'].str.extract('(?P<RB>\\d+)\\sRB\\,\\s(?P<TE>\\d+)\\sTE\\,\\s(?P<WR>\\d+)\\sWR')\n",
    "personnel = personnel.astype(float)"
   ],
   "metadata": {
    "collapsed": false,
    "pycharm": {
     "name": "#%%\n"
    }
   }
  },
  {
   "cell_type": "code",
   "execution_count": 14,
   "outputs": [],
   "source": [
    "starting_off_pers = pd.concat([starting_off, personnel], axis=1)"
   ],
   "metadata": {
    "collapsed": false,
    "pycharm": {
     "name": "#%%\n"
    }
   }
  },
  {
   "cell_type": "code",
   "execution_count": 15,
   "outputs": [],
   "source": [
    "starting_off_pers['yardline_100'] = starting_off_pers['absoluteYardlineNumber'].sub(10)"
   ],
   "metadata": {
    "collapsed": false,
    "pycharm": {
     "name": "#%%\n"
    }
   }
  },
  {
   "cell_type": "code",
   "execution_count": 16,
   "outputs": [],
   "source": [
    "starting_off_pers['x_behind_line'] = np.where(starting_off_pers['x'].lt(starting_off_pers['yardline_100']),\n",
    "                                              starting_off_pers['yardline_100'].sub(starting_off_pers['x']),\n",
    "                                              starting_off_pers['x'].sub(starting_off_pers['yardline_100']))\n",
    "starting_off_pers['y_starting'] = starting_off_pers.groupby(['playId', 'gameId', 'nflId'])['y'].transform(lambda x: x.iloc[0])"
   ],
   "metadata": {
    "collapsed": false,
    "pycharm": {
     "name": "#%%\n"
    }
   }
  },
  {
   "cell_type": "code",
   "execution_count": 17,
   "outputs": [],
   "source": [
    "starting_pos_count = starting_off_pers.groupby(['gameId', 'playId', 'position', 'team']).apply(lambda x: x.cumsum())['position']"
   ],
   "metadata": {
    "collapsed": false,
    "pycharm": {
     "name": "#%%\n"
    }
   }
  },
  {
   "cell_type": "code",
   "execution_count": 18,
   "outputs": [],
   "source": [
    "position = starting_pos_count.map(lambda x: x[:2] + str(int(len(x) / 2)))"
   ],
   "metadata": {
    "collapsed": false,
    "pycharm": {
     "name": "#%%\n"
    }
   }
  },
  {
   "cell_type": "code",
   "execution_count": 19,
   "outputs": [],
   "source": [
    "starting_off_pers['position'] = position"
   ],
   "metadata": {
    "collapsed": false,
    "pycharm": {
     "name": "#%%\n"
    }
   }
  },
  {
   "cell_type": "code",
   "execution_count": 20,
   "outputs": [],
   "source": [
    "starting_x = (starting_off_pers\n",
    "    .pivot_table(columns='position', index=['gameId', 'playId'], values='x_behind_line').rename(lambda x: x + '_x', axis=1))"
   ],
   "metadata": {
    "collapsed": false,
    "pycharm": {
     "name": "#%%\n"
    }
   }
  },
  {
   "cell_type": "code",
   "execution_count": 21,
   "outputs": [],
   "source": [
    "starting_y = (starting_off_pers\n",
    "              .pivot_table(columns='position', index=['gameId', 'playId'], values='y_starting').rename(lambda x: x + '_y', axis=1))"
   ],
   "metadata": {
    "collapsed": false,
    "pycharm": {
     "name": "#%%\n"
    }
   }
  },
  {
   "cell_type": "code",
   "execution_count": 22,
   "outputs": [],
   "source": [
    "starting_pos = starting_x.merge(starting_y, left_index=True, right_index=True)"
   ],
   "metadata": {
    "collapsed": false,
    "pycharm": {
     "name": "#%%\n"
    }
   }
  },
  {
   "cell_type": "code",
   "execution_count": 23,
   "outputs": [
    {
     "data": {
      "text/plain": "['CB1_in',\n 'CB2_in',\n 'DB1_in',\n 'DB2_in',\n 'DE1_in',\n 'DL1_in',\n 'DT1_in',\n 'FB1_in',\n 'FS1_in',\n 'HB1_in',\n 'HB2_in',\n 'IL1_in',\n 'IL3_in',\n 'K0__in',\n 'LB1_in',\n 'LB2_in',\n 'LB3_in',\n 'LS1_in',\n 'NT1_in',\n 'OL1_in',\n 'OL3_in',\n 'OL4_in',\n 'P0__in',\n 'QB1_in',\n 'QB2_in',\n 'RB1_in',\n 'RB2_in',\n 'RB3_in',\n 'S0__in',\n 'SS1_in',\n 'SS2_in',\n 'TE1_in',\n 'TE2_in',\n 'TE3_in',\n 'TE4_in',\n 'WR1_in',\n 'WR2_in',\n 'WR3_in',\n 'WR4_in',\n 'WR5_in']"
     },
     "execution_count": 23,
     "metadata": {},
     "output_type": "execute_result"
    }
   ],
   "source": [
    "x_col = starting_pos.columns[starting_pos.columns.str.match('.*\\_x$')]\n",
    "cols = [col[:3] + '_in' for col in x_col]"
   ],
   "metadata": {
    "collapsed": false,
    "pycharm": {
     "name": "#%%\n"
    }
   }
  },
  {
   "cell_type": "code",
   "execution_count": 24,
   "outputs": [],
   "source": [
    "starting_pos[cols] = starting_pos[x_col].notnull()"
   ],
   "metadata": {
    "collapsed": false,
    "pycharm": {
     "name": "#%%\n"
    }
   }
  },
  {
   "cell_type": "code",
   "execution_count": 25,
   "outputs": [],
   "source": [
    "starting_pos.fillna(0, inplace=True)"
   ],
   "metadata": {
    "collapsed": false,
    "pycharm": {
     "name": "#%%\n"
    }
   }
  },
  {
   "cell_type": "code",
   "execution_count": 26,
   "outputs": [],
   "source": [
    "data = starting_pos.merge(starting_off_pers[['gameId', 'playId', 'offenseFormation']],\n",
    "                   left_index=True,\n",
    "                   right_on=['gameId', 'playId']).drop(['gameId', 'playId'], axis=1)"
   ],
   "metadata": {
    "collapsed": false,
    "pycharm": {
     "name": "#%%\n"
    }
   }
  },
  {
   "cell_type": "code",
   "execution_count": 27,
   "outputs": [],
   "source": [
    "data.drop_duplicates(inplace=True)"
   ],
   "metadata": {
    "collapsed": false,
    "pycharm": {
     "name": "#%%\n"
    }
   }
  },
  {
   "cell_type": "code",
   "execution_count": 28,
   "outputs": [],
   "source": [
    "data.dropna(axis=0, inplace=True)"
   ],
   "metadata": {
    "collapsed": false,
    "pycharm": {
     "name": "#%%\n"
    }
   }
  },
  {
   "cell_type": "code",
   "execution_count": 29,
   "outputs": [],
   "source": [
    "X = data.iloc[:, :-1]\n",
    "y = data['offenseFormation']"
   ],
   "metadata": {
    "collapsed": false,
    "pycharm": {
     "name": "#%%\n"
    }
   }
  },
  {
   "cell_type": "code",
   "execution_count": 30,
   "outputs": [],
   "source": [
    "from sklearn.model_selection import train_test_split\n",
    "\n",
    "X_train, X_test, y_train, y_test = train_test_split(X, y, random_state=0, stratify=y)"
   ],
   "metadata": {
    "collapsed": false,
    "pycharm": {
     "name": "#%%\n"
    }
   }
  },
  {
   "cell_type": "code",
   "execution_count": 31,
   "outputs": [],
   "source": [
    "from sklearn.preprocessing import StandardScaler\n",
    "\n",
    "scaler = StandardScaler()\n",
    "X_train_scaled = scaler.fit_transform(X_train)"
   ],
   "metadata": {
    "collapsed": false,
    "pycharm": {
     "name": "#%%\n"
    }
   }
  },
  {
   "cell_type": "code",
   "execution_count": 32,
   "outputs": [
    {
     "name": "stderr",
     "output_type": "stream",
     "text": [
      "/opt/anaconda3/lib/python3.8/site-packages/sklearn/model_selection/_split.py:676: UserWarning: The least populated class in y has only 4 members, which is less than n_splits=5.\n",
      "  warnings.warn(\n"
     ]
    },
    {
     "data": {
      "text/plain": "array([0.69596542, 0.68371758, 0.68781543, 0.68493151, 0.69286229])"
     },
     "execution_count": 32,
     "metadata": {},
     "output_type": "execute_result"
    }
   ],
   "source": [
    "from sklearn.linear_model import LogisticRegression\n",
    "from sklearn.model_selection import cross_val_score\n",
    "\n",
    "log_reg = LogisticRegression(max_iter=10000)\n",
    "cross_val_score(log_reg, X_train_scaled, y_train, cv=5)"
   ],
   "metadata": {
    "collapsed": false,
    "pycharm": {
     "name": "#%%\n"
    }
   }
  },
  {
   "cell_type": "code",
   "execution_count": 33,
   "outputs": [
    {
     "name": "stderr",
     "output_type": "stream",
     "text": [
      "/opt/anaconda3/lib/python3.8/site-packages/sklearn/model_selection/_split.py:676: UserWarning: The least populated class in y has only 4 members, which is less than n_splits=5.\n",
      "  warnings.warn(\n"
     ]
    },
    {
     "data": {
      "text/plain": "array([0.95028818, 0.94092219, 0.95962509, 0.94664744, 0.95457823])"
     },
     "execution_count": 33,
     "metadata": {},
     "output_type": "execute_result"
    }
   ],
   "source": [
    "from sklearn.ensemble import RandomForestClassifier\n",
    "\n",
    "rfor = RandomForestClassifier()\n",
    "cross_val_score(rfor, X_train_scaled, y_train, cv=5)"
   ],
   "metadata": {
    "collapsed": false,
    "pycharm": {
     "name": "#%%\n"
    }
   }
  },
  {
   "cell_type": "code",
   "execution_count": 34,
   "outputs": [
    {
     "data": {
      "text/plain": "0.9449330697412099"
     },
     "execution_count": 34,
     "metadata": {},
     "output_type": "execute_result"
    }
   ],
   "source": [
    "from sklearn.model_selection import GridSearchCV\n",
    "\n",
    "rfor = RandomForestClassifier(random_state=0)\n",
    "params = {'max_depth': [None] + list(range(1, 5))}\n",
    "grid_rfor = GridSearchCV(rfor, param_grid=params, cv=3, scoring='f1_micro')\n",
    "grid_rfor.fit(X_train_scaled, y_train)\n",
    "grid_rfor.best_score_"
   ],
   "metadata": {
    "collapsed": false,
    "pycharm": {
     "name": "#%%\n"
    }
   }
  },
  {
   "cell_type": "code",
   "execution_count": 35,
   "outputs": [
    {
     "data": {
      "text/plain": "{'max_depth': None}"
     },
     "execution_count": 35,
     "metadata": {},
     "output_type": "execute_result"
    }
   ],
   "source": [
    "grid_rfor.best_params_"
   ],
   "metadata": {
    "collapsed": false,
    "pycharm": {
     "name": "#%%\n"
    }
   }
  },
  {
   "cell_type": "code",
   "execution_count": 36,
   "outputs": [
    {
     "name": "stderr",
     "output_type": "stream",
     "text": [
      "/opt/anaconda3/lib/python3.8/site-packages/sklearn/model_selection/_split.py:676: UserWarning: The least populated class in y has only 4 members, which is less than n_splits=5.\n",
      "  warnings.warn(\n"
     ]
    },
    {
     "data": {
      "text/plain": "array([0.93731988, 0.9445245 , 0.9516943 , 0.9444845 , 0.93583273])"
     },
     "execution_count": 36,
     "metadata": {},
     "output_type": "execute_result"
    }
   ],
   "source": [
    "from sklearn.tree import DecisionTreeClassifier\n",
    "\n",
    "dtree = DecisionTreeClassifier()\n",
    "cross_val_score(dtree, X_train_scaled, y_train)"
   ],
   "metadata": {
    "collapsed": false,
    "pycharm": {
     "name": "#%%\n"
    }
   }
  },
  {
   "cell_type": "code",
   "execution_count": 37,
   "outputs": [
    {
     "data": {
      "text/plain": "0.9387349024195523"
     },
     "execution_count": 37,
     "metadata": {},
     "output_type": "execute_result"
    }
   ],
   "source": [
    "dtree = DecisionTreeClassifier(random_state=0)\n",
    "params = {'max_depth': [None] + list(range(1, 5)), 'min_samples_split': range(2, 10)}\n",
    "grid_dtree = GridSearchCV(dtree, param_grid=params, cv=3, scoring='f1_micro')\n",
    "grid_dtree.fit(X_train_scaled, y_train)\n",
    "grid_dtree.best_score_"
   ],
   "metadata": {
    "collapsed": false,
    "pycharm": {
     "name": "#%%\n"
    }
   }
  },
  {
   "cell_type": "code",
   "execution_count": 38,
   "outputs": [],
   "source": [
    "X_test_scaled = scaler.transform(X_test)"
   ],
   "metadata": {
    "collapsed": false,
    "pycharm": {
     "name": "#%%\n"
    }
   }
  },
  {
   "cell_type": "code",
   "execution_count": 39,
   "outputs": [
    {
     "name": "stdout",
     "output_type": "stream",
     "text": [
      "              precision    recall  f1-score   support\n",
      "\n",
      "       EMPTY       0.96      0.93      0.94       298\n",
      "      I_FORM       0.84      0.80      0.82       114\n",
      "       JUMBO       0.67      0.86      0.75         7\n",
      "      PISTOL       1.00      0.06      0.12        31\n",
      "     SHOTGUN       0.97      0.99      0.98      1528\n",
      "  SINGLEBACK       0.93      0.95      0.94       334\n",
      "     WILDCAT       0.00      0.00      0.00         1\n",
      "\n",
      "    accuracy                           0.95      2313\n",
      "   macro avg       0.77      0.66      0.65      2313\n",
      "weighted avg       0.95      0.95      0.95      2313\n",
      "\n",
      "[[ 276    0    0    0   22    0    0]\n",
      " [   0   91    0    0    0   23    0]\n",
      " [   0    1    6    0    0    0    0]\n",
      " [   1    2    0    2   26    0    0]\n",
      " [  11    0    2    0 1515    0    0]\n",
      " [   0   14    1    0    2  317    0]\n",
      " [   0    0    0    0    1    0    0]]\n"
     ]
    },
    {
     "name": "stderr",
     "output_type": "stream",
     "text": [
      "/opt/anaconda3/lib/python3.8/site-packages/sklearn/metrics/_classification.py:1318: UndefinedMetricWarning: Precision and F-score are ill-defined and being set to 0.0 in labels with no predicted samples. Use `zero_division` parameter to control this behavior.\n",
      "  _warn_prf(average, modifier, msg_start, len(result))\n",
      "/opt/anaconda3/lib/python3.8/site-packages/sklearn/metrics/_classification.py:1318: UndefinedMetricWarning: Precision and F-score are ill-defined and being set to 0.0 in labels with no predicted samples. Use `zero_division` parameter to control this behavior.\n",
      "  _warn_prf(average, modifier, msg_start, len(result))\n",
      "/opt/anaconda3/lib/python3.8/site-packages/sklearn/metrics/_classification.py:1318: UndefinedMetricWarning: Precision and F-score are ill-defined and being set to 0.0 in labels with no predicted samples. Use `zero_division` parameter to control this behavior.\n",
      "  _warn_prf(average, modifier, msg_start, len(result))\n"
     ]
    }
   ],
   "source": [
    "from sklearn.metrics import classification_report\n",
    "from sklearn.metrics import confusion_matrix\n",
    "\n",
    "y_pred = grid_rfor.predict(X_test_scaled)\n",
    "print(classification_report(y_test, y_pred))\n",
    "print(confusion_matrix(y_test, y_pred))"
   ],
   "metadata": {
    "collapsed": false,
    "pycharm": {
     "name": "#%%\n"
    }
   }
  },
  {
   "cell_type": "code",
   "execution_count": 40,
   "outputs": [
    {
     "name": "stdout",
     "output_type": "stream",
     "text": [
      "              precision    recall  f1-score   support\n",
      "\n",
      "       EMPTY       1.00      1.00      1.00       894\n",
      "      I_FORM       1.00      1.00      1.00       342\n",
      "       JUMBO       1.00      1.00      1.00        20\n",
      "      PISTOL       1.00      1.00      1.00        92\n",
      "     SHOTGUN       1.00      1.00      1.00      4581\n",
      "  SINGLEBACK       1.00      1.00      1.00      1004\n",
      "     WILDCAT       1.00      1.00      1.00         4\n",
      "\n",
      "    accuracy                           1.00      6937\n",
      "   macro avg       1.00      1.00      1.00      6937\n",
      "weighted avg       1.00      1.00      1.00      6937\n",
      "\n",
      "[[ 894    0    0    0    0    0    0]\n",
      " [   0  342    0    0    0    0    0]\n",
      " [   0    0   20    0    0    0    0]\n",
      " [   0    0    0   92    0    0    0]\n",
      " [   0    0    0    0 4581    0    0]\n",
      " [   0    0    0    0    0 1004    0]\n",
      " [   0    0    0    0    0    0    4]]\n"
     ]
    }
   ],
   "source": [
    "y_pred_train = grid_rfor.predict(X_train_scaled)\n",
    "print(classification_report(y_train, y_pred_train))\n",
    "print(confusion_matrix(y_train, y_pred_train))"
   ],
   "metadata": {
    "collapsed": false,
    "pycharm": {
     "name": "#%%\n"
    }
   }
  },
  {
   "cell_type": "code",
   "execution_count": 41,
   "outputs": [
    {
     "data": {
      "text/plain": "0.6606139213143104"
     },
     "execution_count": 41,
     "metadata": {},
     "output_type": "execute_result"
    }
   ],
   "source": [
    "from sklearn.dummy import DummyClassifier\n",
    "\n",
    "dummy = DummyClassifier(strategy='most_frequent')\n",
    "dummy.fit(X_train_scaled, y_train)\n",
    "y_pred_dummy = dummy.predict(X_test_scaled)\n",
    "np.mean(y_test == y_pred_dummy)"
   ],
   "metadata": {
    "collapsed": false,
    "pycharm": {
     "name": "#%%\n"
    }
   }
  },
  {
   "cell_type": "code",
   "execution_count": null,
   "outputs": [],
   "source": [],
   "metadata": {
    "collapsed": false,
    "pycharm": {
     "name": "#%%\n"
    }
   }
  }
 ],
 "metadata": {
  "kernelspec": {
   "display_name": "Python 3",
   "language": "python",
   "name": "python3"
  },
  "language_info": {
   "codemirror_mode": {
    "name": "ipython",
    "version": 2
   },
   "file_extension": ".py",
   "mimetype": "text/x-python",
   "name": "python",
   "nbconvert_exporter": "python",
   "pygments_lexer": "ipython2",
   "version": "2.7.6"
  }
 },
 "nbformat": 4,
 "nbformat_minor": 0
}