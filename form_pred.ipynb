{
 "cells": [
  {
   "cell_type": "code",
   "execution_count": 9,
   "metadata": {},
   "outputs": [
    {
     "name": "stdout",
     "output_type": "stream",
     "text": [
      "\n",
      "This process will pip install Kaggle and download data through Kaggle API.\n",
      "\n",
      "Please confirm that you've downloaded Kaggle JSON credentials into directory\n",
      "\n",
      "Data Successfully Downloaded\n"
     ]
    }
   ],
   "source": [
    "import pandas as pd\n",
    "import numpy as np\n",
    "from get_data import get_assets, get_positional_data\n",
    "\n",
    "get_assets()\n",
    "positions = get_positional_data()"
   ]
  },
  {
   "cell_type": "code",
   "execution_count": 38,
   "metadata": {
    "collapsed": false,
    "pycharm": {
     "name": "#%%\n"
    }
   },
   "outputs": [],
   "source": [
    "def clean_positional(positions, first = 1, last = 17):\n",
    "    # reading plays (see play data https://www.kaggle.com/c/nfl-big-data-bowl-2021/data)\n",
    "    plays = pd.read_csv('nfl-big-data-bowl-2021/plays.csv')\n",
    "    games = pd.read_csv('nfl-big-data-bowl-2021/games.csv')\n",
    "    \n",
    "    #to_datetime\n",
    "    positions['time'] = pd.to_datetime(positions['time'], format='%Y-%m-%dT%H:%M:%S')\n",
    "    #print(positions.columns)\n",
    "\n",
    "    if (first != 1) or (last != 17):\n",
    "        week_game_id = list(games[games['week'].isin(list(np.arange(first,last+1)))]['gameId'].drop_duplicates())\n",
    "        positions = positions[positions['gameId'].isin(week_game_id)]\n",
    "\n",
    "    # Get starting position of offensive players\n",
    "    starting_pos = positions.groupby(['gameId', 'playId', 'position', 'nflId', 'team'])[['x', 'y']].first().reset_index()\n",
    "    \n",
    "    # merging play data (see play data https://www.kaggle.com/c/nfl-big-data-bowl-2021/data)\n",
    "    starting_pos_plays = starting_pos.merge(plays, on=['gameId', 'playId'], how='left')\n",
    "\n",
    "    # data cleaning where yardline is not Null\n",
    "    starting_pos_plays = starting_pos_plays[starting_pos_plays['absoluteYardlineNumber'].notnull()]\n",
    "\n",
    "    # bring in game info (see game info data https://www.kaggle.com/c/nfl-big-data-bowl-2021/data)\n",
    "    games = pd.read_csv('nfl-big-data-bowl-2021/games.csv')\n",
    "\n",
    "    #bringing in features from games\n",
    "    starting_pos_play_game = starting_pos_plays.merge(games, on='gameId', how='left')\n",
    "\n",
    "    #naming which team has the ball as offense or defense\n",
    "    starting_pos_play_game['offdef'] = np.where((starting_pos_play_game['team'] == 'away') &\n",
    "                                                (starting_pos_play_game['possessionTeam'] == starting_pos_play_game['visitorTeamAbbr']),\n",
    "                                                'offense', 'defense')\n",
    "\n",
    "    #starting position from offense players \n",
    "    starting_off = starting_pos_play_game[starting_pos_play_game['offdef'] == 'offense']\n",
    "\n",
    "    # What personal is on the field\n",
    "    personnel = starting_off['personnelO'].str.extract('(?P<RB>\\d+)\\sRB\\,\\s(?P<TE>\\d+)\\sTE\\,\\s(?P<WR>\\d+)\\sWR')\n",
    "    personnel = personnel.astype(float)\n",
    "\n",
    "    # Adding that as a feature in the new DF\n",
    "    starting_off_pers = pd.concat([starting_off, personnel], axis=1)\n",
    "\n",
    "    # Subtracting 10 because the endzone adds 10 years to field \n",
    "    starting_off_pers['yardline_100'] = starting_off_pers['absoluteYardlineNumber'].sub(10)\n",
    "\n",
    "    # If position X is less than yardline100, return yardline100 - starting position, else, starting position - yardline. \n",
    "    # This gets # of yards behind line no matter which way they are facing.\n",
    "\n",
    "    # Y starting is the y coords of the starting position.\n",
    "    starting_off_pers['off_pos'] = np.where(starting_off_pers['x'].lt(starting_off_pers['absoluteYardlineNumber']), 'left', 'right')\n",
    "    starting_off_pers['x_behind_line'] = np.where(starting_off_pers['off_pos'] == 'right',\n",
    "                                                starting_off_pers['absoluteYardlineNumber'].sub(starting_off_pers['x']),\n",
    "                                                starting_off_pers['x'].sub(starting_off_pers['absoluteYardlineNumber']))\n",
    "    starting_off_pers['y_starting'] = np.where(starting_off_pers['off_pos'] == 'right',\n",
    "                                            starting_off_pers['y'].rsub(53.3), starting_off_pers['y'])\n",
    "\n",
    "    def find_rank(df, col, reverse=False):\n",
    "        \"\"\"\n",
    "        Find the ranking of a series based on values.\n",
    "        :param df: Dataframe for ranking; pd.DataFrame\n",
    "        :param col: Column from dataframe to rank; str\n",
    "        :param reverse: Flag of whether to reverse rank direction; bool\n",
    "        :return: Array with rankings; np.array\n",
    "        \"\"\"\n",
    "        # Extract series and use arsort to find rankings.\n",
    "        ser = df[col]\n",
    "        temp = np.argsort(ser)\n",
    "\n",
    "        # Reverse direction based on flag.\n",
    "        if reverse:\n",
    "            temp = temp[::-1]\n",
    "\n",
    "        # Fill ranking array.\n",
    "        ranks = np.empty_like(temp)\n",
    "        ranks[temp] = np.arange(ser.shape[0])\n",
    "        return ranks\n",
    "\n",
    "    # Find the order of positions based on offensive direction.\n",
    "    # First, group and extract first value of the y starting position and direction.\n",
    "    pos_start = (starting_off_pers\n",
    "                .groupby(['gameId', 'playId', 'position', 'nflId'])\n",
    "                [['y_starting', 'x', 'off_pos']].first()\n",
    "                .reset_index())\n",
    "\n",
    "    # Next, group and extract ranking of positions based on whether team is home or away\n",
    "    # and the starting position.\n",
    "    pos_order = (pos_start.groupby(['gameId', 'playId', 'position'])\n",
    "                .apply(lambda x: np.where(x['off_pos'] == 'right', find_rank(x, 'y_starting'),\n",
    "                                        find_rank(x, 'y_starting')))\n",
    "                .explode()\n",
    "                .reset_index()\n",
    "                )\n",
    "\n",
    "    # Add column with the position order to the df with indexed starting position.\n",
    "    pos_start['pos_order'] = pos_order[0]\n",
    "\n",
    "    # Add number of position to position label to get position number.\n",
    "    pos_start['pos_num'] = pos_start.apply(lambda x: x['position'] + str(x['pos_order']), axis=1)\n",
    "\n",
    "    #Adding a label of the players position (WR1, WR2). This makes sense from a numerical stand point, but shouldn't be used\n",
    "    #to classify a team's WR1 WR2 etc.\n",
    "\n",
    "    starting_off_pers = starting_off_pers.merge(pos_start[['gameId', 'playId', 'nflId', 'pos_num', 'pos_order']],\n",
    "                                                on=['gameId', 'playId', 'nflId'])\n",
    "\n",
    "    # Convert to matrix of GameID and PlayID. Grab number of yards behind line for each player. \n",
    "    starting_x = (starting_off_pers\n",
    "        .pivot_table(columns='pos_num', index=['gameId', 'playId'], values='x_behind_line').rename(lambda x: x + '_x', axis=1))\n",
    "\n",
    "    #Same as above, but for Y coords.\n",
    "    starting_y = (starting_off_pers\n",
    "                .pivot_table(columns='pos_num', index=['gameId', 'playId'], values='y_starting').rename(lambda x: x + '_y', axis=1))\n",
    "\n",
    "    #merging to get coords of players with _X and _Y\n",
    "    starting_pos = starting_x.merge(starting_y, left_index=True, right_index=True)\n",
    "\n",
    "    #X_col is getting all the X columns. Cols is creating a list that say \"WR1_in\", \"FB1_in\" etc\n",
    "    x_col = starting_pos.columns[starting_pos.columns.str.match('.*\\_x$')]\n",
    "    cols = [col[:3] + '_in' for col in x_col]\n",
    "\n",
    "    # Creating addition columns (boolean) for X player being in. If TE1 is in, flag says TRUE\n",
    "    starting_pos[cols] = starting_pos[x_col].notnull()\n",
    "    \n",
    "    #Sparse Matrix\n",
    "    starting_pos.fillna(0, inplace=True)\n",
    "\n",
    "    #Final data! Everything is getting merged together.\n",
    "    data = starting_pos.merge(starting_off_pers[['gameId', 'playId', 'offenseFormation']],\n",
    "                    left_index=True,\n",
    "                    right_on=['gameId', 'playId']).drop(['gameId', 'playId'], axis=1)\n",
    "\n",
    "    data.drop_duplicates(inplace=True)\n",
    "    data.dropna(axis=0, inplace=True)\n",
    "\n",
    "    return data\n",
    "\n",
    "        "
   ]
  },
  {
   "cell_type": "code",
   "execution_count": 42,
   "metadata": {
    "collapsed": false,
    "pycharm": {
     "name": "#%%\n"
    }
   },
   "outputs": [],
   "source": [
    "# Will need to determine what gameIDs constitute our train/test sets. Probably just week 1-14 train 15-17 test. \n",
    "#  #train = clean_positional(positions, first = 1 , last = 14)\n",
    "#  #test = clean_positional(positions, first = 15, last = 17)\n",
    "\n",
    "data = clean_positional(positions)\n"
   ]
  },
  {
   "cell_type": "code",
   "execution_count": 94,
   "metadata": {
    "collapsed": false,
    "pycharm": {
     "name": "#%%\n"
    }
   },
   "outputs": [],
   "source": [
    "X = data.iloc[:, :-1]\n",
    "y = data['offenseFormation']"
   ]
  },
  {
   "cell_type": "code",
   "execution_count": 95,
   "metadata": {
    "collapsed": false,
    "pycharm": {
     "name": "#%%\n"
    }
   },
   "outputs": [],
   "source": [
    "from sklearn.model_selection import train_test_split\n",
    "\n",
    "X_train, X_test, y_train, y_test = train_test_split(X, y, random_state=0, stratify=y)"
   ]
  },
  {
   "cell_type": "code",
   "execution_count": 96,
   "metadata": {
    "collapsed": false,
    "pycharm": {
     "name": "#%%\n"
    }
   },
   "outputs": [],
   "source": [
    "from sklearn.preprocessing import StandardScaler\n",
    "\n",
    "scaler = StandardScaler()\n",
    "X_train_scaled = scaler.fit_transform(X_train)"
   ]
  },
  {
   "cell_type": "code",
   "execution_count": 97,
   "metadata": {
    "collapsed": false,
    "pycharm": {
     "name": "#%%\n"
    }
   },
   "outputs": [
    {
     "name": "stderr",
     "output_type": "stream",
     "text": [
      "/opt/anaconda3/lib/python3.8/site-packages/sklearn/model_selection/_split.py:676: UserWarning: The least populated class in y has only 4 members, which is less than n_splits=5.\n",
      "  warnings.warn(\n"
     ]
    },
    {
     "data": {
      "text/plain": [
       "array([0.95461095, 0.95028818, 0.96106705, 0.95529921, 0.95313627])"
      ]
     },
     "execution_count": 97,
     "metadata": {},
     "output_type": "execute_result"
    }
   ],
   "source": [
    "from sklearn.linear_model import LogisticRegression\n",
    "from sklearn.model_selection import cross_val_score\n",
    "\n",
    "log_reg = LogisticRegression(max_iter=10000)\n",
    "cross_val_score(log_reg, X_train_scaled, y_train, cv=5)"
   ]
  },
  {
   "cell_type": "code",
   "execution_count": 98,
   "metadata": {
    "collapsed": false,
    "pycharm": {
     "name": "#%%\n"
    }
   },
   "outputs": [
    {
     "name": "stderr",
     "output_type": "stream",
     "text": [
      "/opt/anaconda3/lib/python3.8/site-packages/sklearn/model_selection/_split.py:676: UserWarning: The least populated class in y has only 4 members, which is less than n_splits=5.\n",
      "  warnings.warn(\n"
     ]
    },
    {
     "data": {
      "text/plain": [
       "array([0.96325648, 0.95893372, 0.9668349 , 0.95674117, 0.96395097])"
      ]
     },
     "execution_count": 98,
     "metadata": {},
     "output_type": "execute_result"
    }
   ],
   "source": [
    "from sklearn.ensemble import RandomForestClassifier\n",
    "\n",
    "rfor = RandomForestClassifier()\n",
    "cross_val_score(rfor, X_train_scaled, y_train, cv=5)"
   ]
  },
  {
   "cell_type": "code",
   "execution_count": 99,
   "metadata": {
    "collapsed": false,
    "pycharm": {
     "name": "#%%\n"
    }
   },
   "outputs": [
    {
     "data": {
      "text/plain": [
       "0.9597801354462591"
      ]
     },
     "execution_count": 99,
     "metadata": {},
     "output_type": "execute_result"
    }
   ],
   "source": [
    "from sklearn.model_selection import GridSearchCV\n",
    "\n",
    "rfor = RandomForestClassifier(random_state=0)\n",
    "params = {'max_depth': [None] + list(range(1, 5))}\n",
    "grid_rfor = GridSearchCV(rfor, param_grid=params, cv=3, scoring='f1_micro')\n",
    "grid_rfor.fit(X_train_scaled, y_train)\n",
    "grid_rfor.best_score_"
   ]
  },
  {
   "cell_type": "code",
   "execution_count": 100,
   "metadata": {
    "collapsed": false,
    "pycharm": {
     "name": "#%%\n"
    }
   },
   "outputs": [
    {
     "data": {
      "text/plain": [
       "{'max_depth': None}"
      ]
     },
     "execution_count": 100,
     "metadata": {},
     "output_type": "execute_result"
    }
   ],
   "source": [
    "grid_rfor.best_params_"
   ]
  },
  {
   "cell_type": "code",
   "execution_count": 101,
   "metadata": {
    "collapsed": false,
    "pycharm": {
     "name": "#%%\n"
    }
   },
   "outputs": [
    {
     "name": "stderr",
     "output_type": "stream",
     "text": [
      "/opt/anaconda3/lib/python3.8/site-packages/sklearn/model_selection/_split.py:676: UserWarning: The least populated class in y has only 4 members, which is less than n_splits=5.\n",
      "  warnings.warn(\n"
     ]
    },
    {
     "data": {
      "text/plain": [
       "array([0.95893372, 0.94524496, 0.96250901, 0.96395097, 0.95313627])"
      ]
     },
     "execution_count": 101,
     "metadata": {},
     "output_type": "execute_result"
    }
   ],
   "source": [
    "from sklearn.tree import DecisionTreeClassifier\n",
    "\n",
    "dtree = DecisionTreeClassifier()\n",
    "cross_val_score(dtree, X_train_scaled, y_train)"
   ]
  },
  {
   "cell_type": "code",
   "execution_count": 102,
   "metadata": {
    "collapsed": false,
    "pycharm": {
     "name": "#%%\n"
    }
   },
   "outputs": [
    {
     "data": {
      "text/plain": [
       "0.9592040575035742"
      ]
     },
     "execution_count": 102,
     "metadata": {},
     "output_type": "execute_result"
    }
   ],
   "source": [
    "dtree = DecisionTreeClassifier(random_state=0)\n",
    "params = {'max_depth': [None] + list(range(1, 5)), 'min_samples_split': range(2, 10)}\n",
    "grid_dtree = GridSearchCV(dtree, param_grid=params, cv=3, scoring='f1_micro')\n",
    "grid_dtree.fit(X_train_scaled, y_train)\n",
    "grid_dtree.best_score_"
   ]
  },
  {
   "cell_type": "code",
   "execution_count": 103,
   "metadata": {
    "collapsed": false,
    "pycharm": {
     "name": "#%%\n"
    }
   },
   "outputs": [],
   "source": [
    "X_test_scaled = scaler.transform(X_test)"
   ]
  },
  {
   "cell_type": "code",
   "execution_count": 104,
   "metadata": {
    "collapsed": false,
    "pycharm": {
     "name": "#%%\n"
    }
   },
   "outputs": [
    {
     "name": "stdout",
     "output_type": "stream",
     "text": [
      "              precision    recall  f1-score   support\n",
      "\n",
      "       EMPTY       0.97      0.96      0.96       298\n",
      "      I_FORM       0.92      0.85      0.88       114\n",
      "       JUMBO       0.56      0.71      0.63         7\n",
      "      PISTOL       1.00      0.13      0.23        31\n",
      "     SHOTGUN       0.98      0.99      0.98      1528\n",
      "  SINGLEBACK       0.94      0.98      0.96       334\n",
      "     WILDCAT       0.00      0.00      0.00         1\n",
      "\n",
      "    accuracy                           0.97      2313\n",
      "   macro avg       0.77      0.66      0.66      2313\n",
      "weighted avg       0.97      0.97      0.96      2313\n",
      "\n",
      "[[ 285    0    0    0   10    3    0]\n",
      " [   0   97    0    0    1   16    0]\n",
      " [   0    2    5    0    0    0    0]\n",
      " [   1    1    0    4   25    0    0]\n",
      " [   8    0    3    0 1516    1    0]\n",
      " [   0    6    1    0    1  326    0]\n",
      " [   0    0    0    0    1    0    0]]\n"
     ]
    },
    {
     "name": "stderr",
     "output_type": "stream",
     "text": [
      "/opt/anaconda3/lib/python3.8/site-packages/sklearn/metrics/_classification.py:1318: UndefinedMetricWarning: Precision and F-score are ill-defined and being set to 0.0 in labels with no predicted samples. Use `zero_division` parameter to control this behavior.\n",
      "  _warn_prf(average, modifier, msg_start, len(result))\n",
      "/opt/anaconda3/lib/python3.8/site-packages/sklearn/metrics/_classification.py:1318: UndefinedMetricWarning: Precision and F-score are ill-defined and being set to 0.0 in labels with no predicted samples. Use `zero_division` parameter to control this behavior.\n",
      "  _warn_prf(average, modifier, msg_start, len(result))\n",
      "/opt/anaconda3/lib/python3.8/site-packages/sklearn/metrics/_classification.py:1318: UndefinedMetricWarning: Precision and F-score are ill-defined and being set to 0.0 in labels with no predicted samples. Use `zero_division` parameter to control this behavior.\n",
      "  _warn_prf(average, modifier, msg_start, len(result))\n"
     ]
    }
   ],
   "source": [
    "from sklearn.metrics import classification_report\n",
    "from sklearn.metrics import confusion_matrix\n",
    "\n",
    "y_pred = grid_rfor.predict(X_test_scaled)\n",
    "print(classification_report(y_test, y_pred))\n",
    "print(confusion_matrix(y_test, y_pred))"
   ]
  },
  {
   "cell_type": "code",
   "execution_count": 105,
   "metadata": {
    "collapsed": false,
    "pycharm": {
     "name": "#%%\n"
    }
   },
   "outputs": [
    {
     "name": "stdout",
     "output_type": "stream",
     "text": [
      "              precision    recall  f1-score   support\n",
      "\n",
      "       EMPTY       1.00      1.00      1.00       894\n",
      "      I_FORM       1.00      1.00      1.00       342\n",
      "       JUMBO       1.00      1.00      1.00        20\n",
      "      PISTOL       1.00      1.00      1.00        92\n",
      "     SHOTGUN       1.00      1.00      1.00      4581\n",
      "  SINGLEBACK       1.00      1.00      1.00      1004\n",
      "     WILDCAT       1.00      1.00      1.00         4\n",
      "\n",
      "    accuracy                           1.00      6937\n",
      "   macro avg       1.00      1.00      1.00      6937\n",
      "weighted avg       1.00      1.00      1.00      6937\n",
      "\n",
      "[[ 894    0    0    0    0    0    0]\n",
      " [   0  342    0    0    0    0    0]\n",
      " [   0    0   20    0    0    0    0]\n",
      " [   0    0    0   92    0    0    0]\n",
      " [   0    0    0    0 4581    0    0]\n",
      " [   0    0    0    0    0 1004    0]\n",
      " [   0    0    0    0    0    0    4]]\n"
     ]
    }
   ],
   "source": [
    "y_pred_train = grid_rfor.predict(X_train_scaled)\n",
    "print(classification_report(y_train, y_pred_train))\n",
    "print(confusion_matrix(y_train, y_pred_train))"
   ]
  },
  {
   "cell_type": "code",
   "execution_count": 106,
   "metadata": {
    "collapsed": false,
    "pycharm": {
     "name": "#%%\n"
    }
   },
   "outputs": [
    {
     "data": {
      "text/plain": [
       "0.6606139213143104"
      ]
     },
     "execution_count": 106,
     "metadata": {},
     "output_type": "execute_result"
    }
   ],
   "source": [
    "from sklearn.dummy import DummyClassifier\n",
    "\n",
    "dummy = DummyClassifier(strategy='most_frequent')\n",
    "dummy.fit(X_train_scaled, y_train)\n",
    "y_pred_dummy = dummy.predict(X_test_scaled)\n",
    "np.mean(y_test == y_pred_dummy)"
   ]
  },
  {
   "cell_type": "code",
   "execution_count": null,
   "metadata": {
    "collapsed": false,
    "pycharm": {
     "name": "#%%\n"
    }
   },
   "outputs": [],
   "source": []
  }
 ],
 "metadata": {
  "kernelspec": {
   "display_name": "Python 3",
   "language": "python",
   "name": "python3"
  },
  "language_info": {
   "codemirror_mode": {
    "name": "ipython",
    "version": 3
   },
   "file_extension": ".py",
   "mimetype": "text/x-python",
   "name": "python",
   "nbconvert_exporter": "python",
   "pygments_lexer": "ipython3",
   "version": "3.8.8"
  }
 },
 "nbformat": 4,
 "nbformat_minor": 0
}
