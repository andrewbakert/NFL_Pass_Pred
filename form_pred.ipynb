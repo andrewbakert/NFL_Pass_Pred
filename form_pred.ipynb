{
 "cells": [
  {
   "cell_type": "code",
   "execution_count": 3,
   "metadata": {},
   "outputs": [
    {
     "name": "stdout",
     "output_type": "stream",
     "text": [
      "\n",
      "This process will pip install Kaggle and download data through Kaggle API.\n",
      "\n",
      "Please confirm that you've downloaded Kaggle JSON credentials into directory\n",
      "\n",
      "Data Successfully Downloaded\n"
     ]
    }
   ],
   "source": [
    "import pandas as pd\n",
    "import numpy as np\n",
    "from get_data import get_assets, get_positional_data\n",
    "\n",
    "get_assets()\n",
    "positions = get_positional_data()"
   ]
  },
  {
   "cell_type": "code",
   "execution_count": 47,
   "metadata": {
    "collapsed": false,
    "pycharm": {
     "name": "#%%\n"
    }
   },
   "outputs": [],
   "source": [
    "def clean_positional(positions, first = 1, last = 17):\n",
    "    # reading plays (see play data https://www.kaggle.com/c/nfl-big-data-bowl-2021/data)\n",
    "    plays = pd.read_csv('nfl-big-data-bowl-2021/plays.csv')\n",
    "    games = pd.read_csv('nfl-big-data-bowl-2021/games.csv')\n",
    "    \n",
    "    #to_datetime\n",
    "    positions['time'] = pd.to_datetime(positions['time'], format='%Y-%m-%dT%H:%M:%S')\n",
    "    #print(positions.columns)\n",
    "\n",
    "    if (first != 1) or (last != 17):\n",
    "        week_game_id = list(games[games['week'].isin(np.arange(first,last+1))]['gameId'].drop_duplicates())\n",
    "        positions = positions[positions['gameId'].isin(week_game_id)]\n",
    "\n",
    "    #get frame id of snap for each game and play id\n",
    "    snap_frames = positions[positions['event'] == 'ball_snap'][['gameId','playId','frameId']]\n",
    "\n",
    "    #get frame prior (unless snapped on frame 1)\n",
    "    snap_frames['presnapId'] = snap_frames['frameId'].apply(lambda x: int(x)-1 if x>1 else x)\n",
    "\n",
    "    #merge to remove all non frame snap -1 data\n",
    "    presnap_df = positions.merge(snap_frames[['gameId','playId','presnapId']], left_on= ['gameId','playId','frameId'], right_on=['gameId','playId','presnapId'], how = 'right')\n",
    "    \n",
    "    # Get starting position of offensive players\n",
    "    starting_pos = presnap_df.groupby(['gameId', 'playId', 'position', 'nflId', 'team'])[['x', 'y']].first().reset_index()\n",
    "    \n",
    "    # merging play data (see play data https://www.kaggle.com/c/nfl-big-data-bowl-2021/data)\n",
    "    starting_pos_plays = starting_pos.merge(plays, on=['gameId', 'playId'], how='left')\n",
    "\n",
    "    # data cleaning where yardline is not Null\n",
    "    starting_pos_plays = starting_pos_plays[starting_pos_plays['absoluteYardlineNumber'].notnull()]\n",
    "    # bring in game info (see game info data https://www.kaggle.com/c/nfl-big-data-bowl-2021/data)\n",
    "    games = pd.read_csv('nfl-big-data-bowl-2021/games.csv')\n",
    "\n",
    "    #bringing in features from games\n",
    "    starting_pos_play_game = starting_pos_plays.merge(games, on='gameId', how='left')\n",
    "    #naming which team has the ball as offense or defense\n",
    "    starting_pos_play_game['offdef'] = np.where((starting_pos_play_game['team'] == 'away') &\n",
    "                                                (starting_pos_play_game['possessionTeam'] == starting_pos_play_game['visitorTeamAbbr']) | (starting_pos_play_game['team'] == 'home') &\n",
    "                                                (starting_pos_play_game['possessionTeam'] == starting_pos_play_game['homeTeamAbbr']),\n",
    "                                                'offense', 'defense')\n",
    "\n",
    "    #starting position from offense players \n",
    "    starting_off = starting_pos_play_game[starting_pos_play_game['offdef'] == 'offense']\n",
    "\n",
    "    # What personal is on the field\n",
    "    personnel = starting_off['personnelO'].str.extract('(?P<RB>\\d+)\\sRB\\,\\s(?P<TE>\\d+)\\sTE\\,\\s(?P<WR>\\d+)\\sWR')\n",
    "    personnel = personnel.astype(float)\n",
    "\n",
    "    # Adding that as a feature in the new DF\n",
    "    starting_off_pers = pd.concat([starting_off, personnel], axis=1)\n",
    "\n",
    "    # Subtracting 10 because the endzone adds 10 years to field \n",
    "    starting_off_pers['yardline_100'] = starting_off_pers['absoluteYardlineNumber'].sub(10)\n",
    "\n",
    "    # If position X is less than yardline100, return yardline100 - starting position, else, starting position - yardline. \n",
    "    # This gets # of yards behind line no matter which way they are facing.\n",
    "\n",
    "    # Y starting is the y coords of the starting position.\n",
    "    starting_off_pers['off_pos'] = np.where(starting_off_pers['x'].lt(starting_off_pers['absoluteYardlineNumber']), 'left', 'right')\n",
    "    starting_off_pers['x_behind_line'] = np.where(starting_off_pers['off_pos'] == 'right',\n",
    "                                                starting_off_pers['absoluteYardlineNumber'].sub(starting_off_pers['x']),\n",
    "                                                starting_off_pers['x'].sub(starting_off_pers['absoluteYardlineNumber']))\n",
    "    starting_off_pers['y_starting'] = np.where(starting_off_pers['off_pos'] == 'right',\n",
    "                                            starting_off_pers['y'].rsub(53.3), starting_off_pers['y'])\n",
    "\n",
    "    # Y QB is the y starting position of the quarterback.\n",
    "    starting_off_pers['y_qb'] = starting_off_pers.groupby(['gameId', 'playId']).apply(lambda x: np.repeat(53.3/2, x.shape[0])\n",
    "        if x[x['position'] == 'QB'].shape[0] == 0 else np.repeat(x[x['position'] == 'QB']['y_starting'].iloc[0], x.shape[0])).explode().values\n",
    "    starting_off_pers['y_qb'] = starting_off_pers['y_qb'].astype(float)\n",
    "\n",
    "    # Find side of player relative to QB and the starting y coordinates relative to the QB.\n",
    "    starting_off_pers['qb_side'] = np.where(starting_off_pers['y_starting'].gt(starting_off_pers['y_qb']), 'R', 'L')\n",
    "    starting_off_pers['y_starting_qb'] = starting_off_pers['y_starting'].sub(starting_off_pers['y_qb'])\n",
    "\n",
    "    def find_rank(df, col, reverse=False):\n",
    "        \"\"\"\n",
    "        Find the ranking of a series based on values.\n",
    "        :param df: Dataframe for ranking; pd.DataFrame\n",
    "        :param col: Column from dataframe to rank; str\n",
    "        :param reverse: Flag of whether to reverse rank direction; bool\n",
    "        :return: Array with rankings; np.array\n",
    "        \"\"\"\n",
    "        # Extract series and use arsort to find rankings.\n",
    "        ser = df[col]\n",
    "        temp = np.argsort(ser)\n",
    "\n",
    "        # Reverse direction based on flag.\n",
    "        if reverse:\n",
    "            temp = temp[::-1]\n",
    "\n",
    "        # Fill ranking array.\n",
    "        ranks = np.empty_like(temp)\n",
    "        ranks[temp] = np.arange(ser.shape[0])\n",
    "        return ranks\n",
    "\n",
    "    # Find the order of positions based on offensive direction.\n",
    "    # First, group and extract first value of the y starting position and direction.\n",
    "    pos_start = (starting_off_pers\n",
    "                .groupby(['gameId', 'playId', 'position', 'nflId'])\n",
    "                [['y_starting', 'x', 'off_pos', 'qb_side']].first()\n",
    "                .reset_index())\n",
    "\n",
    "    # Next, group and extract ranking of positions based on whether team is home or away\n",
    "    # and the starting position.\n",
    "    pos_order = np.where(pos_start['position'] != 'QB',\n",
    "                         (pos_start.groupby(['gameId', 'playId', 'position', 'qb_side'])\n",
    "                          .apply(lambda x: np.where(x.index.get_level_values(-1) == 'R',\n",
    "                                                    find_rank(x, 'y_starting'),\n",
    "                                                    find_rank(x, 'y_starting', reverse=True)))\n",
    "                          .explode()\n",
    "                          .values\n",
    "                ),\n",
    "                         (pos_start.groupby(['gameId', 'playId', 'position'])\n",
    "                          .apply(lambda x: find_rank(x, 'y_starting'))\n",
    "                          .explode()\n",
    "                          .values\n",
    "                          )\n",
    "                         )\n",
    "\n",
    "    # Add column with the position order to the df with indexed starting position.\n",
    "    pos_start['pos_order'] = pos_order\n",
    "\n",
    "    # Add number of position to position label to get position number.\n",
    "    pos_start['pos_num'] = np.where(pos_start['position'] != 'QB',\n",
    "                                    pos_start['position'].add(pos_start['qb_side']).add(pos_start['pos_order'].astype(str)),\n",
    "                                    pos_start['position'].add(pos_start['pos_order'].astype(str)))\n",
    "\n",
    "    #Adding a label of the players position (WR1, WR2). This makes sense from a numerical stand point, but shouldn't be used\n",
    "    #to classify a team's WR1 WR2 etc.\n",
    "\n",
    "    starting_off_pers = starting_off_pers.merge(pos_start[['gameId', 'playId', 'nflId', 'pos_num', 'pos_order']],\n",
    "                                                on=['gameId', 'playId', 'nflId'])\n",
    "\n",
    "    # Convert to matrix of GameID and PlayID. Grab number of yards behind line for each player. \n",
    "    starting_x = (starting_off_pers\n",
    "        .pivot_table(columns='pos_num', index=['gameId', 'playId'], values='x_behind_line').rename(lambda x: x + '_x', axis=1))\n",
    "\n",
    "    #Same as above, but for Y coords relative to the QB.\n",
    "    starting_y = (starting_off_pers\n",
    "                .pivot_table(columns='pos_num', index=['gameId', 'playId'], values='y_starting_qb').rename(lambda x: x + '_y', axis=1))\n",
    "\n",
    "    #merging to get coords of players with _X and _Y\n",
    "    starting_pos = starting_x.merge(starting_y, left_index=True, right_index=True)\n",
    "\n",
    "    #X_col is getting all the X columns. Cols is creating a list that say \"WR1_in\", \"FB1_in\" etc\n",
    "    x_col = starting_pos.columns[starting_pos.columns.str.match('.*\\_x$')]\n",
    "    cols = [col[:4] + '_in' for col in x_col]\n",
    "\n",
    "    # Creating addition columns (boolean) for X player being in. If TE1 is in, flag says TRUE\n",
    "    starting_pos[cols] = starting_pos[x_col].notnull()\n",
    "\n",
    "    #Sparse Matrix\n",
    "    starting_pos.fillna(0, inplace=True)\n",
    "\n",
    "    #Final data! Everything is getting merged together.\n",
    "    data = starting_pos.merge(starting_off_pers[['gameId', 'playId', 'offenseFormation']].drop_duplicates(),\n",
    "                    left_index=True,\n",
    "                    right_on=['gameId', 'playId'])\n",
    "\n",
    "    data.dropna(axis=0, inplace=True)\n",
    "    data = data.loc[:, ~np.all(data == 0, axis=0)]\n",
    "\n",
    "    return data\n",
    "\n"
   ]
  },
  {
   "cell_type": "code",
   "execution_count": 48,
   "metadata": {
    "collapsed": false,
    "pycharm": {
     "name": "#%%\n"
    }
   },
   "outputs": [],
   "source": [
    "# Will need to determine what gameIDs constitute our train/test sets. Probably just week 1-14 train 15-17 test. \n",
    "#  #train = clean_positional(positions, first = 1 , last = 14)\n",
    "#  #test = clean_positional(positions, first = 15, last = 17)\n",
    "\n",
    "data = clean_positional(positions)"
   ]
  },
  {
   "cell_type": "code",
   "execution_count": 49,
   "metadata": {},
   "outputs": [
    {
     "data": {
      "text/html": [
       "<div>\n",
       "<style scoped>\n",
       "    .dataframe tbody tr th:only-of-type {\n",
       "        vertical-align: middle;\n",
       "    }\n",
       "\n",
       "    .dataframe tbody tr th {\n",
       "        vertical-align: top;\n",
       "    }\n",
       "\n",
       "    .dataframe thead th {\n",
       "        text-align: right;\n",
       "    }\n",
       "</style>\n",
       "<table border=\"1\" class=\"dataframe\">\n",
       "  <thead>\n",
       "    <tr style=\"text-align: right;\">\n",
       "      <th></th>\n",
       "      <th>CBL0_x</th>\n",
       "      <th>CBR0_x</th>\n",
       "      <th>DEL0_x</th>\n",
       "      <th>DER0_x</th>\n",
       "      <th>DLL0_x</th>\n",
       "      <th>DLR0_x</th>\n",
       "      <th>DTL0_x</th>\n",
       "      <th>DTL1_x</th>\n",
       "      <th>DTR0_x</th>\n",
       "      <th>FBL0_x</th>\n",
       "      <th>...</th>\n",
       "      <th>WRL1_in</th>\n",
       "      <th>WRL2_in</th>\n",
       "      <th>WRL3_in</th>\n",
       "      <th>WRR0_in</th>\n",
       "      <th>WRR1_in</th>\n",
       "      <th>WRR2_in</th>\n",
       "      <th>WRR3_in</th>\n",
       "      <th>gameId</th>\n",
       "      <th>playId</th>\n",
       "      <th>offenseFormation</th>\n",
       "    </tr>\n",
       "  </thead>\n",
       "  <tbody>\n",
       "    <tr>\n",
       "      <th>0</th>\n",
       "      <td>0.0</td>\n",
       "      <td>0.0</td>\n",
       "      <td>0.0</td>\n",
       "      <td>0.0</td>\n",
       "      <td>0.0</td>\n",
       "      <td>0.0</td>\n",
       "      <td>0.0</td>\n",
       "      <td>0.0</td>\n",
       "      <td>0.0</td>\n",
       "      <td>-5.12</td>\n",
       "      <td>...</td>\n",
       "      <td>True</td>\n",
       "      <td>False</td>\n",
       "      <td>False</td>\n",
       "      <td>False</td>\n",
       "      <td>False</td>\n",
       "      <td>False</td>\n",
       "      <td>False</td>\n",
       "      <td>2018090600</td>\n",
       "      <td>75</td>\n",
       "      <td>I_FORM</td>\n",
       "    </tr>\n",
       "    <tr>\n",
       "      <th>6</th>\n",
       "      <td>0.0</td>\n",
       "      <td>0.0</td>\n",
       "      <td>0.0</td>\n",
       "      <td>0.0</td>\n",
       "      <td>0.0</td>\n",
       "      <td>0.0</td>\n",
       "      <td>0.0</td>\n",
       "      <td>0.0</td>\n",
       "      <td>0.0</td>\n",
       "      <td>0.00</td>\n",
       "      <td>...</td>\n",
       "      <td>False</td>\n",
       "      <td>False</td>\n",
       "      <td>False</td>\n",
       "      <td>True</td>\n",
       "      <td>True</td>\n",
       "      <td>False</td>\n",
       "      <td>False</td>\n",
       "      <td>2018090600</td>\n",
       "      <td>146</td>\n",
       "      <td>SINGLEBACK</td>\n",
       "    </tr>\n",
       "    <tr>\n",
       "      <th>12</th>\n",
       "      <td>0.0</td>\n",
       "      <td>0.0</td>\n",
       "      <td>0.0</td>\n",
       "      <td>0.0</td>\n",
       "      <td>0.0</td>\n",
       "      <td>0.0</td>\n",
       "      <td>0.0</td>\n",
       "      <td>0.0</td>\n",
       "      <td>0.0</td>\n",
       "      <td>0.00</td>\n",
       "      <td>...</td>\n",
       "      <td>False</td>\n",
       "      <td>False</td>\n",
       "      <td>False</td>\n",
       "      <td>True</td>\n",
       "      <td>False</td>\n",
       "      <td>False</td>\n",
       "      <td>False</td>\n",
       "      <td>2018090600</td>\n",
       "      <td>168</td>\n",
       "      <td>SHOTGUN</td>\n",
       "    </tr>\n",
       "    <tr>\n",
       "      <th>18</th>\n",
       "      <td>0.0</td>\n",
       "      <td>0.0</td>\n",
       "      <td>0.0</td>\n",
       "      <td>0.0</td>\n",
       "      <td>0.0</td>\n",
       "      <td>0.0</td>\n",
       "      <td>0.0</td>\n",
       "      <td>0.0</td>\n",
       "      <td>0.0</td>\n",
       "      <td>0.00</td>\n",
       "      <td>...</td>\n",
       "      <td>False</td>\n",
       "      <td>False</td>\n",
       "      <td>False</td>\n",
       "      <td>True</td>\n",
       "      <td>True</td>\n",
       "      <td>True</td>\n",
       "      <td>False</td>\n",
       "      <td>2018090600</td>\n",
       "      <td>190</td>\n",
       "      <td>SHOTGUN</td>\n",
       "    </tr>\n",
       "    <tr>\n",
       "      <th>24</th>\n",
       "      <td>0.0</td>\n",
       "      <td>0.0</td>\n",
       "      <td>0.0</td>\n",
       "      <td>0.0</td>\n",
       "      <td>0.0</td>\n",
       "      <td>0.0</td>\n",
       "      <td>0.0</td>\n",
       "      <td>0.0</td>\n",
       "      <td>0.0</td>\n",
       "      <td>0.00</td>\n",
       "      <td>...</td>\n",
       "      <td>False</td>\n",
       "      <td>False</td>\n",
       "      <td>False</td>\n",
       "      <td>False</td>\n",
       "      <td>False</td>\n",
       "      <td>False</td>\n",
       "      <td>False</td>\n",
       "      <td>2018090600</td>\n",
       "      <td>256</td>\n",
       "      <td>SHOTGUN</td>\n",
       "    </tr>\n",
       "    <tr>\n",
       "      <th>...</th>\n",
       "      <td>...</td>\n",
       "      <td>...</td>\n",
       "      <td>...</td>\n",
       "      <td>...</td>\n",
       "      <td>...</td>\n",
       "      <td>...</td>\n",
       "      <td>...</td>\n",
       "      <td>...</td>\n",
       "      <td>...</td>\n",
       "      <td>...</td>\n",
       "      <td>...</td>\n",
       "      <td>...</td>\n",
       "      <td>...</td>\n",
       "      <td>...</td>\n",
       "      <td>...</td>\n",
       "      <td>...</td>\n",
       "      <td>...</td>\n",
       "      <td>...</td>\n",
       "      <td>...</td>\n",
       "      <td>...</td>\n",
       "      <td>...</td>\n",
       "    </tr>\n",
       "    <tr>\n",
       "      <th>111219</th>\n",
       "      <td>0.0</td>\n",
       "      <td>0.0</td>\n",
       "      <td>0.0</td>\n",
       "      <td>0.0</td>\n",
       "      <td>0.0</td>\n",
       "      <td>0.0</td>\n",
       "      <td>0.0</td>\n",
       "      <td>0.0</td>\n",
       "      <td>0.0</td>\n",
       "      <td>0.00</td>\n",
       "      <td>...</td>\n",
       "      <td>False</td>\n",
       "      <td>False</td>\n",
       "      <td>False</td>\n",
       "      <td>True</td>\n",
       "      <td>False</td>\n",
       "      <td>False</td>\n",
       "      <td>False</td>\n",
       "      <td>2018123015</td>\n",
       "      <td>3819</td>\n",
       "      <td>SINGLEBACK</td>\n",
       "    </tr>\n",
       "    <tr>\n",
       "      <th>111225</th>\n",
       "      <td>0.0</td>\n",
       "      <td>0.0</td>\n",
       "      <td>0.0</td>\n",
       "      <td>0.0</td>\n",
       "      <td>0.0</td>\n",
       "      <td>0.0</td>\n",
       "      <td>0.0</td>\n",
       "      <td>0.0</td>\n",
       "      <td>0.0</td>\n",
       "      <td>0.00</td>\n",
       "      <td>...</td>\n",
       "      <td>False</td>\n",
       "      <td>False</td>\n",
       "      <td>False</td>\n",
       "      <td>True</td>\n",
       "      <td>True</td>\n",
       "      <td>False</td>\n",
       "      <td>False</td>\n",
       "      <td>2018123015</td>\n",
       "      <td>3932</td>\n",
       "      <td>SHOTGUN</td>\n",
       "    </tr>\n",
       "    <tr>\n",
       "      <th>111231</th>\n",
       "      <td>0.0</td>\n",
       "      <td>0.0</td>\n",
       "      <td>0.0</td>\n",
       "      <td>0.0</td>\n",
       "      <td>0.0</td>\n",
       "      <td>0.0</td>\n",
       "      <td>0.0</td>\n",
       "      <td>0.0</td>\n",
       "      <td>0.0</td>\n",
       "      <td>0.00</td>\n",
       "      <td>...</td>\n",
       "      <td>True</td>\n",
       "      <td>True</td>\n",
       "      <td>False</td>\n",
       "      <td>False</td>\n",
       "      <td>False</td>\n",
       "      <td>False</td>\n",
       "      <td>False</td>\n",
       "      <td>2018123015</td>\n",
       "      <td>3969</td>\n",
       "      <td>SHOTGUN</td>\n",
       "    </tr>\n",
       "    <tr>\n",
       "      <th>111237</th>\n",
       "      <td>0.0</td>\n",
       "      <td>0.0</td>\n",
       "      <td>0.0</td>\n",
       "      <td>0.0</td>\n",
       "      <td>0.0</td>\n",
       "      <td>0.0</td>\n",
       "      <td>0.0</td>\n",
       "      <td>0.0</td>\n",
       "      <td>0.0</td>\n",
       "      <td>0.00</td>\n",
       "      <td>...</td>\n",
       "      <td>True</td>\n",
       "      <td>False</td>\n",
       "      <td>False</td>\n",
       "      <td>True</td>\n",
       "      <td>False</td>\n",
       "      <td>False</td>\n",
       "      <td>False</td>\n",
       "      <td>2018123015</td>\n",
       "      <td>4057</td>\n",
       "      <td>SHOTGUN</td>\n",
       "    </tr>\n",
       "    <tr>\n",
       "      <th>111243</th>\n",
       "      <td>0.0</td>\n",
       "      <td>0.0</td>\n",
       "      <td>0.0</td>\n",
       "      <td>0.0</td>\n",
       "      <td>0.0</td>\n",
       "      <td>0.0</td>\n",
       "      <td>0.0</td>\n",
       "      <td>0.0</td>\n",
       "      <td>0.0</td>\n",
       "      <td>0.00</td>\n",
       "      <td>...</td>\n",
       "      <td>True</td>\n",
       "      <td>False</td>\n",
       "      <td>False</td>\n",
       "      <td>True</td>\n",
       "      <td>False</td>\n",
       "      <td>False</td>\n",
       "      <td>False</td>\n",
       "      <td>2018123015</td>\n",
       "      <td>4104</td>\n",
       "      <td>SHOTGUN</td>\n",
       "    </tr>\n",
       "  </tbody>\n",
       "</table>\n",
       "<p>18483 rows × 117 columns</p>\n",
       "</div>"
      ],
      "text/plain": [
       "        CBL0_x  CBR0_x  DEL0_x  DER0_x  DLL0_x  DLR0_x  DTL0_x  DTL1_x  \\\n",
       "0          0.0     0.0     0.0     0.0     0.0     0.0     0.0     0.0   \n",
       "6          0.0     0.0     0.0     0.0     0.0     0.0     0.0     0.0   \n",
       "12         0.0     0.0     0.0     0.0     0.0     0.0     0.0     0.0   \n",
       "18         0.0     0.0     0.0     0.0     0.0     0.0     0.0     0.0   \n",
       "24         0.0     0.0     0.0     0.0     0.0     0.0     0.0     0.0   \n",
       "...        ...     ...     ...     ...     ...     ...     ...     ...   \n",
       "111219     0.0     0.0     0.0     0.0     0.0     0.0     0.0     0.0   \n",
       "111225     0.0     0.0     0.0     0.0     0.0     0.0     0.0     0.0   \n",
       "111231     0.0     0.0     0.0     0.0     0.0     0.0     0.0     0.0   \n",
       "111237     0.0     0.0     0.0     0.0     0.0     0.0     0.0     0.0   \n",
       "111243     0.0     0.0     0.0     0.0     0.0     0.0     0.0     0.0   \n",
       "\n",
       "        DTR0_x  FBL0_x  ...  WRL1_in  WRL2_in  WRL3_in  WRR0_in  WRR1_in  \\\n",
       "0          0.0   -5.12  ...     True    False    False    False    False   \n",
       "6          0.0    0.00  ...    False    False    False     True     True   \n",
       "12         0.0    0.00  ...    False    False    False     True    False   \n",
       "18         0.0    0.00  ...    False    False    False     True     True   \n",
       "24         0.0    0.00  ...    False    False    False    False    False   \n",
       "...        ...     ...  ...      ...      ...      ...      ...      ...   \n",
       "111219     0.0    0.00  ...    False    False    False     True    False   \n",
       "111225     0.0    0.00  ...    False    False    False     True     True   \n",
       "111231     0.0    0.00  ...     True     True    False    False    False   \n",
       "111237     0.0    0.00  ...     True    False    False     True    False   \n",
       "111243     0.0    0.00  ...     True    False    False     True    False   \n",
       "\n",
       "        WRR2_in  WRR3_in      gameId  playId  offenseFormation  \n",
       "0         False    False  2018090600      75            I_FORM  \n",
       "6         False    False  2018090600     146        SINGLEBACK  \n",
       "12        False    False  2018090600     168           SHOTGUN  \n",
       "18         True    False  2018090600     190           SHOTGUN  \n",
       "24        False    False  2018090600     256           SHOTGUN  \n",
       "...         ...      ...         ...     ...               ...  \n",
       "111219    False    False  2018123015    3819        SINGLEBACK  \n",
       "111225    False    False  2018123015    3932           SHOTGUN  \n",
       "111231    False    False  2018123015    3969           SHOTGUN  \n",
       "111237    False    False  2018123015    4057           SHOTGUN  \n",
       "111243    False    False  2018123015    4104           SHOTGUN  \n",
       "\n",
       "[18483 rows x 117 columns]"
      ]
     },
     "execution_count": 49,
     "metadata": {},
     "output_type": "execute_result"
    }
   ],
   "source": [
    "data"
   ]
  },
  {
   "cell_type": "code",
   "execution_count": 43,
   "metadata": {},
   "outputs": [
    {
     "data": {
      "text/plain": [
       "Index(['gameId', 'playId', 'position', 'nflId', 'team', 'x', 'y',\n",
       "       'playDescription', 'quarter', 'down', 'yardsToGo', 'possessionTeam',\n",
       "       'playType', 'yardlineSide', 'yardlineNumber', 'offenseFormation',\n",
       "       'personnelO', 'defendersInTheBox', 'numberOfPassRushers', 'personnelD',\n",
       "       'typeDropback', 'preSnapVisitorScore', 'preSnapHomeScore', 'gameClock',\n",
       "       'absoluteYardlineNumber', 'penaltyCodes', 'penaltyJerseyNumbers',\n",
       "       'passResult', 'offensePlayResult', 'playResult', 'epa', 'isDefensivePI',\n",
       "       'gameDate', 'gameTimeEastern', 'homeTeamAbbr', 'visitorTeamAbbr',\n",
       "       'week', 'offdef'],\n",
       "      dtype='object')"
      ]
     },
     "execution_count": 43,
     "metadata": {},
     "output_type": "execute_result"
    }
   ],
   "source": [
    "data.columns"
   ]
  },
  {
   "cell_type": "code",
   "execution_count": 52,
   "metadata": {},
   "outputs": [],
   "source": [
    "train = clean_positional(positions, first = 1 , last = 14)\n",
    "test = clean_positional(positions, first = 15, last = 17)"
   ]
  },
  {
   "cell_type": "code",
   "execution_count": 53,
   "metadata": {},
   "outputs": [],
   "source": [
    "#setting missing columns as all zeroes for Test set\n",
    "for missing_col in set(train.columns).difference(test.columns):\n",
    "    test[missing_col] = 0"
   ]
  },
  {
   "cell_type": "code",
   "execution_count": 54,
   "metadata": {
    "collapsed": false,
    "pycharm": {
     "name": "#%%\n"
    }
   },
   "outputs": [],
   "source": [
    "X_train = train.drop('offenseFormation', axis = 1)\n",
    "y_train = train['offenseFormation']\n",
    "\n",
    "X_test = test.drop('offenseFormation', axis = 1)[X_train.columns]\n",
    "y_test = test['offenseFormation']"
   ]
  },
  {
   "cell_type": "code",
   "execution_count": 346,
   "metadata": {
    "collapsed": false,
    "pycharm": {
     "name": "#%%\n"
    }
   },
   "outputs": [],
   "source": [
    "#from sklearn.model_selection import train_test_split\n",
    "#X_train, X_test, y_train, y_test = train_test_split(X, y, random_state=0, stratify=y)"
   ]
  },
  {
   "cell_type": "code",
   "execution_count": 55,
   "metadata": {
    "collapsed": false,
    "pycharm": {
     "name": "#%%\n"
    }
   },
   "outputs": [],
   "source": [
    "from sklearn.preprocessing import StandardScaler\n",
    "\n",
    "scaler = StandardScaler()\n",
    "X_train_scaled = scaler.fit_transform(X_train)"
   ]
  },
  {
   "cell_type": "code",
   "execution_count": 56,
   "metadata": {
    "collapsed": false,
    "pycharm": {
     "name": "#%%\n"
    }
   },
   "outputs": [
    {
     "data": {
      "text/plain": [
       "array([0.95842956, 0.96073903, 0.95645002, 0.96865721, 0.9630363 ])"
      ]
     },
     "execution_count": 56,
     "metadata": {},
     "output_type": "execute_result"
    }
   ],
   "source": [
    "from sklearn.linear_model import LogisticRegression\n",
    "from sklearn.model_selection import cross_val_score\n",
    "\n",
    "log_reg = LogisticRegression(max_iter=10000)\n",
    "cross_val_score(log_reg, X_train_scaled, y_train, cv=5)"
   ]
  },
  {
   "cell_type": "code",
   "execution_count": 57,
   "metadata": {
    "collapsed": false,
    "pycharm": {
     "name": "#%%\n"
    }
   },
   "outputs": [
    {
     "data": {
      "text/plain": [
       "0.9613963829169445"
      ]
     },
     "execution_count": 57,
     "metadata": {},
     "output_type": "execute_result"
    }
   ],
   "source": [
    "from sklearn.model_selection import GridSearchCV\n",
    "\n",
    "params_lr = {'C': [10**x for x in range(-4, 4)]}\n",
    "grid_lr = GridSearchCV(log_reg, params_lr, cv=3, scoring='f1_micro')\n",
    "grid_lr.fit(X_train_scaled, y_train)\n",
    "grid_lr.best_score_"
   ]
  },
  {
   "cell_type": "code",
   "execution_count": 58,
   "metadata": {
    "collapsed": false,
    "pycharm": {
     "name": "#%%\n"
    }
   },
   "outputs": [
    {
     "data": {
      "text/plain": [
       "{'C': 10}"
      ]
     },
     "execution_count": 58,
     "metadata": {},
     "output_type": "execute_result"
    }
   ],
   "source": [
    "grid_lr.best_params_"
   ]
  },
  {
   "cell_type": "code",
   "execution_count": 59,
   "metadata": {
    "collapsed": false,
    "pycharm": {
     "name": "#%%\n"
    }
   },
   "outputs": [
    {
     "data": {
      "text/plain": [
       "array([0.96931706, 0.96601782, 0.96337842, 0.97987463, 0.97458746])"
      ]
     },
     "execution_count": 59,
     "metadata": {},
     "output_type": "execute_result"
    }
   ],
   "source": [
    "from sklearn.ensemble import RandomForestClassifier\n",
    "\n",
    "rfor = RandomForestClassifier()\n",
    "cross_val_score(rfor, X_train_scaled, y_train, cv=5)"
   ]
  },
  {
   "cell_type": "code",
   "execution_count": 60,
   "metadata": {
    "collapsed": false,
    "pycharm": {
     "name": "#%%\n"
    }
   },
   "outputs": [
    {
     "data": {
      "text/plain": [
       "0.9661477997009024"
      ]
     },
     "execution_count": 60,
     "metadata": {},
     "output_type": "execute_result"
    }
   ],
   "source": [
    "rfor = RandomForestClassifier(random_state=0)\n",
    "params = {'max_depth': [None] + list(range(1, 5))}\n",
    "grid_rfor = GridSearchCV(rfor, param_grid=params, cv=3, scoring='f1_micro')\n",
    "grid_rfor.fit(X_train_scaled, y_train)\n",
    "grid_rfor.best_score_"
   ]
  },
  {
   "cell_type": "code",
   "execution_count": 61,
   "metadata": {
    "collapsed": false,
    "pycharm": {
     "name": "#%%\n"
    }
   },
   "outputs": [
    {
     "data": {
      "text/plain": [
       "{'max_depth': None}"
      ]
     },
     "execution_count": 61,
     "metadata": {},
     "output_type": "execute_result"
    }
   ],
   "source": [
    "grid_rfor.best_params_"
   ]
  },
  {
   "cell_type": "code",
   "execution_count": 62,
   "metadata": {
    "collapsed": false,
    "pycharm": {
     "name": "#%%\n"
    }
   },
   "outputs": [
    {
     "data": {
      "text/plain": [
       "array([0.68624216, 0.96667766, 0.7743319 , 0.97228637, 0.88415842])"
      ]
     },
     "execution_count": 62,
     "metadata": {},
     "output_type": "execute_result"
    }
   ],
   "source": [
    "from sklearn.tree import DecisionTreeClassifier\n",
    "\n",
    "dtree = DecisionTreeClassifier()\n",
    "cross_val_score(dtree, X_train_scaled, y_train)"
   ]
  },
  {
   "cell_type": "code",
   "execution_count": 63,
   "metadata": {
    "collapsed": false,
    "pycharm": {
     "name": "#%%\n"
    }
   },
   "outputs": [
    {
     "data": {
      "text/plain": [
       "0.9381682008464832"
      ]
     },
     "execution_count": 63,
     "metadata": {},
     "output_type": "execute_result"
    }
   ],
   "source": [
    "dtree = DecisionTreeClassifier(random_state=0)\n",
    "params = {'max_depth': [None] + list(range(1, 5)), 'min_samples_split': range(2, 10)}\n",
    "grid_dtree = GridSearchCV(dtree, param_grid=params, cv=3, scoring='f1_micro')\n",
    "grid_dtree.fit(X_train_scaled, y_train)\n",
    "grid_dtree.best_score_"
   ]
  },
  {
   "cell_type": "code",
   "execution_count": 64,
   "metadata": {
    "collapsed": false,
    "pycharm": {
     "name": "#%%\n"
    }
   },
   "outputs": [],
   "source": [
    "X_test_scaled = scaler.transform(X_test)"
   ]
  },
  {
   "cell_type": "code",
   "execution_count": 65,
   "metadata": {
    "collapsed": false,
    "pycharm": {
     "name": "#%%\n"
    }
   },
   "outputs": [
    {
     "name": "stdout",
     "output_type": "stream",
     "text": [
      "              precision    recall  f1-score   support\n",
      "\n",
      "       EMPTY       0.94      0.95      0.95       454\n",
      "      I_FORM       0.94      0.86      0.90       176\n",
      "       JUMBO       0.77      1.00      0.87        10\n",
      "      PISTOL       1.00      0.39      0.56        57\n",
      "     SHOTGUN       0.97      0.99      0.98      2172\n",
      "  SINGLEBACK       0.95      0.98      0.96       459\n",
      "     WILDCAT       1.00      1.00      1.00         1\n",
      "\n",
      "    accuracy                           0.96      3329\n",
      "   macro avg       0.94      0.88      0.89      3329\n",
      "weighted avg       0.96      0.96      0.96      3329\n",
      "\n",
      "[[ 430    0    0    0   23    1    0]\n",
      " [   0  152    3    0    0   21    0]\n",
      " [   0    0   10    0    0    0    0]\n",
      " [   1    0    0   22   33    1    0]\n",
      " [  25    0    0    0 2144    3    0]\n",
      " [   0   10    0    0    0  449    0]\n",
      " [   0    0    0    0    0    0    1]]\n"
     ]
    }
   ],
   "source": [
    "from sklearn.metrics import classification_report\n",
    "from sklearn.metrics import confusion_matrix\n",
    "\n",
    "y_pred = grid_lr.predict(X_test_scaled)\n",
    "print(classification_report(y_test, y_pred))\n",
    "print(confusion_matrix(y_test, y_pred))"
   ]
  },
  {
   "cell_type": "code",
   "execution_count": 66,
   "metadata": {
    "collapsed": false,
    "pycharm": {
     "name": "#%%\n"
    }
   },
   "outputs": [
    {
     "name": "stdout",
     "output_type": "stream",
     "text": [
      "              precision    recall  f1-score   support\n",
      "\n",
      "       EMPTY       0.96      0.94      0.95      1894\n",
      "      I_FORM       0.93      0.89      0.91       710\n",
      "       JUMBO       0.97      0.97      0.97        39\n",
      "      PISTOL       0.91      0.38      0.54       183\n",
      "     SHOTGUN       0.98      0.99      0.99     10047\n",
      "  SINGLEBACK       0.96      0.98      0.97      2247\n",
      "     WILDCAT       1.00      0.97      0.99        34\n",
      "\n",
      "    accuracy                           0.97     15154\n",
      "   macro avg       0.96      0.88      0.90     15154\n",
      "weighted avg       0.97      0.97      0.97     15154\n",
      "\n",
      "[[1787    0    0    1  102    4    0]\n",
      " [   0  635    0    0    0   75    0]\n",
      " [   0    0   38    0    0    1    0]\n",
      " [   7    0    0   70  106    0    0]\n",
      " [  76    0    0    6 9964    1    0]\n",
      " [   0   47    1    0    0 2199    0]\n",
      " [   0    0    0    0    0    1   33]]\n"
     ]
    }
   ],
   "source": [
    "y_pred_train = grid_lr.predict(X_train_scaled)\n",
    "print(classification_report(y_train, y_pred_train))\n",
    "print(confusion_matrix(y_train, y_pred_train))"
   ]
  },
  {
   "cell_type": "code",
   "execution_count": 67,
   "metadata": {
    "collapsed": false,
    "pycharm": {
     "name": "#%%\n"
    }
   },
   "outputs": [
    {
     "data": {
      "text/plain": [
       "0.6524481826374287"
      ]
     },
     "execution_count": 67,
     "metadata": {},
     "output_type": "execute_result"
    }
   ],
   "source": [
    "from sklearn.dummy import DummyClassifier\n",
    "\n",
    "dummy = DummyClassifier(strategy='most_frequent')\n",
    "dummy.fit(X_train_scaled, y_train)\n",
    "y_pred_dummy = dummy.predict(X_test_scaled)\n",
    "np.mean(y_test == y_pred_dummy)"
   ]
  },
  {
   "cell_type": "code",
   "execution_count": null,
   "metadata": {
    "collapsed": false,
    "pycharm": {
     "name": "#%%\n"
    }
   },
   "outputs": [],
   "source": []
  }
 ],
 "metadata": {
  "kernelspec": {
   "display_name": "Python 3",
   "language": "python",
   "name": "python3"
  },
  "language_info": {
   "codemirror_mode": {
    "name": "ipython",
    "version": 3
   },
   "file_extension": ".py",
   "mimetype": "text/x-python",
   "name": "python",
   "nbconvert_exporter": "python",
   "pygments_lexer": "ipython3",
   "version": "3.8.8"
  }
 },
 "nbformat": 4,
 "nbformat_minor": 0
}