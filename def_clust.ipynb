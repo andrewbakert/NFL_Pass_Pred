{
 "cells": [
  {
   "cell_type": "code",
   "execution_count": 1,
   "metadata": {},
   "outputs": [
    {
     "name": "stderr",
     "output_type": "stream",
     "text": [
      "C:\\Users\\bklim\\AppData\\Local\\Temp\\ipykernel_116240\\2799599408.py:11: DtypeWarning: Columns (38,47,56,59,62,65,76,103,106,109,112,115,124,133,139,154,157,169,172,184,190,196,202,211,220) have mixed types. Specify dtype option on import or set low_memory=False.\n",
      "  df = pd.read_csv('assets/def_clean_output.csv')\n"
     ]
    }
   ],
   "source": [
    "import pandas as pd\n",
    "import numpy as np\n",
    "import matplotlib.pyplot as plt\n",
    "import seaborn as sns\n",
    "from sklearn.cluster import KMeans\n",
    "from sklearn.decomposition import PCA\n",
    "from sklearn.preprocessing import StandardScaler\n",
    "from sklearn import metrics\n",
    "\n",
    "#df = pd.read_csv('assets/def_clean_output.csv')"
   ]
  },
  {
   "cell_type": "code",
   "execution_count": 2,
   "metadata": {},
   "outputs": [],
   "source": [
    "def optimize_pca_components(df):\n",
    "    pca = PCA()\n",
    "    pca.fit(df)\n",
    "    evr = pca.explained_variance_ratio_.cumsum()\n",
    "    n_comps = len(np.argwhere(evr <= 0.99)) + 1\n",
    "    n_comps_opt = len(np.argwhere(evr <= 0.8)) + 1\n",
    "    plt.figure(figsize=(6,6))\n",
    "    plt.plot(range(1,n_comps+1), evr[:n_comps], marker='o', linestyle='--')\n",
    "    plt.title('Explained Variance by Components')\n",
    "    plt.xlabel('Number of Components')\n",
    "    plt.ylabel('Cumulative Explained Variance')\n",
    "    print('The optimal number of components is approximately ', n_comps_opt)\n",
    "    return n_comps_opt"
   ]
  },
  {
   "cell_type": "code",
   "execution_count": 3,
   "metadata": {},
   "outputs": [],
   "source": [
    "def optimize_kmeans_clusters_with_pca(df, n_comps):\n",
    "    pca = PCA(n_components=n_comps)\n",
    "    pca.fit(df)\n",
    "    comps_pca = pca.components_\n",
    "    scores_pca = pca.transform(df)\n",
    "    wcss = []\n",
    "    sil = []\n",
    "    \n",
    "    for i in range(2,21):\n",
    "        kmeans_pca = KMeans(n_clusters=i, init='k-means++', random_state=42)\n",
    "        kmeans_pca.fit(scores_pca)\n",
    "        y_pred = kmeans_pca.predict(scores_pca)\n",
    "        wcss.append(kmeans_pca.inertia_)\n",
    "\n",
    "        sscore = metrics.silhouette_score(scores_pca, y_pred)\n",
    "\n",
    "        sil.append(sscore)\n",
    "        \n",
    "    plt.figure(figsize=(6,6))\n",
    "    plt.plot(range(2,21),wcss, marker='o', linestyle='--')\n",
    "    plt.xlabel('Number of Clusters')\n",
    "    plt.ylabel('WCSS')\n",
    "    plt.title('K-means with PCA Clustering - Elbow Test')\n",
    "    plt.show()\n",
    "\n",
    "    plt.figure(figsize=(6,6))\n",
    "    plt.plot(range(2,21),sil, marker='o', linestyle='--')\n",
    "    plt.xlabel('Number of Clusters')\n",
    "    plt.ylabel('Silhouette Score')\n",
    "    plt.title('K-means with PCA Clustering - Silhouette Score Curve')\n",
    "    plt.show()\n",
    "    \n",
    "    return scores_pca, comps_pca"
   ]
  },
  {
   "cell_type": "code",
   "execution_count": 24,
   "metadata": {},
   "outputs": [],
   "source": [
    "def kmeans_clusters_and_dataframe(scores_pca, df, n_clusters, filename):\n",
    "    kmeans_pca = KMeans(n_clusters=n_clusters, init='k-means++', random_state=42)\n",
    "    kmeans_pca.fit(scores_pca)\n",
    "    df_seg = pd.concat([df.reset_index()[['gameId','playId']],pd.DataFrame(scores_pca)], axis=1)\n",
    "    n = int(scores_pca.shape[1])\n",
    "    \n",
    "    comp_labels = []\n",
    "\n",
    "    for i in range(1,n+1):\n",
    "        comp_labels.append('Component '+ str(i))\n",
    "\n",
    "    seg_list = ['first','second','third','fourth','fifth','sixth','seventh','eighth','ninth','tenth']\n",
    "    seg_dict = {}\n",
    "    \n",
    "    for i in range(0,n_clusters):\n",
    "         seg_dict[i] = seg_list[i]\n",
    "    \n",
    "    df_seg.columns.values[-n:] = comp_labels\n",
    "    df_seg['Cluster Type'] = kmeans_pca.labels_\n",
    "    df_seg['Cluster'] = df_seg['Cluster Type'].map(seg_dict)\n",
    "    \n",
    "    print(\"The component names are as follows: \", comp_labels)\n",
    "    path = 'assets/' + filename\n",
    "    \n",
    "    df_seg.to_csv(path)\n",
    "    \n",
    "    return df_seg"
   ]
  },
  {
   "cell_type": "code",
   "execution_count": 25,
   "metadata": {},
   "outputs": [],
   "source": [
    "def prep_data(df, scale=True):\n",
    "    actions = [action for action in df.columns if '_act' in action]\n",
    "    melt_cols = ['gameId','playId'] + actions\n",
    "\n",
    "    melt_df = df[melt_cols]\n",
    "    melt_df = melt_df.melt(['gameId','playId']).dropna()\n",
    "    melt_df = melt_df.groupby(['gameId','playId','value']).count()\n",
    "    melt_df = melt_df.reset_index().pivot(index=['gameId','playId'],columns='value',values='variable').fillna(0)\n",
    "    melt_df['TOT'] = melt_df['B'] + melt_df['M'] + melt_df['Z']\n",
    "    melt_df['%B'] = melt_df['B'] / melt_df['TOT']\n",
    "    melt_df['%M'] = melt_df['M'] / melt_df['TOT']\n",
    "    melt_df['%Z'] = melt_df['Z'] / melt_df['TOT']\n",
    "    melt_df = melt_df.fillna(0)\n",
    "\n",
    "    orig_cols =  ['gameId','playId','defendersInTheBox','DB','LB','DL','yardline_first','yardline_100']\n",
    "    orig_df = df[orig_cols].set_index(['gameId','playId'])\n",
    "\n",
    "    orig_df = orig_df.merge(melt_df[['%B','%M','%Z']], on=['gameId','playId']).fillna(0)\n",
    "    \n",
    "    if scale == True:\n",
    "        X = StandardScaler().fit_transform(orig_df)\n",
    "    else:\n",
    "        X = np.array(orig_df)\n",
    "    \n",
    "\n",
    "    return X, orig_df"
   ]
  },
  {
   "cell_type": "code",
   "execution_count": 26,
   "metadata": {},
   "outputs": [],
   "source": [
    "def plot_pca_heatmap(pca, df):\n",
    "    pca_names = []\n",
    "    cols = list(df.columns)\n",
    "    num = int(pca.shape[0])+1\n",
    "    \n",
    "    for i in range(1,num):\n",
    "        pca_names.append('PC #' + str(i))\n",
    "\n",
    "    #max_f = len(cols) - 1\n",
    "    f_ticks = len(cols) - 1\n",
    "    c_ticks = num -1\n",
    "    \n",
    "    fig, ax = plt.subplots(figsize=(16, 10))\n",
    "    plt.imshow(pca, interpolation = 'none', cmap = 'plasma')\n",
    "    plt.xticks(np.arange(-0.1,  f_ticks, 1) , cols, rotation = 75, fontsize=12)\n",
    "    plt.yticks(np.arange(0.0, c_ticks, 1), pca_names, fontsize = 16)\n",
    "    plt.colorbar()\n",
    "    plt.savefig('assets/pca_plot.png')\n",
    "    "
   ]
  },
  {
   "cell_type": "code",
   "execution_count": 27,
   "metadata": {},
   "outputs": [],
   "source": [
    "def kmeans_visual(df, comp_x, comp_y):\n",
    "\n",
    "    x_axis = df[comp_x]\n",
    "    y_axis = df[comp_y]\n",
    "    plt.figure(figsize=(10,8))\n",
    "    sns.color_palette(\"husl\", 9)\n",
    "    sns.scatterplot(x_axis, y_axis, hue = df['Cluster'])\n",
    "    plt.title('Clusters by PCA Components')\n",
    "    plt.show()"
   ]
  },
  {
   "cell_type": "code",
   "execution_count": 28,
   "metadata": {},
   "outputs": [],
   "source": [
    "def return_pca_and_clusters(df, n_clusters=5):\n",
    "\n",
    "    X, pca_df = prep_data(df, scale=True)\n",
    "    n_comps = optimize_pca_components(X)\n",
    "    scores_pca, comps_pca = optimize_kmeans_clusters_with_pca(X, n_comps)\n",
    "    plot_pca_heatmap(comps_pca, pca_df)\n",
    "    df_seg = kmeans_clusters_and_dataframe(scores_pca, pca_df, n_clusters, 'def_clust_output.csv')\n",
    "    \n",
    "    return df_seg"
   ]
  },
  {
   "cell_type": "code",
   "execution_count": null,
   "metadata": {},
   "outputs": [],
   "source": []
  },
  {
   "cell_type": "code",
   "execution_count": null,
   "metadata": {},
   "outputs": [],
   "source": []
  }
 ],
 "metadata": {
  "interpreter": {
   "hash": "ca5c64a504a2343dde48df1b399c6bfb3ece34e1553451ee0c11dd23eea7c960"
  },
  "kernelspec": {
   "display_name": "Python 3.8.12 ('base')",
   "language": "python",
   "name": "python3"
  },
  "language_info": {
   "codemirror_mode": {
    "name": "ipython",
    "version": 3
   },
   "file_extension": ".py",
   "mimetype": "text/x-python",
   "name": "python",
   "nbconvert_exporter": "python",
   "pygments_lexer": "ipython3",
   "version": "3.8.12"
  },
  "orig_nbformat": 4
 },
 "nbformat": 4,
 "nbformat_minor": 2
}
