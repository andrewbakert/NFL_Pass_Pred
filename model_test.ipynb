{
 "cells": [
  {
   "cell_type": "code",
   "execution_count": null,
   "metadata": {
    "collapsed": true,
    "pycharm": {
     "is_executing": true
    }
   },
   "outputs": [],
   "source": [
    "from ml_pipe.week_data_prep import generate_input_data\n",
    "import pandas as pd\n",
    "import numpy as np\n",
    "import os\n",
    "\n",
    "week_df_fp = 'assets/week_train.csv'\n",
    "week_Xy_fp = 'assets/train_xy.csv'\n",
    "week_fp = 'nfl-big-data-bowl-2021/week{}.csv'\n",
    "plays_fp = 'nfl-big-data-bowl-2021/plays.csv'\n",
    "if not os.path.exists(week_df_fp):\n",
    "    week_df_full = pd.DataFrame()\n",
    "    X_y_full = pd.DataFrame()\n",
    "    for week in range(1, 3):\n",
    "        week_df, X_y = generate_input_data(week_fp.format(week), plays_fp)\n",
    "        week_df_full = pd.concat([week_df_full, week_df], axis=0)\n",
    "        X_y_full = pd.concat([X_y_full, X_y], axis=0)\n",
    "    week_df_full.to_csv(week_df_fp, index=False)\n",
    "    X_y_full.to_csv(week_Xy_fp, index=False)\n",
    "else:\n",
    "    week_df_full = pd.read_csv(week_df_fp)\n",
    "    X_y_full = pd.read_csv(week_Xy_fp)"
   ]
  },
  {
   "cell_type": "code",
   "execution_count": 15,
   "outputs": [],
   "source": [
    "X = X_y_full.drop(['x', 'y'], axis=1)\n",
    "y = X_y_full[['x', 'y']]"
   ],
   "metadata": {
    "collapsed": false,
    "pycharm": {
     "name": "#%%\n"
    }
   }
  },
  {
   "cell_type": "code",
   "execution_count": 16,
   "outputs": [
    {
     "data": {
      "text/plain": "(889900, 71)"
     },
     "execution_count": 16,
     "metadata": {},
     "output_type": "execute_result"
    }
   ],
   "source": [
    "X.shape"
   ],
   "metadata": {
    "collapsed": false,
    "pycharm": {
     "name": "#%%\n"
    }
   }
  },
  {
   "cell_type": "code",
   "execution_count": 17,
   "outputs": [],
   "source": [
    "from sklearn.model_selection import train_test_split\n",
    "\n",
    "X_train, X_test, y_train, y_test = train_test_split(X, y, random_state=0)"
   ],
   "metadata": {
    "collapsed": false,
    "pycharm": {
     "name": "#%%\n"
    }
   }
  },
  {
   "cell_type": "code",
   "execution_count": 18,
   "outputs": [],
   "source": [
    "from sklearn.impute import SimpleImputer\n",
    "from sklearn.preprocessing import StandardScaler\n",
    "from sklearn.preprocessing import OneHotEncoder\n",
    "from sklearn.pipeline import Pipeline\n",
    "from sklearn.compose import ColumnTransformer\n",
    "\n",
    "impute = SimpleImputer(strategy=\"constant\", fill_value=0)\n",
    "scaler = StandardScaler()\n",
    "onehot = OneHotEncoder(handle_unknown='ignore')\n",
    "\n",
    "cat_cols = X_train.columns[X_train.dtypes == 'object']\n",
    "num_cols = X_train.columns[X_train.dtypes != 'object']\n",
    "\n",
    "cat_pipe = Pipeline([('one_hot', onehot)])\n",
    "num_pipe = Pipeline([('impute', impute), ('scaler', scaler)])\n",
    "\n",
    "full_pipe = ColumnTransformer([('cat', cat_pipe, cat_cols), ('num', num_pipe, num_cols)])"
   ],
   "metadata": {
    "collapsed": false,
    "pycharm": {
     "name": "#%%\n"
    }
   }
  },
  {
   "cell_type": "code",
   "execution_count": 19,
   "outputs": [],
   "source": [
    "X_train_tran = full_pipe.fit_transform(X_train)"
   ],
   "metadata": {
    "collapsed": false,
    "pycharm": {
     "name": "#%%\n"
    }
   }
  },
  {
   "cell_type": "code",
   "execution_count": 61,
   "outputs": [],
   "source": [
    "from sklearn.linear_model import LinearRegression\n",
    "\n",
    "models = []\n",
    "X_vals_rand = []\n",
    "y_vals_rand = []\n",
    "X_trains_rand = []\n",
    "y_trains_rand = []\n",
    "for i in range(10):\n",
    "    np.random.seed(i)\n",
    "    idx_rand = np.random.choice(range(X_train_tran.shape[0]), int(X_train_tran.shape[0] * 0.8))\n",
    "    X_train_rand = X_train_tran[idx_rand]\n",
    "    y_train_rand = y_train.iloc[idx_rand]\n",
    "    idx_val = np.delete(range(X_train_tran.shape[0]), idx_rand)\n",
    "    X_val_rand = X_train_tran[idx_val]\n",
    "    y_val_rand = y_train.iloc[idx_val]\n",
    "    lin_reg = LinearRegression()\n",
    "    lin_reg.fit(X_train_rand, y_train_rand)\n",
    "    models.append(lin_reg)\n",
    "    X_trains_rand.append(X_train_rand)\n",
    "    y_trains_rand.append(y_train_rand)\n",
    "    X_vals_rand.append(X_val_rand)\n",
    "    y_vals_rand.append(y_val_rand)"
   ],
   "metadata": {
    "collapsed": false,
    "pycharm": {
     "name": "#%%\n"
    }
   }
  },
  {
   "cell_type": "code",
   "execution_count": 69,
   "outputs": [],
   "source": [
    "from sklearn.metrics import r2_score\n",
    "\n",
    "y_preds_val = [model.predict(X_val) for model, X_val in zip(models, X_vals_rand)]\n",
    "r2_scores_val = [r2_score(y_val, y_pred) for y_val, y_pred in zip(y_vals_rand, y_preds_val)]"
   ],
   "metadata": {
    "collapsed": false,
    "pycharm": {
     "name": "#%%\n"
    }
   }
  },
  {
   "cell_type": "code",
   "execution_count": 70,
   "outputs": [],
   "source": [
    "X_test_tran = full_pipe.transform(X_test)"
   ],
   "metadata": {
    "collapsed": false,
    "pycharm": {
     "name": "#%%\n"
    }
   }
  },
  {
   "cell_type": "code",
   "execution_count": 71,
   "outputs": [],
   "source": [
    "y_preds_test = [model.predict(X_test_tran) for model in models]\n",
    "r2_scores_test = [r2_score(y_test, y_pred) for y_pred in y_preds_test]"
   ],
   "metadata": {
    "collapsed": false,
    "pycharm": {
     "name": "#%%\n"
    }
   }
  },
  {
   "cell_type": "code",
   "execution_count": 119,
   "outputs": [
    {
     "ename": "KeyboardInterrupt",
     "evalue": "",
     "output_type": "error",
     "traceback": [
      "\u001B[0;31m---------------------------------------------------------------------------\u001B[0m",
      "\u001B[0;31mKeyboardInterrupt\u001B[0m                         Traceback (most recent call last)",
      "\u001B[0;32m/var/folders/6v/8jcf0jcn7_vfm2q2r4tz44gh0000gn/T/ipykernel_39925/2939080502.py\u001B[0m in \u001B[0;36m<module>\u001B[0;34m\u001B[0m\n\u001B[1;32m      2\u001B[0m \u001B[0mnp\u001B[0m\u001B[0;34m.\u001B[0m\u001B[0msave\u001B[0m\u001B[0;34m(\u001B[0m\u001B[0;34m'assets/chosen_cols.npy'\u001B[0m\u001B[0;34m,\u001B[0m \u001B[0mchosen_cols\u001B[0m\u001B[0;34m)\u001B[0m\u001B[0;34m\u001B[0m\u001B[0;34m\u001B[0m\u001B[0m\n\u001B[1;32m      3\u001B[0m \u001B[0;34m\u001B[0m\u001B[0m\n\u001B[0;32m----> 4\u001B[0;31m \u001B[0mweek4\u001B[0m\u001B[0;34m,\u001B[0m \u001B[0mX_y4\u001B[0m \u001B[0;34m=\u001B[0m \u001B[0mgenerate_input_data\u001B[0m\u001B[0;34m(\u001B[0m\u001B[0mweek_fp\u001B[0m\u001B[0;34m.\u001B[0m\u001B[0mformat\u001B[0m\u001B[0;34m(\u001B[0m\u001B[0;36m4\u001B[0m\u001B[0;34m)\u001B[0m\u001B[0;34m,\u001B[0m \u001B[0mplays_fp\u001B[0m\u001B[0;34m,\u001B[0m \u001B[0mchosen_col_fp\u001B[0m\u001B[0;34m=\u001B[0m\u001B[0;34m'assets/chosen_cols.npy'\u001B[0m\u001B[0;34m)\u001B[0m\u001B[0;34m\u001B[0m\u001B[0;34m\u001B[0m\u001B[0m\n\u001B[0m",
      "\u001B[0;32m~/Documents/nfl_big_data/NFL_Pass_Pred/ml_pipe/week_data_prep.py\u001B[0m in \u001B[0;36mgenerate_input_data\u001B[0;34m(week_fp, play_fp, chosen_col_fp, for_model)\u001B[0m\n\u001B[1;32m      4\u001B[0m \u001B[0;34m\u001B[0m\u001B[0m\n\u001B[1;32m      5\u001B[0m \u001B[0;32mdef\u001B[0m \u001B[0mgenerate_input_data\u001B[0m\u001B[0;34m(\u001B[0m\u001B[0mweek_fp\u001B[0m\u001B[0;34m,\u001B[0m \u001B[0mplay_fp\u001B[0m\u001B[0;34m,\u001B[0m \u001B[0mchosen_col_fp\u001B[0m\u001B[0;34m=\u001B[0m\u001B[0;32mNone\u001B[0m\u001B[0;34m,\u001B[0m \u001B[0mfor_model\u001B[0m\u001B[0;34m=\u001B[0m\u001B[0;32mFalse\u001B[0m\u001B[0;34m)\u001B[0m\u001B[0;34m:\u001B[0m\u001B[0;34m\u001B[0m\u001B[0;34m\u001B[0m\u001B[0m\n\u001B[0;32m----> 6\u001B[0;31m     \u001B[0mweek\u001B[0m \u001B[0;34m=\u001B[0m \u001B[0mpd\u001B[0m\u001B[0;34m.\u001B[0m\u001B[0mread_csv\u001B[0m\u001B[0;34m(\u001B[0m\u001B[0mweek_fp\u001B[0m\u001B[0;34m)\u001B[0m\u001B[0;34m\u001B[0m\u001B[0;34m\u001B[0m\u001B[0m\n\u001B[0m\u001B[1;32m      7\u001B[0m     \u001B[0mweek\u001B[0m\u001B[0;34m[\u001B[0m\u001B[0;34m'time'\u001B[0m\u001B[0;34m]\u001B[0m \u001B[0;34m=\u001B[0m \u001B[0mpd\u001B[0m\u001B[0;34m.\u001B[0m\u001B[0mto_datetime\u001B[0m\u001B[0;34m(\u001B[0m\u001B[0mweek\u001B[0m\u001B[0;34m[\u001B[0m\u001B[0;34m'time'\u001B[0m\u001B[0;34m]\u001B[0m\u001B[0;34m,\u001B[0m \u001B[0mformat\u001B[0m\u001B[0;34m=\u001B[0m\u001B[0;34m'%Y-%m-%dT%H:%M:%S'\u001B[0m\u001B[0;34m)\u001B[0m\u001B[0;34m\u001B[0m\u001B[0;34m\u001B[0m\u001B[0m\n\u001B[1;32m      8\u001B[0m     \u001B[0mplays\u001B[0m \u001B[0;34m=\u001B[0m \u001B[0mpd\u001B[0m\u001B[0;34m.\u001B[0m\u001B[0mread_csv\u001B[0m\u001B[0;34m(\u001B[0m\u001B[0mplay_fp\u001B[0m\u001B[0;34m)\u001B[0m\u001B[0;34m\u001B[0m\u001B[0;34m\u001B[0m\u001B[0m\n",
      "\u001B[0;32m/opt/anaconda3/lib/python3.8/site-packages/pandas/util/_decorators.py\u001B[0m in \u001B[0;36mwrapper\u001B[0;34m(*args, **kwargs)\u001B[0m\n\u001B[1;32m    309\u001B[0m                     \u001B[0mstacklevel\u001B[0m\u001B[0;34m=\u001B[0m\u001B[0mstacklevel\u001B[0m\u001B[0;34m,\u001B[0m\u001B[0;34m\u001B[0m\u001B[0;34m\u001B[0m\u001B[0m\n\u001B[1;32m    310\u001B[0m                 )\n\u001B[0;32m--> 311\u001B[0;31m             \u001B[0;32mreturn\u001B[0m \u001B[0mfunc\u001B[0m\u001B[0;34m(\u001B[0m\u001B[0;34m*\u001B[0m\u001B[0margs\u001B[0m\u001B[0;34m,\u001B[0m \u001B[0;34m**\u001B[0m\u001B[0mkwargs\u001B[0m\u001B[0;34m)\u001B[0m\u001B[0;34m\u001B[0m\u001B[0;34m\u001B[0m\u001B[0m\n\u001B[0m\u001B[1;32m    312\u001B[0m \u001B[0;34m\u001B[0m\u001B[0m\n\u001B[1;32m    313\u001B[0m         \u001B[0;32mreturn\u001B[0m \u001B[0mwrapper\u001B[0m\u001B[0;34m\u001B[0m\u001B[0;34m\u001B[0m\u001B[0m\n",
      "\u001B[0;32m/opt/anaconda3/lib/python3.8/site-packages/pandas/io/parsers/readers.py\u001B[0m in \u001B[0;36mread_csv\u001B[0;34m(filepath_or_buffer, sep, delimiter, header, names, index_col, usecols, squeeze, prefix, mangle_dupe_cols, dtype, engine, converters, true_values, false_values, skipinitialspace, skiprows, skipfooter, nrows, na_values, keep_default_na, na_filter, verbose, skip_blank_lines, parse_dates, infer_datetime_format, keep_date_col, date_parser, dayfirst, cache_dates, iterator, chunksize, compression, thousands, decimal, lineterminator, quotechar, quoting, doublequote, escapechar, comment, encoding, encoding_errors, dialect, error_bad_lines, warn_bad_lines, on_bad_lines, delim_whitespace, low_memory, memory_map, float_precision, storage_options)\u001B[0m\n\u001B[1;32m    584\u001B[0m     \u001B[0mkwds\u001B[0m\u001B[0;34m.\u001B[0m\u001B[0mupdate\u001B[0m\u001B[0;34m(\u001B[0m\u001B[0mkwds_defaults\u001B[0m\u001B[0;34m)\u001B[0m\u001B[0;34m\u001B[0m\u001B[0;34m\u001B[0m\u001B[0m\n\u001B[1;32m    585\u001B[0m \u001B[0;34m\u001B[0m\u001B[0m\n\u001B[0;32m--> 586\u001B[0;31m     \u001B[0;32mreturn\u001B[0m \u001B[0m_read\u001B[0m\u001B[0;34m(\u001B[0m\u001B[0mfilepath_or_buffer\u001B[0m\u001B[0;34m,\u001B[0m \u001B[0mkwds\u001B[0m\u001B[0;34m)\u001B[0m\u001B[0;34m\u001B[0m\u001B[0;34m\u001B[0m\u001B[0m\n\u001B[0m\u001B[1;32m    587\u001B[0m \u001B[0;34m\u001B[0m\u001B[0m\n\u001B[1;32m    588\u001B[0m \u001B[0;34m\u001B[0m\u001B[0m\n",
      "\u001B[0;32m/opt/anaconda3/lib/python3.8/site-packages/pandas/io/parsers/readers.py\u001B[0m in \u001B[0;36m_read\u001B[0;34m(filepath_or_buffer, kwds)\u001B[0m\n\u001B[1;32m    486\u001B[0m \u001B[0;34m\u001B[0m\u001B[0m\n\u001B[1;32m    487\u001B[0m     \u001B[0;32mwith\u001B[0m \u001B[0mparser\u001B[0m\u001B[0;34m:\u001B[0m\u001B[0;34m\u001B[0m\u001B[0;34m\u001B[0m\u001B[0m\n\u001B[0;32m--> 488\u001B[0;31m         \u001B[0;32mreturn\u001B[0m \u001B[0mparser\u001B[0m\u001B[0;34m.\u001B[0m\u001B[0mread\u001B[0m\u001B[0;34m(\u001B[0m\u001B[0mnrows\u001B[0m\u001B[0;34m)\u001B[0m\u001B[0;34m\u001B[0m\u001B[0;34m\u001B[0m\u001B[0m\n\u001B[0m\u001B[1;32m    489\u001B[0m \u001B[0;34m\u001B[0m\u001B[0m\n\u001B[1;32m    490\u001B[0m \u001B[0;34m\u001B[0m\u001B[0m\n",
      "\u001B[0;32m/opt/anaconda3/lib/python3.8/site-packages/pandas/io/parsers/readers.py\u001B[0m in \u001B[0;36mread\u001B[0;34m(self, nrows)\u001B[0m\n\u001B[1;32m   1057\u001B[0m             \u001B[0mnew_rows\u001B[0m \u001B[0;34m=\u001B[0m \u001B[0mlen\u001B[0m\u001B[0;34m(\u001B[0m\u001B[0mindex\u001B[0m\u001B[0;34m)\u001B[0m\u001B[0;34m\u001B[0m\u001B[0;34m\u001B[0m\u001B[0m\n\u001B[1;32m   1058\u001B[0m \u001B[0;34m\u001B[0m\u001B[0m\n\u001B[0;32m-> 1059\u001B[0;31m         \u001B[0mdf\u001B[0m \u001B[0;34m=\u001B[0m \u001B[0mDataFrame\u001B[0m\u001B[0;34m(\u001B[0m\u001B[0mcol_dict\u001B[0m\u001B[0;34m,\u001B[0m \u001B[0mcolumns\u001B[0m\u001B[0;34m=\u001B[0m\u001B[0mcolumns\u001B[0m\u001B[0;34m,\u001B[0m \u001B[0mindex\u001B[0m\u001B[0;34m=\u001B[0m\u001B[0mindex\u001B[0m\u001B[0;34m)\u001B[0m\u001B[0;34m\u001B[0m\u001B[0;34m\u001B[0m\u001B[0m\n\u001B[0m\u001B[1;32m   1060\u001B[0m \u001B[0;34m\u001B[0m\u001B[0m\n\u001B[1;32m   1061\u001B[0m         \u001B[0mself\u001B[0m\u001B[0;34m.\u001B[0m\u001B[0m_currow\u001B[0m \u001B[0;34m+=\u001B[0m \u001B[0mnew_rows\u001B[0m\u001B[0;34m\u001B[0m\u001B[0;34m\u001B[0m\u001B[0m\n",
      "\u001B[0;32m/opt/anaconda3/lib/python3.8/site-packages/pandas/core/frame.py\u001B[0m in \u001B[0;36m__init__\u001B[0;34m(self, data, index, columns, dtype, copy)\u001B[0m\n\u001B[1;32m    612\u001B[0m         \u001B[0;32melif\u001B[0m \u001B[0misinstance\u001B[0m\u001B[0;34m(\u001B[0m\u001B[0mdata\u001B[0m\u001B[0;34m,\u001B[0m \u001B[0mdict\u001B[0m\u001B[0;34m)\u001B[0m\u001B[0;34m:\u001B[0m\u001B[0;34m\u001B[0m\u001B[0;34m\u001B[0m\u001B[0m\n\u001B[1;32m    613\u001B[0m             \u001B[0;31m# GH#38939 de facto copy defaults to False only in non-dict cases\u001B[0m\u001B[0;34m\u001B[0m\u001B[0;34m\u001B[0m\u001B[0;34m\u001B[0m\u001B[0m\n\u001B[0;32m--> 614\u001B[0;31m             \u001B[0mmgr\u001B[0m \u001B[0;34m=\u001B[0m \u001B[0mdict_to_mgr\u001B[0m\u001B[0;34m(\u001B[0m\u001B[0mdata\u001B[0m\u001B[0;34m,\u001B[0m \u001B[0mindex\u001B[0m\u001B[0;34m,\u001B[0m \u001B[0mcolumns\u001B[0m\u001B[0;34m,\u001B[0m \u001B[0mdtype\u001B[0m\u001B[0;34m=\u001B[0m\u001B[0mdtype\u001B[0m\u001B[0;34m,\u001B[0m \u001B[0mcopy\u001B[0m\u001B[0;34m=\u001B[0m\u001B[0mcopy\u001B[0m\u001B[0;34m,\u001B[0m \u001B[0mtyp\u001B[0m\u001B[0;34m=\u001B[0m\u001B[0mmanager\u001B[0m\u001B[0;34m)\u001B[0m\u001B[0;34m\u001B[0m\u001B[0;34m\u001B[0m\u001B[0m\n\u001B[0m\u001B[1;32m    615\u001B[0m         \u001B[0;32melif\u001B[0m \u001B[0misinstance\u001B[0m\u001B[0;34m(\u001B[0m\u001B[0mdata\u001B[0m\u001B[0;34m,\u001B[0m \u001B[0mma\u001B[0m\u001B[0;34m.\u001B[0m\u001B[0mMaskedArray\u001B[0m\u001B[0;34m)\u001B[0m\u001B[0;34m:\u001B[0m\u001B[0;34m\u001B[0m\u001B[0;34m\u001B[0m\u001B[0m\n\u001B[1;32m    616\u001B[0m             \u001B[0;32mimport\u001B[0m \u001B[0mnumpy\u001B[0m\u001B[0;34m.\u001B[0m\u001B[0mma\u001B[0m\u001B[0;34m.\u001B[0m\u001B[0mmrecords\u001B[0m \u001B[0;32mas\u001B[0m \u001B[0mmrecords\u001B[0m\u001B[0;34m\u001B[0m\u001B[0;34m\u001B[0m\u001B[0m\n",
      "\u001B[0;32m/opt/anaconda3/lib/python3.8/site-packages/pandas/core/internals/construction.py\u001B[0m in \u001B[0;36mdict_to_mgr\u001B[0;34m(data, index, columns, dtype, typ, copy)\u001B[0m\n\u001B[1;32m    462\u001B[0m         \u001B[0;31m# TODO: can we get rid of the dt64tz special case above?\u001B[0m\u001B[0;34m\u001B[0m\u001B[0;34m\u001B[0m\u001B[0;34m\u001B[0m\u001B[0m\n\u001B[1;32m    463\u001B[0m \u001B[0;34m\u001B[0m\u001B[0m\n\u001B[0;32m--> 464\u001B[0;31m     return arrays_to_mgr(\n\u001B[0m\u001B[1;32m    465\u001B[0m         \u001B[0marrays\u001B[0m\u001B[0;34m,\u001B[0m \u001B[0mdata_names\u001B[0m\u001B[0;34m,\u001B[0m \u001B[0mindex\u001B[0m\u001B[0;34m,\u001B[0m \u001B[0mcolumns\u001B[0m\u001B[0;34m,\u001B[0m \u001B[0mdtype\u001B[0m\u001B[0;34m=\u001B[0m\u001B[0mdtype\u001B[0m\u001B[0;34m,\u001B[0m \u001B[0mtyp\u001B[0m\u001B[0;34m=\u001B[0m\u001B[0mtyp\u001B[0m\u001B[0;34m,\u001B[0m \u001B[0mconsolidate\u001B[0m\u001B[0;34m=\u001B[0m\u001B[0mcopy\u001B[0m\u001B[0;34m\u001B[0m\u001B[0;34m\u001B[0m\u001B[0m\n\u001B[1;32m    466\u001B[0m     )\n",
      "\u001B[0;32m/opt/anaconda3/lib/python3.8/site-packages/pandas/core/internals/construction.py\u001B[0m in \u001B[0;36marrays_to_mgr\u001B[0;34m(arrays, arr_names, index, columns, dtype, verify_integrity, typ, consolidate)\u001B[0m\n\u001B[1;32m    133\u001B[0m \u001B[0;34m\u001B[0m\u001B[0m\n\u001B[1;32m    134\u001B[0m     \u001B[0;32mif\u001B[0m \u001B[0mtyp\u001B[0m \u001B[0;34m==\u001B[0m \u001B[0;34m\"block\"\u001B[0m\u001B[0;34m:\u001B[0m\u001B[0;34m\u001B[0m\u001B[0;34m\u001B[0m\u001B[0m\n\u001B[0;32m--> 135\u001B[0;31m         return create_block_manager_from_arrays(\n\u001B[0m\u001B[1;32m    136\u001B[0m             \u001B[0marrays\u001B[0m\u001B[0;34m,\u001B[0m \u001B[0marr_names\u001B[0m\u001B[0;34m,\u001B[0m \u001B[0maxes\u001B[0m\u001B[0;34m,\u001B[0m \u001B[0mconsolidate\u001B[0m\u001B[0;34m=\u001B[0m\u001B[0mconsolidate\u001B[0m\u001B[0;34m\u001B[0m\u001B[0;34m\u001B[0m\u001B[0m\n\u001B[1;32m    137\u001B[0m         )\n",
      "\u001B[0;32m/opt/anaconda3/lib/python3.8/site-packages/pandas/core/internals/managers.py\u001B[0m in \u001B[0;36mcreate_block_manager_from_arrays\u001B[0;34m(arrays, names, axes, consolidate)\u001B[0m\n\u001B[1;32m   1771\u001B[0m \u001B[0;34m\u001B[0m\u001B[0m\n\u001B[1;32m   1772\u001B[0m     \u001B[0;32mtry\u001B[0m\u001B[0;34m:\u001B[0m\u001B[0;34m\u001B[0m\u001B[0;34m\u001B[0m\u001B[0m\n\u001B[0;32m-> 1773\u001B[0;31m         \u001B[0mblocks\u001B[0m \u001B[0;34m=\u001B[0m \u001B[0m_form_blocks\u001B[0m\u001B[0;34m(\u001B[0m\u001B[0marrays\u001B[0m\u001B[0;34m,\u001B[0m \u001B[0mnames\u001B[0m\u001B[0;34m,\u001B[0m \u001B[0maxes\u001B[0m\u001B[0;34m,\u001B[0m \u001B[0mconsolidate\u001B[0m\u001B[0;34m)\u001B[0m\u001B[0;34m\u001B[0m\u001B[0;34m\u001B[0m\u001B[0m\n\u001B[0m\u001B[1;32m   1774\u001B[0m         \u001B[0mmgr\u001B[0m \u001B[0;34m=\u001B[0m \u001B[0mBlockManager\u001B[0m\u001B[0;34m(\u001B[0m\u001B[0mblocks\u001B[0m\u001B[0;34m,\u001B[0m \u001B[0maxes\u001B[0m\u001B[0;34m)\u001B[0m\u001B[0;34m\u001B[0m\u001B[0;34m\u001B[0m\u001B[0m\n\u001B[1;32m   1775\u001B[0m     \u001B[0;32mexcept\u001B[0m \u001B[0mValueError\u001B[0m \u001B[0;32mas\u001B[0m \u001B[0me\u001B[0m\u001B[0;34m:\u001B[0m\u001B[0;34m\u001B[0m\u001B[0;34m\u001B[0m\u001B[0m\n",
      "\u001B[0;32m/opt/anaconda3/lib/python3.8/site-packages/pandas/core/internals/managers.py\u001B[0m in \u001B[0;36m_form_blocks\u001B[0;34m(arrays, names, axes, consolidate)\u001B[0m\n\u001B[1;32m   1836\u001B[0m     \u001B[0mblocks\u001B[0m\u001B[0;34m:\u001B[0m \u001B[0mlist\u001B[0m\u001B[0;34m[\u001B[0m\u001B[0mBlock\u001B[0m\u001B[0;34m]\u001B[0m \u001B[0;34m=\u001B[0m \u001B[0;34m[\u001B[0m\u001B[0;34m]\u001B[0m\u001B[0;34m\u001B[0m\u001B[0;34m\u001B[0m\u001B[0m\n\u001B[1;32m   1837\u001B[0m     \u001B[0;32mif\u001B[0m \u001B[0mlen\u001B[0m\u001B[0;34m(\u001B[0m\u001B[0mitems_dict\u001B[0m\u001B[0;34m[\u001B[0m\u001B[0;34m\"NumericBlock\"\u001B[0m\u001B[0;34m]\u001B[0m\u001B[0;34m)\u001B[0m\u001B[0;34m:\u001B[0m\u001B[0;34m\u001B[0m\u001B[0;34m\u001B[0m\u001B[0m\n\u001B[0;32m-> 1838\u001B[0;31m         numeric_blocks = _multi_blockify(\n\u001B[0m\u001B[1;32m   1839\u001B[0m             \u001B[0mitems_dict\u001B[0m\u001B[0;34m[\u001B[0m\u001B[0;34m\"NumericBlock\"\u001B[0m\u001B[0;34m]\u001B[0m\u001B[0;34m,\u001B[0m \u001B[0mconsolidate\u001B[0m\u001B[0;34m=\u001B[0m\u001B[0mconsolidate\u001B[0m\u001B[0;34m\u001B[0m\u001B[0;34m\u001B[0m\u001B[0m\n\u001B[1;32m   1840\u001B[0m         )\n",
      "\u001B[0;32m/opt/anaconda3/lib/python3.8/site-packages/pandas/core/internals/managers.py\u001B[0m in \u001B[0;36m_multi_blockify\u001B[0;34m(tuples, dtype, consolidate)\u001B[0m\n\u001B[1;32m   1926\u001B[0m         \u001B[0;31m# \"Union[ExtensionDtype, str, dtype[Any], Type[str], Type[float], Type[int],\u001B[0m\u001B[0;34m\u001B[0m\u001B[0;34m\u001B[0m\u001B[0;34m\u001B[0m\u001B[0m\n\u001B[1;32m   1927\u001B[0m         \u001B[0;31m# Type[complex], Type[bool], Type[object], None]\"; expected \"dtype[Any]\"\u001B[0m\u001B[0;34m\u001B[0m\u001B[0;34m\u001B[0m\u001B[0;34m\u001B[0m\u001B[0m\n\u001B[0;32m-> 1928\u001B[0;31m         values, placement = _stack_arrays(\n\u001B[0m\u001B[1;32m   1929\u001B[0m             \u001B[0mlist\u001B[0m\u001B[0;34m(\u001B[0m\u001B[0mtup_block\u001B[0m\u001B[0;34m)\u001B[0m\u001B[0;34m,\u001B[0m \u001B[0mdtype\u001B[0m  \u001B[0;31m# type: ignore[arg-type]\u001B[0m\u001B[0;34m\u001B[0m\u001B[0;34m\u001B[0m\u001B[0m\n\u001B[1;32m   1930\u001B[0m         )\n",
      "\u001B[0;32m/opt/anaconda3/lib/python3.8/site-packages/pandas/core/internals/managers.py\u001B[0m in \u001B[0;36m_stack_arrays\u001B[0;34m(tuples, dtype)\u001B[0m\n\u001B[1;32m   1957\u001B[0m     \u001B[0mstacked\u001B[0m \u001B[0;34m=\u001B[0m \u001B[0mnp\u001B[0m\u001B[0;34m.\u001B[0m\u001B[0mempty\u001B[0m\u001B[0;34m(\u001B[0m\u001B[0mshape\u001B[0m\u001B[0;34m,\u001B[0m \u001B[0mdtype\u001B[0m\u001B[0;34m=\u001B[0m\u001B[0mdtype\u001B[0m\u001B[0;34m)\u001B[0m\u001B[0;34m\u001B[0m\u001B[0;34m\u001B[0m\u001B[0m\n\u001B[1;32m   1958\u001B[0m     \u001B[0;32mfor\u001B[0m \u001B[0mi\u001B[0m\u001B[0;34m,\u001B[0m \u001B[0marr\u001B[0m \u001B[0;32min\u001B[0m \u001B[0menumerate\u001B[0m\u001B[0;34m(\u001B[0m\u001B[0marrays\u001B[0m\u001B[0;34m)\u001B[0m\u001B[0;34m:\u001B[0m\u001B[0;34m\u001B[0m\u001B[0;34m\u001B[0m\u001B[0m\n\u001B[0;32m-> 1959\u001B[0;31m         \u001B[0mstacked\u001B[0m\u001B[0;34m[\u001B[0m\u001B[0mi\u001B[0m\u001B[0;34m]\u001B[0m \u001B[0;34m=\u001B[0m \u001B[0marr\u001B[0m\u001B[0;34m\u001B[0m\u001B[0;34m\u001B[0m\u001B[0m\n\u001B[0m\u001B[1;32m   1960\u001B[0m \u001B[0;34m\u001B[0m\u001B[0m\n\u001B[1;32m   1961\u001B[0m     \u001B[0;32mreturn\u001B[0m \u001B[0mstacked\u001B[0m\u001B[0;34m,\u001B[0m \u001B[0mplacement\u001B[0m\u001B[0;34m\u001B[0m\u001B[0;34m\u001B[0m\u001B[0m\n",
      "\u001B[0;31mKeyboardInterrupt\u001B[0m: "
     ]
    }
   ],
   "source": [
    "chosen_cols = np.array(X_y_full.columns)\n",
    "np.save('assets/chosen_cols.npy', chosen_cols)\n",
    "\n",
    "week4, X_y4 = generate_input_data(week_fp.format(4), plays_fp, chosen_col_fp='assets/chosen_cols.npy')"
   ],
   "metadata": {
    "collapsed": false,
    "pycharm": {
     "name": "#%%\n"
    }
   }
  },
  {
   "cell_type": "code",
   "execution_count": 118,
   "outputs": [
    {
     "data": {
      "text/plain": "array(['x', 'y', 'position_num', 'x_starting_behind_line', 'y_starting',\n       'yardsToGo', 'yards_needed_touch', 'time_acc_s', 'yardline_first',\n       'x_starting_behind_line_CB1', 'x_starting_behind_line_CB2',\n       'x_starting_behind_line_CB3', 'x_starting_behind_line_CB4',\n       'x_starting_behind_line_DB1', 'x_starting_behind_line_DE1',\n       'x_starting_behind_line_DL1', 'x_starting_behind_line_FS1',\n       'x_starting_behind_line_FS2', 'x_starting_behind_line_FS3',\n       'x_starting_behind_line_IL1', 'x_starting_behind_line_IL3',\n       'x_starting_behind_line_IL4', 'x_starting_behind_line_LB1',\n       'x_starting_behind_line_LB2', 'x_starting_behind_line_ML1',\n       'x_starting_behind_line_ML3', 'x_starting_behind_line_NT1',\n       'x_starting_behind_line_OL1', 'x_starting_behind_line_OL3',\n       'x_starting_behind_line_OL4', 'x_starting_behind_line_OL6',\n       'x_starting_behind_line_OL7', 'x_starting_behind_line_S0',\n       'x_starting_behind_line_SS1', 'x_starting_behind_line_SS2',\n       'x_starting_behind_line_TE1', 'y_starting_CB1', 'y_starting_CB2',\n       'y_starting_CB3', 'y_starting_CB4', 'y_starting_DB1',\n       'y_starting_DE1', 'y_starting_DL1', 'y_starting_FS1',\n       'y_starting_FS2', 'y_starting_FS3', 'y_starting_IL1',\n       'y_starting_IL3', 'y_starting_IL4', 'y_starting_LB1',\n       'y_starting_LB2', 'y_starting_ML1', 'y_starting_ML3',\n       'y_starting_NT1', 'y_starting_OL1', 'y_starting_OL3',\n       'y_starting_OL4', 'y_starting_OL6', 'y_starting_OL7',\n       'y_starting_S0', 'y_starting_SS1', 'y_starting_SS2',\n       'y_starting_TE1', 'x_starting_behind_line_DB2',\n       'x_starting_behind_line_LS1', 'x_starting_behind_line_P0',\n       'x_starting_behind_line_SS3', 'x_starting_behind_line_TE2',\n       'y_starting_DB2', 'y_starting_LS1', 'y_starting_P0',\n       'y_starting_SS3', 'y_starting_TE2'], dtype=object)"
     },
     "execution_count": 118,
     "metadata": {},
     "output_type": "execute_result"
    }
   ],
   "source": [
    " chosen_cols"
   ],
   "metadata": {
    "collapsed": false,
    "pycharm": {
     "name": "#%%\n"
    }
   }
  },
  {
   "cell_type": "code",
   "execution_count": null,
   "outputs": [],
   "source": [],
   "metadata": {
    "collapsed": false,
    "pycharm": {
     "name": "#%%\n"
    }
   }
  }
 ],
 "metadata": {
  "kernelspec": {
   "display_name": "Python 3",
   "language": "python",
   "name": "python3"
  },
  "language_info": {
   "codemirror_mode": {
    "name": "ipython",
    "version": 2
   },
   "file_extension": ".py",
   "mimetype": "text/x-python",
   "name": "python",
   "nbconvert_exporter": "python",
   "pygments_lexer": "ipython2",
   "version": "2.7.6"
  }
 },
 "nbformat": 4,
 "nbformat_minor": 0
}