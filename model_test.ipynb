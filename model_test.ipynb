{
 "cells": [
  {
   "cell_type": "code",
   "execution_count": 1,
   "metadata": {
    "collapsed": true
   },
   "outputs": [],
   "source": [
    "from ml_pipe.week_data_prep import generate_input_data\n",
    "import pandas as pd\n",
    "import numpy as np\n",
    "import os"
   ]
  },
  {
   "cell_type": "code",
   "execution_count": 2,
   "outputs": [
    {
     "name": "stderr",
     "output_type": "stream",
     "text": [
      "/Users/andrewbakert/Documents/nfl_big_data/NFL_Pass_Pred/ml_pipe/week_data_prep.py:19: SettingWithCopyWarning: \n",
      "A value is trying to be set on a copy of a slice from a DataFrame\n",
      "\n",
      "See the caveats in the documentation: https://pandas.pydata.org/pandas-docs/stable/user_guide/indexing.html#returning-a-view-versus-a-copy\n",
      "  week_play['time_diff'][week_play['time_diff'].isnull()] = pd.Timedelta(0)\n"
     ]
    },
    {
     "name": "stdout",
     "output_type": "stream",
     "text": [
      "CPU times: user 48.9 s, sys: 5.62 s, total: 54.5 s\n",
      "Wall time: 54.8 s\n"
     ]
    }
   ],
   "source": [
    "%%time\n",
    "\n",
    "week_off_def, week_data, X_y_train = generate_input_data(1, 1, train=True)"
   ],
   "metadata": {
    "collapsed": false,
    "pycharm": {
     "name": "#%%\n"
    }
   }
  },
  {
   "cell_type": "code",
   "execution_count": 13,
   "outputs": [
    {
     "data": {
      "text/plain": "-0.010000000000005116"
     },
     "execution_count": 13,
     "metadata": {},
     "output_type": "execute_result"
    }
   ],
   "source": [
    "off = week_off_def[week_off_def['off']]\n",
    "defense = week_off_def[~week_off_def['off']]\n",
    "off['x_behind_line'].max()"
   ],
   "metadata": {
    "collapsed": false,
    "pycharm": {
     "name": "#%%\n"
    }
   }
  },
  {
   "cell_type": "code",
   "execution_count": 15,
   "outputs": [
    {
     "data": {
      "text/plain": "(array([2.7800e+02, 0.0000e+00, 0.0000e+00, 0.0000e+00, 1.3900e+02,\n        0.0000e+00, 1.3900e+02, 0.0000e+00, 0.0000e+00, 1.3900e+02,\n        0.0000e+00, 1.3900e+02, 0.0000e+00, 0.0000e+00, 1.3900e+02,\n        0.0000e+00, 0.0000e+00, 0.0000e+00, 0.0000e+00, 0.0000e+00,\n        6.6000e+01, 0.0000e+00, 0.0000e+00, 0.0000e+00, 0.0000e+00,\n        0.0000e+00, 6.6000e+01, 7.2000e+01, 2.1000e+02, 4.1000e+02,\n        1.4200e+02, 5.0600e+02, 1.1860e+03, 2.3940e+03, 2.8900e+03,\n        6.9910e+03, 8.7420e+03, 1.3044e+04, 1.6299e+04, 1.3437e+04,\n        1.1780e+04, 1.2717e+04, 1.7241e+04, 2.4933e+04, 3.1932e+04,\n        5.1141e+04, 8.7401e+04, 4.7340e+04, 5.1621e+04, 9.2389e+04]),\n array([-57.98  , -56.8204, -55.6608, -54.5012, -53.3416, -52.182 ,\n        -51.0224, -49.8628, -48.7032, -47.5436, -46.384 , -45.2244,\n        -44.0648, -42.9052, -41.7456, -40.586 , -39.4264, -38.2668,\n        -37.1072, -35.9476, -34.788 , -33.6284, -32.4688, -31.3092,\n        -30.1496, -28.99  , -27.8304, -26.6708, -25.5112, -24.3516,\n        -23.192 , -22.0324, -20.8728, -19.7132, -18.5536, -17.394 ,\n        -16.2344, -15.0748, -13.9152, -12.7556, -11.596 , -10.4364,\n         -9.2768,  -8.1172,  -6.9576,  -5.798 ,  -4.6384,  -3.4788,\n         -2.3192,  -1.1596,   0.    ]),\n <BarContainer object of 50 artists>)"
     },
     "execution_count": 15,
     "metadata": {},
     "output_type": "execute_result"
    },
    {
     "data": {
      "text/plain": "<Figure size 432x288 with 1 Axes>",
      "image/png": "[encoded data removed]"
     },
     "metadata": {
      "needs_background": "light"
     },
     "output_type": "display_data"
    }
   ],
   "source": [
    "import matplotlib.pyplot as plt\n",
    "\n",
    "plt.hist(defense['x_behind_line'].values, bins=50)"
   ],
   "metadata": {
    "collapsed": false,
    "pycharm": {
     "name": "#%%\n"
    }
   }
  },
  {
   "cell_type": "code",
   "execution_count": 22,
   "outputs": [
    {
     "name": "stderr",
     "output_type": "stream",
     "text": [
      "/opt/anaconda3/lib/python3.8/site-packages/pandas/util/_decorators.py:311: SettingWithCopyWarning: \n",
      "A value is trying to be set on a copy of a slice from a DataFrame\n",
      "\n",
      "See the caveats in the documentation: https://pandas.pydata.org/pandas-docs/stable/user_guide/indexing.html#returning-a-view-versus-a-copy\n",
      "  return func(*args, **kwargs)\n",
      "/var/folders/6v/8jcf0jcn7_vfm2q2r4tz44gh0000gn/T/ipykernel_35916/3862282143.py:2: SettingWithCopyWarning: \n",
      "A value is trying to be set on a copy of a slice from a DataFrame.\n",
      "Try using .loc[row_indexer,col_indexer] = value instead\n",
      "\n",
      "See the caveats in the documentation: https://pandas.pydata.org/pandas-docs/stable/user_guide/indexing.html#returning-a-view-versus-a-copy\n",
      "  defense['x_starting'] = defense.groupby(['gameId', 'playId', 'position_num'])['x'].transform(lambda x: x.iloc[0])\n"
     ]
    }
   ],
   "source": [
    "defense.sort_values(['gameId', 'playId', 'position_num', 'time'], inplace=True)\n",
    "defense['x_starting'] = defense.groupby(['gameId', 'playId', 'position_num'])['x'].transform(lambda x: x.iloc[0])"
   ],
   "metadata": {
    "collapsed": false,
    "pycharm": {
     "name": "#%%\n"
    }
   }
  },
  {
   "cell_type": "code",
   "execution_count": null,
   "outputs": [],
   "source": [
    "de"
   ],
   "metadata": {
    "collapsed": false,
    "pycharm": {
     "name": "#%%\n"
    }
   }
  },
  {
   "cell_type": "code",
   "execution_count": 16,
   "outputs": [
    {
     "data": {
      "text/plain": "               position_num\nx_behind_line  CB1             -0.04\n               CB2             -0.25\n               CB3             -0.03\n               CB4             -0.49\n               DB1             -0.29\n                               ...  \ny_starting     TE3             37.30\n               WR1             48.05\n               WR2             45.62\n               WR3             46.44\n               WR4             44.60\nLength: 68, dtype: float64"
     },
     "execution_count": 16,
     "metadata": {},
     "output_type": "execute_result"
    }
   ],
   "source": [
    "group = week_data.reset_index(drop=True).groupby(['playId', 'gameId', 'position_num'])[['y_starting', 'x_behind_line']].first().reset_index()\n",
    "group.pivot_table(values=['y_starting', 'x_behind_line'], columns=['position_num'], index=['playId', 'gameId']).max()"
   ],
   "metadata": {
    "collapsed": false,
    "pycharm": {
     "name": "#%%\n"
    }
   }
  },
  {
   "cell_type": "code",
   "execution_count": 18,
   "outputs": [
    {
     "data": {
      "text/plain": "off\nTrue   -9.19\nName: x_behind_line, dtype: float64"
     },
     "execution_count": 18,
     "metadata": {},
     "output_type": "execute_result"
    }
   ],
   "source": [
    "week_data.groupby(['off'])['x_behind_line'].min()"
   ],
   "metadata": {
    "collapsed": false,
    "pycharm": {
     "name": "#%%\n"
    }
   }
  },
  {
   "cell_type": "code",
   "execution_count": null,
   "outputs": [],
   "source": [],
   "metadata": {
    "collapsed": false,
    "pycharm": {
     "name": "#%%\n"
    }
   }
  },
  {
   "cell_type": "code",
   "execution_count": 3,
   "outputs": [],
   "source": [
    "X_train = X_y_train.drop(['x', 'y'], axis=1)\n",
    "y_train = X_y_train[['x', 'y']]"
   ],
   "metadata": {
    "collapsed": false,
    "pycharm": {
     "name": "#%%\n"
    }
   }
  },
  {
   "cell_type": "code",
   "execution_count": 4,
   "outputs": [
    {
     "data": {
      "text/plain": "Index(['position_num', 'x_behind_line', 'y_starting', 'yardsToGo',\n       'yards_needed_touch', 'time_acc_s', 'yardline_first',\n       'x_behind_line_CB1', 'x_behind_line_CB2', 'x_behind_line_CB3',\n       'x_behind_line_CB4', 'x_behind_line_CB5', 'x_behind_line_DB1',\n       'x_behind_line_DB2', 'x_behind_line_DE1', 'x_behind_line_DE2',\n       'x_behind_line_DE3', 'x_behind_line_DL1', 'x_behind_line_DT1',\n       'x_behind_line_FS1', 'x_behind_line_FS2', 'x_behind_line_FS3',\n       'x_behind_line_IL1', 'x_behind_line_IL3', 'x_behind_line_IL4',\n       'x_behind_line_K0', 'x_behind_line_LB1', 'x_behind_line_LB2',\n       'x_behind_line_LS1', 'x_behind_line_ML1', 'x_behind_line_ML3',\n       'x_behind_line_NT1', 'x_behind_line_OL1', 'x_behind_line_OL3',\n       'x_behind_line_OL4', 'x_behind_line_OL6', 'x_behind_line_OL7',\n       'x_behind_line_P0', 'x_behind_line_S0', 'x_behind_line_SS1',\n       'x_behind_line_SS2', 'x_behind_line_SS3', 'x_behind_line_TE1',\n       'x_behind_line_TE2', 'y_starting_CB1', 'y_starting_CB2',\n       'y_starting_CB3', 'y_starting_CB4', 'y_starting_CB5', 'y_starting_DB1',\n       'y_starting_DB2', 'y_starting_DE1', 'y_starting_DE2', 'y_starting_DE3',\n       'y_starting_DL1', 'y_starting_DT1', 'y_starting_FS1', 'y_starting_FS2',\n       'y_starting_FS3', 'y_starting_IL1', 'y_starting_IL3', 'y_starting_IL4',\n       'y_starting_K0', 'y_starting_LB1', 'y_starting_LB2', 'y_starting_LS1',\n       'y_starting_ML1', 'y_starting_ML3', 'y_starting_NT1', 'y_starting_OL1',\n       'y_starting_OL3', 'y_starting_OL4', 'y_starting_OL6', 'y_starting_OL7',\n       'y_starting_P0', 'y_starting_S0', 'y_starting_SS1', 'y_starting_SS2',\n       'y_starting_SS3', 'y_starting_TE1', 'y_starting_TE2'],\n      dtype='object')"
     },
     "execution_count": 4,
     "metadata": {},
     "output_type": "execute_result"
    }
   ],
   "source": [
    "X_train.columns"
   ],
   "metadata": {
    "collapsed": false,
    "pycharm": {
     "name": "#%%\n"
    }
   }
  },
  {
   "cell_type": "code",
   "execution_count": 5,
   "outputs": [
    {
     "data": {
      "text/plain": "  position_num  x_behind_line  y_starting  yardsToGo  yards_needed_touch  \\\n0          QB1          -1.76       26.67         15                90.0   \n1          QB1          -1.78       26.67         15                90.0   \n2          QB1          -1.79       26.67         15                90.0   \n3          QB1          -1.84       26.67         15                90.0   \n4          QB1          -2.08       26.67         15                90.0   \n\n   time_acc_s  yardline_first  x_behind_line_CB1  x_behind_line_CB2  \\\n0       1.101            75.0          -9.914576         -10.497966   \n1       1.200            75.0          -9.914576         -10.497966   \n2       1.301            75.0          -9.914576         -10.497966   \n3       1.401            75.0          -9.914576         -10.497966   \n4       1.601            75.0          -9.914576         -10.497966   \n\n   x_behind_line_CB3  ...  y_starting_OL4  y_starting_OL6  y_starting_OL7  \\\n0                NaN  ...             NaN             NaN             NaN   \n1                NaN  ...             NaN             NaN             NaN   \n2                NaN  ...             NaN             NaN             NaN   \n3                NaN  ...             NaN             NaN             NaN   \n4                NaN  ...             NaN             NaN             NaN   \n\n   y_starting_P0  y_starting_S0  y_starting_SS1  y_starting_SS2  \\\n0            NaN            NaN           36.47             NaN   \n1            NaN            NaN           36.47             NaN   \n2            NaN            NaN           36.47             NaN   \n3            NaN            NaN           36.47             NaN   \n4            NaN            NaN           36.47             NaN   \n\n   y_starting_SS3  y_starting_TE1  y_starting_TE2  \n0             NaN             NaN             NaN  \n1             NaN             NaN             NaN  \n2             NaN             NaN             NaN  \n3             NaN             NaN             NaN  \n4             NaN             NaN             NaN  \n\n[5 rows x 81 columns]",
      "text/html": "<div>\n<style scoped>\n    .dataframe tbody tr th:only-of-type {\n        vertical-align: middle;\n    }\n\n    .dataframe tbody tr th {\n        vertical-align: top;\n    }\n\n    .dataframe thead th {\n        text-align: right;\n    }\n</style>\n<table border=\"1\" class=\"dataframe\">\n  <thead>\n    <tr style=\"text-align: right;\">\n      <th></th>\n      <th>position_num</th>\n      <th>x_behind_line</th>\n      <th>y_starting</th>\n      <th>yardsToGo</th>\n      <th>yards_needed_touch</th>\n      <th>time_acc_s</th>\n      <th>yardline_first</th>\n      <th>x_behind_line_CB1</th>\n      <th>x_behind_line_CB2</th>\n      <th>x_behind_line_CB3</th>\n      <th>...</th>\n      <th>y_starting_OL4</th>\n      <th>y_starting_OL6</th>\n      <th>y_starting_OL7</th>\n      <th>y_starting_P0</th>\n      <th>y_starting_S0</th>\n      <th>y_starting_SS1</th>\n      <th>y_starting_SS2</th>\n      <th>y_starting_SS3</th>\n      <th>y_starting_TE1</th>\n      <th>y_starting_TE2</th>\n    </tr>\n  </thead>\n  <tbody>\n    <tr>\n      <th>0</th>\n      <td>QB1</td>\n      <td>-1.76</td>\n      <td>26.67</td>\n      <td>15</td>\n      <td>90.0</td>\n      <td>1.101</td>\n      <td>75.0</td>\n      <td>-9.914576</td>\n      <td>-10.497966</td>\n      <td>NaN</td>\n      <td>...</td>\n      <td>NaN</td>\n      <td>NaN</td>\n      <td>NaN</td>\n      <td>NaN</td>\n      <td>NaN</td>\n      <td>36.47</td>\n      <td>NaN</td>\n      <td>NaN</td>\n      <td>NaN</td>\n      <td>NaN</td>\n    </tr>\n    <tr>\n      <th>1</th>\n      <td>QB1</td>\n      <td>-1.78</td>\n      <td>26.67</td>\n      <td>15</td>\n      <td>90.0</td>\n      <td>1.200</td>\n      <td>75.0</td>\n      <td>-9.914576</td>\n      <td>-10.497966</td>\n      <td>NaN</td>\n      <td>...</td>\n      <td>NaN</td>\n      <td>NaN</td>\n      <td>NaN</td>\n      <td>NaN</td>\n      <td>NaN</td>\n      <td>36.47</td>\n      <td>NaN</td>\n      <td>NaN</td>\n      <td>NaN</td>\n      <td>NaN</td>\n    </tr>\n    <tr>\n      <th>2</th>\n      <td>QB1</td>\n      <td>-1.79</td>\n      <td>26.67</td>\n      <td>15</td>\n      <td>90.0</td>\n      <td>1.301</td>\n      <td>75.0</td>\n      <td>-9.914576</td>\n      <td>-10.497966</td>\n      <td>NaN</td>\n      <td>...</td>\n      <td>NaN</td>\n      <td>NaN</td>\n      <td>NaN</td>\n      <td>NaN</td>\n      <td>NaN</td>\n      <td>36.47</td>\n      <td>NaN</td>\n      <td>NaN</td>\n      <td>NaN</td>\n      <td>NaN</td>\n    </tr>\n    <tr>\n      <th>3</th>\n      <td>QB1</td>\n      <td>-1.84</td>\n      <td>26.67</td>\n      <td>15</td>\n      <td>90.0</td>\n      <td>1.401</td>\n      <td>75.0</td>\n      <td>-9.914576</td>\n      <td>-10.497966</td>\n      <td>NaN</td>\n      <td>...</td>\n      <td>NaN</td>\n      <td>NaN</td>\n      <td>NaN</td>\n      <td>NaN</td>\n      <td>NaN</td>\n      <td>36.47</td>\n      <td>NaN</td>\n      <td>NaN</td>\n      <td>NaN</td>\n      <td>NaN</td>\n    </tr>\n    <tr>\n      <th>4</th>\n      <td>QB1</td>\n      <td>-2.08</td>\n      <td>26.67</td>\n      <td>15</td>\n      <td>90.0</td>\n      <td>1.601</td>\n      <td>75.0</td>\n      <td>-9.914576</td>\n      <td>-10.497966</td>\n      <td>NaN</td>\n      <td>...</td>\n      <td>NaN</td>\n      <td>NaN</td>\n      <td>NaN</td>\n      <td>NaN</td>\n      <td>NaN</td>\n      <td>36.47</td>\n      <td>NaN</td>\n      <td>NaN</td>\n      <td>NaN</td>\n      <td>NaN</td>\n    </tr>\n  </tbody>\n</table>\n<p>5 rows × 81 columns</p>\n</div>"
     },
     "execution_count": 5,
     "metadata": {},
     "output_type": "execute_result"
    }
   ],
   "source": [
    "X_train.head()"
   ],
   "metadata": {
    "collapsed": false,
    "pycharm": {
     "name": "#%%\n"
    }
   }
  },
  {
   "cell_type": "code",
   "execution_count": 6,
   "outputs": [],
   "source": [
    "from sklearn.impute import SimpleImputer\n",
    "from sklearn.preprocessing import StandardScaler\n",
    "from sklearn.preprocessing import OneHotEncoder\n",
    "from sklearn.pipeline import Pipeline\n",
    "from sklearn.compose import ColumnTransformer\n",
    "\n",
    "impute = SimpleImputer(strategy=\"constant\", fill_value=0)\n",
    "scaler = StandardScaler()\n",
    "onehot = OneHotEncoder(handle_unknown='ignore')\n",
    "\n",
    "cat_cols = X_train.columns[X_train.dtypes == 'object']\n",
    "num_cols = X_train.columns[X_train.dtypes != 'object']\n",
    "\n",
    "cat_pipe = Pipeline([('one_hot', onehot)])\n",
    "num_pipe = Pipeline([('impute', impute), ('scaler', scaler)])\n",
    "\n",
    "full_pipe = ColumnTransformer([('cat', cat_pipe, cat_cols), ('num', num_pipe, num_cols)])"
   ],
   "metadata": {
    "collapsed": false,
    "pycharm": {
     "name": "#%%\n"
    }
   }
  },
  {
   "cell_type": "code",
   "execution_count": 7,
   "outputs": [],
   "source": [
    "X_train_tran = full_pipe.fit_transform(X_train)"
   ],
   "metadata": {
    "collapsed": false,
    "pycharm": {
     "name": "#%%\n"
    }
   }
  },
  {
   "cell_type": "code",
   "execution_count": 8,
   "outputs": [],
   "source": [
    "from sklearn.linear_model import LinearRegression\n",
    "from sklearn.tree import DecisionTreeRegressor\n",
    "\n",
    "lin_models = []\n",
    "X_trains_rand = []\n",
    "y_trains_rand = []\n",
    "for i in range(10):\n",
    "    np.random.seed(i)\n",
    "    X_y_sample = X_y_train.sample(n=X_y_train.shape[0], replace=True, random_state=i)\n",
    "    X_train_rand = X_y_sample.drop(['x', 'y'], axis=1)\n",
    "    y_train_rand = X_y_sample[['x', 'y']]\n",
    "    X_train_rand_tran = full_pipe.transform(X_train_rand)\n",
    "    lin_reg = LinearRegression()\n",
    "    lin_reg.fit(X_train_rand_tran, y_train_rand)\n",
    "    lin_models.append(lin_reg)\n",
    "    X_trains_rand.append(X_train_rand_tran)\n",
    "    y_trains_rand.append(y_train_rand)"
   ],
   "metadata": {
    "collapsed": false,
    "pycharm": {
     "name": "#%%\n"
    }
   }
  },
  {
   "cell_type": "code",
   "execution_count": 9,
   "outputs": [],
   "source": [
    "from sklearn.metrics import r2_score\n",
    "\n",
    "y_preds_val_lr = [model.predict(X_val) for model, X_val in zip(lin_models, X_trains_rand)]\n",
    "r2_scores_val_lr = [r2_score(y_val, y_pred) for y_val, y_pred in zip(y_trains_rand, y_preds_val_lr)]"
   ],
   "metadata": {
    "collapsed": false,
    "pycharm": {
     "name": "#%%\n"
    }
   }
  },
  {
   "cell_type": "code",
   "execution_count": 63,
   "outputs": [
    {
     "data": {
      "text/plain": "[0.6947503903661822,\n 0.6950914798328278,\n 0.6947896173399973,\n 0.6941156158703189,\n 0.6950793486843831,\n 0.6954151892298763,\n 0.6958402357186195,\n 0.6953750684352262,\n 0.694109171974455,\n 0.695374552940444]"
     },
     "execution_count": 63,
     "metadata": {},
     "output_type": "execute_result"
    }
   ],
   "source": [
    "r2_scores_val_lr"
   ],
   "metadata": {
    "collapsed": false,
    "pycharm": {
     "name": "#%%\n"
    }
   }
  },
  {
   "cell_type": "code",
   "execution_count": 10,
   "outputs": [
    {
     "name": "stderr",
     "output_type": "stream",
     "text": [
      "/Users/andrewbakert/Documents/nfl_big_data/NFL_Pass_Pred/ml_pipe/week_data_prep.py:18: SettingWithCopyWarning: \n",
      "A value is trying to be set on a copy of a slice from a DataFrame\n",
      "\n",
      "See the caveats in the documentation: https://pandas.pydata.org/pandas-docs/stable/user_guide/indexing.html#returning-a-view-versus-a-copy\n",
      "  week_play['time_diff'][week_play['time_diff'].isnull()] = pd.Timedelta(0)\n"
     ]
    }
   ],
   "source": [
    "week_data_test, X_y_val =  generate_input_data(5, 5)\n",
    "\n",
    "X_val = X_y_val.drop(['x', 'y'], axis=1)\n",
    "y_val = X_y_val[['x', 'y']]\n",
    "X_val_tran = full_pipe.transform(X_val)"
   ],
   "metadata": {
    "collapsed": false,
    "pycharm": {
     "name": "#%%\n"
    }
   }
  },
  {
   "cell_type": "code",
   "execution_count": 14,
   "outputs": [],
   "source": [
    "y_preds_val_lr = [model.predict(X_val_tran) for model in lin_models]\n",
    "r2_scores_val_lr = [r2_score(y_val, y_pred) for y_pred in y_preds_val_lr]"
   ],
   "metadata": {
    "collapsed": false,
    "pycharm": {
     "name": "#%%\n"
    }
   }
  },
  {
   "cell_type": "code",
   "execution_count": 15,
   "outputs": [
    {
     "data": {
      "text/plain": "[-1141738349891104.8,\n -7608874084431821.0,\n -1390592488319285.2,\n -251653779463123.38,\n -1765117357629610.5,\n -102610273535863.69,\n -193355068205900.3,\n -2163705410891966.8,\n -479070900502453.94,\n -9978494273867204.0]"
     },
     "execution_count": 15,
     "metadata": {},
     "output_type": "execute_result"
    }
   ],
   "source": [
    "r2_scores_val_lr"
   ],
   "metadata": {
    "collapsed": false,
    "pycharm": {
     "name": "#%%\n"
    }
   }
  },
  {
   "cell_type": "code",
   "execution_count": 16,
   "outputs": [
    {
     "data": {
      "text/plain": "       position_num  x_behind_line  y_starting  yardsToGo  yards_needed_touch  \\\n0               QB1          -5.18       30.11         10                33.0   \n1               QB1          -5.18       30.11         10                33.0   \n2               QB1          -5.18       30.11         10                33.0   \n3               QB1          -5.18       30.11         10                33.0   \n4               QB1          -5.17       30.11         10                33.0   \n...             ...            ...         ...        ...                 ...   \n422180          WR3          13.31       38.23         10                68.0   \n422181          WR3          13.31       38.23         10                68.0   \n422182          WR3          13.34       38.23         10                68.0   \n422183          WR3          13.38       38.23         10                68.0   \n422184          WR3          13.43       38.23         10                68.0   \n\n        time_acc_s  yardline_first  x_behind_line_CB1  x_behind_line_CB2  \\\n0            0.601            23.0         -11.442857         -10.073878   \n1            0.700            23.0         -11.442857         -10.073878   \n2            0.801            23.0         -11.442857         -10.073878   \n3            0.901            23.0         -11.442857         -10.073878   \n4            1.000            23.0         -11.442857         -10.073878   \n...            ...             ...                ...                ...   \n422180       6.700            58.0          -3.558056         -10.611250   \n422181       6.801            58.0          -3.558056         -10.611250   \n422182       6.901            58.0          -3.558056         -10.611250   \n422183       7.000            58.0          -3.558056         -10.611250   \n422184       7.101            58.0          -3.558056         -10.611250   \n\n        x_behind_line_CB3  ...  y_starting_OL4  y_starting_OL6  \\\n0                     NaN  ...             NaN             NaN   \n1                     NaN  ...             NaN             NaN   \n2                     NaN  ...             NaN             NaN   \n3                     NaN  ...             NaN             NaN   \n4                     NaN  ...             NaN             NaN   \n...                   ...  ...             ...             ...   \n422180           -7.13625  ...             NaN             NaN   \n422181           -7.13625  ...             NaN             NaN   \n422182           -7.13625  ...             NaN             NaN   \n422183           -7.13625  ...             NaN             NaN   \n422184           -7.13625  ...             NaN             NaN   \n\n        y_starting_OL7  y_starting_P0  y_starting_S0  y_starting_SS1  \\\n0                  NaN            NaN            NaN           30.16   \n1                  NaN            NaN            NaN           30.16   \n2                  NaN            NaN            NaN           30.16   \n3                  NaN            NaN            NaN           30.16   \n4                  NaN            NaN            NaN           30.16   \n...                ...            ...            ...             ...   \n422180             NaN            NaN            NaN           25.18   \n422181             NaN            NaN            NaN           25.18   \n422182             NaN            NaN            NaN           25.18   \n422183             NaN            NaN            NaN           25.18   \n422184             NaN            NaN            NaN           25.18   \n\n        y_starting_SS2  y_starting_SS3  y_starting_TE1  y_starting_TE2  \n0                  NaN             NaN             NaN             NaN  \n1                  NaN             NaN             NaN             NaN  \n2                  NaN             NaN             NaN             NaN  \n3                  NaN             NaN             NaN             NaN  \n4                  NaN             NaN             NaN             NaN  \n...                ...             ...             ...             ...  \n422180             NaN             NaN             NaN             NaN  \n422181             NaN             NaN             NaN             NaN  \n422182             NaN             NaN             NaN             NaN  \n422183             NaN             NaN             NaN             NaN  \n422184             NaN             NaN             NaN             NaN  \n\n[422185 rows x 81 columns]",
      "text/html": "<div>\n<style scoped>\n    .dataframe tbody tr th:only-of-type {\n        vertical-align: middle;\n    }\n\n    .dataframe tbody tr th {\n        vertical-align: top;\n    }\n\n    .dataframe thead th {\n        text-align: right;\n    }\n</style>\n<table border=\"1\" class=\"dataframe\">\n  <thead>\n    <tr style=\"text-align: right;\">\n      <th></th>\n      <th>position_num</th>\n      <th>x_behind_line</th>\n      <th>y_starting</th>\n      <th>yardsToGo</th>\n      <th>yards_needed_touch</th>\n      <th>time_acc_s</th>\n      <th>yardline_first</th>\n      <th>x_behind_line_CB1</th>\n      <th>x_behind_line_CB2</th>\n      <th>x_behind_line_CB3</th>\n      <th>...</th>\n      <th>y_starting_OL4</th>\n      <th>y_starting_OL6</th>\n      <th>y_starting_OL7</th>\n      <th>y_starting_P0</th>\n      <th>y_starting_S0</th>\n      <th>y_starting_SS1</th>\n      <th>y_starting_SS2</th>\n      <th>y_starting_SS3</th>\n      <th>y_starting_TE1</th>\n      <th>y_starting_TE2</th>\n    </tr>\n  </thead>\n  <tbody>\n    <tr>\n      <th>0</th>\n      <td>QB1</td>\n      <td>-5.18</td>\n      <td>30.11</td>\n      <td>10</td>\n      <td>33.0</td>\n      <td>0.601</td>\n      <td>23.0</td>\n      <td>-11.442857</td>\n      <td>-10.073878</td>\n      <td>NaN</td>\n      <td>...</td>\n      <td>NaN</td>\n      <td>NaN</td>\n      <td>NaN</td>\n      <td>NaN</td>\n      <td>NaN</td>\n      <td>30.16</td>\n      <td>NaN</td>\n      <td>NaN</td>\n      <td>NaN</td>\n      <td>NaN</td>\n    </tr>\n    <tr>\n      <th>1</th>\n      <td>QB1</td>\n      <td>-5.18</td>\n      <td>30.11</td>\n      <td>10</td>\n      <td>33.0</td>\n      <td>0.700</td>\n      <td>23.0</td>\n      <td>-11.442857</td>\n      <td>-10.073878</td>\n      <td>NaN</td>\n      <td>...</td>\n      <td>NaN</td>\n      <td>NaN</td>\n      <td>NaN</td>\n      <td>NaN</td>\n      <td>NaN</td>\n      <td>30.16</td>\n      <td>NaN</td>\n      <td>NaN</td>\n      <td>NaN</td>\n      <td>NaN</td>\n    </tr>\n    <tr>\n      <th>2</th>\n      <td>QB1</td>\n      <td>-5.18</td>\n      <td>30.11</td>\n      <td>10</td>\n      <td>33.0</td>\n      <td>0.801</td>\n      <td>23.0</td>\n      <td>-11.442857</td>\n      <td>-10.073878</td>\n      <td>NaN</td>\n      <td>...</td>\n      <td>NaN</td>\n      <td>NaN</td>\n      <td>NaN</td>\n      <td>NaN</td>\n      <td>NaN</td>\n      <td>30.16</td>\n      <td>NaN</td>\n      <td>NaN</td>\n      <td>NaN</td>\n      <td>NaN</td>\n    </tr>\n    <tr>\n      <th>3</th>\n      <td>QB1</td>\n      <td>-5.18</td>\n      <td>30.11</td>\n      <td>10</td>\n      <td>33.0</td>\n      <td>0.901</td>\n      <td>23.0</td>\n      <td>-11.442857</td>\n      <td>-10.073878</td>\n      <td>NaN</td>\n      <td>...</td>\n      <td>NaN</td>\n      <td>NaN</td>\n      <td>NaN</td>\n      <td>NaN</td>\n      <td>NaN</td>\n      <td>30.16</td>\n      <td>NaN</td>\n      <td>NaN</td>\n      <td>NaN</td>\n      <td>NaN</td>\n    </tr>\n    <tr>\n      <th>4</th>\n      <td>QB1</td>\n      <td>-5.17</td>\n      <td>30.11</td>\n      <td>10</td>\n      <td>33.0</td>\n      <td>1.000</td>\n      <td>23.0</td>\n      <td>-11.442857</td>\n      <td>-10.073878</td>\n      <td>NaN</td>\n      <td>...</td>\n      <td>NaN</td>\n      <td>NaN</td>\n      <td>NaN</td>\n      <td>NaN</td>\n      <td>NaN</td>\n      <td>30.16</td>\n      <td>NaN</td>\n      <td>NaN</td>\n      <td>NaN</td>\n      <td>NaN</td>\n    </tr>\n    <tr>\n      <th>...</th>\n      <td>...</td>\n      <td>...</td>\n      <td>...</td>\n      <td>...</td>\n      <td>...</td>\n      <td>...</td>\n      <td>...</td>\n      <td>...</td>\n      <td>...</td>\n      <td>...</td>\n      <td>...</td>\n      <td>...</td>\n      <td>...</td>\n      <td>...</td>\n      <td>...</td>\n      <td>...</td>\n      <td>...</td>\n      <td>...</td>\n      <td>...</td>\n      <td>...</td>\n      <td>...</td>\n    </tr>\n    <tr>\n      <th>422180</th>\n      <td>WR3</td>\n      <td>13.31</td>\n      <td>38.23</td>\n      <td>10</td>\n      <td>68.0</td>\n      <td>6.700</td>\n      <td>58.0</td>\n      <td>-3.558056</td>\n      <td>-10.611250</td>\n      <td>-7.13625</td>\n      <td>...</td>\n      <td>NaN</td>\n      <td>NaN</td>\n      <td>NaN</td>\n      <td>NaN</td>\n      <td>NaN</td>\n      <td>25.18</td>\n      <td>NaN</td>\n      <td>NaN</td>\n      <td>NaN</td>\n      <td>NaN</td>\n    </tr>\n    <tr>\n      <th>422181</th>\n      <td>WR3</td>\n      <td>13.31</td>\n      <td>38.23</td>\n      <td>10</td>\n      <td>68.0</td>\n      <td>6.801</td>\n      <td>58.0</td>\n      <td>-3.558056</td>\n      <td>-10.611250</td>\n      <td>-7.13625</td>\n      <td>...</td>\n      <td>NaN</td>\n      <td>NaN</td>\n      <td>NaN</td>\n      <td>NaN</td>\n      <td>NaN</td>\n      <td>25.18</td>\n      <td>NaN</td>\n      <td>NaN</td>\n      <td>NaN</td>\n      <td>NaN</td>\n    </tr>\n    <tr>\n      <th>422182</th>\n      <td>WR3</td>\n      <td>13.34</td>\n      <td>38.23</td>\n      <td>10</td>\n      <td>68.0</td>\n      <td>6.901</td>\n      <td>58.0</td>\n      <td>-3.558056</td>\n      <td>-10.611250</td>\n      <td>-7.13625</td>\n      <td>...</td>\n      <td>NaN</td>\n      <td>NaN</td>\n      <td>NaN</td>\n      <td>NaN</td>\n      <td>NaN</td>\n      <td>25.18</td>\n      <td>NaN</td>\n      <td>NaN</td>\n      <td>NaN</td>\n      <td>NaN</td>\n    </tr>\n    <tr>\n      <th>422183</th>\n      <td>WR3</td>\n      <td>13.38</td>\n      <td>38.23</td>\n      <td>10</td>\n      <td>68.0</td>\n      <td>7.000</td>\n      <td>58.0</td>\n      <td>-3.558056</td>\n      <td>-10.611250</td>\n      <td>-7.13625</td>\n      <td>...</td>\n      <td>NaN</td>\n      <td>NaN</td>\n      <td>NaN</td>\n      <td>NaN</td>\n      <td>NaN</td>\n      <td>25.18</td>\n      <td>NaN</td>\n      <td>NaN</td>\n      <td>NaN</td>\n      <td>NaN</td>\n    </tr>\n    <tr>\n      <th>422184</th>\n      <td>WR3</td>\n      <td>13.43</td>\n      <td>38.23</td>\n      <td>10</td>\n      <td>68.0</td>\n      <td>7.101</td>\n      <td>58.0</td>\n      <td>-3.558056</td>\n      <td>-10.611250</td>\n      <td>-7.13625</td>\n      <td>...</td>\n      <td>NaN</td>\n      <td>NaN</td>\n      <td>NaN</td>\n      <td>NaN</td>\n      <td>NaN</td>\n      <td>25.18</td>\n      <td>NaN</td>\n      <td>NaN</td>\n      <td>NaN</td>\n      <td>NaN</td>\n    </tr>\n  </tbody>\n</table>\n<p>422185 rows × 81 columns</p>\n</div>"
     },
     "execution_count": 16,
     "metadata": {},
     "output_type": "execute_result"
    }
   ],
   "source": [
    "X_val"
   ],
   "metadata": {
    "collapsed": false,
    "pycharm": {
     "name": "#%%\n"
    }
   }
  },
  {
   "cell_type": "code",
   "execution_count": 20,
   "outputs": [
    {
     "name": "stderr",
     "output_type": "stream",
     "text": [
      "/var/folders/6v/8jcf0jcn7_vfm2q2r4tz44gh0000gn/T/ipykernel_10295/1929412806.py:1: FutureWarning: Dropping of nuisance columns in DataFrame reductions (with 'numeric_only=None') is deprecated; in a future version this will raise TypeError.  Select only valid columns before calling the reduction.\n",
      "  week_data.max()\n"
     ]
    },
    {
     "data": {
      "text/plain": "time              2018-10-02 03:17:07.200000+00:00\nx                                            123.1\ny                                            59.16\ns                                            11.58\na                                            22.49\n                                ...               \ny_starting_SS1                               46.42\ny_starting_SS2                               45.88\ny_starting_SS3                               33.08\ny_starting_TE1                               31.77\ny_starting_TE2                               32.33\nLength: 119, dtype: object"
     },
     "execution_count": 20,
     "metadata": {},
     "output_type": "execute_result"
    }
   ],
   "source": [
    "week_data.max()"
   ],
   "metadata": {
    "collapsed": false,
    "pycharm": {
     "name": "#%%\n"
    }
   }
  },
  {
   "cell_type": "code",
   "execution_count": 19,
   "outputs": [
    {
     "data": {
      "text/plain": "position_num            WR4\nx_behind_line         77.18\ny_starting             49.0\nyardsToGo                28\nyards_needed_touch    109.0\n                      ...  \ny_starting_SS1        45.65\ny_starting_SS2        43.66\ny_starting_SS3         35.4\ny_starting_TE1          NaN\ny_starting_TE2          NaN\nLength: 81, dtype: object"
     },
     "execution_count": 19,
     "metadata": {},
     "output_type": "execute_result"
    }
   ],
   "source": [
    "X_val.max()"
   ],
   "metadata": {
    "collapsed": false,
    "pycharm": {
     "name": "#%%\n"
    }
   }
  },
  {
   "cell_type": "code",
   "execution_count": null,
   "outputs": [],
   "source": [
    "X_week_test = X_y_test.drop(['x', 'y'], axis=1)\n",
    "y_week_test = X_y_test[['x', 'y']]"
   ],
   "metadata": {
    "collapsed": false,
    "pycharm": {
     "name": "#%%\n"
    }
   }
  },
  {
   "cell_type": "code",
   "execution_count": null,
   "outputs": [],
   "source": [
    "X_week_trans = full_pipe.transform(X_week_test)"
   ],
   "metadata": {
    "collapsed": false,
    "pycharm": {
     "name": "#%%\n"
    }
   }
  },
  {
   "cell_type": "code",
   "execution_count": null,
   "outputs": [],
   "source": [
    "y_preds_week_lr = [model.predict(X_week_trans) for model in lin_models]\n",
    "r2_scores_week_lr = [r2_score(y_week_test, y_pred) for y_pred in y_preds_week_lr]"
   ],
   "metadata": {
    "collapsed": false,
    "pycharm": {
     "name": "#%%\n"
    }
   }
  },
  {
   "cell_type": "code",
   "execution_count": null,
   "outputs": [],
   "source": [
    "r2_scores_week_lr"
   ],
   "metadata": {
    "collapsed": false,
    "pycharm": {
     "name": "#%%\n"
    }
   }
  },
  {
   "cell_type": "code",
   "execution_count": 43,
   "outputs": [
    {
     "data": {
      "text/plain": "[array([[58.67852783, 29.87067413],\n        [58.6517334 , 29.8727417 ],\n        [58.62518311, 29.87478638],\n        ...,\n        [34.4463501 , 16.5672226 ],\n        [34.41955566, 16.56929016],\n        [34.39324951, 16.57131195]]),\n array([[58.74023438, 29.9025507 ],\n        [58.71311951, 29.90492344],\n        [58.68626404, 29.90727329],\n        ...,\n        [34.56132507, 16.65575027],\n        [34.53421021, 16.65812302],\n        [34.50761414, 16.66044903]]),\n array([[58.69393921, 29.86637878],\n        [58.66629028, 29.86801147],\n        [58.6388855 , 29.86962891],\n        ...,\n        [34.47683716, 16.44880676],\n        [34.44918823, 16.45043945],\n        [34.42208862, 16.45204163]]),\n array([[58.68959045, 29.88851833],\n        [58.66366577, 29.89151096],\n        [58.63800049, 29.89447403],\n        ...,\n        [34.52093506, 16.61105633],\n        [34.49501038, 16.61404896],\n        [34.46960449, 16.61698246]]),\n array([[58.67773056, 29.87123871],\n        [58.6517601 , 29.87361717],\n        [58.62604904, 29.87597275],\n        ...,\n        [34.69129181, 16.50283432],\n        [34.66532135, 16.50521278],\n        [34.63986206, 16.50754356]]),\n array([[58.76491547, 29.8874321 ],\n        [58.73682785, 29.88980484],\n        [58.70901871, 29.89215469],\n        ...,\n        [34.56972504, 16.55814743],\n        [34.54163742, 16.56052017],\n        [34.51410294, 16.56284332]]),\n array([[58.69486237, 29.86734009],\n        [58.66728973, 29.86956787],\n        [58.63999176, 29.8717804 ],\n        ...,\n        [34.41908264, 16.61968994],\n        [34.39151001, 16.62193298],\n        [34.36448669, 16.62411499]]),\n array([[58.6916275 , 29.89276123],\n        [58.66550064, 29.8952179 ],\n        [58.63963318, 29.8976593 ],\n        ...,\n        [34.56268883, 16.64762878],\n        [34.53656197, 16.65010071],\n        [34.5109539 , 16.6525116 ]]),\n array([[58.54418945, 29.91213989],\n        [58.51855469, 29.91433716],\n        [58.49304199, 29.91653442],\n        ...,\n        [34.5916748 , 16.66293335],\n        [34.56591797, 16.66516113],\n        [34.54077148, 16.66732788]]),\n array([[58.72623444, 29.92790985],\n        [58.69914246, 29.92998886],\n        [58.6723175 , 29.9320488 ],\n        ...,\n        [34.53055954, 16.58335114],\n        [34.50346375, 16.58543015],\n        [34.47690582, 16.58746719]])]"
     },
     "execution_count": 43,
     "metadata": {},
     "output_type": "execute_result"
    }
   ],
   "source": [
    "y_preds_week_lr"
   ],
   "metadata": {
    "collapsed": false,
    "pycharm": {
     "name": "#%%\n"
    }
   }
  },
  {
   "cell_type": "code",
   "execution_count": 44,
   "outputs": [
    {
     "data": {
      "text/plain": "            x      y\n0       58.55  29.75\n1       58.55  29.75\n2       58.55  29.74\n3       58.57  29.74\n4       58.58  29.74\n...       ...    ...\n430455  35.91   5.03\n430456  36.11   5.34\n430457  36.31   5.68\n430458  36.53   6.02\n430459  36.75   6.38\n\n[430460 rows x 2 columns]",
      "text/html": "<div>\n<style scoped>\n    .dataframe tbody tr th:only-of-type {\n        vertical-align: middle;\n    }\n\n    .dataframe tbody tr th {\n        vertical-align: top;\n    }\n\n    .dataframe thead th {\n        text-align: right;\n    }\n</style>\n<table border=\"1\" class=\"dataframe\">\n  <thead>\n    <tr style=\"text-align: right;\">\n      <th></th>\n      <th>x</th>\n      <th>y</th>\n    </tr>\n  </thead>\n  <tbody>\n    <tr>\n      <th>0</th>\n      <td>58.55</td>\n      <td>29.75</td>\n    </tr>\n    <tr>\n      <th>1</th>\n      <td>58.55</td>\n      <td>29.75</td>\n    </tr>\n    <tr>\n      <th>2</th>\n      <td>58.55</td>\n      <td>29.74</td>\n    </tr>\n    <tr>\n      <th>3</th>\n      <td>58.57</td>\n      <td>29.74</td>\n    </tr>\n    <tr>\n      <th>4</th>\n      <td>58.58</td>\n      <td>29.74</td>\n    </tr>\n    <tr>\n      <th>...</th>\n      <td>...</td>\n      <td>...</td>\n    </tr>\n    <tr>\n      <th>430455</th>\n      <td>35.91</td>\n      <td>5.03</td>\n    </tr>\n    <tr>\n      <th>430456</th>\n      <td>36.11</td>\n      <td>5.34</td>\n    </tr>\n    <tr>\n      <th>430457</th>\n      <td>36.31</td>\n      <td>5.68</td>\n    </tr>\n    <tr>\n      <th>430458</th>\n      <td>36.53</td>\n      <td>6.02</td>\n    </tr>\n    <tr>\n      <th>430459</th>\n      <td>36.75</td>\n      <td>6.38</td>\n    </tr>\n  </tbody>\n</table>\n<p>430460 rows × 2 columns</p>\n</div>"
     },
     "execution_count": 44,
     "metadata": {},
     "output_type": "execute_result"
    }
   ],
   "source": [
    "y_week_test"
   ],
   "metadata": {
    "collapsed": false,
    "pycharm": {
     "name": "#%%\n"
    }
   }
  },
  {
   "cell_type": "code",
   "execution_count": 21,
   "outputs": [],
   "source": [
    "week = pd.read_csv('nfl-big-data-bowl-2021/week1.csv')"
   ],
   "metadata": {
    "collapsed": false,
    "pycharm": {
     "name": "#%%\n"
    }
   }
  },
  {
   "cell_type": "code",
   "execution_count": 22,
   "outputs": [
    {
     "data": {
      "text/plain": "                   x              y              s              a  \\\ncount  986022.000000  986022.000000  986022.000000  986022.000000   \nmean       58.975056      26.795439       3.187303       2.012526   \nstd        24.935961      11.204589       2.843484       1.689410   \nmin        -5.980000     -11.740000       0.000000       0.000000   \n25%        39.980000      19.000000       0.850000       0.740000   \n50%        59.100000      26.830000       2.790000       1.750000   \n75%        78.190000      34.710000       4.960000       2.940000   \nmax       128.380000      62.750000      27.370000      58.330000   \n\n                 dis              o            dir         nflId  \\\ncount  986022.000000  919109.000000  919109.000000  9.191090e+05   \nmean        0.323366     179.545196     181.238304  2.366598e+06   \nstd         0.307017     100.706586     102.965112  6.193264e+05   \nmin         0.000000       0.000000       0.000000  3.060000e+02   \n25%         0.090000      89.880000      91.520000  2.533040e+06   \n50%         0.280000     177.430000     181.410000  2.552255e+06   \n75%         0.500000     269.840000     271.350000  2.556480e+06   \nmax         7.120000     360.000000     360.000000  2.561485e+06   \n\n        jerseyNumber        frameId        gameId         playId  \ncount  919109.000000  986022.000000  9.860220e+05  986022.000000  \nmean       37.763714      35.450674  2.018091e+09    2268.306314  \nstd        24.977470      23.654286  9.381592e+01    1280.426499  \nmin         1.000000       1.000000  2.018091e+09      58.000000  \n25%        20.000000      17.000000  2.018091e+09    1199.000000  \n50%        29.000000      33.000000  2.018091e+09    2297.000000  \n75%        53.000000      50.000000  2.018091e+09    3315.000000  \nmax        99.000000     172.000000  2.018091e+09    5511.000000  ",
      "text/html": "<div>\n<style scoped>\n    .dataframe tbody tr th:only-of-type {\n        vertical-align: middle;\n    }\n\n    .dataframe tbody tr th {\n        vertical-align: top;\n    }\n\n    .dataframe thead th {\n        text-align: right;\n    }\n</style>\n<table border=\"1\" class=\"dataframe\">\n  <thead>\n    <tr style=\"text-align: right;\">\n      <th></th>\n      <th>x</th>\n      <th>y</th>\n      <th>s</th>\n      <th>a</th>\n      <th>dis</th>\n      <th>o</th>\n      <th>dir</th>\n      <th>nflId</th>\n      <th>jerseyNumber</th>\n      <th>frameId</th>\n      <th>gameId</th>\n      <th>playId</th>\n    </tr>\n  </thead>\n  <tbody>\n    <tr>\n      <th>count</th>\n      <td>986022.000000</td>\n      <td>986022.000000</td>\n      <td>986022.000000</td>\n      <td>986022.000000</td>\n      <td>986022.000000</td>\n      <td>919109.000000</td>\n      <td>919109.000000</td>\n      <td>9.191090e+05</td>\n      <td>919109.000000</td>\n      <td>986022.000000</td>\n      <td>9.860220e+05</td>\n      <td>986022.000000</td>\n    </tr>\n    <tr>\n      <th>mean</th>\n      <td>58.975056</td>\n      <td>26.795439</td>\n      <td>3.187303</td>\n      <td>2.012526</td>\n      <td>0.323366</td>\n      <td>179.545196</td>\n      <td>181.238304</td>\n      <td>2.366598e+06</td>\n      <td>37.763714</td>\n      <td>35.450674</td>\n      <td>2.018091e+09</td>\n      <td>2268.306314</td>\n    </tr>\n    <tr>\n      <th>std</th>\n      <td>24.935961</td>\n      <td>11.204589</td>\n      <td>2.843484</td>\n      <td>1.689410</td>\n      <td>0.307017</td>\n      <td>100.706586</td>\n      <td>102.965112</td>\n      <td>6.193264e+05</td>\n      <td>24.977470</td>\n      <td>23.654286</td>\n      <td>9.381592e+01</td>\n      <td>1280.426499</td>\n    </tr>\n    <tr>\n      <th>min</th>\n      <td>-5.980000</td>\n      <td>-11.740000</td>\n      <td>0.000000</td>\n      <td>0.000000</td>\n      <td>0.000000</td>\n      <td>0.000000</td>\n      <td>0.000000</td>\n      <td>3.060000e+02</td>\n      <td>1.000000</td>\n      <td>1.000000</td>\n      <td>2.018091e+09</td>\n      <td>58.000000</td>\n    </tr>\n    <tr>\n      <th>25%</th>\n      <td>39.980000</td>\n      <td>19.000000</td>\n      <td>0.850000</td>\n      <td>0.740000</td>\n      <td>0.090000</td>\n      <td>89.880000</td>\n      <td>91.520000</td>\n      <td>2.533040e+06</td>\n      <td>20.000000</td>\n      <td>17.000000</td>\n      <td>2.018091e+09</td>\n      <td>1199.000000</td>\n    </tr>\n    <tr>\n      <th>50%</th>\n      <td>59.100000</td>\n      <td>26.830000</td>\n      <td>2.790000</td>\n      <td>1.750000</td>\n      <td>0.280000</td>\n      <td>177.430000</td>\n      <td>181.410000</td>\n      <td>2.552255e+06</td>\n      <td>29.000000</td>\n      <td>33.000000</td>\n      <td>2.018091e+09</td>\n      <td>2297.000000</td>\n    </tr>\n    <tr>\n      <th>75%</th>\n      <td>78.190000</td>\n      <td>34.710000</td>\n      <td>4.960000</td>\n      <td>2.940000</td>\n      <td>0.500000</td>\n      <td>269.840000</td>\n      <td>271.350000</td>\n      <td>2.556480e+06</td>\n      <td>53.000000</td>\n      <td>50.000000</td>\n      <td>2.018091e+09</td>\n      <td>3315.000000</td>\n    </tr>\n    <tr>\n      <th>max</th>\n      <td>128.380000</td>\n      <td>62.750000</td>\n      <td>27.370000</td>\n      <td>58.330000</td>\n      <td>7.120000</td>\n      <td>360.000000</td>\n      <td>360.000000</td>\n      <td>2.561485e+06</td>\n      <td>99.000000</td>\n      <td>172.000000</td>\n      <td>2.018091e+09</td>\n      <td>5511.000000</td>\n    </tr>\n  </tbody>\n</table>\n</div>"
     },
     "execution_count": 22,
     "metadata": {},
     "output_type": "execute_result"
    }
   ],
   "source": [
    "week.describe()"
   ],
   "metadata": {
    "collapsed": false,
    "pycharm": {
     "name": "#%%\n"
    }
   }
  },
  {
   "cell_type": "code",
   "execution_count": null,
   "outputs": [],
   "source": [],
   "metadata": {
    "collapsed": false,
    "pycharm": {
     "name": "#%%\n"
    }
   }
  }
 ],
 "metadata": {
  "kernelspec": {
   "display_name": "Python 3",
   "language": "python",
   "name": "python3"
  },
  "language_info": {
   "codemirror_mode": {
    "name": "ipython",
    "version": 2
   },
   "file_extension": ".py",
   "mimetype": "text/x-python",
   "name": "python",
   "nbconvert_exporter": "python",
   "pygments_lexer": "ipython2",
   "version": "2.7.6"
  }
 },
 "nbformat": 4,
 "nbformat_minor": 0
}