{
 "cells": [
  {
   "cell_type": "code",
   "execution_count": 1,
   "outputs": [
    {
     "name": "stdout",
     "output_type": "stream",
     "text": [
      "Requirement already satisfied: kaggle in /opt/anaconda3/lib/python3.8/site-packages (1.5.12)\r\n",
      "Requirement already satisfied: tqdm in /opt/anaconda3/lib/python3.8/site-packages (from kaggle) (4.62.3)\r\n",
      "Requirement already satisfied: requests in /opt/anaconda3/lib/python3.8/site-packages (from kaggle) (2.27.1)\r\n",
      "Requirement already satisfied: python-slugify in /opt/anaconda3/lib/python3.8/site-packages (from kaggle) (5.0.2)\r\n",
      "Requirement already satisfied: six>=1.10 in /opt/anaconda3/lib/python3.8/site-packages (from kaggle) (1.16.0)\r\n",
      "Requirement already satisfied: python-dateutil in /opt/anaconda3/lib/python3.8/site-packages (from kaggle) (2.8.2)\r\n",
      "Requirement already satisfied: urllib3 in /opt/anaconda3/lib/python3.8/site-packages (from kaggle) (1.26.8)\r\n",
      "Requirement already satisfied: certifi in /opt/anaconda3/lib/python3.8/site-packages (from kaggle) (2021.10.8)\r\n",
      "Requirement already satisfied: text-unidecode>=1.3 in /opt/anaconda3/lib/python3.8/site-packages (from python-slugify->kaggle) (1.3)\r\n",
      "Requirement already satisfied: charset-normalizer~=2.0.0 in /opt/anaconda3/lib/python3.8/site-packages (from requests->kaggle) (2.0.4)\r\n",
      "Requirement already satisfied: idna<4,>=2.5 in /opt/anaconda3/lib/python3.8/site-packages (from requests->kaggle) (3.3)\r\n",
      "\u001B[33mWARNING: Error parsing requirements for altair-saver: [Errno 2] No such file or directory: '/opt/anaconda3/lib/python3.8/site-packages/altair_saver-0.5.0.dist-info/METADATA'\u001B[0m\r\n",
      "401 - Unauthorized\r\n"
     ]
    }
   ],
   "source": [
    "# instructions on getting data through Kaggle API. API key is read from user/'your name'/.kaggle directory on a mac.\n",
    "## https://www.kaggle.com/general/74235\n",
    "import os\n",
    "import matplotlib.pyplot as plt\n",
    "import seaborn as sns\n",
    "import zipfile\n",
    "import pandas as pd\n",
    "import numpy as np\n",
    "\n",
    "!pip install kaggle\n",
    "!kaggle competitions download -c 'nfl-big-data-bowl-2021'\n",
    "\n",
    "\n",
    "cwd = str(os.getcwd())\n",
    "with zipfile.ZipFile(cwd + '/nfl-big-data-bowl-2021.zip', 'r') as zip_ref:\n",
    "    zip_ref.extractall(cwd + '/Kaggle-Data-Files')"
   ],
   "metadata": {
    "collapsed": false,
    "pycharm": {
     "name": "#%%\n"
    }
   }
  },
  {
   "cell_type": "code",
   "execution_count": 2,
   "outputs": [],
   "source": [
    "# Load data with week 1 and week2 bounding date range.\n",
    "week1 = 1\n",
    "week2 = 1\n",
    "if not os.path.exists('assets'):\n",
    "    os.mkdir('assets')\n",
    "week_fp = f\"assets/week{week1}_{week2}.csv\"\n",
    "if not os.path.exists(week_fp):\n",
    "    week_data = pd.DataFrame()\n",
    "    for week in range(week1, week2 + 1):\n",
    "        week = pd.read_csv(f'Kaggle-Data-Files/week{week}.csv')\n",
    "        week_data = pd.concat([week_data, week], axis=0)\n",
    "    week_data.to_csv(week_fp, index=False)\n",
    "else:\n",
    "    week_data = pd.read_csv(week_fp)"
   ],
   "metadata": {
    "collapsed": false,
    "pycharm": {
     "name": "#%%\n"
    }
   }
  },
  {
   "cell_type": "code",
   "execution_count": 3,
   "outputs": [
    {
     "data": {
      "text/plain": "                       time      x      y     s     a   dis       o     dir  \\\n0  2018-09-07T01:07:14.599Z  91.73  26.67  0.00  0.01  0.02  289.57  240.93   \n1  2018-09-07T01:07:14.599Z  88.89  36.47  0.01  0.01  0.01  105.63   66.66   \n2  2018-09-07T01:07:14.599Z  91.35  44.16  0.02  0.03  0.01  290.45   16.86   \n3  2018-09-07T01:07:14.599Z  86.31  22.01  0.09  0.42  0.01   70.12  168.91   \n4  2018-09-07T01:07:14.599Z  90.78  36.15  0.00  0.00  0.00  257.61  193.97   \n\n  event      nflId      displayName  jerseyNumber position  frameId  team  \\\n0  None      310.0        Matt Ryan           2.0       QB        1  away   \n1  None    79848.0  Malcolm Jenkins          27.0       SS        1  home   \n2  None  2495454.0      Julio Jones          11.0       WR        1  away   \n3  None  2495613.0     Corey Graham          24.0       FS        1  home   \n4  None  2533040.0     Mohamed Sanu          12.0       WR        1  away   \n\n       gameId  playId playDirection  route  \n0  2018090600      75          left    NaN  \n1  2018090600      75          left    NaN  \n2  2018090600      75          left  HITCH  \n3  2018090600      75          left    NaN  \n4  2018090600      75          left  HITCH  ",
      "text/html": "<div>\n<style scoped>\n    .dataframe tbody tr th:only-of-type {\n        vertical-align: middle;\n    }\n\n    .dataframe tbody tr th {\n        vertical-align: top;\n    }\n\n    .dataframe thead th {\n        text-align: right;\n    }\n</style>\n<table border=\"1\" class=\"dataframe\">\n  <thead>\n    <tr style=\"text-align: right;\">\n      <th></th>\n      <th>time</th>\n      <th>x</th>\n      <th>y</th>\n      <th>s</th>\n      <th>a</th>\n      <th>dis</th>\n      <th>o</th>\n      <th>dir</th>\n      <th>event</th>\n      <th>nflId</th>\n      <th>displayName</th>\n      <th>jerseyNumber</th>\n      <th>position</th>\n      <th>frameId</th>\n      <th>team</th>\n      <th>gameId</th>\n      <th>playId</th>\n      <th>playDirection</th>\n      <th>route</th>\n    </tr>\n  </thead>\n  <tbody>\n    <tr>\n      <th>0</th>\n      <td>2018-09-07T01:07:14.599Z</td>\n      <td>91.73</td>\n      <td>26.67</td>\n      <td>0.00</td>\n      <td>0.01</td>\n      <td>0.02</td>\n      <td>289.57</td>\n      <td>240.93</td>\n      <td>None</td>\n      <td>310.0</td>\n      <td>Matt Ryan</td>\n      <td>2.0</td>\n      <td>QB</td>\n      <td>1</td>\n      <td>away</td>\n      <td>2018090600</td>\n      <td>75</td>\n      <td>left</td>\n      <td>NaN</td>\n    </tr>\n    <tr>\n      <th>1</th>\n      <td>2018-09-07T01:07:14.599Z</td>\n      <td>88.89</td>\n      <td>36.47</td>\n      <td>0.01</td>\n      <td>0.01</td>\n      <td>0.01</td>\n      <td>105.63</td>\n      <td>66.66</td>\n      <td>None</td>\n      <td>79848.0</td>\n      <td>Malcolm Jenkins</td>\n      <td>27.0</td>\n      <td>SS</td>\n      <td>1</td>\n      <td>home</td>\n      <td>2018090600</td>\n      <td>75</td>\n      <td>left</td>\n      <td>NaN</td>\n    </tr>\n    <tr>\n      <th>2</th>\n      <td>2018-09-07T01:07:14.599Z</td>\n      <td>91.35</td>\n      <td>44.16</td>\n      <td>0.02</td>\n      <td>0.03</td>\n      <td>0.01</td>\n      <td>290.45</td>\n      <td>16.86</td>\n      <td>None</td>\n      <td>2495454.0</td>\n      <td>Julio Jones</td>\n      <td>11.0</td>\n      <td>WR</td>\n      <td>1</td>\n      <td>away</td>\n      <td>2018090600</td>\n      <td>75</td>\n      <td>left</td>\n      <td>HITCH</td>\n    </tr>\n    <tr>\n      <th>3</th>\n      <td>2018-09-07T01:07:14.599Z</td>\n      <td>86.31</td>\n      <td>22.01</td>\n      <td>0.09</td>\n      <td>0.42</td>\n      <td>0.01</td>\n      <td>70.12</td>\n      <td>168.91</td>\n      <td>None</td>\n      <td>2495613.0</td>\n      <td>Corey Graham</td>\n      <td>24.0</td>\n      <td>FS</td>\n      <td>1</td>\n      <td>home</td>\n      <td>2018090600</td>\n      <td>75</td>\n      <td>left</td>\n      <td>NaN</td>\n    </tr>\n    <tr>\n      <th>4</th>\n      <td>2018-09-07T01:07:14.599Z</td>\n      <td>90.78</td>\n      <td>36.15</td>\n      <td>0.00</td>\n      <td>0.00</td>\n      <td>0.00</td>\n      <td>257.61</td>\n      <td>193.97</td>\n      <td>None</td>\n      <td>2533040.0</td>\n      <td>Mohamed Sanu</td>\n      <td>12.0</td>\n      <td>WR</td>\n      <td>1</td>\n      <td>away</td>\n      <td>2018090600</td>\n      <td>75</td>\n      <td>left</td>\n      <td>HITCH</td>\n    </tr>\n  </tbody>\n</table>\n</div>"
     },
     "execution_count": 3,
     "metadata": {},
     "output_type": "execute_result"
    }
   ],
   "source": [
    "week_data.head()"
   ],
   "metadata": {
    "collapsed": false,
    "pycharm": {
     "name": "#%%\n"
    }
   }
  },
  {
   "cell_type": "code",
   "execution_count": 4,
   "outputs": [
    {
     "data": {
      "text/plain": "                   x              y              s              a  \\\ncount  986022.000000  986022.000000  986022.000000  986022.000000   \nmean       58.975056      26.795439       3.187303       2.012526   \nstd        24.935961      11.204589       2.843484       1.689410   \nmin        -5.980000     -11.740000       0.000000       0.000000   \n25%        39.980000      19.000000       0.850000       0.740000   \n50%        59.100000      26.830000       2.790000       1.750000   \n75%        78.190000      34.710000       4.960000       2.940000   \nmax       128.380000      62.750000      27.370000      58.330000   \n\n                 dis              o            dir         nflId  \\\ncount  986022.000000  919109.000000  919109.000000  9.191090e+05   \nmean        0.323366     179.545196     181.238304  2.366598e+06   \nstd         0.307017     100.706586     102.965112  6.193264e+05   \nmin         0.000000       0.000000       0.000000  3.060000e+02   \n25%         0.090000      89.880000      91.520000  2.533040e+06   \n50%         0.280000     177.430000     181.410000  2.552255e+06   \n75%         0.500000     269.840000     271.350000  2.556480e+06   \nmax         7.120000     360.000000     360.000000  2.561485e+06   \n\n        jerseyNumber        frameId        gameId         playId  \ncount  919109.000000  986022.000000  9.860220e+05  986022.000000  \nmean       37.763714      35.450674  2.018091e+09    2268.306314  \nstd        24.977470      23.654286  9.381592e+01    1280.426499  \nmin         1.000000       1.000000  2.018091e+09      58.000000  \n25%        20.000000      17.000000  2.018091e+09    1199.000000  \n50%        29.000000      33.000000  2.018091e+09    2297.000000  \n75%        53.000000      50.000000  2.018091e+09    3315.000000  \nmax        99.000000     172.000000  2.018091e+09    5511.000000  ",
      "text/html": "<div>\n<style scoped>\n    .dataframe tbody tr th:only-of-type {\n        vertical-align: middle;\n    }\n\n    .dataframe tbody tr th {\n        vertical-align: top;\n    }\n\n    .dataframe thead th {\n        text-align: right;\n    }\n</style>\n<table border=\"1\" class=\"dataframe\">\n  <thead>\n    <tr style=\"text-align: right;\">\n      <th></th>\n      <th>x</th>\n      <th>y</th>\n      <th>s</th>\n      <th>a</th>\n      <th>dis</th>\n      <th>o</th>\n      <th>dir</th>\n      <th>nflId</th>\n      <th>jerseyNumber</th>\n      <th>frameId</th>\n      <th>gameId</th>\n      <th>playId</th>\n    </tr>\n  </thead>\n  <tbody>\n    <tr>\n      <th>count</th>\n      <td>986022.000000</td>\n      <td>986022.000000</td>\n      <td>986022.000000</td>\n      <td>986022.000000</td>\n      <td>986022.000000</td>\n      <td>919109.000000</td>\n      <td>919109.000000</td>\n      <td>9.191090e+05</td>\n      <td>919109.000000</td>\n      <td>986022.000000</td>\n      <td>9.860220e+05</td>\n      <td>986022.000000</td>\n    </tr>\n    <tr>\n      <th>mean</th>\n      <td>58.975056</td>\n      <td>26.795439</td>\n      <td>3.187303</td>\n      <td>2.012526</td>\n      <td>0.323366</td>\n      <td>179.545196</td>\n      <td>181.238304</td>\n      <td>2.366598e+06</td>\n      <td>37.763714</td>\n      <td>35.450674</td>\n      <td>2.018091e+09</td>\n      <td>2268.306314</td>\n    </tr>\n    <tr>\n      <th>std</th>\n      <td>24.935961</td>\n      <td>11.204589</td>\n      <td>2.843484</td>\n      <td>1.689410</td>\n      <td>0.307017</td>\n      <td>100.706586</td>\n      <td>102.965112</td>\n      <td>6.193264e+05</td>\n      <td>24.977470</td>\n      <td>23.654286</td>\n      <td>9.381592e+01</td>\n      <td>1280.426499</td>\n    </tr>\n    <tr>\n      <th>min</th>\n      <td>-5.980000</td>\n      <td>-11.740000</td>\n      <td>0.000000</td>\n      <td>0.000000</td>\n      <td>0.000000</td>\n      <td>0.000000</td>\n      <td>0.000000</td>\n      <td>3.060000e+02</td>\n      <td>1.000000</td>\n      <td>1.000000</td>\n      <td>2.018091e+09</td>\n      <td>58.000000</td>\n    </tr>\n    <tr>\n      <th>25%</th>\n      <td>39.980000</td>\n      <td>19.000000</td>\n      <td>0.850000</td>\n      <td>0.740000</td>\n      <td>0.090000</td>\n      <td>89.880000</td>\n      <td>91.520000</td>\n      <td>2.533040e+06</td>\n      <td>20.000000</td>\n      <td>17.000000</td>\n      <td>2.018091e+09</td>\n      <td>1199.000000</td>\n    </tr>\n    <tr>\n      <th>50%</th>\n      <td>59.100000</td>\n      <td>26.830000</td>\n      <td>2.790000</td>\n      <td>1.750000</td>\n      <td>0.280000</td>\n      <td>177.430000</td>\n      <td>181.410000</td>\n      <td>2.552255e+06</td>\n      <td>29.000000</td>\n      <td>33.000000</td>\n      <td>2.018091e+09</td>\n      <td>2297.000000</td>\n    </tr>\n    <tr>\n      <th>75%</th>\n      <td>78.190000</td>\n      <td>34.710000</td>\n      <td>4.960000</td>\n      <td>2.940000</td>\n      <td>0.500000</td>\n      <td>269.840000</td>\n      <td>271.350000</td>\n      <td>2.556480e+06</td>\n      <td>53.000000</td>\n      <td>50.000000</td>\n      <td>2.018091e+09</td>\n      <td>3315.000000</td>\n    </tr>\n    <tr>\n      <th>max</th>\n      <td>128.380000</td>\n      <td>62.750000</td>\n      <td>27.370000</td>\n      <td>58.330000</td>\n      <td>7.120000</td>\n      <td>360.000000</td>\n      <td>360.000000</td>\n      <td>2.561485e+06</td>\n      <td>99.000000</td>\n      <td>172.000000</td>\n      <td>2.018091e+09</td>\n      <td>5511.000000</td>\n    </tr>\n  </tbody>\n</table>\n</div>"
     },
     "execution_count": 4,
     "metadata": {},
     "output_type": "execute_result"
    }
   ],
   "source": [
    "# Check dataframe. There are some null values in nflId.\n",
    "week_data.describe()"
   ],
   "metadata": {
    "collapsed": false,
    "pycharm": {
     "name": "#%%\n"
    }
   }
  },
  {
   "cell_type": "code",
   "execution_count": 5,
   "outputs": [
    {
     "data": {
      "text/plain": "array(['Football'], dtype=object)"
     },
     "execution_count": 5,
     "metadata": {},
     "output_type": "execute_result"
    }
   ],
   "source": [
    "# The null nflId column values are from the movements of the football.\n",
    "# This will be filtered later in the notebook.\n",
    "week_data[week_data['nflId'].isnull()]['displayName'].unique()"
   ],
   "metadata": {
    "collapsed": false,
    "pycharm": {
     "name": "#%%\n"
    }
   }
  },
  {
   "cell_type": "code",
   "execution_count": 6,
   "outputs": [],
   "source": [
    "# Read play data.\n",
    "play_data = pd.read_csv('Kaggle-Data-Files/plays.csv')"
   ],
   "metadata": {
    "collapsed": false,
    "pycharm": {
     "name": "#%%\n"
    }
   }
  },
  {
   "cell_type": "code",
   "execution_count": 7,
   "outputs": [
    {
     "data": {
      "text/plain": "             gameId        playId       quarter          down     yardsToGo  \\\ncount  1.923900e+04  19239.000000  19239.000000  19239.000000  19239.000000   \nmean   2.018107e+09   2176.217319      2.591039      1.920318      8.923905   \nstd    1.148060e+04   1240.919041      1.123155      0.848819      3.974216   \nmin    2.018091e+09     50.000000      1.000000      1.000000      1.000000   \n25%    2.018100e+09   1125.000000      2.000000      1.000000      6.000000   \n50%    2.018110e+09   2166.000000      3.000000      2.000000     10.000000   \n75%    2.018120e+09   3203.500000      4.000000      3.000000     10.000000   \nmax    2.018123e+09   5661.000000      5.000000      4.000000     41.000000   \n\n       yardlineNumber  defendersInTheBox  numberOfPassRushers  \\\ncount    19239.000000       19177.000000         18606.000000   \nmean        29.860232           6.036189             4.216543   \nstd         12.444118           1.015547             0.897862   \nmin          1.000000           1.000000             0.000000   \n25%         21.500000           6.000000             4.000000   \n50%         30.000000           6.000000             4.000000   \n75%         40.000000           7.000000             5.000000   \nmax         50.000000          11.000000            10.000000   \n\n       preSnapVisitorScore  preSnapHomeScore  absoluteYardlineNumber  \\\ncount         18600.000000      18600.000000            18600.000000   \nmean             10.758333         12.465484               59.905753   \nstd               9.798115         10.552753               23.641588   \nmin               0.000000          0.000000               11.000000   \n25%               3.000000          3.000000               40.000000   \n50%               9.000000         10.000000               60.000000   \n75%              17.000000         20.000000               80.000000   \nmax              51.000000         54.000000              109.000000   \n\n       offensePlayResult    playResult           epa  \ncount       19239.000000  19239.000000  19239.000000  \nmean            6.279380      6.469047      0.020725  \nstd            10.184296     10.566605      1.580748  \nmin           -19.000000    -78.000000    -11.935951  \n25%             0.000000      0.000000     -0.745327  \n50%             4.000000      4.000000     -0.190540  \n75%            10.000000     11.000000      0.976822  \nmax            97.000000     97.000000      8.629316  ",
      "text/html": "<div>\n<style scoped>\n    .dataframe tbody tr th:only-of-type {\n        vertical-align: middle;\n    }\n\n    .dataframe tbody tr th {\n        vertical-align: top;\n    }\n\n    .dataframe thead th {\n        text-align: right;\n    }\n</style>\n<table border=\"1\" class=\"dataframe\">\n  <thead>\n    <tr style=\"text-align: right;\">\n      <th></th>\n      <th>gameId</th>\n      <th>playId</th>\n      <th>quarter</th>\n      <th>down</th>\n      <th>yardsToGo</th>\n      <th>yardlineNumber</th>\n      <th>defendersInTheBox</th>\n      <th>numberOfPassRushers</th>\n      <th>preSnapVisitorScore</th>\n      <th>preSnapHomeScore</th>\n      <th>absoluteYardlineNumber</th>\n      <th>offensePlayResult</th>\n      <th>playResult</th>\n      <th>epa</th>\n    </tr>\n  </thead>\n  <tbody>\n    <tr>\n      <th>count</th>\n      <td>1.923900e+04</td>\n      <td>19239.000000</td>\n      <td>19239.000000</td>\n      <td>19239.000000</td>\n      <td>19239.000000</td>\n      <td>19239.000000</td>\n      <td>19177.000000</td>\n      <td>18606.000000</td>\n      <td>18600.000000</td>\n      <td>18600.000000</td>\n      <td>18600.000000</td>\n      <td>19239.000000</td>\n      <td>19239.000000</td>\n      <td>19239.000000</td>\n    </tr>\n    <tr>\n      <th>mean</th>\n      <td>2.018107e+09</td>\n      <td>2176.217319</td>\n      <td>2.591039</td>\n      <td>1.920318</td>\n      <td>8.923905</td>\n      <td>29.860232</td>\n      <td>6.036189</td>\n      <td>4.216543</td>\n      <td>10.758333</td>\n      <td>12.465484</td>\n      <td>59.905753</td>\n      <td>6.279380</td>\n      <td>6.469047</td>\n      <td>0.020725</td>\n    </tr>\n    <tr>\n      <th>std</th>\n      <td>1.148060e+04</td>\n      <td>1240.919041</td>\n      <td>1.123155</td>\n      <td>0.848819</td>\n      <td>3.974216</td>\n      <td>12.444118</td>\n      <td>1.015547</td>\n      <td>0.897862</td>\n      <td>9.798115</td>\n      <td>10.552753</td>\n      <td>23.641588</td>\n      <td>10.184296</td>\n      <td>10.566605</td>\n      <td>1.580748</td>\n    </tr>\n    <tr>\n      <th>min</th>\n      <td>2.018091e+09</td>\n      <td>50.000000</td>\n      <td>1.000000</td>\n      <td>1.000000</td>\n      <td>1.000000</td>\n      <td>1.000000</td>\n      <td>1.000000</td>\n      <td>0.000000</td>\n      <td>0.000000</td>\n      <td>0.000000</td>\n      <td>11.000000</td>\n      <td>-19.000000</td>\n      <td>-78.000000</td>\n      <td>-11.935951</td>\n    </tr>\n    <tr>\n      <th>25%</th>\n      <td>2.018100e+09</td>\n      <td>1125.000000</td>\n      <td>2.000000</td>\n      <td>1.000000</td>\n      <td>6.000000</td>\n      <td>21.500000</td>\n      <td>6.000000</td>\n      <td>4.000000</td>\n      <td>3.000000</td>\n      <td>3.000000</td>\n      <td>40.000000</td>\n      <td>0.000000</td>\n      <td>0.000000</td>\n      <td>-0.745327</td>\n    </tr>\n    <tr>\n      <th>50%</th>\n      <td>2.018110e+09</td>\n      <td>2166.000000</td>\n      <td>3.000000</td>\n      <td>2.000000</td>\n      <td>10.000000</td>\n      <td>30.000000</td>\n      <td>6.000000</td>\n      <td>4.000000</td>\n      <td>9.000000</td>\n      <td>10.000000</td>\n      <td>60.000000</td>\n      <td>4.000000</td>\n      <td>4.000000</td>\n      <td>-0.190540</td>\n    </tr>\n    <tr>\n      <th>75%</th>\n      <td>2.018120e+09</td>\n      <td>3203.500000</td>\n      <td>4.000000</td>\n      <td>3.000000</td>\n      <td>10.000000</td>\n      <td>40.000000</td>\n      <td>7.000000</td>\n      <td>5.000000</td>\n      <td>17.000000</td>\n      <td>20.000000</td>\n      <td>80.000000</td>\n      <td>10.000000</td>\n      <td>11.000000</td>\n      <td>0.976822</td>\n    </tr>\n    <tr>\n      <th>max</th>\n      <td>2.018123e+09</td>\n      <td>5661.000000</td>\n      <td>5.000000</td>\n      <td>4.000000</td>\n      <td>41.000000</td>\n      <td>50.000000</td>\n      <td>11.000000</td>\n      <td>10.000000</td>\n      <td>51.000000</td>\n      <td>54.000000</td>\n      <td>109.000000</td>\n      <td>97.000000</td>\n      <td>97.000000</td>\n      <td>8.629316</td>\n    </tr>\n  </tbody>\n</table>\n</div>"
     },
     "execution_count": 7,
     "metadata": {},
     "output_type": "execute_result"
    }
   ],
   "source": [
    "# Check for null values. Some yardline numbers are null.\n",
    "play_data.describe()"
   ],
   "metadata": {
    "collapsed": false,
    "pycharm": {
     "name": "#%%\n"
    }
   }
  },
  {
   "cell_type": "code",
   "execution_count": 8,
   "outputs": [],
   "source": [
    "# Filter to include non-null yardline numbers.\n",
    "play_data = play_data[play_data['absoluteYardlineNumber'].notnull()]"
   ],
   "metadata": {
    "collapsed": false,
    "pycharm": {
     "name": "#%%\n"
    }
   }
  },
  {
   "cell_type": "code",
   "execution_count": 9,
   "outputs": [
    {
     "data": {
      "text/plain": "Index(['gameId', 'playId', 'playDescription', 'quarter', 'down', 'yardsToGo',\n       'possessionTeam', 'playType', 'yardlineSide', 'yardlineNumber',\n       'offenseFormation', 'personnelO', 'defendersInTheBox',\n       'numberOfPassRushers', 'personnelD', 'typeDropback',\n       'preSnapVisitorScore', 'preSnapHomeScore', 'gameClock',\n       'absoluteYardlineNumber', 'penaltyCodes', 'penaltyJerseyNumbers',\n       'passResult', 'offensePlayResult', 'playResult', 'epa',\n       'isDefensivePI'],\n      dtype='object')"
     },
     "execution_count": 9,
     "metadata": {},
     "output_type": "execute_result"
    }
   ],
   "source": [
    "play_data.columns"
   ],
   "metadata": {
    "collapsed": false,
    "pycharm": {
     "name": "#%%\n"
    }
   }
  },
  {
   "cell_type": "code",
   "execution_count": 10,
   "outputs": [],
   "source": [
    "# Merge movement and play-by-play datasets.\n",
    "week_play = week_data.merge(play_data, on=['gameId', 'playId'])"
   ],
   "metadata": {
    "collapsed": false,
    "pycharm": {
     "name": "#%%\n"
    }
   }
  },
  {
   "cell_type": "code",
   "execution_count": 11,
   "outputs": [
    {
     "data": {
      "text/plain": "943417"
     },
     "execution_count": 11,
     "metadata": {},
     "output_type": "execute_result"
    }
   ],
   "source": [
    "week_play.shape[0]"
   ],
   "metadata": {
    "collapsed": false,
    "pycharm": {
     "name": "#%%\n"
    }
   }
  },
  {
   "cell_type": "code",
   "execution_count": 12,
   "outputs": [],
   "source": [
    "# Convert time to datetime format.\n",
    "week_play['time'] = pd.to_datetime(week_play['time'], format='%Y-%m-%dT%H:%M:%S')"
   ],
   "metadata": {
    "collapsed": false,
    "pycharm": {
     "name": "#%%\n"
    }
   }
  },
  {
   "cell_type": "code",
   "execution_count": 13,
   "outputs": [
    {
     "name": "stderr",
     "output_type": "stream",
     "text": [
      "/var/folders/6v/8jcf0jcn7_vfm2q2r4tz44gh0000gn/T/ipykernel_55620/2374433625.py:3: SettingWithCopyWarning: \n",
      "A value is trying to be set on a copy of a slice from a DataFrame\n",
      "\n",
      "See the caveats in the documentation: https://pandas.pydata.org/pandas-docs/stable/user_guide/indexing.html#returning-a-view-versus-a-copy\n",
      "  week_play['time_diff'][week_play['time_diff'].isnull()] = pd.Timedelta(0)\n"
     ]
    }
   ],
   "source": [
    "# Extract the time elapsed in the play. Labeled as \"time_acc_s\". May take a while for full dataset.\n",
    "week_play['time_diff'] = week_play.groupby(['playId', 'gameId', 'displayName'])['time'].diff()\n",
    "week_play['time_diff'][week_play['time_diff'].isnull()] = pd.Timedelta(0)\n",
    "week_play['time_acc_s'] = week_play.groupby(['playId', 'gameId', 'displayName'])['time_diff'].transform(\n",
    "    lambda x: x.map(lambda x: x.microseconds).cumsum()).div(1e6)"
   ],
   "metadata": {
    "collapsed": false,
    "pycharm": {
     "name": "#%%\n"
    }
   }
  },
  {
   "cell_type": "code",
   "execution_count": 14,
   "outputs": [],
   "source": [
    "# Load game data.\n",
    "games = pd.read_csv('Kaggle-Data-Files/games.csv')"
   ],
   "metadata": {
    "collapsed": false,
    "pycharm": {
     "name": "#%%\n"
    }
   }
  },
  {
   "cell_type": "code",
   "execution_count": 15,
   "outputs": [],
   "source": [
    "# Merge play-by-play and movement data with game data.\n",
    "week_play_games = week_play.merge(games, on='gameId')"
   ],
   "metadata": {
    "collapsed": false,
    "pycharm": {
     "name": "#%%\n"
    }
   }
  },
  {
   "cell_type": "code",
   "execution_count": 16,
   "outputs": [
    {
     "data": {
      "text/plain": "array(['away', 'home', 'football'], dtype=object)"
     },
     "execution_count": 16,
     "metadata": {},
     "output_type": "execute_result"
    }
   ],
   "source": [
    "# Check values of team.\n",
    "week_play_games['team'].unique()"
   ],
   "metadata": {
    "collapsed": false,
    "pycharm": {
     "name": "#%%\n"
    }
   }
  },
  {
   "cell_type": "code",
   "execution_count": 17,
   "outputs": [],
   "source": [
    "# Find which teams in the dataframe are offensive vs. defensive.\n",
    "week_play_games['off'] = np.where(week_play_games['position'].isin(['QB', 'HB', 'FB', 'WR', 'TE', 'C', 'OG', 'OT', 'RB']),\n",
    "                                            True, False)"
   ],
   "metadata": {
    "collapsed": false,
    "pycharm": {
     "name": "#%%\n"
    }
   }
  },
  {
   "cell_type": "code",
   "execution_count": 18,
   "outputs": [
    {
     "data": {
      "text/plain": "CB     180986\nOLB     79913\nFS      65032\nSS      58117\nILB     50239\nMLB     25355\nLB      20039\nDB      12098\nS        3307\nDL        592\nDE        116\nNT         48\nName: position, dtype: int64"
     },
     "execution_count": 18,
     "metadata": {},
     "output_type": "execute_result"
    }
   ],
   "source": [
    "# Check position counts for defense. All positions are correctly labelled.\n",
    "week_play_games[~week_play_games['off']]['position'].value_counts()"
   ],
   "metadata": {
    "collapsed": false,
    "pycharm": {
     "name": "#%%\n"
    }
   }
  },
  {
   "cell_type": "code",
   "execution_count": 19,
   "outputs": [
    {
     "data": {
      "text/plain": "WR    172461\nTE     79104\nQB     64109\nRB     63106\nFB      2746\nHB      2052\nName: position, dtype: int64"
     },
     "execution_count": 19,
     "metadata": {},
     "output_type": "execute_result"
    }
   ],
   "source": [
    "# Check position counts for offense. All positions are correctly labelled.\n",
    "week_play_games[week_play_games['off']]['position'].value_counts()"
   ],
   "metadata": {
    "collapsed": false,
    "pycharm": {
     "name": "#%%\n"
    }
   }
  },
  {
   "cell_type": "code",
   "execution_count": 20,
   "outputs": [],
   "source": [
    "# Filter to exclude football.\n",
    "week_non_foot = week_play_games[week_play_games['team'] != 'football']"
   ],
   "metadata": {
    "collapsed": false,
    "pycharm": {
     "name": "#%%\n"
    }
   }
  },
  {
   "cell_type": "markdown",
   "source": [],
   "metadata": {
    "collapsed": false
   }
  },
  {
   "cell_type": "code",
   "execution_count": 21,
   "outputs": [
    {
     "name": "stderr",
     "output_type": "stream",
     "text": [
      "/var/folders/6v/8jcf0jcn7_vfm2q2r4tz44gh0000gn/T/ipykernel_55620/1967519633.py:2: SettingWithCopyWarning: \n",
      "A value is trying to be set on a copy of a slice from a DataFrame.\n",
      "Try using .loc[row_indexer,col_indexer] = value instead\n",
      "\n",
      "See the caveats in the documentation: https://pandas.pydata.org/pandas-docs/stable/user_guide/indexing.html#returning-a-view-versus-a-copy\n",
      "  week_non_foot['x_starting'] = week_non_foot.groupby(['gameId', 'playId', 'nflId'])['x'].transform(lambda x: x.iloc[0])\n",
      "/var/folders/6v/8jcf0jcn7_vfm2q2r4tz44gh0000gn/T/ipykernel_55620/1967519633.py:3: SettingWithCopyWarning: \n",
      "A value is trying to be set on a copy of a slice from a DataFrame.\n",
      "Try using .loc[row_indexer,col_indexer] = value instead\n",
      "\n",
      "See the caveats in the documentation: https://pandas.pydata.org/pandas-docs/stable/user_guide/indexing.html#returning-a-view-versus-a-copy\n",
      "  week_non_foot['y_starting'] = week_non_foot.groupby(['gameId', 'playId', 'nflId'])['y'].transform(lambda x: x.iloc[0])\n"
     ]
    }
   ],
   "source": [
    "# Extract starting x and y position.\n",
    "week_non_foot['x_starting'] = week_non_foot.groupby(['gameId', 'playId', 'nflId'])['x'].transform(lambda x: x.iloc[0])\n",
    "week_non_foot['y_starting'] = week_non_foot.groupby(['gameId', 'playId', 'nflId'])['y'].transform(lambda x: x.iloc[0])"
   ],
   "metadata": {
    "collapsed": false,
    "pycharm": {
     "name": "#%%\n"
    }
   }
  },
  {
   "cell_type": "code",
   "execution_count": 22,
   "outputs": [
    {
     "name": "stderr",
     "output_type": "stream",
     "text": [
      "/var/folders/6v/8jcf0jcn7_vfm2q2r4tz44gh0000gn/T/ipykernel_55620/1947138517.py:2: SettingWithCopyWarning: \n",
      "A value is trying to be set on a copy of a slice from a DataFrame.\n",
      "Try using .loc[row_indexer,col_indexer] = value instead\n",
      "\n",
      "See the caveats in the documentation: https://pandas.pydata.org/pandas-docs/stable/user_guide/indexing.html#returning-a-view-versus-a-copy\n",
      "  week_non_foot['yardline_100'] = week_non_foot['absoluteYardlineNumber'].sub(10)\n"
     ]
    }
   ],
   "source": [
    "# Subtract 10 from yardline to get relative to left endzone.\n",
    "week_non_foot['yardline_100'] = week_non_foot['absoluteYardlineNumber'].sub(10)"
   ],
   "metadata": {
    "collapsed": false,
    "pycharm": {
     "name": "#%%\n"
    }
   }
  },
  {
   "cell_type": "code",
   "execution_count": 23,
   "outputs": [],
   "source": [
    "# Extract data for offense, including yardline numbers. Used to find the yardline for the first down.\n",
    "week_off = week_non_foot[week_non_foot['off']].groupby(['gameId', 'playId'])[[\n",
    "    'x_starting', 'yardline_100', 'absoluteYardlineNumber', 'yardsToGo']].first().reset_index()\n",
    "week_off['yardline_first'] = np.where(week_off['x_starting'].gt(week_off['absoluteYardlineNumber']),\n",
    "         week_off['yardline_100'].sub(week_off['yardsToGo']),\n",
    "         week_off['yardline_100'].add(week_off['yardsToGo']))"
   ],
   "metadata": {
    "collapsed": false,
    "pycharm": {
     "name": "#%%\n"
    }
   }
  },
  {
   "cell_type": "code",
   "execution_count": 24,
   "outputs": [
    {
     "data": {
      "text/plain": "             gameId       playId  x_starting  yardline_100  \\\ncount  9.900000e+02   990.000000  990.000000    990.000000   \nmean   2.018091e+09  2245.342424   59.273556     49.157576   \nstd    9.576537e+01  1281.510067   24.797976     24.163486   \nmin    2.018091e+09    58.000000    5.790000      1.000000   \n25%    2.018091e+09  1147.250000   36.435000     28.250000   \n50%    2.018091e+09  2262.500000   58.275000     48.000000   \n75%    2.018091e+09  3297.750000   81.247500     70.000000   \nmax    2.018091e+09  5511.000000  110.980000     99.000000   \n\n       absoluteYardlineNumber   yardsToGo  yardline_first  \ncount              990.000000  990.000000      990.000000  \nmean                59.157576    9.045455       48.807071  \nstd                 24.163486    4.186134       24.421065  \nmin                 11.000000    1.000000        0.000000  \n25%                 38.250000    7.000000       34.000000  \n50%                 58.000000   10.000000       49.000000  \n75%                 80.000000   10.000000       65.000000  \nmax                109.000000   30.000000      100.000000  ",
      "text/html": "<div>\n<style scoped>\n    .dataframe tbody tr th:only-of-type {\n        vertical-align: middle;\n    }\n\n    .dataframe tbody tr th {\n        vertical-align: top;\n    }\n\n    .dataframe thead th {\n        text-align: right;\n    }\n</style>\n<table border=\"1\" class=\"dataframe\">\n  <thead>\n    <tr style=\"text-align: right;\">\n      <th></th>\n      <th>gameId</th>\n      <th>playId</th>\n      <th>x_starting</th>\n      <th>yardline_100</th>\n      <th>absoluteYardlineNumber</th>\n      <th>yardsToGo</th>\n      <th>yardline_first</th>\n    </tr>\n  </thead>\n  <tbody>\n    <tr>\n      <th>count</th>\n      <td>9.900000e+02</td>\n      <td>990.000000</td>\n      <td>990.000000</td>\n      <td>990.000000</td>\n      <td>990.000000</td>\n      <td>990.000000</td>\n      <td>990.000000</td>\n    </tr>\n    <tr>\n      <th>mean</th>\n      <td>2.018091e+09</td>\n      <td>2245.342424</td>\n      <td>59.273556</td>\n      <td>49.157576</td>\n      <td>59.157576</td>\n      <td>9.045455</td>\n      <td>48.807071</td>\n    </tr>\n    <tr>\n      <th>std</th>\n      <td>9.576537e+01</td>\n      <td>1281.510067</td>\n      <td>24.797976</td>\n      <td>24.163486</td>\n      <td>24.163486</td>\n      <td>4.186134</td>\n      <td>24.421065</td>\n    </tr>\n    <tr>\n      <th>min</th>\n      <td>2.018091e+09</td>\n      <td>58.000000</td>\n      <td>5.790000</td>\n      <td>1.000000</td>\n      <td>11.000000</td>\n      <td>1.000000</td>\n      <td>0.000000</td>\n    </tr>\n    <tr>\n      <th>25%</th>\n      <td>2.018091e+09</td>\n      <td>1147.250000</td>\n      <td>36.435000</td>\n      <td>28.250000</td>\n      <td>38.250000</td>\n      <td>7.000000</td>\n      <td>34.000000</td>\n    </tr>\n    <tr>\n      <th>50%</th>\n      <td>2.018091e+09</td>\n      <td>2262.500000</td>\n      <td>58.275000</td>\n      <td>48.000000</td>\n      <td>58.000000</td>\n      <td>10.000000</td>\n      <td>49.000000</td>\n    </tr>\n    <tr>\n      <th>75%</th>\n      <td>2.018091e+09</td>\n      <td>3297.750000</td>\n      <td>81.247500</td>\n      <td>70.000000</td>\n      <td>80.000000</td>\n      <td>10.000000</td>\n      <td>65.000000</td>\n    </tr>\n    <tr>\n      <th>max</th>\n      <td>2.018091e+09</td>\n      <td>5511.000000</td>\n      <td>110.980000</td>\n      <td>99.000000</td>\n      <td>109.000000</td>\n      <td>30.000000</td>\n      <td>100.000000</td>\n    </tr>\n  </tbody>\n</table>\n</div>"
     },
     "execution_count": 24,
     "metadata": {},
     "output_type": "execute_result"
    }
   ],
   "source": [
    "# No null values in the dataframe, and  the yarline ranges are all reasonable.\n",
    "week_off.describe()"
   ],
   "metadata": {
    "collapsed": false,
    "pycharm": {
     "name": "#%%\n"
    }
   }
  },
  {
   "cell_type": "code",
   "execution_count": 25,
   "outputs": [],
   "source": [
    "# Merge main dataframe with dataframe containing the first down yardline.\n",
    "# Then extract which side offense is on.\n",
    "week_first = week_non_foot.merge(week_off[['gameId', 'playId', 'yardline_first']].drop_duplicates(), on=['gameId', 'playId'])\n",
    "week_first['off_pos'] = np.where(week_first['yardline_first'].gt(week_first['yardline_100']),\n",
    "                                 'left', 'right')"
   ],
   "metadata": {
    "collapsed": false,
    "pycharm": {
     "name": "#%%\n"
    }
   }
  },
  {
   "cell_type": "code",
   "execution_count": 26,
   "outputs": [
    {
     "data": {
      "text/plain": "right    454305\nleft     425115\nName: off_pos, dtype: int64"
     },
     "execution_count": 26,
     "metadata": {},
     "output_type": "execute_result"
    }
   ],
   "source": [
    "# There is a roughly even split, which looks good.\n",
    "week_first['off_pos'].value_counts()"
   ],
   "metadata": {
    "collapsed": false,
    "pycharm": {
     "name": "#%%\n"
    }
   }
  },
  {
   "cell_type": "code",
   "execution_count": 27,
   "outputs": [],
   "source": [
    "# Adjust starting y coordinate because the perspective would change depending on the side.\n",
    "week_first['y_starting_dir'] = np.where(week_first['off_pos'] == 'right', week_first['y_starting'].rsub(53.3), week_first['y_starting'])"
   ],
   "metadata": {
    "collapsed": false,
    "pycharm": {
     "name": "#%%\n"
    }
   }
  },
  {
   "cell_type": "code",
   "execution_count": 28,
   "outputs": [
    {
     "data": {
      "text/plain": "<AxesSubplot:xlabel='y_starting', ylabel='Count'>"
     },
     "execution_count": 28,
     "metadata": {},
     "output_type": "execute_result"
    },
    {
     "data": {
      "text/plain": "<Figure size 432x288 with 1 Axes>",
      "image/png": "[encoded data removed]"
     },
     "metadata": {
      "needs_background": "light"
     },
     "output_type": "display_data"
    }
   ],
   "source": [
    "# Show distribution of starting y without adjustment. The values match up fairly well.\n",
    "sns.histplot(data=week_first, x='y_starting', bins=50, hue='off')"
   ],
   "metadata": {
    "collapsed": false,
    "pycharm": {
     "name": "#%%\n"
    }
   }
  },
  {
   "cell_type": "code",
   "execution_count": 29,
   "outputs": [
    {
     "data": {
      "text/plain": "<AxesSubplot:xlabel='y_starting_dir', ylabel='Count'>"
     },
     "execution_count": 29,
     "metadata": {},
     "output_type": "execute_result"
    },
    {
     "data": {
      "text/plain": "<Figure size 432x288 with 1 Axes>",
      "image/png": "[encoded data removed]"
     },
     "metadata": {
      "needs_background": "light"
     },
     "output_type": "display_data"
    }
   ],
   "source": [
    "# The positions match up slightly better although the distributions are fairly symmetrical.\n",
    "sns.histplot(data=week_first, x='y_starting_dir', bins=50, hue='off')"
   ],
   "metadata": {
    "collapsed": false,
    "pycharm": {
     "name": "#%%\n"
    }
   }
  },
  {
   "cell_type": "code",
   "execution_count": 30,
   "outputs": [],
   "source": [
    "def find_rank(df, col, reverse=False):\n",
    "    \"\"\"\n",
    "    Find the ranking of a series based on values.\n",
    "    :param df: Dataframe for ranking; pd.DataFrame\n",
    "    :param col: Column from dataframe to rank; str\n",
    "    :param reverse: Flag of whether to reverse rank direction; bool\n",
    "    :return: Array with rankings; np.array\n",
    "    \"\"\"\n",
    "    # Extract series and use arsort to find rankings.\n",
    "    ser = df[col]\n",
    "    temp = np.argsort(ser)\n",
    "\n",
    "    # Reverse direction based on flag.\n",
    "    if reverse:\n",
    "        temp = temp[::-1]\n",
    "\n",
    "    # Fill ranking array.\n",
    "    ranks = np.empty_like(temp)\n",
    "    ranks[temp] = np.arange(ser.shape[0])\n",
    "    return ranks"
   ],
   "metadata": {
    "collapsed": false,
    "pycharm": {
     "name": "#%%\n"
    }
   }
  },
  {
   "cell_type": "code",
   "execution_count": 31,
   "outputs": [],
   "source": [
    "# Find the order of positions based on offensive direction.\n",
    "# First, group and extract first value of the y starting position and direction.\n",
    "pos_start = (week_first\n",
    " .groupby(['gameId', 'playId', 'position', 'nflId'])\n",
    " [['y_starting_dir', 'off_pos']].first()\n",
    " .reset_index())\n",
    "\n",
    "# Next, group and extract ranking of positions based on whether team is home or away\n",
    "# and the starting position.\n",
    "pos_order = (pos_start.groupby(['gameId', 'playId', 'position'])\n",
    " .apply(lambda x: np.where(x['off_pos'] == 'right', find_rank(x, 'y_starting_dir'),find_rank(x, 'y_starting_dir')))\n",
    "             .explode()\n",
    "             .reset_index()\n",
    "             )\n",
    "\n",
    "# Add column with the position order to the df with indexed starting position.\n",
    "pos_start['pos_order'] = pos_order[0]"
   ],
   "metadata": {
    "collapsed": false,
    "pycharm": {
     "name": "#%%\n"
    }
   }
  },
  {
   "cell_type": "code",
   "execution_count": 32,
   "outputs": [],
   "source": [
    "# Concatenate position and position order to create unique position identifier.\n",
    "pos_start['pos_num'] = pos_start.apply(lambda x: x['position'] + str(x['pos_order']), axis=1)"
   ],
   "metadata": {
    "collapsed": false,
    "pycharm": {
     "name": "#%%\n"
    }
   }
  },
  {
   "cell_type": "code",
   "execution_count": 33,
   "outputs": [],
   "source": [
    "# Merge full dataframe with position number dataframe.\n",
    "week_pos = week_first.merge(pos_start[['gameId', 'playId', 'nflId', 'pos_num', 'pos_order']], on=['gameId', 'playId', 'nflId'])"
   ],
   "metadata": {
    "collapsed": false,
    "pycharm": {
     "name": "#%%\n"
    }
   }
  },
  {
   "cell_type": "code",
   "execution_count": 34,
   "outputs": [],
   "source": [
    "# Use regex to extract personnel from personnel column, and concatenate with main dataframe.\n",
    "week_pos_pers = pd.concat([week_pos, week_pos['personnelD'].str.extract(\n",
    "    '(?P<DL>\\d+) DL, (?P<LB>\\d+) LB, (?P<DB>\\d+) DB')], axis=1)"
   ],
   "metadata": {
    "collapsed": false,
    "pycharm": {
     "name": "#%%\n"
    }
   }
  },
  {
   "cell_type": "code",
   "execution_count": 37,
   "outputs": [],
   "source": [
    "# Find the position of each player relative to the line of scrimmage.\n",
    "week_pos_pers['x_behind_line'] = np.where(week_pos_pers['off_pos'] == 'right',\n",
    "                                     week_pos_pers['absoluteYardlineNumber'].sub(week_pos_pers['x']),\n",
    "                                     week_pos_pers['x'].sub(week_pos_pers['absoluteYardlineNumber']))"
   ],
   "metadata": {
    "collapsed": false,
    "pycharm": {
     "name": "#%%\n"
    }
   }
  },
  {
   "cell_type": "code",
   "execution_count": 38,
   "outputs": [
    {
     "data": {
      "text/plain": "<AxesSubplot:xlabel='x_behind_line', ylabel='Count'>"
     },
     "execution_count": 38,
     "metadata": {},
     "output_type": "execute_result"
    },
    {
     "data": {
      "text/plain": "<Figure size 432x288 with 1 Axes>",
      "image/png": "[encoded data removed]"
     },
     "metadata": {
      "needs_background": "light"
     },
     "output_type": "display_data"
    }
   ],
   "source": [
    "# Examine the x_behind_line column. The distributions seem to make sense,\n",
    "# as the distribution of the offensive position has a lower mean than the defensive position.\n",
    "sns.histplot(data=week_pos_pers, x='x_behind_line', bins=50, hue='off')"
   ],
   "metadata": {
    "collapsed": false,
    "pycharm": {
     "name": "#%%\n"
    }
   }
  },
  {
   "cell_type": "code",
   "execution_count": 39,
   "outputs": [],
   "source": [
    "# Extract the yardline for first down and line of scrimmage based on the\n",
    "# direction that the teams are facing.\n",
    "week_pos_pers['yardline_first_dir'] = np.where(week_pos_pers['off_pos'] == 'right',\n",
    "                                          week_pos_pers['yardline_first'],\n",
    "                                          week_pos_pers['yardline_first'].rsub(100))\n",
    "week_pos_pers['yardline_100_dir'] = np.where(week_pos_pers['off_pos'] == 'right',\n",
    "                                        week_pos_pers['yardline_100'],\n",
    "                                        week_pos_pers['yardline_100'].rsub(100))"
   ],
   "metadata": {
    "collapsed": false,
    "pycharm": {
     "name": "#%%\n"
    }
   }
  },
  {
   "cell_type": "code",
   "execution_count": 40,
   "outputs": [
    {
     "data": {
      "text/plain": "count    879420.000000\nmean         43.631600\nstd          23.017777\nmin           0.000000\n25%          26.000000\n50%          48.000000\n75%          65.000000\nmax          89.000000\nName: yardline_first_dir, dtype: float64"
     },
     "execution_count": 40,
     "metadata": {},
     "output_type": "execute_result"
    }
   ],
   "source": [
    "# Distribution of first yardline looks good. Range is within expected.\n",
    "week_pos_pers['yardline_first_dir'].describe()"
   ],
   "metadata": {
    "collapsed": false,
    "pycharm": {
     "name": "#%%\n"
    }
   }
  },
  {
   "cell_type": "code",
   "execution_count": 41,
   "outputs": [
    {
     "data": {
      "text/plain": "count    879420.000000\nmean         52.764304\nstd          23.657820\nmin           1.000000\n25%          36.000000\n50%          57.000000\n75%          73.000000\nmax          99.000000\nName: yardline_100_dir, dtype: float64"
     },
     "execution_count": 41,
     "metadata": {},
     "output_type": "execute_result"
    }
   ],
   "source": [
    "# Distribution of line of scrimmage also looks reasonable.\n",
    "week_pos_pers['yardline_100_dir'].describe()"
   ],
   "metadata": {
    "collapsed": false,
    "pycharm": {
     "name": "#%%\n"
    }
   }
  },
  {
   "cell_type": "code",
   "execution_count": 42,
   "outputs": [
    {
     "data": {
      "text/plain": "True    879420\ndtype: int64"
     },
     "execution_count": 42,
     "metadata": {},
     "output_type": "execute_result"
    }
   ],
   "source": [
    "# Check that all first downs are labelled as closer to touchdown than line of scrimmage. Looks good.\n",
    "week_pos_pers['yardline_first_dir'].lt(week_pos_pers['yardline_100_dir']).value_counts()"
   ],
   "metadata": {
    "collapsed": false,
    "pycharm": {
     "name": "#%%\n"
    }
   }
  },
  {
   "cell_type": "code",
   "execution_count": 43,
   "outputs": [],
   "source": [
    "# Add flag if a player has gone at least 1 yard past the line of scrimmage.\n",
    "week_pos_pers['exceeded_1yd'] = week_pos_pers.groupby(['gameId', 'playId', 'nflId'])['x_behind_line'].transform(lambda x: x.max() > 1)"
   ],
   "metadata": {
    "collapsed": false,
    "pycharm": {
     "name": "#%%\n"
    }
   }
  },
  {
   "cell_type": "code",
   "execution_count": 44,
   "outputs": [],
   "source": [
    "# Use whether player is on offense, whether the player is a QB or WR, and whether a player has\n",
    "# moved 1 yard beyond the line of scrimmage to determine if the player is a receiver.\n",
    "week_pos_pers['receiver'] = (week_pos_pers['off'] & (week_pos_pers['position'] != 'QB') &\n",
    "                            (week_pos_pers['exceeded_1yd'] | (week_pos_pers['position'] == 'WR')))"
   ],
   "metadata": {
    "collapsed": false,
    "pycharm": {
     "name": "#%%\n"
    }
   }
  },
  {
   "cell_type": "code",
   "execution_count": 45,
   "outputs": [
    {
     "data": {
      "text/plain": "WR    172461\nTE     68352\nRB     41518\nFB      1842\nHB      1418\nName: position, dtype: int64"
     },
     "execution_count": 45,
     "metadata": {},
     "output_type": "execute_result"
    }
   ],
   "source": [
    "# Check positions that are labelled as receivers. Everything looks good.\n",
    "week_pos_pers[week_pos_pers['receiver']]['position'].value_counts()"
   ],
   "metadata": {
    "collapsed": false,
    "pycharm": {
     "name": "#%%\n"
    }
   }
  },
  {
   "cell_type": "code",
   "execution_count": 46,
   "outputs": [
    {
     "data": {
      "text/plain": "True     285591\nFalse     97987\nName: receiver, dtype: int64"
     },
     "execution_count": 46,
     "metadata": {},
     "output_type": "execute_result"
    }
   ],
   "source": [
    "# Check value counts of players labelled receivers for offense.\n",
    "# Looks reasonable given positions tracked.\n",
    "week_pos_pers[week_pos_pers['off']]['receiver'].value_counts()"
   ],
   "metadata": {
    "collapsed": false,
    "pycharm": {
     "name": "#%%\n"
    }
   }
  },
  {
   "cell_type": "code",
   "execution_count": 47,
   "outputs": [],
   "source": [
    "# Save offensive and defensive numbered position lists.\n",
    "off_pos = week_pos_pers[week_pos_pers['off']]['pos_num'].unique()\n",
    "def_pos = week_pos_pers[~week_pos_pers['off']]['pos_num'].unique()"
   ],
   "metadata": {
    "collapsed": false,
    "pycharm": {
     "name": "#%%\n"
    }
   }
  },
  {
   "cell_type": "code",
   "execution_count": 48,
   "outputs": [],
   "source": [
    "# Adjust y to match direction of offense.\n",
    "week_pos_pers['y_dir'] = np.where(week_pos_pers['off_pos'] == 'right', week_pos_pers['y'].rsub(53.3), week_pos_pers['y'])"
   ],
   "metadata": {
    "collapsed": false,
    "pycharm": {
     "name": "#%%\n"
    }
   }
  },
  {
   "cell_type": "code",
   "execution_count": 49,
   "outputs": [],
   "source": [
    "# Next, determine minimum distances between each defensive player and receiver and qb.\n",
    "# Separate defensive and receiver dataframes.\n",
    "week_rec = week_pos_pers[week_pos_pers['receiver']]\n",
    "week_def = week_pos_pers[~week_pos_pers['off']]\n",
    "\n",
    "# Merge defensive with receiver dataframes on game, play, and time.\n",
    "week_def_rec = week_def.merge(week_rec[['gameId', 'playId', 'time_acc_s', 'x_behind_line', 'y_dir']],\n",
    "               on=['gameId', 'playId', 'time_acc_s'],\n",
    "               suffixes=['_def', '_rec'])\n",
    "\n",
    "# Find distance between each defensive player and each receiver.\n",
    "week_def_rec['dist'] = np.linalg.norm(week_def_rec[['x_behind_line_def', 'y_dir_def']].values -\n",
    "                                               week_def_rec[['x_behind_line_rec', 'y_dir_rec']].values, axis=1)\n",
    "\n",
    "# Group dataframe to obtain minimum distance.\n",
    "min_rec_dist = week_def_rec.groupby(['gameId', 'playId', 'time_acc_s', 'pos_num'])['dist'].min()\n",
    "min_rec_dist.name = 'min_dist_rec'\n",
    "\n",
    "# Separate QB dataframe\n",
    "week_qb = week_pos_pers[week_pos_pers['position'] == 'QB']\n",
    "\n",
    "# Merge defensive with QB dataframe.\n",
    "week_def_qb = week_def.merge(week_qb[['gameId', 'playId', 'time_acc_s', 'x_behind_line', 'y_dir']],\n",
    "                              on=['gameId', 'playId', 'time_acc_s'],\n",
    "                              suffixes=['_def', '_qb'])\n",
    "\n",
    "# Find distance to the QB.\n",
    "week_def_qb['dist'] = np.linalg.norm(week_def_qb[['x_behind_line_def', 'y_dir_def']].values -\n",
    "                                               week_def_qb[['x_behind_line_qb', 'y_dir_qb']].values, axis=1)\n",
    "\n",
    "# Group to form index and distance.\n",
    "min_qb_dist = week_def_qb.groupby(['gameId', 'playId', 'time_acc_s', 'pos_num'])['dist'].min()\n",
    "min_qb_dist.name = 'dist_qb'\n",
    "\n",
    "# Concatenate about the same index and reset the index.\n",
    "min_dist = pd.concat([min_rec_dist, min_qb_dist], axis=1).reset_index()"
   ],
   "metadata": {
    "collapsed": false,
    "pycharm": {
     "name": "#%%\n"
    }
   }
  },
  {
   "cell_type": "code",
   "execution_count": 50,
   "outputs": [
    {
     "data": {
      "text/plain": "        min_dist_rec        dist_qb\ncount  495835.000000  495826.000000\nmean        6.867280      18.104708\nstd         5.164811       9.233839\nmin         0.010000       0.036056\n25%         2.836371      11.041801\n50%         5.794834      17.374760\n75%         9.366256      23.586314\nmax        59.331578      76.602956",
      "text/html": "<div>\n<style scoped>\n    .dataframe tbody tr th:only-of-type {\n        vertical-align: middle;\n    }\n\n    .dataframe tbody tr th {\n        vertical-align: top;\n    }\n\n    .dataframe thead th {\n        text-align: right;\n    }\n</style>\n<table border=\"1\" class=\"dataframe\">\n  <thead>\n    <tr style=\"text-align: right;\">\n      <th></th>\n      <th>min_dist_rec</th>\n      <th>dist_qb</th>\n    </tr>\n  </thead>\n  <tbody>\n    <tr>\n      <th>count</th>\n      <td>495835.000000</td>\n      <td>495826.000000</td>\n    </tr>\n    <tr>\n      <th>mean</th>\n      <td>6.867280</td>\n      <td>18.104708</td>\n    </tr>\n    <tr>\n      <th>std</th>\n      <td>5.164811</td>\n      <td>9.233839</td>\n    </tr>\n    <tr>\n      <th>min</th>\n      <td>0.010000</td>\n      <td>0.036056</td>\n    </tr>\n    <tr>\n      <th>25%</th>\n      <td>2.836371</td>\n      <td>11.041801</td>\n    </tr>\n    <tr>\n      <th>50%</th>\n      <td>5.794834</td>\n      <td>17.374760</td>\n    </tr>\n    <tr>\n      <th>75%</th>\n      <td>9.366256</td>\n      <td>23.586314</td>\n    </tr>\n    <tr>\n      <th>max</th>\n      <td>59.331578</td>\n      <td>76.602956</td>\n    </tr>\n  </tbody>\n</table>\n</div>"
     },
     "execution_count": 50,
     "metadata": {},
     "output_type": "execute_result"
    }
   ],
   "source": [
    "# Check that the distances are in a reasonable range. The max value is a bit high, but might be on long plays.\n",
    "min_dist[['min_dist_rec', 'dist_qb']].describe()"
   ],
   "metadata": {
    "collapsed": false,
    "pycharm": {
     "name": "#%%\n"
    }
   }
  },
  {
   "cell_type": "code",
   "execution_count": 51,
   "outputs": [],
   "source": [
    "# Merge main dataframe with minimum distance dataframe.\n",
    "week_pos_full = week_pos_pers.merge(min_dist, on=['gameId', 'playId', 'time_acc_s', 'pos_num'], how='left')"
   ],
   "metadata": {
    "collapsed": false,
    "pycharm": {
     "name": "#%%\n"
    }
   }
  },
  {
   "cell_type": "code",
   "execution_count": 52,
   "outputs": [],
   "source": [
    "# Evaluate whether a receiver is closer than the qb.\n",
    "week_pos_full['rec_closer'] = week_pos_full['min_dist_rec'].lt(week_pos_full['dist_qb'])"
   ],
   "metadata": {
    "collapsed": false,
    "pycharm": {
     "name": "#%%\n"
    }
   }
  },
  {
   "cell_type": "code",
   "execution_count": 53,
   "outputs": [],
   "source": [
    "# Cut time accumulated into 10 deciles for each play in order to reduce the space. Can adjust number of cuts.\n",
    "n_cuts = 10\n",
    "time_quart = week_pos_full.groupby(['gameId', 'playId'])['time_acc_s'].agg(lambda x: np.nan if x.nunique() < n_cuts else\n",
    "                        pd.qcut(x.unique(), n_cuts, labels=range(1, n_cuts + 1), duplicates='drop')).explode().dropna()"
   ],
   "metadata": {
    "collapsed": false,
    "pycharm": {
     "name": "#%%\n"
    }
   }
  },
  {
   "cell_type": "code",
   "execution_count": 54,
   "outputs": [],
   "source": [
    "# Extract the time quartile index, as the quartiles do not include time accumulated in the index.\n",
    "time_quart_index = (week_pos_full[\n",
    "                        week_pos_pers.groupby(['gameId', 'playId'])['time_acc_s'].transform(lambda x: x.nunique() >= n_cuts)]\n",
    "                    .reset_index()\n",
    "                    .sort_values(['gameId', 'playId', 'time_acc_s'])\n",
    "                    [['gameId', 'playId', 'time_acc_s']].drop_duplicates())"
   ],
   "metadata": {
    "collapsed": false,
    "pycharm": {
     "name": "#%%\n"
    }
   }
  },
  {
   "cell_type": "code",
   "execution_count": 55,
   "outputs": [
    {
     "data": {
      "text/plain": "       gameId  playId  time_acc_s\n0  2018090600      75       0.000\n1  2018090600      75       0.101\n2  2018090600      75       0.200\n3  2018090600      75       0.301\n4  2018090600      75       0.401",
      "text/html": "<div>\n<style scoped>\n    .dataframe tbody tr th:only-of-type {\n        vertical-align: middle;\n    }\n\n    .dataframe tbody tr th {\n        vertical-align: top;\n    }\n\n    .dataframe thead th {\n        text-align: right;\n    }\n</style>\n<table border=\"1\" class=\"dataframe\">\n  <thead>\n    <tr style=\"text-align: right;\">\n      <th></th>\n      <th>gameId</th>\n      <th>playId</th>\n      <th>time_acc_s</th>\n    </tr>\n  </thead>\n  <tbody>\n    <tr>\n      <th>0</th>\n      <td>2018090600</td>\n      <td>75</td>\n      <td>0.000</td>\n    </tr>\n    <tr>\n      <th>1</th>\n      <td>2018090600</td>\n      <td>75</td>\n      <td>0.101</td>\n    </tr>\n    <tr>\n      <th>2</th>\n      <td>2018090600</td>\n      <td>75</td>\n      <td>0.200</td>\n    </tr>\n    <tr>\n      <th>3</th>\n      <td>2018090600</td>\n      <td>75</td>\n      <td>0.301</td>\n    </tr>\n    <tr>\n      <th>4</th>\n      <td>2018090600</td>\n      <td>75</td>\n      <td>0.401</td>\n    </tr>\n  </tbody>\n</table>\n</div>"
     },
     "execution_count": 55,
     "metadata": {},
     "output_type": "execute_result"
    }
   ],
   "source": [
    "time_quart_index.head()"
   ],
   "metadata": {
    "collapsed": false,
    "pycharm": {
     "name": "#%%\n"
    }
   }
  },
  {
   "cell_type": "code",
   "execution_count": 56,
   "outputs": [],
   "source": [
    "# Set time_quart column equal to time quartile values.\n",
    "time_quart_index['time_quart'] = time_quart.values"
   ],
   "metadata": {
    "collapsed": false,
    "pycharm": {
     "name": "#%%\n"
    }
   }
  },
  {
   "cell_type": "code",
   "execution_count": 57,
   "outputs": [],
   "source": [
    "# Merge dataframe with time quartiles to main dataframe.\n",
    "week_full_time = week_pos_full.merge(time_quart_index, on=['gameId', 'playId', 'time_acc_s'])"
   ],
   "metadata": {
    "collapsed": false,
    "pycharm": {
     "name": "#%%\n"
    }
   }
  },
  {
   "cell_type": "code",
   "execution_count": 58,
   "outputs": [
    {
     "data": {
      "text/plain": "<AxesSubplot:xlabel='pos_num', ylabel='time_quart'>"
     },
     "execution_count": 58,
     "metadata": {},
     "output_type": "execute_result"
    },
    {
     "data": {
      "text/plain": "<Figure size 1440x720 with 2 Axes>",
      "image/png": "[encoded data removed]"
     },
     "metadata": {
      "needs_background": "light"
     },
     "output_type": "display_data"
    }
   ],
   "source": [
    "# Check average time\n",
    "# Although all positions average closer to the receiver for each time decile,\n",
    "# the positional distribution seem to make sense, with cornerbacks and safeties\n",
    "# closest to the receivers.\n",
    "week_rec_closer = week_full_time[~week_full_time['off']].groupby(['gameId', 'playId', 'time_quart', 'pos_num'])['rec_closer'].mean().reset_index()\n",
    "rec_closer_def = week_rec_closer.groupby(['pos_num', 'time_quart'])['rec_closer'].mean().reset_index()\n",
    "fig, ax = plt.subplots(figsize=(20, 10))\n",
    "sns.heatmap(rec_closer_def.pivot_table(index='time_quart', columns='pos_num', values='rec_closer'), ax=ax)"
   ],
   "metadata": {
    "collapsed": false,
    "pycharm": {
     "name": "#%%\n"
    }
   }
  },
  {
   "cell_type": "code",
   "execution_count": 59,
   "outputs": [],
   "source": [
    "# Aggregate columns based on game, play, numbered position, and time quartile.\n",
    "def_full = week_full_time[~week_full_time['off'] & (week_full_time['position'] != 'TE')].groupby(['gameId', 'playId', 'pos_num', 'time_quart']).agg(\n",
    "    {'x_starting': 'first', 'y_starting': 'first',\n",
    "     'yardline_100_dir': 'first', 'yardline_first_dir': 'first',\n",
    "     'defendersInTheBox': 'first',\n",
    "     'numberOfPassRushers': 'first',\n",
    "     'DL': 'first', 'LB': 'first', 'DB': 'first',\n",
    "     'x_behind_line': 'mean', 'y_dir': 'mean', 'min_dist_rec': 'mean',\n",
    "     'dist_qb': 'mean', 'rec_closer': 'mean'}\n",
    ").reset_index()"
   ],
   "metadata": {
    "collapsed": false,
    "pycharm": {
     "name": "#%%\n"
    }
   }
  },
  {
   "cell_type": "code",
   "execution_count": 60,
   "outputs": [],
   "source": [
    "# Pivot table based on play.\n",
    "week_def_pivot = def_full.pivot_table(values=['rec_closer', 'dist_qb', 'min_dist_rec'],\n",
    "                                           index=['gameId', 'playId', 'DL', 'LB', 'DB',\n",
    "                                                  'yardline_first_dir', 'yardline_100_dir', 'defendersInTheBox',\n",
    "                                                  'numberOfPassRushers'],\n",
    "                                           columns=['pos_num', 'time_quart']).reset_index()"
   ],
   "metadata": {
    "collapsed": false,
    "pycharm": {
     "name": "#%%\n"
    }
   }
  },
  {
   "cell_type": "code",
   "execution_count": 61,
   "outputs": [
    {
     "data": {
      "text/plain": "(990, 789)"
     },
     "execution_count": 61,
     "metadata": {},
     "output_type": "execute_result"
    }
   ],
   "source": [
    "week_def_pivot.shape"
   ],
   "metadata": {
    "collapsed": false,
    "pycharm": {
     "name": "#%%\n"
    }
   }
  },
  {
   "cell_type": "code",
   "execution_count": 62,
   "outputs": [
    {
     "data": {
      "text/plain": "                  gameId       playId yardline_first_dir yardline_100_dir  \\\npos_num                                                                     \ntime_quart                                                                  \ncount       9.900000e+02   990.000000         990.000000       990.000000   \nmean        2.018091e+09  2245.342424          42.952525        51.997980   \nstd         9.576537e+01  1281.510067          23.411446        24.095403   \nmin         2.018091e+09    58.000000           0.000000         1.000000   \n25%         2.018091e+09  1147.250000          25.000000        34.000000   \n50%         2.018091e+09  2262.500000          47.000000        56.000000   \n75%         2.018091e+09  3297.750000          65.000000        72.000000   \nmax         2.018091e+09  5511.000000          89.000000        99.000000   \n\n           defendersInTheBox numberOfPassRushers     dist_qb              \\\npos_num                                                  CB0               \ntime_quart                                                 1           2   \ncount             990.000000          990.000000  989.000000  989.000000   \nmean                6.052525            4.151515   17.537768   17.663504   \nstd                 0.946105            0.813978    4.245403    4.296839   \nmin                 2.000000            0.000000    4.981824    5.646585   \n25%                 6.000000            4.000000   14.569150   14.678042   \n50%                 6.000000            4.000000   17.587229   17.791337   \n75%                 7.000000            4.000000   20.764126   20.862222   \nmax                10.000000            8.000000   50.049761   52.379962   \n\n                                    ...  rec_closer                          \\\npos_num                             ...         SS1                           \ntime_quart           3           4  ...           1           2           3   \ncount       989.000000  989.000000  ...  196.000000  196.000000  196.000000   \nmean         18.324789   19.829611  ...    0.901361    0.908163    0.928723   \nstd           4.451058    4.826043  ...    0.297029    0.289535    0.246905   \nmin           6.095995    7.549859  ...    0.000000    0.000000    0.000000   \n25%          15.238809   16.439621  ...    1.000000    1.000000    1.000000   \n50%          18.482889   19.895023  ...    1.000000    1.000000    1.000000   \n75%          21.658138   23.098626  ...    1.000000    1.000000    1.000000   \nmax          57.264347   60.509841  ...    1.000000    1.000000    1.000000   \n\n                                                                        \\\npos_num                                                                  \ntime_quart           4           5           6           7           8   \ncount       196.000000  196.000000  196.000000  196.000000  196.000000   \nmean          0.952199    0.953635    0.958610    0.959184    0.958546   \nstd           0.203441    0.202849    0.188134    0.198371    0.192056   \nmin           0.000000    0.000000    0.000000    0.000000    0.000000   \n25%           1.000000    1.000000    1.000000    1.000000    1.000000   \n50%           1.000000    1.000000    1.000000    1.000000    1.000000   \n75%           1.000000    1.000000    1.000000    1.000000    1.000000   \nmax           1.000000    1.000000    1.000000    1.000000    1.000000   \n\n                                    \npos_num                             \ntime_quart           9          10  \ncount       196.000000  196.000000  \nmean          0.954082    0.957908  \nstd           0.209844    0.198910  \nmin           0.000000    0.000000  \n25%           1.000000    1.000000  \n50%           1.000000    1.000000  \n75%           1.000000    1.000000  \nmax           1.000000    1.000000  \n\n[8 rows x 786 columns]",
      "text/html": "<div>\n<style scoped>\n    .dataframe tbody tr th:only-of-type {\n        vertical-align: middle;\n    }\n\n    .dataframe tbody tr th {\n        vertical-align: top;\n    }\n\n    .dataframe thead tr th {\n        text-align: left;\n    }\n</style>\n<table border=\"1\" class=\"dataframe\">\n  <thead>\n    <tr>\n      <th></th>\n      <th>gameId</th>\n      <th>playId</th>\n      <th>yardline_first_dir</th>\n      <th>yardline_100_dir</th>\n      <th>defendersInTheBox</th>\n      <th>numberOfPassRushers</th>\n      <th colspan=\"4\" halign=\"left\">dist_qb</th>\n      <th>...</th>\n      <th colspan=\"10\" halign=\"left\">rec_closer</th>\n    </tr>\n    <tr>\n      <th>pos_num</th>\n      <th></th>\n      <th></th>\n      <th></th>\n      <th></th>\n      <th></th>\n      <th></th>\n      <th colspan=\"4\" halign=\"left\">CB0</th>\n      <th>...</th>\n      <th colspan=\"10\" halign=\"left\">SS1</th>\n    </tr>\n    <tr>\n      <th>time_quart</th>\n      <th></th>\n      <th></th>\n      <th></th>\n      <th></th>\n      <th></th>\n      <th></th>\n      <th>1</th>\n      <th>2</th>\n      <th>3</th>\n      <th>4</th>\n      <th>...</th>\n      <th>1</th>\n      <th>2</th>\n      <th>3</th>\n      <th>4</th>\n      <th>5</th>\n      <th>6</th>\n      <th>7</th>\n      <th>8</th>\n      <th>9</th>\n      <th>10</th>\n    </tr>\n  </thead>\n  <tbody>\n    <tr>\n      <th>count</th>\n      <td>9.900000e+02</td>\n      <td>990.000000</td>\n      <td>990.000000</td>\n      <td>990.000000</td>\n      <td>990.000000</td>\n      <td>990.000000</td>\n      <td>989.000000</td>\n      <td>989.000000</td>\n      <td>989.000000</td>\n      <td>989.000000</td>\n      <td>...</td>\n      <td>196.000000</td>\n      <td>196.000000</td>\n      <td>196.000000</td>\n      <td>196.000000</td>\n      <td>196.000000</td>\n      <td>196.000000</td>\n      <td>196.000000</td>\n      <td>196.000000</td>\n      <td>196.000000</td>\n      <td>196.000000</td>\n    </tr>\n    <tr>\n      <th>mean</th>\n      <td>2.018091e+09</td>\n      <td>2245.342424</td>\n      <td>42.952525</td>\n      <td>51.997980</td>\n      <td>6.052525</td>\n      <td>4.151515</td>\n      <td>17.537768</td>\n      <td>17.663504</td>\n      <td>18.324789</td>\n      <td>19.829611</td>\n      <td>...</td>\n      <td>0.901361</td>\n      <td>0.908163</td>\n      <td>0.928723</td>\n      <td>0.952199</td>\n      <td>0.953635</td>\n      <td>0.958610</td>\n      <td>0.959184</td>\n      <td>0.958546</td>\n      <td>0.954082</td>\n      <td>0.957908</td>\n    </tr>\n    <tr>\n      <th>std</th>\n      <td>9.576537e+01</td>\n      <td>1281.510067</td>\n      <td>23.411446</td>\n      <td>24.095403</td>\n      <td>0.946105</td>\n      <td>0.813978</td>\n      <td>4.245403</td>\n      <td>4.296839</td>\n      <td>4.451058</td>\n      <td>4.826043</td>\n      <td>...</td>\n      <td>0.297029</td>\n      <td>0.289535</td>\n      <td>0.246905</td>\n      <td>0.203441</td>\n      <td>0.202849</td>\n      <td>0.188134</td>\n      <td>0.198371</td>\n      <td>0.192056</td>\n      <td>0.209844</td>\n      <td>0.198910</td>\n    </tr>\n    <tr>\n      <th>min</th>\n      <td>2.018091e+09</td>\n      <td>58.000000</td>\n      <td>0.000000</td>\n      <td>1.000000</td>\n      <td>2.000000</td>\n      <td>0.000000</td>\n      <td>4.981824</td>\n      <td>5.646585</td>\n      <td>6.095995</td>\n      <td>7.549859</td>\n      <td>...</td>\n      <td>0.000000</td>\n      <td>0.000000</td>\n      <td>0.000000</td>\n      <td>0.000000</td>\n      <td>0.000000</td>\n      <td>0.000000</td>\n      <td>0.000000</td>\n      <td>0.000000</td>\n      <td>0.000000</td>\n      <td>0.000000</td>\n    </tr>\n    <tr>\n      <th>25%</th>\n      <td>2.018091e+09</td>\n      <td>1147.250000</td>\n      <td>25.000000</td>\n      <td>34.000000</td>\n      <td>6.000000</td>\n      <td>4.000000</td>\n      <td>14.569150</td>\n      <td>14.678042</td>\n      <td>15.238809</td>\n      <td>16.439621</td>\n      <td>...</td>\n      <td>1.000000</td>\n      <td>1.000000</td>\n      <td>1.000000</td>\n      <td>1.000000</td>\n      <td>1.000000</td>\n      <td>1.000000</td>\n      <td>1.000000</td>\n      <td>1.000000</td>\n      <td>1.000000</td>\n      <td>1.000000</td>\n    </tr>\n    <tr>\n      <th>50%</th>\n      <td>2.018091e+09</td>\n      <td>2262.500000</td>\n      <td>47.000000</td>\n      <td>56.000000</td>\n      <td>6.000000</td>\n      <td>4.000000</td>\n      <td>17.587229</td>\n      <td>17.791337</td>\n      <td>18.482889</td>\n      <td>19.895023</td>\n      <td>...</td>\n      <td>1.000000</td>\n      <td>1.000000</td>\n      <td>1.000000</td>\n      <td>1.000000</td>\n      <td>1.000000</td>\n      <td>1.000000</td>\n      <td>1.000000</td>\n      <td>1.000000</td>\n      <td>1.000000</td>\n      <td>1.000000</td>\n    </tr>\n    <tr>\n      <th>75%</th>\n      <td>2.018091e+09</td>\n      <td>3297.750000</td>\n      <td>65.000000</td>\n      <td>72.000000</td>\n      <td>7.000000</td>\n      <td>4.000000</td>\n      <td>20.764126</td>\n      <td>20.862222</td>\n      <td>21.658138</td>\n      <td>23.098626</td>\n      <td>...</td>\n      <td>1.000000</td>\n      <td>1.000000</td>\n      <td>1.000000</td>\n      <td>1.000000</td>\n      <td>1.000000</td>\n      <td>1.000000</td>\n      <td>1.000000</td>\n      <td>1.000000</td>\n      <td>1.000000</td>\n      <td>1.000000</td>\n    </tr>\n    <tr>\n      <th>max</th>\n      <td>2.018091e+09</td>\n      <td>5511.000000</td>\n      <td>89.000000</td>\n      <td>99.000000</td>\n      <td>10.000000</td>\n      <td>8.000000</td>\n      <td>50.049761</td>\n      <td>52.379962</td>\n      <td>57.264347</td>\n      <td>60.509841</td>\n      <td>...</td>\n      <td>1.000000</td>\n      <td>1.000000</td>\n      <td>1.000000</td>\n      <td>1.000000</td>\n      <td>1.000000</td>\n      <td>1.000000</td>\n      <td>1.000000</td>\n      <td>1.000000</td>\n      <td>1.000000</td>\n      <td>1.000000</td>\n    </tr>\n  </tbody>\n</table>\n<p>8 rows × 786 columns</p>\n</div>"
     },
     "execution_count": 62,
     "metadata": {},
     "output_type": "execute_result"
    }
   ],
   "source": [
    "# All of the index columns are full and do not have null values. Need to fill the null values in\n",
    "# receiver columns with fill value.\n",
    "week_def_pivot.describe()"
   ],
   "metadata": {
    "collapsed": false,
    "pycharm": {
     "name": "#%%\n"
    }
   }
  },
  {
   "cell_type": "code",
   "execution_count": null,
   "outputs": [],
   "source": [],
   "metadata": {
    "collapsed": false,
    "pycharm": {
     "name": "#%%\n"
    }
   }
  }
 ],
 "metadata": {
  "kernelspec": {
   "display_name": "Python 3",
   "language": "python",
   "name": "python3"
  },
  "language_info": {
   "codemirror_mode": {
    "name": "ipython",
    "version": 2
   },
   "file_extension": ".py",
   "mimetype": "text/x-python",
   "name": "python",
   "nbconvert_exporter": "python",
   "pygments_lexer": "ipython2",
   "version": "2.7.6"
  }
 },
 "nbformat": 4,
 "nbformat_minor": 0
}