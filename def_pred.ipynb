{
 "cells": [
  {
   "cell_type": "code",
   "execution_count": 5,
   "metadata": {
    "collapsed": true
   },
   "outputs": [],
   "source": [
    "week_fp_base = 'nfl-big-data-bowl-2021/week{}.csv'\n",
    "week_fp = week_fp_base.format(1)\n",
    "play_fp = 'nfl-big-data-bowl-2021/plays.csv'"
   ]
  },
  {
   "cell_type": "code",
   "execution_count": 6,
   "outputs": [],
   "source": [
    "import pandas as pd\n",
    "import numpy as np\n",
    "\n",
    "week_data = pd.read_csv(week_fp)"
   ],
   "metadata": {
    "collapsed": false,
    "pycharm": {
     "name": "#%%\n"
    }
   }
  },
  {
   "cell_type": "code",
   "execution_count": 7,
   "outputs": [
    {
     "data": {
      "text/plain": "                       time      x      y     s     a   dis       o     dir  \\\n0  2018-09-07T01:07:14.599Z  91.73  26.67  0.00  0.01  0.02  289.57  240.93   \n1  2018-09-07T01:07:14.599Z  88.89  36.47  0.01  0.01  0.01  105.63   66.66   \n2  2018-09-07T01:07:14.599Z  91.35  44.16  0.02  0.03  0.01  290.45   16.86   \n3  2018-09-07T01:07:14.599Z  86.31  22.01  0.09  0.42  0.01   70.12  168.91   \n4  2018-09-07T01:07:14.599Z  90.78  36.15  0.00  0.00  0.00  257.61  193.97   \n\n  event      nflId      displayName  jerseyNumber position  frameId  team  \\\n0  None      310.0        Matt Ryan           2.0       QB        1  away   \n1  None    79848.0  Malcolm Jenkins          27.0       SS        1  home   \n2  None  2495454.0      Julio Jones          11.0       WR        1  away   \n3  None  2495613.0     Corey Graham          24.0       FS        1  home   \n4  None  2533040.0     Mohamed Sanu          12.0       WR        1  away   \n\n       gameId  playId playDirection  route  \n0  2018090600      75          left    NaN  \n1  2018090600      75          left    NaN  \n2  2018090600      75          left  HITCH  \n3  2018090600      75          left    NaN  \n4  2018090600      75          left  HITCH  ",
      "text/html": "<div>\n<style scoped>\n    .dataframe tbody tr th:only-of-type {\n        vertical-align: middle;\n    }\n\n    .dataframe tbody tr th {\n        vertical-align: top;\n    }\n\n    .dataframe thead th {\n        text-align: right;\n    }\n</style>\n<table border=\"1\" class=\"dataframe\">\n  <thead>\n    <tr style=\"text-align: right;\">\n      <th></th>\n      <th>time</th>\n      <th>x</th>\n      <th>y</th>\n      <th>s</th>\n      <th>a</th>\n      <th>dis</th>\n      <th>o</th>\n      <th>dir</th>\n      <th>event</th>\n      <th>nflId</th>\n      <th>displayName</th>\n      <th>jerseyNumber</th>\n      <th>position</th>\n      <th>frameId</th>\n      <th>team</th>\n      <th>gameId</th>\n      <th>playId</th>\n      <th>playDirection</th>\n      <th>route</th>\n    </tr>\n  </thead>\n  <tbody>\n    <tr>\n      <th>0</th>\n      <td>2018-09-07T01:07:14.599Z</td>\n      <td>91.73</td>\n      <td>26.67</td>\n      <td>0.00</td>\n      <td>0.01</td>\n      <td>0.02</td>\n      <td>289.57</td>\n      <td>240.93</td>\n      <td>None</td>\n      <td>310.0</td>\n      <td>Matt Ryan</td>\n      <td>2.0</td>\n      <td>QB</td>\n      <td>1</td>\n      <td>away</td>\n      <td>2018090600</td>\n      <td>75</td>\n      <td>left</td>\n      <td>NaN</td>\n    </tr>\n    <tr>\n      <th>1</th>\n      <td>2018-09-07T01:07:14.599Z</td>\n      <td>88.89</td>\n      <td>36.47</td>\n      <td>0.01</td>\n      <td>0.01</td>\n      <td>0.01</td>\n      <td>105.63</td>\n      <td>66.66</td>\n      <td>None</td>\n      <td>79848.0</td>\n      <td>Malcolm Jenkins</td>\n      <td>27.0</td>\n      <td>SS</td>\n      <td>1</td>\n      <td>home</td>\n      <td>2018090600</td>\n      <td>75</td>\n      <td>left</td>\n      <td>NaN</td>\n    </tr>\n    <tr>\n      <th>2</th>\n      <td>2018-09-07T01:07:14.599Z</td>\n      <td>91.35</td>\n      <td>44.16</td>\n      <td>0.02</td>\n      <td>0.03</td>\n      <td>0.01</td>\n      <td>290.45</td>\n      <td>16.86</td>\n      <td>None</td>\n      <td>2495454.0</td>\n      <td>Julio Jones</td>\n      <td>11.0</td>\n      <td>WR</td>\n      <td>1</td>\n      <td>away</td>\n      <td>2018090600</td>\n      <td>75</td>\n      <td>left</td>\n      <td>HITCH</td>\n    </tr>\n    <tr>\n      <th>3</th>\n      <td>2018-09-07T01:07:14.599Z</td>\n      <td>86.31</td>\n      <td>22.01</td>\n      <td>0.09</td>\n      <td>0.42</td>\n      <td>0.01</td>\n      <td>70.12</td>\n      <td>168.91</td>\n      <td>None</td>\n      <td>2495613.0</td>\n      <td>Corey Graham</td>\n      <td>24.0</td>\n      <td>FS</td>\n      <td>1</td>\n      <td>home</td>\n      <td>2018090600</td>\n      <td>75</td>\n      <td>left</td>\n      <td>NaN</td>\n    </tr>\n    <tr>\n      <th>4</th>\n      <td>2018-09-07T01:07:14.599Z</td>\n      <td>90.78</td>\n      <td>36.15</td>\n      <td>0.00</td>\n      <td>0.00</td>\n      <td>0.00</td>\n      <td>257.61</td>\n      <td>193.97</td>\n      <td>None</td>\n      <td>2533040.0</td>\n      <td>Mohamed Sanu</td>\n      <td>12.0</td>\n      <td>WR</td>\n      <td>1</td>\n      <td>away</td>\n      <td>2018090600</td>\n      <td>75</td>\n      <td>left</td>\n      <td>HITCH</td>\n    </tr>\n  </tbody>\n</table>\n</div>"
     },
     "execution_count": 7,
     "metadata": {},
     "output_type": "execute_result"
    }
   ],
   "source": [
    "week_data.head()"
   ],
   "metadata": {
    "collapsed": false,
    "pycharm": {
     "name": "#%%\n"
    }
   }
  },
  {
   "cell_type": "code",
   "execution_count": 8,
   "outputs": [
    {
     "data": {
      "text/plain": "                   x              y              s              a  \\\ncount  986022.000000  986022.000000  986022.000000  986022.000000   \nmean       58.975056      26.795439       3.187303       2.012526   \nstd        24.935961      11.204589       2.843484       1.689410   \nmin        -5.980000     -11.740000       0.000000       0.000000   \n25%        39.980000      19.000000       0.850000       0.740000   \n50%        59.100000      26.830000       2.790000       1.750000   \n75%        78.190000      34.710000       4.960000       2.940000   \nmax       128.380000      62.750000      27.370000      58.330000   \n\n                 dis              o            dir         nflId  \\\ncount  986022.000000  919109.000000  919109.000000  9.191090e+05   \nmean        0.323366     179.545196     181.238304  2.366598e+06   \nstd         0.307017     100.706586     102.965112  6.193264e+05   \nmin         0.000000       0.000000       0.000000  3.060000e+02   \n25%         0.090000      89.880000      91.520000  2.533040e+06   \n50%         0.280000     177.430000     181.410000  2.552255e+06   \n75%         0.500000     269.840000     271.350000  2.556480e+06   \nmax         7.120000     360.000000     360.000000  2.561485e+06   \n\n        jerseyNumber        frameId        gameId         playId  \ncount  919109.000000  986022.000000  9.860220e+05  986022.000000  \nmean       37.763714      35.450674  2.018091e+09    2268.306314  \nstd        24.977470      23.654286  9.381592e+01    1280.426499  \nmin         1.000000       1.000000  2.018091e+09      58.000000  \n25%        20.000000      17.000000  2.018091e+09    1199.000000  \n50%        29.000000      33.000000  2.018091e+09    2297.000000  \n75%        53.000000      50.000000  2.018091e+09    3315.000000  \nmax        99.000000     172.000000  2.018091e+09    5511.000000  ",
      "text/html": "<div>\n<style scoped>\n    .dataframe tbody tr th:only-of-type {\n        vertical-align: middle;\n    }\n\n    .dataframe tbody tr th {\n        vertical-align: top;\n    }\n\n    .dataframe thead th {\n        text-align: right;\n    }\n</style>\n<table border=\"1\" class=\"dataframe\">\n  <thead>\n    <tr style=\"text-align: right;\">\n      <th></th>\n      <th>x</th>\n      <th>y</th>\n      <th>s</th>\n      <th>a</th>\n      <th>dis</th>\n      <th>o</th>\n      <th>dir</th>\n      <th>nflId</th>\n      <th>jerseyNumber</th>\n      <th>frameId</th>\n      <th>gameId</th>\n      <th>playId</th>\n    </tr>\n  </thead>\n  <tbody>\n    <tr>\n      <th>count</th>\n      <td>986022.000000</td>\n      <td>986022.000000</td>\n      <td>986022.000000</td>\n      <td>986022.000000</td>\n      <td>986022.000000</td>\n      <td>919109.000000</td>\n      <td>919109.000000</td>\n      <td>9.191090e+05</td>\n      <td>919109.000000</td>\n      <td>986022.000000</td>\n      <td>9.860220e+05</td>\n      <td>986022.000000</td>\n    </tr>\n    <tr>\n      <th>mean</th>\n      <td>58.975056</td>\n      <td>26.795439</td>\n      <td>3.187303</td>\n      <td>2.012526</td>\n      <td>0.323366</td>\n      <td>179.545196</td>\n      <td>181.238304</td>\n      <td>2.366598e+06</td>\n      <td>37.763714</td>\n      <td>35.450674</td>\n      <td>2.018091e+09</td>\n      <td>2268.306314</td>\n    </tr>\n    <tr>\n      <th>std</th>\n      <td>24.935961</td>\n      <td>11.204589</td>\n      <td>2.843484</td>\n      <td>1.689410</td>\n      <td>0.307017</td>\n      <td>100.706586</td>\n      <td>102.965112</td>\n      <td>6.193264e+05</td>\n      <td>24.977470</td>\n      <td>23.654286</td>\n      <td>9.381592e+01</td>\n      <td>1280.426499</td>\n    </tr>\n    <tr>\n      <th>min</th>\n      <td>-5.980000</td>\n      <td>-11.740000</td>\n      <td>0.000000</td>\n      <td>0.000000</td>\n      <td>0.000000</td>\n      <td>0.000000</td>\n      <td>0.000000</td>\n      <td>3.060000e+02</td>\n      <td>1.000000</td>\n      <td>1.000000</td>\n      <td>2.018091e+09</td>\n      <td>58.000000</td>\n    </tr>\n    <tr>\n      <th>25%</th>\n      <td>39.980000</td>\n      <td>19.000000</td>\n      <td>0.850000</td>\n      <td>0.740000</td>\n      <td>0.090000</td>\n      <td>89.880000</td>\n      <td>91.520000</td>\n      <td>2.533040e+06</td>\n      <td>20.000000</td>\n      <td>17.000000</td>\n      <td>2.018091e+09</td>\n      <td>1199.000000</td>\n    </tr>\n    <tr>\n      <th>50%</th>\n      <td>59.100000</td>\n      <td>26.830000</td>\n      <td>2.790000</td>\n      <td>1.750000</td>\n      <td>0.280000</td>\n      <td>177.430000</td>\n      <td>181.410000</td>\n      <td>2.552255e+06</td>\n      <td>29.000000</td>\n      <td>33.000000</td>\n      <td>2.018091e+09</td>\n      <td>2297.000000</td>\n    </tr>\n    <tr>\n      <th>75%</th>\n      <td>78.190000</td>\n      <td>34.710000</td>\n      <td>4.960000</td>\n      <td>2.940000</td>\n      <td>0.500000</td>\n      <td>269.840000</td>\n      <td>271.350000</td>\n      <td>2.556480e+06</td>\n      <td>53.000000</td>\n      <td>50.000000</td>\n      <td>2.018091e+09</td>\n      <td>3315.000000</td>\n    </tr>\n    <tr>\n      <th>max</th>\n      <td>128.380000</td>\n      <td>62.750000</td>\n      <td>27.370000</td>\n      <td>58.330000</td>\n      <td>7.120000</td>\n      <td>360.000000</td>\n      <td>360.000000</td>\n      <td>2.561485e+06</td>\n      <td>99.000000</td>\n      <td>172.000000</td>\n      <td>2.018091e+09</td>\n      <td>5511.000000</td>\n    </tr>\n  </tbody>\n</table>\n</div>"
     },
     "execution_count": 8,
     "metadata": {},
     "output_type": "execute_result"
    }
   ],
   "source": [
    "week_data.describe()"
   ],
   "metadata": {
    "collapsed": false,
    "pycharm": {
     "name": "#%%\n"
    }
   }
  },
  {
   "cell_type": "code",
   "execution_count": 78,
   "outputs": [],
   "source": [
    "play_data = pd.read_csv(play_fp)"
   ],
   "metadata": {
    "collapsed": false,
    "pycharm": {
     "name": "#%%\n"
    }
   }
  },
  {
   "cell_type": "code",
   "execution_count": 79,
   "outputs": [],
   "source": [
    "play_data = play_data[play_data['absoluteYardlineNumber'].notnull()]"
   ],
   "metadata": {
    "collapsed": false,
    "pycharm": {
     "name": "#%%\n"
    }
   }
  },
  {
   "cell_type": "code",
   "execution_count": 80,
   "outputs": [
    {
     "data": {
      "text/plain": "Index(['gameId', 'playId', 'playDescription', 'quarter', 'down', 'yardsToGo',\n       'possessionTeam', 'playType', 'yardlineSide', 'yardlineNumber',\n       'offenseFormation', 'personnelO', 'defendersInTheBox',\n       'numberOfPassRushers', 'personnelD', 'typeDropback',\n       'preSnapVisitorScore', 'preSnapHomeScore', 'gameClock',\n       'absoluteYardlineNumber', 'penaltyCodes', 'penaltyJerseyNumbers',\n       'passResult', 'offensePlayResult', 'playResult', 'epa',\n       'isDefensivePI'],\n      dtype='object')"
     },
     "execution_count": 80,
     "metadata": {},
     "output_type": "execute_result"
    }
   ],
   "source": [
    "play_data.columns"
   ],
   "metadata": {
    "collapsed": false,
    "pycharm": {
     "name": "#%%\n"
    }
   }
  },
  {
   "cell_type": "code",
   "execution_count": 81,
   "outputs": [],
   "source": [
    "week_play = week_data.merge(play_data, on=['gameId', 'playId'])"
   ],
   "metadata": {
    "collapsed": false,
    "pycharm": {
     "name": "#%%\n"
    }
   }
  },
  {
   "cell_type": "code",
   "execution_count": 82,
   "outputs": [
    {
     "data": {
      "text/plain": "dtype('O')"
     },
     "execution_count": 82,
     "metadata": {},
     "output_type": "execute_result"
    }
   ],
   "source": [
    "week_play['time'].dtype"
   ],
   "metadata": {
    "collapsed": false,
    "pycharm": {
     "name": "#%%\n"
    }
   }
  },
  {
   "cell_type": "code",
   "execution_count": 83,
   "outputs": [],
   "source": [
    "week_play['time'] = pd.to_datetime(week_play['time'], format='%Y-%m-%dT%H:%M:%S')"
   ],
   "metadata": {
    "collapsed": false,
    "pycharm": {
     "name": "#%%\n"
    }
   }
  },
  {
   "cell_type": "code",
   "execution_count": 84,
   "outputs": [
    {
     "name": "stderr",
     "output_type": "stream",
     "text": [
      "/var/folders/6v/8jcf0jcn7_vfm2q2r4tz44gh0000gn/T/ipykernel_70234/3501257125.py:2: SettingWithCopyWarning: \n",
      "A value is trying to be set on a copy of a slice from a DataFrame\n",
      "\n",
      "See the caveats in the documentation: https://pandas.pydata.org/pandas-docs/stable/user_guide/indexing.html#returning-a-view-versus-a-copy\n",
      "  week_play['time_diff'][week_play['time_diff'].isnull()] = pd.Timedelta(0)\n"
     ]
    }
   ],
   "source": [
    "week_play['time_diff'] = week_play.groupby(['playId', 'gameId', 'displayName'])['time'].diff()\n",
    "week_play['time_diff'][week_play['time_diff'].isnull()] = pd.Timedelta(0)\n",
    "week_play['time_acc_s'] = week_play.groupby(['playId', 'gameId', 'displayName'])['time_diff'].transform(\n",
    "    lambda x: x.map(lambda x: x.microseconds).cumsum()).div(1e6)"
   ],
   "metadata": {
    "collapsed": false,
    "pycharm": {
     "name": "#%%\n"
    }
   }
  },
  {
   "cell_type": "code",
   "execution_count": 85,
   "outputs": [],
   "source": [
    "off_def = (week_play\n",
    "           .groupby(['gameId', 'playId', 'team'])['position']\n",
    "           .apply(lambda x: 'QB' in x.unique() or 'WR' in x.unique())\n",
    "           .reset_index()\n",
    "           .rename({'position': 'off'}, axis=1)\n",
    "           )\n",
    "week_off_def = week_play.merge(off_def, on=['gameId', 'playId', 'team'])"
   ],
   "metadata": {
    "collapsed": false,
    "pycharm": {
     "name": "#%%\n"
    }
   }
  },
  {
   "cell_type": "code",
   "execution_count": 86,
   "outputs": [],
   "source": [
    "week_non_foot = week_off_def[week_off_def['displayName'] != 'Football']"
   ],
   "metadata": {
    "collapsed": false,
    "pycharm": {
     "name": "#%%\n"
    }
   }
  },
  {
   "cell_type": "code",
   "execution_count": 87,
   "outputs": [
    {
     "name": "stderr",
     "output_type": "stream",
     "text": [
      "/var/folders/6v/8jcf0jcn7_vfm2q2r4tz44gh0000gn/T/ipykernel_70234/863904743.py:1: SettingWithCopyWarning: \n",
      "A value is trying to be set on a copy of a slice from a DataFrame.\n",
      "Try using .loc[row_indexer,col_indexer] = value instead\n",
      "\n",
      "See the caveats in the documentation: https://pandas.pydata.org/pandas-docs/stable/user_guide/indexing.html#returning-a-view-versus-a-copy\n",
      "  week_non_foot['x_starting'] = week_non_foot.groupby(['gameId', 'playId', 'nflId'])['x'].transform(lambda x: x.iloc[0])\n"
     ]
    }
   ],
   "source": [
    "week_non_foot['x_starting'] = week_non_foot.groupby(['gameId', 'playId', 'nflId'])['x'].transform(lambda x: x.iloc[0])"
   ],
   "metadata": {
    "collapsed": false,
    "pycharm": {
     "name": "#%%\n"
    }
   }
  },
  {
   "cell_type": "code",
   "execution_count": 88,
   "outputs": [
    {
     "name": "stderr",
     "output_type": "stream",
     "text": [
      "/var/folders/6v/8jcf0jcn7_vfm2q2r4tz44gh0000gn/T/ipykernel_70234/1564298947.py:1: SettingWithCopyWarning: \n",
      "A value is trying to be set on a copy of a slice from a DataFrame.\n",
      "Try using .loc[row_indexer,col_indexer] = value instead\n",
      "\n",
      "See the caveats in the documentation: https://pandas.pydata.org/pandas-docs/stable/user_guide/indexing.html#returning-a-view-versus-a-copy\n",
      "  week_non_foot['y_starting'] = week_non_foot.groupby(['gameId', 'playId', 'nflId'])['y'].transform(lambda x: x.iloc[0])\n"
     ]
    }
   ],
   "source": [
    "week_non_foot['y_starting'] = week_non_foot.groupby(['gameId', 'playId', 'nflId'])['y'].transform(lambda x: x.iloc[0])"
   ],
   "metadata": {
    "collapsed": false,
    "pycharm": {
     "name": "#%%\n"
    }
   }
  },
  {
   "cell_type": "code",
   "execution_count": 89,
   "outputs": [
    {
     "name": "stderr",
     "output_type": "stream",
     "text": [
      "/var/folders/6v/8jcf0jcn7_vfm2q2r4tz44gh0000gn/T/ipykernel_70234/1130439287.py:1: SettingWithCopyWarning: \n",
      "A value is trying to be set on a copy of a slice from a DataFrame.\n",
      "Try using .loc[row_indexer,col_indexer] = value instead\n",
      "\n",
      "See the caveats in the documentation: https://pandas.pydata.org/pandas-docs/stable/user_guide/indexing.html#returning-a-view-versus-a-copy\n",
      "  week_non_foot['yardline_100'] = week_non_foot['absoluteYardlineNumber'].sub(10)\n"
     ]
    }
   ],
   "source": [
    "week_non_foot['yardline_100'] = week_non_foot['absoluteYardlineNumber'].sub(10)"
   ],
   "metadata": {
    "collapsed": false,
    "pycharm": {
     "name": "#%%\n"
    }
   }
  },
  {
   "cell_type": "code",
   "execution_count": 90,
   "outputs": [],
   "source": [
    "week_off = week_non_foot[week_non_foot['off']].groupby(['gameId', 'playId'])[[\n",
    "    'x_starting', 'yardline_100', 'absoluteYardlineNumber', 'yardsToGo']].first().reset_index()\n",
    "week_off['yardline_first'] = np.where(week_off['x_starting'].gt(week_off['absoluteYardlineNumber']),\n",
    "         week_off['yardline_100'].sub(week_off['yardsToGo']),\n",
    "         week_off['yardline_100'].add(week_off['yardsToGo']))"
   ],
   "metadata": {
    "collapsed": false,
    "pycharm": {
     "name": "#%%\n"
    }
   }
  },
  {
   "cell_type": "code",
   "execution_count": 91,
   "outputs": [
    {
     "data": {
      "text/plain": "             gameId       playId  x_starting  yardline_100  \\\ncount  9.900000e+02   990.000000  990.000000    990.000000   \nmean   2.018091e+09  2245.342424   59.209495     49.157576   \nstd    9.576537e+01  1281.510067   24.746130     24.163486   \nmin    2.018091e+09    58.000000    5.790000      1.000000   \n25%    2.018091e+09  1147.250000   36.435000     28.250000   \n50%    2.018091e+09  2262.500000   58.255000     48.000000   \n75%    2.018091e+09  3297.750000   81.217500     70.000000   \nmax    2.018091e+09  5511.000000  110.430000     99.000000   \n\n       absoluteYardlineNumber   yardsToGo  yardline_first  \ncount              990.000000  990.000000      990.000000  \nmean                59.157576    9.045455       48.827273  \nstd                 24.163486    4.186134       24.416248  \nmin                 11.000000    1.000000        0.000000  \n25%                 38.250000    7.000000       34.000000  \n50%                 58.000000   10.000000       49.000000  \n75%                 80.000000   10.000000       65.000000  \nmax                109.000000   30.000000      100.000000  ",
      "text/html": "<div>\n<style scoped>\n    .dataframe tbody tr th:only-of-type {\n        vertical-align: middle;\n    }\n\n    .dataframe tbody tr th {\n        vertical-align: top;\n    }\n\n    .dataframe thead th {\n        text-align: right;\n    }\n</style>\n<table border=\"1\" class=\"dataframe\">\n  <thead>\n    <tr style=\"text-align: right;\">\n      <th></th>\n      <th>gameId</th>\n      <th>playId</th>\n      <th>x_starting</th>\n      <th>yardline_100</th>\n      <th>absoluteYardlineNumber</th>\n      <th>yardsToGo</th>\n      <th>yardline_first</th>\n    </tr>\n  </thead>\n  <tbody>\n    <tr>\n      <th>count</th>\n      <td>9.900000e+02</td>\n      <td>990.000000</td>\n      <td>990.000000</td>\n      <td>990.000000</td>\n      <td>990.000000</td>\n      <td>990.000000</td>\n      <td>990.000000</td>\n    </tr>\n    <tr>\n      <th>mean</th>\n      <td>2.018091e+09</td>\n      <td>2245.342424</td>\n      <td>59.209495</td>\n      <td>49.157576</td>\n      <td>59.157576</td>\n      <td>9.045455</td>\n      <td>48.827273</td>\n    </tr>\n    <tr>\n      <th>std</th>\n      <td>9.576537e+01</td>\n      <td>1281.510067</td>\n      <td>24.746130</td>\n      <td>24.163486</td>\n      <td>24.163486</td>\n      <td>4.186134</td>\n      <td>24.416248</td>\n    </tr>\n    <tr>\n      <th>min</th>\n      <td>2.018091e+09</td>\n      <td>58.000000</td>\n      <td>5.790000</td>\n      <td>1.000000</td>\n      <td>11.000000</td>\n      <td>1.000000</td>\n      <td>0.000000</td>\n    </tr>\n    <tr>\n      <th>25%</th>\n      <td>2.018091e+09</td>\n      <td>1147.250000</td>\n      <td>36.435000</td>\n      <td>28.250000</td>\n      <td>38.250000</td>\n      <td>7.000000</td>\n      <td>34.000000</td>\n    </tr>\n    <tr>\n      <th>50%</th>\n      <td>2.018091e+09</td>\n      <td>2262.500000</td>\n      <td>58.255000</td>\n      <td>48.000000</td>\n      <td>58.000000</td>\n      <td>10.000000</td>\n      <td>49.000000</td>\n    </tr>\n    <tr>\n      <th>75%</th>\n      <td>2.018091e+09</td>\n      <td>3297.750000</td>\n      <td>81.217500</td>\n      <td>70.000000</td>\n      <td>80.000000</td>\n      <td>10.000000</td>\n      <td>65.000000</td>\n    </tr>\n    <tr>\n      <th>max</th>\n      <td>2.018091e+09</td>\n      <td>5511.000000</td>\n      <td>110.430000</td>\n      <td>99.000000</td>\n      <td>109.000000</td>\n      <td>30.000000</td>\n      <td>100.000000</td>\n    </tr>\n  </tbody>\n</table>\n</div>"
     },
     "execution_count": 91,
     "metadata": {},
     "output_type": "execute_result"
    }
   ],
   "source": [
    "week_off.describe()"
   ],
   "metadata": {
    "collapsed": false,
    "pycharm": {
     "name": "#%%\n"
    }
   }
  },
  {
   "cell_type": "code",
   "execution_count": 92,
   "outputs": [
    {
     "data": {
      "text/plain": "Empty DataFrame\nColumns: [gameId, playId, x_starting, yardline_100, absoluteYardlineNumber, yardsToGo, yardline_first]\nIndex: []",
      "text/html": "<div>\n<style scoped>\n    .dataframe tbody tr th:only-of-type {\n        vertical-align: middle;\n    }\n\n    .dataframe tbody tr th {\n        vertical-align: top;\n    }\n\n    .dataframe thead th {\n        text-align: right;\n    }\n</style>\n<table border=\"1\" class=\"dataframe\">\n  <thead>\n    <tr style=\"text-align: right;\">\n      <th></th>\n      <th>gameId</th>\n      <th>playId</th>\n      <th>x_starting</th>\n      <th>yardline_100</th>\n      <th>absoluteYardlineNumber</th>\n      <th>yardsToGo</th>\n      <th>yardline_first</th>\n    </tr>\n  </thead>\n  <tbody>\n  </tbody>\n</table>\n</div>"
     },
     "execution_count": 92,
     "metadata": {},
     "output_type": "execute_result"
    }
   ],
   "source": [
    "week_off[week_off['absoluteYardlineNumber'].isnull()]"
   ],
   "metadata": {
    "collapsed": false,
    "pycharm": {
     "name": "#%%\n"
    }
   }
  },
  {
   "cell_type": "code",
   "execution_count": 93,
   "outputs": [],
   "source": [
    "week_first = week_non_foot.merge(week_off[['gameId', 'playId', 'yardline_first']], on=['gameId', 'playId'])"
   ],
   "metadata": {
    "collapsed": false,
    "pycharm": {
     "name": "#%%\n"
    }
   }
  },
  {
   "cell_type": "code",
   "execution_count": 94,
   "outputs": [
    {
     "data": {
      "text/plain": "                                   time      x      y     s     a   dis  \\\n0      2018-09-07 01:07:14.599000+00:00  91.73  26.67  0.00  0.01  0.02   \n1      2018-09-07 01:07:14.599000+00:00  91.35  44.16  0.02  0.03  0.01   \n2      2018-09-07 01:07:14.599000+00:00  90.78  36.15  0.00  0.00  0.00   \n3      2018-09-07 01:07:14.599000+00:00  98.25  26.63  0.01  0.01  0.00   \n4      2018-09-07 01:07:14.599000+00:00  91.29  21.83  0.01  0.02  0.01   \n...                                 ...    ...    ...   ...   ...   ...   \n879415 2018-09-11 05:29:39.900000+00:00  25.02  36.59  4.65  1.28  0.47   \n879416 2018-09-11 05:29:39.900000+00:00  23.66  20.13  2.63  2.49  0.27   \n879417 2018-09-11 05:29:39.900000+00:00  33.68  43.14  1.96  3.79  0.22   \n879418 2018-09-11 05:29:39.900000+00:00  36.02  40.21  0.81  1.52  0.09   \n879419 2018-09-11 05:29:39.900000+00:00  34.13  40.86  0.15  0.72  0.02   \n\n             o     dir event      nflId  ... playResult       epa  \\\n0       289.57  240.93  None      310.0  ...         10  0.261827   \n1       290.45   16.86  None  2495454.0  ...         10  0.261827   \n2       257.61  193.97  None  2533040.0  ...         10  0.261827   \n3       265.88  194.51  None  2543583.0  ...         10  0.261827   \n4       250.34  151.83  None  2555415.0  ...         10  0.261827   \n...        ...     ...   ...        ...  ...        ...       ...   \n879415   49.06   12.98  None  2543492.0  ...          8 -2.418280   \n879416   24.32   12.77  None  2552488.0  ...          8 -2.418280   \n879417  281.35  309.70  None  2556277.0  ...          8 -2.418280   \n879418  308.07  234.06  None  2556593.0  ...          8 -2.418280   \n879419    6.17  267.87  None  2558183.0  ...          8 -2.418280   \n\n       isDefensivePI              time_diff time_acc_s    off  x_starting  \\\n0              False        0 days 00:00:00        0.0   True       91.73   \n1              False        0 days 00:00:00        0.0   True       91.35   \n2              False        0 days 00:00:00        0.0   True       90.78   \n3              False        0 days 00:00:00        0.0   True       98.25   \n4              False        0 days 00:00:00        0.0   True       91.29   \n...              ...                    ...        ...    ...         ...   \n879415         False 0 days 00:00:00.101000        6.4  False       23.73   \n879416         False 0 days 00:00:00.101000        6.4  False       29.43   \n879417         False 0 days 00:00:00.101000        6.4  False       35.90   \n879418         False 0 days 00:00:00.101000        6.4  False       36.93   \n879419         False 0 days 00:00:00.101000        6.4  False       29.08   \n\n       y_starting yardline_100 yardline_first  \n0           26.67         80.0           65.0  \n1           44.16         80.0           65.0  \n2           36.15         80.0           65.0  \n3           26.63         80.0           65.0  \n4           21.83         80.0           65.0  \n...           ...          ...            ...  \n879415      18.80         31.0           29.0  \n879416       7.64         31.0           29.0  \n879417      24.39         31.0           29.0  \n879418      36.39         31.0           29.0  \n879419      35.13         31.0           29.0  \n\n[879420 rows x 51 columns]",
      "text/html": "<div>\n<style scoped>\n    .dataframe tbody tr th:only-of-type {\n        vertical-align: middle;\n    }\n\n    .dataframe tbody tr th {\n        vertical-align: top;\n    }\n\n    .dataframe thead th {\n        text-align: right;\n    }\n</style>\n<table border=\"1\" class=\"dataframe\">\n  <thead>\n    <tr style=\"text-align: right;\">\n      <th></th>\n      <th>time</th>\n      <th>x</th>\n      <th>y</th>\n      <th>s</th>\n      <th>a</th>\n      <th>dis</th>\n      <th>o</th>\n      <th>dir</th>\n      <th>event</th>\n      <th>nflId</th>\n      <th>...</th>\n      <th>playResult</th>\n      <th>epa</th>\n      <th>isDefensivePI</th>\n      <th>time_diff</th>\n      <th>time_acc_s</th>\n      <th>off</th>\n      <th>x_starting</th>\n      <th>y_starting</th>\n      <th>yardline_100</th>\n      <th>yardline_first</th>\n    </tr>\n  </thead>\n  <tbody>\n    <tr>\n      <th>0</th>\n      <td>2018-09-07 01:07:14.599000+00:00</td>\n      <td>91.73</td>\n      <td>26.67</td>\n      <td>0.00</td>\n      <td>0.01</td>\n      <td>0.02</td>\n      <td>289.57</td>\n      <td>240.93</td>\n      <td>None</td>\n      <td>310.0</td>\n      <td>...</td>\n      <td>10</td>\n      <td>0.261827</td>\n      <td>False</td>\n      <td>0 days 00:00:00</td>\n      <td>0.0</td>\n      <td>True</td>\n      <td>91.73</td>\n      <td>26.67</td>\n      <td>80.0</td>\n      <td>65.0</td>\n    </tr>\n    <tr>\n      <th>1</th>\n      <td>2018-09-07 01:07:14.599000+00:00</td>\n      <td>91.35</td>\n      <td>44.16</td>\n      <td>0.02</td>\n      <td>0.03</td>\n      <td>0.01</td>\n      <td>290.45</td>\n      <td>16.86</td>\n      <td>None</td>\n      <td>2495454.0</td>\n      <td>...</td>\n      <td>10</td>\n      <td>0.261827</td>\n      <td>False</td>\n      <td>0 days 00:00:00</td>\n      <td>0.0</td>\n      <td>True</td>\n      <td>91.35</td>\n      <td>44.16</td>\n      <td>80.0</td>\n      <td>65.0</td>\n    </tr>\n    <tr>\n      <th>2</th>\n      <td>2018-09-07 01:07:14.599000+00:00</td>\n      <td>90.78</td>\n      <td>36.15</td>\n      <td>0.00</td>\n      <td>0.00</td>\n      <td>0.00</td>\n      <td>257.61</td>\n      <td>193.97</td>\n      <td>None</td>\n      <td>2533040.0</td>\n      <td>...</td>\n      <td>10</td>\n      <td>0.261827</td>\n      <td>False</td>\n      <td>0 days 00:00:00</td>\n      <td>0.0</td>\n      <td>True</td>\n      <td>90.78</td>\n      <td>36.15</td>\n      <td>80.0</td>\n      <td>65.0</td>\n    </tr>\n    <tr>\n      <th>3</th>\n      <td>2018-09-07 01:07:14.599000+00:00</td>\n      <td>98.25</td>\n      <td>26.63</td>\n      <td>0.01</td>\n      <td>0.01</td>\n      <td>0.00</td>\n      <td>265.88</td>\n      <td>194.51</td>\n      <td>None</td>\n      <td>2543583.0</td>\n      <td>...</td>\n      <td>10</td>\n      <td>0.261827</td>\n      <td>False</td>\n      <td>0 days 00:00:00</td>\n      <td>0.0</td>\n      <td>True</td>\n      <td>98.25</td>\n      <td>26.63</td>\n      <td>80.0</td>\n      <td>65.0</td>\n    </tr>\n    <tr>\n      <th>4</th>\n      <td>2018-09-07 01:07:14.599000+00:00</td>\n      <td>91.29</td>\n      <td>21.83</td>\n      <td>0.01</td>\n      <td>0.02</td>\n      <td>0.01</td>\n      <td>250.34</td>\n      <td>151.83</td>\n      <td>None</td>\n      <td>2555415.0</td>\n      <td>...</td>\n      <td>10</td>\n      <td>0.261827</td>\n      <td>False</td>\n      <td>0 days 00:00:00</td>\n      <td>0.0</td>\n      <td>True</td>\n      <td>91.29</td>\n      <td>21.83</td>\n      <td>80.0</td>\n      <td>65.0</td>\n    </tr>\n    <tr>\n      <th>...</th>\n      <td>...</td>\n      <td>...</td>\n      <td>...</td>\n      <td>...</td>\n      <td>...</td>\n      <td>...</td>\n      <td>...</td>\n      <td>...</td>\n      <td>...</td>\n      <td>...</td>\n      <td>...</td>\n      <td>...</td>\n      <td>...</td>\n      <td>...</td>\n      <td>...</td>\n      <td>...</td>\n      <td>...</td>\n      <td>...</td>\n      <td>...</td>\n      <td>...</td>\n      <td>...</td>\n    </tr>\n    <tr>\n      <th>879415</th>\n      <td>2018-09-11 05:29:39.900000+00:00</td>\n      <td>25.02</td>\n      <td>36.59</td>\n      <td>4.65</td>\n      <td>1.28</td>\n      <td>0.47</td>\n      <td>49.06</td>\n      <td>12.98</td>\n      <td>None</td>\n      <td>2543492.0</td>\n      <td>...</td>\n      <td>8</td>\n      <td>-2.418280</td>\n      <td>False</td>\n      <td>0 days 00:00:00.101000</td>\n      <td>6.4</td>\n      <td>False</td>\n      <td>23.73</td>\n      <td>18.80</td>\n      <td>31.0</td>\n      <td>29.0</td>\n    </tr>\n    <tr>\n      <th>879416</th>\n      <td>2018-09-11 05:29:39.900000+00:00</td>\n      <td>23.66</td>\n      <td>20.13</td>\n      <td>2.63</td>\n      <td>2.49</td>\n      <td>0.27</td>\n      <td>24.32</td>\n      <td>12.77</td>\n      <td>None</td>\n      <td>2552488.0</td>\n      <td>...</td>\n      <td>8</td>\n      <td>-2.418280</td>\n      <td>False</td>\n      <td>0 days 00:00:00.101000</td>\n      <td>6.4</td>\n      <td>False</td>\n      <td>29.43</td>\n      <td>7.64</td>\n      <td>31.0</td>\n      <td>29.0</td>\n    </tr>\n    <tr>\n      <th>879417</th>\n      <td>2018-09-11 05:29:39.900000+00:00</td>\n      <td>33.68</td>\n      <td>43.14</td>\n      <td>1.96</td>\n      <td>3.79</td>\n      <td>0.22</td>\n      <td>281.35</td>\n      <td>309.70</td>\n      <td>None</td>\n      <td>2556277.0</td>\n      <td>...</td>\n      <td>8</td>\n      <td>-2.418280</td>\n      <td>False</td>\n      <td>0 days 00:00:00.101000</td>\n      <td>6.4</td>\n      <td>False</td>\n      <td>35.90</td>\n      <td>24.39</td>\n      <td>31.0</td>\n      <td>29.0</td>\n    </tr>\n    <tr>\n      <th>879418</th>\n      <td>2018-09-11 05:29:39.900000+00:00</td>\n      <td>36.02</td>\n      <td>40.21</td>\n      <td>0.81</td>\n      <td>1.52</td>\n      <td>0.09</td>\n      <td>308.07</td>\n      <td>234.06</td>\n      <td>None</td>\n      <td>2556593.0</td>\n      <td>...</td>\n      <td>8</td>\n      <td>-2.418280</td>\n      <td>False</td>\n      <td>0 days 00:00:00.101000</td>\n      <td>6.4</td>\n      <td>False</td>\n      <td>36.93</td>\n      <td>36.39</td>\n      <td>31.0</td>\n      <td>29.0</td>\n    </tr>\n    <tr>\n      <th>879419</th>\n      <td>2018-09-11 05:29:39.900000+00:00</td>\n      <td>34.13</td>\n      <td>40.86</td>\n      <td>0.15</td>\n      <td>0.72</td>\n      <td>0.02</td>\n      <td>6.17</td>\n      <td>267.87</td>\n      <td>None</td>\n      <td>2558183.0</td>\n      <td>...</td>\n      <td>8</td>\n      <td>-2.418280</td>\n      <td>False</td>\n      <td>0 days 00:00:00.101000</td>\n      <td>6.4</td>\n      <td>False</td>\n      <td>29.08</td>\n      <td>35.13</td>\n      <td>31.0</td>\n      <td>29.0</td>\n    </tr>\n  </tbody>\n</table>\n<p>879420 rows × 51 columns</p>\n</div>"
     },
     "execution_count": 94,
     "metadata": {},
     "output_type": "execute_result"
    }
   ],
   "source": [
    "week_first"
   ],
   "metadata": {
    "collapsed": false,
    "pycharm": {
     "name": "#%%\n"
    }
   }
  },
  {
   "cell_type": "code",
   "execution_count": null,
   "outputs": [],
   "source": [],
   "metadata": {
    "collapsed": false,
    "pycharm": {
     "name": "#%%\n"
    }
   }
  }
 ],
 "metadata": {
  "kernelspec": {
   "display_name": "Python 3",
   "language": "python",
   "name": "python3"
  },
  "language_info": {
   "codemirror_mode": {
    "name": "ipython",
    "version": 2
   },
   "file_extension": ".py",
   "mimetype": "text/x-python",
   "name": "python",
   "nbconvert_exporter": "python",
   "pygments_lexer": "ipython2",
   "version": "2.7.6"
  }
 },
 "nbformat": 4,
 "nbformat_minor": 0
}