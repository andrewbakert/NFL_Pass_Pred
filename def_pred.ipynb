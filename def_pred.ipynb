{
 "cells": [
  {
   "cell_type": "code",
   "execution_count": 1,
   "metadata": {
    "collapsed": false,
    "pycharm": {
     "name": "#%%\n"
    }
   },
   "outputs": [
    {
     "name": "stdout",
     "output_type": "stream",
     "text": [
      "\n",
      "This process will pip install Kaggle and download data through Kaggle API.\n",
      "\n",
      "Please confirm that you've downloaded Kaggle JSON credentials into directory\n",
      "\n",
      "Requirement already satisfied: kaggle in /opt/anaconda3/lib/python3.8/site-packages (1.5.12)\n",
      "Requirement already satisfied: python-slugify in /opt/anaconda3/lib/python3.8/site-packages (from kaggle) (5.0.2)\n",
      "Requirement already satisfied: urllib3 in /opt/anaconda3/lib/python3.8/site-packages (from kaggle) (1.26.8)\n",
      "Requirement already satisfied: tqdm in /opt/anaconda3/lib/python3.8/site-packages (from kaggle) (4.62.3)\n",
      "Requirement already satisfied: certifi in /opt/anaconda3/lib/python3.8/site-packages (from kaggle) (2021.10.8)\n",
      "Requirement already satisfied: six>=1.10 in /opt/anaconda3/lib/python3.8/site-packages (from kaggle) (1.16.0)\n",
      "Requirement already satisfied: requests in /opt/anaconda3/lib/python3.8/site-packages (from kaggle) (2.27.1)\n",
      "Requirement already satisfied: python-dateutil in /opt/anaconda3/lib/python3.8/site-packages (from kaggle) (2.8.2)\n",
      "Requirement already satisfied: text-unidecode>=1.3 in /opt/anaconda3/lib/python3.8/site-packages (from python-slugify->kaggle) (1.3)\n",
      "Requirement already satisfied: idna<4,>=2.5 in /opt/anaconda3/lib/python3.8/site-packages (from requests->kaggle) (3.3)\n",
      "Requirement already satisfied: charset-normalizer~=2.0.0 in /opt/anaconda3/lib/python3.8/site-packages (from requests->kaggle) (2.0.4)\n"
     ]
    },
    {
     "name": "stderr",
     "output_type": "stream",
     "text": [
      "WARNING: Error parsing requirements for altair-saver: [Errno 2] No such file or directory: '/opt/anaconda3/lib/python3.8/site-packages/altair_saver-0.5.0.dist-info/METADATA'\n"
     ]
    },
    {
     "name": "stdout",
     "output_type": "stream",
     "text": [
      "401 - Unauthorized\n",
      "Data Successfully Downloaded\n"
     ]
    }
   ],
   "source": [
    "import matplotlib.pyplot as plt\n",
    "import seaborn as sns\n",
    "import pandas as pd\n",
    "import numpy as np\n",
    "from get_data import get_assets, get_positional_data\n",
    "\n",
    "get_assets()"
   ]
  },
  {
   "cell_type": "code",
   "execution_count": 2,
   "metadata": {
    "collapsed": false,
    "pycharm": {
     "name": "#%%\n"
    }
   },
   "outputs": [],
   "source": [
    "week_data = pd.read_csv('Kaggle-Data-Files/week1.csv')"
   ]
  },
  {
   "cell_type": "code",
   "execution_count": 3,
   "metadata": {},
   "outputs": [
    {
     "data": {
      "text/plain": "                       time      x      y     s     a   dis       o     dir  \\\n0  2018-09-07T01:07:14.599Z  91.73  26.67  0.00  0.01  0.02  289.57  240.93   \n1  2018-09-07T01:07:14.599Z  88.89  36.47  0.01  0.01  0.01  105.63   66.66   \n2  2018-09-07T01:07:14.599Z  91.35  44.16  0.02  0.03  0.01  290.45   16.86   \n3  2018-09-07T01:07:14.599Z  86.31  22.01  0.09  0.42  0.01   70.12  168.91   \n4  2018-09-07T01:07:14.599Z  90.78  36.15  0.00  0.00  0.00  257.61  193.97   \n\n  event      nflId      displayName  jerseyNumber position  frameId  team  \\\n0  None      310.0        Matt Ryan           2.0       QB        1  away   \n1  None    79848.0  Malcolm Jenkins          27.0       SS        1  home   \n2  None  2495454.0      Julio Jones          11.0       WR        1  away   \n3  None  2495613.0     Corey Graham          24.0       FS        1  home   \n4  None  2533040.0     Mohamed Sanu          12.0       WR        1  away   \n\n       gameId  playId playDirection  route  \n0  2018090600      75          left    NaN  \n1  2018090600      75          left    NaN  \n2  2018090600      75          left  HITCH  \n3  2018090600      75          left    NaN  \n4  2018090600      75          left  HITCH  ",
      "text/html": "<div>\n<style scoped>\n    .dataframe tbody tr th:only-of-type {\n        vertical-align: middle;\n    }\n\n    .dataframe tbody tr th {\n        vertical-align: top;\n    }\n\n    .dataframe thead th {\n        text-align: right;\n    }\n</style>\n<table border=\"1\" class=\"dataframe\">\n  <thead>\n    <tr style=\"text-align: right;\">\n      <th></th>\n      <th>time</th>\n      <th>x</th>\n      <th>y</th>\n      <th>s</th>\n      <th>a</th>\n      <th>dis</th>\n      <th>o</th>\n      <th>dir</th>\n      <th>event</th>\n      <th>nflId</th>\n      <th>displayName</th>\n      <th>jerseyNumber</th>\n      <th>position</th>\n      <th>frameId</th>\n      <th>team</th>\n      <th>gameId</th>\n      <th>playId</th>\n      <th>playDirection</th>\n      <th>route</th>\n    </tr>\n  </thead>\n  <tbody>\n    <tr>\n      <th>0</th>\n      <td>2018-09-07T01:07:14.599Z</td>\n      <td>91.73</td>\n      <td>26.67</td>\n      <td>0.00</td>\n      <td>0.01</td>\n      <td>0.02</td>\n      <td>289.57</td>\n      <td>240.93</td>\n      <td>None</td>\n      <td>310.0</td>\n      <td>Matt Ryan</td>\n      <td>2.0</td>\n      <td>QB</td>\n      <td>1</td>\n      <td>away</td>\n      <td>2018090600</td>\n      <td>75</td>\n      <td>left</td>\n      <td>NaN</td>\n    </tr>\n    <tr>\n      <th>1</th>\n      <td>2018-09-07T01:07:14.599Z</td>\n      <td>88.89</td>\n      <td>36.47</td>\n      <td>0.01</td>\n      <td>0.01</td>\n      <td>0.01</td>\n      <td>105.63</td>\n      <td>66.66</td>\n      <td>None</td>\n      <td>79848.0</td>\n      <td>Malcolm Jenkins</td>\n      <td>27.0</td>\n      <td>SS</td>\n      <td>1</td>\n      <td>home</td>\n      <td>2018090600</td>\n      <td>75</td>\n      <td>left</td>\n      <td>NaN</td>\n    </tr>\n    <tr>\n      <th>2</th>\n      <td>2018-09-07T01:07:14.599Z</td>\n      <td>91.35</td>\n      <td>44.16</td>\n      <td>0.02</td>\n      <td>0.03</td>\n      <td>0.01</td>\n      <td>290.45</td>\n      <td>16.86</td>\n      <td>None</td>\n      <td>2495454.0</td>\n      <td>Julio Jones</td>\n      <td>11.0</td>\n      <td>WR</td>\n      <td>1</td>\n      <td>away</td>\n      <td>2018090600</td>\n      <td>75</td>\n      <td>left</td>\n      <td>HITCH</td>\n    </tr>\n    <tr>\n      <th>3</th>\n      <td>2018-09-07T01:07:14.599Z</td>\n      <td>86.31</td>\n      <td>22.01</td>\n      <td>0.09</td>\n      <td>0.42</td>\n      <td>0.01</td>\n      <td>70.12</td>\n      <td>168.91</td>\n      <td>None</td>\n      <td>2495613.0</td>\n      <td>Corey Graham</td>\n      <td>24.0</td>\n      <td>FS</td>\n      <td>1</td>\n      <td>home</td>\n      <td>2018090600</td>\n      <td>75</td>\n      <td>left</td>\n      <td>NaN</td>\n    </tr>\n    <tr>\n      <th>4</th>\n      <td>2018-09-07T01:07:14.599Z</td>\n      <td>90.78</td>\n      <td>36.15</td>\n      <td>0.00</td>\n      <td>0.00</td>\n      <td>0.00</td>\n      <td>257.61</td>\n      <td>193.97</td>\n      <td>None</td>\n      <td>2533040.0</td>\n      <td>Mohamed Sanu</td>\n      <td>12.0</td>\n      <td>WR</td>\n      <td>1</td>\n      <td>away</td>\n      <td>2018090600</td>\n      <td>75</td>\n      <td>left</td>\n      <td>HITCH</td>\n    </tr>\n  </tbody>\n</table>\n</div>"
     },
     "execution_count": 3,
     "metadata": {},
     "output_type": "execute_result"
    }
   ],
   "source": [
    "week_data.head()"
   ]
  },
  {
   "cell_type": "code",
   "execution_count": 4,
   "metadata": {
    "collapsed": false,
    "pycharm": {
     "name": "#%%\n"
    }
   },
   "outputs": [
    {
     "data": {
      "text/plain": "                   x              y              s              a  \\\ncount  986022.000000  986022.000000  986022.000000  986022.000000   \nmean       58.975056      26.795439       3.187303       2.012526   \nstd        24.935961      11.204589       2.843484       1.689410   \nmin        -5.980000     -11.740000       0.000000       0.000000   \n25%        39.980000      19.000000       0.850000       0.740000   \n50%        59.100000      26.830000       2.790000       1.750000   \n75%        78.190000      34.710000       4.960000       2.940000   \nmax       128.380000      62.750000      27.370000      58.330000   \n\n                 dis              o            dir         nflId  \\\ncount  986022.000000  919109.000000  919109.000000  9.191090e+05   \nmean        0.323366     179.545196     181.238304  2.366598e+06   \nstd         0.307017     100.706586     102.965112  6.193264e+05   \nmin         0.000000       0.000000       0.000000  3.060000e+02   \n25%         0.090000      89.880000      91.520000  2.533040e+06   \n50%         0.280000     177.430000     181.410000  2.552255e+06   \n75%         0.500000     269.840000     271.350000  2.556480e+06   \nmax         7.120000     360.000000     360.000000  2.561485e+06   \n\n        jerseyNumber        frameId        gameId         playId  \ncount  919109.000000  986022.000000  9.860220e+05  986022.000000  \nmean       37.763714      35.450674  2.018091e+09    2268.306314  \nstd        24.977470      23.654286  9.381592e+01    1280.426499  \nmin         1.000000       1.000000  2.018091e+09      58.000000  \n25%        20.000000      17.000000  2.018091e+09    1199.000000  \n50%        29.000000      33.000000  2.018091e+09    2297.000000  \n75%        53.000000      50.000000  2.018091e+09    3315.000000  \nmax        99.000000     172.000000  2.018091e+09    5511.000000  ",
      "text/html": "<div>\n<style scoped>\n    .dataframe tbody tr th:only-of-type {\n        vertical-align: middle;\n    }\n\n    .dataframe tbody tr th {\n        vertical-align: top;\n    }\n\n    .dataframe thead th {\n        text-align: right;\n    }\n</style>\n<table border=\"1\" class=\"dataframe\">\n  <thead>\n    <tr style=\"text-align: right;\">\n      <th></th>\n      <th>x</th>\n      <th>y</th>\n      <th>s</th>\n      <th>a</th>\n      <th>dis</th>\n      <th>o</th>\n      <th>dir</th>\n      <th>nflId</th>\n      <th>jerseyNumber</th>\n      <th>frameId</th>\n      <th>gameId</th>\n      <th>playId</th>\n    </tr>\n  </thead>\n  <tbody>\n    <tr>\n      <th>count</th>\n      <td>986022.000000</td>\n      <td>986022.000000</td>\n      <td>986022.000000</td>\n      <td>986022.000000</td>\n      <td>986022.000000</td>\n      <td>919109.000000</td>\n      <td>919109.000000</td>\n      <td>9.191090e+05</td>\n      <td>919109.000000</td>\n      <td>986022.000000</td>\n      <td>9.860220e+05</td>\n      <td>986022.000000</td>\n    </tr>\n    <tr>\n      <th>mean</th>\n      <td>58.975056</td>\n      <td>26.795439</td>\n      <td>3.187303</td>\n      <td>2.012526</td>\n      <td>0.323366</td>\n      <td>179.545196</td>\n      <td>181.238304</td>\n      <td>2.366598e+06</td>\n      <td>37.763714</td>\n      <td>35.450674</td>\n      <td>2.018091e+09</td>\n      <td>2268.306314</td>\n    </tr>\n    <tr>\n      <th>std</th>\n      <td>24.935961</td>\n      <td>11.204589</td>\n      <td>2.843484</td>\n      <td>1.689410</td>\n      <td>0.307017</td>\n      <td>100.706586</td>\n      <td>102.965112</td>\n      <td>6.193264e+05</td>\n      <td>24.977470</td>\n      <td>23.654286</td>\n      <td>9.381592e+01</td>\n      <td>1280.426499</td>\n    </tr>\n    <tr>\n      <th>min</th>\n      <td>-5.980000</td>\n      <td>-11.740000</td>\n      <td>0.000000</td>\n      <td>0.000000</td>\n      <td>0.000000</td>\n      <td>0.000000</td>\n      <td>0.000000</td>\n      <td>3.060000e+02</td>\n      <td>1.000000</td>\n      <td>1.000000</td>\n      <td>2.018091e+09</td>\n      <td>58.000000</td>\n    </tr>\n    <tr>\n      <th>25%</th>\n      <td>39.980000</td>\n      <td>19.000000</td>\n      <td>0.850000</td>\n      <td>0.740000</td>\n      <td>0.090000</td>\n      <td>89.880000</td>\n      <td>91.520000</td>\n      <td>2.533040e+06</td>\n      <td>20.000000</td>\n      <td>17.000000</td>\n      <td>2.018091e+09</td>\n      <td>1199.000000</td>\n    </tr>\n    <tr>\n      <th>50%</th>\n      <td>59.100000</td>\n      <td>26.830000</td>\n      <td>2.790000</td>\n      <td>1.750000</td>\n      <td>0.280000</td>\n      <td>177.430000</td>\n      <td>181.410000</td>\n      <td>2.552255e+06</td>\n      <td>29.000000</td>\n      <td>33.000000</td>\n      <td>2.018091e+09</td>\n      <td>2297.000000</td>\n    </tr>\n    <tr>\n      <th>75%</th>\n      <td>78.190000</td>\n      <td>34.710000</td>\n      <td>4.960000</td>\n      <td>2.940000</td>\n      <td>0.500000</td>\n      <td>269.840000</td>\n      <td>271.350000</td>\n      <td>2.556480e+06</td>\n      <td>53.000000</td>\n      <td>50.000000</td>\n      <td>2.018091e+09</td>\n      <td>3315.000000</td>\n    </tr>\n    <tr>\n      <th>max</th>\n      <td>128.380000</td>\n      <td>62.750000</td>\n      <td>27.370000</td>\n      <td>58.330000</td>\n      <td>7.120000</td>\n      <td>360.000000</td>\n      <td>360.000000</td>\n      <td>2.561485e+06</td>\n      <td>99.000000</td>\n      <td>172.000000</td>\n      <td>2.018091e+09</td>\n      <td>5511.000000</td>\n    </tr>\n  </tbody>\n</table>\n</div>"
     },
     "execution_count": 4,
     "metadata": {},
     "output_type": "execute_result"
    }
   ],
   "source": [
    "# Check dataframe. There are some null values in nflId.\n",
    "week_data.describe()"
   ]
  },
  {
   "cell_type": "code",
   "execution_count": 5,
   "metadata": {
    "collapsed": false,
    "pycharm": {
     "name": "#%%\n"
    }
   },
   "outputs": [
    {
     "data": {
      "text/plain": "array(['Football'], dtype=object)"
     },
     "execution_count": 5,
     "metadata": {},
     "output_type": "execute_result"
    }
   ],
   "source": [
    "# The null nflId column values are from the movements of the football.\n",
    "# This will be filtered later in the notebook.\n",
    "week_data[week_data['nflId'].isnull()]['displayName'].unique()"
   ]
  },
  {
   "cell_type": "code",
   "execution_count": 6,
   "outputs": [
    {
     "name": "stderr",
     "output_type": "stream",
     "text": [
      "/var/folders/6v/8jcf0jcn7_vfm2q2r4tz44gh0000gn/T/ipykernel_23776/3547909090.py:3: SettingWithCopyWarning: \n",
      "A value is trying to be set on a copy of a slice from a DataFrame.\n",
      "Try using .loc[row_indexer,col_indexer] = value instead\n",
      "\n",
      "See the caveats in the documentation: https://pandas.pydata.org/pandas-docs/stable/user_guide/indexing.html#returning-a-view-versus-a-copy\n",
      "  football_data['time'] =  pd.to_datetime(football_data['time'], format='%Y-%m-%dT%H:%M:%S')\n"
     ]
    }
   ],
   "source": [
    "football_data = week_data[week_data['nflId'].isnull()]\n",
    "week_non_foot = week_data[week_data['nflId'].notnull()]\n",
    "football_data['time'] =  pd.to_datetime(football_data['time'], format='%Y-%m-%dT%H:%M:%S')"
   ],
   "metadata": {
    "collapsed": false,
    "pycharm": {
     "name": "#%%\n"
    }
   }
  },
  {
   "cell_type": "code",
   "execution_count": 7,
   "outputs": [],
   "source": [
    "# Find time that pass was thrown and merge with main df.\n",
    "pass_made = football_data[football_data['event'] == 'pass_forward'][['gameId', 'playId', 'time']].rename({'time': 'time_pass'}, axis=1)\n",
    "week_pass = week_non_foot.merge(pass_made, on=['gameId', 'playId'], how='left')\n",
    "\n",
    "# Convert time to datetime format.\n",
    "week_pass['time'] = pd.to_datetime(week_pass['time'], format='%Y-%m-%dT%H:%M:%S')\n",
    "\n",
    "# Find whether part of play was before pass.\n",
    "week_pass['before_pass'] = week_pass['time'].lt(week_pass['time_pass'])\n",
    "\n",
    "# Filter to include only part of play before pass.\n",
    "week_before_pass = week_pass[week_pass['before_pass']]"
   ],
   "metadata": {
    "collapsed": false,
    "pycharm": {
     "name": "#%%\n"
    }
   }
  },
  {
   "cell_type": "code",
   "execution_count": 8,
   "metadata": {
    "collapsed": false,
    "pycharm": {
     "name": "#%%\n"
    }
   },
   "outputs": [],
   "source": [
    "# Read play data.\n",
    "play_data = pd.read_csv('Kaggle-Data-Files/plays.csv')"
   ]
  },
  {
   "cell_type": "code",
   "execution_count": 9,
   "metadata": {
    "collapsed": false,
    "pycharm": {
     "name": "#%%\n"
    }
   },
   "outputs": [
    {
     "data": {
      "text/plain": "             gameId        playId       quarter          down     yardsToGo  \\\ncount  1.923900e+04  19239.000000  19239.000000  19239.000000  19239.000000   \nmean   2.018107e+09   2176.217319      2.591039      1.920318      8.923905   \nstd    1.148060e+04   1240.919041      1.123155      0.848819      3.974216   \nmin    2.018091e+09     50.000000      1.000000      1.000000      1.000000   \n25%    2.018100e+09   1125.000000      2.000000      1.000000      6.000000   \n50%    2.018110e+09   2166.000000      3.000000      2.000000     10.000000   \n75%    2.018120e+09   3203.500000      4.000000      3.000000     10.000000   \nmax    2.018123e+09   5661.000000      5.000000      4.000000     41.000000   \n\n       yardlineNumber  defendersInTheBox  numberOfPassRushers  \\\ncount    19239.000000       19177.000000         18606.000000   \nmean        29.860232           6.036189             4.216543   \nstd         12.444118           1.015547             0.897862   \nmin          1.000000           1.000000             0.000000   \n25%         21.500000           6.000000             4.000000   \n50%         30.000000           6.000000             4.000000   \n75%         40.000000           7.000000             5.000000   \nmax         50.000000          11.000000            10.000000   \n\n       preSnapVisitorScore  preSnapHomeScore  absoluteYardlineNumber  \\\ncount         18600.000000      18600.000000            18600.000000   \nmean             10.758333         12.465484               59.905753   \nstd               9.798115         10.552753               23.641588   \nmin               0.000000          0.000000               11.000000   \n25%               3.000000          3.000000               40.000000   \n50%               9.000000         10.000000               60.000000   \n75%              17.000000         20.000000               80.000000   \nmax              51.000000         54.000000              109.000000   \n\n       offensePlayResult    playResult           epa  \ncount       19239.000000  19239.000000  19239.000000  \nmean            6.279380      6.469047      0.020725  \nstd            10.184296     10.566605      1.580748  \nmin           -19.000000    -78.000000    -11.935951  \n25%             0.000000      0.000000     -0.745327  \n50%             4.000000      4.000000     -0.190540  \n75%            10.000000     11.000000      0.976822  \nmax            97.000000     97.000000      8.629316  ",
      "text/html": "<div>\n<style scoped>\n    .dataframe tbody tr th:only-of-type {\n        vertical-align: middle;\n    }\n\n    .dataframe tbody tr th {\n        vertical-align: top;\n    }\n\n    .dataframe thead th {\n        text-align: right;\n    }\n</style>\n<table border=\"1\" class=\"dataframe\">\n  <thead>\n    <tr style=\"text-align: right;\">\n      <th></th>\n      <th>gameId</th>\n      <th>playId</th>\n      <th>quarter</th>\n      <th>down</th>\n      <th>yardsToGo</th>\n      <th>yardlineNumber</th>\n      <th>defendersInTheBox</th>\n      <th>numberOfPassRushers</th>\n      <th>preSnapVisitorScore</th>\n      <th>preSnapHomeScore</th>\n      <th>absoluteYardlineNumber</th>\n      <th>offensePlayResult</th>\n      <th>playResult</th>\n      <th>epa</th>\n    </tr>\n  </thead>\n  <tbody>\n    <tr>\n      <th>count</th>\n      <td>1.923900e+04</td>\n      <td>19239.000000</td>\n      <td>19239.000000</td>\n      <td>19239.000000</td>\n      <td>19239.000000</td>\n      <td>19239.000000</td>\n      <td>19177.000000</td>\n      <td>18606.000000</td>\n      <td>18600.000000</td>\n      <td>18600.000000</td>\n      <td>18600.000000</td>\n      <td>19239.000000</td>\n      <td>19239.000000</td>\n      <td>19239.000000</td>\n    </tr>\n    <tr>\n      <th>mean</th>\n      <td>2.018107e+09</td>\n      <td>2176.217319</td>\n      <td>2.591039</td>\n      <td>1.920318</td>\n      <td>8.923905</td>\n      <td>29.860232</td>\n      <td>6.036189</td>\n      <td>4.216543</td>\n      <td>10.758333</td>\n      <td>12.465484</td>\n      <td>59.905753</td>\n      <td>6.279380</td>\n      <td>6.469047</td>\n      <td>0.020725</td>\n    </tr>\n    <tr>\n      <th>std</th>\n      <td>1.148060e+04</td>\n      <td>1240.919041</td>\n      <td>1.123155</td>\n      <td>0.848819</td>\n      <td>3.974216</td>\n      <td>12.444118</td>\n      <td>1.015547</td>\n      <td>0.897862</td>\n      <td>9.798115</td>\n      <td>10.552753</td>\n      <td>23.641588</td>\n      <td>10.184296</td>\n      <td>10.566605</td>\n      <td>1.580748</td>\n    </tr>\n    <tr>\n      <th>min</th>\n      <td>2.018091e+09</td>\n      <td>50.000000</td>\n      <td>1.000000</td>\n      <td>1.000000</td>\n      <td>1.000000</td>\n      <td>1.000000</td>\n      <td>1.000000</td>\n      <td>0.000000</td>\n      <td>0.000000</td>\n      <td>0.000000</td>\n      <td>11.000000</td>\n      <td>-19.000000</td>\n      <td>-78.000000</td>\n      <td>-11.935951</td>\n    </tr>\n    <tr>\n      <th>25%</th>\n      <td>2.018100e+09</td>\n      <td>1125.000000</td>\n      <td>2.000000</td>\n      <td>1.000000</td>\n      <td>6.000000</td>\n      <td>21.500000</td>\n      <td>6.000000</td>\n      <td>4.000000</td>\n      <td>3.000000</td>\n      <td>3.000000</td>\n      <td>40.000000</td>\n      <td>0.000000</td>\n      <td>0.000000</td>\n      <td>-0.745327</td>\n    </tr>\n    <tr>\n      <th>50%</th>\n      <td>2.018110e+09</td>\n      <td>2166.000000</td>\n      <td>3.000000</td>\n      <td>2.000000</td>\n      <td>10.000000</td>\n      <td>30.000000</td>\n      <td>6.000000</td>\n      <td>4.000000</td>\n      <td>9.000000</td>\n      <td>10.000000</td>\n      <td>60.000000</td>\n      <td>4.000000</td>\n      <td>4.000000</td>\n      <td>-0.190540</td>\n    </tr>\n    <tr>\n      <th>75%</th>\n      <td>2.018120e+09</td>\n      <td>3203.500000</td>\n      <td>4.000000</td>\n      <td>3.000000</td>\n      <td>10.000000</td>\n      <td>40.000000</td>\n      <td>7.000000</td>\n      <td>5.000000</td>\n      <td>17.000000</td>\n      <td>20.000000</td>\n      <td>80.000000</td>\n      <td>10.000000</td>\n      <td>11.000000</td>\n      <td>0.976822</td>\n    </tr>\n    <tr>\n      <th>max</th>\n      <td>2.018123e+09</td>\n      <td>5661.000000</td>\n      <td>5.000000</td>\n      <td>4.000000</td>\n      <td>41.000000</td>\n      <td>50.000000</td>\n      <td>11.000000</td>\n      <td>10.000000</td>\n      <td>51.000000</td>\n      <td>54.000000</td>\n      <td>109.000000</td>\n      <td>97.000000</td>\n      <td>97.000000</td>\n      <td>8.629316</td>\n    </tr>\n  </tbody>\n</table>\n</div>"
     },
     "execution_count": 9,
     "metadata": {},
     "output_type": "execute_result"
    }
   ],
   "source": [
    "# Check for null values. Some yardline numbers are null.\n",
    "play_data.describe()"
   ]
  },
  {
   "cell_type": "code",
   "execution_count": 10,
   "metadata": {
    "collapsed": false,
    "pycharm": {
     "name": "#%%\n"
    }
   },
   "outputs": [],
   "source": [
    "# Filter to include non-null yardline numbers.\n",
    "play_data = play_data[play_data['absoluteYardlineNumber'].notnull()]"
   ]
  },
  {
   "cell_type": "code",
   "execution_count": 11,
   "metadata": {
    "collapsed": false,
    "pycharm": {
     "name": "#%%\n"
    }
   },
   "outputs": [
    {
     "data": {
      "text/plain": "Index(['gameId', 'playId', 'playDescription', 'quarter', 'down', 'yardsToGo',\n       'possessionTeam', 'playType', 'yardlineSide', 'yardlineNumber',\n       'offenseFormation', 'personnelO', 'defendersInTheBox',\n       'numberOfPassRushers', 'personnelD', 'typeDropback',\n       'preSnapVisitorScore', 'preSnapHomeScore', 'gameClock',\n       'absoluteYardlineNumber', 'penaltyCodes', 'penaltyJerseyNumbers',\n       'passResult', 'offensePlayResult', 'playResult', 'epa',\n       'isDefensivePI'],\n      dtype='object')"
     },
     "execution_count": 11,
     "metadata": {},
     "output_type": "execute_result"
    }
   ],
   "source": [
    "play_data.columns"
   ]
  },
  {
   "cell_type": "code",
   "execution_count": 12,
   "metadata": {
    "collapsed": false,
    "pycharm": {
     "name": "#%%\n"
    }
   },
   "outputs": [],
   "source": [
    "# Merge movement and play-by-play datasets.\n",
    "week_play = week_before_pass.merge(play_data, on=['gameId', 'playId'])"
   ]
  },
  {
   "cell_type": "code",
   "execution_count": 13,
   "metadata": {
    "collapsed": false,
    "pycharm": {
     "name": "#%%\n"
    }
   },
   "outputs": [
    {
     "data": {
      "text/plain": "472602"
     },
     "execution_count": 13,
     "metadata": {},
     "output_type": "execute_result"
    }
   ],
   "source": [
    "week_play.shape[0]"
   ]
  },
  {
   "cell_type": "code",
   "execution_count": 14,
   "metadata": {
    "collapsed": false,
    "pycharm": {
     "name": "#%%\n"
    }
   },
   "outputs": [
    {
     "name": "stderr",
     "output_type": "stream",
     "text": [
      "/var/folders/6v/8jcf0jcn7_vfm2q2r4tz44gh0000gn/T/ipykernel_23776/2374433625.py:3: SettingWithCopyWarning: \n",
      "A value is trying to be set on a copy of a slice from a DataFrame\n",
      "\n",
      "See the caveats in the documentation: https://pandas.pydata.org/pandas-docs/stable/user_guide/indexing.html#returning-a-view-versus-a-copy\n",
      "  week_play['time_diff'][week_play['time_diff'].isnull()] = pd.Timedelta(0)\n"
     ]
    }
   ],
   "source": [
    "# Extract the time elapsed in the play. Labeled as \"time_acc_s\". May take a while for full dataset.\n",
    "week_play['time_diff'] = week_play.groupby(['playId', 'gameId', 'displayName'])['time'].diff()\n",
    "week_play['time_diff'][week_play['time_diff'].isnull()] = pd.Timedelta(0)\n",
    "week_play['time_acc_s'] = week_play.groupby(['playId', 'gameId', 'displayName'])['time_diff'].transform(\n",
    "    lambda x: x.map(lambda x: x.microseconds).cumsum()).div(1e6)"
   ]
  },
  {
   "cell_type": "code",
   "execution_count": 15,
   "metadata": {
    "collapsed": false,
    "pycharm": {
     "name": "#%%\n"
    }
   },
   "outputs": [],
   "source": [
    "# Load game data.\n",
    "games = pd.read_csv('Kaggle-Data-Files/games.csv')"
   ]
  },
  {
   "cell_type": "code",
   "execution_count": 16,
   "metadata": {
    "collapsed": false,
    "pycharm": {
     "name": "#%%\n"
    }
   },
   "outputs": [],
   "source": [
    "# Merge play-by-play and movement data with game data.\n",
    "week_play_games = week_play.merge(games, on='gameId')"
   ]
  },
  {
   "cell_type": "code",
   "execution_count": 17,
   "metadata": {
    "collapsed": false,
    "pycharm": {
     "name": "#%%\n"
    }
   },
   "outputs": [
    {
     "data": {
      "text/plain": "array(['away', 'home'], dtype=object)"
     },
     "execution_count": 17,
     "metadata": {},
     "output_type": "execute_result"
    }
   ],
   "source": [
    "# Check values of team.\n",
    "week_play_games['team'].unique()"
   ]
  },
  {
   "cell_type": "code",
   "execution_count": 18,
   "metadata": {
    "collapsed": false,
    "pycharm": {
     "name": "#%%\n"
    }
   },
   "outputs": [],
   "source": [
    "# Find which teams in the dataframe are offensive vs. defensive.\n",
    "week_play_games['off'] = np.where(week_play_games['position'].isin(['QB', 'HB', 'FB', 'WR', 'TE', 'C', 'OG', 'OT', 'RB']),\n",
    "                                            True, False)"
   ]
  },
  {
   "cell_type": "code",
   "execution_count": 19,
   "metadata": {
    "collapsed": false,
    "pycharm": {
     "name": "#%%\n"
    }
   },
   "outputs": [
    {
     "data": {
      "text/plain": "CB     97250\nOLB    42930\nFS     34775\nSS     31296\nILB    26296\nMLB    13827\nLB     11036\nDB      6533\nS       1840\nDL       288\nDE        59\nNT        31\nName: position, dtype: int64"
     },
     "execution_count": 19,
     "metadata": {},
     "output_type": "execute_result"
    }
   ],
   "source": [
    "# Check position counts for defense. All positions are correctly labelled.\n",
    "week_play_games[~week_play_games['off']]['position'].value_counts()"
   ]
  },
  {
   "cell_type": "code",
   "execution_count": 20,
   "metadata": {
    "collapsed": false,
    "pycharm": {
     "name": "#%%\n"
    }
   },
   "outputs": [
    {
     "data": {
      "text/plain": "WR    92636\nTE    42841\nQB    34536\nRB    34003\nFB     1363\nHB     1062\nName: position, dtype: int64"
     },
     "execution_count": 20,
     "metadata": {},
     "output_type": "execute_result"
    }
   ],
   "source": [
    "# Check position counts for offense. All positions are correctly labelled.\n",
    "week_play_games[week_play_games['off']]['position'].value_counts()"
   ]
  },
  {
   "cell_type": "markdown",
   "metadata": {
    "collapsed": false
   },
   "source": []
  },
  {
   "cell_type": "code",
   "execution_count": 21,
   "metadata": {
    "collapsed": false,
    "pycharm": {
     "name": "#%%\n"
    }
   },
   "outputs": [],
   "source": [
    "# Extract starting x and y position.\n",
    "week_play_games['x_starting'] = week_play_games.groupby(['gameId', 'playId', 'nflId'])['x'].transform(lambda x: x.iloc[0])\n",
    "week_play_games['y_starting'] = week_play_games.groupby(['gameId', 'playId', 'nflId'])['y'].transform(lambda x: x.iloc[0])"
   ]
  },
  {
   "cell_type": "code",
   "execution_count": 22,
   "metadata": {
    "collapsed": false,
    "pycharm": {
     "name": "#%%\n"
    }
   },
   "outputs": [],
   "source": [
    "# Subtract 10 from yardline to get relative to left endzone.\n",
    "week_play_games['yardline_100'] = week_play_games['absoluteYardlineNumber'].sub(10)"
   ]
  },
  {
   "cell_type": "code",
   "execution_count": 23,
   "metadata": {
    "collapsed": false,
    "pycharm": {
     "name": "#%%\n"
    }
   },
   "outputs": [],
   "source": [
    "# Extract data for offense, including yardline numbers. Used to find the yardline for the first down.\n",
    "week_off = week_play_games[week_play_games['off']].groupby(['gameId', 'playId'])[[\n",
    "    'x_starting', 'yardline_100', 'absoluteYardlineNumber', 'yardsToGo']].first().reset_index()\n",
    "week_off['yardline_first'] = np.where(week_off['x_starting'].gt(week_off['absoluteYardlineNumber']),\n",
    "         week_off['yardline_100'].sub(week_off['yardsToGo']),\n",
    "         week_off['yardline_100'].add(week_off['yardsToGo']))"
   ]
  },
  {
   "cell_type": "code",
   "execution_count": 24,
   "metadata": {
    "collapsed": false,
    "pycharm": {
     "name": "#%%\n"
    }
   },
   "outputs": [
    {
     "data": {
      "text/plain": "             gameId       playId  x_starting  yardline_100  \\\ncount  9.200000e+02   920.000000  920.000000    920.000000   \nmean   2.018091e+09  2235.766304   58.832196     48.701087   \nstd    9.559843e+01  1279.198466   24.776636     24.069197   \nmin    2.018091e+09    58.000000    5.790000      1.000000   \n25%    2.018091e+09  1134.750000   35.970000     28.000000   \n50%    2.018091e+09  2273.500000   58.065000     48.000000   \n75%    2.018091e+09  3280.000000   80.977500     70.000000   \nmax    2.018091e+09  5511.000000  110.980000     99.000000   \n\n       absoluteYardlineNumber   yardsToGo  yardline_first  \ncount              920.000000  920.000000      920.000000  \nmean                58.701087    9.014130       48.452174  \nstd                 24.069197    4.184642       24.245433  \nmin                 11.000000    1.000000        0.000000  \n25%                 38.000000    6.000000       34.000000  \n50%                 58.000000   10.000000       48.000000  \n75%                 80.000000   10.000000       65.000000  \nmax                109.000000   30.000000      100.000000  ",
      "text/html": "<div>\n<style scoped>\n    .dataframe tbody tr th:only-of-type {\n        vertical-align: middle;\n    }\n\n    .dataframe tbody tr th {\n        vertical-align: top;\n    }\n\n    .dataframe thead th {\n        text-align: right;\n    }\n</style>\n<table border=\"1\" class=\"dataframe\">\n  <thead>\n    <tr style=\"text-align: right;\">\n      <th></th>\n      <th>gameId</th>\n      <th>playId</th>\n      <th>x_starting</th>\n      <th>yardline_100</th>\n      <th>absoluteYardlineNumber</th>\n      <th>yardsToGo</th>\n      <th>yardline_first</th>\n    </tr>\n  </thead>\n  <tbody>\n    <tr>\n      <th>count</th>\n      <td>9.200000e+02</td>\n      <td>920.000000</td>\n      <td>920.000000</td>\n      <td>920.000000</td>\n      <td>920.000000</td>\n      <td>920.000000</td>\n      <td>920.000000</td>\n    </tr>\n    <tr>\n      <th>mean</th>\n      <td>2.018091e+09</td>\n      <td>2235.766304</td>\n      <td>58.832196</td>\n      <td>48.701087</td>\n      <td>58.701087</td>\n      <td>9.014130</td>\n      <td>48.452174</td>\n    </tr>\n    <tr>\n      <th>std</th>\n      <td>9.559843e+01</td>\n      <td>1279.198466</td>\n      <td>24.776636</td>\n      <td>24.069197</td>\n      <td>24.069197</td>\n      <td>4.184642</td>\n      <td>24.245433</td>\n    </tr>\n    <tr>\n      <th>min</th>\n      <td>2.018091e+09</td>\n      <td>58.000000</td>\n      <td>5.790000</td>\n      <td>1.000000</td>\n      <td>11.000000</td>\n      <td>1.000000</td>\n      <td>0.000000</td>\n    </tr>\n    <tr>\n      <th>25%</th>\n      <td>2.018091e+09</td>\n      <td>1134.750000</td>\n      <td>35.970000</td>\n      <td>28.000000</td>\n      <td>38.000000</td>\n      <td>6.000000</td>\n      <td>34.000000</td>\n    </tr>\n    <tr>\n      <th>50%</th>\n      <td>2.018091e+09</td>\n      <td>2273.500000</td>\n      <td>58.065000</td>\n      <td>48.000000</td>\n      <td>58.000000</td>\n      <td>10.000000</td>\n      <td>48.000000</td>\n    </tr>\n    <tr>\n      <th>75%</th>\n      <td>2.018091e+09</td>\n      <td>3280.000000</td>\n      <td>80.977500</td>\n      <td>70.000000</td>\n      <td>80.000000</td>\n      <td>10.000000</td>\n      <td>65.000000</td>\n    </tr>\n    <tr>\n      <th>max</th>\n      <td>2.018091e+09</td>\n      <td>5511.000000</td>\n      <td>110.980000</td>\n      <td>99.000000</td>\n      <td>109.000000</td>\n      <td>30.000000</td>\n      <td>100.000000</td>\n    </tr>\n  </tbody>\n</table>\n</div>"
     },
     "execution_count": 24,
     "metadata": {},
     "output_type": "execute_result"
    }
   ],
   "source": [
    "# No null values in the dataframe, and  the yardline ranges are all reasonable.\n",
    "week_off.describe()"
   ]
  },
  {
   "cell_type": "code",
   "execution_count": 25,
   "metadata": {
    "collapsed": false,
    "pycharm": {
     "name": "#%%\n"
    }
   },
   "outputs": [],
   "source": [
    "# Merge main dataframe with dataframe containing the first down yardline.\n",
    "# Then extract which side offense is on.\n",
    "week_first = week_play_games.merge(week_off[['gameId', 'playId', 'yardline_first']].drop_duplicates(), on=['gameId', 'playId'])\n",
    "week_first['off_pos'] = np.where(week_first['yardline_first'].gt(week_first['yardline_100']),\n",
    "                                 'left', 'right')"
   ]
  },
  {
   "cell_type": "code",
   "execution_count": 26,
   "metadata": {
    "collapsed": false,
    "pycharm": {
     "name": "#%%\n"
    }
   },
   "outputs": [
    {
     "data": {
      "text/plain": "right    245732\nleft     226870\nName: off_pos, dtype: int64"
     },
     "execution_count": 26,
     "metadata": {},
     "output_type": "execute_result"
    }
   ],
   "source": [
    "# There is a roughly even split, which looks good.\n",
    "week_first['off_pos'].value_counts()"
   ]
  },
  {
   "cell_type": "code",
   "execution_count": 27,
   "metadata": {
    "collapsed": false,
    "pycharm": {
     "name": "#%%\n"
    }
   },
   "outputs": [],
   "source": [
    "# Adjust starting y coordinate because the perspective would change depending on the side.\n",
    "week_first['y_starting_dir'] = np.where(week_first['off_pos'] == 'right', week_first['y_starting'].rsub(53.3), week_first['y_starting'])"
   ]
  },
  {
   "cell_type": "code",
   "execution_count": 28,
   "metadata": {
    "collapsed": false,
    "pycharm": {
     "name": "#%%\n"
    }
   },
   "outputs": [
    {
     "data": {
      "text/plain": "<AxesSubplot:xlabel='y_starting', ylabel='Count'>"
     },
     "execution_count": 28,
     "metadata": {},
     "output_type": "execute_result"
    },
    {
     "data": {
      "text/plain": "<Figure size 432x288 with 1 Axes>",
      "image/png": "[encoded data removed]"
     },
     "metadata": {
      "needs_background": "light"
     },
     "output_type": "display_data"
    }
   ],
   "source": [
    "# Show distribution of starting y without adjustment. The values match up fairly well.\n",
    "sns.histplot(data=week_first, x='y_starting', bins=50, hue='off')"
   ]
  },
  {
   "cell_type": "code",
   "execution_count": 63,
   "metadata": {
    "collapsed": false,
    "pycharm": {
     "name": "#%%\n"
    }
   },
   "outputs": [
    {
     "data": {
      "text/plain": "<Figure size 432x288 with 1 Axes>",
      "image/png": "[encoded data removed]"
     },
     "metadata": {
      "needs_background": "light"
     },
     "output_type": "display_data"
    }
   ],
   "source": [
    "# The positions match up slightly better although the distributions are fairly symmetrical.\n",
    "sns.histplot(data=week_first, x='y_starting_dir', bins=50, hue='off')\n",
    "plt.savefig('y_pos_notnorm.png')"
   ]
  },
  {
   "cell_type": "code",
   "execution_count": 30,
   "outputs": [],
   "source": [
    "# Find starting position of qb and convert to float.\n",
    "week_first['y_starting_qb'] = week_first.groupby(['gameId', 'playId']).apply(lambda x: np.repeat(53.3/2, x.shape[0])\n",
    "    if x[x['position'] == 'QB'].shape[0] == 0 else np.repeat(x[x['position'] == 'QB']['y_starting_dir'].iloc[0], x.shape[0])).explode().values\n",
    "week_first['y_starting_qb'] = week_first['y_starting_qb'].astype(float)"
   ],
   "metadata": {
    "collapsed": false,
    "pycharm": {
     "name": "#%%\n"
    }
   }
  },
  {
   "cell_type": "code",
   "execution_count": 31,
   "outputs": [],
   "source": [
    "# Find side of qb that player is lined up on.\n",
    "week_first['qb_side'] = np.where(week_first['y_starting_dir'].gt(week_first['y_starting_qb']), 'R', 'L')"
   ],
   "metadata": {
    "collapsed": false,
    "pycharm": {
     "name": "#%%\n"
    }
   }
  },
  {
   "cell_type": "code",
   "execution_count": 32,
   "outputs": [],
   "source": [
    "# Find the starting position of each player relative to the qb.\n",
    "week_first['y_starting_qb_dir'] = week_first['y_starting_dir'].sub(week_first['y_starting_qb'])"
   ],
   "metadata": {
    "collapsed": false,
    "pycharm": {
     "name": "#%%\n"
    }
   }
  },
  {
   "cell_type": "code",
   "execution_count": 33,
   "metadata": {
    "collapsed": false,
    "pycharm": {
     "name": "#%%\n"
    }
   },
   "outputs": [],
   "source": [
    "def find_rank(df, col, reverse=False):\n",
    "    \"\"\"\n",
    "    Find the ranking of a series based on values.\n",
    "    :param df: Dataframe for ranking; pd.DataFrame\n",
    "    :param col: Column from dataframe to rank; str\n",
    "    :param reverse: Flag of whether to reverse rank direction; bool\n",
    "    :return: Array with rankings; np.array\n",
    "    \"\"\"\n",
    "    # Extract series and use arsort to find rankings.\n",
    "    ser = df[col]\n",
    "    temp = np.argsort(ser)\n",
    "\n",
    "    # Reverse direction based on flag.\n",
    "    if reverse:\n",
    "        temp = temp[::-1]\n",
    "\n",
    "    # Fill ranking array.\n",
    "    ranks = np.empty_like(temp)\n",
    "    ranks[temp] = np.arange(ser.shape[0])\n",
    "    return ranks"
   ]
  },
  {
   "cell_type": "code",
   "execution_count": 34,
   "metadata": {
    "collapsed": false,
    "pycharm": {
     "name": "#%%\n"
    }
   },
   "outputs": [],
   "source": [
    "# Find the order of positions based on offensive direction.\n",
    "# First, group and extract first value of the y starting position and direction.\n",
    "pos_start = (week_first\n",
    " .groupby(['gameId', 'playId', 'position', 'nflId'])\n",
    " [['y_starting_dir', 'off_pos', 'qb_side']].first()\n",
    " .reset_index())\n",
    "\n",
    "# Next, group and extract ranking of positions based on whether team is home or away\n",
    "# and the starting position.\n",
    "pos_order = (pos_start.groupby(['gameId', 'playId', 'position'])\n",
    "             .apply(lambda x: np.where(x['qb_side'] == 'R', find_rank(x, 'y_starting_dir'),\n",
    "                                       find_rank(x, 'y_starting_dir', reverse=True)))\n",
    "             .explode()\n",
    "             .reset_index()\n",
    "             )\n",
    "\n",
    "# Add column with the position order to the df with indexed starting position.\n",
    "pos_start['pos_order'] = pos_order[0]"
   ]
  },
  {
   "cell_type": "code",
   "execution_count": 35,
   "metadata": {
    "collapsed": false,
    "pycharm": {
     "name": "#%%\n"
    }
   },
   "outputs": [],
   "source": [
    "# Concatenate position and position order to create unique position identifier.\n",
    "pos_start['pos_num'] = pos_start.apply(lambda x: x['position'] + x['qb_side'] + str(x['pos_order']), axis=1)"
   ]
  },
  {
   "cell_type": "code",
   "execution_count": 36,
   "metadata": {
    "collapsed": false,
    "pycharm": {
     "name": "#%%\n"
    }
   },
   "outputs": [],
   "source": [
    "# Merge full dataframe with position number dataframe.\n",
    "week_pos = week_first.merge(pos_start[['gameId', 'playId', 'nflId', 'pos_num', 'pos_order']], on=['gameId', 'playId', 'nflId'])"
   ]
  },
  {
   "cell_type": "code",
   "execution_count": 37,
   "metadata": {
    "collapsed": false,
    "pycharm": {
     "name": "#%%\n"
    }
   },
   "outputs": [],
   "source": [
    "# Use regex to extract personnel from personnel column, and concatenate with main dataframe.\n",
    "week_pos_pers = pd.concat([week_pos, week_pos['personnelD'].str.extract(\n",
    "    '(?P<DL>\\d+) DL, (?P<LB>\\d+) LB, (?P<DB>\\d+) DB')], axis=1)"
   ]
  },
  {
   "cell_type": "code",
   "execution_count": 38,
   "metadata": {
    "collapsed": false,
    "pycharm": {
     "name": "#%%\n"
    }
   },
   "outputs": [],
   "source": [
    "# Find the position of each player relative to the line of scrimmage.\n",
    "week_pos_pers['x_behind_line'] = np.where(week_pos_pers['off_pos'] == 'right',\n",
    "                                     week_pos_pers['absoluteYardlineNumber'].sub(week_pos_pers['x']),\n",
    "                                     week_pos_pers['x'].sub(week_pos_pers['absoluteYardlineNumber']))"
   ]
  },
  {
   "cell_type": "code",
   "execution_count": 39,
   "metadata": {
    "collapsed": false,
    "pycharm": {
     "name": "#%%\n"
    }
   },
   "outputs": [
    {
     "data": {
      "text/plain": "<AxesSubplot:xlabel='x_behind_line', ylabel='Count'>"
     },
     "execution_count": 39,
     "metadata": {},
     "output_type": "execute_result"
    },
    {
     "data": {
      "text/plain": "<Figure size 432x288 with 1 Axes>",
      "image/png": "[encoded data removed]"
     },
     "metadata": {
      "needs_background": "light"
     },
     "output_type": "display_data"
    }
   ],
   "source": [
    "# Examine the x_behind_line column. The distributions seem to make sense,\n",
    "# as the distribution of the offensive position has a lower mean than the defensive position.\n",
    "sns.histplot(data=week_pos_pers, x='x_behind_line', bins=50, hue='off')"
   ]
  },
  {
   "cell_type": "code",
   "execution_count": 40,
   "metadata": {
    "collapsed": false,
    "pycharm": {
     "name": "#%%\n"
    }
   },
   "outputs": [],
   "source": [
    "# Extract the yardline for first down and line of scrimmage based on the\n",
    "# direction that the teams are facing.\n",
    "week_pos_pers['yardline_first_dir'] = np.where(week_pos_pers['off_pos'] == 'right',\n",
    "                                          week_pos_pers['yardline_first'],\n",
    "                                          week_pos_pers['yardline_first'].rsub(100))\n",
    "week_pos_pers['yardline_100_dir'] = np.where(week_pos_pers['off_pos'] == 'right',\n",
    "                                        week_pos_pers['yardline_100'],\n",
    "                                        week_pos_pers['yardline_100'].rsub(100))"
   ]
  },
  {
   "cell_type": "code",
   "execution_count": 41,
   "metadata": {
    "collapsed": false,
    "pycharm": {
     "name": "#%%\n"
    }
   },
   "outputs": [
    {
     "data": {
      "text/plain": "count    472602.000000\nmean         43.528468\nstd          23.221919\nmin           0.000000\n25%          26.000000\n50%          48.000000\n75%          65.000000\nmax          89.000000\nName: yardline_first_dir, dtype: float64"
     },
     "execution_count": 41,
     "metadata": {},
     "output_type": "execute_result"
    }
   ],
   "source": [
    "# Distribution of first yardline looks good. Range is within expected.\n",
    "week_pos_pers['yardline_first_dir'].describe()"
   ]
  },
  {
   "cell_type": "code",
   "execution_count": 42,
   "metadata": {
    "collapsed": false,
    "pycharm": {
     "name": "#%%\n"
    }
   },
   "outputs": [
    {
     "data": {
      "text/plain": "count    472602.000000\nmean         52.565946\nstd          23.878507\nmin           1.000000\n25%          35.000000\n50%          57.000000\n75%          73.000000\nmax          99.000000\nName: yardline_100_dir, dtype: float64"
     },
     "execution_count": 42,
     "metadata": {},
     "output_type": "execute_result"
    }
   ],
   "source": [
    "# Distribution of line of scrimmage also looks reasonable.\n",
    "week_pos_pers['yardline_100_dir'].describe()"
   ]
  },
  {
   "cell_type": "code",
   "execution_count": 43,
   "metadata": {
    "collapsed": false,
    "pycharm": {
     "name": "#%%\n"
    }
   },
   "outputs": [
    {
     "data": {
      "text/plain": "True    472602\ndtype: int64"
     },
     "execution_count": 43,
     "metadata": {},
     "output_type": "execute_result"
    }
   ],
   "source": [
    "# Check that all first downs are labelled as closer to touchdown than line of scrimmage. Looks good.\n",
    "week_pos_pers['yardline_first_dir'].lt(week_pos_pers['yardline_100_dir']).value_counts()"
   ]
  },
  {
   "cell_type": "code",
   "execution_count": 44,
   "metadata": {
    "collapsed": false,
    "pycharm": {
     "name": "#%%\n"
    }
   },
   "outputs": [],
   "source": [
    "# Add flag if a player has gone at least 1 yard past the line of scrimmage.\n",
    "week_pos_pers['exceeded_1yd'] = week_pos_pers.groupby(['gameId', 'playId', 'nflId'])['x_behind_line'].transform(lambda x: x.max() > 1)"
   ]
  },
  {
   "cell_type": "code",
   "execution_count": 45,
   "metadata": {
    "collapsed": false,
    "pycharm": {
     "name": "#%%\n"
    }
   },
   "outputs": [],
   "source": [
    "# Use whether player is on offense, whether the player is a QB or WR, and whether a player has\n",
    "# moved 1 yard beyond the line of scrimmage to determine if the player is a receiver.\n",
    "week_pos_pers['receiver'] = (week_pos_pers['off'] & (week_pos_pers['position'] != 'QB') &\n",
    "                            (week_pos_pers['exceeded_1yd'] | (week_pos_pers['position'] == 'WR')))"
   ]
  },
  {
   "cell_type": "code",
   "execution_count": 46,
   "metadata": {
    "collapsed": false,
    "pycharm": {
     "name": "#%%\n"
    }
   },
   "outputs": [
    {
     "data": {
      "text/plain": "WR    92636\nTE    30643\nRB     9730\nFB      395\nHB      184\nName: position, dtype: int64"
     },
     "execution_count": 46,
     "metadata": {},
     "output_type": "execute_result"
    }
   ],
   "source": [
    "# Check positions that are labelled as receivers. Everything looks good.\n",
    "week_pos_pers[week_pos_pers['receiver']]['position'].value_counts()"
   ]
  },
  {
   "cell_type": "code",
   "execution_count": 47,
   "metadata": {
    "collapsed": false,
    "pycharm": {
     "name": "#%%\n"
    }
   },
   "outputs": [
    {
     "data": {
      "text/plain": "True     133588\nFalse     72853\nName: receiver, dtype: int64"
     },
     "execution_count": 47,
     "metadata": {},
     "output_type": "execute_result"
    }
   ],
   "source": [
    "# Check value counts of players labelled receivers for offense.\n",
    "# Looks reasonable given positions tracked.\n",
    "week_pos_pers[week_pos_pers['off']]['receiver'].value_counts()"
   ]
  },
  {
   "cell_type": "code",
   "execution_count": 48,
   "metadata": {
    "collapsed": false,
    "pycharm": {
     "name": "#%%\n"
    }
   },
   "outputs": [],
   "source": [
    "# Save offensive and defensive numbered position lists.\n",
    "off_pos = week_pos_pers[week_pos_pers['off']]['pos_num'].unique()\n",
    "def_pos = week_pos_pers[~week_pos_pers['off']]['pos_num'].unique()"
   ]
  },
  {
   "cell_type": "code",
   "execution_count": 49,
   "metadata": {
    "collapsed": false,
    "pycharm": {
     "name": "#%%\n"
    }
   },
   "outputs": [],
   "source": [
    "# Adjust y to match direction of offense.\n",
    "week_pos_pers['y_dir'] = np.where(week_pos_pers['off_pos'] == 'right', week_pos_pers['y'].rsub(53.3), week_pos_pers['y'])"
   ]
  },
  {
   "cell_type": "code",
   "execution_count": 50,
   "outputs": [],
   "source": [
    "# Define y coordinates as relative to QB.\n",
    "week_pos_pers['y_dir_qb'] = week_pos_pers['y_dir'].sub(week_pos_pers['y_starting_qb'])"
   ],
   "metadata": {
    "collapsed": false,
    "pycharm": {
     "name": "#%%\n"
    }
   }
  },
  {
   "cell_type": "code",
   "execution_count": 51,
   "outputs": [
    {
     "data": {
      "text/plain": "<Figure size 432x288 with 1 Axes>",
      "image/png": "[encoded data removed]"
     },
     "metadata": {
      "needs_background": "light"
     },
     "output_type": "display_data"
    }
   ],
   "source": [
    "# The distribution looks centered around 0, as would be expected given that the QB lines up in the center.\n",
    "sns.histplot(data=week_pos_pers, x='y_dir_qb', bins=50, hue='off')\n",
    "plt.savefig('y_qb_dist.png')"
   ],
   "metadata": {
    "collapsed": false,
    "pycharm": {
     "name": "#%%\n"
    }
   }
  },
  {
   "cell_type": "code",
   "execution_count": 52,
   "metadata": {
    "collapsed": false,
    "pycharm": {
     "name": "#%%\n"
    }
   },
   "outputs": [],
   "source": [
    "# Next, determine minimum distances between each defensive player and receiver and qb.\n",
    "# Separate defensive and receiver dataframes.\n",
    "week_rec = week_pos_pers[week_pos_pers['receiver']]\n",
    "week_def = week_pos_pers[~week_pos_pers['off']]\n",
    "\n",
    "# Merge defensive with receiver dataframes on game, play, and time.\n",
    "week_def_rec = week_def.merge(week_rec[['gameId', 'playId', 'time_acc_s', 'x_behind_line', 'y_dir_qb']],\n",
    "               on=['gameId', 'playId', 'time_acc_s'],\n",
    "               suffixes=['_def', '_rec'])\n",
    "\n",
    "\n",
    "# Find distance between each defensive player and each receiver.\n",
    "week_def_rec['dist'] = np.linalg.norm(week_def_rec[['x_behind_line_def', 'y_dir_qb_def']].values -\n",
    "                                               week_def_rec[['x_behind_line_rec', 'y_dir_qb_rec']].values, axis=1)\n",
    "\n",
    "# Group dataframe to obtain minimum distance.\n",
    "min_rec_dist = week_def_rec.groupby(['gameId', 'playId', 'time_acc_s', 'pos_num'])['dist'].min()\n",
    "min_rec_dist.name = 'min_dist_rec'\n",
    "\n",
    "# Separate QB dataframe\n",
    "week_qb = week_pos_pers[week_pos_pers['position'] == 'QB']\n",
    "\n",
    "# Merge defensive with QB dataframe.\n",
    "week_def_qb = week_def.merge(week_qb[['gameId', 'playId', 'time_acc_s', 'x_behind_line', 'y_dir_qb']],\n",
    "                              on=['gameId', 'playId', 'time_acc_s'],\n",
    "                              suffixes=['_def', '_qb'])\n",
    "\n",
    "# Find distance to the QB.\n",
    "week_def_qb['dist'] = np.linalg.norm(week_def_qb[['x_behind_line_def', 'y_dir_qb_def']].values -\n",
    "                                               week_def_qb[['x_behind_line_qb', 'y_dir_qb_qb']].values, axis=1)\n",
    "\n",
    "# Group to form index and distance.\n",
    "min_qb_dist = week_def_qb.groupby(['gameId', 'playId', 'time_acc_s', 'pos_num'])['dist'].min()\n",
    "min_qb_dist.name = 'dist_qb'\n",
    "\n",
    "# Concatenate about the same index and reset the index.\n",
    "min_dist = pd.concat([min_rec_dist, min_qb_dist], axis=1).reset_index()"
   ]
  },
  {
   "cell_type": "code",
   "execution_count": 53,
   "metadata": {
    "collapsed": false,
    "pycharm": {
     "name": "#%%\n"
    }
   },
   "outputs": [
    {
     "data": {
      "text/plain": "        min_dist_rec        dist_qb\ncount  265951.000000  266161.000000\nmean        7.562683      15.627685\nstd         5.159082       7.393315\nmin         0.063246       0.335410\n25%         3.550282       9.700253\n50%         6.614386      14.937396\n75%        10.149037      20.434021\nmax        59.331578      76.602956",
      "text/html": "<div>\n<style scoped>\n    .dataframe tbody tr th:only-of-type {\n        vertical-align: middle;\n    }\n\n    .dataframe tbody tr th {\n        vertical-align: top;\n    }\n\n    .dataframe thead th {\n        text-align: right;\n    }\n</style>\n<table border=\"1\" class=\"dataframe\">\n  <thead>\n    <tr style=\"text-align: right;\">\n      <th></th>\n      <th>min_dist_rec</th>\n      <th>dist_qb</th>\n    </tr>\n  </thead>\n  <tbody>\n    <tr>\n      <th>count</th>\n      <td>265951.000000</td>\n      <td>266161.000000</td>\n    </tr>\n    <tr>\n      <th>mean</th>\n      <td>7.562683</td>\n      <td>15.627685</td>\n    </tr>\n    <tr>\n      <th>std</th>\n      <td>5.159082</td>\n      <td>7.393315</td>\n    </tr>\n    <tr>\n      <th>min</th>\n      <td>0.063246</td>\n      <td>0.335410</td>\n    </tr>\n    <tr>\n      <th>25%</th>\n      <td>3.550282</td>\n      <td>9.700253</td>\n    </tr>\n    <tr>\n      <th>50%</th>\n      <td>6.614386</td>\n      <td>14.937396</td>\n    </tr>\n    <tr>\n      <th>75%</th>\n      <td>10.149037</td>\n      <td>20.434021</td>\n    </tr>\n    <tr>\n      <th>max</th>\n      <td>59.331578</td>\n      <td>76.602956</td>\n    </tr>\n  </tbody>\n</table>\n</div>"
     },
     "execution_count": 53,
     "metadata": {},
     "output_type": "execute_result"
    }
   ],
   "source": [
    "# Check that the distances are in a reasonable range. The max value is a bit high, but might be on long plays.\n",
    "min_dist[['min_dist_rec', 'dist_qb']].describe()"
   ]
  },
  {
   "cell_type": "code",
   "execution_count": 54,
   "metadata": {
    "collapsed": false,
    "pycharm": {
     "name": "#%%\n"
    }
   },
   "outputs": [],
   "source": [
    "# Merge main dataframe with minimum distance dataframe.\n",
    "week_pos_full = week_pos_pers.merge(min_dist, on=['gameId', 'playId', 'time_acc_s', 'pos_num'], how='left')"
   ]
  },
  {
   "cell_type": "code",
   "execution_count": 55,
   "metadata": {
    "collapsed": false,
    "pycharm": {
     "name": "#%%\n"
    }
   },
   "outputs": [],
   "source": [
    "# Evaluate whether a receiver is closer than the qb.\n",
    "week_pos_full['rec_closer'] = week_pos_full['min_dist_rec'].lt(week_pos_full['dist_qb'])"
   ]
  },
  {
   "cell_type": "code",
   "execution_count": 56,
   "outputs": [],
   "source": [
    "# Cut time accumulated into 10 deciles for each play in order to reduce the space. Can adjust number of cuts.\n",
    "n_cuts = 11\n",
    "time_cuts = week_pos_full[['gameId', 'playId', 'time_acc_s']].drop_duplicates().groupby(['gameId', 'playId']).agg(\n",
    "    lambda x: np.nan if x.shape[0] < n_cuts else pd.cut(x, n_cuts, labels=range(1, n_cuts + 1))).explode('time_acc_s')\n",
    "time_cuts_idx = week_pos_full[['gameId', 'playId', 'time_acc_s']].drop_duplicates().dropna()\n",
    "time_cuts_idx = time_cuts_idx[time_cuts_idx.groupby(['gameId', 'playId'])['time_acc_s'].transform(lambda x: x.shape[0] >= n_cuts)]\n",
    "time_cuts_idx['time_cut'] = time_cuts.values"
   ],
   "metadata": {
    "collapsed": false,
    "pycharm": {
     "name": "#%%\n"
    }
   }
  },
  {
   "cell_type": "code",
   "execution_count": 57,
   "metadata": {
    "collapsed": false,
    "pycharm": {
     "name": "#%%\n"
    }
   },
   "outputs": [],
   "source": [
    "# Merge dataframe with time quartiles to main dataframe.\n",
    "week_full_time = week_pos_full.merge(time_cuts_idx, on=['gameId', 'playId', 'time_acc_s'])"
   ]
  },
  {
   "cell_type": "code",
   "execution_count": 58,
   "metadata": {
    "collapsed": false,
    "pycharm": {
     "name": "#%%\n"
    }
   },
   "outputs": [
    {
     "data": {
      "text/plain": "<AxesSubplot:xlabel='pos_num', ylabel='time_cut'>"
     },
     "execution_count": 58,
     "metadata": {},
     "output_type": "execute_result"
    },
    {
     "data": {
      "text/plain": "<Figure size 1440x720 with 2 Axes>",
      "image/png": "[encoded data removed]"
     },
     "metadata": {
      "needs_background": "light"
     },
     "output_type": "display_data"
    }
   ],
   "source": [
    "# Check average time\n",
    "# Although all positions average closer to the receiver for each time decile,\n",
    "# the positional distribution seem to make sense, with cornerbacks and safeties\n",
    "# closest to the receivers.\n",
    "week_rec_closer = week_full_time[~week_full_time['off']].groupby(['gameId', 'playId', 'time_cut', 'pos_num'])['rec_closer'].mean().reset_index()\n",
    "rec_closer_def = week_rec_closer.groupby(['pos_num', 'time_cut'])['rec_closer'].mean().reset_index()\n",
    "fig, ax = plt.subplots(figsize=(20, 10))\n",
    "sns.heatmap(rec_closer_def.pivot_table(index='time_cut', columns='pos_num', values='rec_closer'), ax=ax)"
   ]
  },
  {
   "cell_type": "code",
   "execution_count": 59,
   "metadata": {
    "collapsed": false,
    "pycharm": {
     "name": "#%%\n"
    }
   },
   "outputs": [],
   "source": [
    "# Aggregate columns based on game, play, numbered position, and time quartile.\n",
    "def_full = week_full_time[~week_full_time['off'] & (week_full_time['position'] != 'TE')].groupby(['gameId', 'playId', 'pos_num', 'time_cut']).agg(\n",
    "    {'x_starting': 'first', 'y_starting': 'first',\n",
    "     'yardline_100_dir': 'first', 'yardline_first_dir': 'first',\n",
    "     'defendersInTheBox': 'first',\n",
    "     'numberOfPassRushers': 'first',\n",
    "     'DL': 'first', 'LB': 'first', 'DB': 'first',\n",
    "     'x_behind_line': 'mean', 'y_dir': 'mean', 'min_dist_rec': 'mean',\n",
    "     'dist_qb': 'mean', 'rec_closer': 'mean'}\n",
    ").reset_index()"
   ]
  },
  {
   "cell_type": "code",
   "execution_count": 60,
   "metadata": {
    "collapsed": false,
    "pycharm": {
     "name": "#%%\n"
    }
   },
   "outputs": [],
   "source": [
    "# Pivot table based on play.\n",
    "week_def_pivot = def_full.pivot_table(values=['rec_closer', 'dist_qb', 'min_dist_rec'],\n",
    "                                           index=['gameId', 'playId', 'DL', 'LB', 'DB',\n",
    "                                                  'yardline_first_dir', 'yardline_100_dir', 'defendersInTheBox',\n",
    "                                                  'numberOfPassRushers'],\n",
    "                                           columns=['pos_num', 'time_cut']).reset_index()"
   ]
  },
  {
   "cell_type": "code",
   "execution_count": 61,
   "metadata": {
    "collapsed": false,
    "pycharm": {
     "name": "#%%\n"
    }
   },
   "outputs": [
    {
     "data": {
      "text/plain": "(920, 1659)"
     },
     "execution_count": 61,
     "metadata": {},
     "output_type": "execute_result"
    }
   ],
   "source": [
    "week_def_pivot.shape"
   ]
  },
  {
   "cell_type": "code",
   "execution_count": 62,
   "metadata": {
    "collapsed": false,
    "pycharm": {
     "name": "#%%\n"
    }
   },
   "outputs": [
    {
     "data": {
      "text/plain": "                gameId       playId yardline_first_dir yardline_100_dir  \\\npos_num                                                                   \ntime_cut                                                                  \ncount     9.200000e+02   920.000000         920.000000       920.000000   \nmean      2.018091e+09  2235.766304          43.289130        52.303261   \nstd       9.559843e+01  1279.198466          23.348546        23.993842   \nmin       2.018091e+09    58.000000           0.000000         1.000000   \n25%       2.018091e+09  1134.750000          25.000000        35.000000   \n50%       2.018091e+09  2273.500000          48.000000        57.000000   \n75%       2.018091e+09  3280.000000          65.000000        73.000000   \nmax       2.018091e+09  5511.000000          89.000000        99.000000   \n\n         defendersInTheBox numberOfPassRushers    dist_qb             \\\npos_num                                              CBL0              \ntime_cut                                                1          2   \ncount           920.000000          920.000000  45.000000  44.000000   \nmean              6.071739            4.141304  15.280536  15.352816   \nstd               0.945331            0.773353   5.303854   5.858541   \nmin               2.000000            0.000000   6.932732   7.660720   \n25%               6.000000            4.000000  12.028645  11.785371   \n50%               6.000000            4.000000  13.785423  13.536234   \n75%               7.000000            4.000000  18.340878  17.637191   \nmax              10.000000            8.000000  28.922015  31.421003   \n\n                                ...  rec_closer                          \\\npos_num                         ...        SSR1                           \ntime_cut          3          4  ...           2           3           4   \ncount     45.000000  44.000000  ...  150.000000  150.000000  152.000000   \nmean      15.250073  15.143950  ...    0.877778    0.886667    0.888816   \nstd        5.691308   5.113313  ...    0.321180    0.318062    0.308500   \nmin        7.975504   6.873417  ...    0.000000    0.000000    0.000000   \n25%       11.273128  11.866138  ...    1.000000    1.000000    1.000000   \n50%       13.728354  14.301992  ...    1.000000    1.000000    1.000000   \n75%       17.437789  16.961864  ...    1.000000    1.000000    1.000000   \nmax       31.131418  27.626739  ...    1.000000    1.000000    1.000000   \n\n                                                                      \\\npos_num                                                                \ntime_cut           5           6           7           8           9   \ncount     152.000000  145.000000  146.000000  149.000000  150.000000   \nmean        0.893092    0.906322    0.917808    0.930089    0.930159   \nstd         0.305309    0.283089    0.269984    0.246991    0.251170   \nmin         0.000000    0.000000    0.000000    0.000000    0.000000   \n25%         1.000000    1.000000    1.000000    1.000000    1.000000   \n50%         1.000000    1.000000    1.000000    1.000000    1.000000   \n75%         1.000000    1.000000    1.000000    1.000000    1.000000   \nmax         1.000000    1.000000    1.000000    1.000000    1.000000   \n\n                                  \npos_num                           \ntime_cut          10          11  \ncount     146.000000  145.000000  \nmean        0.926941    0.918851  \nstd         0.252173    0.269167  \nmin         0.000000    0.000000  \n25%         1.000000    1.000000  \n50%         1.000000    1.000000  \n75%         1.000000    1.000000  \nmax         1.000000    1.000000  \n\n[8 rows x 1656 columns]",
      "text/html": "<div>\n<style scoped>\n    .dataframe tbody tr th:only-of-type {\n        vertical-align: middle;\n    }\n\n    .dataframe tbody tr th {\n        vertical-align: top;\n    }\n\n    .dataframe thead tr th {\n        text-align: left;\n    }\n</style>\n<table border=\"1\" class=\"dataframe\">\n  <thead>\n    <tr>\n      <th></th>\n      <th>gameId</th>\n      <th>playId</th>\n      <th>yardline_first_dir</th>\n      <th>yardline_100_dir</th>\n      <th>defendersInTheBox</th>\n      <th>numberOfPassRushers</th>\n      <th colspan=\"4\" halign=\"left\">dist_qb</th>\n      <th>...</th>\n      <th colspan=\"10\" halign=\"left\">rec_closer</th>\n    </tr>\n    <tr>\n      <th>pos_num</th>\n      <th></th>\n      <th></th>\n      <th></th>\n      <th></th>\n      <th></th>\n      <th></th>\n      <th colspan=\"4\" halign=\"left\">CBL0</th>\n      <th>...</th>\n      <th colspan=\"10\" halign=\"left\">SSR1</th>\n    </tr>\n    <tr>\n      <th>time_cut</th>\n      <th></th>\n      <th></th>\n      <th></th>\n      <th></th>\n      <th></th>\n      <th></th>\n      <th>1</th>\n      <th>2</th>\n      <th>3</th>\n      <th>4</th>\n      <th>...</th>\n      <th>2</th>\n      <th>3</th>\n      <th>4</th>\n      <th>5</th>\n      <th>6</th>\n      <th>7</th>\n      <th>8</th>\n      <th>9</th>\n      <th>10</th>\n      <th>11</th>\n    </tr>\n  </thead>\n  <tbody>\n    <tr>\n      <th>count</th>\n      <td>9.200000e+02</td>\n      <td>920.000000</td>\n      <td>920.000000</td>\n      <td>920.000000</td>\n      <td>920.000000</td>\n      <td>920.000000</td>\n      <td>45.000000</td>\n      <td>44.000000</td>\n      <td>45.000000</td>\n      <td>44.000000</td>\n      <td>...</td>\n      <td>150.000000</td>\n      <td>150.000000</td>\n      <td>152.000000</td>\n      <td>152.000000</td>\n      <td>145.000000</td>\n      <td>146.000000</td>\n      <td>149.000000</td>\n      <td>150.000000</td>\n      <td>146.000000</td>\n      <td>145.000000</td>\n    </tr>\n    <tr>\n      <th>mean</th>\n      <td>2.018091e+09</td>\n      <td>2235.766304</td>\n      <td>43.289130</td>\n      <td>52.303261</td>\n      <td>6.071739</td>\n      <td>4.141304</td>\n      <td>15.280536</td>\n      <td>15.352816</td>\n      <td>15.250073</td>\n      <td>15.143950</td>\n      <td>...</td>\n      <td>0.877778</td>\n      <td>0.886667</td>\n      <td>0.888816</td>\n      <td>0.893092</td>\n      <td>0.906322</td>\n      <td>0.917808</td>\n      <td>0.930089</td>\n      <td>0.930159</td>\n      <td>0.926941</td>\n      <td>0.918851</td>\n    </tr>\n    <tr>\n      <th>std</th>\n      <td>9.559843e+01</td>\n      <td>1279.198466</td>\n      <td>23.348546</td>\n      <td>23.993842</td>\n      <td>0.945331</td>\n      <td>0.773353</td>\n      <td>5.303854</td>\n      <td>5.858541</td>\n      <td>5.691308</td>\n      <td>5.113313</td>\n      <td>...</td>\n      <td>0.321180</td>\n      <td>0.318062</td>\n      <td>0.308500</td>\n      <td>0.305309</td>\n      <td>0.283089</td>\n      <td>0.269984</td>\n      <td>0.246991</td>\n      <td>0.251170</td>\n      <td>0.252173</td>\n      <td>0.269167</td>\n    </tr>\n    <tr>\n      <th>min</th>\n      <td>2.018091e+09</td>\n      <td>58.000000</td>\n      <td>0.000000</td>\n      <td>1.000000</td>\n      <td>2.000000</td>\n      <td>0.000000</td>\n      <td>6.932732</td>\n      <td>7.660720</td>\n      <td>7.975504</td>\n      <td>6.873417</td>\n      <td>...</td>\n      <td>0.000000</td>\n      <td>0.000000</td>\n      <td>0.000000</td>\n      <td>0.000000</td>\n      <td>0.000000</td>\n      <td>0.000000</td>\n      <td>0.000000</td>\n      <td>0.000000</td>\n      <td>0.000000</td>\n      <td>0.000000</td>\n    </tr>\n    <tr>\n      <th>25%</th>\n      <td>2.018091e+09</td>\n      <td>1134.750000</td>\n      <td>25.000000</td>\n      <td>35.000000</td>\n      <td>6.000000</td>\n      <td>4.000000</td>\n      <td>12.028645</td>\n      <td>11.785371</td>\n      <td>11.273128</td>\n      <td>11.866138</td>\n      <td>...</td>\n      <td>1.000000</td>\n      <td>1.000000</td>\n      <td>1.000000</td>\n      <td>1.000000</td>\n      <td>1.000000</td>\n      <td>1.000000</td>\n      <td>1.000000</td>\n      <td>1.000000</td>\n      <td>1.000000</td>\n      <td>1.000000</td>\n    </tr>\n    <tr>\n      <th>50%</th>\n      <td>2.018091e+09</td>\n      <td>2273.500000</td>\n      <td>48.000000</td>\n      <td>57.000000</td>\n      <td>6.000000</td>\n      <td>4.000000</td>\n      <td>13.785423</td>\n      <td>13.536234</td>\n      <td>13.728354</td>\n      <td>14.301992</td>\n      <td>...</td>\n      <td>1.000000</td>\n      <td>1.000000</td>\n      <td>1.000000</td>\n      <td>1.000000</td>\n      <td>1.000000</td>\n      <td>1.000000</td>\n      <td>1.000000</td>\n      <td>1.000000</td>\n      <td>1.000000</td>\n      <td>1.000000</td>\n    </tr>\n    <tr>\n      <th>75%</th>\n      <td>2.018091e+09</td>\n      <td>3280.000000</td>\n      <td>65.000000</td>\n      <td>73.000000</td>\n      <td>7.000000</td>\n      <td>4.000000</td>\n      <td>18.340878</td>\n      <td>17.637191</td>\n      <td>17.437789</td>\n      <td>16.961864</td>\n      <td>...</td>\n      <td>1.000000</td>\n      <td>1.000000</td>\n      <td>1.000000</td>\n      <td>1.000000</td>\n      <td>1.000000</td>\n      <td>1.000000</td>\n      <td>1.000000</td>\n      <td>1.000000</td>\n      <td>1.000000</td>\n      <td>1.000000</td>\n    </tr>\n    <tr>\n      <th>max</th>\n      <td>2.018091e+09</td>\n      <td>5511.000000</td>\n      <td>89.000000</td>\n      <td>99.000000</td>\n      <td>10.000000</td>\n      <td>8.000000</td>\n      <td>28.922015</td>\n      <td>31.421003</td>\n      <td>31.131418</td>\n      <td>27.626739</td>\n      <td>...</td>\n      <td>1.000000</td>\n      <td>1.000000</td>\n      <td>1.000000</td>\n      <td>1.000000</td>\n      <td>1.000000</td>\n      <td>1.000000</td>\n      <td>1.000000</td>\n      <td>1.000000</td>\n      <td>1.000000</td>\n      <td>1.000000</td>\n    </tr>\n  </tbody>\n</table>\n<p>8 rows × 1656 columns</p>\n</div>"
     },
     "execution_count": 62,
     "metadata": {},
     "output_type": "execute_result"
    }
   ],
   "source": [
    "# All of the index columns are full and do not have null values. Need to fill the null values in\n",
    "# receiver columns with fill value.\n",
    "week_def_pivot.describe()"
   ]
  },
  {
   "cell_type": "code",
   "execution_count": 62,
   "metadata": {
    "collapsed": false,
    "pycharm": {
     "name": "#%%\n"
    }
   },
   "outputs": [],
   "source": []
  },
  {
   "cell_type": "code",
   "execution_count": 62,
   "outputs": [],
   "source": [],
   "metadata": {
    "collapsed": false,
    "pycharm": {
     "name": "#%%\n"
    }
   }
  }
 ],
 "metadata": {
  "kernelspec": {
   "display_name": "Python 3",
   "language": "python",
   "name": "python3"
  },
  "language_info": {
   "codemirror_mode": {
    "name": "ipython",
    "version": 3
   },
   "file_extension": ".py",
   "mimetype": "text/x-python",
   "name": "python",
   "nbconvert_exporter": "python",
   "pygments_lexer": "ipython3",
   "version": "3.8.5"
  }
 },
 "nbformat": 4,
 "nbformat_minor": 0
}