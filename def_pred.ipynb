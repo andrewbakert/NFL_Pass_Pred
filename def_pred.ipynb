{
 "cells": [
  {
   "cell_type": "code",
   "execution_count": 1,
   "metadata": {
    "collapsed": false,
    "pycharm": {
     "name": "#%%\n"
    }
   },
   "outputs": [],
   "source": [
    "import matplotlib.pyplot as plt\n",
    "import seaborn as sns\n",
    "import pandas as pd\n",
    "import numpy as np"
   ]
  },
  {
   "cell_type": "code",
   "execution_count": 2,
   "metadata": {
    "collapsed": false,
    "pycharm": {
     "name": "#%%\n"
    }
   },
   "outputs": [],
   "source": [
    "week_data = pd.read_csv('assets/full_position.csv')"
   ]
  },
  {
   "cell_type": "code",
   "execution_count": 3,
   "metadata": {},
   "outputs": [
    {
     "data": {
      "text/plain": [
       "array([ 1,  2,  3,  4,  5,  6,  7,  8,  9, 10, 11, 12, 13, 14, 15, 16, 17],\n",
       "      dtype=int64)"
      ]
     },
     "execution_count": 3,
     "metadata": {},
     "output_type": "execute_result"
    }
   ],
   "source": [
    "week_data.week.unique()"
   ]
  },
  {
   "cell_type": "code",
   "execution_count": 4,
   "metadata": {
    "collapsed": false,
    "pycharm": {
     "name": "#%%\n"
    }
   },
   "outputs": [
    {
     "data": {
      "text/html": [
       "<div>\n",
       "<style scoped>\n",
       "    .dataframe tbody tr th:only-of-type {\n",
       "        vertical-align: middle;\n",
       "    }\n",
       "\n",
       "    .dataframe tbody tr th {\n",
       "        vertical-align: top;\n",
       "    }\n",
       "\n",
       "    .dataframe thead th {\n",
       "        text-align: right;\n",
       "    }\n",
       "</style>\n",
       "<table border=\"1\" class=\"dataframe\">\n",
       "  <thead>\n",
       "    <tr style=\"text-align: right;\">\n",
       "      <th></th>\n",
       "      <th>time</th>\n",
       "      <th>x</th>\n",
       "      <th>y</th>\n",
       "      <th>s</th>\n",
       "      <th>a</th>\n",
       "      <th>dis</th>\n",
       "      <th>o</th>\n",
       "      <th>dir</th>\n",
       "      <th>event</th>\n",
       "      <th>nflId</th>\n",
       "      <th>displayName</th>\n",
       "      <th>jerseyNumber</th>\n",
       "      <th>position</th>\n",
       "      <th>frameId</th>\n",
       "      <th>team</th>\n",
       "      <th>gameId</th>\n",
       "      <th>playId</th>\n",
       "      <th>playDirection</th>\n",
       "      <th>route</th>\n",
       "      <th>week</th>\n",
       "    </tr>\n",
       "  </thead>\n",
       "  <tbody>\n",
       "    <tr>\n",
       "      <th>0</th>\n",
       "      <td>2018-09-07T01:07:14.599Z</td>\n",
       "      <td>91.73</td>\n",
       "      <td>26.67</td>\n",
       "      <td>0.00</td>\n",
       "      <td>0.01</td>\n",
       "      <td>0.02</td>\n",
       "      <td>289.57</td>\n",
       "      <td>240.93</td>\n",
       "      <td>None</td>\n",
       "      <td>310.0</td>\n",
       "      <td>Matt Ryan</td>\n",
       "      <td>2.0</td>\n",
       "      <td>QB</td>\n",
       "      <td>1</td>\n",
       "      <td>away</td>\n",
       "      <td>2018090600</td>\n",
       "      <td>75</td>\n",
       "      <td>left</td>\n",
       "      <td>NaN</td>\n",
       "      <td>1</td>\n",
       "    </tr>\n",
       "    <tr>\n",
       "      <th>1</th>\n",
       "      <td>2018-09-07T01:07:14.599Z</td>\n",
       "      <td>88.89</td>\n",
       "      <td>36.47</td>\n",
       "      <td>0.01</td>\n",
       "      <td>0.01</td>\n",
       "      <td>0.01</td>\n",
       "      <td>105.63</td>\n",
       "      <td>66.66</td>\n",
       "      <td>None</td>\n",
       "      <td>79848.0</td>\n",
       "      <td>Malcolm Jenkins</td>\n",
       "      <td>27.0</td>\n",
       "      <td>SS</td>\n",
       "      <td>1</td>\n",
       "      <td>home</td>\n",
       "      <td>2018090600</td>\n",
       "      <td>75</td>\n",
       "      <td>left</td>\n",
       "      <td>NaN</td>\n",
       "      <td>1</td>\n",
       "    </tr>\n",
       "    <tr>\n",
       "      <th>2</th>\n",
       "      <td>2018-09-07T01:07:14.599Z</td>\n",
       "      <td>91.35</td>\n",
       "      <td>44.16</td>\n",
       "      <td>0.02</td>\n",
       "      <td>0.03</td>\n",
       "      <td>0.01</td>\n",
       "      <td>290.45</td>\n",
       "      <td>16.86</td>\n",
       "      <td>None</td>\n",
       "      <td>2495454.0</td>\n",
       "      <td>Julio Jones</td>\n",
       "      <td>11.0</td>\n",
       "      <td>WR</td>\n",
       "      <td>1</td>\n",
       "      <td>away</td>\n",
       "      <td>2018090600</td>\n",
       "      <td>75</td>\n",
       "      <td>left</td>\n",
       "      <td>HITCH</td>\n",
       "      <td>1</td>\n",
       "    </tr>\n",
       "    <tr>\n",
       "      <th>3</th>\n",
       "      <td>2018-09-07T01:07:14.599Z</td>\n",
       "      <td>86.31</td>\n",
       "      <td>22.01</td>\n",
       "      <td>0.09</td>\n",
       "      <td>0.42</td>\n",
       "      <td>0.01</td>\n",
       "      <td>70.12</td>\n",
       "      <td>168.91</td>\n",
       "      <td>None</td>\n",
       "      <td>2495613.0</td>\n",
       "      <td>Corey Graham</td>\n",
       "      <td>24.0</td>\n",
       "      <td>FS</td>\n",
       "      <td>1</td>\n",
       "      <td>home</td>\n",
       "      <td>2018090600</td>\n",
       "      <td>75</td>\n",
       "      <td>left</td>\n",
       "      <td>NaN</td>\n",
       "      <td>1</td>\n",
       "    </tr>\n",
       "    <tr>\n",
       "      <th>4</th>\n",
       "      <td>2018-09-07T01:07:14.599Z</td>\n",
       "      <td>90.78</td>\n",
       "      <td>36.15</td>\n",
       "      <td>0.00</td>\n",
       "      <td>0.00</td>\n",
       "      <td>0.00</td>\n",
       "      <td>257.61</td>\n",
       "      <td>193.97</td>\n",
       "      <td>None</td>\n",
       "      <td>2533040.0</td>\n",
       "      <td>Mohamed Sanu</td>\n",
       "      <td>12.0</td>\n",
       "      <td>WR</td>\n",
       "      <td>1</td>\n",
       "      <td>away</td>\n",
       "      <td>2018090600</td>\n",
       "      <td>75</td>\n",
       "      <td>left</td>\n",
       "      <td>HITCH</td>\n",
       "      <td>1</td>\n",
       "    </tr>\n",
       "  </tbody>\n",
       "</table>\n",
       "</div>"
      ],
      "text/plain": [
       "                       time      x      y     s     a   dis       o     dir  \\\n",
       "0  2018-09-07T01:07:14.599Z  91.73  26.67  0.00  0.01  0.02  289.57  240.93   \n",
       "1  2018-09-07T01:07:14.599Z  88.89  36.47  0.01  0.01  0.01  105.63   66.66   \n",
       "2  2018-09-07T01:07:14.599Z  91.35  44.16  0.02  0.03  0.01  290.45   16.86   \n",
       "3  2018-09-07T01:07:14.599Z  86.31  22.01  0.09  0.42  0.01   70.12  168.91   \n",
       "4  2018-09-07T01:07:14.599Z  90.78  36.15  0.00  0.00  0.00  257.61  193.97   \n",
       "\n",
       "  event      nflId      displayName  jerseyNumber position  frameId  team  \\\n",
       "0  None      310.0        Matt Ryan           2.0       QB        1  away   \n",
       "1  None    79848.0  Malcolm Jenkins          27.0       SS        1  home   \n",
       "2  None  2495454.0      Julio Jones          11.0       WR        1  away   \n",
       "3  None  2495613.0     Corey Graham          24.0       FS        1  home   \n",
       "4  None  2533040.0     Mohamed Sanu          12.0       WR        1  away   \n",
       "\n",
       "       gameId  playId playDirection  route  week  \n",
       "0  2018090600      75          left    NaN     1  \n",
       "1  2018090600      75          left    NaN     1  \n",
       "2  2018090600      75          left  HITCH     1  \n",
       "3  2018090600      75          left    NaN     1  \n",
       "4  2018090600      75          left  HITCH     1  "
      ]
     },
     "execution_count": 4,
     "metadata": {},
     "output_type": "execute_result"
    }
   ],
   "source": [
    "week_data.head()"
   ]
  },
  {
   "cell_type": "code",
   "execution_count": 5,
   "metadata": {},
   "outputs": [],
   "source": [
    "week_data = week_data[week_data['week']==5]"
   ]
  },
  {
   "cell_type": "code",
   "execution_count": 6,
   "metadata": {},
   "outputs": [
    {
     "data": {
      "text/html": [
       "<div>\n",
       "<style scoped>\n",
       "    .dataframe tbody tr th:only-of-type {\n",
       "        vertical-align: middle;\n",
       "    }\n",
       "\n",
       "    .dataframe tbody tr th {\n",
       "        vertical-align: top;\n",
       "    }\n",
       "\n",
       "    .dataframe thead th {\n",
       "        text-align: right;\n",
       "    }\n",
       "</style>\n",
       "<table border=\"1\" class=\"dataframe\">\n",
       "  <thead>\n",
       "    <tr style=\"text-align: right;\">\n",
       "      <th></th>\n",
       "      <th>time</th>\n",
       "      <th>x</th>\n",
       "      <th>y</th>\n",
       "      <th>s</th>\n",
       "      <th>a</th>\n",
       "      <th>dis</th>\n",
       "      <th>o</th>\n",
       "      <th>dir</th>\n",
       "      <th>event</th>\n",
       "      <th>nflId</th>\n",
       "      <th>displayName</th>\n",
       "      <th>jerseyNumber</th>\n",
       "      <th>position</th>\n",
       "      <th>frameId</th>\n",
       "      <th>team</th>\n",
       "      <th>gameId</th>\n",
       "      <th>playId</th>\n",
       "      <th>playDirection</th>\n",
       "      <th>route</th>\n",
       "      <th>week</th>\n",
       "    </tr>\n",
       "  </thead>\n",
       "  <tbody>\n",
       "    <tr>\n",
       "      <th>4591687</th>\n",
       "      <td>2018-10-05T00:23:49.700Z</td>\n",
       "      <td>86.56</td>\n",
       "      <td>30.79</td>\n",
       "      <td>0.0</td>\n",
       "      <td>0.0</td>\n",
       "      <td>0.0</td>\n",
       "      <td>260.09</td>\n",
       "      <td>311.40</td>\n",
       "      <td>None</td>\n",
       "      <td>238498.0</td>\n",
       "      <td>Julian Edelman</td>\n",
       "      <td>11.0</td>\n",
       "      <td>WR</td>\n",
       "      <td>1</td>\n",
       "      <td>home</td>\n",
       "      <td>2018100400</td>\n",
       "      <td>51</td>\n",
       "      <td>left</td>\n",
       "      <td>HITCH</td>\n",
       "      <td>5</td>\n",
       "    </tr>\n",
       "    <tr>\n",
       "      <th>4591688</th>\n",
       "      <td>2018-10-05T00:23:49.700Z</td>\n",
       "      <td>85.54</td>\n",
       "      <td>34.83</td>\n",
       "      <td>0.0</td>\n",
       "      <td>0.0</td>\n",
       "      <td>0.0</td>\n",
       "      <td>301.97</td>\n",
       "      <td>279.57</td>\n",
       "      <td>None</td>\n",
       "      <td>497240.0</td>\n",
       "      <td>Rob Gronkowski</td>\n",
       "      <td>87.0</td>\n",
       "      <td>TE</td>\n",
       "      <td>1</td>\n",
       "      <td>home</td>\n",
       "      <td>2018100400</td>\n",
       "      <td>51</td>\n",
       "      <td>left</td>\n",
       "      <td>GO</td>\n",
       "      <td>5</td>\n",
       "    </tr>\n",
       "    <tr>\n",
       "      <th>4591689</th>\n",
       "      <td>2018-10-05T00:23:49.700Z</td>\n",
       "      <td>90.23</td>\n",
       "      <td>23.65</td>\n",
       "      <td>0.0</td>\n",
       "      <td>0.0</td>\n",
       "      <td>0.0</td>\n",
       "      <td>275.51</td>\n",
       "      <td>261.21</td>\n",
       "      <td>None</td>\n",
       "      <td>2504211.0</td>\n",
       "      <td>Tom Brady</td>\n",
       "      <td>12.0</td>\n",
       "      <td>QB</td>\n",
       "      <td>1</td>\n",
       "      <td>home</td>\n",
       "      <td>2018100400</td>\n",
       "      <td>51</td>\n",
       "      <td>left</td>\n",
       "      <td>NaN</td>\n",
       "      <td>5</td>\n",
       "    </tr>\n",
       "    <tr>\n",
       "      <th>4591690</th>\n",
       "      <td>2018-10-05T00:23:49.700Z</td>\n",
       "      <td>86.47</td>\n",
       "      <td>15.91</td>\n",
       "      <td>0.0</td>\n",
       "      <td>0.0</td>\n",
       "      <td>0.0</td>\n",
       "      <td>283.76</td>\n",
       "      <td>234.57</td>\n",
       "      <td>None</td>\n",
       "      <td>2530515.0</td>\n",
       "      <td>Chris Hogan</td>\n",
       "      <td>15.0</td>\n",
       "      <td>WR</td>\n",
       "      <td>1</td>\n",
       "      <td>home</td>\n",
       "      <td>2018100400</td>\n",
       "      <td>51</td>\n",
       "      <td>left</td>\n",
       "      <td>HITCH</td>\n",
       "      <td>5</td>\n",
       "    </tr>\n",
       "    <tr>\n",
       "      <th>4591691</th>\n",
       "      <td>2018-10-05T00:23:49.700Z</td>\n",
       "      <td>85.62</td>\n",
       "      <td>8.77</td>\n",
       "      <td>0.0</td>\n",
       "      <td>0.0</td>\n",
       "      <td>0.0</td>\n",
       "      <td>266.56</td>\n",
       "      <td>172.17</td>\n",
       "      <td>None</td>\n",
       "      <td>2537931.0</td>\n",
       "      <td>Josh Gordon</td>\n",
       "      <td>10.0</td>\n",
       "      <td>WR</td>\n",
       "      <td>1</td>\n",
       "      <td>home</td>\n",
       "      <td>2018100400</td>\n",
       "      <td>51</td>\n",
       "      <td>left</td>\n",
       "      <td>GO</td>\n",
       "      <td>5</td>\n",
       "    </tr>\n",
       "  </tbody>\n",
       "</table>\n",
       "</div>"
      ],
      "text/plain": [
       "                             time      x      y    s    a  dis       o  \\\n",
       "4591687  2018-10-05T00:23:49.700Z  86.56  30.79  0.0  0.0  0.0  260.09   \n",
       "4591688  2018-10-05T00:23:49.700Z  85.54  34.83  0.0  0.0  0.0  301.97   \n",
       "4591689  2018-10-05T00:23:49.700Z  90.23  23.65  0.0  0.0  0.0  275.51   \n",
       "4591690  2018-10-05T00:23:49.700Z  86.47  15.91  0.0  0.0  0.0  283.76   \n",
       "4591691  2018-10-05T00:23:49.700Z  85.62   8.77  0.0  0.0  0.0  266.56   \n",
       "\n",
       "            dir event      nflId     displayName  jerseyNumber position  \\\n",
       "4591687  311.40  None   238498.0  Julian Edelman          11.0       WR   \n",
       "4591688  279.57  None   497240.0  Rob Gronkowski          87.0       TE   \n",
       "4591689  261.21  None  2504211.0       Tom Brady          12.0       QB   \n",
       "4591690  234.57  None  2530515.0     Chris Hogan          15.0       WR   \n",
       "4591691  172.17  None  2537931.0     Josh Gordon          10.0       WR   \n",
       "\n",
       "         frameId  team      gameId  playId playDirection  route  week  \n",
       "4591687        1  home  2018100400      51          left  HITCH     5  \n",
       "4591688        1  home  2018100400      51          left     GO     5  \n",
       "4591689        1  home  2018100400      51          left    NaN     5  \n",
       "4591690        1  home  2018100400      51          left  HITCH     5  \n",
       "4591691        1  home  2018100400      51          left     GO     5  "
      ]
     },
     "execution_count": 6,
     "metadata": {},
     "output_type": "execute_result"
    }
   ],
   "source": [
    "week_data.head()"
   ]
  },
  {
   "cell_type": "code",
   "execution_count": 7,
   "metadata": {
    "collapsed": false,
    "pycharm": {
     "name": "#%%\n"
    }
   },
   "outputs": [
    {
     "data": {
      "text/html": [
       "<div>\n",
       "<style scoped>\n",
       "    .dataframe tbody tr th:only-of-type {\n",
       "        vertical-align: middle;\n",
       "    }\n",
       "\n",
       "    .dataframe tbody tr th {\n",
       "        vertical-align: top;\n",
       "    }\n",
       "\n",
       "    .dataframe thead th {\n",
       "        text-align: right;\n",
       "    }\n",
       "</style>\n",
       "<table border=\"1\" class=\"dataframe\">\n",
       "  <thead>\n",
       "    <tr style=\"text-align: right;\">\n",
       "      <th></th>\n",
       "      <th>x</th>\n",
       "      <th>y</th>\n",
       "      <th>s</th>\n",
       "      <th>a</th>\n",
       "      <th>dis</th>\n",
       "      <th>o</th>\n",
       "      <th>dir</th>\n",
       "      <th>nflId</th>\n",
       "      <th>jerseyNumber</th>\n",
       "      <th>frameId</th>\n",
       "      <th>gameId</th>\n",
       "      <th>playId</th>\n",
       "      <th>week</th>\n",
       "    </tr>\n",
       "  </thead>\n",
       "  <tbody>\n",
       "    <tr>\n",
       "      <th>count</th>\n",
       "      <td>1.171908e+06</td>\n",
       "      <td>1.171908e+06</td>\n",
       "      <td>1.171908e+06</td>\n",
       "      <td>1.171908e+06</td>\n",
       "      <td>1.171908e+06</td>\n",
       "      <td>1.092057e+06</td>\n",
       "      <td>1.092057e+06</td>\n",
       "      <td>1.092057e+06</td>\n",
       "      <td>1.092057e+06</td>\n",
       "      <td>1.171908e+06</td>\n",
       "      <td>1.171908e+06</td>\n",
       "      <td>1.171908e+06</td>\n",
       "      <td>1171908.0</td>\n",
       "    </tr>\n",
       "    <tr>\n",
       "      <th>mean</th>\n",
       "      <td>6.027526e+01</td>\n",
       "      <td>2.666153e+01</td>\n",
       "      <td>3.188657e+00</td>\n",
       "      <td>1.992009e+00</td>\n",
       "      <td>3.228805e-01</td>\n",
       "      <td>1.810829e+02</td>\n",
       "      <td>1.802101e+02</td>\n",
       "      <td>2.365202e+06</td>\n",
       "      <td>3.782508e+01</td>\n",
       "      <td>3.630401e+01</td>\n",
       "      <td>2.018101e+09</td>\n",
       "      <td>2.242340e+03</td>\n",
       "      <td>5.0</td>\n",
       "    </tr>\n",
       "    <tr>\n",
       "      <th>std</th>\n",
       "      <td>2.497171e+01</td>\n",
       "      <td>1.107521e+01</td>\n",
       "      <td>2.822739e+00</td>\n",
       "      <td>1.604656e+00</td>\n",
       "      <td>3.058559e-01</td>\n",
       "      <td>9.967845e+01</td>\n",
       "      <td>1.023125e+02</td>\n",
       "      <td>6.237653e+05</td>\n",
       "      <td>2.470364e+01</td>\n",
       "      <td>2.428520e+01</td>\n",
       "      <td>8.778512e+01</td>\n",
       "      <td>1.258602e+03</td>\n",
       "      <td>0.0</td>\n",
       "    </tr>\n",
       "    <tr>\n",
       "      <th>min</th>\n",
       "      <td>-6.110000e+00</td>\n",
       "      <td>-8.600000e+00</td>\n",
       "      <td>0.000000e+00</td>\n",
       "      <td>0.000000e+00</td>\n",
       "      <td>0.000000e+00</td>\n",
       "      <td>0.000000e+00</td>\n",
       "      <td>0.000000e+00</td>\n",
       "      <td>3.060000e+02</td>\n",
       "      <td>1.000000e+00</td>\n",
       "      <td>1.000000e+00</td>\n",
       "      <td>2.018100e+09</td>\n",
       "      <td>5.100000e+01</td>\n",
       "      <td>5.0</td>\n",
       "    </tr>\n",
       "    <tr>\n",
       "      <th>25%</th>\n",
       "      <td>4.135000e+01</td>\n",
       "      <td>1.898000e+01</td>\n",
       "      <td>9.000000e-01</td>\n",
       "      <td>7.400000e-01</td>\n",
       "      <td>9.000000e-02</td>\n",
       "      <td>9.230000e+01</td>\n",
       "      <td>9.122000e+01</td>\n",
       "      <td>2.533457e+06</td>\n",
       "      <td>2.100000e+01</td>\n",
       "      <td>1.700000e+01</td>\n",
       "      <td>2.018101e+09</td>\n",
       "      <td>1.174000e+03</td>\n",
       "      <td>5.0</td>\n",
       "    </tr>\n",
       "    <tr>\n",
       "      <th>50%</th>\n",
       "      <td>6.017000e+01</td>\n",
       "      <td>2.656000e+01</td>\n",
       "      <td>2.800000e+00</td>\n",
       "      <td>1.740000e+00</td>\n",
       "      <td>2.800000e-01</td>\n",
       "      <td>1.789200e+02</td>\n",
       "      <td>1.800800e+02</td>\n",
       "      <td>2.552392e+06</td>\n",
       "      <td>2.900000e+01</td>\n",
       "      <td>3.400000e+01</td>\n",
       "      <td>2.018101e+09</td>\n",
       "      <td>2.279000e+03</td>\n",
       "      <td>5.0</td>\n",
       "    </tr>\n",
       "    <tr>\n",
       "      <th>75%</th>\n",
       "      <td>7.861000e+01</td>\n",
       "      <td>3.434000e+01</td>\n",
       "      <td>4.910000e+00</td>\n",
       "      <td>2.920000e+00</td>\n",
       "      <td>4.900000e-01</td>\n",
       "      <td>2.703500e+02</td>\n",
       "      <td>2.697000e+02</td>\n",
       "      <td>2.557887e+06</td>\n",
       "      <td>5.300000e+01</td>\n",
       "      <td>5.100000e+01</td>\n",
       "      <td>2.018101e+09</td>\n",
       "      <td>3.295000e+03</td>\n",
       "      <td>5.0</td>\n",
       "    </tr>\n",
       "    <tr>\n",
       "      <th>max</th>\n",
       "      <td>1.243700e+02</td>\n",
       "      <td>6.848000e+01</td>\n",
       "      <td>2.803000e+01</td>\n",
       "      <td>4.576000e+01</td>\n",
       "      <td>7.210000e+00</td>\n",
       "      <td>3.600000e+02</td>\n",
       "      <td>3.600000e+02</td>\n",
       "      <td>2.561653e+06</td>\n",
       "      <td>9.900000e+01</td>\n",
       "      <td>2.240000e+02</td>\n",
       "      <td>2.018101e+09</td>\n",
       "      <td>4.943000e+03</td>\n",
       "      <td>5.0</td>\n",
       "    </tr>\n",
       "  </tbody>\n",
       "</table>\n",
       "</div>"
      ],
      "text/plain": [
       "                  x             y             s             a           dis  \\\n",
       "count  1.171908e+06  1.171908e+06  1.171908e+06  1.171908e+06  1.171908e+06   \n",
       "mean   6.027526e+01  2.666153e+01  3.188657e+00  1.992009e+00  3.228805e-01   \n",
       "std    2.497171e+01  1.107521e+01  2.822739e+00  1.604656e+00  3.058559e-01   \n",
       "min   -6.110000e+00 -8.600000e+00  0.000000e+00  0.000000e+00  0.000000e+00   \n",
       "25%    4.135000e+01  1.898000e+01  9.000000e-01  7.400000e-01  9.000000e-02   \n",
       "50%    6.017000e+01  2.656000e+01  2.800000e+00  1.740000e+00  2.800000e-01   \n",
       "75%    7.861000e+01  3.434000e+01  4.910000e+00  2.920000e+00  4.900000e-01   \n",
       "max    1.243700e+02  6.848000e+01  2.803000e+01  4.576000e+01  7.210000e+00   \n",
       "\n",
       "                  o           dir         nflId  jerseyNumber       frameId  \\\n",
       "count  1.092057e+06  1.092057e+06  1.092057e+06  1.092057e+06  1.171908e+06   \n",
       "mean   1.810829e+02  1.802101e+02  2.365202e+06  3.782508e+01  3.630401e+01   \n",
       "std    9.967845e+01  1.023125e+02  6.237653e+05  2.470364e+01  2.428520e+01   \n",
       "min    0.000000e+00  0.000000e+00  3.060000e+02  1.000000e+00  1.000000e+00   \n",
       "25%    9.230000e+01  9.122000e+01  2.533457e+06  2.100000e+01  1.700000e+01   \n",
       "50%    1.789200e+02  1.800800e+02  2.552392e+06  2.900000e+01  3.400000e+01   \n",
       "75%    2.703500e+02  2.697000e+02  2.557887e+06  5.300000e+01  5.100000e+01   \n",
       "max    3.600000e+02  3.600000e+02  2.561653e+06  9.900000e+01  2.240000e+02   \n",
       "\n",
       "             gameId        playId       week  \n",
       "count  1.171908e+06  1.171908e+06  1171908.0  \n",
       "mean   2.018101e+09  2.242340e+03        5.0  \n",
       "std    8.778512e+01  1.258602e+03        0.0  \n",
       "min    2.018100e+09  5.100000e+01        5.0  \n",
       "25%    2.018101e+09  1.174000e+03        5.0  \n",
       "50%    2.018101e+09  2.279000e+03        5.0  \n",
       "75%    2.018101e+09  3.295000e+03        5.0  \n",
       "max    2.018101e+09  4.943000e+03        5.0  "
      ]
     },
     "execution_count": 7,
     "metadata": {},
     "output_type": "execute_result"
    }
   ],
   "source": [
    "# Check dataframe. There are some null values in nflId.\n",
    "week_data.describe()"
   ]
  },
  {
   "cell_type": "code",
   "execution_count": 8,
   "metadata": {
    "collapsed": false,
    "pycharm": {
     "name": "#%%\n"
    }
   },
   "outputs": [
    {
     "data": {
      "text/plain": [
       "array(['Football'], dtype=object)"
      ]
     },
     "execution_count": 8,
     "metadata": {},
     "output_type": "execute_result"
    }
   ],
   "source": [
    "# The null nflId column values are from the movements of the football.\n",
    "# This will be filtered later in the notebook.\n",
    "week_data[week_data['nflId'].isnull()]['displayName'].unique()"
   ]
  },
  {
   "cell_type": "code",
   "execution_count": 9,
   "metadata": {
    "collapsed": false,
    "pycharm": {
     "name": "#%%\n"
    }
   },
   "outputs": [],
   "source": [
    "# Read play data.\n",
    "play_data = pd.read_csv('Kaggle-Data-Files/plays.csv')"
   ]
  },
  {
   "cell_type": "code",
   "execution_count": 10,
   "metadata": {
    "collapsed": false,
    "pycharm": {
     "name": "#%%\n"
    }
   },
   "outputs": [
    {
     "data": {
      "text/html": [
       "<div>\n",
       "<style scoped>\n",
       "    .dataframe tbody tr th:only-of-type {\n",
       "        vertical-align: middle;\n",
       "    }\n",
       "\n",
       "    .dataframe tbody tr th {\n",
       "        vertical-align: top;\n",
       "    }\n",
       "\n",
       "    .dataframe thead th {\n",
       "        text-align: right;\n",
       "    }\n",
       "</style>\n",
       "<table border=\"1\" class=\"dataframe\">\n",
       "  <thead>\n",
       "    <tr style=\"text-align: right;\">\n",
       "      <th></th>\n",
       "      <th>gameId</th>\n",
       "      <th>playId</th>\n",
       "      <th>quarter</th>\n",
       "      <th>down</th>\n",
       "      <th>yardsToGo</th>\n",
       "      <th>yardlineNumber</th>\n",
       "      <th>defendersInTheBox</th>\n",
       "      <th>numberOfPassRushers</th>\n",
       "      <th>preSnapVisitorScore</th>\n",
       "      <th>preSnapHomeScore</th>\n",
       "      <th>absoluteYardlineNumber</th>\n",
       "      <th>offensePlayResult</th>\n",
       "      <th>playResult</th>\n",
       "      <th>epa</th>\n",
       "    </tr>\n",
       "  </thead>\n",
       "  <tbody>\n",
       "    <tr>\n",
       "      <th>count</th>\n",
       "      <td>1.923900e+04</td>\n",
       "      <td>19239.000000</td>\n",
       "      <td>19239.000000</td>\n",
       "      <td>19239.000000</td>\n",
       "      <td>19239.000000</td>\n",
       "      <td>19239.000000</td>\n",
       "      <td>19177.000000</td>\n",
       "      <td>18606.000000</td>\n",
       "      <td>18600.000000</td>\n",
       "      <td>18600.000000</td>\n",
       "      <td>18600.000000</td>\n",
       "      <td>19239.000000</td>\n",
       "      <td>19239.000000</td>\n",
       "      <td>19239.000000</td>\n",
       "    </tr>\n",
       "    <tr>\n",
       "      <th>mean</th>\n",
       "      <td>2.018107e+09</td>\n",
       "      <td>2176.217319</td>\n",
       "      <td>2.591039</td>\n",
       "      <td>1.920318</td>\n",
       "      <td>8.923905</td>\n",
       "      <td>29.860232</td>\n",
       "      <td>6.036189</td>\n",
       "      <td>4.216543</td>\n",
       "      <td>10.758333</td>\n",
       "      <td>12.465484</td>\n",
       "      <td>59.905753</td>\n",
       "      <td>6.279380</td>\n",
       "      <td>6.469047</td>\n",
       "      <td>0.020725</td>\n",
       "    </tr>\n",
       "    <tr>\n",
       "      <th>std</th>\n",
       "      <td>1.148060e+04</td>\n",
       "      <td>1240.919041</td>\n",
       "      <td>1.123155</td>\n",
       "      <td>0.848819</td>\n",
       "      <td>3.974216</td>\n",
       "      <td>12.444118</td>\n",
       "      <td>1.015547</td>\n",
       "      <td>0.897862</td>\n",
       "      <td>9.798115</td>\n",
       "      <td>10.552753</td>\n",
       "      <td>23.641588</td>\n",
       "      <td>10.184296</td>\n",
       "      <td>10.566605</td>\n",
       "      <td>1.580748</td>\n",
       "    </tr>\n",
       "    <tr>\n",
       "      <th>min</th>\n",
       "      <td>2.018091e+09</td>\n",
       "      <td>50.000000</td>\n",
       "      <td>1.000000</td>\n",
       "      <td>1.000000</td>\n",
       "      <td>1.000000</td>\n",
       "      <td>1.000000</td>\n",
       "      <td>1.000000</td>\n",
       "      <td>0.000000</td>\n",
       "      <td>0.000000</td>\n",
       "      <td>0.000000</td>\n",
       "      <td>11.000000</td>\n",
       "      <td>-19.000000</td>\n",
       "      <td>-78.000000</td>\n",
       "      <td>-11.935951</td>\n",
       "    </tr>\n",
       "    <tr>\n",
       "      <th>25%</th>\n",
       "      <td>2.018100e+09</td>\n",
       "      <td>1125.000000</td>\n",
       "      <td>2.000000</td>\n",
       "      <td>1.000000</td>\n",
       "      <td>6.000000</td>\n",
       "      <td>21.500000</td>\n",
       "      <td>6.000000</td>\n",
       "      <td>4.000000</td>\n",
       "      <td>3.000000</td>\n",
       "      <td>3.000000</td>\n",
       "      <td>40.000000</td>\n",
       "      <td>0.000000</td>\n",
       "      <td>0.000000</td>\n",
       "      <td>-0.745327</td>\n",
       "    </tr>\n",
       "    <tr>\n",
       "      <th>50%</th>\n",
       "      <td>2.018110e+09</td>\n",
       "      <td>2166.000000</td>\n",
       "      <td>3.000000</td>\n",
       "      <td>2.000000</td>\n",
       "      <td>10.000000</td>\n",
       "      <td>30.000000</td>\n",
       "      <td>6.000000</td>\n",
       "      <td>4.000000</td>\n",
       "      <td>9.000000</td>\n",
       "      <td>10.000000</td>\n",
       "      <td>60.000000</td>\n",
       "      <td>4.000000</td>\n",
       "      <td>4.000000</td>\n",
       "      <td>-0.190540</td>\n",
       "    </tr>\n",
       "    <tr>\n",
       "      <th>75%</th>\n",
       "      <td>2.018120e+09</td>\n",
       "      <td>3203.500000</td>\n",
       "      <td>4.000000</td>\n",
       "      <td>3.000000</td>\n",
       "      <td>10.000000</td>\n",
       "      <td>40.000000</td>\n",
       "      <td>7.000000</td>\n",
       "      <td>5.000000</td>\n",
       "      <td>17.000000</td>\n",
       "      <td>20.000000</td>\n",
       "      <td>80.000000</td>\n",
       "      <td>10.000000</td>\n",
       "      <td>11.000000</td>\n",
       "      <td>0.976822</td>\n",
       "    </tr>\n",
       "    <tr>\n",
       "      <th>max</th>\n",
       "      <td>2.018123e+09</td>\n",
       "      <td>5661.000000</td>\n",
       "      <td>5.000000</td>\n",
       "      <td>4.000000</td>\n",
       "      <td>41.000000</td>\n",
       "      <td>50.000000</td>\n",
       "      <td>11.000000</td>\n",
       "      <td>10.000000</td>\n",
       "      <td>51.000000</td>\n",
       "      <td>54.000000</td>\n",
       "      <td>109.000000</td>\n",
       "      <td>97.000000</td>\n",
       "      <td>97.000000</td>\n",
       "      <td>8.629316</td>\n",
       "    </tr>\n",
       "  </tbody>\n",
       "</table>\n",
       "</div>"
      ],
      "text/plain": [
       "             gameId        playId       quarter          down     yardsToGo  \\\n",
       "count  1.923900e+04  19239.000000  19239.000000  19239.000000  19239.000000   \n",
       "mean   2.018107e+09   2176.217319      2.591039      1.920318      8.923905   \n",
       "std    1.148060e+04   1240.919041      1.123155      0.848819      3.974216   \n",
       "min    2.018091e+09     50.000000      1.000000      1.000000      1.000000   \n",
       "25%    2.018100e+09   1125.000000      2.000000      1.000000      6.000000   \n",
       "50%    2.018110e+09   2166.000000      3.000000      2.000000     10.000000   \n",
       "75%    2.018120e+09   3203.500000      4.000000      3.000000     10.000000   \n",
       "max    2.018123e+09   5661.000000      5.000000      4.000000     41.000000   \n",
       "\n",
       "       yardlineNumber  defendersInTheBox  numberOfPassRushers  \\\n",
       "count    19239.000000       19177.000000         18606.000000   \n",
       "mean        29.860232           6.036189             4.216543   \n",
       "std         12.444118           1.015547             0.897862   \n",
       "min          1.000000           1.000000             0.000000   \n",
       "25%         21.500000           6.000000             4.000000   \n",
       "50%         30.000000           6.000000             4.000000   \n",
       "75%         40.000000           7.000000             5.000000   \n",
       "max         50.000000          11.000000            10.000000   \n",
       "\n",
       "       preSnapVisitorScore  preSnapHomeScore  absoluteYardlineNumber  \\\n",
       "count         18600.000000      18600.000000            18600.000000   \n",
       "mean             10.758333         12.465484               59.905753   \n",
       "std               9.798115         10.552753               23.641588   \n",
       "min               0.000000          0.000000               11.000000   \n",
       "25%               3.000000          3.000000               40.000000   \n",
       "50%               9.000000         10.000000               60.000000   \n",
       "75%              17.000000         20.000000               80.000000   \n",
       "max              51.000000         54.000000              109.000000   \n",
       "\n",
       "       offensePlayResult    playResult           epa  \n",
       "count       19239.000000  19239.000000  19239.000000  \n",
       "mean            6.279380      6.469047      0.020725  \n",
       "std            10.184296     10.566605      1.580748  \n",
       "min           -19.000000    -78.000000    -11.935951  \n",
       "25%             0.000000      0.000000     -0.745327  \n",
       "50%             4.000000      4.000000     -0.190540  \n",
       "75%            10.000000     11.000000      0.976822  \n",
       "max            97.000000     97.000000      8.629316  "
      ]
     },
     "execution_count": 10,
     "metadata": {},
     "output_type": "execute_result"
    }
   ],
   "source": [
    "# Check for null values. Some yardline numbers are null.\n",
    "play_data.describe()"
   ]
  },
  {
   "cell_type": "code",
   "execution_count": 11,
   "metadata": {
    "collapsed": false,
    "pycharm": {
     "name": "#%%\n"
    }
   },
   "outputs": [],
   "source": [
    "# Filter to include non-null yardline numbers.\n",
    "play_data = play_data[play_data['absoluteYardlineNumber'].notnull()]"
   ]
  },
  {
   "cell_type": "code",
   "execution_count": 12,
   "metadata": {
    "collapsed": false,
    "pycharm": {
     "name": "#%%\n"
    }
   },
   "outputs": [
    {
     "data": {
      "text/plain": [
       "Index(['gameId', 'playId', 'playDescription', 'quarter', 'down', 'yardsToGo',\n",
       "       'possessionTeam', 'playType', 'yardlineSide', 'yardlineNumber',\n",
       "       'offenseFormation', 'personnelO', 'defendersInTheBox',\n",
       "       'numberOfPassRushers', 'personnelD', 'typeDropback',\n",
       "       'preSnapVisitorScore', 'preSnapHomeScore', 'gameClock',\n",
       "       'absoluteYardlineNumber', 'penaltyCodes', 'penaltyJerseyNumbers',\n",
       "       'passResult', 'offensePlayResult', 'playResult', 'epa',\n",
       "       'isDefensivePI'],\n",
       "      dtype='object')"
      ]
     },
     "execution_count": 12,
     "metadata": {},
     "output_type": "execute_result"
    }
   ],
   "source": [
    "play_data.columns"
   ]
  },
  {
   "cell_type": "code",
   "execution_count": 13,
   "metadata": {
    "collapsed": false,
    "pycharm": {
     "name": "#%%\n"
    }
   },
   "outputs": [],
   "source": [
    "# Merge movement and play-by-play datasets.\n",
    "week_play = week_data.merge(play_data, on=['gameId', 'playId'])"
   ]
  },
  {
   "cell_type": "code",
   "execution_count": 14,
   "metadata": {
    "collapsed": false,
    "pycharm": {
     "name": "#%%\n"
    }
   },
   "outputs": [
    {
     "data": {
      "text/plain": [
       "1143423"
      ]
     },
     "execution_count": 14,
     "metadata": {},
     "output_type": "execute_result"
    }
   ],
   "source": [
    "week_play.shape[0]"
   ]
  },
  {
   "cell_type": "code",
   "execution_count": 15,
   "metadata": {
    "collapsed": false,
    "pycharm": {
     "name": "#%%\n"
    }
   },
   "outputs": [],
   "source": [
    "# Convert time to datetime format.\n",
    "week_play['time'] = pd.to_datetime(week_play['time'], format='%Y-%m-%dT%H:%M:%S')"
   ]
  },
  {
   "cell_type": "code",
   "execution_count": 16,
   "metadata": {
    "collapsed": false,
    "pycharm": {
     "name": "#%%\n"
    }
   },
   "outputs": [
    {
     "name": "stderr",
     "output_type": "stream",
     "text": [
      "<ipython-input-16-d596cb274c38>:3: SettingWithCopyWarning: \n",
      "A value is trying to be set on a copy of a slice from a DataFrame\n",
      "\n",
      "See the caveats in the documentation: https://pandas.pydata.org/pandas-docs/stable/user_guide/indexing.html#returning-a-view-versus-a-copy\n",
      "  week_play['time_diff'][week_play['time_diff'].isnull()] = pd.Timedelta(0)\n"
     ]
    }
   ],
   "source": [
    "# Extract the time elapsed in the play. Labeled as \"time_acc_s\". May take a while for full dataset.\n",
    "week_play['time_diff'] = week_play.groupby(['playId', 'gameId', 'displayName'])['time'].diff()\n",
    "week_play['time_diff'][week_play['time_diff'].isnull()] = pd.Timedelta(0)\n",
    "week_play['time_acc_s'] = week_play.groupby(['playId', 'gameId', 'displayName'])['time_diff'].transform(\n",
    "    lambda x: x.map(lambda x: x.microseconds).cumsum()).div(1e6)"
   ]
  },
  {
   "cell_type": "code",
   "execution_count": 17,
   "metadata": {
    "collapsed": false,
    "pycharm": {
     "name": "#%%\n"
    }
   },
   "outputs": [],
   "source": [
    "# Load game data.\n",
    "games = pd.read_csv('Kaggle-Data-Files/games.csv')"
   ]
  },
  {
   "cell_type": "code",
   "execution_count": 18,
   "metadata": {
    "collapsed": false,
    "pycharm": {
     "name": "#%%\n"
    }
   },
   "outputs": [],
   "source": [
    "# Merge play-by-play and movement data with game data.\n",
    "week_play_games = week_play.merge(games, on='gameId')"
   ]
  },
  {
   "cell_type": "code",
   "execution_count": 19,
   "metadata": {
    "collapsed": false,
    "pycharm": {
     "name": "#%%\n"
    }
   },
   "outputs": [
    {
     "data": {
      "text/plain": [
       "array(['home', 'away', 'football'], dtype=object)"
      ]
     },
     "execution_count": 19,
     "metadata": {},
     "output_type": "execute_result"
    }
   ],
   "source": [
    "# Check values of team.\n",
    "week_play_games['team'].unique()"
   ]
  },
  {
   "cell_type": "code",
   "execution_count": 20,
   "metadata": {
    "collapsed": false,
    "pycharm": {
     "name": "#%%\n"
    }
   },
   "outputs": [],
   "source": [
    "# Find which teams in the dataframe are offensive vs. defensive.\n",
    "week_play_games['off'] = np.where(week_play_games['position'].isin(['QB', 'HB', 'FB', 'WR', 'TE', 'C', 'OG', 'OT', 'RB']),\n",
    "                                            True, False)"
   ]
  },
  {
   "cell_type": "code",
   "execution_count": 21,
   "metadata": {
    "collapsed": false,
    "pycharm": {
     "name": "#%%\n"
    }
   },
   "outputs": [
    {
     "data": {
      "text/plain": [
       "CB     226982\n",
       "OLB     97460\n",
       "FS      80800\n",
       "SS      57723\n",
       "ILB     54856\n",
       "MLB     31691\n",
       "LB      24997\n",
       "DB      21419\n",
       "S        2278\n",
       "DE        730\n",
       "DL        428\n",
       "K          65\n",
       "P          65\n",
       "DT         65\n",
       "LS         65\n",
       "Name: position, dtype: int64"
      ]
     },
     "execution_count": 21,
     "metadata": {},
     "output_type": "execute_result"
    }
   ],
   "source": [
    "# Check position counts for defense. All positions are correctly labelled.\n",
    "week_play_games[~week_play_games['off']]['position'].value_counts()"
   ]
  },
  {
   "cell_type": "code",
   "execution_count": 22,
   "metadata": {
    "collapsed": false,
    "pycharm": {
     "name": "#%%\n"
    }
   },
   "outputs": [
    {
     "data": {
      "text/plain": [
       "WR    212677\n",
       "TE     92613\n",
       "RB     78508\n",
       "QB     77995\n",
       "FB      2112\n",
       "HB      2006\n",
       "Name: position, dtype: int64"
      ]
     },
     "execution_count": 22,
     "metadata": {},
     "output_type": "execute_result"
    }
   ],
   "source": [
    "# Check position counts for offense. All positions are correctly labelled.\n",
    "week_play_games[week_play_games['off']]['position'].value_counts()"
   ]
  },
  {
   "cell_type": "code",
   "execution_count": 23,
   "metadata": {
    "collapsed": false,
    "pycharm": {
     "name": "#%%\n"
    }
   },
   "outputs": [],
   "source": [
    "# Filter to exclude football.\n",
    "week_non_foot = week_play_games[week_play_games['team'] != 'football']"
   ]
  },
  {
   "cell_type": "markdown",
   "metadata": {
    "collapsed": false
   },
   "source": []
  },
  {
   "cell_type": "code",
   "execution_count": 24,
   "metadata": {
    "collapsed": false,
    "pycharm": {
     "name": "#%%\n"
    }
   },
   "outputs": [
    {
     "name": "stderr",
     "output_type": "stream",
     "text": [
      "<ipython-input-24-8ea911f7632b>:2: SettingWithCopyWarning: \n",
      "A value is trying to be set on a copy of a slice from a DataFrame.\n",
      "Try using .loc[row_indexer,col_indexer] = value instead\n",
      "\n",
      "See the caveats in the documentation: https://pandas.pydata.org/pandas-docs/stable/user_guide/indexing.html#returning-a-view-versus-a-copy\n",
      "  week_non_foot['x_starting'] = week_non_foot.groupby(['gameId', 'playId', 'nflId'])['x'].transform(lambda x: x.iloc[0])\n",
      "<ipython-input-24-8ea911f7632b>:3: SettingWithCopyWarning: \n",
      "A value is trying to be set on a copy of a slice from a DataFrame.\n",
      "Try using .loc[row_indexer,col_indexer] = value instead\n",
      "\n",
      "See the caveats in the documentation: https://pandas.pydata.org/pandas-docs/stable/user_guide/indexing.html#returning-a-view-versus-a-copy\n",
      "  week_non_foot['y_starting'] = week_non_foot.groupby(['gameId', 'playId', 'nflId'])['y'].transform(lambda x: x.iloc[0])\n"
     ]
    }
   ],
   "source": [
    "# Extract starting x and y position.\n",
    "week_non_foot['x_starting'] = week_non_foot.groupby(['gameId', 'playId', 'nflId'])['x'].transform(lambda x: x.iloc[0])\n",
    "week_non_foot['y_starting'] = week_non_foot.groupby(['gameId', 'playId', 'nflId'])['y'].transform(lambda x: x.iloc[0])"
   ]
  },
  {
   "cell_type": "code",
   "execution_count": 25,
   "metadata": {
    "collapsed": false,
    "pycharm": {
     "name": "#%%\n"
    }
   },
   "outputs": [
    {
     "name": "stderr",
     "output_type": "stream",
     "text": [
      "<ipython-input-25-ebdd8769abfc>:2: SettingWithCopyWarning: \n",
      "A value is trying to be set on a copy of a slice from a DataFrame.\n",
      "Try using .loc[row_indexer,col_indexer] = value instead\n",
      "\n",
      "See the caveats in the documentation: https://pandas.pydata.org/pandas-docs/stable/user_guide/indexing.html#returning-a-view-versus-a-copy\n",
      "  week_non_foot['yardline_100'] = week_non_foot['absoluteYardlineNumber'].sub(10)\n"
     ]
    }
   ],
   "source": [
    "# Subtract 10 from yardline to get relative to left endzone.\n",
    "week_non_foot['yardline_100'] = week_non_foot['absoluteYardlineNumber'].sub(10)"
   ]
  },
  {
   "cell_type": "code",
   "execution_count": 26,
   "metadata": {
    "collapsed": false,
    "pycharm": {
     "name": "#%%\n"
    }
   },
   "outputs": [],
   "source": [
    "# Extract data for offense, including yardline numbers. Used to find the yardline for the first down.\n",
    "week_off = week_non_foot[week_non_foot['off']].groupby(['gameId', 'playId'])[[\n",
    "    'x_starting', 'yardline_100', 'absoluteYardlineNumber', 'yardsToGo']].first().reset_index()\n",
    "week_off['yardline_first'] = np.where(week_off['x_starting'].gt(week_off['absoluteYardlineNumber']),\n",
    "         week_off['yardline_100'].sub(week_off['yardsToGo']),\n",
    "         week_off['yardline_100'].add(week_off['yardsToGo']))"
   ]
  },
  {
   "cell_type": "code",
   "execution_count": 27,
   "metadata": {
    "collapsed": false,
    "pycharm": {
     "name": "#%%\n"
    }
   },
   "outputs": [
    {
     "data": {
      "text/html": [
       "<div>\n",
       "<style scoped>\n",
       "    .dataframe tbody tr th:only-of-type {\n",
       "        vertical-align: middle;\n",
       "    }\n",
       "\n",
       "    .dataframe tbody tr th {\n",
       "        vertical-align: top;\n",
       "    }\n",
       "\n",
       "    .dataframe thead th {\n",
       "        text-align: right;\n",
       "    }\n",
       "</style>\n",
       "<table border=\"1\" class=\"dataframe\">\n",
       "  <thead>\n",
       "    <tr style=\"text-align: right;\">\n",
       "      <th></th>\n",
       "      <th>gameId</th>\n",
       "      <th>playId</th>\n",
       "      <th>x_starting</th>\n",
       "      <th>yardline_100</th>\n",
       "      <th>absoluteYardlineNumber</th>\n",
       "      <th>yardsToGo</th>\n",
       "      <th>yardline_first</th>\n",
       "    </tr>\n",
       "  </thead>\n",
       "  <tbody>\n",
       "    <tr>\n",
       "      <th>count</th>\n",
       "      <td>1.178000e+03</td>\n",
       "      <td>1178.000000</td>\n",
       "      <td>1178.000000</td>\n",
       "      <td>1178.000000</td>\n",
       "      <td>1178.000000</td>\n",
       "      <td>1178.00000</td>\n",
       "      <td>1178.000000</td>\n",
       "    </tr>\n",
       "    <tr>\n",
       "      <th>mean</th>\n",
       "      <td>2.018101e+09</td>\n",
       "      <td>2225.871817</td>\n",
       "      <td>60.517861</td>\n",
       "      <td>50.424448</td>\n",
       "      <td>60.424448</td>\n",
       "      <td>8.98472</td>\n",
       "      <td>50.475382</td>\n",
       "    </tr>\n",
       "    <tr>\n",
       "      <th>std</th>\n",
       "      <td>9.155019e+01</td>\n",
       "      <td>1259.344983</td>\n",
       "      <td>24.231146</td>\n",
       "      <td>23.759446</td>\n",
       "      <td>23.759446</td>\n",
       "      <td>3.80043</td>\n",
       "      <td>24.770652</td>\n",
       "    </tr>\n",
       "    <tr>\n",
       "      <th>min</th>\n",
       "      <td>2.018100e+09</td>\n",
       "      <td>51.000000</td>\n",
       "      <td>8.100000</td>\n",
       "      <td>1.000000</td>\n",
       "      <td>11.000000</td>\n",
       "      <td>1.00000</td>\n",
       "      <td>0.000000</td>\n",
       "    </tr>\n",
       "    <tr>\n",
       "      <th>25%</th>\n",
       "      <td>2.018101e+09</td>\n",
       "      <td>1149.750000</td>\n",
       "      <td>39.895000</td>\n",
       "      <td>31.000000</td>\n",
       "      <td>41.000000</td>\n",
       "      <td>7.00000</td>\n",
       "      <td>35.000000</td>\n",
       "    </tr>\n",
       "    <tr>\n",
       "      <th>50%</th>\n",
       "      <td>2.018101e+09</td>\n",
       "      <td>2242.500000</td>\n",
       "      <td>61.345000</td>\n",
       "      <td>51.000000</td>\n",
       "      <td>61.000000</td>\n",
       "      <td>10.00000</td>\n",
       "      <td>50.000000</td>\n",
       "    </tr>\n",
       "    <tr>\n",
       "      <th>75%</th>\n",
       "      <td>2.018101e+09</td>\n",
       "      <td>3288.000000</td>\n",
       "      <td>79.627500</td>\n",
       "      <td>69.000000</td>\n",
       "      <td>79.000000</td>\n",
       "      <td>10.00000</td>\n",
       "      <td>66.000000</td>\n",
       "    </tr>\n",
       "    <tr>\n",
       "      <th>max</th>\n",
       "      <td>2.018101e+09</td>\n",
       "      <td>4943.000000</td>\n",
       "      <td>113.640000</td>\n",
       "      <td>99.000000</td>\n",
       "      <td>109.000000</td>\n",
       "      <td>28.00000</td>\n",
       "      <td>100.000000</td>\n",
       "    </tr>\n",
       "  </tbody>\n",
       "</table>\n",
       "</div>"
      ],
      "text/plain": [
       "             gameId       playId   x_starting  yardline_100  \\\n",
       "count  1.178000e+03  1178.000000  1178.000000   1178.000000   \n",
       "mean   2.018101e+09  2225.871817    60.517861     50.424448   \n",
       "std    9.155019e+01  1259.344983    24.231146     23.759446   \n",
       "min    2.018100e+09    51.000000     8.100000      1.000000   \n",
       "25%    2.018101e+09  1149.750000    39.895000     31.000000   \n",
       "50%    2.018101e+09  2242.500000    61.345000     51.000000   \n",
       "75%    2.018101e+09  3288.000000    79.627500     69.000000   \n",
       "max    2.018101e+09  4943.000000   113.640000     99.000000   \n",
       "\n",
       "       absoluteYardlineNumber   yardsToGo  yardline_first  \n",
       "count             1178.000000  1178.00000     1178.000000  \n",
       "mean                60.424448     8.98472       50.475382  \n",
       "std                 23.759446     3.80043       24.770652  \n",
       "min                 11.000000     1.00000        0.000000  \n",
       "25%                 41.000000     7.00000       35.000000  \n",
       "50%                 61.000000    10.00000       50.000000  \n",
       "75%                 79.000000    10.00000       66.000000  \n",
       "max                109.000000    28.00000      100.000000  "
      ]
     },
     "execution_count": 27,
     "metadata": {},
     "output_type": "execute_result"
    }
   ],
   "source": [
    "# No null values in the dataframe, and  the yardline ranges are all reasonable.\n",
    "week_off.describe()"
   ]
  },
  {
   "cell_type": "code",
   "execution_count": 28,
   "metadata": {
    "collapsed": false,
    "pycharm": {
     "name": "#%%\n"
    }
   },
   "outputs": [],
   "source": [
    "# Merge main dataframe with dataframe containing the first down yardline.\n",
    "# Then extract which side offense is on.\n",
    "week_first = week_non_foot.merge(week_off[['gameId', 'playId', 'yardline_first']].drop_duplicates(), on=['gameId', 'playId'])\n",
    "week_first['off_pos'] = np.where(week_first['yardline_first'].gt(week_first['yardline_100']),\n",
    "                                 'left', 'right')"
   ]
  },
  {
   "cell_type": "code",
   "execution_count": 29,
   "metadata": {
    "collapsed": false,
    "pycharm": {
     "name": "#%%\n"
    }
   },
   "outputs": [
    {
     "data": {
      "text/plain": [
       "left     541714\n",
       "right    523821\n",
       "Name: off_pos, dtype: int64"
      ]
     },
     "execution_count": 29,
     "metadata": {},
     "output_type": "execute_result"
    }
   ],
   "source": [
    "# There is a roughly even split, which looks good.\n",
    "week_first['off_pos'].value_counts()"
   ]
  },
  {
   "cell_type": "code",
   "execution_count": 30,
   "metadata": {
    "collapsed": false,
    "pycharm": {
     "name": "#%%\n"
    }
   },
   "outputs": [],
   "source": [
    "# Adjust starting y coordinate because the perspective would change depending on the side.\n",
    "week_first['y_starting_dir'] = np.where(week_first['off_pos'] == 'right', week_first['y_starting'].rsub(53.3), week_first['y_starting'])"
   ]
  },
  {
   "cell_type": "code",
   "execution_count": 31,
   "metadata": {
    "collapsed": false,
    "pycharm": {
     "name": "#%%\n"
    }
   },
   "outputs": [
    {
     "data": {
      "text/plain": [
       "<AxesSubplot:xlabel='y_starting', ylabel='Count'>"
      ]
     },
     "execution_count": 31,
     "metadata": {},
     "output_type": "execute_result"
    },
    {
     "data": {
      "image/png": "[encoded data removed]",
      "text/plain": [
       "<Figure size 432x288 with 1 Axes>"
      ]
     },
     "metadata": {
      "needs_background": "light"
     },
     "output_type": "display_data"
    }
   ],
   "source": [
    "# Show distribution of starting y without adjustment. The values match up fairly well.\n",
    "sns.histplot(data=week_first, x='y_starting', bins=50, hue='off')"
   ]
  },
  {
   "cell_type": "code",
   "execution_count": 32,
   "metadata": {
    "collapsed": false,
    "pycharm": {
     "name": "#%%\n"
    }
   },
   "outputs": [
    {
     "data": {
      "text/plain": [
       "<AxesSubplot:xlabel='y_starting_dir', ylabel='Count'>"
      ]
     },
     "execution_count": 32,
     "metadata": {},
     "output_type": "execute_result"
    },
    {
     "data": {
      "image/png": "[encoded data removed]",
      "text/plain": [
       "<Figure size 432x288 with 1 Axes>"
      ]
     },
     "metadata": {
      "needs_background": "light"
     },
     "output_type": "display_data"
    }
   ],
   "source": [
    "# The positions match up slightly better although the distributions are fairly symmetrical.\n",
    "sns.histplot(data=week_first, x='y_starting_dir', bins=50, hue='off')"
   ]
  },
  {
   "cell_type": "code",
   "execution_count": 33,
   "metadata": {
    "collapsed": false,
    "pycharm": {
     "name": "#%%\n"
    }
   },
   "outputs": [],
   "source": [
    "def find_rank(df, col, reverse=False):\n",
    "    \"\"\"\n",
    "    Find the ranking of a series based on values.\n",
    "    :param df: Dataframe for ranking; pd.DataFrame\n",
    "    :param col: Column from dataframe to rank; str\n",
    "    :param reverse: Flag of whether to reverse rank direction; bool\n",
    "    :return: Array with rankings; np.array\n",
    "    \"\"\"\n",
    "    # Extract series and use arsort to find rankings.\n",
    "    ser = df[col]\n",
    "    temp = np.argsort(ser)\n",
    "\n",
    "    # Reverse direction based on flag.\n",
    "    if reverse:\n",
    "        temp = temp[::-1]\n",
    "\n",
    "    # Fill ranking array.\n",
    "    ranks = np.empty_like(temp)\n",
    "    ranks[temp] = np.arange(ser.shape[0])\n",
    "    return ranks"
   ]
  },
  {
   "cell_type": "code",
   "execution_count": 34,
   "metadata": {
    "collapsed": false,
    "pycharm": {
     "name": "#%%\n"
    }
   },
   "outputs": [],
   "source": [
    "# Find the order of positions based on offensive direction.\n",
    "# First, group and extract first value of the y starting position and direction.\n",
    "pos_start = (week_first\n",
    " .groupby(['gameId', 'playId', 'position', 'nflId'])\n",
    " [['y_starting_dir', 'off_pos']].first()\n",
    " .reset_index())\n",
    "\n",
    "# Next, group and extract ranking of positions based on whether team is home or away\n",
    "# and the starting position.\n",
    "pos_order = (pos_start.groupby(['gameId', 'playId', 'position'])\n",
    " .apply(lambda x: np.where(x['off_pos'] == 'right', find_rank(x, 'y_starting_dir'),find_rank(x, 'y_starting_dir')))\n",
    "             .explode()\n",
    "             .reset_index()\n",
    "             )\n",
    "\n",
    "# Add column with the position order to the df with indexed starting position.\n",
    "pos_start['pos_order'] = pos_order[0]"
   ]
  },
  {
   "cell_type": "code",
   "execution_count": 35,
   "metadata": {
    "collapsed": false,
    "pycharm": {
     "name": "#%%\n"
    }
   },
   "outputs": [],
   "source": [
    "# Concatenate position and position order to create unique position identifier.\n",
    "pos_start['pos_num'] = pos_start.apply(lambda x: x['position'] + str(x['pos_order']), axis=1)"
   ]
  },
  {
   "cell_type": "code",
   "execution_count": 36,
   "metadata": {
    "collapsed": false,
    "pycharm": {
     "name": "#%%\n"
    }
   },
   "outputs": [],
   "source": [
    "# Merge full dataframe with position number dataframe.\n",
    "week_pos = week_first.merge(pos_start[['gameId', 'playId', 'nflId', 'pos_num', 'pos_order']], on=['gameId', 'playId', 'nflId'])"
   ]
  },
  {
   "cell_type": "code",
   "execution_count": 37,
   "metadata": {
    "collapsed": false,
    "pycharm": {
     "name": "#%%\n"
    }
   },
   "outputs": [],
   "source": [
    "# Use regex to extract personnel from personnel column, and concatenate with main dataframe.\n",
    "week_pos_pers = pd.concat([week_pos, week_pos['personnelD'].str.extract(\n",
    "    '(?P<DL>\\d+) DL, (?P<LB>\\d+) LB, (?P<DB>\\d+) DB')], axis=1)"
   ]
  },
  {
   "cell_type": "code",
   "execution_count": 38,
   "metadata": {
    "collapsed": false,
    "pycharm": {
     "name": "#%%\n"
    }
   },
   "outputs": [],
   "source": [
    "# Find the position of each player relative to the line of scrimmage.\n",
    "week_pos_pers['x_behind_line'] = np.where(week_pos_pers['off_pos'] == 'right',\n",
    "                                     week_pos_pers['absoluteYardlineNumber'].sub(week_pos_pers['x']),\n",
    "                                     week_pos_pers['x'].sub(week_pos_pers['absoluteYardlineNumber']))"
   ]
  },
  {
   "cell_type": "code",
   "execution_count": 39,
   "metadata": {
    "collapsed": false,
    "pycharm": {
     "name": "#%%\n"
    }
   },
   "outputs": [
    {
     "data": {
      "text/plain": [
       "<AxesSubplot:xlabel='x_behind_line', ylabel='Count'>"
      ]
     },
     "execution_count": 39,
     "metadata": {},
     "output_type": "execute_result"
    },
    {
     "data": {
      "image/png": "[encoded data removed]",
      "text/plain": [
       "<Figure size 432x288 with 1 Axes>"
      ]
     },
     "metadata": {
      "needs_background": "light"
     },
     "output_type": "display_data"
    }
   ],
   "source": [
    "# Examine the x_behind_line column. The distributions seem to make sense,\n",
    "# as the distribution of the offensive position has a lower mean than the defensive position.\n",
    "sns.histplot(data=week_pos_pers, x='x_behind_line', bins=50, hue='off')"
   ]
  },
  {
   "cell_type": "code",
   "execution_count": 40,
   "metadata": {
    "collapsed": false,
    "pycharm": {
     "name": "#%%\n"
    }
   },
   "outputs": [],
   "source": [
    "# Extract the yardline for first down and line of scrimmage based on the\n",
    "# direction that the teams are facing.\n",
    "week_pos_pers['yardline_first_dir'] = np.where(week_pos_pers['off_pos'] == 'right',\n",
    "                                          week_pos_pers['yardline_first'],\n",
    "                                          week_pos_pers['yardline_first'].rsub(100))\n",
    "week_pos_pers['yardline_100_dir'] = np.where(week_pos_pers['off_pos'] == 'right',\n",
    "                                        week_pos_pers['yardline_100'],\n",
    "                                        week_pos_pers['yardline_100'].rsub(100))"
   ]
  },
  {
   "cell_type": "code",
   "execution_count": 41,
   "metadata": {
    "collapsed": false,
    "pycharm": {
     "name": "#%%\n"
    }
   },
   "outputs": [
    {
     "data": {
      "text/plain": [
       "count    1.065535e+06\n",
       "mean     4.223601e+01\n",
       "std      2.327340e+01\n",
       "min      0.000000e+00\n",
       "25%      2.300000e+01\n",
       "50%      4.400000e+01\n",
       "75%      6.500000e+01\n",
       "max      8.800000e+01\n",
       "Name: yardline_first_dir, dtype: float64"
      ]
     },
     "execution_count": 41,
     "metadata": {},
     "output_type": "execute_result"
    }
   ],
   "source": [
    "# Distribution of first yardline looks good. Range is within expected.\n",
    "week_pos_pers['yardline_first_dir'].describe()"
   ]
  },
  {
   "cell_type": "code",
   "execution_count": 42,
   "metadata": {
    "collapsed": false,
    "pycharm": {
     "name": "#%%\n"
    }
   },
   "outputs": [
    {
     "data": {
      "text/plain": [
       "count    1.065535e+06\n",
       "mean     5.134074e+01\n",
       "std      2.358213e+01\n",
       "min      1.000000e+00\n",
       "25%      3.300000e+01\n",
       "50%      5.400000e+01\n",
       "75%      7.200000e+01\n",
       "max      9.800000e+01\n",
       "Name: yardline_100_dir, dtype: float64"
      ]
     },
     "execution_count": 42,
     "metadata": {},
     "output_type": "execute_result"
    }
   ],
   "source": [
    "# Distribution of line of scrimmage also looks reasonable.\n",
    "week_pos_pers['yardline_100_dir'].describe()"
   ]
  },
  {
   "cell_type": "code",
   "execution_count": 43,
   "metadata": {
    "collapsed": false,
    "pycharm": {
     "name": "#%%\n"
    }
   },
   "outputs": [
    {
     "data": {
      "text/plain": [
       "True    1065535\n",
       "dtype: int64"
      ]
     },
     "execution_count": 43,
     "metadata": {},
     "output_type": "execute_result"
    }
   ],
   "source": [
    "# Check that all first downs are labelled as closer to touchdown than line of scrimmage. Looks good.\n",
    "week_pos_pers['yardline_first_dir'].lt(week_pos_pers['yardline_100_dir']).value_counts()"
   ]
  },
  {
   "cell_type": "code",
   "execution_count": 44,
   "metadata": {
    "collapsed": false,
    "pycharm": {
     "name": "#%%\n"
    }
   },
   "outputs": [],
   "source": [
    "# Add flag if a player has gone at least 1 yard past the line of scrimmage.\n",
    "week_pos_pers['exceeded_1yd'] = week_pos_pers.groupby(['gameId', 'playId', 'nflId'])['x_behind_line'].transform(lambda x: x.max() > 1)"
   ]
  },
  {
   "cell_type": "code",
   "execution_count": 45,
   "metadata": {
    "collapsed": false,
    "pycharm": {
     "name": "#%%\n"
    }
   },
   "outputs": [],
   "source": [
    "# Use whether player is on offense, whether the player is a QB or WR, and whether a player has\n",
    "# moved 1 yard beyond the line of scrimmage to determine if the player is a receiver.\n",
    "week_pos_pers['receiver'] = (week_pos_pers['off'] & (week_pos_pers['position'] != 'QB') &\n",
    "                            (week_pos_pers['exceeded_1yd'] | (week_pos_pers['position'] == 'WR')))"
   ]
  },
  {
   "cell_type": "code",
   "execution_count": 46,
   "metadata": {
    "collapsed": false,
    "pycharm": {
     "name": "#%%\n"
    }
   },
   "outputs": [
    {
     "data": {
      "text/plain": [
       "WR    212677\n",
       "TE     78006\n",
       "RB     51570\n",
       "FB      1739\n",
       "HB      1203\n",
       "Name: position, dtype: int64"
      ]
     },
     "execution_count": 46,
     "metadata": {},
     "output_type": "execute_result"
    }
   ],
   "source": [
    "# Check positions that are labelled as receivers. Everything looks good.\n",
    "week_pos_pers[week_pos_pers['receiver']]['position'].value_counts()"
   ]
  },
  {
   "cell_type": "code",
   "execution_count": 47,
   "metadata": {
    "collapsed": false,
    "pycharm": {
     "name": "#%%\n"
    }
   },
   "outputs": [
    {
     "data": {
      "text/plain": [
       "True     345195\n",
       "False    120716\n",
       "Name: receiver, dtype: int64"
      ]
     },
     "execution_count": 47,
     "metadata": {},
     "output_type": "execute_result"
    }
   ],
   "source": [
    "# Check value counts of players labelled receivers for offense.\n",
    "# Looks reasonable given positions tracked.\n",
    "week_pos_pers[week_pos_pers['off']]['receiver'].value_counts()"
   ]
  },
  {
   "cell_type": "code",
   "execution_count": 48,
   "metadata": {
    "collapsed": false,
    "pycharm": {
     "name": "#%%\n"
    }
   },
   "outputs": [],
   "source": [
    "# Save offensive and defensive numbered position lists.\n",
    "off_pos = week_pos_pers[week_pos_pers['off']]['pos_num'].unique()\n",
    "def_pos = week_pos_pers[~week_pos_pers['off']]['pos_num'].unique()"
   ]
  },
  {
   "cell_type": "code",
   "execution_count": 49,
   "metadata": {
    "collapsed": false,
    "pycharm": {
     "name": "#%%\n"
    }
   },
   "outputs": [],
   "source": [
    "# Adjust y to match direction of offense.\n",
    "week_pos_pers['y_dir'] = np.where(week_pos_pers['off_pos'] == 'right', week_pos_pers['y'].rsub(53.3), week_pos_pers['y'])"
   ]
  },
  {
   "cell_type": "code",
   "execution_count": 50,
   "metadata": {
    "collapsed": false,
    "pycharm": {
     "name": "#%%\n"
    }
   },
   "outputs": [],
   "source": [
    "# Next, determine minimum distances between each defensive player and receiver and qb.\n",
    "# Separate defensive and receiver dataframes.\n",
    "week_rec = week_pos_pers[week_pos_pers['receiver']]\n",
    "week_def = week_pos_pers[~week_pos_pers['off']]\n",
    "\n",
    "# Merge defensive with receiver dataframes on game, play, and time.\n",
    "week_def_rec = week_def.merge(week_rec[['gameId', 'playId', 'time_acc_s', 'x_behind_line', 'y_dir']],\n",
    "               on=['gameId', 'playId', 'time_acc_s'],\n",
    "               suffixes=['_def', '_rec'])\n",
    "\n",
    "# Find distance between each defensive player and each receiver.\n",
    "week_def_rec['dist'] = np.linalg.norm(week_def_rec[['x_behind_line_def', 'y_dir_def']].values -\n",
    "                                               week_def_rec[['x_behind_line_rec', 'y_dir_rec']].values, axis=1)\n",
    "\n",
    "# Group dataframe to obtain minimum distance.\n",
    "min_rec_dist = week_def_rec.groupby(['gameId', 'playId', 'time_acc_s', 'pos_num'])['dist'].min()\n",
    "min_rec_dist.name = 'min_dist_rec'\n",
    "\n",
    "# Separate QB dataframe\n",
    "week_qb = week_pos_pers[week_pos_pers['position'] == 'QB']\n",
    "\n",
    "# Merge defensive with QB dataframe.\n",
    "week_def_qb = week_def.merge(week_qb[['gameId', 'playId', 'time_acc_s', 'x_behind_line', 'y_dir']],\n",
    "                              on=['gameId', 'playId', 'time_acc_s'],\n",
    "                              suffixes=['_def', '_qb'])\n",
    "\n",
    "# Find distance to the QB.\n",
    "week_def_qb['dist'] = np.linalg.norm(week_def_qb[['x_behind_line_def', 'y_dir_def']].values -\n",
    "                                               week_def_qb[['x_behind_line_qb', 'y_dir_qb']].values, axis=1)\n",
    "\n",
    "# Group to form index and distance.\n",
    "min_qb_dist = week_def_qb.groupby(['gameId', 'playId', 'time_acc_s', 'pos_num'])['dist'].min()\n",
    "min_qb_dist.name = 'dist_qb'\n",
    "\n",
    "# Concatenate about the same index and reset the index.\n",
    "min_dist = pd.concat([min_rec_dist, min_qb_dist], axis=1).reset_index()"
   ]
  },
  {
   "cell_type": "code",
   "execution_count": 51,
   "metadata": {
    "collapsed": false,
    "pycharm": {
     "name": "#%%\n"
    }
   },
   "outputs": [
    {
     "data": {
      "text/html": [
       "<div>\n",
       "<style scoped>\n",
       "    .dataframe tbody tr th:only-of-type {\n",
       "        vertical-align: middle;\n",
       "    }\n",
       "\n",
       "    .dataframe tbody tr th {\n",
       "        vertical-align: top;\n",
       "    }\n",
       "\n",
       "    .dataframe thead th {\n",
       "        text-align: right;\n",
       "    }\n",
       "</style>\n",
       "<table border=\"1\" class=\"dataframe\">\n",
       "  <thead>\n",
       "    <tr style=\"text-align: right;\">\n",
       "      <th></th>\n",
       "      <th>min_dist_rec</th>\n",
       "      <th>dist_qb</th>\n",
       "    </tr>\n",
       "  </thead>\n",
       "  <tbody>\n",
       "    <tr>\n",
       "      <th>count</th>\n",
       "      <td>598841.000000</td>\n",
       "      <td>598211.000000</td>\n",
       "    </tr>\n",
       "    <tr>\n",
       "      <th>mean</th>\n",
       "      <td>6.885296</td>\n",
       "      <td>18.277110</td>\n",
       "    </tr>\n",
       "    <tr>\n",
       "      <th>std</th>\n",
       "      <td>5.217732</td>\n",
       "      <td>9.456557</td>\n",
       "    </tr>\n",
       "    <tr>\n",
       "      <th>min</th>\n",
       "      <td>0.000000</td>\n",
       "      <td>0.020000</td>\n",
       "    </tr>\n",
       "    <tr>\n",
       "      <th>25%</th>\n",
       "      <td>2.750509</td>\n",
       "      <td>10.961551</td>\n",
       "    </tr>\n",
       "    <tr>\n",
       "      <th>50%</th>\n",
       "      <td>5.750339</td>\n",
       "      <td>17.566619</td>\n",
       "    </tr>\n",
       "    <tr>\n",
       "      <th>75%</th>\n",
       "      <td>9.420536</td>\n",
       "      <td>23.844146</td>\n",
       "    </tr>\n",
       "    <tr>\n",
       "      <th>max</th>\n",
       "      <td>57.177426</td>\n",
       "      <td>83.560954</td>\n",
       "    </tr>\n",
       "  </tbody>\n",
       "</table>\n",
       "</div>"
      ],
      "text/plain": [
       "        min_dist_rec        dist_qb\n",
       "count  598841.000000  598211.000000\n",
       "mean        6.885296      18.277110\n",
       "std         5.217732       9.456557\n",
       "min         0.000000       0.020000\n",
       "25%         2.750509      10.961551\n",
       "50%         5.750339      17.566619\n",
       "75%         9.420536      23.844146\n",
       "max        57.177426      83.560954"
      ]
     },
     "execution_count": 51,
     "metadata": {},
     "output_type": "execute_result"
    }
   ],
   "source": [
    "# Check that the distances are in a reasonable range. The max value is a bit high, but might be on long plays.\n",
    "min_dist[['min_dist_rec', 'dist_qb']].describe()"
   ]
  },
  {
   "cell_type": "code",
   "execution_count": 52,
   "metadata": {
    "collapsed": false,
    "pycharm": {
     "name": "#%%\n"
    }
   },
   "outputs": [],
   "source": [
    "# Merge main dataframe with minimum distance dataframe.\n",
    "week_pos_full = week_pos_pers.merge(min_dist, on=['gameId', 'playId', 'time_acc_s', 'pos_num'], how='left')"
   ]
  },
  {
   "cell_type": "code",
   "execution_count": 53,
   "metadata": {
    "collapsed": false,
    "pycharm": {
     "name": "#%%\n"
    }
   },
   "outputs": [],
   "source": [
    "# Evaluate whether a receiver is closer than the qb.\n",
    "week_pos_full['rec_closer'] = week_pos_full['min_dist_rec'].lt(week_pos_full['dist_qb'])"
   ]
  },
  {
   "cell_type": "code",
   "execution_count": 54,
   "metadata": {
    "collapsed": false,
    "pycharm": {
     "name": "#%%\n"
    }
   },
   "outputs": [],
   "source": [
    "# Cut time accumulated into 10 deciles for each play in order to reduce the space. Can adjust number of cuts.\n",
    "n_cuts = 10\n",
    "time_quart = week_pos_full.groupby(['gameId', 'playId'])['time_acc_s'].agg(lambda x: np.nan if x.nunique() < n_cuts else\n",
    "                        pd.qcut(x.unique(), n_cuts, labels=range(1, n_cuts + 1), duplicates='drop')).explode().dropna()"
   ]
  },
  {
   "cell_type": "code",
   "execution_count": 55,
   "metadata": {
    "collapsed": false,
    "pycharm": {
     "name": "#%%\n"
    }
   },
   "outputs": [],
   "source": [
    "# Extract the time quartile index, as the quartiles do not include time accumulated in the index.\n",
    "time_quart_index = (week_pos_full[\n",
    "                        week_pos_pers.groupby(['gameId', 'playId'])['time_acc_s'].transform(lambda x: x.nunique() >= n_cuts)]\n",
    "                    .reset_index()\n",
    "                    .sort_values(['gameId', 'playId', 'time_acc_s'])\n",
    "                    [['gameId', 'playId', 'time_acc_s']].drop_duplicates())"
   ]
  },
  {
   "cell_type": "code",
   "execution_count": 56,
   "metadata": {
    "collapsed": false,
    "pycharm": {
     "name": "#%%\n"
    }
   },
   "outputs": [
    {
     "data": {
      "text/html": [
       "<div>\n",
       "<style scoped>\n",
       "    .dataframe tbody tr th:only-of-type {\n",
       "        vertical-align: middle;\n",
       "    }\n",
       "\n",
       "    .dataframe tbody tr th {\n",
       "        vertical-align: top;\n",
       "    }\n",
       "\n",
       "    .dataframe thead th {\n",
       "        text-align: right;\n",
       "    }\n",
       "</style>\n",
       "<table border=\"1\" class=\"dataframe\">\n",
       "  <thead>\n",
       "    <tr style=\"text-align: right;\">\n",
       "      <th></th>\n",
       "      <th>gameId</th>\n",
       "      <th>playId</th>\n",
       "      <th>time_acc_s</th>\n",
       "    </tr>\n",
       "  </thead>\n",
       "  <tbody>\n",
       "    <tr>\n",
       "      <th>0</th>\n",
       "      <td>2018100400</td>\n",
       "      <td>51</td>\n",
       "      <td>0.000</td>\n",
       "    </tr>\n",
       "    <tr>\n",
       "      <th>1</th>\n",
       "      <td>2018100400</td>\n",
       "      <td>51</td>\n",
       "      <td>0.099</td>\n",
       "    </tr>\n",
       "    <tr>\n",
       "      <th>2</th>\n",
       "      <td>2018100400</td>\n",
       "      <td>51</td>\n",
       "      <td>0.200</td>\n",
       "    </tr>\n",
       "    <tr>\n",
       "      <th>3</th>\n",
       "      <td>2018100400</td>\n",
       "      <td>51</td>\n",
       "      <td>0.300</td>\n",
       "    </tr>\n",
       "    <tr>\n",
       "      <th>4</th>\n",
       "      <td>2018100400</td>\n",
       "      <td>51</td>\n",
       "      <td>0.399</td>\n",
       "    </tr>\n",
       "  </tbody>\n",
       "</table>\n",
       "</div>"
      ],
      "text/plain": [
       "       gameId  playId  time_acc_s\n",
       "0  2018100400      51       0.000\n",
       "1  2018100400      51       0.099\n",
       "2  2018100400      51       0.200\n",
       "3  2018100400      51       0.300\n",
       "4  2018100400      51       0.399"
      ]
     },
     "execution_count": 56,
     "metadata": {},
     "output_type": "execute_result"
    }
   ],
   "source": [
    "time_quart_index.head()"
   ]
  },
  {
   "cell_type": "code",
   "execution_count": 57,
   "metadata": {
    "collapsed": false,
    "pycharm": {
     "name": "#%%\n"
    }
   },
   "outputs": [],
   "source": [
    "# Set time_quart column equal to time quartile values.\n",
    "time_quart_index['time_quart'] = time_quart.values"
   ]
  },
  {
   "cell_type": "code",
   "execution_count": 58,
   "metadata": {
    "collapsed": false,
    "pycharm": {
     "name": "#%%\n"
    }
   },
   "outputs": [],
   "source": [
    "# Merge dataframe with time quartiles to main dataframe.\n",
    "week_full_time = week_pos_full.merge(time_quart_index, on=['gameId', 'playId', 'time_acc_s'])"
   ]
  },
  {
   "cell_type": "code",
   "execution_count": 59,
   "metadata": {
    "collapsed": false,
    "pycharm": {
     "name": "#%%\n"
    }
   },
   "outputs": [
    {
     "data": {
      "text/plain": [
       "<AxesSubplot:xlabel='pos_num', ylabel='time_quart'>"
      ]
     },
     "execution_count": 59,
     "metadata": {},
     "output_type": "execute_result"
    },
    {
     "data": {
      "image/png": "[encoded data removed]",
      "text/plain": [
       "<Figure size 1440x720 with 2 Axes>"
      ]
     },
     "metadata": {
      "needs_background": "light"
     },
     "output_type": "display_data"
    }
   ],
   "source": [
    "# Check average time\n",
    "# Although all positions average closer to the receiver for each time decile,\n",
    "# the positional distribution seem to make sense, with cornerbacks and safeties\n",
    "# closest to the receivers.\n",
    "week_rec_closer = week_full_time[~week_full_time['off']].groupby(['gameId', 'playId', 'time_quart', 'pos_num'])['rec_closer'].mean().reset_index()\n",
    "rec_closer_def = week_rec_closer.groupby(['pos_num', 'time_quart'])['rec_closer'].mean().reset_index()\n",
    "fig, ax = plt.subplots(figsize=(20, 10))\n",
    "sns.heatmap(rec_closer_def.pivot_table(index='time_quart', columns='pos_num', values='rec_closer'), ax=ax)"
   ]
  },
  {
   "cell_type": "code",
   "execution_count": 60,
   "metadata": {
    "collapsed": false,
    "pycharm": {
     "name": "#%%\n"
    }
   },
   "outputs": [],
   "source": [
    "# Aggregate columns based on game, play, numbered position, and time quartile.\n",
    "def_full = week_full_time[~week_full_time['off'] & (week_full_time['position'] != 'TE')].groupby(['gameId', 'playId', 'pos_num', 'time_quart']).agg(\n",
    "    {'x_starting': 'first', 'y_starting': 'first',\n",
    "     'yardline_100_dir': 'first', 'yardline_first_dir': 'first',\n",
    "     'defendersInTheBox': 'first',\n",
    "     'numberOfPassRushers': 'first',\n",
    "     'DL': 'first', 'LB': 'first', 'DB': 'first',\n",
    "     'x_behind_line': 'mean', 'y_dir': 'mean', 'min_dist_rec': 'mean',\n",
    "     'dist_qb': 'mean', 'rec_closer': 'mean'}\n",
    ").reset_index()"
   ]
  },
  {
   "cell_type": "code",
   "execution_count": 61,
   "metadata": {
    "collapsed": false,
    "pycharm": {
     "name": "#%%\n"
    }
   },
   "outputs": [],
   "source": [
    "# Pivot table based on play.\n",
    "week_def_pivot = def_full.pivot_table(values=['rec_closer', 'dist_qb', 'min_dist_rec'],\n",
    "                                           index=['gameId', 'playId', 'DL', 'LB', 'DB',\n",
    "                                                  'yardline_first_dir', 'yardline_100_dir', 'defendersInTheBox',\n",
    "                                                  'numberOfPassRushers'],\n",
    "                                           columns=['pos_num', 'time_quart']).reset_index()"
   ]
  },
  {
   "cell_type": "code",
   "execution_count": 62,
   "metadata": {
    "collapsed": false,
    "pycharm": {
     "name": "#%%\n"
    }
   },
   "outputs": [
    {
     "data": {
      "text/plain": [
       "(1177, 789)"
      ]
     },
     "execution_count": 62,
     "metadata": {},
     "output_type": "execute_result"
    }
   ],
   "source": [
    "week_def_pivot.shape"
   ]
  },
  {
   "cell_type": "code",
   "execution_count": 63,
   "metadata": {
    "collapsed": false,
    "pycharm": {
     "name": "#%%\n"
    }
   },
   "outputs": [
    {
     "data": {
      "text/html": [
       "<div>\n",
       "<style scoped>\n",
       "    .dataframe tbody tr th:only-of-type {\n",
       "        vertical-align: middle;\n",
       "    }\n",
       "\n",
       "    .dataframe tbody tr th {\n",
       "        vertical-align: top;\n",
       "    }\n",
       "\n",
       "    .dataframe thead tr th {\n",
       "        text-align: left;\n",
       "    }\n",
       "</style>\n",
       "<table border=\"1\" class=\"dataframe\">\n",
       "  <thead>\n",
       "    <tr>\n",
       "      <th></th>\n",
       "      <th>gameId</th>\n",
       "      <th>playId</th>\n",
       "      <th>yardline_first_dir</th>\n",
       "      <th>yardline_100_dir</th>\n",
       "      <th>defendersInTheBox</th>\n",
       "      <th>numberOfPassRushers</th>\n",
       "      <th colspan=\"4\" halign=\"left\">dist_qb</th>\n",
       "      <th>...</th>\n",
       "      <th colspan=\"10\" halign=\"left\">rec_closer</th>\n",
       "    </tr>\n",
       "    <tr>\n",
       "      <th>pos_num</th>\n",
       "      <th></th>\n",
       "      <th></th>\n",
       "      <th></th>\n",
       "      <th></th>\n",
       "      <th></th>\n",
       "      <th></th>\n",
       "      <th colspan=\"4\" halign=\"left\">CB0</th>\n",
       "      <th>...</th>\n",
       "      <th colspan=\"10\" halign=\"left\">SS2</th>\n",
       "    </tr>\n",
       "    <tr>\n",
       "      <th>time_quart</th>\n",
       "      <th></th>\n",
       "      <th></th>\n",
       "      <th></th>\n",
       "      <th></th>\n",
       "      <th></th>\n",
       "      <th></th>\n",
       "      <th>1</th>\n",
       "      <th>2</th>\n",
       "      <th>3</th>\n",
       "      <th>4</th>\n",
       "      <th>...</th>\n",
       "      <th>1</th>\n",
       "      <th>2</th>\n",
       "      <th>3</th>\n",
       "      <th>4</th>\n",
       "      <th>5</th>\n",
       "      <th>6</th>\n",
       "      <th>7</th>\n",
       "      <th>8</th>\n",
       "      <th>9</th>\n",
       "      <th>10</th>\n",
       "    </tr>\n",
       "  </thead>\n",
       "  <tbody>\n",
       "    <tr>\n",
       "      <th>count</th>\n",
       "      <td>1.177000e+03</td>\n",
       "      <td>1177.000000</td>\n",
       "      <td>1177.000000</td>\n",
       "      <td>1177.000000</td>\n",
       "      <td>1177.000000</td>\n",
       "      <td>1177.000000</td>\n",
       "      <td>1172.000000</td>\n",
       "      <td>1172.000000</td>\n",
       "      <td>1172.000000</td>\n",
       "      <td>1172.000000</td>\n",
       "      <td>...</td>\n",
       "      <td>2.000000</td>\n",
       "      <td>2.000000</td>\n",
       "      <td>2.000000</td>\n",
       "      <td>2.000000</td>\n",
       "      <td>2.0</td>\n",
       "      <td>2.0</td>\n",
       "      <td>2.0</td>\n",
       "      <td>2.0</td>\n",
       "      <td>2.0</td>\n",
       "      <td>2.0</td>\n",
       "    </tr>\n",
       "    <tr>\n",
       "      <th>mean</th>\n",
       "      <td>2.018101e+09</td>\n",
       "      <td>2226.439252</td>\n",
       "      <td>41.813934</td>\n",
       "      <td>50.800340</td>\n",
       "      <td>6.041631</td>\n",
       "      <td>4.220901</td>\n",
       "      <td>17.135809</td>\n",
       "      <td>17.273135</td>\n",
       "      <td>18.002839</td>\n",
       "      <td>19.633944</td>\n",
       "      <td>...</td>\n",
       "      <td>0.500000</td>\n",
       "      <td>0.500000</td>\n",
       "      <td>0.500000</td>\n",
       "      <td>0.700000</td>\n",
       "      <td>1.0</td>\n",
       "      <td>1.0</td>\n",
       "      <td>1.0</td>\n",
       "      <td>1.0</td>\n",
       "      <td>1.0</td>\n",
       "      <td>1.0</td>\n",
       "    </tr>\n",
       "    <tr>\n",
       "      <th>std</th>\n",
       "      <td>9.158803e+01</td>\n",
       "      <td>1259.729640</td>\n",
       "      <td>23.356856</td>\n",
       "      <td>23.734001</td>\n",
       "      <td>1.024761</td>\n",
       "      <td>0.893365</td>\n",
       "      <td>4.504778</td>\n",
       "      <td>4.532743</td>\n",
       "      <td>4.684504</td>\n",
       "      <td>5.055270</td>\n",
       "      <td>...</td>\n",
       "      <td>0.707107</td>\n",
       "      <td>0.707107</td>\n",
       "      <td>0.707107</td>\n",
       "      <td>0.424264</td>\n",
       "      <td>0.0</td>\n",
       "      <td>0.0</td>\n",
       "      <td>0.0</td>\n",
       "      <td>0.0</td>\n",
       "      <td>0.0</td>\n",
       "      <td>0.0</td>\n",
       "    </tr>\n",
       "    <tr>\n",
       "      <th>min</th>\n",
       "      <td>2.018100e+09</td>\n",
       "      <td>51.000000</td>\n",
       "      <td>0.000000</td>\n",
       "      <td>1.000000</td>\n",
       "      <td>3.000000</td>\n",
       "      <td>0.000000</td>\n",
       "      <td>4.782981</td>\n",
       "      <td>5.458318</td>\n",
       "      <td>4.441673</td>\n",
       "      <td>1.679924</td>\n",
       "      <td>...</td>\n",
       "      <td>0.000000</td>\n",
       "      <td>0.000000</td>\n",
       "      <td>0.000000</td>\n",
       "      <td>0.400000</td>\n",
       "      <td>1.0</td>\n",
       "      <td>1.0</td>\n",
       "      <td>1.0</td>\n",
       "      <td>1.0</td>\n",
       "      <td>1.0</td>\n",
       "      <td>1.0</td>\n",
       "    </tr>\n",
       "    <tr>\n",
       "      <th>25%</th>\n",
       "      <td>2.018101e+09</td>\n",
       "      <td>1149.000000</td>\n",
       "      <td>23.000000</td>\n",
       "      <td>33.000000</td>\n",
       "      <td>5.000000</td>\n",
       "      <td>4.000000</td>\n",
       "      <td>13.912862</td>\n",
       "      <td>14.040520</td>\n",
       "      <td>14.810027</td>\n",
       "      <td>16.286338</td>\n",
       "      <td>...</td>\n",
       "      <td>0.250000</td>\n",
       "      <td>0.250000</td>\n",
       "      <td>0.250000</td>\n",
       "      <td>0.550000</td>\n",
       "      <td>1.0</td>\n",
       "      <td>1.0</td>\n",
       "      <td>1.0</td>\n",
       "      <td>1.0</td>\n",
       "      <td>1.0</td>\n",
       "      <td>1.0</td>\n",
       "    </tr>\n",
       "    <tr>\n",
       "      <th>50%</th>\n",
       "      <td>2.018101e+09</td>\n",
       "      <td>2245.000000</td>\n",
       "      <td>43.000000</td>\n",
       "      <td>53.000000</td>\n",
       "      <td>6.000000</td>\n",
       "      <td>4.000000</td>\n",
       "      <td>17.071885</td>\n",
       "      <td>17.242551</td>\n",
       "      <td>18.019012</td>\n",
       "      <td>19.558863</td>\n",
       "      <td>...</td>\n",
       "      <td>0.500000</td>\n",
       "      <td>0.500000</td>\n",
       "      <td>0.500000</td>\n",
       "      <td>0.700000</td>\n",
       "      <td>1.0</td>\n",
       "      <td>1.0</td>\n",
       "      <td>1.0</td>\n",
       "      <td>1.0</td>\n",
       "      <td>1.0</td>\n",
       "      <td>1.0</td>\n",
       "    </tr>\n",
       "    <tr>\n",
       "      <th>75%</th>\n",
       "      <td>2.018101e+09</td>\n",
       "      <td>3289.000000</td>\n",
       "      <td>64.000000</td>\n",
       "      <td>71.000000</td>\n",
       "      <td>7.000000</td>\n",
       "      <td>5.000000</td>\n",
       "      <td>20.694448</td>\n",
       "      <td>20.857338</td>\n",
       "      <td>21.662413</td>\n",
       "      <td>23.280438</td>\n",
       "      <td>...</td>\n",
       "      <td>0.750000</td>\n",
       "      <td>0.750000</td>\n",
       "      <td>0.750000</td>\n",
       "      <td>0.850000</td>\n",
       "      <td>1.0</td>\n",
       "      <td>1.0</td>\n",
       "      <td>1.0</td>\n",
       "      <td>1.0</td>\n",
       "      <td>1.0</td>\n",
       "      <td>1.0</td>\n",
       "    </tr>\n",
       "    <tr>\n",
       "      <th>max</th>\n",
       "      <td>2.018101e+09</td>\n",
       "      <td>4943.000000</td>\n",
       "      <td>88.000000</td>\n",
       "      <td>98.000000</td>\n",
       "      <td>11.000000</td>\n",
       "      <td>8.000000</td>\n",
       "      <td>42.902768</td>\n",
       "      <td>42.455868</td>\n",
       "      <td>43.927885</td>\n",
       "      <td>46.069918</td>\n",
       "      <td>...</td>\n",
       "      <td>1.000000</td>\n",
       "      <td>1.000000</td>\n",
       "      <td>1.000000</td>\n",
       "      <td>1.000000</td>\n",
       "      <td>1.0</td>\n",
       "      <td>1.0</td>\n",
       "      <td>1.0</td>\n",
       "      <td>1.0</td>\n",
       "      <td>1.0</td>\n",
       "      <td>1.0</td>\n",
       "    </tr>\n",
       "  </tbody>\n",
       "</table>\n",
       "<p>8 rows × 786 columns</p>\n",
       "</div>"
      ],
      "text/plain": [
       "                  gameId       playId yardline_first_dir yardline_100_dir  \\\n",
       "pos_num                                                                     \n",
       "time_quart                                                                  \n",
       "count       1.177000e+03  1177.000000        1177.000000      1177.000000   \n",
       "mean        2.018101e+09  2226.439252          41.813934        50.800340   \n",
       "std         9.158803e+01  1259.729640          23.356856        23.734001   \n",
       "min         2.018100e+09    51.000000           0.000000         1.000000   \n",
       "25%         2.018101e+09  1149.000000          23.000000        33.000000   \n",
       "50%         2.018101e+09  2245.000000          43.000000        53.000000   \n",
       "75%         2.018101e+09  3289.000000          64.000000        71.000000   \n",
       "max         2.018101e+09  4943.000000          88.000000        98.000000   \n",
       "\n",
       "           defendersInTheBox numberOfPassRushers      dist_qb               \\\n",
       "pos_num                                                   CB0                \n",
       "time_quart                                                  1            2   \n",
       "count            1177.000000         1177.000000  1172.000000  1172.000000   \n",
       "mean                6.041631            4.220901    17.135809    17.273135   \n",
       "std                 1.024761            0.893365     4.504778     4.532743   \n",
       "min                 3.000000            0.000000     4.782981     5.458318   \n",
       "25%                 5.000000            4.000000    13.912862    14.040520   \n",
       "50%                 6.000000            4.000000    17.071885    17.242551   \n",
       "75%                 7.000000            5.000000    20.694448    20.857338   \n",
       "max                11.000000            8.000000    42.902768    42.455868   \n",
       "\n",
       "                                      ... rec_closer                      \\\n",
       "pos_num                               ...        SS2                       \n",
       "time_quart            3            4  ...          1         2         3   \n",
       "count       1172.000000  1172.000000  ...   2.000000  2.000000  2.000000   \n",
       "mean          18.002839    19.633944  ...   0.500000  0.500000  0.500000   \n",
       "std            4.684504     5.055270  ...   0.707107  0.707107  0.707107   \n",
       "min            4.441673     1.679924  ...   0.000000  0.000000  0.000000   \n",
       "25%           14.810027    16.286338  ...   0.250000  0.250000  0.250000   \n",
       "50%           18.019012    19.558863  ...   0.500000  0.500000  0.500000   \n",
       "75%           21.662413    23.280438  ...   0.750000  0.750000  0.750000   \n",
       "max           43.927885    46.069918  ...   1.000000  1.000000  1.000000   \n",
       "\n",
       "                                                    \n",
       "pos_num                                             \n",
       "time_quart         4    5    6    7    8    9   10  \n",
       "count       2.000000  2.0  2.0  2.0  2.0  2.0  2.0  \n",
       "mean        0.700000  1.0  1.0  1.0  1.0  1.0  1.0  \n",
       "std         0.424264  0.0  0.0  0.0  0.0  0.0  0.0  \n",
       "min         0.400000  1.0  1.0  1.0  1.0  1.0  1.0  \n",
       "25%         0.550000  1.0  1.0  1.0  1.0  1.0  1.0  \n",
       "50%         0.700000  1.0  1.0  1.0  1.0  1.0  1.0  \n",
       "75%         0.850000  1.0  1.0  1.0  1.0  1.0  1.0  \n",
       "max         1.000000  1.0  1.0  1.0  1.0  1.0  1.0  \n",
       "\n",
       "[8 rows x 786 columns]"
      ]
     },
     "execution_count": 63,
     "metadata": {},
     "output_type": "execute_result"
    }
   ],
   "source": [
    "# All of the index columns are full and do not have null values. Need to fill the null values in\n",
    "# receiver columns with fill value.\n",
    "week_def_pivot.describe()"
   ]
  },
  {
   "cell_type": "code",
   "execution_count": null,
   "metadata": {
    "collapsed": false,
    "pycharm": {
     "name": "#%%\n"
    }
   },
   "outputs": [],
   "source": []
  }
 ],
 "metadata": {
  "kernelspec": {
   "display_name": "Python 3",
   "language": "python",
   "name": "python3"
  },
  "language_info": {
   "codemirror_mode": {
    "name": "ipython",
    "version": 3
   },
   "file_extension": ".py",
   "mimetype": "text/x-python",
   "name": "python",
   "nbconvert_exporter": "python",
   "pygments_lexer": "ipython3",
   "version": "3.8.5"
  }
 },
 "nbformat": 4,
 "nbformat_minor": 0
}
